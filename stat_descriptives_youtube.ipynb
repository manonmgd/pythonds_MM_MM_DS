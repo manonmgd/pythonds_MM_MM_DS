{
 "cells": [
  {
   "cell_type": "markdown",
   "metadata": {},
   "source": [
    "**On cherche si des livres et auteurs de nos bases de données de livres sont mentionnés dans des vidéos de nos bases de données youtube. Pour cela, on étudie les description de ces vidéos youtube.**"
   ]
  },
  {
   "cell_type": "markdown",
   "metadata": {},
   "source": [
    "# 1 Recherche des titres de livres dans les descriptions de vidéos youtube"
   ]
  },
  {
   "cell_type": "code",
   "execution_count": 93,
   "metadata": {},
   "outputs": [],
   "source": [
    "#On importe la bibliothèque pandas\n",
    "import pandas as pd\n",
    "import matplotlib.pyplot as plt\n",
    "\n",
    "def livre_dans_description(livre,youtube):\n",
    "    #On charge les tables dont on a besoin\",\n",
    "    books_data = pd.read_csv(f\"{livre}.csv\", encoding=\"utf-8\")\n",
    "    youtube_data = pd.read_csv(f\"{youtube}.csv\", encoding=\"utf-8\")\n",
    "    print(\"Livres de la base de données \"f'{livre}.csv'\" dans la description youtube de vidéos de la base de données \"f'{youtube}.csv')\n",
    "    # On convertie la colonne 'description' en type string\n",
    "    youtube_data['description'] = youtube_data['description'].astype(str)\n",
    "    # On initialise une nouvelle liste pour stocker les résultats\n",
    "    result = []\n",
    "    # On itére sur chaque liste de la colonne 'Titre' de books_data\n",
    "    for index1, row1 in books_data.iterrows():\n",
    "        count_list = []  # Liste pour stocker les résultats de cette ligne\n",
    "        # On itére sur chaque liste de la colonne 'description' de youtube_data\n",
    "        for index2, row2 in youtube_data.iterrows():\n",
    "            # On vérifie si la liste de books_data (row1['Titre']) est une sous-liste de la liste de youtube_data (row2['description'])\n",
    "            if row1['Titre'] in row2['description']:\n",
    "                count_list.append(1)  # Si elle est incluse, compter une occurrence\n",
    "            else:\n",
    "                count_list.append(0)  # Sinon, aucune occurrence\n",
    "        # On ajoute la liste des Titres de books_data et la somme des occurrences\n",
    "        result.append([row1['Titre'], row1['Auteur'], sum(count_list)])\n",
    "    # On crée la nouvelle DataFrame contenant les résultats\n",
    "    colonnes=['Titres','Auteurs','Occurrences dans les descriptions des vidéos']\n",
    "    result_df = pd.DataFrame(result, columns = colonnes )\n",
    "    # On filtre les lignes où 'Occurrences dans les descriptions des vidéos' est différente de 0 (On ne s'intéresse qu'aux livres cités au moins une fois)\n",
    "    filtered_df = result_df[result_df['Occurrences dans les descriptions des vidéos'] != 0]\n",
    "    # On affiche le DataFrame filtré\n",
    "    return filtered_df\n",
    "\n",
    "def livre_dans_description2(livre,youtube):\n",
    "    #On charge les tables dont on a besoin\",\n",
    "    books_data = pd.read_csv(f\"{livre}.csv\", encoding=\"utf-8\")\n",
    "    youtube_data = pd.read_csv(f\"{youtube}.csv\", encoding=\"utf-8\")\n",
    "    print(\"Livres de la base de données \"f'{livre}.csv'\" dans la description youtube de vidéos de la base de données \"f'{youtube}.csv')\n",
    "    # On convertie la colonne 'description' en type string\n",
    "    youtube_data['description'] = youtube_data['description'].astype(str)\n",
    "    # On initialise une nouvelle liste pour stocker les résultats\n",
    "    result = []\n",
    "    # On itére sur chaque liste de la colonne 'titre' de books_data\n",
    "    for index1, row1 in books_data.iterrows():\n",
    "        count_list = []  # Liste pour stocker les résultats de cette ligne\n",
    "        # On itére sur chaque liste de la colonne 'description' de youtube_data\n",
    "        for index2, row2 in youtube_data.iterrows():\n",
    "            # On vérifie si la liste de books_data (row1['titre']) est une sous-liste de la liste de youtube_data (row2['description'])\n",
    "            if row1['titre'] in row2['description']:\n",
    "                count_list.append(1)  # Si elle est incluse, compter une occurrence\n",
    "            else:\n",
    "                count_list.append(0)  # Sinon, aucune occurrence\n",
    "        # On ajoute la liste des titres de books_data et la somme des occurrences\n",
    "        result.append([row1['titre'], row1['auteur'], sum(count_list)])\n",
    "    # On crée la nouvelle DataFrame contenant les résultats\n",
    "    colonnes=['Titres','Auteurs','Occurrences dans les descriptions des vidéos']\n",
    "    result_df = pd.DataFrame(result, columns = colonnes )\n",
    "    # On filtre les lignes où 'Occurrences dans les descriptions des vidéos' est différente de 0 (On ne s'intéresse qu'aux livres cités au moins une fois)\n",
    "    filtered_df = result_df[result_df['Occurrences dans les descriptions des vidéos'] != 0]\n",
    "    # On affiche le DataFrame filtré\n",
    "    return filtered_df"
   ]
  },
  {
   "cell_type": "markdown",
   "metadata": {},
   "source": [
    "## 1.1 Recherche des titres de livre dans la base de données youtube_livre_2019_2023.csv"
   ]
  },
  {
   "cell_type": "markdown",
   "metadata": {},
   "source": [
    "### 1.1.1 Recherche des titres de livre de la base de données 23_livres_les_plus_lus_babelio.csv"
   ]
  },
  {
   "cell_type": "code",
   "execution_count": null,
   "metadata": {},
   "outputs": [],
   "source": [
    "livre_dans_description('23_livres_les_plus_lus_babelio','youtube_livre_2019_2023')"
   ]
  },
  {
   "cell_type": "markdown",
   "metadata": {},
   "source": [
    "Il n'y a aucun livre de cette base de données mentionné."
   ]
  },
  {
   "cell_type": "markdown",
   "metadata": {},
   "source": [
    "### 1.1.2 Recherche des titres de livre de la base de données best_sellers_fnac_2023_cleaned.csv"
   ]
  },
  {
   "cell_type": "code",
   "execution_count": null,
   "metadata": {},
   "outputs": [],
   "source": [
    "livre_dans_description('best_sellers_fnac_2023_cleaned','youtube_livre_2019_2023')"
   ]
  },
  {
   "cell_type": "markdown",
   "metadata": {},
   "source": [
    "Il n'y a aucun livre de cette base de données mentionné."
   ]
  },
  {
   "cell_type": "markdown",
   "metadata": {},
   "source": [
    "### 1.1.3 Recherche des titres de livre de la base de données livres_les_plus_empruntes_a_paris.csv"
   ]
  },
  {
   "cell_type": "code",
   "execution_count": null,
   "metadata": {},
   "outputs": [],
   "source": [
    "livre_dans_description2('livres_les_plus_empruntes_a_paris','youtube_livre_2019_2023')"
   ]
  },
  {
   "cell_type": "markdown",
   "metadata": {},
   "source": [
    "Il n'y a aucun livre de cette base de données mentionné."
   ]
  },
  {
   "cell_type": "markdown",
   "metadata": {},
   "source": [
    "### 1.1.4 Recherche des titres de livre de la base de données livraddict_prix_2024.csv"
   ]
  },
  {
   "cell_type": "code",
   "execution_count": null,
   "metadata": {},
   "outputs": [],
   "source": [
    "livre_dans_description('livraddict_prix_2024','youtube_livre_2019_2023')"
   ]
  },
  {
   "cell_type": "markdown",
   "metadata": {},
   "source": [
    "**Le livre *Babel* de R. F. Kuang est cité dans une description de vidéo youtube.** Ce livre qui est un des livres les mieux notés par les utilisateurs de livraddict parmi les livres sortis en 2023, est dans une description vidéo."
   ]
  },
  {
   "cell_type": "markdown",
   "metadata": {},
   "source": [
    "### 1.1.5 Recherche des titres de livre de la base de données prix_litteraires.csv"
   ]
  },
  {
   "cell_type": "code",
   "execution_count": null,
   "metadata": {},
   "outputs": [],
   "source": [
    "livre_dans_description('prix_litteraires','youtube_livre_2019_2023')"
   ]
  },
  {
   "cell_type": "markdown",
   "metadata": {},
   "source": [
    "**Le livre *À la ligne* de Joseph Ponthus est cité dans une description de vidéo youtube.** Un livre qui a reçu un prix littéraire entre 2019 et 2023 est dans une description vidéo."
   ]
  },
  {
   "cell_type": "markdown",
   "metadata": {},
   "source": [
    "### 1.1.6 Recherche des titres de livre de la base de données Base_finale.csv"
   ]
  },
  {
   "cell_type": "code",
   "execution_count": null,
   "metadata": {},
   "outputs": [],
   "source": [
    "livre_dans_description('Base_finale','youtube_livre_2019_2023')"
   ]
  },
  {
   "cell_type": "markdown",
   "metadata": {},
   "source": [
    "Il n'y a aucun livre de cette base de données mentionné."
   ]
  },
  {
   "cell_type": "markdown",
   "metadata": {},
   "source": [
    "## 1.2 Recherche des titres de livre dans la base de données youtube_nouveauté_livre_2023.csv"
   ]
  },
  {
   "cell_type": "markdown",
   "metadata": {},
   "source": [
    "### 1.2.1 Recherche des titres de livre de la base de données 23_livres_les_plus_lus_babelio.csv"
   ]
  },
  {
   "cell_type": "code",
   "execution_count": null,
   "metadata": {},
   "outputs": [],
   "source": [
    "livre_dans_description('23_livres_les_plus_lus_babelio','youtube_nouveauté_livre_2023')"
   ]
  },
  {
   "cell_type": "markdown",
   "metadata": {},
   "source": [
    "**Les livres *Troies vies par semaine* de Michel Bussi et *Veiller sur elle* de Jean-Baptiste Andrea sont cités dans une description de vidéo youtube.** Deux livres des 23 livres les plus lus sur Babelio sont chacun dans la description d'une vidéo youtube."
   ]
  },
  {
   "cell_type": "markdown",
   "metadata": {},
   "source": [
    "### 1.2.2 Recherche des titres de livre de la base de données best_sellers_fnac_2023_cleaned.csv"
   ]
  },
  {
   "cell_type": "code",
   "execution_count": null,
   "metadata": {},
   "outputs": [],
   "source": [
    "livre_dans_description('best_sellers_fnac_2023_cleaned','youtube_nouveauté_livre_2023')"
   ]
  },
  {
   "cell_type": "markdown",
   "metadata": {},
   "source": [
    "**Les livres *Troies vies par semaine* de Michel Bussi et *Veiller sur elle* de Jean-Baptiste Andrea sont cités dans une description de vidéo youtube.** Deux livres des best sellers de la Fnac en 2023 sont chacun dans la description d'une vidéo youtube."
   ]
  },
  {
   "cell_type": "markdown",
   "metadata": {},
   "source": [
    "### 1.2.3 Recherche des titres de livre de la base de données 'livres_les_plus_empruntes_a_paris.csv"
   ]
  },
  {
   "cell_type": "code",
   "execution_count": null,
   "metadata": {},
   "outputs": [],
   "source": [
    "livre_dans_description2('livres_les_plus_empruntes_a_paris','youtube_nouveauté_livre_2023')"
   ]
  },
  {
   "cell_type": "markdown",
   "metadata": {},
   "source": [
    "Il n'y a aucun livre de cette base de données mentionné."
   ]
  },
  {
   "cell_type": "markdown",
   "metadata": {},
   "source": [
    "### 1.2.4 Recherche des titres de livre de la base de données livraddict_prix_2024.csv"
   ]
  },
  {
   "cell_type": "code",
   "execution_count": null,
   "metadata": {},
   "outputs": [],
   "source": [
    "livre_dans_description('livraddict_prix_2024','youtube_nouveauté_livre_2023')"
   ]
  },
  {
   "cell_type": "markdown",
   "metadata": {},
   "source": [
    "Il n'y a aucun livre de cette base de données mentionné."
   ]
  },
  {
   "cell_type": "markdown",
   "metadata": {},
   "source": [
    "### 1.2.5 Recherche des titres de livre de la base de données prix_litteraires.csv"
   ]
  },
  {
   "cell_type": "code",
   "execution_count": null,
   "metadata": {},
   "outputs": [],
   "source": [
    "livre_dans_description('prix_litteraires','youtube_nouveauté_livre_2023')"
   ]
  },
  {
   "cell_type": "markdown",
   "metadata": {},
   "source": [
    "**Le livre *Veiller sur elle* de Jean-Baptiste Andrea est cité dans une description de vidéo youtube.** Un livre qui a obtenu un prix littéraire entre 2019 et 2023 est dans une description vidéo."
   ]
  },
  {
   "cell_type": "markdown",
   "metadata": {},
   "source": [
    "### 1.2.6 Recherche des titres de livre de la base de données Base_finale.csv"
   ]
  },
  {
   "cell_type": "code",
   "execution_count": null,
   "metadata": {},
   "outputs": [],
   "source": [
    "livre_dans_description('Base_finale','youtube_nouveauté_livre_2023')"
   ]
  },
  {
   "cell_type": "markdown",
   "metadata": {},
   "source": [
    "**Les livres *Le culte* de Camilla Läckberg et Henrik Fexeus, *Otages* de Nina Bouraoui, *Performance* de Simon Liberati et *Révolution* de Florent Grouazel apparaissent chacun dans une description youtube.** "
   ]
  },
  {
   "cell_type": "markdown",
   "metadata": {},
   "source": [
    "# 2 Recherche des auteurs de livres dans les descriptions de vidéos youtube"
   ]
  },
  {
   "cell_type": "code",
   "execution_count": 89,
   "metadata": {},
   "outputs": [],
   "source": [
    "#On importe la bibliothèque pandas\n",
    "import pandas as pd\n",
    "import matplotlib.pyplot as plt\n",
    "\n",
    "def auteur_dans_description(livre,youtube):\n",
    "    #On charge les tables dont on a besoin\",\n",
    "    books_data = pd.read_csv(f\"{livre}.csv\", encoding=\"utf-8\")\n",
    "    youtube_data = pd.read_csv(f\"{youtube}.csv\", encoding=\"utf-8\")\n",
    "    print(\"Auteurs de livre de la base de données \"f'{livre}.csv'\" dans la description youtube de vidéos de \"f'{youtube}.csv')\n",
    "    # On convertie la colonne 'description' et 'Auteur' en type string\n",
    "    youtube_data['description'] = youtube_data['description'].astype(str)\n",
    "    books_data['Auteur'] = books_data['Auteur'].astype(str)\n",
    "    # On initialise une nouvelle liste pour stocker les résultats\n",
    "    result = []\n",
    "    # On itére sur chaque liste de la colonne 'Auteur' de books_data\n",
    "    for index1, row1 in books_data.iterrows():\n",
    "        count_list = []  # Liste pour stocker les résultats de cette ligne\n",
    "        # On itére sur chaque liste de la colonne 'description' de youtube_data\n",
    "        for index2, row2 in youtube_data.iterrows():\n",
    "            # On vérifie si la liste de books_data (row1['Auteur']) est une sous-liste de la liste de youtube_data (row2['description'])\n",
    "            if row1['Auteur'] in row2['description']:\n",
    "                count_list.append(1)  # Si elle est incluse, compter une occurrence\n",
    "            else:\n",
    "                count_list.append(0)  # Sinon, aucune occurrence\n",
    "        # On ajoute la liste des Auteurs de books_data et la somme des occurrences\n",
    "        result.append([row1['Auteur'], sum(count_list)])\n",
    "    # On crée la nouvelle DataFrame contenant les résultats\n",
    "    colonnes=['Auteurs', 'Occurrences dans les descriptions des vidéos']\n",
    "    result_df = pd.DataFrame(result, columns = colonnes )\n",
    "    # On filtre les lignes où 'Occurrences dans les descriptions des vidéos' est différente de 0 (On ne s'intéresse qu'aux livres cités au moins une fois)\n",
    "    filtered_df = result_df[result_df['Occurrences dans les descriptions des vidéos'] != 0]\n",
    "    # On affiche le DataFrame filtré\n",
    "    return filtered_df\n",
    "\n",
    "def auteur_dans_description2(livre,youtube):\n",
    "    #On charge les tables dont on a besoin\",\n",
    "    books_data = pd.read_csv(f\"{livre}.csv\", encoding=\"utf-8\")\n",
    "    youtube_data = pd.read_csv(f\"{youtube}.csv\", encoding=\"utf-8\")\n",
    "    print(\"Auteurs de livre de la base de données \"f'{livre}.csv'\" dans la description youtube de vidéos de \"f'{youtube}.csv')\n",
    "    # On convertie la colonne 'description' et 'auteur' en type string\n",
    "    youtube_data['description'] = youtube_data['description'].astype(str)\n",
    "    books_data['auteur'] = books_data['auteur'].astype(str)\n",
    "    # On initialise une nouvelle liste pour stocker les résultats\n",
    "    result = []\n",
    "    # On itére sur chaque liste de la colonne 'Auteur' de books_data\n",
    "    for index1, row1 in books_data.iterrows():\n",
    "        count_list = []  # Liste pour stocker les résultats de cette ligne\n",
    "        # On itére sur chaque liste de la colonne 'description' de youtube_data\n",
    "        for index2, row2 in youtube_data.iterrows():\n",
    "            # On vérifie si la liste de books_data (row1['auteur']) est une sous-liste de la liste de youtube_data (row2['description'])\n",
    "            if row1['auteur'] in row2['description']:\n",
    "                count_list.append(1)  # Si elle est incluse, compter une occurrence\n",
    "            else:\n",
    "                count_list.append(0)  # Sinon, aucune occurrence\n",
    "        # On ajoute la liste des auteurs de books_data et la somme des occurrences\n",
    "        result.append([row1['auteur'], sum(count_list)])\n",
    "    # On crée la nouvelle DataFrame contenant les résultats\n",
    "    colonnes=['Auteurs', 'Occurrences dans les descriptions des vidéos']\n",
    "    result_df = pd.DataFrame(result, columns = colonnes )\n",
    "    # On filtre les lignes où 'Occurrences dans les descriptions des vidéos' est différente de 0 (On ne s'intéresse qu'aux livres cités au moins une fois)\n",
    "    filtered_df = result_df[result_df['Occurrences dans les descriptions des vidéos'] != 0]\n",
    "    # On affiche le DataFrame filtré\n",
    "    return filtered_df"
   ]
  },
  {
   "cell_type": "markdown",
   "metadata": {},
   "source": [
    "## 2.1 Recherche des auteurs de livre dans la base de données youtube_livre_2019_2023.csv"
   ]
  },
  {
   "cell_type": "markdown",
   "metadata": {},
   "source": [
    "### 2.1.1 Recherche des auteurs de livre de la base de données 23_livres_les_plus_lus_babelio.csv\n"
   ]
  },
  {
   "cell_type": "code",
   "execution_count": null,
   "metadata": {},
   "outputs": [],
   "source": [
    "auteur_dans_description('23_livres_les_plus_lus_babelio','youtube_livre_2019_2023')"
   ]
  },
  {
   "cell_type": "markdown",
   "metadata": {},
   "source": [
    "Il n'y a aucun auteur de cette base de données mentionné."
   ]
  },
  {
   "cell_type": "markdown",
   "metadata": {},
   "source": [
    "### 2.1.2 Recherche des auteurs de livre de la base de données best_sellers_fnac_2023_cleaned.csv\n"
   ]
  },
  {
   "cell_type": "code",
   "execution_count": null,
   "metadata": {},
   "outputs": [],
   "source": [
    "auteur_dans_description('best_sellers_fnac_2023_cleaned','youtube_livre_2019_2023')"
   ]
  },
  {
   "cell_type": "markdown",
   "metadata": {},
   "source": [
    "**L'auteur Léo qui a écrit en 2023 un best_sellers de la Fnac apparaît dans la description youtube d'une vidéo.**"
   ]
  },
  {
   "cell_type": "markdown",
   "metadata": {},
   "source": [
    "### 2.1.3 Recherche des auteurs de livre de la base de données livres_les_plus_empruntes_a_paris.csv\n"
   ]
  },
  {
   "cell_type": "code",
   "execution_count": null,
   "metadata": {},
   "outputs": [],
   "source": [
    "auteur_dans_description2('livres_les_plus_empruntes_a_paris','youtube_livre_2019_2023')"
   ]
  },
  {
   "cell_type": "markdown",
   "metadata": {},
   "source": [
    "\"nan\" n'est pas un auteur mais simplement la dénomination utilisée dans la base de données lorsqu'on connaît pas l'auteur. Donc il n'y a aucun auteur de cette base de données mentionné."
   ]
  },
  {
   "cell_type": "markdown",
   "metadata": {},
   "source": [
    "### 2.1.4 Recherche des auteurs de livre de la base de données livraddict_prix_2024.csv\n"
   ]
  },
  {
   "cell_type": "code",
   "execution_count": null,
   "metadata": {},
   "outputs": [],
   "source": [
    "auteur_dans_description('livraddict_prix_2024','youtube_livre_2019_2023')"
   ]
  },
  {
   "cell_type": "markdown",
   "metadata": {},
   "source": [
    "Il n'y a aucun auteur de cette base de données mentionné."
   ]
  },
  {
   "cell_type": "markdown",
   "metadata": {},
   "source": [
    "### 2.1.5 Recherche des auteurs de livre de la base de données prix_litteraires.csv"
   ]
  },
  {
   "cell_type": "code",
   "execution_count": null,
   "metadata": {},
   "outputs": [],
   "source": [
    "auteur_dans_description('prix_litteraires','youtube_livre_2019_2023')"
   ]
  },
  {
   "cell_type": "markdown",
   "metadata": {},
   "source": [
    "**L'auteur Joseph Ponthus qui a obtenu un prix littéraires pour un livre apparaît dans la description youtube d'une vidéo.**"
   ]
  },
  {
   "cell_type": "markdown",
   "metadata": {},
   "source": [
    "### 2.1.6 Recherche des auteurs de livre de la base de données Base_finale.csv"
   ]
  },
  {
   "cell_type": "code",
   "execution_count": null,
   "metadata": {},
   "outputs": [],
   "source": [
    "auteur_dans_description('Base_finale','youtube_livre_2019_2023')"
   ]
  },
  {
   "cell_type": "markdown",
   "metadata": {},
   "source": [
    "**Les auteurs Léo et Joseph Ponthus apparaissent chacun dans une description de vidéo youtube.** \"nan\" n'est pas un auteur mais simplement la dénomination utilisée dans la base de données lorsqu'on connaît pas l'auteur. Donc il n'y a aucun auteur de cette base de données mentionné."
   ]
  },
  {
   "cell_type": "markdown",
   "metadata": {},
   "source": [
    "## 2.2 Recherche des auteurs de livre dans la base de données youtube_nouveauté_livre_2023.csv"
   ]
  },
  {
   "cell_type": "markdown",
   "metadata": {},
   "source": [
    "### 2.2.1 Recherche des auteurs de livre de la base de données 23_livres_les_plus_lus_babelio.csv\n"
   ]
  },
  {
   "cell_type": "code",
   "execution_count": null,
   "metadata": {},
   "outputs": [],
   "source": [
    "auteur_dans_description('23_livres_les_plus_lus_babelio','youtube_nouveauté_livre_2023')"
   ]
  },
  {
   "cell_type": "markdown",
   "metadata": {},
   "source": [
    "**Les auteurs Michel Bussi et Virginie Grimaldi qui ont chacun écrit un des 23 livres les plus lus sur Babelio apparaissent chacun dans une description de vidéo youtube.**"
   ]
  },
  {
   "cell_type": "markdown",
   "metadata": {},
   "source": [
    "### 2.2.2 Recherche des auteurs de livre de la base de données best_sellers_fnac_2023_cleaned.csv\n"
   ]
  },
  {
   "cell_type": "code",
   "execution_count": null,
   "metadata": {},
   "outputs": [],
   "source": [
    "auteur_dans_description('best_sellers_fnac_2023_cleaned','youtube_nouveauté_livre_2023')"
   ]
  },
  {
   "cell_type": "markdown",
   "metadata": {},
   "source": [
    "**Les auteurs Michel Bussi, Virginie Grimaldi et Agnès Martin-Lugand apparaissent chacun dans un description de vidéo youtube et Léo apparaît à deux reprise.** Ce sont tous des auteurs qui ont écrit un best seller de la Fnac en 2023."
   ]
  },
  {
   "cell_type": "markdown",
   "metadata": {},
   "source": [
    "### 2.2.3 Recherche des auteurs de livre de la base de données livres_les_plus_empruntes_a_paris.csv\n"
   ]
  },
  {
   "cell_type": "code",
   "execution_count": null,
   "metadata": {},
   "outputs": [],
   "source": [
    "auteur_dans_description2('livres_les_plus_empruntes_a_paris','youtube_nouveauté_livre_2023')"
   ]
  },
  {
   "cell_type": "markdown",
   "metadata": {},
   "source": [
    "\"nan\" n'est pas un auteur mais simplement la dénomination utilisée dans la base de données lorsqu'on connaît pas l'auteur. Donc il n'y a aucun auteur de cette base de données mentionné."
   ]
  },
  {
   "cell_type": "markdown",
   "metadata": {},
   "source": [
    "### 2.2.4 Recherche des auteurs de livre de la base de données livraddict_prix_2024.csv\n"
   ]
  },
  {
   "cell_type": "code",
   "execution_count": null,
   "metadata": {},
   "outputs": [],
   "source": [
    "auteur_dans_description('livraddict_prix_2024','youtube_nouveauté_livre_2023')"
   ]
  },
  {
   "cell_type": "markdown",
   "metadata": {},
   "source": [
    "**L'autrice Virginie Grimaldi qui a écrit un des livres les mieux notés par les utilisateurs de livraddict parmi les livres sortis en 2023, apparaît dans une description de vidéo youtube.**"
   ]
  },
  {
   "cell_type": "markdown",
   "metadata": {},
   "source": [
    "### 2.2.5 Recherche des auteurs de livre de la base de données prix_litteraires.csv"
   ]
  },
  {
   "cell_type": "code",
   "execution_count": null,
   "metadata": {},
   "outputs": [],
   "source": [
    "auteur_dans_description('prix_litteraires','youtube_nouveauté_livre_2023')"
   ]
  },
  {
   "cell_type": "markdown",
   "metadata": {},
   "source": [
    "Il n'y a aucun auteur de cette base de données mentionné."
   ]
  },
  {
   "cell_type": "markdown",
   "metadata": {},
   "source": [
    "### 2.2.6 Recherche des auteurs de livre de la base de données Base_finale.csv"
   ]
  },
  {
   "cell_type": "code",
   "execution_count": null,
   "metadata": {},
   "outputs": [],
   "source": [
    "auteur_dans_description('Base_finale','youtube_nouveauté_livre_2023')"
   ]
  },
  {
   "cell_type": "markdown",
   "metadata": {},
   "source": [
    "**Les auteurs Léo, Agnès Martin-Lugand, Michel Bussi et Virginie Grimaldi apparaissent dans des descriptions vidéos.** \"nan\" n'est pas un auteur mais simplement la dénomination utilisée dans la base de données lorsqu'on connaît pas l'auteur. Donc il n'y a aucun auteur de cette base de données mentionné."
   ]
  },
  {
   "cell_type": "markdown",
   "metadata": {},
   "source": [
    "# Conclusion\n",
    "\n",
    "En résumé, en tout **8 livres** (Les livres *Babel* de R. F. Kuang,  *À la ligne* de Joseph Ponthus, *Troies vies par semaine* de Michel Bussi, *Veiller sur elle* de Jean-Baptiste Andrea, *Le culte* de Camilla Läckberg et Henrik Fexeus, *Otages* de Nina Bouraoui, *Performance* de Simon Liberati et *Révolution* de Florent Grouazel) et **5 auteurs** (Joseph Ponthus, Léo, Michel Bussi, Virginie Grimaldi et Agnès Martin-Lugand) apparaissent dans des descriptions de vidéos youtube des deux bases de données utilisées.  \n",
    "Cela laisserait donc penser que seulement 8 livres et 5 auteurs apparaissent dans les vidéos youtubes de nos bases de données.\n",
    "Cependant plusieurs points sont à prendre en compte:  \n",
    "-**des vidéos youtubes peuvent être sur un livre ou un auteur sans le citer dans la description, il peut aussi ne même pas y avoir de description.**  \n",
    "-**il peut y avoir des fautes d'orthographes et des erreurs de ponctuation dans les titres des livres dans les description youtube qui ne sont alors pas comptés dans ce programme.**  \n",
    "-**Youtube peut aussi limiter le nombre de résultats obtenus pour une requête.**  \n",
    "On peut pour autant remarquer que **certains titres de livre ou noms d'auteur sont assez courants pour désigner autre chose, ce qui peut fausser les résultats.**  \n",
    "\n",
    "**Pour essayer d'obtenir de meilleurs résultats, on va par la suite rechercher les titres et auteurs des livres dans les sous-titres de vidéos des bases de données dans le fichier stat_descriptives_youtube_suite.ipynb**"
   ]
  }
 ],
 "metadata": {
  "kernelspec": {
   "display_name": "base",
   "language": "python",
   "name": "python3"
  },
  "language_info": {
   "codemirror_mode": {
    "name": "ipython",
    "version": 3
   },
   "file_extension": ".py",
   "mimetype": "text/x-python",
   "name": "python",
   "nbconvert_exporter": "python",
   "pygments_lexer": "ipython3",
   "version": "3.12.7"
  }
 },
 "nbformat": 4,
 "nbformat_minor": 2
}
