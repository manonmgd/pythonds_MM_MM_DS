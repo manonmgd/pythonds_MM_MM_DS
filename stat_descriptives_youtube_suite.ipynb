{
 "cells": [
  {
   "cell_type": "markdown",
   "metadata": {},
   "source": [
    "*NB : Voir d'abord stat_descriptives_youtube.ipynb* "
   ]
  },
  {
   "cell_type": "markdown",
   "metadata": {},
   "source": [
    "**On cherche si des livres et auteurs de nos bases de données de livres sont mentionnés dans des vidéos de nos bases de données youtube. Pour cela, on étudie les sous-titres de ces vidéos youtube.**"
   ]
  },
  {
   "cell_type": "markdown",
   "metadata": {},
   "source": [
    "# 1 Recherche des titres de livres dans les descriptions de vidéos youtube"
   ]
  },
  {
   "cell_type": "code",
   "execution_count": 5,
   "metadata": {},
   "outputs": [],
   "source": [
    "#On importe la bibliothèque pandas\n",
    "import pandas as pd\n",
    "import matplotlib.pyplot as plt\n",
    "\n",
    "def livre_dans_sous_titres(livre,youtube):\n",
    "    #On charge les tables dont on a besoin\",\n",
    "    books_data = pd.read_csv(f\"{livre}.csv\", encoding=\"utf-8\")\n",
    "    youtube_data = pd.read_csv(f\"{youtube}.csv\", encoding=\"utf-8\")\n",
    "    print(\"Livres de la base de données \"f'{livre}.csv'\" dans les sous-titres de vidéos youtube de la base de données \"f'{youtube}.csv')\n",
    "    # On convertie la colonne 'Subtitles'et 'Titre' en type string\n",
    "    youtube_data['Subtitles'] = youtube_data['Subtitles'].astype(str)\n",
    "    books_data['Titre'] = books_data['Titre'].astype(str)\n",
    "    # On initialise une nouvelle liste pour stocker les résultats\n",
    "    result = []\n",
    "    # On itére sur chaque liste de la colonne 'Titre' de books_data\n",
    "    for index1, row1 in books_data.iterrows():\n",
    "        count_list = []  # Liste pour stocker les résultats de cette ligne\n",
    "        # On itére sur chaque liste de la colonne 'Subtitles' de youtube_data\n",
    "        for index2, row2 in youtube_data.iterrows():\n",
    "            # On vérifie si la liste de books_data (row1['Titre']) est une sous-liste de la liste de youtube_data (row2['Subtitles'])\n",
    "            if row1['Titre'] in row2['Subtitles']:\n",
    "                count_list.append(1)  # Si elle est incluse, compter une occurrence\n",
    "            else:\n",
    "                count_list.append(0)  # Sinon, aucune occurrence\n",
    "        # On ajoute la liste des Titres, des Auteurs de books_data et la somme des occurrences\n",
    "        result.append([row1['Titre'], row1['Auteur'], sum(count_list)])\n",
    "    # On crée la nouvelle DataFrame contenant les résultats\n",
    "    colonnes=['Titres','Auteurs','Occurrences dans les sous-titres de vidéos']\n",
    "    result_df = pd.DataFrame(result, columns = colonnes )\n",
    "    # On filtre les lignes où 'Occurrences dans les sous-titres des vidéos' est différente de 0 (On ne s'intéresse qu'aux livres cités au moins une fois)\n",
    "    filtered_df = result_df[result_df['Occurrences dans les sous-titres de vidéos'] != 0]\n",
    "    # On affiche le DataFrame filtré\n",
    "    return filtered_df\n",
    "\n",
    "def livre_dans_sous_titres2(livre,youtube):\n",
    "    #On charge les tables dont on a besoin\",\n",
    "    books_data = pd.read_csv(f\"{livre}.csv\", encoding=\"utf-8\")\n",
    "    youtube_data = pd.read_csv(f\"{youtube}.csv\", encoding=\"utf-8\")\n",
    "    print(\"Livres de la base de données \"f'{livre}.csv'\" dans les sous-titres de vidéos youtube de la base de données \"f'{youtube}.csv')\n",
    "    # On convertie la colonne 'Subtitles'et 'Titre' en type string\n",
    "    youtube_data['Subtitles'] = youtube_data['Subtitles'].astype(str)\n",
    "    books_data['titre'] = books_data['titre'].astype(str)\n",
    "    # On initialise une nouvelle liste pour stocker les résultats\n",
    "    result = []\n",
    "    # On itére sur chaque liste de la colonne 'titre' de books_data\n",
    "    for index1, row1 in books_data.iterrows():\n",
    "        count_list = []  # Liste pour stocker les résultats de cette ligne\n",
    "        # On itére sur chaque liste de la colonne 'Subtitles' de youtube_data\n",
    "        for index2, row2 in youtube_data.iterrows():\n",
    "            # On vérifie si la liste de books_data (row1['titre']) est une sous-liste de la liste de youtube_data (row2['Subtitles'])\n",
    "            if row1['titre'] in row2['Subtitles']:\n",
    "                count_list.append(1)  # Si elle est incluse, compter une occurrence\n",
    "            else:\n",
    "                count_list.append(0)  # Sinon, aucune occurrence\n",
    "        # On ajoute la liste des titres, des auteurs de books_data et la somme des occurrences\n",
    "        result.append([row1['titre'], row1['auteur'], sum(count_list)])\n",
    "    # On crée la nouvelle DataFrame contenant les résultats\n",
    "    colonnes=['Titres','Auteurs','Occurrences dans les sous-titres de vidéos']\n",
    "    result_df = pd.DataFrame(result, columns = colonnes )\n",
    "    # On filtre les lignes où 'Occurrences dans les sous-titres des vidéos' est différente de 0 (On ne s'intéresse qu'aux livres cités au moins une fois)\n",
    "    filtered_df = result_df[result_df['Occurrences dans les sous-titres de vidéos'] != 0]\n",
    "    # On affiche le DataFrame filtré\n",
    "    return filtered_df"
   ]
  },
  {
   "cell_type": "markdown",
   "metadata": {},
   "source": [
    "## 1.1 Recherche des titres de livre dans la base de données ss_youtube_livre_2019_2023.csv"
   ]
  },
  {
   "cell_type": "markdown",
   "metadata": {},
   "source": [
    "### 1.1.1 Recherche des titres de livre de la base de données 23_livres_les_plus_lus_babelio.csv"
   ]
  },
  {
   "cell_type": "code",
   "execution_count": null,
   "metadata": {},
   "outputs": [],
   "source": [
    "livre_dans_sous_titres('23_livres_les_plus_lus_babelio','ss_youtube_livre_2019_2023')"
   ]
  },
  {
   "cell_type": "markdown",
   "metadata": {},
   "source": [
    "Il n'y a aucun livre de cette base de données mentionné."
   ]
  },
  {
   "cell_type": "markdown",
   "metadata": {},
   "source": [
    "### 1.1.2 Recherche des titres de livre de la base de données best_sellers_fnac_2023_cleaned.csv"
   ]
  },
  {
   "cell_type": "code",
   "execution_count": null,
   "metadata": {},
   "outputs": [],
   "source": [
    "livre_dans_sous_titres('best_sellers_fnac_2023_cleaned','ss_youtube_livre_2019_2023')"
   ]
  },
  {
   "cell_type": "markdown",
   "metadata": {},
   "source": [
    "Il n'y a aucun livre de cette base de données mentionné."
   ]
  },
  {
   "cell_type": "markdown",
   "metadata": {},
   "source": [
    "### 1.1.3 Recherche des titres de livre de la base de données livres_les_plus_empruntes_a_paris.csv"
   ]
  },
  {
   "cell_type": "code",
   "execution_count": null,
   "metadata": {},
   "outputs": [],
   "source": [
    "livre_dans_sous_titres2('livres_les_plus_empruntes_a_paris','ss_youtube_livre_2019_2023')"
   ]
  },
  {
   "cell_type": "markdown",
   "metadata": {},
   "source": [
    "**Le livre *Noa* de Marc Lévy apparait dans les sous-titres de deux vidéos.** Il y a donc un livre parmi les livres les plus empruntés à Paris qui est dans les sous-titres de deux vidéos. "
   ]
  },
  {
   "cell_type": "markdown",
   "metadata": {},
   "source": [
    "### 1.1.4 Recherche des titres de livre de la base de données livraddict_prix_2024.csv"
   ]
  },
  {
   "cell_type": "code",
   "execution_count": null,
   "metadata": {},
   "outputs": [],
   "source": [
    "livre_dans_sous_titres('livraddict_prix_2024','ss_youtube_livre_2019_2023')"
   ]
  },
  {
   "cell_type": "markdown",
   "metadata": {},
   "source": [
    "**Les livres *Babel* de R. F. Kuang et *Papa* de Hélène Delforge et Quentin Gréban apparaissent chacun à deux reprises dans les sous-titres de vidéos youtube.** Ces livres qui sont deux des livres les mieux notés par les utilisateurs de livraddict parmi les livres sortis en 2023, sont chacun dans deux sous-titres de vidéos."
   ]
  },
  {
   "cell_type": "markdown",
   "metadata": {},
   "source": [
    "### 1.1.5 Recherche des titres de livre de la base de données prix_litteraires.csv"
   ]
  },
  {
   "cell_type": "code",
   "execution_count": 14,
   "metadata": {},
   "outputs": [
    {
     "name": "stdout",
     "output_type": "stream",
     "text": [
      "Livres de la base de données prix_litteraires.csv dans les sous-titres de vidéos youtube de la base de données ss_youtube_livre_2019_2023.csv\n"
     ]
    },
    {
     "data": {
      "text/html": [
       "<div>\n",
       "<style scoped>\n",
       "    .dataframe tbody tr th:only-of-type {\n",
       "        vertical-align: middle;\n",
       "    }\n",
       "\n",
       "    .dataframe tbody tr th {\n",
       "        vertical-align: top;\n",
       "    }\n",
       "\n",
       "    .dataframe thead th {\n",
       "        text-align: right;\n",
       "    }\n",
       "</style>\n",
       "<table border=\"1\" class=\"dataframe\">\n",
       "  <thead>\n",
       "    <tr style=\"text-align: right;\">\n",
       "      <th></th>\n",
       "      <th>Titres</th>\n",
       "      <th>Auteurs</th>\n",
       "      <th>Occurrences dans les sous-titres de vidéos</th>\n",
       "    </tr>\n",
       "  </thead>\n",
       "  <tbody>\n",
       "    <tr>\n",
       "      <th>105</th>\n",
       "      <td>Révolution</td>\n",
       "      <td>Florent Grouazel</td>\n",
       "      <td>3</td>\n",
       "    </tr>\n",
       "    <tr>\n",
       "      <th>108</th>\n",
       "      <td>Fritz</td>\n",
       "      <td>Coline Pierré</td>\n",
       "      <td>1</td>\n",
       "    </tr>\n",
       "    <tr>\n",
       "      <th>191</th>\n",
       "      <td>555</td>\n",
       "      <td>Hélène Gestern</td>\n",
       "      <td>86</td>\n",
       "    </tr>\n",
       "  </tbody>\n",
       "</table>\n",
       "</div>"
      ],
      "text/plain": [
       "         Titres           Auteurs  Occurrences dans les sous-titres de vidéos\n",
       "105  Révolution  Florent Grouazel                                           3\n",
       "108       Fritz     Coline Pierré                                           1\n",
       "191         555    Hélène Gestern                                          86"
      ]
     },
     "execution_count": 14,
     "metadata": {},
     "output_type": "execute_result"
    }
   ],
   "source": [
    "livre_dans_sous_titres('prix_litteraires','ss_youtube_livre_2019_2023')"
   ]
  },
  {
   "cell_type": "markdown",
   "metadata": {},
   "source": [
    "**Les livres *Révolution* de Florent Grouazel, *Fritz* de Coline Pierré et *555* de Hélène Gestern apparaissent dans les sous-titres de vidéos youtube.** Ces 3 livres qui ont reçu un prix littéraire entre 2019 et 2023 sont donc dans des sous-titres de vidéos."
   ]
  },
  {
   "cell_type": "markdown",
   "metadata": {},
   "source": [
    "### 1.1.6 Recherche des titres de livre de la base de données Base_finale.csv"
   ]
  },
  {
   "cell_type": "code",
   "execution_count": null,
   "metadata": {},
   "outputs": [],
   "source": [
    "livre_dans_sous_titres('Base_finale','ss_youtube_livre_2019_2023')"
   ]
  },
  {
   "cell_type": "markdown",
   "metadata": {},
   "source": [
    "Livres de la base de données Base_finale.csv dans les sous-titres de vidéos youtube de la base de données ss_youtube_livre_2019_2023.csv\n",
    "\n",
    "<div>\n",
    "<style scoped>\n",
    "    .dataframe tbody tr th:only-of-type {\n",
    "        vertical-align: middle;\n",
    "    }\n",
    "\n",
    "    .dataframe tbody tr th {\n",
    "        vertical-align: top;\n",
    "    }\n",
    "\n",
    "    .dataframe thead th {\n",
    "        text-align: right;\n",
    "    }\n",
    "</style>\n",
    "<table border=\"1\" class=\"dataframe\">\n",
    "  <thead>\n",
    "    <tr style=\"text-align: right;\">\n",
    "      <th></th>\n",
    "      <th>Titres</th>\n",
    "      <th>Auteurs</th>\n",
    "      <th>Occurrences dans les sous-titres de vidéos</th>\n",
    "    </tr>\n",
    "  </thead>\n",
    "  <tbody>\n",
    "    <tr>\n",
    "      <th>1</th>\n",
    "      <td>555</td>\n",
    "      <td>Hélène Gestern</td>\n",
    "      <td>86</td>\n",
    "    </tr>\n",
    "    <tr>\n",
    "      <th>8</th>\n",
    "      <td>argonne</td>\n",
    "      <td>Stéphane Emond</td>\n",
    "      <td>1</td>\n",
    "    </tr>\n",
    "    <tr>\n",
    "      <th>19</th>\n",
    "      <td>avant que j'oublie</td>\n",
    "      <td>Anne Pauly</td>\n",
    "      <td>1</td>\n",
    "    </tr>\n",
    "    <tr>\n",
    "      <th>21</th>\n",
    "      <td>babel</td>\n",
    "      <td>R. F. Kuang</td>\n",
    "      <td>1</td>\n",
    "    </tr>\n",
    "    <tr>\n",
    "      <th>31</th>\n",
    "      <td>blizzard</td>\n",
    "      <td>Marie Vingtras</td>\n",
    "      <td>2</td>\n",
    "    </tr>\n",
    "    <tr>\n",
    "      <th>44</th>\n",
    "      <td>cent mille ans</td>\n",
    "      <td>Gaspard d’Allens</td>\n",
    "      <td>1</td>\n",
    "    </tr>\n",
    "    <tr>\n",
    "      <th>49</th>\n",
    "      <td>chavirer</td>\n",
    "      <td>Lola Lafon</td>\n",
    "      <td>1</td>\n",
    "    </tr>\n",
    "    <tr>\n",
    "      <th>61</th>\n",
    "      <td>conte de fées</td>\n",
    "      <td>Stephen King</td>\n",
    "      <td>2</td>\n",
    "    </tr>\n",
    "    <tr>\n",
    "      <th>80</th>\n",
    "      <td>des vivants</td>\n",
    "      <td>Meltz,  Raphaël</td>\n",
    "      <td>4</td>\n",
    "    </tr>\n",
    "    <tr>\n",
    "      <th>101</th>\n",
    "      <td>fritz</td>\n",
    "      <td>Coline Pierré</td>\n",
    "      <td>1</td>\n",
    "    </tr>\n",
    "    <tr>\n",
    "      <th>117</th>\n",
    "      <td>héritage</td>\n",
    "      <td>Miguel Bonnefoy</td>\n",
    "      <td>18</td>\n",
    "    </tr>\n",
    "    <tr>\n",
    "      <th>122</th>\n",
    "      <td>j'ai oublié</td>\n",
    "      <td>Bulle Ogier</td>\n",
    "      <td>8</td>\n",
    "    </tr>\n",
    "    <tr>\n",
    "      <th>139</th>\n",
    "      <td>l'escalade</td>\n",
    "      <td>Dugomier</td>\n",
    "      <td>1</td>\n",
    "    </tr>\n",
    "    <tr>\n",
    "      <th>146</th>\n",
    "      <td>la chaleur</td>\n",
    "      <td>Victor Jestin</td>\n",
    "      <td>21</td>\n",
    "    </tr>\n",
    "    <tr>\n",
    "      <th>150</th>\n",
    "      <td>la colère</td>\n",
    "      <td>S. A. Cosby</td>\n",
    "      <td>34</td>\n",
    "    </tr>\n",
    "    <tr>\n",
    "      <th>159</th>\n",
    "      <td>la décision</td>\n",
    "      <td>Tuil,  Karine</td>\n",
    "      <td>17</td>\n",
    "    </tr>\n",
    "    <tr>\n",
    "      <th>160</th>\n",
    "      <td>la dépendance</td>\n",
    "      <td>Rachel Cusk</td>\n",
    "      <td>5</td>\n",
    "    </tr>\n",
    "    <tr>\n",
    "      <th>161</th>\n",
    "      <td>la faille</td>\n",
    "      <td>Franck Thilliez</td>\n",
    "      <td>1</td>\n",
    "    </tr>\n",
    "    <tr>\n",
    "      <th>171</th>\n",
    "      <td>la grâce</td>\n",
    "      <td>Thibault de Montaigu</td>\n",
    "      <td>13</td>\n",
    "    </tr>\n",
    "    <tr>\n",
    "      <th>173</th>\n",
    "      <td>la maison</td>\n",
    "      <td>Emma Becker</td>\n",
    "      <td>62</td>\n",
    "    </tr>\n",
    "    <tr>\n",
    "      <th>190</th>\n",
    "      <td>la sentence</td>\n",
    "      <td>Louise Erdrich</td>\n",
    "      <td>5</td>\n",
    "    </tr>\n",
    "    <tr>\n",
    "      <th>193</th>\n",
    "      <td>la tentation</td>\n",
    "      <td>Luc Lang</td>\n",
    "      <td>8</td>\n",
    "    </tr>\n",
    "    <tr>\n",
    "      <th>198</th>\n",
    "      <td>la vraie vie</td>\n",
    "      <td>Adeline Dieudonné</td>\n",
    "      <td>8</td>\n",
    "    </tr>\n",
    "    <tr>\n",
    "      <th>202</th>\n",
    "      <td>le bon sens</td>\n",
    "      <td>Michel Bernard</td>\n",
    "      <td>4</td>\n",
    "    </tr>\n",
    "    <tr>\n",
    "      <th>207</th>\n",
    "      <td>le consentement</td>\n",
    "      <td>Vanessa Springora</td>\n",
    "      <td>2</td>\n",
    "    </tr>\n",
    "    <tr>\n",
    "      <th>209</th>\n",
    "      <td>le culte</td>\n",
    "      <td>Camilla Läckberg, Henrik Fexeus</td>\n",
    "      <td>2</td>\n",
    "    </tr>\n",
    "    <tr>\n",
    "      <th>227</th>\n",
    "      <td>le lâche</td>\n",
    "      <td>Jarred McGinnis</td>\n",
    "      <td>4</td>\n",
    "    </tr>\n",
    "    <tr>\n",
    "      <th>236</th>\n",
    "      <td>le retournement</td>\n",
    "      <td>Manuel Carcassonne</td>\n",
    "      <td>1</td>\n",
    "    </tr>\n",
    "    <tr>\n",
    "      <th>262</th>\n",
    "      <td>les cinq</td>\n",
    "      <td>Mathieu Rochelle</td>\n",
    "      <td>16</td>\n",
    "    </tr>\n",
    "    <tr>\n",
    "      <th>264</th>\n",
    "      <td>les conditions idéales</td>\n",
    "      <td>Mokhtar Amoudi</td>\n",
    "      <td>2</td>\n",
    "    </tr>\n",
    "    <tr>\n",
    "      <th>288</th>\n",
    "      <td>les passagers</td>\n",
    "      <td>Gilles Verdet</td>\n",
    "      <td>1</td>\n",
    "    </tr>\n",
    "    <tr>\n",
    "      <th>293</th>\n",
    "      <td>les possibles</td>\n",
    "      <td>Grimaldi,  Virginie</td>\n",
    "      <td>2</td>\n",
    "    </tr>\n",
    "    <tr>\n",
    "      <th>303</th>\n",
    "      <td>les éclats</td>\n",
    "      <td>Bret Easton Ellis</td>\n",
    "      <td>2</td>\n",
    "    </tr>\n",
    "    <tr>\n",
    "      <th>330</th>\n",
    "      <td>mon territoire</td>\n",
    "      <td>Tess Sharpe</td>\n",
    "      <td>4</td>\n",
    "    </tr>\n",
    "    <tr>\n",
    "      <th>348</th>\n",
    "      <td>nature humaine</td>\n",
    "      <td>Serge Joncour</td>\n",
    "      <td>1</td>\n",
    "    </tr>\n",
    "    <tr>\n",
    "      <th>351</th>\n",
    "      <td>noa</td>\n",
    "      <td>Lévy,  Marc</td>\n",
    "      <td>4</td>\n",
    "    </tr>\n",
    "    <tr>\n",
    "      <th>370</th>\n",
    "      <td>panorama</td>\n",
    "      <td>Lilia Hassaine</td>\n",
    "      <td>2</td>\n",
    "    </tr>\n",
    "    <tr>\n",
    "      <th>371</th>\n",
    "      <td>papa</td>\n",
    "      <td>Hélène Delforge et Quentin Gréban</td>\n",
    "      <td>34</td>\n",
    "    </tr>\n",
    "    <tr>\n",
    "      <th>377</th>\n",
    "      <td>performance</td>\n",
    "      <td>Simon Liberati</td>\n",
    "      <td>14</td>\n",
    "    </tr>\n",
    "    <tr>\n",
    "      <th>399</th>\n",
    "      <td>révolution</td>\n",
    "      <td>Florent Grouazel</td>\n",
    "      <td>21</td>\n",
    "    </tr>\n",
    "    <tr>\n",
    "      <th>400</th>\n",
    "      <td>s'adapter</td>\n",
    "      <td>Clara Dupont-Monod</td>\n",
    "      <td>9</td>\n",
    "    </tr>\n",
    "    <tr>\n",
    "      <th>401</th>\n",
    "      <td>sa préférée</td>\n",
    "      <td>Sarah Jollien-Fardel</td>\n",
    "      <td>1</td>\n",
    "    </tr>\n",
    "    <tr>\n",
    "      <th>402</th>\n",
    "      <td>sabre</td>\n",
    "      <td>Emmanuel Ruben</td>\n",
    "      <td>7</td>\n",
    "    </tr>\n",
    "    <tr>\n",
    "      <th>423</th>\n",
    "      <td>tenir sa langue</td>\n",
    "      <td>Polina Panassenko</td>\n",
    "      <td>1</td>\n",
    "    </tr>\n",
    "    <tr>\n",
    "      <th>432</th>\n",
    "      <td>tombeaux</td>\n",
    "      <td>Annette Wieviorka</td>\n",
    "      <td>2</td>\n",
    "    </tr>\n",
    "    <tr>\n",
    "      <th>443</th>\n",
    "      <td>tueurs</td>\n",
    "      <td>Jean-Michel Espitallier</td>\n",
    "      <td>1</td>\n",
    "    </tr>\n",
    "    <tr>\n",
    "      <th>452</th>\n",
    "      <td>un miracle</td>\n",
    "      <td>Mas,  Victoria</td>\n",
    "      <td>5</td>\n",
    "    </tr>\n",
    "    <tr>\n",
    "      <th>458</th>\n",
    "      <td>une belle vie</td>\n",
    "      <td>Virginie Grimaldi</td>\n",
    "      <td>2</td>\n",
    "    </tr>\n",
    "    <tr>\n",
    "      <th>476</th>\n",
    "      <td>western</td>\n",
    "      <td>Maria Pourchet</td>\n",
    "      <td>3</td>\n",
    "    </tr>\n",
    "    <tr>\n",
    "      <th>482</th>\n",
    "      <td>à la ligne</td>\n",
    "      <td>Joseph Ponthus</td>\n",
    "      <td>2</td>\n",
    "    </tr>\n",
    "    <tr>\n",
    "      <th>485</th>\n",
    "      <td>à tout jamais</td>\n",
    "      <td>Colleen Hoover</td>\n",
    "      <td>12</td>\n",
    "    </tr>\n",
    "  </tbody>\n",
    "</table>\n",
    "</div>"
   ]
  },
  {
   "cell_type": "code",
   "execution_count": null,
   "metadata": {},
   "outputs": [],
   "source": [
    "df = livre_dans_sous_titres('Base_finale','ss_youtube_livre_2019_2023')\n",
    "df.shape # connaitre le nombre de lignes de la base de données obtenue"
   ]
  },
  {
   "cell_type": "markdown",
   "metadata": {},
   "source": [
    "**51 livre appraissent dans les sous-titres de vidéos youtube.** Le nombre d'occurrences varie entre 1 et 86."
   ]
  },
  {
   "cell_type": "markdown",
   "metadata": {},
   "source": [
    "## 1.2 Recherche des titres de livre dans la base de données ss_youtube_nouveauté_livre_2023.csv"
   ]
  },
  {
   "cell_type": "markdown",
   "metadata": {},
   "source": [
    "### 1.2.1 Recherche des titres de livre de la base de données 23_livres_les_plus_lus_babelio.csv"
   ]
  },
  {
   "cell_type": "code",
   "execution_count": null,
   "metadata": {},
   "outputs": [],
   "source": [
    "livre_dans_sous_titres('23_livres_les_plus_lus_babelio','ss_youtube_nouveauté_livre_2023')"
   ]
  },
  {
   "cell_type": "markdown",
   "metadata": {},
   "source": [
    "Il n'y a aucun livre de cette base de données mentionné."
   ]
  },
  {
   "cell_type": "markdown",
   "metadata": {},
   "source": [
    "### 1.2.2 Recherche des titres de livre de la base de données best_sellers_fnac_2023_cleaned.csv"
   ]
  },
  {
   "cell_type": "code",
   "execution_count": null,
   "metadata": {},
   "outputs": [],
   "source": [
    "livre_dans_sous_titres('best_sellers_fnac_2023_cleaned','ss_youtube_nouveauté_livre_2023')"
   ]
  },
  {
   "cell_type": "markdown",
   "metadata": {},
   "source": [
    "**Le livre *Icebreaker* de Hannah Grace apparaît dans une description de vidéo youtube.** Un des best sellers de la Fnac en 2023 est dans sous-titres d'une vidéo youtube."
   ]
  },
  {
   "cell_type": "markdown",
   "metadata": {},
   "source": [
    "### 1.2.3 Recherche des titres de livre de la base de données livres_les_plus_empruntes_a_paris.csv"
   ]
  },
  {
   "cell_type": "code",
   "execution_count": null,
   "metadata": {},
   "outputs": [],
   "source": [
    "livre_dans_sous_titres2('livres_les_plus_empruntes_a_paris','ss_youtube_nouveauté_livre_2023')"
   ]
  },
  {
   "cell_type": "markdown",
   "metadata": {},
   "source": [
    "**Les livres *Noa* de Marc Lévy et *La maison* de Emma Becker apparaissent dans les sous-titres de plusieurs vidéos.** Il y a donc deux livres parmi les livres les plus empruntés à Paris qui sont dans les sous-titres de vidéos. "
   ]
  },
  {
   "cell_type": "markdown",
   "metadata": {},
   "source": [
    "### 1.2.4 Recherche des titres de livre de la base de données livraddict_prix_2024.csv"
   ]
  },
  {
   "cell_type": "code",
   "execution_count": null,
   "metadata": {},
   "outputs": [],
   "source": [
    "livre_dans_sous_titres('livraddict_prix_2024','ss_youtube_nouveauté_livre_2023')"
   ]
  },
  {
   "cell_type": "markdown",
   "metadata": {},
   "source": [
    "**Les livres *Wonka* de Sibéal Pounder, *La colère* de S. A. Cosby, *Babel* de R. F. Kuang, *Papa* de Hélène Delforge et Quentin Gréban apparaissent  dans les sous-titres de vidéos youtube.** Ces livres qui sont quatre des livres les mieux notés par les utilisateurs de livraddict parmi les livres sortis en 2023, sont chacun dans des sous-titres de vidéos."
   ]
  },
  {
   "cell_type": "markdown",
   "metadata": {},
   "source": [
    "### 1.2.5 Recherche des titres de livre de la base de données prix_litteraires.csv"
   ]
  },
  {
   "cell_type": "code",
   "execution_count": null,
   "metadata": {},
   "outputs": [],
   "source": [
    "livre_dans_sous_titres('prix_litteraires','ss_youtube_nouveauté_livre_2023')"
   ]
  },
  {
   "cell_type": "markdown",
   "metadata": {},
   "source": [
    "**Les livres *J'ai oublié* de Bulle Ogier, *Les Patriotes* de Sana Krasikov, *Betty* de Arnaldur Indridason, *Révolution* de Florent Grouazel, *Paul Morand* de Pauline Dreyfus et *555* de Hélène Gestern apparaissent dans les sous-titres de vidéos youtube.** Ces 6 livres qui ont reçu un prix littéraire entre 2019 et 2023 sont donc dans des sous-titres de vidéos."
   ]
  },
  {
   "cell_type": "markdown",
   "metadata": {},
   "source": [
    "### 1.2.6 Recherche des titres de livre de la base de données Base_finale.csv"
   ]
  },
  {
   "cell_type": "code",
   "execution_count": null,
   "metadata": {},
   "outputs": [],
   "source": [
    "livre_dans_sous_titres('Base_finale','ss_youtube_nouveauté_livre_2023')"
   ]
  },
  {
   "cell_type": "markdown",
   "metadata": {},
   "source": [
    "Livres de la base de données Base_finale.csv dans les sous-titres de vidéos youtube de la base de données ss_youtube_nouveauté_livre_2023.csv\n",
    "\n",
    "<div>\n",
    "<style scoped>\n",
    "    .dataframe tbody tr th:only-of-type {\n",
    "        vertical-align: middle;\n",
    "    }\n",
    "\n",
    "    .dataframe tbody tr th {\n",
    "        vertical-align: top;\n",
    "    }\n",
    "\n",
    "    .dataframe thead th {\n",
    "        text-align: right;\n",
    "    }\n",
    "</style>\n",
    "<table border=\"1\" class=\"dataframe\">\n",
    "  <thead>\n",
    "    <tr style=\"text-align: right;\">\n",
    "      <th></th>\n",
    "      <th>Titres</th>\n",
    "      <th>Auteurs</th>\n",
    "      <th>Occurrences dans les sous-titres de vidéos</th>\n",
    "    </tr>\n",
    "  </thead>\n",
    "  <tbody>\n",
    "    <tr>\n",
    "      <th>1</th>\n",
    "      <td>555</td>\n",
    "      <td>Hélène Gestern</td>\n",
    "      <td>127</td>\n",
    "    </tr>\n",
    "    <tr>\n",
    "      <th>31</th>\n",
    "      <td>blizzard</td>\n",
    "      <td>Marie Vingtras</td>\n",
    "      <td>1</td>\n",
    "    </tr>\n",
    "    <tr>\n",
    "      <th>80</th>\n",
    "      <td>des vivants</td>\n",
    "      <td>Meltz,  Raphaël</td>\n",
    "      <td>1</td>\n",
    "    </tr>\n",
    "    <tr>\n",
    "      <th>117</th>\n",
    "      <td>héritage</td>\n",
    "      <td>Miguel Bonnefoy</td>\n",
    "      <td>17</td>\n",
    "    </tr>\n",
    "    <tr>\n",
    "      <th>122</th>\n",
    "      <td>j'ai oublié</td>\n",
    "      <td>Bulle Ogier</td>\n",
    "      <td>22</td>\n",
    "    </tr>\n",
    "    <tr>\n",
    "      <th>139</th>\n",
    "      <td>l'escalade</td>\n",
    "      <td>Dugomier</td>\n",
    "      <td>2</td>\n",
    "    </tr>\n",
    "    <tr>\n",
    "      <th>146</th>\n",
    "      <td>la chaleur</td>\n",
    "      <td>Victor Jestin</td>\n",
    "      <td>10</td>\n",
    "    </tr>\n",
    "    <tr>\n",
    "      <th>150</th>\n",
    "      <td>la colère</td>\n",
    "      <td>S. A. Cosby</td>\n",
    "      <td>8</td>\n",
    "    </tr>\n",
    "    <tr>\n",
    "      <th>159</th>\n",
    "      <td>la décision</td>\n",
    "      <td>Tuil,  Karine</td>\n",
    "      <td>9</td>\n",
    "    </tr>\n",
    "    <tr>\n",
    "      <th>160</th>\n",
    "      <td>la dépendance</td>\n",
    "      <td>Rachel Cusk</td>\n",
    "      <td>3</td>\n",
    "    </tr>\n",
    "    <tr>\n",
    "      <th>161</th>\n",
    "      <td>la faille</td>\n",
    "      <td>Franck Thilliez</td>\n",
    "      <td>2</td>\n",
    "    </tr>\n",
    "    <tr>\n",
    "      <th>171</th>\n",
    "      <td>la grâce</td>\n",
    "      <td>Thibault de Montaigu</td>\n",
    "      <td>13</td>\n",
    "    </tr>\n",
    "    <tr>\n",
    "      <th>173</th>\n",
    "      <td>la maison</td>\n",
    "      <td>Emma Becker</td>\n",
    "      <td>77</td>\n",
    "    </tr>\n",
    "    <tr>\n",
    "      <th>193</th>\n",
    "      <td>la tentation</td>\n",
    "      <td>Luc Lang</td>\n",
    "      <td>1</td>\n",
    "    </tr>\n",
    "    <tr>\n",
    "      <th>195</th>\n",
    "      <td>la vie nouvelle</td>\n",
    "      <td>Tom Crewe</td>\n",
    "      <td>1</td>\n",
    "    </tr>\n",
    "    <tr>\n",
    "      <th>198</th>\n",
    "      <td>la vraie vie</td>\n",
    "      <td>Adeline Dieudonné</td>\n",
    "      <td>10</td>\n",
    "    </tr>\n",
    "    <tr>\n",
    "      <th>202</th>\n",
    "      <td>le bon sens</td>\n",
    "      <td>Michel Bernard</td>\n",
    "      <td>7</td>\n",
    "    </tr>\n",
    "    <tr>\n",
    "      <th>207</th>\n",
    "      <td>le consentement</td>\n",
    "      <td>Vanessa Springora</td>\n",
    "      <td>1</td>\n",
    "    </tr>\n",
    "    <tr>\n",
    "      <th>209</th>\n",
    "      <td>le culte</td>\n",
    "      <td>Camilla Läckberg, Henrik Fexeus</td>\n",
    "      <td>2</td>\n",
    "    </tr>\n",
    "    <tr>\n",
    "      <th>215</th>\n",
    "      <td>le droit du sol</td>\n",
    "      <td>Étienne Davodeau</td>\n",
    "      <td>1</td>\n",
    "    </tr>\n",
    "    <tr>\n",
    "      <th>219</th>\n",
    "      <td>le gosse</td>\n",
    "      <td>Olmi,  Véronique</td>\n",
    "      <td>2</td>\n",
    "    </tr>\n",
    "    <tr>\n",
    "      <th>227</th>\n",
    "      <td>le lâche</td>\n",
    "      <td>Jarred McGinnis</td>\n",
    "      <td>7</td>\n",
    "    </tr>\n",
    "    <tr>\n",
    "      <th>236</th>\n",
    "      <td>le retournement</td>\n",
    "      <td>Manuel Carcassonne</td>\n",
    "      <td>1</td>\n",
    "    </tr>\n",
    "    <tr>\n",
    "      <th>262</th>\n",
    "      <td>les cinq</td>\n",
    "      <td>Mathieu Rochelle</td>\n",
    "      <td>8</td>\n",
    "    </tr>\n",
    "    <tr>\n",
    "      <th>267</th>\n",
    "      <td>les dragons</td>\n",
    "      <td>Jérôme Colin</td>\n",
    "      <td>3</td>\n",
    "    </tr>\n",
    "    <tr>\n",
    "      <th>282</th>\n",
    "      <td>les impatientes</td>\n",
    "      <td>Djaïli Amadou Amal</td>\n",
    "      <td>1</td>\n",
    "    </tr>\n",
    "    <tr>\n",
    "      <th>288</th>\n",
    "      <td>les passagers</td>\n",
    "      <td>Gilles Verdet</td>\n",
    "      <td>1</td>\n",
    "    </tr>\n",
    "    <tr>\n",
    "      <th>293</th>\n",
    "      <td>les possibles</td>\n",
    "      <td>Grimaldi,  Virginie</td>\n",
    "      <td>1</td>\n",
    "    </tr>\n",
    "    <tr>\n",
    "      <th>348</th>\n",
    "      <td>nature humaine</td>\n",
    "      <td>Serge Joncour</td>\n",
    "      <td>4</td>\n",
    "    </tr>\n",
    "    <tr>\n",
    "      <th>351</th>\n",
    "      <td>noa</td>\n",
    "      <td>Lévy,  Marc</td>\n",
    "      <td>4</td>\n",
    "    </tr>\n",
    "    <tr>\n",
    "      <th>366</th>\n",
    "      <td>otages</td>\n",
    "      <td>Nina Bouraoui</td>\n",
    "      <td>4</td>\n",
    "    </tr>\n",
    "    <tr>\n",
    "      <th>370</th>\n",
    "      <td>panorama</td>\n",
    "      <td>Lilia Hassaine</td>\n",
    "      <td>1</td>\n",
    "    </tr>\n",
    "    <tr>\n",
    "      <th>371</th>\n",
    "      <td>papa</td>\n",
    "      <td>Hélène Delforge et Quentin Gréban</td>\n",
    "      <td>61</td>\n",
    "    </tr>\n",
    "    <tr>\n",
    "      <th>372</th>\n",
    "      <td>par les routes</td>\n",
    "      <td>Sylvain Prudhomme</td>\n",
    "      <td>1</td>\n",
    "    </tr>\n",
    "    <tr>\n",
    "      <th>377</th>\n",
    "      <td>performance</td>\n",
    "      <td>Simon Liberati</td>\n",
    "      <td>18</td>\n",
    "    </tr>\n",
    "    <tr>\n",
    "      <th>399</th>\n",
    "      <td>révolution</td>\n",
    "      <td>Florent Grouazel</td>\n",
    "      <td>30</td>\n",
    "    </tr>\n",
    "    <tr>\n",
    "      <th>400</th>\n",
    "      <td>s'adapter</td>\n",
    "      <td>Clara Dupont-Monod</td>\n",
    "      <td>9</td>\n",
    "    </tr>\n",
    "    <tr>\n",
    "      <th>401</th>\n",
    "      <td>sa préférée</td>\n",
    "      <td>Sarah Jollien-Fardel</td>\n",
    "      <td>1</td>\n",
    "    </tr>\n",
    "    <tr>\n",
    "      <th>402</th>\n",
    "      <td>sabre</td>\n",
    "      <td>Emmanuel Ruben</td>\n",
    "      <td>4</td>\n",
    "    </tr>\n",
    "    <tr>\n",
    "      <th>423</th>\n",
    "      <td>tenir sa langue</td>\n",
    "      <td>Polina Panassenko</td>\n",
    "      <td>1</td>\n",
    "    </tr>\n",
    "    <tr>\n",
    "      <th>443</th>\n",
    "      <td>tueurs</td>\n",
    "      <td>Jean-Michel Espitallier</td>\n",
    "      <td>1</td>\n",
    "    </tr>\n",
    "    <tr>\n",
    "      <th>452</th>\n",
    "      <td>un miracle</td>\n",
    "      <td>Mas,  Victoria</td>\n",
    "      <td>2</td>\n",
    "    </tr>\n",
    "    <tr>\n",
    "      <th>472</th>\n",
    "      <td>vivonne</td>\n",
    "      <td>Jérôme Leroy</td>\n",
    "      <td>1</td>\n",
    "    </tr>\n",
    "    <tr>\n",
    "      <th>482</th>\n",
    "      <td>à la ligne</td>\n",
    "      <td>Joseph Ponthus</td>\n",
    "      <td>1</td>\n",
    "    </tr>\n",
    "    <tr>\n",
    "      <th>485</th>\n",
    "      <td>à tout jamais</td>\n",
    "      <td>Colleen Hoover</td>\n",
    "      <td>1</td>\n",
    "    </tr>\n",
    "  </tbody>\n",
    "</table>\n",
    "</div>"
   ]
  },
  {
   "cell_type": "code",
   "execution_count": null,
   "metadata": {},
   "outputs": [],
   "source": [
    "df = livre_dans_sous_titres('Base_finale','ss_youtube_nouveauté_livre_2023')\n",
    "df.shape # connaitre le nombre de lignes de la base de données obtenue"
   ]
  },
  {
   "cell_type": "markdown",
   "metadata": {},
   "source": [
    "**45 livres apparaissent dans les sous-titres des vidéos youtube.** Le nombre d'occurrences varie entre 1 et 127"
   ]
  },
  {
   "cell_type": "markdown",
   "metadata": {},
   "source": [
    "# 2 Recherche des auteurs de livres dans les descriptions de vidéos youtube"
   ]
  },
  {
   "cell_type": "code",
   "execution_count": 26,
   "metadata": {},
   "outputs": [],
   "source": [
    "#On importe la bibliothèque pandas\n",
    "import pandas as pd\n",
    "import matplotlib.pyplot as plt\n",
    "\n",
    "def auteur_dans_sous_titres(livre,youtube):\n",
    "    #On charge les tables dont on a besoin\",\n",
    "    books_data = pd.read_csv(f\"{livre}.csv\", encoding=\"utf-8\")\n",
    "    youtube_data = pd.read_csv(f\"{youtube}.csv\", encoding=\"utf-8\")\n",
    "    print(\"Auteurs de la base de données \"f'{livre}.csv'\" dans les sous-titres de vidéos youtube de la base de données \"f'{youtube}.csv')\n",
    "    # On convertie la colonne 'Subtitles'et 'Auteur' en type string\n",
    "    youtube_data['Subtitles'] = youtube_data['Subtitles'].astype(str)\n",
    "    books_data['Auteur'] = books_data['Auteur'].astype(str)\n",
    "    # On initialise une nouvelle liste pour stocker les résultats\n",
    "    result = []\n",
    "    # On itére sur chaque liste de la colonne 'Auteur' de books_data\n",
    "    for index1, row1 in books_data.iterrows():\n",
    "        count_list = []  # Liste pour stocker les résultats de cette ligne\n",
    "        # On itére sur chaque liste de la colonne 'Subtitles' de youtube_data\n",
    "        for index2, row2 in youtube_data.iterrows():\n",
    "            # On vérifie si la liste de books_data (row1['Auteur']) est une sous-liste de la liste de youtube_data (row2['Subtitles'])\n",
    "            if row1['Auteur'] in row2['Subtitles']:\n",
    "                count_list.append(1)  # Si elle est incluse, compter une occurrence\n",
    "            else:\n",
    "                count_list.append(0)  # Sinon, aucune occurrence\n",
    "        # On ajoute la liste des Auteurs de books_data et la somme des occurrences\n",
    "        result.append([row1['Auteur'], sum(count_list)])\n",
    "    # On crée la nouvelle DataFrame contenant les résultats\n",
    "    colonnes=['Auteurs','Occurrences dans les sous-titres de vidéos']\n",
    "    result_df = pd.DataFrame(result, columns = colonnes )\n",
    "    # On filtre les lignes où 'Occurrences dans les sous-titres des vidéos' est différente de 0 (On ne s'intéresse qu'aux livres cités au moins une fois)\n",
    "    filtered_df = result_df[result_df['Occurrences dans les sous-titres de vidéos'] != 0]\n",
    "    # On affiche le DataFrame filtré\n",
    "    return filtered_df\n",
    "\n",
    "def auteur_dans_sous_titres2(livre,youtube):\n",
    "    #On charge les tables dont on a besoin\",\n",
    "    books_data = pd.read_csv(f\"{livre}.csv\", encoding=\"utf-8\")\n",
    "    youtube_data = pd.read_csv(f\"{youtube}.csv\", encoding=\"utf-8\")\n",
    "    print(\"Auteurs de la base de données \"f'{livre}.csv'\" dans les sous-titres de vidéos youtube de la base de données \"f'{youtube}.csv')\n",
    "    # On convertie la colonne 'Subtitles'et 'auteur' en type string\n",
    "    youtube_data['Subtitles'] = youtube_data['Subtitles'].astype(str)\n",
    "    books_data['auteur'] = books_data['auteur'].astype(str)\n",
    "    # On initialise une nouvelle liste pour stocker les résultats\n",
    "    result = []\n",
    "    # On itére sur chaque liste de la colonne 'auteur' de books_data\n",
    "    for index1, row1 in books_data.iterrows():\n",
    "        count_list = []  # Liste pour stocker les résultats de cette ligne\n",
    "        # On itére sur chaque liste de la colonne 'Subtitles' de youtube_data\n",
    "        for index2, row2 in youtube_data.iterrows():\n",
    "            # On vérifie si la liste de books_data (row1['auteur']) est une sous-liste de la liste de youtube_data (row2['Subtitles'])\n",
    "            if row1['auteur'] in row2['Subtitles']:\n",
    "                count_list.append(1)  # Si elle est incluse, compter une occurrence\n",
    "            else:\n",
    "                count_list.append(0)  # Sinon, aucune occurrence\n",
    "        # On ajoute la liste des auteurs de books_data et la somme des occurrences\n",
    "        result.append([row1['auteur'], sum(count_list)])\n",
    "    # On crée la nouvelle DataFrame contenant les résultats\n",
    "    colonnes=['Auteurs','Occurrences dans les sous-titres de vidéos']\n",
    "    result_df = pd.DataFrame(result, columns = colonnes )\n",
    "    # On filtre les lignes où 'Occurrences dans les sous-titres des vidéos' est différente de 0 (On ne s'intéresse qu'aux livres cités au moins une fois)\n",
    "    filtered_df = result_df[result_df['Occurrences dans les sous-titres de vidéos'] != 0]\n",
    "    # On affiche le DataFrame filtré\n",
    "    return filtered_df "
   ]
  },
  {
   "cell_type": "markdown",
   "metadata": {},
   "source": [
    "## 2.1 Recherche des auteurs de livre dans la base de données youtube_livre_2019_2023.csv"
   ]
  },
  {
   "cell_type": "markdown",
   "metadata": {},
   "source": [
    "### 2.1.1 Recherche des auteurs de livre de la base de données 23_livres_les_plus_lus_babelio.csv\n"
   ]
  },
  {
   "cell_type": "code",
   "execution_count": null,
   "metadata": {},
   "outputs": [],
   "source": [
    "auteur_dans_sous_titres('23_livres_les_plus_lus_babelio','ss_youtube_livre_2019_2023')"
   ]
  },
  {
   "cell_type": "markdown",
   "metadata": {},
   "source": [
    "**Les auteurs Virginie Grimaldi et Stephen King apparaissent chacun dans les sous-titres d'une vidéo youtube**. Ces deux auteurs qui ont écrit chacun un livre parmi les plus lus en 2023 sur Babelio sont chacun dans les sous-titres d'une vidéo youtube."
   ]
  },
  {
   "cell_type": "markdown",
   "metadata": {},
   "source": [
    "### 2.1.2 Recherche des auteurs de livre de la base de données best_sellers_fnac_2023_cleaned.csv\n"
   ]
  },
  {
   "cell_type": "code",
   "execution_count": 32,
   "metadata": {},
   "outputs": [
    {
     "name": "stdout",
     "output_type": "stream",
     "text": [
      "Auteurs de la base de données best_sellers_fnac_2023_cleaned.csv dans les sous-titres de vidéos youtube de la base de données ss_youtube_livre_2019_2023.csv\n"
     ]
    },
    {
     "data": {
      "text/html": [
       "<div>\n",
       "<style scoped>\n",
       "    .dataframe tbody tr th:only-of-type {\n",
       "        vertical-align: middle;\n",
       "    }\n",
       "\n",
       "    .dataframe tbody tr th {\n",
       "        vertical-align: top;\n",
       "    }\n",
       "\n",
       "    .dataframe thead th {\n",
       "        text-align: right;\n",
       "    }\n",
       "</style>\n",
       "<table border=\"1\" class=\"dataframe\">\n",
       "  <thead>\n",
       "    <tr style=\"text-align: right;\">\n",
       "      <th></th>\n",
       "      <th>Auteurs</th>\n",
       "      <th>Occurrences dans les sous-titres de vidéos</th>\n",
       "    </tr>\n",
       "  </thead>\n",
       "  <tbody>\n",
       "    <tr>\n",
       "      <th>22</th>\n",
       "      <td>Éric-Emmanuel Schmitt</td>\n",
       "      <td>1</td>\n",
       "    </tr>\n",
       "    <tr>\n",
       "      <th>24</th>\n",
       "      <td>Stephen King</td>\n",
       "      <td>1</td>\n",
       "    </tr>\n",
       "    <tr>\n",
       "      <th>28</th>\n",
       "      <td>Virginie Grimaldi</td>\n",
       "      <td>1</td>\n",
       "    </tr>\n",
       "    <tr>\n",
       "      <th>52</th>\n",
       "      <td>Léo</td>\n",
       "      <td>2</td>\n",
       "    </tr>\n",
       "    <tr>\n",
       "      <th>61</th>\n",
       "      <td>Britney Spears</td>\n",
       "      <td>1</td>\n",
       "    </tr>\n",
       "  </tbody>\n",
       "</table>\n",
       "</div>"
      ],
      "text/plain": [
       "                  Auteurs  Occurrences dans les sous-titres de vidéos\n",
       "22  Éric-Emmanuel Schmitt                                           1\n",
       "24           Stephen King                                           1\n",
       "28      Virginie Grimaldi                                           1\n",
       "52                    Léo                                           2\n",
       "61         Britney Spears                                           1"
      ]
     },
     "execution_count": 32,
     "metadata": {},
     "output_type": "execute_result"
    }
   ],
   "source": [
    "auteur_dans_sous_titres('best_sellers_fnac_2023_cleaned','ss_youtube_livre_2019_2023')"
   ]
  },
  {
   "cell_type": "markdown",
   "metadata": {},
   "source": [
    "**L'auteur Léo qui a écrit en 2023 un best_sellers de la Fnac apparaît dans la description youtube d'une vidéo.**"
   ]
  },
  {
   "cell_type": "markdown",
   "metadata": {},
   "source": [
    "### 2.1.4 Recherche des auteurs de livre de la base de données Les livres les plus empruntés à Paris.csv\n"
   ]
  },
  {
   "cell_type": "code",
   "execution_count": 34,
   "metadata": {},
   "outputs": [
    {
     "name": "stdout",
     "output_type": "stream",
     "text": [
      "Auteurs de la base de données livres_les_plus_empruntes_a_paris.csv dans les sous-titres de vidéos youtube de la base de données ss_youtube_livre_2019_2023.csv\n"
     ]
    },
    {
     "data": {
      "text/html": [
       "<div>\n",
       "<style scoped>\n",
       "    .dataframe tbody tr th:only-of-type {\n",
       "        vertical-align: middle;\n",
       "    }\n",
       "\n",
       "    .dataframe tbody tr th {\n",
       "        vertical-align: top;\n",
       "    }\n",
       "\n",
       "    .dataframe thead th {\n",
       "        text-align: right;\n",
       "    }\n",
       "</style>\n",
       "<table border=\"1\" class=\"dataframe\">\n",
       "  <thead>\n",
       "    <tr style=\"text-align: right;\">\n",
       "      <th></th>\n",
       "      <th>Auteurs</th>\n",
       "      <th>Occurrences dans les sous-titres de vidéos</th>\n",
       "    </tr>\n",
       "  </thead>\n",
       "  <tbody>\n",
       "    <tr>\n",
       "      <th>75</th>\n",
       "      <td>nan</td>\n",
       "      <td>158</td>\n",
       "    </tr>\n",
       "  </tbody>\n",
       "</table>\n",
       "</div>"
      ],
      "text/plain": [
       "   Auteurs  Occurrences dans les sous-titres de vidéos\n",
       "75     nan                                         158"
      ]
     },
     "execution_count": 34,
     "metadata": {},
     "output_type": "execute_result"
    }
   ],
   "source": [
    "auteur_dans_sous_titres2('livres_les_plus_empruntes_a_paris','ss_youtube_livre_2019_2023')"
   ]
  },
  {
   "cell_type": "markdown",
   "metadata": {},
   "source": [
    "\"nan\" n'est pas un auteur mais simplement la dénomination utilisée dans la base de données lorsqu'on connaît pas l'auteur. Donc il n'y a aucun auteur de cette base de données mentionné."
   ]
  },
  {
   "cell_type": "markdown",
   "metadata": {},
   "source": [
    "### 2.1.5 Recherche des auteurs de livre de la base de données livraddict_prix_2024.csv\n"
   ]
  },
  {
   "cell_type": "code",
   "execution_count": 35,
   "metadata": {},
   "outputs": [
    {
     "name": "stdout",
     "output_type": "stream",
     "text": [
      "Auteurs de la base de données livraddict_prix_2024.csv dans les sous-titres de vidéos youtube de la base de données ss_youtube_livre_2019_2023.csv\n"
     ]
    },
    {
     "data": {
      "text/html": [
       "<div>\n",
       "<style scoped>\n",
       "    .dataframe tbody tr th:only-of-type {\n",
       "        vertical-align: middle;\n",
       "    }\n",
       "\n",
       "    .dataframe tbody tr th {\n",
       "        vertical-align: top;\n",
       "    }\n",
       "\n",
       "    .dataframe thead th {\n",
       "        text-align: right;\n",
       "    }\n",
       "</style>\n",
       "<table border=\"1\" class=\"dataframe\">\n",
       "  <thead>\n",
       "    <tr style=\"text-align: right;\">\n",
       "      <th></th>\n",
       "      <th>Auteurs</th>\n",
       "      <th>Occurrences dans les sous-titres de vidéos</th>\n",
       "    </tr>\n",
       "  </thead>\n",
       "  <tbody>\n",
       "    <tr>\n",
       "      <th>13</th>\n",
       "      <td>Virginie Grimaldi</td>\n",
       "      <td>1</td>\n",
       "    </tr>\n",
       "  </tbody>\n",
       "</table>\n",
       "</div>"
      ],
      "text/plain": [
       "              Auteurs  Occurrences dans les sous-titres de vidéos\n",
       "13  Virginie Grimaldi                                           1"
      ]
     },
     "execution_count": 35,
     "metadata": {},
     "output_type": "execute_result"
    }
   ],
   "source": [
    "auteur_dans_sous_titres('livraddict_prix_2024','ss_youtube_livre_2019_2023')"
   ]
  },
  {
   "cell_type": "markdown",
   "metadata": {},
   "source": [
    "Il n'y a aucun auteur de cette base de données mentionné."
   ]
  },
  {
   "cell_type": "markdown",
   "metadata": {},
   "source": [
    "### 2.1.6 Recherche des auteurs de livre de la base de données prix_litteraires.csv"
   ]
  },
  {
   "cell_type": "code",
   "execution_count": 37,
   "metadata": {},
   "outputs": [
    {
     "name": "stdout",
     "output_type": "stream",
     "text": [
      "Auteurs de la base de données prix_litteraires.csv dans les sous-titres de vidéos youtube de la base de données ss_youtube_livre_2019_2023.csv\n"
     ]
    },
    {
     "data": {
      "text/html": [
       "<div>\n",
       "<style scoped>\n",
       "    .dataframe tbody tr th:only-of-type {\n",
       "        vertical-align: middle;\n",
       "    }\n",
       "\n",
       "    .dataframe tbody tr th {\n",
       "        vertical-align: top;\n",
       "    }\n",
       "\n",
       "    .dataframe thead th {\n",
       "        text-align: right;\n",
       "    }\n",
       "</style>\n",
       "<table border=\"1\" class=\"dataframe\">\n",
       "  <thead>\n",
       "    <tr style=\"text-align: right;\">\n",
       "      <th></th>\n",
       "      <th>Auteurs</th>\n",
       "      <th>Occurrences dans les sous-titres de vidéos</th>\n",
       "    </tr>\n",
       "  </thead>\n",
       "  <tbody>\n",
       "    <tr>\n",
       "      <th>16</th>\n",
       "      <td>Copi</td>\n",
       "      <td>1</td>\n",
       "    </tr>\n",
       "  </tbody>\n",
       "</table>\n",
       "</div>"
      ],
      "text/plain": [
       "   Auteurs  Occurrences dans les sous-titres de vidéos\n",
       "16    Copi                                           1"
      ]
     },
     "execution_count": 37,
     "metadata": {},
     "output_type": "execute_result"
    }
   ],
   "source": [
    "auteur_dans_sous_titres('prix_litteraires','ss_youtube_livre_2019_2023')"
   ]
  },
  {
   "cell_type": "markdown",
   "metadata": {},
   "source": [
    "**L'auteur Joseph Ponthus qui a obtenu un prix littéraires pour un livre apparaît dans la description youtube d'une vidéo.**"
   ]
  },
  {
   "cell_type": "markdown",
   "metadata": {},
   "source": [
    "### 2.1.7 Recherche des auteurs de livre de la base de données Base_finale.csv"
   ]
  },
  {
   "cell_type": "code",
   "execution_count": 38,
   "metadata": {},
   "outputs": [
    {
     "name": "stdout",
     "output_type": "stream",
     "text": [
      "Auteurs de la base de données Base_finale.csv dans les sous-titres de vidéos youtube de la base de données ss_youtube_livre_2019_2023.csv\n"
     ]
    },
    {
     "data": {
      "text/html": [
       "<div>\n",
       "<style scoped>\n",
       "    .dataframe tbody tr th:only-of-type {\n",
       "        vertical-align: middle;\n",
       "    }\n",
       "\n",
       "    .dataframe tbody tr th {\n",
       "        vertical-align: top;\n",
       "    }\n",
       "\n",
       "    .dataframe thead th {\n",
       "        text-align: right;\n",
       "    }\n",
       "</style>\n",
       "<table border=\"1\" class=\"dataframe\">\n",
       "  <thead>\n",
       "    <tr style=\"text-align: right;\">\n",
       "      <th></th>\n",
       "      <th>Auteurs</th>\n",
       "      <th>Occurrences dans les sous-titres de vidéos</th>\n",
       "    </tr>\n",
       "  </thead>\n",
       "  <tbody>\n",
       "    <tr>\n",
       "      <th>22</th>\n",
       "      <td>Léo</td>\n",
       "      <td>2</td>\n",
       "    </tr>\n",
       "    <tr>\n",
       "      <th>61</th>\n",
       "      <td>Stephen King</td>\n",
       "      <td>1</td>\n",
       "    </tr>\n",
       "    <tr>\n",
       "      <th>163</th>\n",
       "      <td>Britney Spears</td>\n",
       "      <td>1</td>\n",
       "    </tr>\n",
       "    <tr>\n",
       "      <th>201</th>\n",
       "      <td>Copi</td>\n",
       "      <td>1</td>\n",
       "    </tr>\n",
       "    <tr>\n",
       "      <th>216</th>\n",
       "      <td>Éric-Emmanuel Schmitt</td>\n",
       "      <td>1</td>\n",
       "    </tr>\n",
       "    <tr>\n",
       "      <th>379</th>\n",
       "      <td>nan</td>\n",
       "      <td>158</td>\n",
       "    </tr>\n",
       "    <tr>\n",
       "      <th>458</th>\n",
       "      <td>Virginie Grimaldi</td>\n",
       "      <td>1</td>\n",
       "    </tr>\n",
       "  </tbody>\n",
       "</table>\n",
       "</div>"
      ],
      "text/plain": [
       "                   Auteurs  Occurrences dans les sous-titres de vidéos\n",
       "22                     Léo                                           2\n",
       "61            Stephen King                                           1\n",
       "163         Britney Spears                                           1\n",
       "201                   Copi                                           1\n",
       "216  Éric-Emmanuel Schmitt                                           1\n",
       "379                    nan                                         158\n",
       "458      Virginie Grimaldi                                           1"
      ]
     },
     "execution_count": 38,
     "metadata": {},
     "output_type": "execute_result"
    }
   ],
   "source": [
    "auteur_dans_sous_titres('Base_finale','ss_youtube_livre_2019_2023')"
   ]
  },
  {
   "cell_type": "markdown",
   "metadata": {},
   "source": [
    "**Les auteurs Léo et Joseph Ponthus apparaissent chacun dans une description de vidéo youtube.** \"nan\" n'est pas un auteur mais simplement la dénomination utilisée dans la base de données lorsqu'on connaît pas l'auteur. Donc il n'y a aucun auteur de cette base de données mentionné."
   ]
  },
  {
   "cell_type": "markdown",
   "metadata": {},
   "source": [
    "## 2.2 Recherche des auteurs de livre dans la base de données youtube_nouveauté_livre_2023.csv"
   ]
  },
  {
   "cell_type": "markdown",
   "metadata": {},
   "source": [
    "### 2.2.1 Recherche des auteurs de livre de la base de données 23 livres les plus lus Babelio.csv\n"
   ]
  },
  {
   "cell_type": "code",
   "execution_count": 39,
   "metadata": {},
   "outputs": [
    {
     "name": "stdout",
     "output_type": "stream",
     "text": [
      "Auteurs de la base de données 23_livres_les_plus_lus_babelio.csv dans les sous-titres de vidéos youtube de la base de données ss_youtube_nouveauté_livre_2023.csv\n"
     ]
    },
    {
     "data": {
      "text/html": [
       "<div>\n",
       "<style scoped>\n",
       "    .dataframe tbody tr th:only-of-type {\n",
       "        vertical-align: middle;\n",
       "    }\n",
       "\n",
       "    .dataframe tbody tr th {\n",
       "        vertical-align: top;\n",
       "    }\n",
       "\n",
       "    .dataframe thead th {\n",
       "        text-align: right;\n",
       "    }\n",
       "</style>\n",
       "<table border=\"1\" class=\"dataframe\">\n",
       "  <thead>\n",
       "    <tr style=\"text-align: right;\">\n",
       "      <th></th>\n",
       "      <th>Auteurs</th>\n",
       "      <th>Occurrences dans les sous-titres de vidéos</th>\n",
       "    </tr>\n",
       "  </thead>\n",
       "  <tbody>\n",
       "    <tr>\n",
       "      <th>15</th>\n",
       "      <td>Michel Bussi</td>\n",
       "      <td>1</td>\n",
       "    </tr>\n",
       "    <tr>\n",
       "      <th>18</th>\n",
       "      <td>Stephen King</td>\n",
       "      <td>6</td>\n",
       "    </tr>\n",
       "  </tbody>\n",
       "</table>\n",
       "</div>"
      ],
      "text/plain": [
       "         Auteurs  Occurrences dans les sous-titres de vidéos\n",
       "15  Michel Bussi                                           1\n",
       "18  Stephen King                                           6"
      ]
     },
     "execution_count": 39,
     "metadata": {},
     "output_type": "execute_result"
    }
   ],
   "source": [
    "auteur_dans_sous_titres('23_livres_les_plus_lus_babelio','ss_youtube_nouveauté_livre_2023')"
   ]
  },
  {
   "cell_type": "markdown",
   "metadata": {},
   "source": [
    "**Les auteurs Michel Bussi et Virginie Grimaldi qui ont chacun écrit un des 23 livres les plus lus sur Babelio apparaissent chacun dans une description de vidéo youtube.**"
   ]
  },
  {
   "cell_type": "markdown",
   "metadata": {},
   "source": [
    "### 2.2.2 Recherche des auteurs de livre de la base de données best_sellers_fnac_2023_cleaned.csv\n"
   ]
  },
  {
   "cell_type": "code",
   "execution_count": 40,
   "metadata": {},
   "outputs": [
    {
     "name": "stdout",
     "output_type": "stream",
     "text": [
      "Auteurs de la base de données best_sellers_fnac_2023_cleaned.csv dans les sous-titres de vidéos youtube de la base de données ss_youtube_nouveauté_livre_2023.csv\n"
     ]
    },
    {
     "data": {
      "text/html": [
       "<div>\n",
       "<style scoped>\n",
       "    .dataframe tbody tr th:only-of-type {\n",
       "        vertical-align: middle;\n",
       "    }\n",
       "\n",
       "    .dataframe tbody tr th {\n",
       "        vertical-align: top;\n",
       "    }\n",
       "\n",
       "    .dataframe thead th {\n",
       "        text-align: right;\n",
       "    }\n",
       "</style>\n",
       "<table border=\"1\" class=\"dataframe\">\n",
       "  <thead>\n",
       "    <tr style=\"text-align: right;\">\n",
       "      <th></th>\n",
       "      <th>Auteurs</th>\n",
       "      <th>Occurrences dans les sous-titres de vidéos</th>\n",
       "    </tr>\n",
       "  </thead>\n",
       "  <tbody>\n",
       "    <tr>\n",
       "      <th>15</th>\n",
       "      <td>Michel Bussi</td>\n",
       "      <td>1</td>\n",
       "    </tr>\n",
       "    <tr>\n",
       "      <th>24</th>\n",
       "      <td>Stephen King</td>\n",
       "      <td>6</td>\n",
       "    </tr>\n",
       "    <tr>\n",
       "      <th>34</th>\n",
       "      <td>Squeezie</td>\n",
       "      <td>1</td>\n",
       "    </tr>\n",
       "    <tr>\n",
       "      <th>44</th>\n",
       "      <td>Hannah Grace</td>\n",
       "      <td>1</td>\n",
       "    </tr>\n",
       "    <tr>\n",
       "      <th>52</th>\n",
       "      <td>Léo</td>\n",
       "      <td>17</td>\n",
       "    </tr>\n",
       "  </tbody>\n",
       "</table>\n",
       "</div>"
      ],
      "text/plain": [
       "         Auteurs  Occurrences dans les sous-titres de vidéos\n",
       "15  Michel Bussi                                           1\n",
       "24  Stephen King                                           6\n",
       "34      Squeezie                                           1\n",
       "44  Hannah Grace                                           1\n",
       "52           Léo                                          17"
      ]
     },
     "execution_count": 40,
     "metadata": {},
     "output_type": "execute_result"
    }
   ],
   "source": [
    "auteur_dans_sous_titres('best_sellers_fnac_2023_cleaned','ss_youtube_nouveauté_livre_2023')"
   ]
  },
  {
   "cell_type": "markdown",
   "metadata": {},
   "source": [
    "**Les auteurs Michel Bussi, Virginie Grimaldi et Agnès Martin-Lugand apparaissent chacun dans un description de vidéo youtube et Léo apparaît à deux reprise.** Ce sont tous des auteurs qui ont écrit un best seller de la Fnac en 2023."
   ]
  },
  {
   "cell_type": "markdown",
   "metadata": {},
   "source": [
    "### 2.2.4 Recherche des auteurs de livre de la base de données Les livres les plus empruntés à Paris.csv\n"
   ]
  },
  {
   "cell_type": "code",
   "execution_count": 41,
   "metadata": {},
   "outputs": [
    {
     "name": "stdout",
     "output_type": "stream",
     "text": [
      "Auteurs de la base de données livres_les_plus_empruntes_a_paris.csv dans les sous-titres de vidéos youtube de la base de données ss_youtube_nouveauté_livre_2023.csv\n"
     ]
    },
    {
     "data": {
      "text/html": [
       "<div>\n",
       "<style scoped>\n",
       "    .dataframe tbody tr th:only-of-type {\n",
       "        vertical-align: middle;\n",
       "    }\n",
       "\n",
       "    .dataframe tbody tr th {\n",
       "        vertical-align: top;\n",
       "    }\n",
       "\n",
       "    .dataframe thead th {\n",
       "        text-align: right;\n",
       "    }\n",
       "</style>\n",
       "<table border=\"1\" class=\"dataframe\">\n",
       "  <thead>\n",
       "    <tr style=\"text-align: right;\">\n",
       "      <th></th>\n",
       "      <th>Auteurs</th>\n",
       "      <th>Occurrences dans les sous-titres de vidéos</th>\n",
       "    </tr>\n",
       "  </thead>\n",
       "  <tbody>\n",
       "    <tr>\n",
       "      <th>75</th>\n",
       "      <td>nan</td>\n",
       "      <td>264</td>\n",
       "    </tr>\n",
       "  </tbody>\n",
       "</table>\n",
       "</div>"
      ],
      "text/plain": [
       "   Auteurs  Occurrences dans les sous-titres de vidéos\n",
       "75     nan                                         264"
      ]
     },
     "execution_count": 41,
     "metadata": {},
     "output_type": "execute_result"
    }
   ],
   "source": [
    "auteur_dans_sous_titres2('livres_les_plus_empruntes_a_paris','ss_youtube_nouveauté_livre_2023')"
   ]
  },
  {
   "cell_type": "markdown",
   "metadata": {},
   "source": [
    "\"nan\" n'est pas un auteur mais simplement la dénomination utilisée dans la base de données lorsqu'on connaît pas l'auteur. Donc il n'y a aucun auteur de cette base de données mentionné."
   ]
  },
  {
   "cell_type": "markdown",
   "metadata": {},
   "source": [
    "### 2.2.5 Recherche des auteurs de livre de la base de données livraddict_prix_2024.csv\n"
   ]
  },
  {
   "cell_type": "code",
   "execution_count": 42,
   "metadata": {},
   "outputs": [
    {
     "name": "stdout",
     "output_type": "stream",
     "text": [
      "Auteurs de la base de données livraddict_prix_2024.csv dans les sous-titres de vidéos youtube de la base de données ss_youtube_nouveauté_livre_2023.csv\n"
     ]
    },
    {
     "data": {
      "text/html": [
       "<div>\n",
       "<style scoped>\n",
       "    .dataframe tbody tr th:only-of-type {\n",
       "        vertical-align: middle;\n",
       "    }\n",
       "\n",
       "    .dataframe tbody tr th {\n",
       "        vertical-align: top;\n",
       "    }\n",
       "\n",
       "    .dataframe thead th {\n",
       "        text-align: right;\n",
       "    }\n",
       "</style>\n",
       "<table border=\"1\" class=\"dataframe\">\n",
       "  <thead>\n",
       "    <tr style=\"text-align: right;\">\n",
       "      <th></th>\n",
       "      <th>Auteurs</th>\n",
       "      <th>Occurrences dans les sous-titres de vidéos</th>\n",
       "    </tr>\n",
       "  </thead>\n",
       "  <tbody>\n",
       "  </tbody>\n",
       "</table>\n",
       "</div>"
      ],
      "text/plain": [
       "Empty DataFrame\n",
       "Columns: [Auteurs, Occurrences dans les sous-titres de vidéos]\n",
       "Index: []"
      ]
     },
     "execution_count": 42,
     "metadata": {},
     "output_type": "execute_result"
    }
   ],
   "source": [
    "auteur_dans_sous_titres('livraddict_prix_2024','ss_youtube_nouveauté_livre_2023')"
   ]
  },
  {
   "cell_type": "markdown",
   "metadata": {},
   "source": [
    "**L'autrice Virginie Grimaldi qui a écrit un des livres les mieux notés par les utilisateurs de livraddict parmi les livres sortis en 2023, apparaît dans une description de vidéo youtube.**"
   ]
  },
  {
   "cell_type": "markdown",
   "metadata": {},
   "source": [
    "### 2.2.6 Recherche des auteurs de livre de la base de données prix_litteraires.csv"
   ]
  },
  {
   "cell_type": "code",
   "execution_count": 43,
   "metadata": {},
   "outputs": [
    {
     "name": "stdout",
     "output_type": "stream",
     "text": [
      "Auteurs de la base de données prix_litteraires.csv dans les sous-titres de vidéos youtube de la base de données ss_youtube_nouveauté_livre_2023.csv\n"
     ]
    },
    {
     "data": {
      "text/html": [
       "<div>\n",
       "<style scoped>\n",
       "    .dataframe tbody tr th:only-of-type {\n",
       "        vertical-align: middle;\n",
       "    }\n",
       "\n",
       "    .dataframe tbody tr th {\n",
       "        vertical-align: top;\n",
       "    }\n",
       "\n",
       "    .dataframe thead th {\n",
       "        text-align: right;\n",
       "    }\n",
       "</style>\n",
       "<table border=\"1\" class=\"dataframe\">\n",
       "  <thead>\n",
       "    <tr style=\"text-align: right;\">\n",
       "      <th></th>\n",
       "      <th>Auteurs</th>\n",
       "      <th>Occurrences dans les sous-titres de vidéos</th>\n",
       "    </tr>\n",
       "  </thead>\n",
       "  <tbody>\n",
       "    <tr>\n",
       "      <th>16</th>\n",
       "      <td>Copi</td>\n",
       "      <td>2</td>\n",
       "    </tr>\n",
       "  </tbody>\n",
       "</table>\n",
       "</div>"
      ],
      "text/plain": [
       "   Auteurs  Occurrences dans les sous-titres de vidéos\n",
       "16    Copi                                           2"
      ]
     },
     "execution_count": 43,
     "metadata": {},
     "output_type": "execute_result"
    }
   ],
   "source": [
    "auteur_dans_sous_titres('prix_litteraires','ss_youtube_nouveauté_livre_2023')"
   ]
  },
  {
   "cell_type": "markdown",
   "metadata": {},
   "source": [
    "Il n'y a aucun auteur de cette base de données mentionné."
   ]
  },
  {
   "cell_type": "markdown",
   "metadata": {},
   "source": [
    "### 2.2.7 Recherche des auteurs de livre de la base de données Base_finale.csv"
   ]
  },
  {
   "cell_type": "code",
   "execution_count": 44,
   "metadata": {},
   "outputs": [
    {
     "name": "stdout",
     "output_type": "stream",
     "text": [
      "Auteurs de la base de données Base_finale.csv dans les sous-titres de vidéos youtube de la base de données ss_youtube_nouveauté_livre_2023.csv\n"
     ]
    },
    {
     "data": {
      "text/html": [
       "<div>\n",
       "<style scoped>\n",
       "    .dataframe tbody tr th:only-of-type {\n",
       "        vertical-align: middle;\n",
       "    }\n",
       "\n",
       "    .dataframe tbody tr th {\n",
       "        vertical-align: top;\n",
       "    }\n",
       "\n",
       "    .dataframe thead th {\n",
       "        text-align: right;\n",
       "    }\n",
       "</style>\n",
       "<table border=\"1\" class=\"dataframe\">\n",
       "  <thead>\n",
       "    <tr style=\"text-align: right;\">\n",
       "      <th></th>\n",
       "      <th>Auteurs</th>\n",
       "      <th>Occurrences dans les sous-titres de vidéos</th>\n",
       "    </tr>\n",
       "  </thead>\n",
       "  <tbody>\n",
       "    <tr>\n",
       "      <th>22</th>\n",
       "      <td>Léo</td>\n",
       "      <td>17</td>\n",
       "    </tr>\n",
       "    <tr>\n",
       "      <th>30</th>\n",
       "      <td>Squeezie</td>\n",
       "      <td>1</td>\n",
       "    </tr>\n",
       "    <tr>\n",
       "      <th>61</th>\n",
       "      <td>Stephen King</td>\n",
       "      <td>6</td>\n",
       "    </tr>\n",
       "    <tr>\n",
       "      <th>118</th>\n",
       "      <td>Hannah Grace</td>\n",
       "      <td>1</td>\n",
       "    </tr>\n",
       "    <tr>\n",
       "      <th>201</th>\n",
       "      <td>Copi</td>\n",
       "      <td>2</td>\n",
       "    </tr>\n",
       "    <tr>\n",
       "      <th>379</th>\n",
       "      <td>nan</td>\n",
       "      <td>264</td>\n",
       "    </tr>\n",
       "    <tr>\n",
       "      <th>441</th>\n",
       "      <td>Michel Bussi</td>\n",
       "      <td>1</td>\n",
       "    </tr>\n",
       "  </tbody>\n",
       "</table>\n",
       "</div>"
      ],
      "text/plain": [
       "          Auteurs  Occurrences dans les sous-titres de vidéos\n",
       "22            Léo                                          17\n",
       "30       Squeezie                                           1\n",
       "61   Stephen King                                           6\n",
       "118  Hannah Grace                                           1\n",
       "201          Copi                                           2\n",
       "379           nan                                         264\n",
       "441  Michel Bussi                                           1"
      ]
     },
     "execution_count": 44,
     "metadata": {},
     "output_type": "execute_result"
    }
   ],
   "source": [
    "auteur_dans_sous_titres('Base_finale','ss_youtube_nouveauté_livre_2023')"
   ]
  },
  {
   "cell_type": "markdown",
   "metadata": {},
   "source": [
    "**Les auteurs Léo, Agnès Martin-Lugand, Michel Bussi et Virginie Grimaldi apparaissent dans des descriptions vidéos.** \"nan\" n'est pas un auteur mais simplement la dénomination utilisée dans la base de données lorsqu'on connaît pas l'auteur. Donc il n'y a aucun auteur de cette base de données mentionné."
   ]
  },
  {
   "cell_type": "markdown",
   "metadata": {},
   "source": [
    "# Conclusion\n",
    "\n",
    "En résumé, en tout **8 livres** (Les livres *Babel* de R. F. Kuang,  *À la ligne* de Joseph Ponthus, *Troies vies par semaine* de Michel Bussi, *Veiller sur elle* de Jean-Baptiste Andrea, *Le culte* de Camilla Läckberg et Henrik Fexeus, *Otages* de Nina Bouraoui, *Performance* de Simon Liberati et *Révolution* de Florent Grouazel) et **5 auteurs** (Joseph Ponthus, Léo, Michel Bussi, Virginie Grimaldi et Agnès Martin-Lugand) apparaissent dans des descriptions de vidéos youtube des deux bases de données utilisées.\n",
    "Cela laisserait donc penser que seulement 8 livres et 5 auteurs apparaissent dans les vidéos youtubes de nos bases de données.\n",
    "Cependant plusieurs points sont à prendre en compte:\n",
    "-**des vidéos youtubes peuvent être sur un livre ou un auteur sans le citer dans la description, il peut aussi ne même pas y avoir de description.**\n",
    "-**il peut y avoir des fautes d'orthographes et des erreurs de ponctuation dans les titres des livres dans les description youtube qui ne sont alors pas comptés dans ce programme.**\n",
    "On peut pour autant remarquer que **certains titres de livre ou noms d'auteur sont assez courants pour désigner autre chose, ce qui peut fausser les résultats.**\n",
    "\n",
    "**Pour essayer d'obtenir de meilleurs résultats, on va par la suite rechercher les titres et auteurs des livres dans les sous-titres de vidéos des bases de données en possédant dans le fichier stat_descriptives_youtube.ipynb**"
   ]
  }
 ],
 "metadata": {
  "kernelspec": {
   "display_name": "base",
   "language": "python",
   "name": "python3"
  },
  "language_info": {
   "codemirror_mode": {
    "name": "ipython",
    "version": 3
   },
   "file_extension": ".py",
   "mimetype": "text/x-python",
   "name": "python",
   "nbconvert_exporter": "python",
   "pygments_lexer": "ipython3",
   "version": "3.12.7"
  }
 },
 "nbformat": 4,
 "nbformat_minor": 2
}
