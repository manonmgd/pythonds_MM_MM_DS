{
 "cells": [
  {
   "cell_type": "markdown",
   "metadata": {},
   "source": [
    "QUAND YA PAS DE LIEN, ON A PAS A UTILISER REQUEST"
   ]
  },
  {
   "cell_type": "code",
   "execution_count": 6,
   "metadata": {},
   "outputs": [
    {
     "name": "stdout",
     "output_type": "stream",
     "text": [
      "Fichiers extraits avec succès.\n"
     ]
    }
   ],
   "source": [
    "import pandas as pd\n",
    "import zipfile\n",
    "\n",
    "# Chemin du fichier ZIP local\n",
    "path = \"/home/onyxia/work/pythonds_MM_MM_DS/books.csv(1).zip\"\n",
    "\n",
    "# Vérification et extraction du fichier ZIP\n",
    "try:\n",
    "    with zipfile.ZipFile(path, 'r') as z:  # Ouvre le fichier ZIP en mode lecture\n",
    "        z.extractall(\"\")          # Extraction dans le dossier \"data_exo\"\n",
    "    print(\"Fichiers extraits avec succès.\")\n",
    "except FileNotFoundError:\n",
    "    print(\"Erreur : fichier non trouvé au chemin spécifié.\")\n",
    "except zipfile.BadZipFile:\n",
    "    print(\"Erreur : le fichier spécifié n'est pas un ZIP valide.\")\n",
    "\n"
   ]
  },
  {
   "cell_type": "code",
   "execution_count": 11,
   "metadata": {},
   "outputs": [
    {
     "name": "stdout",
     "output_type": "stream",
     "text": [
      "Les 5 premières lignes du fichier CSV :\n",
      "   bookID                                              title  \\\n",
      "0       1  Harry Potter and the Half-Blood Prince (Harry ...   \n",
      "1       2  Harry Potter and the Order of the Phoenix (Har...   \n",
      "2       4  Harry Potter and the Chamber of Secrets (Harry...   \n",
      "3       5  Harry Potter and the Prisoner of Azkaban (Harr...   \n",
      "4       8  Harry Potter Boxed Set  Books 1-5 (Harry Potte...   \n",
      "\n",
      "                      authors  average_rating        isbn         isbn13  \\\n",
      "0  J.K. Rowling/Mary GrandPré            4.57  0439785960  9780439785969   \n",
      "1  J.K. Rowling/Mary GrandPré            4.49  0439358078  9780439358071   \n",
      "2                J.K. Rowling            4.42  0439554896  9780439554893   \n",
      "3  J.K. Rowling/Mary GrandPré            4.56  043965548X  9780439655484   \n",
      "4  J.K. Rowling/Mary GrandPré            4.78  0439682584  9780439682589   \n",
      "\n",
      "  language_code    num_pages  ratings_count  text_reviews_count  \\\n",
      "0           eng          652        2095690               27591   \n",
      "1           eng          870        2153167               29221   \n",
      "2           eng          352           6333                 244   \n",
      "3           eng          435        2339585               36325   \n",
      "4           eng         2690          41428                 164   \n",
      "\n",
      "  publication_date        publisher  \n",
      "0        9/16/2006  Scholastic Inc.  \n",
      "1         9/1/2004  Scholastic Inc.  \n",
      "2        11/1/2003       Scholastic  \n",
      "3         5/1/2004  Scholastic Inc.  \n",
      "4        9/13/2004       Scholastic  \n",
      "Colonnes dans le fichier CSV :\n",
      "Index(['bookID', 'title', 'authors', 'average_rating', 'isbn', 'isbn13',\n",
      "       'language_code', '  num_pages', 'ratings_count', 'text_reviews_count',\n",
      "       'publication_date', 'publisher'],\n",
      "      dtype='object')\n"
     ]
    }
   ],
   "source": [
    "csv_path = \"/home/onyxia/work/pythonds_MM_MM_DS/books.csv\"\n",
    "# Charger le fichier CSV dans un DataFrame\n",
    "df = pd.read_csv(csv_path, on_bad_lines='skip')\n",
    "\n",
    "\n",
    "# Afficher les 5 premières lignes du fichier\n",
    "print(\"Les 5 premières lignes du fichier CSV :\")\n",
    "print(df.head())\n",
    "\n",
    "# Afficher les colonnes disponibles\n",
    "print(\"Colonnes dans le fichier CSV :\")\n",
    "print(df.columns)"
   ]
  }
 ],
 "metadata": {
  "kernelspec": {
   "display_name": "base",
   "language": "python",
   "name": "python3"
  },
  "language_info": {
   "codemirror_mode": {
    "name": "ipython",
    "version": 3
   },
   "file_extension": ".py",
   "mimetype": "text/x-python",
   "name": "python",
   "nbconvert_exporter": "python",
   "pygments_lexer": "ipython3",
   "version": "3.12.7"
  }
 },
 "nbformat": 4,
 "nbformat_minor": 2
}
