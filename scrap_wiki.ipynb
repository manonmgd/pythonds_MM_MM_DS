{
 "cells": [
  {
   "cell_type": "markdown",
   "metadata": {},
   "source": [
    "Le but de se code est de scrapper les prix littéraires en France entre 2019 et 2023"
   ]
  },
  {
   "cell_type": "code",
   "execution_count": 9,
   "metadata": {},
   "outputs": [],
   "source": [
    "# on importe la bibliothèque requests\n",
    "import requests\n",
    "from bs4 import BeautifulSoup # on importe BeautifulSoup\n",
    "import pandas as pd"
   ]
  },
  {
   "cell_type": "markdown",
   "metadata": {},
   "source": [
    "On crée un dataframe vide avec comme colonnes les infos qu'on va importer"
   ]
  },
  {
   "cell_type": "code",
   "execution_count": 10,
   "metadata": {},
   "outputs": [
    {
     "name": "stdout",
     "output_type": "stream",
     "text": [
      "Empty DataFrame\n",
      "Columns: [Année, Prix, Auteur, Titre]\n",
      "Index: []\n"
     ]
    }
   ],
   "source": [
    "colonnes = ['Année', 'Prix', 'Auteur', 'Titre']\n",
    "\n",
    "# Créer un DataFrame vide avec ces colonnes\n",
    "df = pd.DataFrame(columns=colonnes)\n",
    "\n",
    "print(df)"
   ]
  },
  {
   "cell_type": "markdown",
   "metadata": {},
   "source": [
    "On scrape"
   ]
  },
  {
   "cell_type": "code",
   "execution_count": 11,
   "metadata": {},
   "outputs": [],
   "source": [
    "def scrape_wikipedia_page_france(year):\n",
    "    global df\n",
    "    url = f\"https://fr.wikipedia.org/wiki/Prix_litt%C3%A9raires_{year}\"\n",
    "    response = requests.get(url)\n",
    "    response.encoding = \"utf-8\"  # On garantit le bon encodage\n",
    "\n",
    "    if response.status_code == 200:  # On vérifie si la requête est un succès\n",
    "        html_content = response.text\n",
    "        soup = BeautifulSoup(html_content, 'html.parser')\n",
    "\n",
    "        # On recherche la section France\n",
    "        france_section = soup.find('h2', string=\"France\")\n",
    "        if france_section:\n",
    "            # La liste <ul> qui suit contient les prix pour la France\n",
    "            france_list = france_section.find_next('ul')\n",
    "\n",
    "            if france_list:\n",
    "                # On recherche tous les <li> dans la liste\n",
    "                prizes = france_list.find_all('li')\n",
    "\n",
    "                # On extrait les données\n",
    "                for prize in prizes:\n",
    "                    # Nom du prix\n",
    "                    prize_name = prize.find('a')\n",
    "                    prize_name = prize_name.text.strip() if prize_name else None\n",
    "\n",
    "                    # Auteur\n",
    "                    author = prize.find_all('a')\n",
    "                    author = author[1].text.strip() if len(author) > 1 else None\n",
    "\n",
    "                    # Titre\n",
    "                    title = prize.find('i')\n",
    "                    title = title.text.strip() if title else None\n",
    "\n",
    "                    # On ajoute les résultats si les données sont complètes\n",
    "                    if prize_name and author and title:\n",
    "                        new_row = {'Année': year, 'Prix': prize_name, 'Auteur': author, 'Titre': title}\n",
    "                        df = pd.concat([df, pd.DataFrame([new_row])], ignore_index=True)\n",
    "        else:\n",
    "            print(f\"Section 'France' non trouvée pour l'année {year}\")\n",
    "    else:\n",
    "        print(f\"Erreur lors du scraping de l'année {year}: Status code {response.status_code}\")\n",
    "\n",
    "    return df"
   ]
  },
  {
   "cell_type": "code",
   "execution_count": 12,
   "metadata": {},
   "outputs": [],
   "source": [
    "for year in range(2019, 2024):\n",
    "    scrape_wikipedia_page_france(year)"
   ]
  },
  {
   "cell_type": "code",
   "execution_count": 13,
   "metadata": {},
   "outputs": [
    {
     "data": {
      "text/html": [
       "<div>\n",
       "<style scoped>\n",
       "    .dataframe tbody tr th:only-of-type {\n",
       "        vertical-align: middle;\n",
       "    }\n",
       "\n",
       "    .dataframe tbody tr th {\n",
       "        vertical-align: top;\n",
       "    }\n",
       "\n",
       "    .dataframe thead th {\n",
       "        text-align: right;\n",
       "    }\n",
       "</style>\n",
       "<table border=\"1\" class=\"dataframe\">\n",
       "  <thead>\n",
       "    <tr style=\"text-align: right;\">\n",
       "      <th></th>\n",
       "      <th>Année</th>\n",
       "      <th>Prix</th>\n",
       "      <th>Auteur</th>\n",
       "      <th>Titre</th>\n",
       "    </tr>\n",
       "  </thead>\n",
       "  <tbody>\n",
       "    <tr>\n",
       "      <th>0</th>\n",
       "      <td>2019</td>\n",
       "      <td>Prix Femina</td>\n",
       "      <td>Par les routes</td>\n",
       "      <td>Par les routes</td>\n",
       "    </tr>\n",
       "    <tr>\n",
       "      <th>1</th>\n",
       "      <td>2019</td>\n",
       "      <td>Prix Femina étranger</td>\n",
       "      <td>Ordesa</td>\n",
       "      <td>Ordesa</td>\n",
       "    </tr>\n",
       "    <tr>\n",
       "      <th>2</th>\n",
       "      <td>2019</td>\n",
       "      <td>Prix Femina essai</td>\n",
       "      <td>Emmanuelle Lambert</td>\n",
       "      <td>Giono furioso</td>\n",
       "    </tr>\n",
       "    <tr>\n",
       "      <th>3</th>\n",
       "      <td>2019</td>\n",
       "      <td>Prix Femina des lycéens</td>\n",
       "      <td>La Chaleur</td>\n",
       "      <td>La Chaleur</td>\n",
       "    </tr>\n",
       "    <tr>\n",
       "      <th>4</th>\n",
       "      <td>2019</td>\n",
       "      <td>Prix Goncourt</td>\n",
       "      <td>Tous les hommes n'habitent pas le monde de la ...</td>\n",
       "      <td>Tous les hommes n'habitent pas le monde de la ...</td>\n",
       "    </tr>\n",
       "  </tbody>\n",
       "</table>\n",
       "</div>"
      ],
      "text/plain": [
       "  Année                     Prix  \\\n",
       "0  2019              Prix Femina   \n",
       "1  2019     Prix Femina étranger   \n",
       "2  2019        Prix Femina essai   \n",
       "3  2019  Prix Femina des lycéens   \n",
       "4  2019            Prix Goncourt   \n",
       "\n",
       "                                              Auteur  \\\n",
       "0                                     Par les routes   \n",
       "1                                             Ordesa   \n",
       "2                                 Emmanuelle Lambert   \n",
       "3                                         La Chaleur   \n",
       "4  Tous les hommes n'habitent pas le monde de la ...   \n",
       "\n",
       "                                               Titre  \n",
       "0                                     Par les routes  \n",
       "1                                             Ordesa  \n",
       "2                                      Giono furioso  \n",
       "3                                         La Chaleur  \n",
       "4  Tous les hommes n'habitent pas le monde de la ...  "
      ]
     },
     "execution_count": 13,
     "metadata": {},
     "output_type": "execute_result"
    }
   ],
   "source": [
    "df.head(5)"
   ]
  },
  {
   "cell_type": "markdown",
   "metadata": {},
   "source": [
    "Création d'un fichier CSV afin de vérifier s'il n'y a pas d'incohérences"
   ]
  },
  {
   "cell_type": "code",
   "execution_count": 35,
   "metadata": {},
   "outputs": [],
   "source": [
    "df.to_csv(\"prix_litteraires.csv\", index=False)"
   ]
  },
  {
   "cell_type": "markdown",
   "metadata": {},
   "source": [
    "PARTIE: Corriger les incohérences de la table"
   ]
  },
  {
   "cell_type": "markdown",
   "metadata": {},
   "source": [
    "Création de fonctions"
   ]
  },
  {
   "cell_type": "code",
   "execution_count": null,
   "metadata": {},
   "outputs": [],
   "source": [
    "import requests\n",
    "import re\n",
    "from bs4 import BeautifulSoup as soup\n",
    "\n",
    "# Fonction pour rechercher un livre sur Babelio et accéder à la page du premier résultat\n",
    "def search_wikipedia(book_title, year):\n",
    "    #reformulation du titre en différente partie\n",
    "    parts = re.findall(r'\\w+|[^\\w\\s]', book_title)\n",
    "\n",
    "    # URL de recherche sur Livraddict\n",
    "    search_title = '%20'.join(parts)\n",
    "    lower_search_title = '%20'.join(parts).lower()\n",
    "    headers = {\n",
    "    'User-Agent': 'Mozilla/5.0 (Windows NT 10.0; Win64; x64) AppleWebKit/537.36 (KHTML, like Gecko) Chrome/91.0.4472.124 Safari/537.36'}\n",
    "    search_url = f'https://www.bing.com/search?q=Livre%20{search_title}%20{year}&qs=n&form=QBRE&sp=-1&ghc=1&lq=0&pq=livre%20{lower_search_title}%20{year}&sc=11-30&sk=&cvid=88409FB04E76408A93DE43207AD5027F&ghsh=0&ghacc=0&ghpl='\n",
    "\n",
    "    # Faire une requête pour récupérer la page des résultats de recherche\n",
    "    response = requests.get(search_url, headers=headers).content\n",
    "    response_text = response.decode('utf-8')\n",
    "    # Trouver le premier élément correspondant au lien d'un résultat\n",
    "    page = soup(response_text, \"html.parser\")\n",
    "    first_result = page.find('li', class_='b_algo')  # Trouve le premier résultat\n",
    "    if first_result:\n",
    "        link = first_result.find('a', href=True)  # Trouve le lien à l'intérieur de <a>\n",
    "        if link:\n",
    "            href = link['href']\n",
    "            # Si c'est une URL relative, complète-la\n",
    "            if href.startswith('/wiki'):\n",
    "                href = 'https://fr.wikipedia.org' + href\n",
    "            return href\n",
    "        else:\n",
    "                print(\"Pas de lien trouvé dans le premier résultat.\")\n",
    "                return None\n",
    "    else:\n",
    "            print(\"Pas de résultats trouvés.\")\n",
    "            return None"
   ]
  },
  {
   "cell_type": "markdown",
   "metadata": {},
   "source": [
    "RECHERCHE SUR GALLIMARD PCQ TROP DE BLOCAGES SUR LES MOTEURS DE RECHERCHE"
   ]
  },
  {
   "cell_type": "code",
   "execution_count": 32,
   "metadata": {},
   "outputs": [],
   "source": [
    "import time\n",
    "import re\n",
    "import requests\n",
    "from bs4 import BeautifulSoup as soup\n",
    "\n",
    "def search_gallimard(book_title, year):\n",
    "    #reformulation du titre en différente partie\n",
    "    parts = re.findall(r'\\w+|[^\\w\\s]', book_title)\n",
    "    book_title_gen = book_title.lower().strip()\n",
    "\n",
    "    # URL de recherche sur Livraddict\n",
    "    search_title = '+'.join(parts)\n",
    "    lower_search_title = '%20'.join(parts).lower()\n",
    "    headers = {\n",
    "    'User-Agent': 'Mozilla/5.0 (Windows NT 10.0; Win64; x64; rv:118.0) Gecko/20100101 Firefox/118.0'}\n",
    "    search_url = f'https://www.gallimard.fr/catalogue?search_api_fulltext={search_title}&field_date_de_parution_1%5Bdate%5D={year}-01-01&field_date_de_parution_2%5Bdate%5D={year}-12-31&field_prix%5Bmin%5D=&field_prix%5Bmax%5D=&title_3=&items_per_page=20&sort_bef_combine=field_identifiant_catalogue_ASC'\n",
    "    time.sleep(5)\n",
    "\n",
    "    # Faire une requête pour récupérer la page des résultats de recherche\n",
    "    response = requests.get(search_url, headers=headers).content\n",
    "    response_text = response.decode('utf-8')\n",
    "    # Trouver le premier élément correspondant au lien d'un résultat\n",
    "    page = soup(response_text, \"html.parser\")\n",
    "    results = page.find_all(\"div\", class_ = \"card--ouvrage\")\n",
    "    author = ''\n",
    "    for i in range(len(results)):\n",
    "        result = results[i]\n",
    "        div_title = result.find(\"div\", class_ = \"title\")\n",
    "        title = div_title.text\n",
    "        title_gen = title.lower().strip()\n",
    "        if book_title_gen == title_gen:\n",
    "            div_author = result.find('div', class_='paragraph paragraph--type--auteur paragraph--view-mode--links')\n",
    "            a_author = div_author.find(\"a\")\n",
    "            author = a_author.text\n",
    "    if author == '':\n",
    "        author = \"Pas trouvé sur Gallimard\"\n",
    "    return author"
   ]
  },
  {
   "cell_type": "markdown",
   "metadata": {},
   "source": [
    "ESSAI"
   ]
  },
  {
   "cell_type": "code",
   "execution_count": 28,
   "metadata": {},
   "outputs": [
    {
     "data": {
      "text/plain": [
       "'Sylvain Prudhomme'"
      ]
     },
     "execution_count": 28,
     "metadata": {},
     "output_type": "execute_result"
    }
   ],
   "source": [
    "search_gallimard('Par les routes', '2019')"
   ]
  },
  {
   "cell_type": "markdown",
   "metadata": {},
   "source": [
    "Fonction pour récupérer l'information sur l'auteur depuis la page wikipedia je pense que je vais enlever tout ça"
   ]
  },
  {
   "cell_type": "code",
   "execution_count": 25,
   "metadata": {},
   "outputs": [],
   "source": [
    "def recup_info(url):\n",
    "    headers = {\n",
    "    'User-Agent': 'Mozilla/5.0 (Windows NT 10.0; Win64; x64) AppleWebKit/537.36 (KHTML, like Gecko) Chrome/91.0.4472.124 Safari/537.36'}\n",
    "    response = requests.get(url, headers=headers).text\n",
    "    if response == None:\n",
    "        author = \"problème d'URL\"\n",
    "    page = BeautifulSoup(response, \"html.parser\")\n",
    "    table = page.find('table', {'class': 'infobox'})\n",
    "    if table == None:\n",
    "        author = \"Erreur de trouvaille de la table wikipédia\" \n",
    "    else: \n",
    "        rows = table.find_all('tr')\n",
    "        if rows == None:\n",
    "            author = \"Pas de catégories trouvées dans la table\"\n",
    "        else:\n",
    "            tr_author = rows.find(\"tr\")\n",
    "            if tr_author == None:\n",
    "                author = \"Pas de rubrique auteur dans la table\"\n",
    "            else:\n",
    "                td_author = tr_author.find(\"td\")\n",
    "                if td_author == None:\n",
    "                    author = \"Pas de nom dans la ligne auteur (td)\"\n",
    "                else:\n",
    "                    a_autor = td_author.find(\"a\")\n",
    "                    if a_autor == None :\n",
    "                        author = \"Pas de nom dans la ligne auteur (a)\"\n",
    "                    else:\n",
    "                        author = a_autor.get(\"title\")\n",
    "                        if author == None:\n",
    "                            author = \"Pas de nom dans la ligne auteur (title)\"\n",
    "        \n",
    "    return author\n",
    "\n"
   ]
  },
  {
   "cell_type": "code",
   "execution_count": 66,
   "metadata": {},
   "outputs": [],
   "source": [
    "import time\n",
    "import re\n",
    "import requests\n",
    "from bs4 import BeautifulSoup as soup\n",
    "\n",
    "def search_maison_du_livre(book_title, year):\n",
    "    #reformulation du titre en différente partie\n",
    "    parts = re.findall(r'\\w+|[^\\w\\s]', book_title)\n",
    "    book_title_gen = book_title.lower().strip()\n",
    "\n",
    "    # URL de recherche sur Livraddict\n",
    "    search_title = '+'.join(parts)\n",
    "    headers = {\n",
    "    'User-Agent': 'Mozilla/5.0 (Windows NT 10.0; Win64; x64; rv:118.0) Gecko/20100101 Firefox/118.0'}\n",
    "    search_url = f'https://www.maisondulivre.com/listeliv.php?base=paper&mots_recherche={search_title}+{year}'\n",
    "    time.sleep(5)\n",
    "\n",
    "    # Faire une requête pour récupérer la page des résultats de recherche\n",
    "    response = requests.get(search_url, headers=headers).content\n",
    "    response_text = response.decode('utf-8')\n",
    "\n",
    "    # Trouver le premier élément correspondant au lien d'un résultat\n",
    "    page = soup(response_text, \"html.parser\")\n",
    "    liste_livres = page.find('ul', {'id': 'liste_livres'})\n",
    "    livres = liste_livres.find_all(\"li\")\n",
    "    author = ''\n",
    "    for i in range(len(livres)):\n",
    "        livre = livres[i]\n",
    "        h2_titre = livre.find(\"h2\", class_=\"livre_titre\")\n",
    "        if h2_titre:\n",
    "            a_titre = h2_titre.find(\"a\")\n",
    "            titre = a_titre.get_text(strip=True)\n",
    "            title_adapted = re.sub(r'\\s?\\(.*?\\)', '', titre)\n",
    "            title_gen = title_adapted.lower().strip()\n",
    "            if title_gen == book_title_gen:\n",
    "                h2_auteur = livre.find(\"h2\", class_ = \"livre_auteur\")\n",
    "                if h2_auteur == None:\n",
    "                    auteur = \"Auteur non renseigné\"\n",
    "                else:\n",
    "                    a_auteur = h2_auteur.find(\"a\")\n",
    "                    author = a_auteur.get_text(strip=True)\n",
    "    if author == '':\n",
    "        author = \"Livre pas trouvé\"\n",
    "    return author"
   ]
  },
  {
   "cell_type": "code",
   "execution_count": 63,
   "metadata": {},
   "outputs": [
    {
     "data": {
      "text/plain": [
       "'Manuel Vilas'"
      ]
     },
     "execution_count": 63,
     "metadata": {},
     "output_type": "execute_result"
    }
   ],
   "source": [
    "search_maison_du_livre('Ordesa', '2019')"
   ]
  },
  {
   "cell_type": "code",
   "execution_count": 31,
   "metadata": {},
   "outputs": [],
   "source": [
    "def search_author(row):\n",
    "    if row[\"Auteur\"] == row[\"Titre\"]:\n",
    "        author = search_gallimard(row[\"Titre\"], row[\"Année\"])\n",
    "        if author == None:\n",
    "            author = \"Problème dans la fonction?\"\n",
    "        return author\n",
    "    else:\n",
    "        return row[\"Auteur\"]"
   ]
  },
  {
   "cell_type": "markdown",
   "metadata": {},
   "source": [
    "Fonction globale allant chercher l'auteur de l'ouvrage quand ce dernier n'est pas indiqué. Attention, l'opération prend à peu près 8 minutes"
   ]
  },
  {
   "cell_type": "code",
   "execution_count": 33,
   "metadata": {},
   "outputs": [],
   "source": [
    "df['Auteur'] = df.apply(search_author, axis=1)"
   ]
  },
  {
   "cell_type": "code",
   "execution_count": 34,
   "metadata": {},
   "outputs": [
    {
     "data": {
      "text/html": [
       "<div>\n",
       "<style scoped>\n",
       "    .dataframe tbody tr th:only-of-type {\n",
       "        vertical-align: middle;\n",
       "    }\n",
       "\n",
       "    .dataframe tbody tr th {\n",
       "        vertical-align: top;\n",
       "    }\n",
       "\n",
       "    .dataframe thead th {\n",
       "        text-align: right;\n",
       "    }\n",
       "</style>\n",
       "<table border=\"1\" class=\"dataframe\">\n",
       "  <thead>\n",
       "    <tr style=\"text-align: right;\">\n",
       "      <th></th>\n",
       "      <th>Année</th>\n",
       "      <th>Prix</th>\n",
       "      <th>Auteur</th>\n",
       "      <th>Titre</th>\n",
       "    </tr>\n",
       "  </thead>\n",
       "  <tbody>\n",
       "    <tr>\n",
       "      <th>0</th>\n",
       "      <td>2019</td>\n",
       "      <td>Prix Femina</td>\n",
       "      <td>Sylvain Prudhomme</td>\n",
       "      <td>Par les routes</td>\n",
       "    </tr>\n",
       "    <tr>\n",
       "      <th>1</th>\n",
       "      <td>2019</td>\n",
       "      <td>Prix Femina étranger</td>\n",
       "      <td>Pas trouvé sur Gallimard</td>\n",
       "      <td>Ordesa</td>\n",
       "    </tr>\n",
       "    <tr>\n",
       "      <th>2</th>\n",
       "      <td>2019</td>\n",
       "      <td>Prix Femina essai</td>\n",
       "      <td>Emmanuelle Lambert</td>\n",
       "      <td>Giono furioso</td>\n",
       "    </tr>\n",
       "    <tr>\n",
       "      <th>3</th>\n",
       "      <td>2019</td>\n",
       "      <td>Prix Femina des lycéens</td>\n",
       "      <td>Pas trouvé sur Gallimard</td>\n",
       "      <td>La Chaleur</td>\n",
       "    </tr>\n",
       "    <tr>\n",
       "      <th>4</th>\n",
       "      <td>2019</td>\n",
       "      <td>Prix Goncourt</td>\n",
       "      <td>Pas trouvé sur Gallimard</td>\n",
       "      <td>Tous les hommes n'habitent pas le monde de la ...</td>\n",
       "    </tr>\n",
       "  </tbody>\n",
       "</table>\n",
       "</div>"
      ],
      "text/plain": [
       "  Année                     Prix                    Auteur  \\\n",
       "0  2019              Prix Femina         Sylvain Prudhomme   \n",
       "1  2019     Prix Femina étranger  Pas trouvé sur Gallimard   \n",
       "2  2019        Prix Femina essai        Emmanuelle Lambert   \n",
       "3  2019  Prix Femina des lycéens  Pas trouvé sur Gallimard   \n",
       "4  2019            Prix Goncourt  Pas trouvé sur Gallimard   \n",
       "\n",
       "                                               Titre  \n",
       "0                                     Par les routes  \n",
       "1                                             Ordesa  \n",
       "2                                      Giono furioso  \n",
       "3                                         La Chaleur  \n",
       "4  Tous les hommes n'habitent pas le monde de la ...  "
      ]
     },
     "execution_count": 34,
     "metadata": {},
     "output_type": "execute_result"
    }
   ],
   "source": [
    "df.head(5)"
   ]
  },
  {
   "cell_type": "markdown",
   "metadata": {},
   "source": [
    "Pour compléter ce qu'on a déjà fait sur Gallimard, on va utiliser un scraping sur le site de la maison du livre"
   ]
  },
  {
   "cell_type": "code",
   "execution_count": 67,
   "metadata": {},
   "outputs": [],
   "source": [
    "def complete_author(row):\n",
    "    if row[\"Auteur\"] == \"Pas trouvé sur Gallimard\":\n",
    "        author = search_maison_du_livre(row[\"Titre\"], row[\"Année\"])\n",
    "        if author == None:\n",
    "            author = \"Problème dans la fonction?\"\n",
    "        return author\n",
    "    else:\n",
    "        return row[\"Auteur\"]"
   ]
  },
  {
   "cell_type": "code",
   "execution_count": 68,
   "metadata": {},
   "outputs": [],
   "source": [
    "df['Auteur'] = df.apply(complete_author, axis=1)"
   ]
  },
  {
   "cell_type": "code",
   "execution_count": 69,
   "metadata": {},
   "outputs": [
    {
     "data": {
      "text/html": [
       "<div>\n",
       "<style scoped>\n",
       "    .dataframe tbody tr th:only-of-type {\n",
       "        vertical-align: middle;\n",
       "    }\n",
       "\n",
       "    .dataframe tbody tr th {\n",
       "        vertical-align: top;\n",
       "    }\n",
       "\n",
       "    .dataframe thead th {\n",
       "        text-align: right;\n",
       "    }\n",
       "</style>\n",
       "<table border=\"1\" class=\"dataframe\">\n",
       "  <thead>\n",
       "    <tr style=\"text-align: right;\">\n",
       "      <th></th>\n",
       "      <th>Année</th>\n",
       "      <th>Prix</th>\n",
       "      <th>Auteur</th>\n",
       "      <th>Titre</th>\n",
       "    </tr>\n",
       "  </thead>\n",
       "  <tbody>\n",
       "    <tr>\n",
       "      <th>0</th>\n",
       "      <td>2019</td>\n",
       "      <td>Prix Femina</td>\n",
       "      <td>Sylvain Prudhomme</td>\n",
       "      <td>Par les routes</td>\n",
       "    </tr>\n",
       "    <tr>\n",
       "      <th>1</th>\n",
       "      <td>2019</td>\n",
       "      <td>Prix Femina étranger</td>\n",
       "      <td>Manuel Vilas</td>\n",
       "      <td>Ordesa</td>\n",
       "    </tr>\n",
       "    <tr>\n",
       "      <th>2</th>\n",
       "      <td>2019</td>\n",
       "      <td>Prix Femina essai</td>\n",
       "      <td>Emmanuelle Lambert</td>\n",
       "      <td>Giono furioso</td>\n",
       "    </tr>\n",
       "    <tr>\n",
       "      <th>3</th>\n",
       "      <td>2019</td>\n",
       "      <td>Prix Femina des lycéens</td>\n",
       "      <td>Victor Jestin</td>\n",
       "      <td>La Chaleur</td>\n",
       "    </tr>\n",
       "    <tr>\n",
       "      <th>4</th>\n",
       "      <td>2019</td>\n",
       "      <td>Prix Goncourt</td>\n",
       "      <td>Jean-Paul Dubois</td>\n",
       "      <td>Tous les hommes n'habitent pas le monde de la ...</td>\n",
       "    </tr>\n",
       "    <tr>\n",
       "      <th>5</th>\n",
       "      <td>2019</td>\n",
       "      <td>Prix Goncourt du premier roman</td>\n",
       "      <td>Marie Gauthier</td>\n",
       "      <td>Court vêtue</td>\n",
       "    </tr>\n",
       "    <tr>\n",
       "      <th>6</th>\n",
       "      <td>2019</td>\n",
       "      <td>Prix Goncourt des lycéens</td>\n",
       "      <td>Karine Tuil</td>\n",
       "      <td>Les Choses humaines</td>\n",
       "    </tr>\n",
       "    <tr>\n",
       "      <th>7</th>\n",
       "      <td>2019</td>\n",
       "      <td>Prix Goncourt de la nouvelle</td>\n",
       "      <td>Caroline Lamarche</td>\n",
       "      <td>Nous sommes à la lisière</td>\n",
       "    </tr>\n",
       "    <tr>\n",
       "      <th>8</th>\n",
       "      <td>2019</td>\n",
       "      <td>Prix Goncourt de la biographie</td>\n",
       "      <td>Emily Dickinson</td>\n",
       "      <td>Manifeste incertain, volume 7 : Emily Dickinso...</td>\n",
       "    </tr>\n",
       "    <tr>\n",
       "      <th>9</th>\n",
       "      <td>2019</td>\n",
       "      <td>Choix Goncourt de la Pologne</td>\n",
       "      <td>Louis-philippe Dalembert</td>\n",
       "      <td>Mur Méditerranée</td>\n",
       "    </tr>\n",
       "  </tbody>\n",
       "</table>\n",
       "</div>"
      ],
      "text/plain": [
       "  Année                            Prix                    Auteur  \\\n",
       "0  2019                     Prix Femina         Sylvain Prudhomme   \n",
       "1  2019            Prix Femina étranger              Manuel Vilas   \n",
       "2  2019               Prix Femina essai        Emmanuelle Lambert   \n",
       "3  2019         Prix Femina des lycéens             Victor Jestin   \n",
       "4  2019                   Prix Goncourt          Jean-Paul Dubois   \n",
       "5  2019  Prix Goncourt du premier roman            Marie Gauthier   \n",
       "6  2019       Prix Goncourt des lycéens               Karine Tuil   \n",
       "7  2019    Prix Goncourt de la nouvelle         Caroline Lamarche   \n",
       "8  2019  Prix Goncourt de la biographie           Emily Dickinson   \n",
       "9  2019    Choix Goncourt de la Pologne  Louis-philippe Dalembert   \n",
       "\n",
       "                                               Titre  \n",
       "0                                     Par les routes  \n",
       "1                                             Ordesa  \n",
       "2                                      Giono furioso  \n",
       "3                                         La Chaleur  \n",
       "4  Tous les hommes n'habitent pas le monde de la ...  \n",
       "5                                        Court vêtue  \n",
       "6                                Les Choses humaines  \n",
       "7                           Nous sommes à la lisière  \n",
       "8  Manifeste incertain, volume 7 : Emily Dickinso...  \n",
       "9                                   Mur Méditerranée  "
      ]
     },
     "execution_count": 69,
     "metadata": {},
     "output_type": "execute_result"
    }
   ],
   "source": [
    "df.head(10)"
   ]
  },
  {
   "cell_type": "markdown",
   "metadata": {},
   "source": [
    "Regardons combien de valeurs sont pas encore expliquées"
   ]
  },
  {
   "cell_type": "code",
   "execution_count": 70,
   "metadata": {},
   "outputs": [],
   "source": [
    "df.to_csv(\"prix_litteraires.csv\", index=False)"
   ]
  },
  {
   "cell_type": "markdown",
   "metadata": {},
   "source": [
    "Je remplace à la main pour les dernières valeurs"
   ]
  },
  {
   "cell_type": "code",
   "execution_count": null,
   "metadata": {},
   "outputs": [],
   "source": [
    "df.loc[df['Titre'] == \"J'ai oublié\", 'Auteur'] = 'Bulle Ogier'\n",
    "df.loc[df['Titre'] == \"Une vieille histoire. Nouvelle version\", 'Auteur'] = 'Jonathan Littell'\n",
    "df.loc[df['Titre'] == \"Les Grands Cerfs\", 'Auteur'] = 'Claudie Hunzinger'\n",
    "df.loc[df['Titre'] == \"Anatèm\", 'Auteur'] = 'Neal Stephenson'\n",
    "df.loc[df['Titre'] == \"Le Cœur synthétique\", 'Auteur'] = 'Chloé Delaume'\n",
    "df.loc[df['Titre'] == \"Terra Ignota\", 'Auteur'] = 'Ada Palmer'\n",
    "df.loc[df['Titre'] == \"Histoire du fils\", 'Auteur'] = 'Marie-Hélène Lafon'\n",
    "df.loc[df['Titre'] == \"Adios Cow Boy\", 'Auteur'] = 'Olja Savičević Ivančević'\n",
    "df.loc[df['Titre'] == \"La Grâce\", 'Auteur'] = 'Thibault de Montaigu'\n",
    "df.loc[df['Titre'] == \"Le Voyant d'Étampes\", 'Auteur'] = 'Abel Quentin'\n",
    "df.loc[df['Titre'] == \"Héritage\", 'Auteur'] = 'Miguel Bonnefoy'\n",
    "df.loc[(df['Titre'] == 'Femme Actuelle') & (df['Année'] == 2019), ['Titre', 'Auteur', 'Prix']] = ['Au bout de la nuit', 'Bruno Bouzounie', \"Grand prix Roman de l'été de Femme Actuelle\"]\n",
    "df.loc[(df['Titre'] == 'Femme Actuelle') & (df['Année'] == 2020), ['Titre', 'Auteur', 'Prix']] = ['La Conjonction dorée', 'Benoît Sagaro', \"Grand prix Roman de l'été de Femme Actuelle\"]\n",
    "df.loc[(df['Titre'] == 'Femme Actuelle') & (df['Année'] == 2021), ['Titre', 'Auteur', 'Prix']] = ['Pour exister encore', 'Martine Duchesne', \"Grand prix Roman de l'été de Femme Actuelle\"]\n",
    "df.loc[(df['Titre'] == 'Femme Actuelle') & (df['Année'] == 2022), ['Titre', 'Auteur', 'Prix']] = [\"Le journal de Betty Swan\", 'Cindy Valt', \"Grand prix Roman de l'été de Femme Actuelle\"]\n",
    "df.loc[(df['Titre'] == 'Femme Actuelle') & (df['Année'] == 2023), ['Titre', 'Auteur', 'Prix']] = ['Hauteclaire', 'Dominique Delplace', \"Grand prix Roman de l'été de Femme Actuelle\"]\n",
    "\n",
    "df.loc[(df['Prix'] == 'Prix littéraire du Monde') & (df['Année'] == 2020), ['Titre', 'Auteur']] = ['Elle a menti pour les ailes', 'Francesca Serra']\n",
    "df.loc[(df['Prix'] == 'Prix Eugène-Dabit du roman populiste') & (df['Année'] == 2021), 'Auteur'] =  'Samira Sedira'\n",
    "df.loc[(df['Titre'] == 'Mon territoire') & (df['Année'] == 2020), ['Prix', 'Auteur']] = ['Grand prix des lectrices (Elle)', 'Tess Sharpe']\n",
    "df.loc[(df['Titre'] == 'Les Paupières des poissons') & (df['Année'] == 2019), ['Prix', 'Auteur']] = ['Prix Maya du livre animaliste', 'Fanny Vaucher, Sébastien Moro']\n",
    "df.loc[(df['Titre'] == 'Traverser l’invisible') & (df['Année'] == 2019), ['Prix', 'Auteur']] = ['Prix Maya du livre animaliste', 'Fanny Vaucher, Sébastien Moro']\n"
   ]
  },
  {
   "cell_type": "markdown",
   "metadata": {},
   "source": [
    "On vérifie qu'il n'y a bien plus aucune anomalie"
   ]
  },
  {
   "cell_type": "code",
   "execution_count": 84,
   "metadata": {},
   "outputs": [
    {
     "name": "stdout",
     "output_type": "stream",
     "text": [
      "Empty DataFrame\n",
      "Columns: [Année, Prix, Auteur, Titre]\n",
      "Index: []\n"
     ]
    }
   ],
   "source": [
    "erreur_recherche = [\"Livre pas trouvé\"]\n",
    "df_verif =  df[df[\"Auteur\"].isin(erreur_recherche)]\n",
    "print(df_verif)"
   ]
  },
  {
   "cell_type": "markdown",
   "metadata": {},
   "source": [
    "Je vérifie sur le csv qu'il n'y a plus d'anomalie"
   ]
  },
  {
   "cell_type": "code",
   "execution_count": 87,
   "metadata": {},
   "outputs": [],
   "source": [
    "df.to_csv(\"prix_litteraires.csv\", index=False)"
   ]
  },
  {
   "cell_type": "code",
   "execution_count": 17,
   "metadata": {},
   "outputs": [
    {
     "data": {
      "text/plain": [
       "[<tr>\n",
       " <td class=\"entete universite italique\" colspan=\"2\" style=\"background-color:#7DA7D9;color:black;\">La Mer des monstres<style data-mw-deduplicate=\"TemplateStyles:r160407116\">.mw-parser-output .entete.universite{background-image:url(\"//upload.wikimedia.org/wikipedia/commons/4/42/Picto_infobox_book.png\")}</style>\n",
       " </td></tr>,\n",
       " <tr><td colspan=\"2\" style=\"display:none;\">\n",
       " </td></tr>,\n",
       " <tr>\n",
       " <th scope=\"row\">Auteur\n",
       " </th>\n",
       " <td><a href=\"/wiki/Rick_Riordan\" title=\"Rick Riordan\">Rick Riordan</a>\n",
       " </td>\n",
       " </tr>,\n",
       " <tr>\n",
       " <th scope=\"row\">Pays\n",
       " </th>\n",
       " <td><span class=\"nowrap\"><span class=\"datasortkey\" data-sort-value=\"États unis\"><span class=\"flagicon\"><span class=\"mw-image-border noviewer\" typeof=\"mw:File\"><a class=\"mw-file-description\" href=\"/wiki/Fichier:Flag_of_the_United_States.svg\" title=\"Drapeau des États-Unis\"><img alt=\"Drapeau des États-Unis\" class=\"mw-file-element\" data-file-height=\"650\" data-file-width=\"1235\" decoding=\"async\" height=\"11\" src=\"//upload.wikimedia.org/wikipedia/commons/thumb/a/a4/Flag_of_the_United_States.svg/20px-Flag_of_the_United_States.svg.png\" srcset=\"//upload.wikimedia.org/wikipedia/commons/thumb/a/a4/Flag_of_the_United_States.svg/30px-Flag_of_the_United_States.svg.png 1.5x, //upload.wikimedia.org/wikipedia/commons/thumb/a/a4/Flag_of_the_United_States.svg/40px-Flag_of_the_United_States.svg.png 2x\" width=\"20\"/></a></span> </span><a href=\"/wiki/%C3%89tats-Unis\" title=\"États-Unis\">États-Unis</a></span></span>\n",
       " </td>\n",
       " </tr>,\n",
       " <tr>\n",
       " <th scope=\"row\">Genre\n",
       " </th>\n",
       " <td><a href=\"/wiki/Roman_(litt%C3%A9rature)\" title=\"Roman (littérature)\">Roman</a><br/><a href=\"/wiki/Fantasy\" title=\"Fantasy\">Fantasy</a>\n",
       " </td>\n",
       " </tr>,\n",
       " <tr>\n",
       " <th colspan=\"2\" style=\"padding:4px; text-align:center; background-color:#7DA7D9; color:#000000\">Version originale</th></tr>,\n",
       " <tr>\n",
       " <th scope=\"row\">Langue\n",
       " </th>\n",
       " <td><a href=\"/wiki/Anglais_am%C3%A9ricain\" title=\"Anglais américain\">Anglais américain</a>\n",
       " </td>\n",
       " </tr>,\n",
       " <tr>\n",
       " <th scope=\"row\">Titre\n",
       " </th>\n",
       " <td><i>The Sea of Monsters</i>\n",
       " </td>\n",
       " </tr>,\n",
       " <tr>\n",
       " <th scope=\"row\">Éditeur\n",
       " </th>\n",
       " <td><a href=\"/wiki/Miramax_Books\" title=\"Miramax Books\">Miramax Books</a>\n",
       " </td>\n",
       " </tr>,\n",
       " <tr>\n",
       " <th scope=\"row\">Lieu de parution\n",
       " </th>\n",
       " <td><a href=\"/wiki/New_York\" title=\"New York\">New York</a>\n",
       " </td>\n",
       " </tr>,\n",
       " <tr>\n",
       " <th scope=\"row\">Date de parution\n",
       " </th>\n",
       " <td><time class=\"nowrap date-lien\" data-sort-value=\"2006-03-21\" datetime=\"2006-03-21\"><a href=\"/wiki/21_mars\" title=\"21 mars\">21</a> <a href=\"/wiki/Mars_2006\" title=\"Mars 2006\">mars</a> <a href=\"/wiki/2006_en_litt%C3%A9rature\" title=\"2006 en littérature\">2006</a></time>\n",
       " </td>\n",
       " </tr>,\n",
       " <tr>\n",
       " <th scope=\"row\"><a href=\"/wiki/International_Standard_Book_Number\" title=\"International Standard Book Number\">ISBN</a>\n",
       " </th>\n",
       " <td><a href=\"/wiki/Sp%C3%A9cial:Ouvrages_de_r%C3%A9f%C3%A9rence/978-0786856862\" title=\"Spécial:Ouvrages de référence/978-0786856862\"><span class=\"nowrap\">978-0786856862</span></a>\n",
       " </td>\n",
       " </tr>,\n",
       " <tr>\n",
       " <th colspan=\"2\" style=\"padding:4px; text-align:center; background-color:#7DA7D9; color:#000000\">Version française</th></tr>,\n",
       " <tr>\n",
       " <th scope=\"row\">Traducteur\n",
       " </th>\n",
       " <td>Mona de Pracontal\n",
       " </td>\n",
       " </tr>,\n",
       " <tr>\n",
       " <th scope=\"row\">Éditeur\n",
       " </th>\n",
       " <td><a href=\"/wiki/%C3%89ditions_Albin_Michel\" title=\"Éditions Albin Michel\">Albin Michel</a>\n",
       " </td>\n",
       " </tr>,\n",
       " <tr>\n",
       " <th scope=\"row\">Collection\n",
       " </th>\n",
       " <td><a href=\"/wiki/Wiz_(collection)\" title=\"Wiz (collection)\">Wiz</a>\n",
       " </td>\n",
       " </tr>,\n",
       " <tr>\n",
       " <th scope=\"row\">Lieu de parution\n",
       " </th>\n",
       " <td><a href=\"/wiki/Paris\" title=\"Paris\">Paris</a>\n",
       " </td>\n",
       " </tr>,\n",
       " <tr>\n",
       " <th scope=\"row\">Date de parution\n",
       " </th>\n",
       " <td><time class=\"nowrap date-lien\" data-sort-value=\"2007-05-22\" datetime=\"2007-05-22\"><a href=\"/wiki/22_mai\" title=\"22 mai\">22</a> <a href=\"/wiki/Mai_2007\" title=\"Mai 2007\">mai</a> <a href=\"/wiki/2007_en_litt%C3%A9rature\" title=\"2007 en littérature\">2007</a></time>\n",
       " </td>\n",
       " </tr>,\n",
       " <tr>\n",
       " <th scope=\"row\">Type de média\n",
       " </th>\n",
       " <td>Livre papier\n",
       " </td>\n",
       " </tr>,\n",
       " <tr>\n",
       " <th scope=\"row\">Nombre de pages\n",
       " </th>\n",
       " <td>314\n",
       " </td>\n",
       " </tr>,\n",
       " <tr>\n",
       " <th scope=\"row\"><a href=\"/wiki/International_Standard_Book_Number\" title=\"International Standard Book Number\">ISBN</a>\n",
       " </th>\n",
       " <td><a href=\"/wiki/Sp%C3%A9cial:Ouvrages_de_r%C3%A9f%C3%A9rence/978-2226177612\" title=\"Spécial:Ouvrages de référence/978-2226177612\"><span class=\"nowrap\">978-2226177612</span></a>\n",
       " </td>\n",
       " </tr>,\n",
       " <tr>\n",
       " <th colspan=\"2\" style=\"padding:4px; text-align:center; background-color:#7DA7D9; color:#000000\">Chronologie</th></tr>,\n",
       " <tr>\n",
       " <th scope=\"row\">Série\n",
       " </th>\n",
       " <td><i><a href=\"/wiki/Percy_Jackson\" title=\"Percy Jackson\">Percy Jackson</a></i>\n",
       " </td>\n",
       " </tr>,\n",
       " <tr>\n",
       " <td colspan=\"2\" style=\"text-align:center;\">\n",
       " <table class=\"navigation-not-searchable\" style=\"width:100%; border-spacing:0; background-color:transparent; color:inherit;\">\n",
       " <tbody><tr>\n",
       " <td style=\"text-align:left; vertical-align:middle; width:5%; background-color:; color:inherit;\"><span typeof=\"mw:File\"><span><img alt=\"Précédent\" class=\"mw-file-element\" data-file-height=\"133\" data-file-width=\"110\" decoding=\"async\" height=\"16\" src=\"//upload.wikimedia.org/wikipedia/commons/thumb/a/a8/Arrleft.svg/13px-Arrleft.svg.png\" srcset=\"//upload.wikimedia.org/wikipedia/commons/thumb/a/a8/Arrleft.svg/20px-Arrleft.svg.png 1.5x, //upload.wikimedia.org/wikipedia/commons/thumb/a/a8/Arrleft.svg/26px-Arrleft.svg.png 2x\" width=\"13\"/></span></span>\n",
       " </td>\n",
       " <td style=\"width:1%; background-color:; color:inherit;\">\n",
       " </td>\n",
       " <td style=\"text-align:left; vertical-align:middle; width:44%; background-color:; color:inherit;\"> <i><a href=\"/wiki/Le_Voleur_de_foudre\" title=\"Le Voleur de foudre\">Le Voleur de foudre</a></i>\n",
       " </td>\n",
       " <td style=\"width:1%; background-color:transparent; color:inherit;\">\n",
       " </td>\n",
       " <td style=\"text-align:right; vertical-align:middle; width:44%; background-color:; color:inherit;\"> <i><a href=\"/wiki/Le_Sort_du_titan\" title=\"Le Sort du titan\">Le Sort du titan</a></i>\n",
       " </td>\n",
       " <td style=\"width:1%; background-color:; color:inherit;\">\n",
       " </td>\n",
       " <td style=\"text-align:right; vertical-align:middle; width:5%; background-color:; color:inherit;\"><span typeof=\"mw:File\"><span><img alt=\"Suivant\" class=\"mw-file-element\" data-file-height=\"133\" data-file-width=\"110\" decoding=\"async\" height=\"16\" src=\"//upload.wikimedia.org/wikipedia/commons/thumb/f/f4/Arrright.svg/13px-Arrright.svg.png\" srcset=\"//upload.wikimedia.org/wikipedia/commons/thumb/f/f4/Arrright.svg/20px-Arrright.svg.png 1.5x, //upload.wikimedia.org/wikipedia/commons/thumb/f/f4/Arrright.svg/26px-Arrright.svg.png 2x\" width=\"13\"/></span></span>\n",
       " </td>\n",
       " </tr>\n",
       " </tbody></table>\n",
       " </td></tr>,\n",
       " <tr>\n",
       " <td style=\"text-align:left; vertical-align:middle; width:5%; background-color:; color:inherit;\"><span typeof=\"mw:File\"><span><img alt=\"Précédent\" class=\"mw-file-element\" data-file-height=\"133\" data-file-width=\"110\" decoding=\"async\" height=\"16\" src=\"//upload.wikimedia.org/wikipedia/commons/thumb/a/a8/Arrleft.svg/13px-Arrleft.svg.png\" srcset=\"//upload.wikimedia.org/wikipedia/commons/thumb/a/a8/Arrleft.svg/20px-Arrleft.svg.png 1.5x, //upload.wikimedia.org/wikipedia/commons/thumb/a/a8/Arrleft.svg/26px-Arrleft.svg.png 2x\" width=\"13\"/></span></span>\n",
       " </td>\n",
       " <td style=\"width:1%; background-color:; color:inherit;\">\n",
       " </td>\n",
       " <td style=\"text-align:left; vertical-align:middle; width:44%; background-color:; color:inherit;\"> <i><a href=\"/wiki/Le_Voleur_de_foudre\" title=\"Le Voleur de foudre\">Le Voleur de foudre</a></i>\n",
       " </td>\n",
       " <td style=\"width:1%; background-color:transparent; color:inherit;\">\n",
       " </td>\n",
       " <td style=\"text-align:right; vertical-align:middle; width:44%; background-color:; color:inherit;\"> <i><a href=\"/wiki/Le_Sort_du_titan\" title=\"Le Sort du titan\">Le Sort du titan</a></i>\n",
       " </td>\n",
       " <td style=\"width:1%; background-color:; color:inherit;\">\n",
       " </td>\n",
       " <td style=\"text-align:right; vertical-align:middle; width:5%; background-color:; color:inherit;\"><span typeof=\"mw:File\"><span><img alt=\"Suivant\" class=\"mw-file-element\" data-file-height=\"133\" data-file-width=\"110\" decoding=\"async\" height=\"16\" src=\"//upload.wikimedia.org/wikipedia/commons/thumb/f/f4/Arrright.svg/13px-Arrright.svg.png\" srcset=\"//upload.wikimedia.org/wikipedia/commons/thumb/f/f4/Arrright.svg/20px-Arrright.svg.png 1.5x, //upload.wikimedia.org/wikipedia/commons/thumb/f/f4/Arrright.svg/26px-Arrright.svg.png 2x\" width=\"13\"/></span></span>\n",
       " </td>\n",
       " </tr>,\n",
       " <tr>\n",
       " <td class=\"navigation-only\" colspan=\"2\" style=\"border-top: 2px #7DA7D9 solid; font-size: 80%; background:inherit; color: inherit; text-align: right;\"><span class=\"plainlinks\" style=\"float:left;\"><a class=\"external text\" href=\"https://fr.wikipedia.org/w/index.php?title=La_Mer_des_monstres&amp;action=edit&amp;section=0\"><span class=\"infodoc\">modifier</span></a></span> <span typeof=\"mw:File\"><a href=\"/wiki/Mod%C3%A8le:Infobox_Livre\" title=\"Consultez la documentation du modèle\"><img alt=\"\" class=\"mw-file-element\" data-file-height=\"512\" data-file-width=\"512\" decoding=\"async\" height=\"12\" src=\"//upload.wikimedia.org/wikipedia/commons/thumb/3/38/Info_Simple.svg/12px-Info_Simple.svg.png\" srcset=\"//upload.wikimedia.org/wikipedia/commons/thumb/3/38/Info_Simple.svg/18px-Info_Simple.svg.png 1.5x, //upload.wikimedia.org/wikipedia/commons/thumb/3/38/Info_Simple.svg/24px-Info_Simple.svg.png 2x\" width=\"12\"/></a></span></td>\n",
       " </tr>]"
      ]
     },
     "execution_count": 17,
     "metadata": {},
     "output_type": "execute_result"
    }
   ],
   "source": [
    "recup_info('https://fr.wikipedia.org/wiki/La_Mer_des_monstres')"
   ]
  },
  {
   "cell_type": "code",
   "execution_count": 16,
   "metadata": {},
   "outputs": [],
   "source": [
    "def recup_info(url):\n",
    "    headers = {\n",
    "    'User-Agent': 'Mozilla/5.0 (Windows NT 10.0; Win64; x64) AppleWebKit/537.36 (KHTML, like Gecko) Chrome/91.0.4472.124 Safari/537.36'}\n",
    "    response = requests.get(url, headers=headers).content\n",
    "    page = BeautifulSoup(response, \"html.parser\")\n",
    "    table = page.find('table', {'class': 'infobox'})\n",
    "    rows = table.find_all('tr')\n",
    "    return rows"
   ]
  }
 ],
 "metadata": {
  "kernelspec": {
   "display_name": "base",
   "language": "python",
   "name": "python3"
  },
  "language_info": {
   "codemirror_mode": {
    "name": "ipython",
    "version": 3
   },
   "file_extension": ".py",
   "mimetype": "text/x-python",
   "name": "python",
   "nbconvert_exporter": "python",
   "pygments_lexer": "ipython3",
   "version": "3.12.7"
  }
 },
 "nbformat": 4,
 "nbformat_minor": 2
}
