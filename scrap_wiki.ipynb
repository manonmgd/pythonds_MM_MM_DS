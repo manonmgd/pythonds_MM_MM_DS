{
 "cells": [
  {
   "cell_type": "markdown",
   "metadata": {},
   "source": [
    "Le but de se code est de scrapper les prix littéraires en France entre 2019 et 2023"
   ]
  },
  {
   "cell_type": "code",
   "execution_count": 1,
   "metadata": {},
   "outputs": [],
   "source": [
    "# on importe la bibliothèque requests\n",
    "import requests\n",
    "from bs4 import BeautifulSoup # on importe BeautifulSoup\n",
    "import pandas as pd"
   ]
  },
  {
   "cell_type": "markdown",
   "metadata": {},
   "source": [
    "On crée un dataframe vide avec comme colonnes les infos qu'on va importer"
   ]
  },
  {
   "cell_type": "code",
   "execution_count": 2,
   "metadata": {},
   "outputs": [
    {
     "name": "stdout",
     "output_type": "stream",
     "text": [
      "Empty DataFrame\n",
      "Columns: [Année, Prix, Auteur, Titre]\n",
      "Index: []\n"
     ]
    }
   ],
   "source": [
    "colonnes = ['Année', 'Prix', 'Auteur', 'Titre']\n",
    "\n",
    "# Créer un DataFrame vide avec ces colonnes\n",
    "df = pd.DataFrame(columns=colonnes)\n",
    "\n",
    "print(df)"
   ]
  },
  {
   "cell_type": "markdown",
   "metadata": {},
   "source": [
    "On scrape"
   ]
  },
  {
   "cell_type": "code",
   "execution_count": 3,
   "metadata": {},
   "outputs": [],
   "source": [
    "def scrape_wikipedia_page_france(year):\n",
    "    global df\n",
    "    url = f\"https://fr.wikipedia.org/wiki/Prix_litt%C3%A9raires_{year}\"\n",
    "    response = requests.get(url)\n",
    "    response.encoding = \"utf-8\"  # On garantit le bon encodage\n",
    "\n",
    "    if response.status_code == 200:  # On vérifie si la requête est un succès\n",
    "        html_content = response.text\n",
    "        soup = BeautifulSoup(html_content, 'html.parser')\n",
    "\n",
    "        # On recherche la section France\n",
    "        france_section = soup.find('h2', string=\"France\")\n",
    "        if france_section:\n",
    "            # La liste <ul> qui suit contient les prix pour la France\n",
    "            france_list = france_section.find_next('ul')\n",
    "\n",
    "            if france_list:\n",
    "                # On recherche tous les <li> dans la liste\n",
    "                prizes = france_list.find_all('li')\n",
    "\n",
    "                # On extrait les données\n",
    "                for prize in prizes:\n",
    "                    # Nom du prix\n",
    "                    prize_name = prize.find('a')\n",
    "                    prize_name = prize_name.text.strip() if prize_name else None\n",
    "\n",
    "                    # Auteur\n",
    "                    author = prize.find_all('a')\n",
    "                    author = author[1].text.strip() if len(author) > 1 else None\n",
    "\n",
    "                    # Titre\n",
    "                    title = prize.find('i')\n",
    "                    title = title.text.strip() if title else None\n",
    "\n",
    "                    # On ajoute les résultats si les données sont complètes\n",
    "                    if prize_name and author and title:\n",
    "                        new_row = {'Année': year, 'Prix': prize_name, 'Auteur': author, 'Titre': title}\n",
    "                        df = pd.concat([df, pd.DataFrame([new_row])], ignore_index=True)\n",
    "        else:\n",
    "            print(f\"Section 'France' non trouvée pour l'année {year}\")\n",
    "    else:\n",
    "        print(f\"Erreur lors du scraping de l'année {year}: Status code {response.status_code}\")\n",
    "\n",
    "    return df"
   ]
  },
  {
   "cell_type": "code",
   "execution_count": 4,
   "metadata": {},
   "outputs": [],
   "source": [
    "for year in range(2019, 2024):\n",
    "    scrape_wikipedia_page_france(year)"
   ]
  },
  {
   "cell_type": "code",
   "execution_count": 5,
   "metadata": {},
   "outputs": [
    {
     "data": {
      "text/html": [
       "<div>\n",
       "<style scoped>\n",
       "    .dataframe tbody tr th:only-of-type {\n",
       "        vertical-align: middle;\n",
       "    }\n",
       "\n",
       "    .dataframe tbody tr th {\n",
       "        vertical-align: top;\n",
       "    }\n",
       "\n",
       "    .dataframe thead th {\n",
       "        text-align: right;\n",
       "    }\n",
       "</style>\n",
       "<table border=\"1\" class=\"dataframe\">\n",
       "  <thead>\n",
       "    <tr style=\"text-align: right;\">\n",
       "      <th></th>\n",
       "      <th>Année</th>\n",
       "      <th>Prix</th>\n",
       "      <th>Auteur</th>\n",
       "      <th>Titre</th>\n",
       "    </tr>\n",
       "  </thead>\n",
       "  <tbody>\n",
       "    <tr>\n",
       "      <th>0</th>\n",
       "      <td>2019</td>\n",
       "      <td>Prix Femina</td>\n",
       "      <td>Par les routes</td>\n",
       "      <td>Par les routes</td>\n",
       "    </tr>\n",
       "    <tr>\n",
       "      <th>1</th>\n",
       "      <td>2019</td>\n",
       "      <td>Prix Femina étranger</td>\n",
       "      <td>Ordesa</td>\n",
       "      <td>Ordesa</td>\n",
       "    </tr>\n",
       "    <tr>\n",
       "      <th>2</th>\n",
       "      <td>2019</td>\n",
       "      <td>Prix Femina essai</td>\n",
       "      <td>Emmanuelle Lambert</td>\n",
       "      <td>Giono furioso</td>\n",
       "    </tr>\n",
       "    <tr>\n",
       "      <th>3</th>\n",
       "      <td>2019</td>\n",
       "      <td>Prix Femina des lycéens</td>\n",
       "      <td>La Chaleur</td>\n",
       "      <td>La Chaleur</td>\n",
       "    </tr>\n",
       "    <tr>\n",
       "      <th>4</th>\n",
       "      <td>2019</td>\n",
       "      <td>Prix Goncourt</td>\n",
       "      <td>Tous les hommes n'habitent pas le monde de la ...</td>\n",
       "      <td>Tous les hommes n'habitent pas le monde de la ...</td>\n",
       "    </tr>\n",
       "  </tbody>\n",
       "</table>\n",
       "</div>"
      ],
      "text/plain": [
       "  Année                     Prix  \\\n",
       "0  2019              Prix Femina   \n",
       "1  2019     Prix Femina étranger   \n",
       "2  2019        Prix Femina essai   \n",
       "3  2019  Prix Femina des lycéens   \n",
       "4  2019            Prix Goncourt   \n",
       "\n",
       "                                              Auteur  \\\n",
       "0                                     Par les routes   \n",
       "1                                             Ordesa   \n",
       "2                                 Emmanuelle Lambert   \n",
       "3                                         La Chaleur   \n",
       "4  Tous les hommes n'habitent pas le monde de la ...   \n",
       "\n",
       "                                               Titre  \n",
       "0                                     Par les routes  \n",
       "1                                             Ordesa  \n",
       "2                                      Giono furioso  \n",
       "3                                         La Chaleur  \n",
       "4  Tous les hommes n'habitent pas le monde de la ...  "
      ]
     },
     "execution_count": 5,
     "metadata": {},
     "output_type": "execute_result"
    }
   ],
   "source": [
    "df.head(5)"
   ]
  },
  {
   "cell_type": "markdown",
   "metadata": {},
   "source": [
    "Création d'un fichier CSV afin de vérifier s'il n'y a pas d'incohérences"
   ]
  },
  {
   "cell_type": "code",
   "execution_count": 6,
   "metadata": {},
   "outputs": [],
   "source": [
    "df.to_csv(\"prix_litteraires.csv\", index=False)"
   ]
  },
  {
   "cell_type": "markdown",
   "metadata": {},
   "source": [
    "PARTIE: Corriger les incohérences de la table"
   ]
  },
  {
   "cell_type": "markdown",
   "metadata": {},
   "source": [
    "Création de fonctions"
   ]
  },
  {
   "cell_type": "code",
   "execution_count": 31,
   "metadata": {},
   "outputs": [],
   "source": [
    "import requests\n",
    "import re\n",
    "from bs4 import BeautifulSoup as soup\n",
    "\n",
    "# Fonction pour rechercher un livre sur Babelio et accéder à la page du premier résultat\n",
    "def search_wikipedia(book_title, year):\n",
    "    #reformulation du titre en différente partie\n",
    "    parts = re.findall(r'\\w+|[^\\w\\s]', book_title)\n",
    "\n",
    "    # URL de recherche sur Livraddict\n",
    "    search_title = '%20'.join(parts)\n",
    "    lower_search_title = '%20'.join(parts).lower()\n",
    "    headers = {\n",
    "    'User-Agent': 'Mozilla/5.0 (Windows NT 10.0; Win64; x64) AppleWebKit/537.36 (KHTML, like Gecko) Chrome/91.0.4472.124 Safari/537.36'}\n",
    "    search_url = f'https://www.bing.com/search?q=Livre%20{search_title}%20{year}%20wikipedia&qs=n&form=QBRE&sp=-1&ghc=1&lq=0&pq=livre%20{lower_search_title}%20{year}%20wikipedia&sc=11-30&sk=&cvid=88409FB04E76408A93DE43207AD5027F&ghsh=0&ghacc=0&ghpl='\n",
    "\n",
    "    # Faire une requête pour récupérer la page des résultats de recherche\n",
    "    response = requests.get(search_url, headers=headers).content\n",
    "    response_text = response.decode('utf-8')\n",
    "    # Trouver le premier élément correspondant au lien d'un résultat\n",
    "    page = BeautifulSoup(response_text, \"html.parser\")\n",
    "    first_result = page.find('li', class_='b_algo')  # Trouve le premier résultat\n",
    "    if first_result:\n",
    "        link = first_result.find('a', href=True)  # Trouve le lien à l'intérieur de <a>\n",
    "        if link:\n",
    "            href = link['href']\n",
    "            # Si c'est une URL relative, complète-la\n",
    "            if href.startswith('/wiki'):\n",
    "                href = 'https://fr.wikipedia.org' + href\n",
    "            return href\n",
    "        else:\n",
    "                print(\"Pas de lien trouvé dans le premier résultat.\")\n",
    "                return None\n",
    "    else:\n",
    "            print(\"Pas de résultats trouvés.\")\n",
    "            return None"
   ]
  },
  {
   "cell_type": "markdown",
   "metadata": {},
   "source": [
    "Fonction pour récupérer l'information sur l'auteur depuis la page wikipedia"
   ]
  },
  {
   "cell_type": "code",
   "execution_count": 34,
   "metadata": {},
   "outputs": [],
   "source": [
    "def recup_info(url):\n",
    "    headers = {\n",
    "    'User-Agent': 'Mozilla/5.0 (Windows NT 10.0; Win64; x64) AppleWebKit/537.36 (KHTML, like Gecko) Chrome/91.0.4472.124 Safari/537.36'}\n",
    "    response = requests.get(url, headers=headers).text\n",
    "    if response == None:\n",
    "        autor = \"problème d'URL\"\n",
    "    page = BeautifulSoup(response, \"html.parser\")\n",
    "    table = page.find('table', {'class': 'infobox'})\n",
    "    if table == None:\n",
    "        autor = \"Erreur de trouvaille de la table wikipédia\" \n",
    "    else: \n",
    "        rows = table.find_all('tr')\n",
    "        if rows == None:\n",
    "            autor = \"Pas de catégories trouvées dans la table\"\n",
    "        else:\n",
    "            tr_auteur = find_tr_autor(rows)\n",
    "            if tr_auteur == None:\n",
    "                autor = \"Pas de rubrique auteur dans la table\"\n",
    "            else:\n",
    "                td_autor = tr_auteur.find(\"td\")\n",
    "                if td_autor == None:\n",
    "                    autor = \"Pas de nom dans la ligne auteur (td)\"\n",
    "                else:\n",
    "                    a_autor = td_autor.find(\"a\")\n",
    "                    if a_autor == None :\n",
    "                        autor = \"Pas de nom dans la ligne auteur (a)\"\n",
    "                    else:\n",
    "                        autor = a_autor.get(\"title\")\n",
    "                        if autor == None:\n",
    "                            autor = \"Pas de nom dans la ligne auteur (title)\"\n",
    "    return autor\n",
    "\n"
   ]
  },
  {
   "cell_type": "code",
   "execution_count": 32,
   "metadata": {},
   "outputs": [],
   "source": [
    "def search_author(row):\n",
    "    if row[\"Auteur\"] == row[\"Titre\"]:\n",
    "        url = search_wikipedia(\"Titre\", \"Année\")\n",
    "        author = recup_info(url)\n",
    "        return author\n",
    "    else:\n",
    "        return row[\"Auteur\"]"
   ]
  },
  {
   "cell_type": "markdown",
   "metadata": {},
   "source": [
    "Fonction globale allant chercher l'auteur de l'ouvrage quand ce dernier n'est pas indiqué"
   ]
  },
  {
   "cell_type": "code",
   "execution_count": 36,
   "metadata": {},
   "outputs": [
    {
     "ename": "KeyboardInterrupt",
     "evalue": "",
     "output_type": "error",
     "traceback": [
      "\u001b[0;31m---------------------------------------------------------------------------\u001b[0m",
      "\u001b[0;31mKeyboardInterrupt\u001b[0m                         Traceback (most recent call last)",
      "File \u001b[0;32m_zmq.py:160\u001b[0m, in \u001b[0;36mzmq.backend.cython._zmq._check_rc\u001b[0;34m()\u001b[0m\n",
      "\u001b[0;31mKeyboardInterrupt\u001b[0m: "
     ]
    },
    {
     "name": "stderr",
     "output_type": "stream",
     "text": [
      "Exception ignored in: 'zmq.backend.cython._zmq.Frame.__del__'\n",
      "Traceback (most recent call last):\n",
      "  File \"_zmq.py\", line 160, in zmq.backend.cython._zmq._check_rc\n",
      "KeyboardInterrupt: \n"
     ]
    }
   ],
   "source": [
    "df['type_de_document'] = df.apply(search_author, axis=1)"
   ]
  },
  {
   "cell_type": "markdown",
   "metadata": {},
   "source": [
    "TEST POUR VOIR SI ca marche"
   ]
  },
  {
   "cell_type": "code",
   "execution_count": 43,
   "metadata": {},
   "outputs": [
    {
     "data": {
      "text/plain": [
       "'https://fr.wikipedia.org/wiki/La_Mer_des_monstres'"
      ]
     },
     "execution_count": 43,
     "metadata": {},
     "output_type": "execute_result"
    }
   ],
   "source": [
    "search_wikipedia(\"La mer des monstres\", \"2006\")"
   ]
  },
  {
   "cell_type": "code",
   "execution_count": 17,
   "metadata": {},
   "outputs": [
    {
     "data": {
      "text/plain": [
       "[<tr>\n",
       " <td class=\"entete universite italique\" colspan=\"2\" style=\"background-color:#7DA7D9;color:black;\">La Mer des monstres<style data-mw-deduplicate=\"TemplateStyles:r160407116\">.mw-parser-output .entete.universite{background-image:url(\"//upload.wikimedia.org/wikipedia/commons/4/42/Picto_infobox_book.png\")}</style>\n",
       " </td></tr>,\n",
       " <tr><td colspan=\"2\" style=\"display:none;\">\n",
       " </td></tr>,\n",
       " <tr>\n",
       " <th scope=\"row\">Auteur\n",
       " </th>\n",
       " <td><a href=\"/wiki/Rick_Riordan\" title=\"Rick Riordan\">Rick Riordan</a>\n",
       " </td>\n",
       " </tr>,\n",
       " <tr>\n",
       " <th scope=\"row\">Pays\n",
       " </th>\n",
       " <td><span class=\"nowrap\"><span class=\"datasortkey\" data-sort-value=\"États unis\"><span class=\"flagicon\"><span class=\"mw-image-border noviewer\" typeof=\"mw:File\"><a class=\"mw-file-description\" href=\"/wiki/Fichier:Flag_of_the_United_States.svg\" title=\"Drapeau des États-Unis\"><img alt=\"Drapeau des États-Unis\" class=\"mw-file-element\" data-file-height=\"650\" data-file-width=\"1235\" decoding=\"async\" height=\"11\" src=\"//upload.wikimedia.org/wikipedia/commons/thumb/a/a4/Flag_of_the_United_States.svg/20px-Flag_of_the_United_States.svg.png\" srcset=\"//upload.wikimedia.org/wikipedia/commons/thumb/a/a4/Flag_of_the_United_States.svg/30px-Flag_of_the_United_States.svg.png 1.5x, //upload.wikimedia.org/wikipedia/commons/thumb/a/a4/Flag_of_the_United_States.svg/40px-Flag_of_the_United_States.svg.png 2x\" width=\"20\"/></a></span> </span><a href=\"/wiki/%C3%89tats-Unis\" title=\"États-Unis\">États-Unis</a></span></span>\n",
       " </td>\n",
       " </tr>,\n",
       " <tr>\n",
       " <th scope=\"row\">Genre\n",
       " </th>\n",
       " <td><a href=\"/wiki/Roman_(litt%C3%A9rature)\" title=\"Roman (littérature)\">Roman</a><br/><a href=\"/wiki/Fantasy\" title=\"Fantasy\">Fantasy</a>\n",
       " </td>\n",
       " </tr>,\n",
       " <tr>\n",
       " <th colspan=\"2\" style=\"padding:4px; text-align:center; background-color:#7DA7D9; color:#000000\">Version originale</th></tr>,\n",
       " <tr>\n",
       " <th scope=\"row\">Langue\n",
       " </th>\n",
       " <td><a href=\"/wiki/Anglais_am%C3%A9ricain\" title=\"Anglais américain\">Anglais américain</a>\n",
       " </td>\n",
       " </tr>,\n",
       " <tr>\n",
       " <th scope=\"row\">Titre\n",
       " </th>\n",
       " <td><i>The Sea of Monsters</i>\n",
       " </td>\n",
       " </tr>,\n",
       " <tr>\n",
       " <th scope=\"row\">Éditeur\n",
       " </th>\n",
       " <td><a href=\"/wiki/Miramax_Books\" title=\"Miramax Books\">Miramax Books</a>\n",
       " </td>\n",
       " </tr>,\n",
       " <tr>\n",
       " <th scope=\"row\">Lieu de parution\n",
       " </th>\n",
       " <td><a href=\"/wiki/New_York\" title=\"New York\">New York</a>\n",
       " </td>\n",
       " </tr>,\n",
       " <tr>\n",
       " <th scope=\"row\">Date de parution\n",
       " </th>\n",
       " <td><time class=\"nowrap date-lien\" data-sort-value=\"2006-03-21\" datetime=\"2006-03-21\"><a href=\"/wiki/21_mars\" title=\"21 mars\">21</a> <a href=\"/wiki/Mars_2006\" title=\"Mars 2006\">mars</a> <a href=\"/wiki/2006_en_litt%C3%A9rature\" title=\"2006 en littérature\">2006</a></time>\n",
       " </td>\n",
       " </tr>,\n",
       " <tr>\n",
       " <th scope=\"row\"><a href=\"/wiki/International_Standard_Book_Number\" title=\"International Standard Book Number\">ISBN</a>\n",
       " </th>\n",
       " <td><a href=\"/wiki/Sp%C3%A9cial:Ouvrages_de_r%C3%A9f%C3%A9rence/978-0786856862\" title=\"Spécial:Ouvrages de référence/978-0786856862\"><span class=\"nowrap\">978-0786856862</span></a>\n",
       " </td>\n",
       " </tr>,\n",
       " <tr>\n",
       " <th colspan=\"2\" style=\"padding:4px; text-align:center; background-color:#7DA7D9; color:#000000\">Version française</th></tr>,\n",
       " <tr>\n",
       " <th scope=\"row\">Traducteur\n",
       " </th>\n",
       " <td>Mona de Pracontal\n",
       " </td>\n",
       " </tr>,\n",
       " <tr>\n",
       " <th scope=\"row\">Éditeur\n",
       " </th>\n",
       " <td><a href=\"/wiki/%C3%89ditions_Albin_Michel\" title=\"Éditions Albin Michel\">Albin Michel</a>\n",
       " </td>\n",
       " </tr>,\n",
       " <tr>\n",
       " <th scope=\"row\">Collection\n",
       " </th>\n",
       " <td><a href=\"/wiki/Wiz_(collection)\" title=\"Wiz (collection)\">Wiz</a>\n",
       " </td>\n",
       " </tr>,\n",
       " <tr>\n",
       " <th scope=\"row\">Lieu de parution\n",
       " </th>\n",
       " <td><a href=\"/wiki/Paris\" title=\"Paris\">Paris</a>\n",
       " </td>\n",
       " </tr>,\n",
       " <tr>\n",
       " <th scope=\"row\">Date de parution\n",
       " </th>\n",
       " <td><time class=\"nowrap date-lien\" data-sort-value=\"2007-05-22\" datetime=\"2007-05-22\"><a href=\"/wiki/22_mai\" title=\"22 mai\">22</a> <a href=\"/wiki/Mai_2007\" title=\"Mai 2007\">mai</a> <a href=\"/wiki/2007_en_litt%C3%A9rature\" title=\"2007 en littérature\">2007</a></time>\n",
       " </td>\n",
       " </tr>,\n",
       " <tr>\n",
       " <th scope=\"row\">Type de média\n",
       " </th>\n",
       " <td>Livre papier\n",
       " </td>\n",
       " </tr>,\n",
       " <tr>\n",
       " <th scope=\"row\">Nombre de pages\n",
       " </th>\n",
       " <td>314\n",
       " </td>\n",
       " </tr>,\n",
       " <tr>\n",
       " <th scope=\"row\"><a href=\"/wiki/International_Standard_Book_Number\" title=\"International Standard Book Number\">ISBN</a>\n",
       " </th>\n",
       " <td><a href=\"/wiki/Sp%C3%A9cial:Ouvrages_de_r%C3%A9f%C3%A9rence/978-2226177612\" title=\"Spécial:Ouvrages de référence/978-2226177612\"><span class=\"nowrap\">978-2226177612</span></a>\n",
       " </td>\n",
       " </tr>,\n",
       " <tr>\n",
       " <th colspan=\"2\" style=\"padding:4px; text-align:center; background-color:#7DA7D9; color:#000000\">Chronologie</th></tr>,\n",
       " <tr>\n",
       " <th scope=\"row\">Série\n",
       " </th>\n",
       " <td><i><a href=\"/wiki/Percy_Jackson\" title=\"Percy Jackson\">Percy Jackson</a></i>\n",
       " </td>\n",
       " </tr>,\n",
       " <tr>\n",
       " <td colspan=\"2\" style=\"text-align:center;\">\n",
       " <table class=\"navigation-not-searchable\" style=\"width:100%; border-spacing:0; background-color:transparent; color:inherit;\">\n",
       " <tbody><tr>\n",
       " <td style=\"text-align:left; vertical-align:middle; width:5%; background-color:; color:inherit;\"><span typeof=\"mw:File\"><span><img alt=\"Précédent\" class=\"mw-file-element\" data-file-height=\"133\" data-file-width=\"110\" decoding=\"async\" height=\"16\" src=\"//upload.wikimedia.org/wikipedia/commons/thumb/a/a8/Arrleft.svg/13px-Arrleft.svg.png\" srcset=\"//upload.wikimedia.org/wikipedia/commons/thumb/a/a8/Arrleft.svg/20px-Arrleft.svg.png 1.5x, //upload.wikimedia.org/wikipedia/commons/thumb/a/a8/Arrleft.svg/26px-Arrleft.svg.png 2x\" width=\"13\"/></span></span>\n",
       " </td>\n",
       " <td style=\"width:1%; background-color:; color:inherit;\">\n",
       " </td>\n",
       " <td style=\"text-align:left; vertical-align:middle; width:44%; background-color:; color:inherit;\"> <i><a href=\"/wiki/Le_Voleur_de_foudre\" title=\"Le Voleur de foudre\">Le Voleur de foudre</a></i>\n",
       " </td>\n",
       " <td style=\"width:1%; background-color:transparent; color:inherit;\">\n",
       " </td>\n",
       " <td style=\"text-align:right; vertical-align:middle; width:44%; background-color:; color:inherit;\"> <i><a href=\"/wiki/Le_Sort_du_titan\" title=\"Le Sort du titan\">Le Sort du titan</a></i>\n",
       " </td>\n",
       " <td style=\"width:1%; background-color:; color:inherit;\">\n",
       " </td>\n",
       " <td style=\"text-align:right; vertical-align:middle; width:5%; background-color:; color:inherit;\"><span typeof=\"mw:File\"><span><img alt=\"Suivant\" class=\"mw-file-element\" data-file-height=\"133\" data-file-width=\"110\" decoding=\"async\" height=\"16\" src=\"//upload.wikimedia.org/wikipedia/commons/thumb/f/f4/Arrright.svg/13px-Arrright.svg.png\" srcset=\"//upload.wikimedia.org/wikipedia/commons/thumb/f/f4/Arrright.svg/20px-Arrright.svg.png 1.5x, //upload.wikimedia.org/wikipedia/commons/thumb/f/f4/Arrright.svg/26px-Arrright.svg.png 2x\" width=\"13\"/></span></span>\n",
       " </td>\n",
       " </tr>\n",
       " </tbody></table>\n",
       " </td></tr>,\n",
       " <tr>\n",
       " <td style=\"text-align:left; vertical-align:middle; width:5%; background-color:; color:inherit;\"><span typeof=\"mw:File\"><span><img alt=\"Précédent\" class=\"mw-file-element\" data-file-height=\"133\" data-file-width=\"110\" decoding=\"async\" height=\"16\" src=\"//upload.wikimedia.org/wikipedia/commons/thumb/a/a8/Arrleft.svg/13px-Arrleft.svg.png\" srcset=\"//upload.wikimedia.org/wikipedia/commons/thumb/a/a8/Arrleft.svg/20px-Arrleft.svg.png 1.5x, //upload.wikimedia.org/wikipedia/commons/thumb/a/a8/Arrleft.svg/26px-Arrleft.svg.png 2x\" width=\"13\"/></span></span>\n",
       " </td>\n",
       " <td style=\"width:1%; background-color:; color:inherit;\">\n",
       " </td>\n",
       " <td style=\"text-align:left; vertical-align:middle; width:44%; background-color:; color:inherit;\"> <i><a href=\"/wiki/Le_Voleur_de_foudre\" title=\"Le Voleur de foudre\">Le Voleur de foudre</a></i>\n",
       " </td>\n",
       " <td style=\"width:1%; background-color:transparent; color:inherit;\">\n",
       " </td>\n",
       " <td style=\"text-align:right; vertical-align:middle; width:44%; background-color:; color:inherit;\"> <i><a href=\"/wiki/Le_Sort_du_titan\" title=\"Le Sort du titan\">Le Sort du titan</a></i>\n",
       " </td>\n",
       " <td style=\"width:1%; background-color:; color:inherit;\">\n",
       " </td>\n",
       " <td style=\"text-align:right; vertical-align:middle; width:5%; background-color:; color:inherit;\"><span typeof=\"mw:File\"><span><img alt=\"Suivant\" class=\"mw-file-element\" data-file-height=\"133\" data-file-width=\"110\" decoding=\"async\" height=\"16\" src=\"//upload.wikimedia.org/wikipedia/commons/thumb/f/f4/Arrright.svg/13px-Arrright.svg.png\" srcset=\"//upload.wikimedia.org/wikipedia/commons/thumb/f/f4/Arrright.svg/20px-Arrright.svg.png 1.5x, //upload.wikimedia.org/wikipedia/commons/thumb/f/f4/Arrright.svg/26px-Arrright.svg.png 2x\" width=\"13\"/></span></span>\n",
       " </td>\n",
       " </tr>,\n",
       " <tr>\n",
       " <td class=\"navigation-only\" colspan=\"2\" style=\"border-top: 2px #7DA7D9 solid; font-size: 80%; background:inherit; color: inherit; text-align: right;\"><span class=\"plainlinks\" style=\"float:left;\"><a class=\"external text\" href=\"https://fr.wikipedia.org/w/index.php?title=La_Mer_des_monstres&amp;action=edit&amp;section=0\"><span class=\"infodoc\">modifier</span></a></span> <span typeof=\"mw:File\"><a href=\"/wiki/Mod%C3%A8le:Infobox_Livre\" title=\"Consultez la documentation du modèle\"><img alt=\"\" class=\"mw-file-element\" data-file-height=\"512\" data-file-width=\"512\" decoding=\"async\" height=\"12\" src=\"//upload.wikimedia.org/wikipedia/commons/thumb/3/38/Info_Simple.svg/12px-Info_Simple.svg.png\" srcset=\"//upload.wikimedia.org/wikipedia/commons/thumb/3/38/Info_Simple.svg/18px-Info_Simple.svg.png 1.5x, //upload.wikimedia.org/wikipedia/commons/thumb/3/38/Info_Simple.svg/24px-Info_Simple.svg.png 2x\" width=\"12\"/></a></span></td>\n",
       " </tr>]"
      ]
     },
     "execution_count": 17,
     "metadata": {},
     "output_type": "execute_result"
    }
   ],
   "source": [
    "recup_info('https://fr.wikipedia.org/wiki/La_Mer_des_monstres')"
   ]
  },
  {
   "cell_type": "code",
   "execution_count": 16,
   "metadata": {},
   "outputs": [],
   "source": [
    "def recup_info(url):\n",
    "    headers = {\n",
    "    'User-Agent': 'Mozilla/5.0 (Windows NT 10.0; Win64; x64) AppleWebKit/537.36 (KHTML, like Gecko) Chrome/91.0.4472.124 Safari/537.36'}\n",
    "    response = requests.get(url, headers=headers).content\n",
    "    page = BeautifulSoup(response, \"html.parser\")\n",
    "    table = page.find('table', {'class': 'infobox'})\n",
    "    rows = table.find_all('tr')\n",
    "    return rows"
   ]
  }
 ],
 "metadata": {
  "kernelspec": {
   "display_name": "base",
   "language": "python",
   "name": "python3"
  },
  "language_info": {
   "codemirror_mode": {
    "name": "ipython",
    "version": 3
   },
   "file_extension": ".py",
   "mimetype": "text/x-python",
   "name": "python",
   "nbconvert_exporter": "python",
   "pygments_lexer": "ipython3",
   "version": "3.12.7"
  }
 },
 "nbformat": 4,
 "nbformat_minor": 2
}
