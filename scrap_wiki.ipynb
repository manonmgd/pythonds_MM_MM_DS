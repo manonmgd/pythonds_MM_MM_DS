{
 "cells": [
  {
   "cell_type": "markdown",
   "metadata": {},
   "source": [
    "Le but de se code est de scrapper les prix littéraires en France entre 2019 et 2023"
   ]
  },
  {
   "cell_type": "code",
   "execution_count": 10,
   "metadata": {},
   "outputs": [],
   "source": [
    "# on importe la bibliothèque requests\n",
    "import requests\n",
    "from bs4 import BeautifulSoup # on importe BeautifulSoup\n",
    "import pandas as pd\n",
    "import html5lib"
   ]
  },
  {
   "cell_type": "markdown",
   "metadata": {},
   "source": [
    "On crée un dataframe vide avec comme colonnes les infos qu'on va importer"
   ]
  },
  {
   "cell_type": "code",
   "execution_count": 14,
   "metadata": {},
   "outputs": [
    {
     "name": "stdout",
     "output_type": "stream",
     "text": [
      "Empty DataFrame\n",
      "Columns: [Année, Prix, Auteur, Titre]\n",
      "Index: []\n"
     ]
    }
   ],
   "source": [
    "colonnes = ['Année', 'Prix', 'Auteur', 'Titre']\n",
    "\n",
    "# Créer un DataFrame vide avec ces colonnes\n",
    "df = pd.DataFrame(columns=colonnes)\n",
    "\n",
    "print(df)"
   ]
  },
  {
   "cell_type": "markdown",
   "metadata": {},
   "source": [
    "On scrape"
   ]
  },
  {
   "cell_type": "code",
   "execution_count": 21,
   "metadata": {},
   "outputs": [],
   "source": [
    "def scrape_wikipedia_page_france(year):\n",
    "    global df\n",
    "    url = f\"https://fr.wikipedia.org/wiki/Prix_litt%C3%A9raires_{year}\"\n",
    "    response = requests.get(url)\n",
    "    response.encoding = \"utf-8\"  # On garantit le bon encodage\n",
    "\n",
    "    if response.status_code == 200:  # On vérifie si la requête est un succès\n",
    "        html_content = response.text\n",
    "        soup = BeautifulSoup(html_content, 'html.parser')\n",
    "\n",
    "        # On recherche la section France\n",
    "        france_section = soup.find('h2', string=\"France\")\n",
    "        if france_section:\n",
    "            # La liste <ul> qui suit contient les prix pour la France\n",
    "            france_list = france_section.find_next('ul')\n",
    "\n",
    "            if france_list:\n",
    "                # On recherche tous les <li> dans la liste\n",
    "                prizes = france_list.find_all('li')\n",
    "\n",
    "                # On extrait les données\n",
    "                for prize in prizes:\n",
    "                    # Nom du prix\n",
    "                    prize_name = prize.find('a')\n",
    "                    prize_name = prize_name.text.strip() if prize_name else None\n",
    "\n",
    "                    # Auteur\n",
    "                    author = prize.find_all('a')\n",
    "                    author = author[1].text.strip() if len(author) > 1 else None\n",
    "\n",
    "                    # Titre\n",
    "                    title = prize.find('i')\n",
    "                    title = title.text.strip() if title else None\n",
    "\n",
    "                    # On ajoute les résultats si les données sont complètes\n",
    "                    if prize_name and author and title:\n",
    "                        new_row = {'Année': year, 'Prix': prize_name, 'Auteur': author, 'Titre': title}\n",
    "                        df = pd.concat([df, pd.DataFrame([new_row])], ignore_index=True)\n",
    "        else:\n",
    "            print(f\"Section 'France' non trouvée pour l'année {year}\")\n",
    "    else:\n",
    "        print(f\"Erreur lors du scraping de l'année {year}: Status code {response.status_code}\")\n",
    "\n",
    "    return df"
   ]
  },
  {
   "cell_type": "code",
   "execution_count": 22,
   "metadata": {},
   "outputs": [],
   "source": [
    "for year in range(2019, 2024):\n",
    "    scrape_wikipedia_page_france(year)"
   ]
  },
  {
   "cell_type": "code",
   "execution_count": 23,
   "metadata": {},
   "outputs": [
    {
     "data": {
      "text/html": [
       "<div>\n",
       "<style scoped>\n",
       "    .dataframe tbody tr th:only-of-type {\n",
       "        vertical-align: middle;\n",
       "    }\n",
       "\n",
       "    .dataframe tbody tr th {\n",
       "        vertical-align: top;\n",
       "    }\n",
       "\n",
       "    .dataframe thead th {\n",
       "        text-align: right;\n",
       "    }\n",
       "</style>\n",
       "<table border=\"1\" class=\"dataframe\">\n",
       "  <thead>\n",
       "    <tr style=\"text-align: right;\">\n",
       "      <th></th>\n",
       "      <th>Année</th>\n",
       "      <th>Prix</th>\n",
       "      <th>Auteur</th>\n",
       "      <th>Titre</th>\n",
       "    </tr>\n",
       "  </thead>\n",
       "  <tbody>\n",
       "    <tr>\n",
       "      <th>0</th>\n",
       "      <td>2019</td>\n",
       "      <td>Prix Femina</td>\n",
       "      <td>Par les routes</td>\n",
       "      <td>Par les routes</td>\n",
       "    </tr>\n",
       "    <tr>\n",
       "      <th>1</th>\n",
       "      <td>2019</td>\n",
       "      <td>Prix Femina étranger</td>\n",
       "      <td>Ordesa</td>\n",
       "      <td>Ordesa</td>\n",
       "    </tr>\n",
       "    <tr>\n",
       "      <th>2</th>\n",
       "      <td>2019</td>\n",
       "      <td>Prix Femina essai</td>\n",
       "      <td>Emmanuelle Lambert</td>\n",
       "      <td>Giono furioso</td>\n",
       "    </tr>\n",
       "    <tr>\n",
       "      <th>3</th>\n",
       "      <td>2019</td>\n",
       "      <td>Prix Femina des lycéens</td>\n",
       "      <td>La Chaleur</td>\n",
       "      <td>La Chaleur</td>\n",
       "    </tr>\n",
       "    <tr>\n",
       "      <th>4</th>\n",
       "      <td>2019</td>\n",
       "      <td>Prix Goncourt</td>\n",
       "      <td>Tous les hommes n'habitent pas le monde de la ...</td>\n",
       "      <td>Tous les hommes n'habitent pas le monde de la ...</td>\n",
       "    </tr>\n",
       "  </tbody>\n",
       "</table>\n",
       "</div>"
      ],
      "text/plain": [
       "  Année                     Prix  \\\n",
       "0  2019              Prix Femina   \n",
       "1  2019     Prix Femina étranger   \n",
       "2  2019        Prix Femina essai   \n",
       "3  2019  Prix Femina des lycéens   \n",
       "4  2019            Prix Goncourt   \n",
       "\n",
       "                                              Auteur  \\\n",
       "0                                     Par les routes   \n",
       "1                                             Ordesa   \n",
       "2                                 Emmanuelle Lambert   \n",
       "3                                         La Chaleur   \n",
       "4  Tous les hommes n'habitent pas le monde de la ...   \n",
       "\n",
       "                                               Titre  \n",
       "0                                     Par les routes  \n",
       "1                                             Ordesa  \n",
       "2                                      Giono furioso  \n",
       "3                                         La Chaleur  \n",
       "4  Tous les hommes n'habitent pas le monde de la ...  "
      ]
     },
     "execution_count": 23,
     "metadata": {},
     "output_type": "execute_result"
    }
   ],
   "source": [
    "df.head(5)"
   ]
  },
  {
   "cell_type": "code",
   "execution_count": 42,
   "metadata": {},
   "outputs": [],
   "source": [
    "import requests\n",
    "import re\n",
    "from bs4 import BeautifulSoup as soup\n",
    "\n",
    "# Fonction pour rechercher un livre sur Babelio et accéder à la page du premier résultat\n",
    "def search_wikipedia(book_title, year):\n",
    "    #reformulation du titre en différente partie\n",
    "    parts = re.findall(r'\\w+|[^\\w\\s]', book_title)\n",
    "\n",
    "    # URL de recherche sur Livraddict\n",
    "    search_title = '%20'.join(parts)\n",
    "    lower_search_title = '%20'.join(parts).lower()\n",
    "    headers = {\n",
    "    'User-Agent': 'Mozilla/5.0 (Windows NT 10.0; Win64; x64) AppleWebKit/537.36 (KHTML, like Gecko) Chrome/91.0.4472.124 Safari/537.36'}\n",
    "    search_url = f'https://www.bing.com/search?q=Livre%20{search_title}%20{year}%20wikipedia&qs=n&form=QBRE&sp=-1&ghc=1&lq=0&pq=livre%20{lower_search_title}%20{year}%20wikipedia&sc=11-30&sk=&cvid=88409FB04E76408A93DE43207AD5027F&ghsh=0&ghacc=0&ghpl='\n",
    "\n",
    "    # Faire une requête pour récupérer la page des résultats de recherche\n",
    "    response = requests.get(search_url, headers=headers).content\n",
    "    response_text = response.decode('utf-8')\n",
    "    # Trouver le premier élément correspondant au lien d'un résultat\n",
    "    page = BeautifulSoup(response_text, \"html.parser\")\n",
    "    first_result = page.find('li', class_='b_algo')  # Trouve le premier résultat\n",
    "    if first_result:\n",
    "        link = first_result.find('a', href=True)  # Trouve le lien à l'intérieur de <a>\n",
    "        if link:\n",
    "            return link['href']  # Retourne l'URL du premier résultat\n",
    "        else:\n",
    "                print(\"Pas de lien trouvé dans le premier résultat.\")\n",
    "                return None\n",
    "    else:\n",
    "            print(\"Pas de résultats trouvés.\")\n",
    "            return None"
   ]
  },
  {
   "cell_type": "markdown",
   "metadata": {},
   "source": [
    "FINIR CA !!!"
   ]
  },
  {
   "cell_type": "code",
   "execution_count": 69,
   "metadata": {},
   "outputs": [],
   "source": [
    "def recup_info(url):\n",
    "    headers = {\n",
    "    'User-Agent': 'Mozilla/5.0 (Windows NT 10.0; Win64; x64) AppleWebKit/537.36 (KHTML, like Gecko) Chrome/91.0.4472.124 Safari/537.36'}\n",
    "    response = requests.get(url, headers=headers).text\n",
    "    page = BeautifulSoup(response, \"html.parser\")\n",
    "    table = page.find('table', {'class': 'infobox'})\n",
    "    rows = table.find_all('tr')\n",
    "    if \"Auteur\" in tr.get_text():\n",
    "        td = row.find('td')  # Trouve la cellule <td> correspondante à la ligne\n",
    "        if td:\n",
    "            return td.get_text(strip=True)\n",
    "    else:\n",
    "        return \"Pas d'auteur indiqué\"\n"
   ]
  },
  {
   "cell_type": "markdown",
   "metadata": {},
   "source": [
    "TEST POUR VOIR SI ca marche"
   ]
  },
  {
   "cell_type": "code",
   "execution_count": 43,
   "metadata": {},
   "outputs": [
    {
     "data": {
      "text/plain": [
       "'https://fr.wikipedia.org/wiki/La_Mer_des_monstres'"
      ]
     },
     "execution_count": 43,
     "metadata": {},
     "output_type": "execute_result"
    }
   ],
   "source": [
    "search_wikipedia(\"La mer des monstres\", \"2006\")"
   ]
  },
  {
   "cell_type": "code",
   "execution_count": 71,
   "metadata": {},
   "outputs": [
    {
     "ename": "NameError",
     "evalue": "name 'tr' is not defined",
     "output_type": "error",
     "traceback": [
      "\u001b[0;31m---------------------------------------------------------------------------\u001b[0m",
      "\u001b[0;31mNameError\u001b[0m                                 Traceback (most recent call last)",
      "Cell \u001b[0;32mIn[71], line 1\u001b[0m\n\u001b[0;32m----> 1\u001b[0m \u001b[43mrecup_info\u001b[49m\u001b[43m(\u001b[49m\u001b[38;5;124;43m'\u001b[39;49m\u001b[38;5;124;43mhttps://fr.wikipedia.org/wiki/La_Mer_des_monstres\u001b[39;49m\u001b[38;5;124;43m'\u001b[39;49m\u001b[43m)\u001b[49m\n",
      "Cell \u001b[0;32mIn[69], line 8\u001b[0m, in \u001b[0;36mrecup_info\u001b[0;34m(url)\u001b[0m\n\u001b[1;32m      6\u001b[0m table \u001b[38;5;241m=\u001b[39m page\u001b[38;5;241m.\u001b[39mfind(\u001b[38;5;124m'\u001b[39m\u001b[38;5;124mtable\u001b[39m\u001b[38;5;124m'\u001b[39m, {\u001b[38;5;124m'\u001b[39m\u001b[38;5;124mclass\u001b[39m\u001b[38;5;124m'\u001b[39m: \u001b[38;5;124m'\u001b[39m\u001b[38;5;124minfobox\u001b[39m\u001b[38;5;124m'\u001b[39m})\n\u001b[1;32m      7\u001b[0m rows \u001b[38;5;241m=\u001b[39m table\u001b[38;5;241m.\u001b[39mfind_all(\u001b[38;5;124m'\u001b[39m\u001b[38;5;124mtr\u001b[39m\u001b[38;5;124m'\u001b[39m)\n\u001b[0;32m----> 8\u001b[0m \u001b[38;5;28;01mif\u001b[39;00m \u001b[38;5;124m\"\u001b[39m\u001b[38;5;124mAuteur\u001b[39m\u001b[38;5;124m\"\u001b[39m \u001b[38;5;129;01min\u001b[39;00m \u001b[43mtr\u001b[49m\u001b[38;5;241m.\u001b[39mget_text():\n\u001b[1;32m      9\u001b[0m     td \u001b[38;5;241m=\u001b[39m row\u001b[38;5;241m.\u001b[39mfind(\u001b[38;5;124m'\u001b[39m\u001b[38;5;124mtd\u001b[39m\u001b[38;5;124m'\u001b[39m)  \u001b[38;5;66;03m# Trouve la cellule <td> correspondante à la ligne\u001b[39;00m\n\u001b[1;32m     10\u001b[0m     \u001b[38;5;28;01mif\u001b[39;00m td:\n",
      "\u001b[0;31mNameError\u001b[0m: name 'tr' is not defined"
     ]
    }
   ],
   "source": [
    "recup_info('https://fr.wikipedia.org/wiki/La_Mer_des_monstres')"
   ]
  },
  {
   "cell_type": "code",
   "execution_count": 56,
   "metadata": {},
   "outputs": [],
   "source": [
    "def recup_info(url):\n",
    "    headers = {\n",
    "    'User-Agent': 'Mozilla/5.0 (Windows NT 10.0; Win64; x64) AppleWebKit/537.36 (KHTML, like Gecko) Chrome/91.0.4472.124 Safari/537.36'}\n",
    "    response = requests.get(url, headers=headers).content\n",
    "    return response"
   ]
  }
 ],
 "metadata": {
  "kernelspec": {
   "display_name": "base",
   "language": "python",
   "name": "python3"
  },
  "language_info": {
   "codemirror_mode": {
    "name": "ipython",
    "version": 3
   },
   "file_extension": ".py",
   "mimetype": "text/x-python",
   "name": "python",
   "nbconvert_exporter": "python",
   "pygments_lexer": "ipython3",
   "version": "3.12.7"
  }
 },
 "nbformat": 4,
 "nbformat_minor": 2
}
