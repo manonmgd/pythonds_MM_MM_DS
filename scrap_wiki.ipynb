{
 "cells": [
  {
   "cell_type": "markdown",
   "metadata": {},
   "source": [
    "Le but de se code est de scrapper les prix littéraires en France entre 2019 et 2023"
   ]
  },
  {
   "cell_type": "code",
   "execution_count": 89,
   "metadata": {},
   "outputs": [],
   "source": [
    "# on importe la bibliothèque requests\n",
    "import requests\n",
    "from bs4 import BeautifulSoup # on importe BeautifulSoup\n",
    "import pandas as pd"
   ]
  },
  {
   "cell_type": "markdown",
   "metadata": {},
   "source": [
    "On crée un dataframe vide avec comme colonnes les infos qu'on va importer"
   ]
  },
  {
   "cell_type": "code",
   "execution_count": 90,
   "metadata": {},
   "outputs": [
    {
     "name": "stdout",
     "output_type": "stream",
     "text": [
      "Empty DataFrame\n",
      "Columns: [Année, Prix, Auteur, Titre]\n",
      "Index: []\n"
     ]
    }
   ],
   "source": [
    "colonnes = ['Année', 'Prix', 'Auteur', 'Titre']\n",
    "\n",
    "# Créer un DataFrame vide avec ces colonnes\n",
    "df = pd.DataFrame(columns=colonnes)\n",
    "\n",
    "print(df)"
   ]
  },
  {
   "cell_type": "markdown",
   "metadata": {},
   "source": [
    "On scrape"
   ]
  },
  {
   "cell_type": "code",
   "execution_count": 91,
   "metadata": {},
   "outputs": [],
   "source": [
    "def scrape_wikipedia_page_france(year):\n",
    "    global df\n",
    "    url = f\"https://fr.wikipedia.org/wiki/Prix_litt%C3%A9raires_{year}\"\n",
    "    response = requests.get(url)\n",
    "    response.encoding = \"utf-8\"  # On garantit le bon encodage\n",
    "\n",
    "    if response.status_code == 200:  # On vérifie si la requête est un succès\n",
    "        html_content = response.text\n",
    "        soup = BeautifulSoup(html_content, 'html.parser')\n",
    "\n",
    "        # On recherche la section France\n",
    "        france_section = soup.find('h2', string=\"France\")\n",
    "        if france_section:\n",
    "            # La liste <ul> qui suit contient les prix pour la France\n",
    "            france_list = france_section.find_next('ul')\n",
    "\n",
    "            if france_list:\n",
    "                # On recherche tous les <li> dans la liste\n",
    "                prizes = france_list.find_all('li')\n",
    "\n",
    "                # On extrait les données\n",
    "                for prize in prizes:\n",
    "                    # Nom du prix\n",
    "                    prize_name = prize.find('a')\n",
    "                    prize_name = prize_name.text.strip() if prize_name else None\n",
    "\n",
    "                    # Auteur\n",
    "                    author = prize.find_all('a')\n",
    "                    author = author[1].text.strip() if len(author) > 1 else None\n",
    "\n",
    "                    # Titre\n",
    "                    title = prize.find('i')\n",
    "                    title = title.text.strip() if title else None\n",
    "\n",
    "                    # On ajoute les résultats si les données sont complètes\n",
    "                    if prize_name and author and title:\n",
    "                        new_row = {'Année': year, 'Prix': prize_name, 'Auteur': author, 'Titre': title}\n",
    "                        df = pd.concat([df, pd.DataFrame([new_row])], ignore_index=True)\n",
    "        else:\n",
    "            print(f\"Section 'France' non trouvée pour l'année {year}\")\n",
    "    else:\n",
    "        print(f\"Erreur lors du scraping de l'année {year}: Status code {response.status_code}\")\n",
    "\n",
    "    return df"
   ]
  },
  {
   "cell_type": "code",
   "execution_count": 92,
   "metadata": {},
   "outputs": [],
   "source": [
    "for year in range(2019, 2024):\n",
    "    scrape_wikipedia_page_france(year)"
   ]
  },
  {
   "cell_type": "code",
   "execution_count": 93,
   "metadata": {},
   "outputs": [
    {
     "data": {
      "text/html": [
       "<div>\n",
       "<style scoped>\n",
       "    .dataframe tbody tr th:only-of-type {\n",
       "        vertical-align: middle;\n",
       "    }\n",
       "\n",
       "    .dataframe tbody tr th {\n",
       "        vertical-align: top;\n",
       "    }\n",
       "\n",
       "    .dataframe thead th {\n",
       "        text-align: right;\n",
       "    }\n",
       "</style>\n",
       "<table border=\"1\" class=\"dataframe\">\n",
       "  <thead>\n",
       "    <tr style=\"text-align: right;\">\n",
       "      <th></th>\n",
       "      <th>Année</th>\n",
       "      <th>Prix</th>\n",
       "      <th>Auteur</th>\n",
       "      <th>Titre</th>\n",
       "    </tr>\n",
       "  </thead>\n",
       "  <tbody>\n",
       "    <tr>\n",
       "      <th>0</th>\n",
       "      <td>2019</td>\n",
       "      <td>Prix Femina</td>\n",
       "      <td>Par les routes</td>\n",
       "      <td>Par les routes</td>\n",
       "    </tr>\n",
       "    <tr>\n",
       "      <th>1</th>\n",
       "      <td>2019</td>\n",
       "      <td>Prix Femina étranger</td>\n",
       "      <td>Ordesa</td>\n",
       "      <td>Ordesa</td>\n",
       "    </tr>\n",
       "    <tr>\n",
       "      <th>2</th>\n",
       "      <td>2019</td>\n",
       "      <td>Prix Femina essai</td>\n",
       "      <td>Emmanuelle Lambert</td>\n",
       "      <td>Giono furioso</td>\n",
       "    </tr>\n",
       "    <tr>\n",
       "      <th>3</th>\n",
       "      <td>2019</td>\n",
       "      <td>Prix Femina des lycéens</td>\n",
       "      <td>La Chaleur</td>\n",
       "      <td>La Chaleur</td>\n",
       "    </tr>\n",
       "    <tr>\n",
       "      <th>4</th>\n",
       "      <td>2019</td>\n",
       "      <td>Prix Goncourt</td>\n",
       "      <td>Tous les hommes n'habitent pas le monde de la ...</td>\n",
       "      <td>Tous les hommes n'habitent pas le monde de la ...</td>\n",
       "    </tr>\n",
       "  </tbody>\n",
       "</table>\n",
       "</div>"
      ],
      "text/plain": [
       "  Année                     Prix  \\\n",
       "0  2019              Prix Femina   \n",
       "1  2019     Prix Femina étranger   \n",
       "2  2019        Prix Femina essai   \n",
       "3  2019  Prix Femina des lycéens   \n",
       "4  2019            Prix Goncourt   \n",
       "\n",
       "                                              Auteur  \\\n",
       "0                                     Par les routes   \n",
       "1                                             Ordesa   \n",
       "2                                 Emmanuelle Lambert   \n",
       "3                                         La Chaleur   \n",
       "4  Tous les hommes n'habitent pas le monde de la ...   \n",
       "\n",
       "                                               Titre  \n",
       "0                                     Par les routes  \n",
       "1                                             Ordesa  \n",
       "2                                      Giono furioso  \n",
       "3                                         La Chaleur  \n",
       "4  Tous les hommes n'habitent pas le monde de la ...  "
      ]
     },
     "execution_count": 93,
     "metadata": {},
     "output_type": "execute_result"
    }
   ],
   "source": [
    "df.head(5)"
   ]
  },
  {
   "cell_type": "markdown",
   "metadata": {},
   "source": [
    "Création d'un fichier CSV afin de vérifier s'il n'y a pas d'incohérences"
   ]
  },
  {
   "cell_type": "code",
   "execution_count": 94,
   "metadata": {},
   "outputs": [],
   "source": [
    "df.to_csv(\"prix_litteraires.csv\", index=False)"
   ]
  },
  {
   "cell_type": "markdown",
   "metadata": {},
   "source": [
    "PARTIE: Corriger les incohérences de la table"
   ]
  },
  {
   "cell_type": "markdown",
   "metadata": {},
   "source": [
    "Il y a un certain nombre d'incohérences dans la table initiales, qui font que notamment les noms d'auteurs sont souvent absents. Parfois, il y est réécrit le titre dans la case dédiée à l'auteur (cas 1). D'autre fois, l'auteur n'est pas indiqué et à la place il y a seulement un chiffre entre crochets (cas 2). Il y a aussi certains prix en particulier qui posent problème à l'image du prix François Maurillac, du prix France-Culture Telerama et du prix Maya."
   ]
  },
  {
   "cell_type": "code",
   "execution_count": 95,
   "metadata": {},
   "outputs": [
    {
     "name": "stdout",
     "output_type": "stream",
     "text": [
      "    Année                                         Prix  \\\n",
      "0    2019                                  Prix Femina   \n",
      "1    2019                         Prix Femina étranger   \n",
      "3    2019                      Prix Femina des lycéens   \n",
      "4    2019                                Prix Goncourt   \n",
      "5    2019               Prix Goncourt du premier roman   \n",
      "..    ...                                          ...   \n",
      "189  2022  Grand prix du roman de l'Académie française   \n",
      "218  2022                          Grand prix RTL-Lire   \n",
      "223  2022                    Grand Prix Roman de l'été   \n",
      "290  2023                    Grand Prix Roman de l'été   \n",
      "292  2023                                   Ada Palmer   \n",
      "\n",
      "                                                Auteur  \\\n",
      "0                                       Par les routes   \n",
      "1                                               Ordesa   \n",
      "3                                           La Chaleur   \n",
      "4    Tous les hommes n'habitent pas le monde de la ...   \n",
      "5                                          Court vêtue   \n",
      "..                                                 ...   \n",
      "189                                 Le Mage du Kremlin   \n",
      "218                                                555   \n",
      "223                                     Femme Actuelle   \n",
      "290                                     Femme Actuelle   \n",
      "292                                       Terra Ignota   \n",
      "\n",
      "                                                 Titre  \n",
      "0                                       Par les routes  \n",
      "1                                               Ordesa  \n",
      "3                                           La Chaleur  \n",
      "4    Tous les hommes n'habitent pas le monde de la ...  \n",
      "5                                          Court vêtue  \n",
      "..                                                 ...  \n",
      "189                                 Le Mage du Kremlin  \n",
      "218                                                555  \n",
      "223                                     Femme Actuelle  \n",
      "290                                     Femme Actuelle  \n",
      "292                                       Terra Ignota  \n",
      "\n",
      "[81 rows x 4 columns]\n"
     ]
    }
   ],
   "source": [
    "df_double = df[df['Auteur']==df['Titre']]\n",
    "print(df_double)"
   ]
  },
  {
   "cell_type": "code",
   "execution_count": 96,
   "metadata": {},
   "outputs": [
    {
     "name": "stdout",
     "output_type": "stream",
     "text": [
      "    Année                                  Prix Auteur  \\\n",
      "104  2020              Prix littéraire du Monde    [4]   \n",
      "150  2021                   Prix Première Plume    [3]   \n",
      "157  2021  Prix Eugène-Dabit du roman populiste    [5]   \n",
      "180  2022        Prix Goncourt de la biographie   [10]   \n",
      "209  2022                           Anne Berest   [33]   \n",
      "210  2022      Prix littéraire ENS Paris-Saclay   [34]   \n",
      "214  2022             Prix du Quai des Orfèvres   [38]   \n",
      "217  2022  Prix Eugène-Dabit du roman populiste   [41]   \n",
      "222  2022      Grand prix des lectrices de Elle   [45]   \n",
      "225  2022       Grand Prix de Poésie de la SGDL   [46]   \n",
      "227  2022                           Prix Wepler   [47]   \n",
      "247  2023        Prix Goncourt de la biographie   [45]   \n",
      "297  2023   Prix littéraire de la Ville de Caen   [70]   \n",
      "\n",
      "                              Titre  \n",
      "104                           Monde  \n",
      "150  Avant que le monde ne se ferme  \n",
      "157              Des gens comme eux  \n",
      "180           Léopold Sédar Senghor  \n",
      "209                La Carte postale  \n",
      "210                      Le Passeur  \n",
      "214                   La Muse rouge  \n",
      "217   Les Garçons de la cité-jardin  \n",
      "222                La Carte postale  \n",
      "225          Réacteur 3 [Fukushima]  \n",
      "227            Les Enfants endormis  \n",
      "247                   Georges Perec  \n",
      "297   Mourir avant que d'apparaître  \n"
     ]
    }
   ],
   "source": [
    "df_ch = df[df['Auteur'].str.contains(r'^\\[\\d+\\]$')]\n",
    "print(df_ch)"
   ]
  },
  {
   "cell_type": "markdown",
   "metadata": {},
   "source": [
    "Cas 3: A la place du nom de l'auteur, il y a toujours indiqué \"Académie française\""
   ]
  },
  {
   "cell_type": "code",
   "execution_count": 97,
   "metadata": {},
   "outputs": [
    {
     "name": "stdout",
     "output_type": "stream",
     "text": [
      "    Année                   Prix              Auteur  \\\n",
      "53   2019  Prix François-Mauriac  Académie française   \n",
      "90   2020  Prix François-Mauriac  Académie française   \n",
      "199  2022  Prix François-Mauriac  Académie française   \n",
      "267  2023  Prix François-Mauriac  Académie française   \n",
      "\n",
      "                                  Titre  \n",
      "53   Là-bas, août est un mois d'automne  \n",
      "90               Un automne de Flaubert  \n",
      "199                                Zita  \n",
      "267   À l’abri des hommes et des choses  \n"
     ]
    }
   ],
   "source": [
    "df_mauriac = df[df['Prix']=='Prix François-Mauriac']\n",
    "print(df_mauriac)"
   ]
  },
  {
   "cell_type": "markdown",
   "metadata": {},
   "source": [
    "Cas 4: pour le prix Télérama, le nom du prix remplace le titre et le titre remplace l'auteur. Enfin ça dépend desquels donc le remplacement manuel est sûrement mieux pour ces derniers"
   ]
  },
  {
   "cell_type": "code",
   "execution_count": 98,
   "metadata": {},
   "outputs": [
    {
     "name": "stdout",
     "output_type": "stream",
     "text": [
      "    Année                          Prix           Auteur     Titre\n",
      "28   2019  Prix France Culture-Télérama        La Maison  Télérama\n",
      "97   2020  Prix France Culture-Télérama         Chavirer  Télérama\n",
      "208  2022  Prix France Culture-Télérama   Kaouther Adimi  Télérama\n",
      "276  2023  Prix France Culture-Télérama  Salma El Moumni  Télérama\n"
     ]
    }
   ],
   "source": [
    "df_telerama = df[df['Prix']=='Prix France Culture-Télérama']\n",
    "print(df_telerama)"
   ]
  },
  {
   "cell_type": "markdown",
   "metadata": {},
   "source": [
    "Remplacement à la main"
   ]
  },
  {
   "cell_type": "code",
   "execution_count": 99,
   "metadata": {},
   "outputs": [],
   "source": [
    "df.loc[(df[\"Prix\"] == \"Prix France Culture-Télérama\") & (df[\"Année\"] == 2019), [\"Auteur\", \"Titre\"]] = [\"Emma Becker\", \"La Maison\"]\n",
    "df.loc[(df[\"Prix\"] == \"Prix France Culture-Télérama\") & (df[\"Année\"] == 2020), [\"Auteur\", \"Titre\"]] = [\"Lola Lafon\", \"Chavirer\"]\n",
    "df.loc[(df[\"Prix\"] == \"Prix France Culture-Télérama\") & (df[\"Année\"] == 2022), \"Titre\"] = \"Au vent mauvais\"\n",
    "df.loc[(df[\"Prix\"] == \"Prix France Culture-Télérama\") & (df[\"Année\"] == 2023), \"Titre\"] = \"Adieu Tanger\"\n",
    "nouvelle_ligne = pd.DataFrame({'Année': [2021], 'Prix': [\"Prix France Culture-Télérama\"], 'Auteur':['Mathieu Palain'], 'Titre':[\"Ne t'arrête pas de courir \"]})\n",
    "df = pd.concat([df, nouvelle_ligne], ignore_index=True)"
   ]
  },
  {
   "cell_type": "markdown",
   "metadata": {},
   "source": [
    "Cas 5: Prix Maya"
   ]
  },
  {
   "cell_type": "code",
   "execution_count": 100,
   "metadata": {},
   "outputs": [
    {
     "name": "stdout",
     "output_type": "stream",
     "text": [
      "    Année       Prix      Auteur                       Titre\n",
      "61   2019  Prix Maya  animaliste  Les Paupières des poissons\n",
      "124  2020  Prix Maya  animaliste            Insolente Veggie\n"
     ]
    }
   ],
   "source": [
    "df_maya = df[df['Prix']=='Prix Maya']\n",
    "print(df_maya)"
   ]
  },
  {
   "cell_type": "markdown",
   "metadata": {},
   "source": [
    "Il y a aussi un problème avec les prix \"Femme actuelle\". Il n'y a ni auteur ni titre indiqué, donc il faudra aussi faire à la main."
   ]
  },
  {
   "cell_type": "code",
   "execution_count": 101,
   "metadata": {},
   "outputs": [
    {
     "name": "stdout",
     "output_type": "stream",
     "text": [
      "    Année                       Prix          Auteur           Titre\n",
      "46   2019  Grand Prix Roman de l'été  Femme Actuelle  Femme Actuelle\n",
      "109  2020  Grand Prix Roman de l'été  Femme Actuelle  Femme Actuelle\n",
      "162  2021  Grand Prix Roman de l'été  Femme Actuelle  Femme Actuelle\n",
      "223  2022  Grand Prix Roman de l'été  Femme Actuelle  Femme Actuelle\n",
      "290  2023  Grand Prix Roman de l'été  Femme Actuelle  Femme Actuelle\n"
     ]
    }
   ],
   "source": [
    "df_femme_a = df[df['Titre']=='Femme Actuelle']\n",
    "print(df_femme_a)"
   ]
  },
  {
   "cell_type": "code",
   "execution_count": 102,
   "metadata": {},
   "outputs": [],
   "source": [
    "df.loc[df[\"Titre\"] == \"Femme Actuelle\", \"Prix\"] = \"Grand prix Roman de l'été de Femme Actuelle\""
   ]
  },
  {
   "cell_type": "code",
   "execution_count": 115,
   "metadata": {},
   "outputs": [],
   "source": [
    "df.loc[(df['Titre'] == 'Femme Actuelle') & (df['Année'] == 2019), ['Titre', 'Auteur']] = ['Au bout de la nuit', 'Bruno Bouzounie']\n",
    "df.loc[(df['Titre'] == 'Femme Actuelle') & (df['Année'] == 2020), ['Titre', 'Auteur']] = ['La Conjonction dorée', 'Benoît Sagaro']\n",
    "df.loc[(df['Titre'] == 'Femme Actuelle') & (df['Année'] == 2021), ['Titre', 'Auteur']] = ['Pour exister encore', 'Martine Duchesne']\n",
    "df.loc[(df['Titre'] == 'Femme Actuelle') & (df['Année'] == 2022), ['Titre', 'Auteur']] = [\"Le journal de Betty Swan\", 'Cindy Valt']\n",
    "df.loc[(df['Titre'] == 'Femme Actuelle') & (df['Année'] == 2023), ['Titre', 'Auteur']] = ['Hauteclaire', 'Dominique Delplace']"
   ]
  },
  {
   "cell_type": "markdown",
   "metadata": {},
   "source": [
    "Parfois des crochets s'inscrustent dans les titres ou des parenthèses après les noms d'auteur. On veut enlever tout ça !"
   ]
  },
  {
   "cell_type": "code",
   "execution_count": 103,
   "metadata": {},
   "outputs": [],
   "source": [
    "df['Auteur'] = df['Auteur'].str.replace(r'\\(.*\\)', '', regex=True) #on enlève les parenthèses après les noms d'auteur\n",
    "df['Auteur'] = df['Auteur'].str.replace(r'\\[.*\\]', '', regex=True) # on enlève aussi les éventuels crochets\n",
    "df['Titre'] = df['Titre'].str.replace(r'\\[.*\\]', '', regex=True)"
   ]
  },
  {
   "cell_type": "markdown",
   "metadata": {},
   "source": [
    "RECHERCHE SUR GALLIMARD PCQ TROP DE BLOCAGES SUR LES MOTEURS DE RECHERCHE"
   ]
  },
  {
   "cell_type": "code",
   "execution_count": 105,
   "metadata": {},
   "outputs": [],
   "source": [
    "import time\n",
    "import re\n",
    "import requests\n",
    "from bs4 import BeautifulSoup as soup\n",
    "\n",
    "def search_gallimard(book_title, year):\n",
    "    #reformulation du titre en différente partie\n",
    "    parts = re.findall(r'\\w+|[^\\w\\s]', book_title)\n",
    "    book_title_gen = book_title.lower().strip()\n",
    "\n",
    "    # URL de recherche sur Livraddict\n",
    "    search_title = '+'.join(parts)\n",
    "    lower_search_title = '%20'.join(parts).lower()\n",
    "    headers = {\n",
    "    'User-Agent': 'Mozilla/5.0 (Windows NT 10.0; Win64; x64; rv:118.0) Gecko/20100101 Firefox/118.0'}\n",
    "    search_url = f'https://www.gallimard.fr/catalogue?search_api_fulltext={search_title}&field_date_de_parution_1%5Bdate%5D={year}-01-01&field_date_de_parution_2%5Bdate%5D={year}-12-31&field_prix%5Bmin%5D=&field_prix%5Bmax%5D=&title_3=&items_per_page=20&sort_bef_combine=field_identifiant_catalogue_ASC'\n",
    "    time.sleep(5)\n",
    "\n",
    "    # Faire une requête pour récupérer la page des résultats de recherche\n",
    "    response = requests.get(search_url, headers=headers).content\n",
    "    response_text = response.decode('utf-8')\n",
    "    # Trouver le premier élément correspondant au lien d'un résultat\n",
    "    page = soup(response_text, \"html.parser\")\n",
    "    results = page.find_all(\"div\", class_ = \"card--ouvrage\")\n",
    "    author = ''\n",
    "    for i in range(len(results)):\n",
    "        result = results[i]\n",
    "        div_title = result.find(\"div\", class_ = \"title\")\n",
    "        title = div_title.text\n",
    "        title_gen = title.lower().strip()\n",
    "        if book_title_gen == title_gen:\n",
    "            div_author = result.find('div', class_='paragraph paragraph--type--auteur paragraph--view-mode--links')\n",
    "            a_author = div_author.find(\"a\")\n",
    "            author = a_author.text\n",
    "    if author == '':\n",
    "        author = \"Pas trouvé sur Gallimard\"\n",
    "    return author"
   ]
  },
  {
   "cell_type": "markdown",
   "metadata": {},
   "source": [
    "Fonction pour récupérer l'information sur la maison du livre pour les livres pas sur Gallimard depuis la page wikipedia je pense que je vais enlever tout ça"
   ]
  },
  {
   "cell_type": "code",
   "execution_count": 106,
   "metadata": {},
   "outputs": [],
   "source": [
    "import time\n",
    "import re\n",
    "import requests\n",
    "from bs4 import BeautifulSoup as soup\n",
    "\n",
    "def search_maison_du_livre(book_title, year):\n",
    "    #reformulation du titre en différente partie\n",
    "    parts = re.findall(r'\\w+|[^\\w\\s]', book_title)\n",
    "    book_title_gen = book_title.lower().strip()\n",
    "\n",
    "    # URL de recherche sur Livraddict\n",
    "    search_title = '+'.join(parts)\n",
    "    headers = {\n",
    "    'User-Agent': 'Mozilla/5.0 (Windows NT 10.0; Win64; x64; rv:118.0) Gecko/20100101 Firefox/118.0'}\n",
    "    search_url = f'https://www.maisondulivre.com/listeliv.php?base=paper&mots_recherche={search_title}+{year}'\n",
    "    time.sleep(5)\n",
    "\n",
    "    # Faire une requête pour récupérer la page des résultats de recherche\n",
    "    response = requests.get(search_url, headers=headers).content\n",
    "    response_text = response.decode('utf-8')\n",
    "\n",
    "    # Trouver le premier élément correspondant au lien d'un résultat\n",
    "    page = soup(response_text, \"html.parser\")\n",
    "    liste_livres = page.find('ul', {'id': 'liste_livres'})\n",
    "    livres = liste_livres.find_all(\"li\")\n",
    "    author = ''\n",
    "    for i in range(len(livres)):\n",
    "        livre = livres[i]\n",
    "        h2_titre = livre.find(\"h2\", class_=\"livre_titre\")\n",
    "        if h2_titre:\n",
    "            a_titre = h2_titre.find(\"a\")\n",
    "            titre = a_titre.get_text(strip=True)\n",
    "            title_adapted = re.sub(r'\\s?\\(.*?\\)', '', titre)\n",
    "            title_gen = title_adapted.lower().strip()\n",
    "            if title_gen == book_title_gen:\n",
    "                h2_auteur = livre.find(\"h2\", class_ = \"livre_auteur\")\n",
    "                if h2_auteur == None:\n",
    "                    auteur = \"Auteur non renseigné\"\n",
    "                else:\n",
    "                    a_auteur = h2_auteur.find(\"a\")\n",
    "                    author = a_auteur.get_text(strip=True)\n",
    "    if author == '':\n",
    "        author = \"Livre pas trouvé\"\n",
    "    return author"
   ]
  },
  {
   "cell_type": "code",
   "execution_count": 107,
   "metadata": {},
   "outputs": [],
   "source": [
    "def search_author(row):\n",
    "    if row[\"Auteur\"] == row[\"Titre\"] or re.match(r'^\\[\\d+\\]$', row['Auteur']) or row['Prix']=='Prix François-Mauriac' or row['Prix']=='Prix Maya':\n",
    "        author = search_gallimard(row[\"Titre\"], row[\"Année\"])\n",
    "        if author == None:\n",
    "            author = \"Problème dans la fonction?\"\n",
    "        return author\n",
    "    else:\n",
    "        return row[\"Auteur\"]"
   ]
  },
  {
   "cell_type": "markdown",
   "metadata": {},
   "source": [
    "Fonction globale allant chercher l'auteur de l'ouvrage quand ce dernier n'est pas indiqué. Attention, l'opération prend à peu près 8 minutes"
   ]
  },
  {
   "cell_type": "code",
   "execution_count": 108,
   "metadata": {},
   "outputs": [],
   "source": [
    "df['Auteur'] = df.apply(search_author, axis=1)"
   ]
  },
  {
   "cell_type": "markdown",
   "metadata": {},
   "source": [
    "Pour compléter ce qu'on a déjà fait sur Gallimard, on va utiliser un scraping sur le site de la maison du livre"
   ]
  },
  {
   "cell_type": "code",
   "execution_count": 109,
   "metadata": {},
   "outputs": [],
   "source": [
    "def complete_author(row):\n",
    "    if row[\"Auteur\"] == \"Pas trouvé sur Gallimard\":\n",
    "        author = search_maison_du_livre(row[\"Titre\"], row[\"Année\"])\n",
    "        if author == None:\n",
    "            author = \"Problème dans la fonction?\"\n",
    "        return author\n",
    "    else:\n",
    "        return row[\"Auteur\"]"
   ]
  },
  {
   "cell_type": "markdown",
   "metadata": {},
   "source": [
    "L'opération prend à peu près 7 minutes "
   ]
  },
  {
   "cell_type": "code",
   "execution_count": 110,
   "metadata": {},
   "outputs": [],
   "source": [
    "df['Auteur'] = df.apply(complete_author, axis=1)"
   ]
  },
  {
   "cell_type": "code",
   "execution_count": 116,
   "metadata": {},
   "outputs": [
    {
     "data": {
      "text/html": [
       "<div>\n",
       "<style scoped>\n",
       "    .dataframe tbody tr th:only-of-type {\n",
       "        vertical-align: middle;\n",
       "    }\n",
       "\n",
       "    .dataframe tbody tr th {\n",
       "        vertical-align: top;\n",
       "    }\n",
       "\n",
       "    .dataframe thead th {\n",
       "        text-align: right;\n",
       "    }\n",
       "</style>\n",
       "<table border=\"1\" class=\"dataframe\">\n",
       "  <thead>\n",
       "    <tr style=\"text-align: right;\">\n",
       "      <th></th>\n",
       "      <th>Année</th>\n",
       "      <th>Prix</th>\n",
       "      <th>Auteur</th>\n",
       "      <th>Titre</th>\n",
       "    </tr>\n",
       "  </thead>\n",
       "  <tbody>\n",
       "    <tr>\n",
       "      <th>0</th>\n",
       "      <td>2019</td>\n",
       "      <td>Prix Femina</td>\n",
       "      <td>Sylvain Prudhomme</td>\n",
       "      <td>Par les routes</td>\n",
       "    </tr>\n",
       "    <tr>\n",
       "      <th>1</th>\n",
       "      <td>2019</td>\n",
       "      <td>Prix Femina étranger</td>\n",
       "      <td>Manuel Vilas</td>\n",
       "      <td>Ordesa</td>\n",
       "    </tr>\n",
       "    <tr>\n",
       "      <th>2</th>\n",
       "      <td>2019</td>\n",
       "      <td>Prix Femina essai</td>\n",
       "      <td>Emmanuelle Lambert</td>\n",
       "      <td>Giono furioso</td>\n",
       "    </tr>\n",
       "    <tr>\n",
       "      <th>3</th>\n",
       "      <td>2019</td>\n",
       "      <td>Prix Femina des lycéens</td>\n",
       "      <td>Victor Jestin</td>\n",
       "      <td>La Chaleur</td>\n",
       "    </tr>\n",
       "    <tr>\n",
       "      <th>4</th>\n",
       "      <td>2019</td>\n",
       "      <td>Prix Goncourt</td>\n",
       "      <td>Jean-Paul Dubois</td>\n",
       "      <td>Tous les hommes n'habitent pas le monde de la ...</td>\n",
       "    </tr>\n",
       "    <tr>\n",
       "      <th>5</th>\n",
       "      <td>2019</td>\n",
       "      <td>Prix Goncourt du premier roman</td>\n",
       "      <td>Marie Gauthier</td>\n",
       "      <td>Court vêtue</td>\n",
       "    </tr>\n",
       "    <tr>\n",
       "      <th>6</th>\n",
       "      <td>2019</td>\n",
       "      <td>Prix Goncourt des lycéens</td>\n",
       "      <td>Karine Tuil</td>\n",
       "      <td>Les Choses humaines</td>\n",
       "    </tr>\n",
       "    <tr>\n",
       "      <th>7</th>\n",
       "      <td>2019</td>\n",
       "      <td>Prix Goncourt de la nouvelle</td>\n",
       "      <td>Caroline Lamarche</td>\n",
       "      <td>Nous sommes à la lisière</td>\n",
       "    </tr>\n",
       "    <tr>\n",
       "      <th>8</th>\n",
       "      <td>2019</td>\n",
       "      <td>Prix Goncourt de la biographie</td>\n",
       "      <td>Emily Dickinson</td>\n",
       "      <td>Manifeste incertain, volume 7 : Emily Dickinso...</td>\n",
       "    </tr>\n",
       "    <tr>\n",
       "      <th>9</th>\n",
       "      <td>2019</td>\n",
       "      <td>Choix Goncourt de la Pologne</td>\n",
       "      <td>Louis-philippe Dalembert</td>\n",
       "      <td>Mur Méditerranée</td>\n",
       "    </tr>\n",
       "  </tbody>\n",
       "</table>\n",
       "</div>"
      ],
      "text/plain": [
       "  Année                            Prix                    Auteur  \\\n",
       "0  2019                     Prix Femina         Sylvain Prudhomme   \n",
       "1  2019            Prix Femina étranger              Manuel Vilas   \n",
       "2  2019               Prix Femina essai        Emmanuelle Lambert   \n",
       "3  2019         Prix Femina des lycéens             Victor Jestin   \n",
       "4  2019                   Prix Goncourt          Jean-Paul Dubois   \n",
       "5  2019  Prix Goncourt du premier roman            Marie Gauthier   \n",
       "6  2019       Prix Goncourt des lycéens               Karine Tuil   \n",
       "7  2019    Prix Goncourt de la nouvelle         Caroline Lamarche   \n",
       "8  2019  Prix Goncourt de la biographie           Emily Dickinson   \n",
       "9  2019    Choix Goncourt de la Pologne  Louis-philippe Dalembert   \n",
       "\n",
       "                                               Titre  \n",
       "0                                     Par les routes  \n",
       "1                                             Ordesa  \n",
       "2                                      Giono furioso  \n",
       "3                                         La Chaleur  \n",
       "4  Tous les hommes n'habitent pas le monde de la ...  \n",
       "5                                        Court vêtue  \n",
       "6                                Les Choses humaines  \n",
       "7                           Nous sommes à la lisière  \n",
       "8  Manifeste incertain, volume 7 : Emily Dickinso...  \n",
       "9                                   Mur Méditerranée  "
      ]
     },
     "execution_count": 116,
     "metadata": {},
     "output_type": "execute_result"
    }
   ],
   "source": [
    "df.head(10)"
   ]
  },
  {
   "cell_type": "markdown",
   "metadata": {},
   "source": [
    "On vérifie qu'il n'y a bien plus aucune anomalie"
   ]
  },
  {
   "cell_type": "code",
   "execution_count": 121,
   "metadata": {},
   "outputs": [
    {
     "name": "stdout",
     "output_type": "stream",
     "text": [
      "Empty DataFrame\n",
      "Columns: [Année, Prix, Auteur, Titre]\n",
      "Index: []\n"
     ]
    }
   ],
   "source": [
    "erreur_recherche = [\"Livre pas trouvé\"]\n",
    "df_verif =  df[df[\"Auteur\"].isin(erreur_recherche)]\n",
    "print(df_verif)"
   ]
  },
  {
   "cell_type": "markdown",
   "metadata": {},
   "source": [
    "Je remplace à la main pour les dernières valeurs"
   ]
  },
  {
   "cell_type": "code",
   "execution_count": 120,
   "metadata": {},
   "outputs": [],
   "source": [
    "df.loc[df['Titre'] == \"J'ai oublié\", 'Auteur'] = 'Bulle Ogier'\n",
    "df.loc[df['Titre'] == \"Une vieille histoire. Nouvelle version\", 'Auteur'] = 'Jonathan Littell'\n",
    "df.loc[df['Titre'] == \"Les Grands Cerfs\", 'Auteur'] = 'Claudie Hunzinger'\n",
    "df.loc[df['Titre'] == \"Anatèm\", 'Auteur'] = 'Neal Stephenson'\n",
    "df.loc[df['Titre'] == \"Le Cœur synthétique\", 'Auteur'] = 'Chloé Delaume'\n",
    "df.loc[df['Titre'] == \"Terra Ignota\", 'Auteur'] = 'Ada Palmer'\n",
    "df.loc[df['Titre'] == \"Histoire du fils\", 'Auteur'] = 'Marie-Hélène Lafon'\n",
    "df.loc[df['Titre'] == \"Adios Cow Boy\", 'Auteur'] = 'Olja Savičević Ivančević'\n",
    "df.loc[df['Titre'] == \"La Grâce\", 'Auteur'] = 'Thibault de Montaigu'\n",
    "df.loc[df['Titre'] == \"Le Voyant d'Étampes\", 'Auteur'] = 'Abel Quentin'\n",
    "df.loc[df['Titre'] == \"Héritage\", 'Auteur'] = 'Miguel Bonnefoy'\n",
    "df.loc[(df['Titre'] == 'Les Paupières des poissons'), 'Auteur'] = 'Fanny Vaucher, Sébastien Moro'\n",
    "df.loc[df['Titre'] == 'Insolente Veggie', 'Auteur'] = 'Rosa B.'\n",
    "df.loc[df['Titre'] == 'Zita', 'Auteur'] = 'Olivier Hercend'\n",
    "df.loc[df['Titre'] == \"À l’abri des hommes et des choses\", 'Auteur'] = 'Stéphanie Boulay'"
   ]
  },
  {
   "cell_type": "markdown",
   "metadata": {},
   "source": [
    "Quelques autres corrections"
   ]
  },
  {
   "cell_type": "markdown",
   "metadata": {},
   "source": [
    "J'ai remarqué qu'il y a parfois des prix qui manquent (c'est deux fois le nom de l'ouvrage). Regarder c'est le cas de combien de livres pour corriger manuellement !"
   ]
  },
  {
   "cell_type": "code",
   "execution_count": 131,
   "metadata": {},
   "outputs": [
    {
     "name": "stdout",
     "output_type": "stream",
     "text": [
      "Empty DataFrame\n",
      "Columns: [Année, Prix, Auteur, Titre]\n",
      "Index: []\n"
     ]
    }
   ],
   "source": [
    "df_verif =  df[(df['Auteur'] == '')]\n",
    "print(df_verif)"
   ]
  },
  {
   "cell_type": "code",
   "execution_count": 129,
   "metadata": {},
   "outputs": [],
   "source": [
    "\n",
    "df.loc[(df['Prix'] == 'Prix littéraire du Monde') & (df['Année'] == 2020), ['Titre', 'Auteur']] = ['Elle a menti pour les ailes', 'Francesca Serra']\n",
    "df.loc[(df['Prix'] == 'Prix Eugène-Dabit du roman populiste') & (df['Année'] == 2021), 'Auteur'] =  'Samira Sedira'\n",
    "df.loc[(df['Titre'] == 'Mon territoire') & (df['Année'] == 2020), ['Prix', 'Auteur']] = ['Grand prix des lectrices (Elle)', 'Tess Sharpe']\n",
    "df.loc[df['Titre'] == 'Avant que le monde ne se ferme','Auteur'] = 'Alain Mascaro'\n",
    "df.loc[df['Titre'] == 'Léopold Sédar Senghor','Auteur'] = ' Jean-Pierre Langellier'\n",
    "df.loc[df['Titre'] == 'La Carte postale','Auteur'] = 'Anne Berest'\n",
    "df.loc[df['Titre'] == 'Le Passeur','Auteur'] = 'Lois Lowry'\n",
    "df.loc[df['Titre'] == 'La Muse rouge','Auteur'] = 'Véronique de Haas'\n",
    "df.loc[df['Titre'] == 'Les Garçons de la cité-jardin','Auteur'] = 'Dan Nisand'\n",
    "df.loc[df['Titre'] == 'Réacteur 3 ','Auteur'] = 'Ludovic Bernhardt'\n",
    "df.loc[df['Titre'] == 'Les Enfants endormis','Auteur'] = 'Anthony Passeron'\n",
    "df.loc[df['Titre'] == 'Georges Perec','Auteur'] = 'Claude Burgelin'\n",
    "df.loc[df['Titre'] == \"Mourir avant que d'apparaître\",'Auteur'] = 'Rémi David'\n"
   ]
  },
  {
   "cell_type": "markdown",
   "metadata": {},
   "source": [
    "Pour ces lignes, on a pas besoin de changer parce qu'on exploite la base en utilisant une indicatrice de prix ( donc ce n'est pas important pour nous de savoir quel prix exactement a été obtenu)"
   ]
  },
  {
   "cell_type": "markdown",
   "metadata": {},
   "source": [
    "On vérifie que tout va bien dans le csv"
   ]
  },
  {
   "cell_type": "code",
   "execution_count": 132,
   "metadata": {},
   "outputs": [],
   "source": [
    "df.to_csv(\"prix_litteraires.csv\", index=False)"
   ]
  },
  {
   "cell_type": "code",
   "execution_count": 133,
   "metadata": {},
   "outputs": [
    {
     "name": "stdout",
     "output_type": "stream",
     "text": [
      "Colonnes avant sauvegarde : Index(['Année', 'Prix', 'Auteur', 'Titre', 'prix_19_20'], dtype='object')\n",
      "fin\n"
     ]
    }
   ],
   "source": [
    "import pandas as pd\n",
    "\n",
    "# on ajoute une colonne indicatrice \"prix\" \n",
    "df['prix_19_20'] = 1 # renommer en 19_23 pour plus de clarté ?\n",
    "print(\"Colonnes avant sauvegarde :\", df.columns)\n",
    "\n",
    "#tentative de sauvegarde en csv\n",
    "df.to_csv(\"prix_litteraires.csv\", index=False, mode=\"w\")\n",
    "\n",
    "print(\"fin\")"
   ]
  }
 ],
 "metadata": {
  "kernelspec": {
   "display_name": "base",
   "language": "python",
   "name": "python3"
  },
  "language_info": {
   "codemirror_mode": {
    "name": "ipython",
    "version": 3
   },
   "file_extension": ".py",
   "mimetype": "text/x-python",
   "name": "python",
   "nbconvert_exporter": "python",
   "pygments_lexer": "ipython3",
   "version": "3.12.7"
  }
 },
 "nbformat": 4,
 "nbformat_minor": 2
}
