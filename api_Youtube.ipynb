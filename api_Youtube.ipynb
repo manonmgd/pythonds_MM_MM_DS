{
 "cells": [
  {
   "cell_type": "code",
   "execution_count": null,
   "metadata": {
    "vscode": {
     "languageId": "plaintext"
    }
   },
   "outputs": [],
   "source": [
    "Code qui renvoie les titres et les descriptions de vidéos sur YouTube concernant des livres publiés en 2023 "
   ]
  },
  {
   "cell_type": "code",
   "execution_count": null,
   "metadata": {},
   "outputs": [],
   "source": [
    "import requests\n",
    "\n",
    "# Remplacer key par sa propre clé API\n",
    "\n",
    "# Fonction python pour rechercher des vidéos sur YouTube concernant des livres publiés en 2023\n",
    "def get_videos(query, key):\n",
    "    url = f'https://www.googleapis.com/youtube/v3/search?part=snippet&q={query}&type=video&key={key}'\n",
    "    # part=snippet : récupération des informations de base sur la vidéo (titre, description, etc.)  \n",
    "    # q=nouveauté+livre+2023 : recherche avec des mots-clés  \n",
    "    # type=video : récupération uniquement de vidéos (pas de playlists ou de chaînes)  \n",
    "    # key= Renseignement de la clé API  \n",
    "    response = requests.get(url) # Requête recherchant des vidéos sur YouTube concernant des livres publiés en 2023\n",
    "    return response.json()\n",
    "\n",
    "# La réponse de l'API contient des informations sur les vidéos comme :  \n",
    "# videoId : L'ID de la vidéo qui peut être utilisé pour récupérer les sous-titres et d'autres informations  \n",
    "# title : Le titre de la vidéo  \n",
    "# description : La description de la vidéo  \n",
    "\n",
    "# Fonction python pour lister les sous-titres\n",
    "def get_captions(video_id, key):\n",
    "    url = f'https://www.googleapis.com/youtube/v3/captions?videoId={video_id}&key={key}'\n",
    "    response = requests.get(url) # Requête listant les sous-titres\n",
    "    return response.json()\n",
    "\n",
    "# Si des sous-titres existent pour une vidéo,on peut ensuite récupérer le contenu en utilisant l'ID du sous-titre.\n",
    "\n",
    "# Fonction python pour récupérer le texte des sous-titres\n",
    "def get_captionstext(caption_id, key):\n",
    "    url = f'https://www.googleapis.com/youtube/v3/captions/{caption_id}?key={key}'\n",
    "    response = requests.get(url) # Requête listant les textes des sous-titres\n",
    "    return response.json()\n",
    "\n",
    "# La requête n'est pas utilisable, on obtient un message d'erreur:\n",
    "# 'code': 401, 'message': 'API keys are not supported by this API. Expected OAuth2 access token or other authentication credentials that assert a principal.\n",
    "# Il nous manque une autorisation\n",
    "\n",
    "# Recherche des vidéos sur YouTube concernant des livres publiés en 2023\n",
    "query = \"nouveauté livre 2023\"\n",
    "videos = get_videos(query, key)\n",
    "\n",
    "for video in videos['items']: # Pour chaque vidéo obtenue grâce à la requête,\n",
    "    video_id = video['id']['videoId'] # on récupère l'identifiant de la vidéo\n",
    "    title = video['snippet']['title'] # on récupère le titre de la vidéo\n",
    "    description = video['snippet']['description'] # on récupère la description de la vidéo\n",
    "    print(f\"Titre: {title}\\nDescription: {description}\\n\") # on renvoie le titre et la description\n",
    "\n",
    "    # Récupérer les sous-titres si disponibles\n",
    "    # captions = get_captions(video_id, key)\n",
    "    # if 'items' in captions: # S'il y a des sous-titres à la vidéo,\n",
    "        # for caption in captions['items']:\n",
    "            # caption_id = caption['id'] # on récupère l'identifiant des sous-titres\n",
    "            # captiontext = get_captionstext(caption_id, key)\n",
    "            # print(f\"Sous-titres disponibles: {captiontext}\\n\") # on renvoie l'identifiant\n",
    "    # else: # Sinon\n",
    "        # print(\"Pas de sous-titres disponibles.\") # on renvoie le message : \"Pas de sous-titres disponibles\"\n"
   ]
  }
 ],
 "metadata": {
  "language_info": {
   "name": "python"
  }
 },
 "nbformat": 4,
 "nbformat_minor": 2
}
