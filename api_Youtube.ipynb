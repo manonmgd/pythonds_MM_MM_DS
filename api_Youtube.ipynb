{
 "cells": [
  {
   "cell_type": "markdown",
   "metadata": {},
   "source": [
    "# Utilisation de l'API Youtube pour rechercher des vidéos"
   ]
  },
  {
   "cell_type": "markdown",
   "metadata": {},
   "source": [
    "## Création d'un projet sur Google Cloud Console\n",
    "\n",
    "**Pour utiliser, la YouTube Data API v3 qui nous servira par la suite, il est nécessaire de créer un projet sur Google Cloud Console.**\n",
    "\n",
    "Etape 1 : Créer un projet sur Google Cloud Console\n",
    "-Aller sur [la Google Cloud Console](https://console.cloud.google.com).\n",
    "-Créer un nouveau projet en cliquant sur \"Select a project\" puis \"New Project\".\n",
    "-Donner un nom à votre projet et cliquer sur \"Create\".\n",
    "\n",
    "Etape 2 : Activer l'API YouTube Data\n",
    "-Aller dans le \"API & Services\" > \"Library\" dans la Google Cloud Console.\n",
    "-Chercher YouTube Data API v3 et cliquez dessus.\n",
    "-Cliquer sur \"Enable\" pour activer l'API.\n",
    "\n",
    "Etape 3 : Créer des identifiants pour l'API\n",
    "- Aller dans \"API & Services\" > \"Credentials\".\n",
    "- Cliquer sur \"Create Credentials\" et choisir \"API key\".\n",
    "- L'API key générée apparaîtra. Copier cette clé, vous en aurez besoin pour effectuer des requêtes."
   ]
  },
  {
   "cell_type": "markdown",
   "metadata": {},
   "source": [
    "**On cherche à obtenir les sous-titres, titres et descriptions des vidéos youtube sur des livres publiés en 2023**"
   ]
  },
  {
   "cell_type": "code",
   "execution_count": null,
   "metadata": {},
   "outputs": [],
   "source": [
    "import requests\n",
    "\n",
    "# Remplacer key par sa propre clé API (voir ## 0 Creation d'un projet sur Google Cloud Console)\n",
    "\n",
    "# Fonction python pour rechercher des vidéos sur YouTube concernant des livres publiés en 2023\n",
    "def get_videos(query, key):\n",
    "    url = f'https://www.googleapis.com/youtube/v3/search?part=snippet&q={query}&type=video&key={key}'\n",
    "    # part=snippet : récupération des informations de base sur la vidéo (titre, description, etc.)  \n",
    "    # q=nouveauté+livre+2023 : recherche avec des mots-clés  \n",
    "    # type=video : récupération uniquement de vidéos (pas de playlists ou de chaînes)  \n",
    "    # key= Renseignement de la clé API  \n",
    "    response = requests.get(url) # Requête recherchant des vidéos sur YouTube concernant des livres publiés en 2023\n",
    "    return response.json()\n",
    "\n",
    "# La réponse de l'API contient des informations sur les vidéos comme :  \n",
    "# videoId : L'ID de la vidéo qui peut être utilisé pour récupérer les sous-titres et d'autres informations  \n",
    "# title : Le titre de la vidéo  \n",
    "# description : La description de la vidéo  \n",
    "\n",
    "# Fonction python pour lister les sous-titres\n",
    "def get_captions(video_id, key):\n",
    "    url = f'https://www.googleapis.com/youtube/v3/captions?videoId={video_id}&key={key}'\n",
    "    response = requests.get(url) # Requête listant les sous-titres\n",
    "    return response.json()\n",
    "\n",
    "# Si des sous-titres existent pour une vidéo,on peut ensuite récupérer le contenu en utilisant l'ID du sous-titre.\n",
    "\n",
    "# Fonction python pour récupérer le texte des sous-titres\n",
    "def get_captionstext(caption_id, key):\n",
    "    url = f'https://www.googleapis.com/youtube/v3/captions/{caption_id}?key={key}'\n",
    "    response = requests.get(url) # Requête listant les textes des sous-titres\n",
    "    return response.json()\n",
    "\n",
    "# La requête n'est pas utilisable, on obtient un message d'erreur:\n",
    "# 'code': 401, 'message': 'API keys are not supported by this API. Expected OAuth2 access token or other authentication credentials that assert a principal.\n",
    "# Il nous manque une autorisation\n",
    "\n",
    "# Recherche des vidéos sur YouTube concernant des livres publiés en 2023\n",
    "query = \"nouveauté livre 2023\"\n",
    "videos = get_videos(query, key)\n",
    "\n",
    "for video in videos['items']: # Pour chaque vidéo obtenue grâce à la requête,\n",
    "    video_id = video['id']['videoId'] # on récupère l'identifiant de la vidéo\n",
    "    title = video['snippet']['title'] # on récupère le titre de la vidéo\n",
    "    description = video['snippet']['description'] # on récupère la description de la vidéo\n",
    "    print(f\"Titre: {title}\\nDescription: {description}\\n\") # on renvoie le titre et la description\n",
    "\n",
    "    # Récupérer les sous-titres si disponibles\n",
    "    # captions = get_captions(video_id, key)\n",
    "    # if 'items' in captions: # S'il y a des sous-titres à la vidéo,\n",
    "        # for caption in captions['items']:\n",
    "            # caption_id = caption['id'] # on récupère l'identifiant des sous-titres\n",
    "            # captiontext = get_captionstext(caption_id, key)\n",
    "            # print(f\"Sous-titres disponibles: {captiontext}\\n\") # on renvoie l'identifiant\n",
    "    # else: # Sinon\n",
    "        # print(\"Pas de sous-titres disponibles.\") # on renvoie le message : \"Pas de sous-titres disponibles\"\n"
   ]
  },
  {
   "cell_type": "markdown",
   "metadata": {},
   "source": [
    "**La requête get_captionstext(caption_id, key) n'est pas utilisable**, on obtient un message d'erreur:  \n",
    " 'code': 401, 'message': 'API keys are not supported by this API. Expected OAuth2 access token or other authentication credentials that assert a principal.  \n",
    "Il nous manque une autorisation, on va donc essayer de les obtenir à l'aide d'une autre méthode **(voir Sous_titres_youtube.ipynb)**"
   ]
  },
  {
   "cell_type": "markdown",
   "metadata": {},
   "source": [
    "**Essayons d'obtenir plus que 5 résultats de livres**\n",
    "\n",
    "*On cherche aussi à récupérer les dates de publications à titre informatif*"
   ]
  },
  {
   "cell_type": "code",
   "execution_count": null,
   "metadata": {},
   "outputs": [
    {
     "name": "stdout",
     "output_type": "stream",
     "text": [
      "Le fichier CSV a été créé avec succès !\n"
     ]
    }
   ],
   "source": [
    "import pandas as pd\n",
    "import requests\n",
    "\n",
    "# Remplacez key par sa propre clé API (voir ## 0 Creation d'un projet sur Google Cloud Console)\n",
    "\n",
    "# Fonction pour récupérer les vidéos\n",
    "def get_videos(query, max_results=50, key):\n",
    "    url = f'https://www.googleapis.com/youtube/v3/search?part=snippet&q={query}&type=video&maxResults={max_results}&key={key}'\n",
    "    response = requests.get(url)  # Requête pour rechercher des vidéos\n",
    "    data = response.json()\n",
    "\n",
    "    videos = []\n",
    "    for video in data['items']:\n",
    "        video_info = {\n",
    "            'video_id': video['id']['videoId'],\n",
    "            'title': video['snippet']['title'],\n",
    "            'description': video['snippet']['description'],\n",
    "            'published_at': video['snippet']['publishedAt'],\n",
    "            'channel_title': video['snippet']['channelTitle']\n",
    "        }\n",
    "        videos.append(video_info)\n",
    "\n",
    "    # Récupérer les pages suivantes si nécessaire\n",
    "    next_page_token = data.get('nextPageToken')\n",
    "    while next_page_token:\n",
    "        url = f'https://www.googleapis.com/youtube/v3/search?part=snippet&q={query}&type=video&maxResults={max_results}&pageToken={next_page_token}&key={key}'\n",
    "        response = requests.get(url)\n",
    "        data = response.json()\n",
    "        for video in data['items']:\n",
    "            video_info = {\n",
    "                'video_id': video['id']['videoId'],\n",
    "                'title': video['snippet']['title'],\n",
    "                'description': video['snippet']['description'],\n",
    "                'published_at': video['snippet']['publishedAt'],\n",
    "                'channel_title': video['snippet']['channelTitle']\n",
    "            }\n",
    "            videos.append(video_info)\n",
    "        next_page_token = data.get('nextPageToken')\n",
    "\n",
    "    return videos\n",
    "\n",
    "# Appel de la fonction pour récupérer les vidéos\n",
    "query = \"nouveauté livre 2023\"\n",
    "videos = get_videos(query, max_results=50, key)\n",
    "\n",
    "# Convertir les données en DataFrame\n",
    "df = pd.DataFrame(videos)\n",
    "\n",
    "# Sauvegarder le DataFrame sous forme de fichier CSV\n",
    "df.to_csv('youtube_nouveauté_livre_2023.csv', index=False)\n",
    "\n",
    "print(\"Le fichier CSV a été créé avec succès !\")"
   ]
  },
  {
   "cell_type": "markdown",
   "metadata": {},
   "source": [
    "**On cherche à obtenir les dates de publication, titres et descriptions des vidéos youtube publiées entre 2019 et 2023 sur des livres**"
   ]
  },
  {
   "cell_type": "code",
   "execution_count": null,
   "metadata": {},
   "outputs": [
    {
     "name": "stdout",
     "output_type": "stream",
     "text": [
      "Le fichier CSV a été créé avec succès !\n"
     ]
    }
   ],
   "source": [
    "import pandas as pd\n",
    "import requests\n",
    "\n",
    "# Remplacez key par sa propre clé API\n",
    "\n",
    "# Fonction pour récupérer les vidéos avec des dates spécifiques\n",
    "def get_videos(query, start_date=\"2019-01-01T00:00:00Z\", end_date=\"2023-12-31T23:59:59Z\", max_results=50,key):\n",
    "    url = f'https://www.googleapis.com/youtube/v3/search?part=snippet&q={query}&type=video&maxResults={max_results}&publishedAfter={start_date}&publishedBefore={end_date}&key={key}'\n",
    "    response = requests.get(url)  # Requête pour rechercher des vidéos\n",
    "    data = response.json()\n",
    "\n",
    "    videos = []\n",
    "    for video in data['items']:\n",
    "        video_info = {\n",
    "            'video_id': video['id']['videoId'],\n",
    "            'title': video['snippet']['title'],\n",
    "            'description': video['snippet']['description'],\n",
    "            'published_at': video['snippet']['publishedAt'],\n",
    "            'channel_title': video['snippet']['channelTitle']\n",
    "        }\t\n",
    "        videos.append(video_info)\n",
    "\n",
    "    # Récupérer les pages suivantes si nécessaire\n",
    "    next_page_token = data.get('nextPageToken')\n",
    "    while next_page_token:\n",
    "        url = f'https://www.googleapis.com/youtube/v3/search?part=snippet&q={query}&type=video&maxResults={max_results}&pageToken={next_page_token}&publishedAfter={start_date}&publishedBefore={end_date}&key={key}'\n",
    "        response = requests.get(url)\n",
    "        data = response.json()\n",
    "        for video in data['items']:\n",
    "            video_info = {\n",
    "                'video_id': video['id']['videoId'],\n",
    "                'title': video['snippet']['title'],\n",
    "                'description': video['snippet']['description'],\n",
    "                'published_at': video['snippet']['publishedAt'],\n",
    "                'channel_title': video['snippet']['channelTitle']\n",
    "            }\n",
    "            videos.append(video_info)\n",
    "        next_page_token = data.get('nextPageToken')\n",
    "\n",
    "    return videos\n",
    "\n",
    "# Appel de la fonction pour récupérer les vidéos entre 2019 et 2023\n",
    "query = \"livre\"\n",
    "videos = get_videos(query, start_date=\"2019-01-01T00:00:00Z\", end_date=\"2023-12-31T23:59:59Z\", max_results=50, key)\n",
    "\n",
    "# Convertir les données en DataFrame\n",
    "df = pd.DataFrame(videos)\n",
    "\n",
    "# Sauvegarder le DataFrame sous forme de fichier CSV\n",
    "df.to_csv('youtube_livre_2019_2023.csv', index=False)\n",
    "\n",
    "print(\"Le fichier CSV a été créé avec succès !\")"
   ]
  }
 ],
 "metadata": {
  "kernelspec": {
   "display_name": "base",
   "language": "python",
   "name": "python3"
  },
  "language_info": {
   "codemirror_mode": {
    "name": "ipython",
    "version": 3
   },
   "file_extension": ".py",
   "mimetype": "text/x-python",
   "name": "python",
   "nbconvert_exporter": "python",
   "pygments_lexer": "ipython3",
   "version": "3.12.7"
  }
 },
 "nbformat": 4,
 "nbformat_minor": 2
}
