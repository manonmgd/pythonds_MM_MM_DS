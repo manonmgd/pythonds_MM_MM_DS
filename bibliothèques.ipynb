{
 "cells": [
  {
   "cell_type": "code",
   "execution_count": 6,
   "metadata": {},
   "outputs": [
    {
     "name": "stdout",
     "output_type": "stream",
     "text": [
      "Type de contenu : application/json; charset=utf-8\n"
     ]
    }
   ],
   "source": [
    "import requests\n",
    "\n",
    "response = requests.get(\"https://opendata.paris.fr/api/explore/v2.1/catalog/datasets/les-1000-titres-les-plus-reserves-dans-les-bibliotheques-de-pret/records?limit=100\")\n",
    "\n",
    "# Afficher le type de contenu et le texte brut de la réponse\n",
    "print(\"Type de contenu :\", response.headers.get(\"Content-Type\"))"
   ]
  },
  {
   "cell_type": "markdown",
   "metadata": {},
   "source": [
    "On met comme limite 100 pcq si on ne le fait pas, il y a un message d'erreur qui dit que la limite doit être entre -1 et 100"
   ]
  },
  {
   "cell_type": "code",
   "execution_count": 7,
   "metadata": {},
   "outputs": [
    {
     "name": "stdout",
     "output_type": "stream",
     "text": [
      "Structure du JSON :\n",
      "{'total_count': 1000, 'results': [{'rang': 12, 'type_de_document': 'Livre adulte', 'reservations': 522.0, 'titre': \"Réinventer l'amour : comment le patriarcat sabote les relations hétérosexuelles\", 'auteur': 'Chollet,  Mona'}, {'rang': 13, 'type_de_document': 'Bande dessinée adulte', 'reservations': 521.0, 'titre': 'Le jeune acteur', 'auteur': 'Sattouf,  Riad'}, {'rang': 14, 'type_de_document': 'Bande dessinée adulte', 'reservations': 510.0, 'titre': 'Une jeunesse au Moyen-Orient, 1992-1994', 'auteur': 'Sattouf,  Riad'}, {'rang': 37, 'type_de_document': 'DVD tous publics', 'reservations': 337.0, 'titre': 'Dune', 'auteur': None}, {'rang': 58, 'type_de_document': 'DVD tous publics', 'reservations': 266.0, 'titre': 'Onoda. 10 000 nuits dans la jungle', 'auteur': None}, {'rang': 73, 'type_de_document': 'Nouveauté', 'reservations': 241.0, 'titre': 'Chien 51 : roman', 'auteur': 'Gaudé,  Laurent'}, {'rang': 87, 'type_de_document': 'Livre adulte', 'reservations': 225.0, 'titre': 'Le gosse : roman', 'auteur': 'Olmi,  Véronique'}, {'rang': 109, 'type_de_document': 'Bande dessinée jeunesse', 'reservations': 196.0, 'titre': 'Attaque au clair de lune', 'auteur': 'Oda,  Eiichiro'}, {'rang': 125, 'type_de_document': 'DVD nouveautés tous publics', 'reservations': 177.0, 'titre': 'West Side Story', 'auteur': None}, {'rang': 136, 'type_de_document': None, 'reservations': 170.0, 'titre': 'Etés anglais', 'auteur': 'Howard,  Elizabeth Jane'}, {'rang': 139, 'type_de_document': 'Bande dessinée adulte', 'reservations': 168.0, 'titre': 'Zaï zaï zaï zaï', 'auteur': 'Fabcaro'}, {'rang': 145, 'type_de_document': 'Bande dessinée adulte', 'reservations': 164.0, 'titre': 'Les piliers de la civilisation', 'auteur': 'Harari,  Yuval Noah'}, {'rang': 159, 'type_de_document': 'Livre adulte', 'reservations': 158.0, 'titre': 'Noa', 'auteur': 'Lévy,  Marc'}, {'rang': 187, 'type_de_document': 'Livre adulte', 'reservations': 144.0, 'titre': 'Les armoires vides', 'auteur': 'Ernaux,  Annie'}, {'rang': 202, 'type_de_document': 'Bande dessinée jeunesse', 'reservations': 134.0, 'titre': 'Au pays des contes défaits', 'auteur': 'Mr Tan'}, {'rang': 271, 'type_de_document': 'Livre adulte', 'reservations': 115.0, 'titre': \"Sapiens : une brève histoire de l'humanité\", 'auteur': 'Harari,  Yuval Noah'}, {'rang': 360, 'type_de_document': None, 'reservations': 100.0, 'titre': 'Et à la fin, ils meurent : la sale vérité sur les contes de fées', 'auteur': 'Lubie,  Lou'}, {'rang': 367, 'type_de_document': 'DVD tous publics', 'reservations': 99.0, 'titre': 'Madeleine Collins', 'auteur': None}, {'rang': 385, 'type_de_document': 'Bande dessinée jeunesse', 'reservations': 96.0, 'titre': \"L'escalade\", 'auteur': 'Dugomier'}, {'rang': 394, 'type_de_document': 'Nouveauté jeunesse', 'reservations': 95.0, 'titre': \"My hero academia. 8. Momo Yaoyorozu : l'envol\", 'auteur': 'Horikoshi,  Kohei'}, {'rang': 399, 'type_de_document': 'Nouveauté', 'reservations': 95.0, 'titre': 'Le poids des héros', 'auteur': 'Sala,  David'}, {'rang': 414, 'type_de_document': 'Bande dessinée adulte', 'reservations': 92.0, 'titre': \"Moi, ce que j'aime, c'est les monstres\", 'auteur': 'Ferris,  Emil'}, {'rang': 425, 'type_de_document': 'Nouveauté jeunesse', 'reservations': 91.0, 'titre': 'My hero academia. 5. Shoto Todoroki : les origines', 'auteur': 'Horikoshi,  Kohei'}, {'rang': 429, 'type_de_document': 'Livre adulte', 'reservations': 91.0, 'titre': 'Le laboureur et les mangeurs de vent : liberté intérieure et confortable servitude', 'auteur': 'Cyrulnik,  Boris'}, {'rang': 430, 'type_de_document': 'Livre adulte', 'reservations': 91.0, 'titre': 'La chambre du fils', 'auteur': 'Horst,  Jørn Lier'}, {'rang': 449, 'type_de_document': 'DVD tous publics', 'reservations': 89.0, 'titre': 'Belfast', 'auteur': None}, {'rang': 451, 'type_de_document': 'DVD nouveautés tous publics', 'reservations': 89.0, 'titre': 'Top Gun : Maverick', 'auteur': None}, {'rang': 470, 'type_de_document': 'DVD tous publics', 'reservations': 87.0, 'titre': 'Mandibules', 'auteur': None}, {'rang': 473, 'type_de_document': 'Bande dessinée jeunesse', 'reservations': 87.0, 'titre': 'Game over', 'auteur': 'Dequier,  Bruno'}, {'rang': 501, 'type_de_document': None, 'reservations': 84.0, 'titre': 'The promised neverland. 8', 'auteur': 'Shirai,  Kaiu'}, {'rang': 525, 'type_de_document': 'Bande dessinée jeunesse', 'reservations': 82.0, 'titre': 'Bergères guerrières. 3', 'auteur': 'Garnier,  Jonathan'}, {'rang': 539, 'type_de_document': 'Livre adulte', 'reservations': 81.0, 'titre': 'La chronique des Bridgerton. 5 & 6', 'auteur': 'Quinn,  Julia'}, {'rang': 559, 'type_de_document': 'Bande dessinée jeunesse', 'reservations': 80.0, 'titre': 'Oohiohioo !', 'auteur': 'Didier,  Anne'}, {'rang': 654, 'type_de_document': 'Livre adulte', 'reservations': 72.0, 'titre': 'Les possibles', 'auteur': 'Grimaldi,  Virginie'}, {'rang': 672, 'type_de_document': 'Nouveauté', 'reservations': 71.0, 'titre': \"Bonnet d'âne !\", 'auteur': 'Beaton,  M.C.'}, {'rang': 684, 'type_de_document': 'DVD nouveautés tous publics', 'reservations': 70.0, 'titre': 'Sound of Metal', 'auteur': None}, {'rang': 691, 'type_de_document': 'Livre adulte', 'reservations': 70.0, 'titre': 'Un miracle : roman', 'auteur': 'Mas,  Victoria'}, {'rang': 705, 'type_de_document': 'Bande dessinée jeunesse', 'reservations': 69.0, 'titre': \"Sous un ciel d'azur\", 'auteur': 'Horikoshi,  K?hei'}, {'rang': 715, 'type_de_document': 'Bande dessinée jeunesse', 'reservations': 69.0, 'titre': 'One Piece. 67. Cool fight', 'auteur': 'Oda,  Eiichiro'}, {'rang': 718, 'type_de_document': None, 'reservations': 69.0, 'titre': 'Si seulement...', 'auteur': 'Dequier,  Bruno'}, {'rang': 720, 'type_de_document': 'Nouveauté jeunesse', 'reservations': 68.0, 'titre': 'My hero academia. 15. Lutte contre le destin', 'auteur': 'Horikoshi,  K?hei'}, {'rang': 737, 'type_de_document': 'Livre adulte', 'reservations': 67.0, 'titre': 'Les quatre accords toltèques : la voie de la liberté personnelle', 'auteur': 'Ruiz,  Miguel'}, {'rang': 756, 'type_de_document': 'Bande dessinée ado', 'reservations': 67.0, 'titre': 'One Piece. 64', 'auteur': 'Oda,  Eiichiro'}, {'rang': 766, 'type_de_document': 'Livre adulte', 'reservations': 66.0, 'titre': 'Le rocher blanc', 'auteur': 'Hope,  Anna'}, {'rang': 794, 'type_de_document': 'Bande dessinée jeunesse', 'reservations': 65.0, 'titre': 'One Piece. 68. Alliance entre pirates', 'auteur': 'Oda,  Eiichiro'}, {'rang': 840, 'type_de_document': None, 'reservations': 62.0, 'titre': 'Le consentement', 'auteur': 'Springora,  Vanessa'}, {'rang': 860, 'type_de_document': None, 'reservations': 61.0, 'titre': 'La maison', 'auteur': 'Becker,  Emma'}, {'rang': 888, 'type_de_document': 'Bande dessinée jeunesse', 'reservations': 60.0, 'titre': 'Trop la classe !', 'auteur': 'Didier,  Anne'}, {'rang': 891, 'type_de_document': 'Bande dessinée jeunesse', 'reservations': 60.0, 'titre': \"L'atelier des sorciers. 3\", 'auteur': 'Shirahama,  Kamome'}, {'rang': 910, 'type_de_document': 'Nouveauté', 'reservations': 60.0, 'titre': \"Journal inquiet d'Istanbul. 1\", 'auteur': 'Karabulut,  Ersin'}, {'rang': 936, 'type_de_document': 'DVD tous publics', 'reservations': 59.0, 'titre': 'Peaky Blinders. Saison 6', 'auteur': None}, {'rang': 945, 'type_de_document': 'Nouveauté', 'reservations': 58.0, 'titre': 'Croire aux fauves', 'auteur': 'Martin,  Nastassja'}, {'rang': 949, 'type_de_document': 'Nouveauté', 'reservations': 58.0, 'titre': 'Solo leveling. 3', 'auteur': 'Chugong'}, {'rang': 970, 'type_de_document': 'DVD tous publics', 'reservations': 57.0, 'titre': 'The Souvenir : Part I & Part II', 'auteur': None}, {'rang': 983, 'type_de_document': 'Bande dessinée jeunesse', 'reservations': 56.0, 'titre': 'Chaperlipopette !', 'auteur': 'Mr Tan'}, {'rang': 992, 'type_de_document': 'Livre adulte', 'reservations': 56.0, 'titre': 'Tout comprendre (ou presque) sur le climat', 'auteur': 'BonPote'}, {'rang': 5, 'type_de_document': 'Livre adulte', 'reservations': 755.0, 'titre': 'La décision : roman', 'auteur': 'Tuil,  Karine'}, {'rang': 25, 'type_de_document': 'Livre adulte', 'reservations': 398.0, 'titre': 'Dans les brumes de Capelans', 'auteur': 'Norek,  Olivier'}, {'rang': 28, 'type_de_document': 'Livre adulte', 'reservations': 367.0, 'titre': \"Ton absence n'est que ténèbres : roman\", 'auteur': 'Jón Kalman Stefánsson'}, {'rang': 33, 'type_de_document': 'Livre adulte', 'reservations': 345.0, 'titre': 'Vivre avec nos morts : petit traité de consolation', 'auteur': 'Horvilleur,  Delphine'}, {'rang': 61, 'type_de_document': None, 'reservations': 261.0, 'titre': 'Faites votre glucose révolution : la formule scientifique efficace pour perdre du poids et retrouver votre énergie', 'auteur': 'Inchauspé,  Jessie'}, {'rang': 72, 'type_de_document': 'Livre adulte', 'reservations': 246.0, 'titre': 'Le pays des autres : roman', 'auteur': 'Slimani,  Leïla'}, {'rang': 75, 'type_de_document': 'Livre adulte', 'reservations': 239.0, 'titre': 'La France sous nos yeux : économie, paysages, nouveaux modes de vie', 'auteur': 'Fourquet,  Jérôme'}, {'rang': 102, 'type_de_document': 'Livre adulte', 'reservations': 200.0, 'titre': \"Les grandes oubliées : pourquoi l'histoire a effacé les femmes\", 'auteur': 'Lecoq,  Titiou'}, {'rang': 141, 'type_de_document': 'DVD nouveautés tous publics', 'reservations': 167.0, 'titre': 'Madres paralelas', 'auteur': None}, {'rang': 162, 'type_de_document': 'Bande dessinée ado', 'reservations': 156.0, 'titre': 'Naruto. 1', 'auteur': 'Kishimoto,  Masashi'}, {'rang': 217, 'type_de_document': 'Nouveauté', 'reservations': 132.0, 'titre': 'Les masques éphémères', 'auteur': 'Leon,  Donna'}, {'rang': 221, 'type_de_document': 'Livre adulte', 'reservations': 130.0, 'titre': 'Tant que le café est encore chaud : roman', 'auteur': 'Kawaguchi,  Toshikazu'}, {'rang': 229, 'type_de_document': 'DVD tous publics', 'reservations': 128.0, 'titre': 'Les  promesses', 'auteur': None}, {'rang': 233, 'type_de_document': 'Nouveauté', 'reservations': 127.0, 'titre': 'Des vivants', 'auteur': 'Meltz,  Raphaël'}, {'rang': 262, 'type_de_document': 'Bande dessinée jeunesse', 'reservations': 118.0, 'titre': 'My hero academia. 4. Celui qui avait tout', 'auteur': 'Horikoshi,  Kohei'}, {'rang': 275, 'type_de_document': 'Nouveauté', 'reservations': 114.0, 'titre': 'Madame Hayat', 'auteur': 'Altan,  Ahmet'}, {'rang': 296, 'type_de_document': 'Bande dessinée ado', 'reservations': 109.0, 'titre': 'Naruto. 13', 'auteur': 'Kishimoto,  Masashi'}, {'rang': 329, 'type_de_document': 'Bande dessinée jeunesse', 'reservations': 104.0, 'titre': 'Tiens bon !!', 'auteur': 'Oda,  Eiichiro'}, {'rang': 333, 'type_de_document': None, 'reservations': 103.0, 'titre': \"Les méduses n'ont pas d'oreilles : roman\", 'auteur': 'Rosenfeld,  Adèle'}, {'rang': 352, 'type_de_document': 'Bande dessinée ado', 'reservations': 101.0, 'titre': 'Naruto. 12', 'auteur': 'Kishimoto,  Masashi'}, {'rang': 366, 'type_de_document': 'Bande dessinée adulte', 'reservations': 99.0, 'titre': 'Choses sérieuses', 'auteur': 'Oseman,  Alice'}, {'rang': 370, 'type_de_document': 'Bande dessinée jeunesse', 'reservations': 98.0, 'titre': 'Demon slayer : Kimetsu no yaiba. 12', 'auteur': 'Gotouge,  Koyoharu'}, {'rang': 407, 'type_de_document': 'Bande dessinée jeunesse', 'reservations': 94.0, 'titre': 'Coeur du passé', 'auteur': 'Sobral,  Patrick'}, {'rang': 416, 'type_de_document': 'Livre adulte', 'reservations': 92.0, 'titre': 'Chavirer : roman', 'auteur': 'Lafon,  Lola'}, {'rang': 446, 'type_de_document': 'DVD nouveautés tous publics', 'reservations': 89.0, 'titre': 'Eugénie Grandet', 'auteur': None}, {'rang': 503, 'type_de_document': 'Bande dessinée adulte', 'reservations': 84.0, 'titre': 'The promised Neverland. 14', 'auteur': 'Shirai,  Kaiu'}, {'rang': 564, 'type_de_document': 'Livre ado', 'reservations': 79.0, 'titre': 'Le roi maléfique', 'auteur': 'Black,  Holly'}, {'rang': 572, 'type_de_document': None, 'reservations': 79.0, 'titre': \"La fin d'une ère\", 'auteur': 'Howard,  Elizabeth Jane'}, {'rang': 626, 'type_de_document': 'Livre jeunesse', 'reservations': 74.0, 'titre': 'Harry Potter et la chambre des secrets', 'auteur': 'Rowling,  Joanne Kathleen'}, {'rang': 630, 'type_de_document': None, 'reservations': 74.0, 'titre': 'Les dieux sont amour', 'auteur': 'Sobral,  Patrick'}, {'rang': 637, 'type_de_document': None, 'reservations': 73.0, 'titre': 'The promised Neverland. 13', 'auteur': 'Shirai,  Kaiu'}, {'rang': 647, 'type_de_document': None, 'reservations': 73.0, 'titre': 'Vernon Subutex. 1', 'auteur': 'Despentes,  Virginie'}, {'rang': 677, 'type_de_document': 'Bande dessinée jeunesse', 'reservations': 71.0, 'titre': 'One Piece. 55. Des travs en enfer', 'auteur': 'Oda,  Eiichiro'}, {'rang': 682, 'type_de_document': None, 'reservations': 70.0, 'titre': \"C'est comme ça que je disparais\", 'auteur': 'Malle,  Mirion'}, {'rang': 690, 'type_de_document': 'DVD nouveautés tous publics', 'reservations': 70.0, 'titre': 'Twist à Bamako', 'auteur': None}, {'rang': 719, 'type_de_document': 'Livre adulte', 'reservations': 68.0, 'titre': 'Kilomètre zéro : le chemin du bonheur', 'auteur': 'Ankaoua,  Maud'}, {'rang': 726, 'type_de_document': 'Nouveauté', 'reservations': 68.0, 'titre': 'Solo leveling. 5', 'auteur': 'Chugong'}, {'rang': 732, 'type_de_document': 'Bande dessinée ado', 'reservations': 68.0, 'titre': 'Naruto. 30', 'auteur': 'Kishimoto,  Masashi'}, {'rang': 757, 'type_de_document': 'Bande dessinée jeunesse', 'reservations': 67.0, 'titre': \"L'opération Dressrosa S.O.P.\", 'auteur': 'Oda,  Eiichiro'}, {'rang': 759, 'type_de_document': 'Bande dessinée adulte', 'reservations': 66.0, 'titre': 'The promised neverland. 1', 'auteur': 'Shirai,  Kaiu'}, {'rang': 762, 'type_de_document': 'Nouveauté', 'reservations': 66.0, 'titre': 'La vérité sur la lumière', 'auteur': 'Auður Ava Ólafsdóttir'}, {'rang': 769, 'type_de_document': 'Bande dessinée ado', 'reservations': 66.0, 'titre': 'Naruto. 21', 'auteur': 'Kishimoto,  Masashi'}, {'rang': 799, 'type_de_document': 'Livre adulte', 'reservations': 64.0, 'titre': 'Pouilles', 'auteur': None}, {'rang': 801, 'type_de_document': 'Bande dessinée jeunesse', 'reservations': 64.0, 'titre': 'Blue lock. 1', 'auteur': 'Kaneshiro,  Muneyuki'}]}\n"
     ]
    }
   ],
   "source": [
    "wb = response.json()  # Utilisation de .json() sur l'objet réponse\n",
    "print(\"Structure du JSON :\")\n",
    "print(wb)"
   ]
  },
  {
   "cell_type": "markdown",
   "metadata": {},
   "source": [
    "Question: pourquoi est-ce qu'il y a pas tous les rangs ???"
   ]
  },
  {
   "cell_type": "code",
   "execution_count": 8,
   "metadata": {},
   "outputs": [
    {
     "data": {
      "text/html": [
       "<div>\n",
       "<style scoped>\n",
       "    .dataframe tbody tr th:only-of-type {\n",
       "        vertical-align: middle;\n",
       "    }\n",
       "\n",
       "    .dataframe tbody tr th {\n",
       "        vertical-align: top;\n",
       "    }\n",
       "\n",
       "    .dataframe thead th {\n",
       "        text-align: right;\n",
       "    }\n",
       "</style>\n",
       "<table border=\"1\" class=\"dataframe\">\n",
       "  <thead>\n",
       "    <tr style=\"text-align: right;\">\n",
       "      <th></th>\n",
       "      <th>rang</th>\n",
       "      <th>type_de_document</th>\n",
       "      <th>reservations</th>\n",
       "      <th>titre</th>\n",
       "      <th>auteur</th>\n",
       "    </tr>\n",
       "  </thead>\n",
       "  <tbody>\n",
       "    <tr>\n",
       "      <th>0</th>\n",
       "      <td>12</td>\n",
       "      <td>Livre adulte</td>\n",
       "      <td>522.0</td>\n",
       "      <td>Réinventer l'amour : comment le patriarcat sab...</td>\n",
       "      <td>Chollet,  Mona</td>\n",
       "    </tr>\n",
       "    <tr>\n",
       "      <th>1</th>\n",
       "      <td>13</td>\n",
       "      <td>Bande dessinée adulte</td>\n",
       "      <td>521.0</td>\n",
       "      <td>Le jeune acteur</td>\n",
       "      <td>Sattouf,  Riad</td>\n",
       "    </tr>\n",
       "    <tr>\n",
       "      <th>2</th>\n",
       "      <td>14</td>\n",
       "      <td>Bande dessinée adulte</td>\n",
       "      <td>510.0</td>\n",
       "      <td>Une jeunesse au Moyen-Orient, 1992-1994</td>\n",
       "      <td>Sattouf,  Riad</td>\n",
       "    </tr>\n",
       "    <tr>\n",
       "      <th>3</th>\n",
       "      <td>37</td>\n",
       "      <td>DVD tous publics</td>\n",
       "      <td>337.0</td>\n",
       "      <td>Dune</td>\n",
       "      <td>None</td>\n",
       "    </tr>\n",
       "    <tr>\n",
       "      <th>4</th>\n",
       "      <td>58</td>\n",
       "      <td>DVD tous publics</td>\n",
       "      <td>266.0</td>\n",
       "      <td>Onoda. 10 000 nuits dans la jungle</td>\n",
       "      <td>None</td>\n",
       "    </tr>\n",
       "    <tr>\n",
       "      <th>5</th>\n",
       "      <td>73</td>\n",
       "      <td>Nouveauté</td>\n",
       "      <td>241.0</td>\n",
       "      <td>Chien 51 : roman</td>\n",
       "      <td>Gaudé,  Laurent</td>\n",
       "    </tr>\n",
       "    <tr>\n",
       "      <th>6</th>\n",
       "      <td>87</td>\n",
       "      <td>Livre adulte</td>\n",
       "      <td>225.0</td>\n",
       "      <td>Le gosse : roman</td>\n",
       "      <td>Olmi,  Véronique</td>\n",
       "    </tr>\n",
       "    <tr>\n",
       "      <th>7</th>\n",
       "      <td>109</td>\n",
       "      <td>Bande dessinée jeunesse</td>\n",
       "      <td>196.0</td>\n",
       "      <td>Attaque au clair de lune</td>\n",
       "      <td>Oda,  Eiichiro</td>\n",
       "    </tr>\n",
       "    <tr>\n",
       "      <th>8</th>\n",
       "      <td>125</td>\n",
       "      <td>DVD nouveautés tous publics</td>\n",
       "      <td>177.0</td>\n",
       "      <td>West Side Story</td>\n",
       "      <td>None</td>\n",
       "    </tr>\n",
       "    <tr>\n",
       "      <th>9</th>\n",
       "      <td>136</td>\n",
       "      <td>None</td>\n",
       "      <td>170.0</td>\n",
       "      <td>Etés anglais</td>\n",
       "      <td>Howard,  Elizabeth Jane</td>\n",
       "    </tr>\n",
       "    <tr>\n",
       "      <th>10</th>\n",
       "      <td>139</td>\n",
       "      <td>Bande dessinée adulte</td>\n",
       "      <td>168.0</td>\n",
       "      <td>Zaï zaï zaï zaï</td>\n",
       "      <td>Fabcaro</td>\n",
       "    </tr>\n",
       "    <tr>\n",
       "      <th>11</th>\n",
       "      <td>145</td>\n",
       "      <td>Bande dessinée adulte</td>\n",
       "      <td>164.0</td>\n",
       "      <td>Les piliers de la civilisation</td>\n",
       "      <td>Harari,  Yuval Noah</td>\n",
       "    </tr>\n",
       "  </tbody>\n",
       "</table>\n",
       "</div>"
      ],
      "text/plain": [
       "    rang             type_de_document  reservations  \\\n",
       "0     12                 Livre adulte         522.0   \n",
       "1     13        Bande dessinée adulte         521.0   \n",
       "2     14        Bande dessinée adulte         510.0   \n",
       "3     37             DVD tous publics         337.0   \n",
       "4     58             DVD tous publics         266.0   \n",
       "5     73                    Nouveauté         241.0   \n",
       "6     87                 Livre adulte         225.0   \n",
       "7    109      Bande dessinée jeunesse         196.0   \n",
       "8    125  DVD nouveautés tous publics         177.0   \n",
       "9    136                         None         170.0   \n",
       "10   139        Bande dessinée adulte         168.0   \n",
       "11   145        Bande dessinée adulte         164.0   \n",
       "\n",
       "                                                titre                   auteur  \n",
       "0   Réinventer l'amour : comment le patriarcat sab...           Chollet,  Mona  \n",
       "1                                     Le jeune acteur           Sattouf,  Riad  \n",
       "2             Une jeunesse au Moyen-Orient, 1992-1994           Sattouf,  Riad  \n",
       "3                                                Dune                     None  \n",
       "4                  Onoda. 10 000 nuits dans la jungle                     None  \n",
       "5                                    Chien 51 : roman          Gaudé,  Laurent  \n",
       "6                                    Le gosse : roman         Olmi,  Véronique  \n",
       "7                            Attaque au clair de lune           Oda,  Eiichiro  \n",
       "8                                     West Side Story                     None  \n",
       "9                                        Etés anglais  Howard,  Elizabeth Jane  \n",
       "10                                    Zaï zaï zaï zaï                  Fabcaro  \n",
       "11                     Les piliers de la civilisation      Harari,  Yuval Noah  "
      ]
     },
     "execution_count": 8,
     "metadata": {},
     "output_type": "execute_result"
    }
   ],
   "source": [
    "import pandas as pd\n",
    "df= pd.json_normalize(wb['results'])\n",
    "df.head(12)"
   ]
  },
  {
   "cell_type": "code",
   "execution_count": 9,
   "metadata": {},
   "outputs": [
    {
     "name": "stdout",
     "output_type": "stream",
     "text": [
      "['Livre adulte' 'Bande dessinée adulte' 'DVD tous publics' 'Nouveauté'\n",
      " 'Bande dessinée jeunesse' 'DVD nouveautés tous publics' None\n",
      " 'Nouveauté jeunesse' 'Bande dessinée ado' 'Livre ado' 'Livre jeunesse']\n"
     ]
    }
   ],
   "source": [
    "print(df[\"type_de_document\"].unique())"
   ]
  },
  {
   "cell_type": "code",
   "execution_count": 10,
   "metadata": {},
   "outputs": [],
   "source": [
    "doc = [\"Livre adulte\", \"Bande dessinée adulte\", \"Nouveauté\", \"Bande dessinée jeunesse\", \"Nouveauté jeunesse\",\n",
    " \"Bande dessinée ado\", \"Livre ado\", \"Livre jeunesse\"]\n",
    "df_filtered= df[df[\"type_de_document\"].isin(doc)]"
   ]
  },
  {
   "cell_type": "code",
   "execution_count": 11,
   "metadata": {},
   "outputs": [
    {
     "data": {
      "text/html": [
       "<div>\n",
       "<style scoped>\n",
       "    .dataframe tbody tr th:only-of-type {\n",
       "        vertical-align: middle;\n",
       "    }\n",
       "\n",
       "    .dataframe tbody tr th {\n",
       "        vertical-align: top;\n",
       "    }\n",
       "\n",
       "    .dataframe thead th {\n",
       "        text-align: right;\n",
       "    }\n",
       "</style>\n",
       "<table border=\"1\" class=\"dataframe\">\n",
       "  <thead>\n",
       "    <tr style=\"text-align: right;\">\n",
       "      <th></th>\n",
       "      <th>rang</th>\n",
       "      <th>type_de_document</th>\n",
       "      <th>reservations</th>\n",
       "      <th>titre</th>\n",
       "      <th>auteur</th>\n",
       "    </tr>\n",
       "  </thead>\n",
       "  <tbody>\n",
       "    <tr>\n",
       "      <th>0</th>\n",
       "      <td>12</td>\n",
       "      <td>Livre adulte</td>\n",
       "      <td>522.0</td>\n",
       "      <td>Réinventer l'amour : comment le patriarcat sab...</td>\n",
       "      <td>Chollet,  Mona</td>\n",
       "    </tr>\n",
       "    <tr>\n",
       "      <th>1</th>\n",
       "      <td>13</td>\n",
       "      <td>Bande dessinée adulte</td>\n",
       "      <td>521.0</td>\n",
       "      <td>Le jeune acteur</td>\n",
       "      <td>Sattouf,  Riad</td>\n",
       "    </tr>\n",
       "    <tr>\n",
       "      <th>2</th>\n",
       "      <td>14</td>\n",
       "      <td>Bande dessinée adulte</td>\n",
       "      <td>510.0</td>\n",
       "      <td>Une jeunesse au Moyen-Orient, 1992-1994</td>\n",
       "      <td>Sattouf,  Riad</td>\n",
       "    </tr>\n",
       "    <tr>\n",
       "      <th>5</th>\n",
       "      <td>73</td>\n",
       "      <td>Nouveauté</td>\n",
       "      <td>241.0</td>\n",
       "      <td>Chien 51 : roman</td>\n",
       "      <td>Gaudé,  Laurent</td>\n",
       "    </tr>\n",
       "    <tr>\n",
       "      <th>6</th>\n",
       "      <td>87</td>\n",
       "      <td>Livre adulte</td>\n",
       "      <td>225.0</td>\n",
       "      <td>Le gosse : roman</td>\n",
       "      <td>Olmi,  Véronique</td>\n",
       "    </tr>\n",
       "  </tbody>\n",
       "</table>\n",
       "</div>"
      ],
      "text/plain": [
       "   rang       type_de_document  reservations  \\\n",
       "0    12           Livre adulte         522.0   \n",
       "1    13  Bande dessinée adulte         521.0   \n",
       "2    14  Bande dessinée adulte         510.0   \n",
       "5    73              Nouveauté         241.0   \n",
       "6    87           Livre adulte         225.0   \n",
       "\n",
       "                                               titre            auteur  \n",
       "0  Réinventer l'amour : comment le patriarcat sab...    Chollet,  Mona  \n",
       "1                                    Le jeune acteur    Sattouf,  Riad  \n",
       "2            Une jeunesse au Moyen-Orient, 1992-1994    Sattouf,  Riad  \n",
       "5                                   Chien 51 : roman   Gaudé,  Laurent  \n",
       "6                                   Le gosse : roman  Olmi,  Véronique  "
      ]
     },
     "execution_count": 11,
     "metadata": {},
     "output_type": "execute_result"
    }
   ],
   "source": [
    "df_filtered.head(5)"
   ]
  },
  {
   "cell_type": "code",
   "execution_count": 12,
   "metadata": {},
   "outputs": [
    {
     "name": "stdout",
     "output_type": "stream",
     "text": [
      "    rang    type_de_document  reservations  \\\n",
      "5     73           Nouveauté         241.0   \n",
      "19   394  Nouveauté jeunesse          95.0   \n",
      "20   399           Nouveauté          95.0   \n",
      "22   425  Nouveauté jeunesse          91.0   \n",
      "34   672           Nouveauté          71.0   \n",
      "40   720  Nouveauté jeunesse          68.0   \n",
      "49   910           Nouveauté          60.0   \n",
      "51   945           Nouveauté          58.0   \n",
      "52   949           Nouveauté          58.0   \n",
      "66   217           Nouveauté         132.0   \n",
      "69   233           Nouveauté         127.0   \n",
      "71   275           Nouveauté         114.0   \n",
      "92   726           Nouveauté          68.0   \n",
      "96   762           Nouveauté          66.0   \n",
      "\n",
      "                                                titre                 auteur  \n",
      "5                                    Chien 51 : roman        Gaudé,  Laurent  \n",
      "19      My hero academia. 8. Momo Yaoyorozu : l'envol      Horikoshi,  Kohei  \n",
      "20                                 Le poids des héros           Sala,  David  \n",
      "22  My hero academia. 5. Shoto Todoroki : les orig...      Horikoshi,  Kohei  \n",
      "34                                     Bonnet d'âne !          Beaton,  M.C.  \n",
      "40       My hero academia. 15. Lutte contre le destin      Horikoshi,  K?hei  \n",
      "49                      Journal inquiet d'Istanbul. 1      Karabulut,  Ersin  \n",
      "51                                  Croire aux fauves     Martin,  Nastassja  \n",
      "52                                   Solo leveling. 3                Chugong  \n",
      "66                              Les masques éphémères           Leon,  Donna  \n",
      "69                                        Des vivants        Meltz,  Raphaël  \n",
      "71                                       Madame Hayat          Altan,  Ahmet  \n",
      "92                                   Solo leveling. 5                Chugong  \n",
      "96                           La vérité sur la lumière  Auður Ava Ólafsdóttir  \n"
     ]
    }
   ],
   "source": [
    "nouveau = [\"Nouveauté\", \"Nouveauté jeunesse\"]\n",
    "df_nouveau =  df[df[\"type_de_document\"].isin(nouveau)]\n",
    "print(df_nouveau)"
   ]
  },
  {
   "cell_type": "markdown",
   "metadata": {},
   "source": [
    "Le but maintenant va être de scrapper wikipedia pour compléter la base et les catégories \"nouveaux\" qui ne renseignent pas sur le type d'ouvrage"
   ]
  },
  {
   "cell_type": "code",
   "execution_count": 13,
   "metadata": {},
   "outputs": [],
   "source": [
    "import requests\n",
    "from bs4 import BeautifulSoup\n",
    "\n",
    "# Fonction pour rechercher un livre sur Babelio et accéder à la page du premier résultat\n",
    "def search_livraddict(book_title):\n",
    "    # URL de recherche sur Livraddict\n",
    "    headers = {\n",
    "    'User-Agent': 'Mozilla/5.0 (Windows NT 10.0; Win64; x64) AppleWebKit/537.36 (KHTML, like Gecko) Chrome/91.0.4472.124 Safari/537.36'}\n",
    "    search_url = f'https://www.livraddict.com/search.php?t={book_title}]'\n",
    "\n",
    "    # Faire une requête pour récupérer la page des résultats de recherche\n",
    "    response = requests.get(search_url, headers=headers).content\n",
    "    # Trouver le premier élément correspondant au lien d'un résultat\n",
    "    page = BeautifulSoup(response, \"html.parser\")\n",
    "    first_result = page.select_one('.listing_recherche li .item_photo a')\n",
    "    if first_result is not None:\n",
    "        url = first_result['href']\n",
    "        full_url = f\"https://www.livraddict.com{url}\"\n",
    "        return full_url\n",
    "    else:\n",
    "        return None"
   ]
  },
  {
   "cell_type": "code",
   "execution_count": 14,
   "metadata": {},
   "outputs": [],
   "source": [
    "def obtain_type(url):\n",
    "    if url is not None:\n",
    "        headers = {\n",
    "        'User-Agent': 'Mozilla/5.0 (Windows NT 10.0; Win64; x64) AppleWebKit/537.36 (KHTML, like Gecko) Chrome/91.0.4472.124 Safari/537.36'}\n",
    "        response = requests.get(url, headers=headers).content\n",
    "        page = BeautifulSoup(response, \"html.parser\")\n",
    "        c_format= page.find(\"div\", class_= \"book_classif book_format mr1\")\n",
    "        c_lectorat= page.find(\"div\", class_=\"book_classif book_lectorat mr1\")\n",
    "        if c_format:\n",
    "            a_format = c_format.find(\"a\")\n",
    "            format_livre = a_format.text\n",
    "        else:\n",
    "            format_livre = \"Non renseigné\"\n",
    "        if c_lectorat:\n",
    "            a_lectorat = c_lectorat.find(\"a\")\n",
    "            lectorat = a_lectorat.text\n",
    "        else: \n",
    "            lectorat = \"Non renseigné\"\n",
    "        info = [format_livre, lectorat]\n",
    "        return info\n",
    "    else:\n",
    "        return None"
   ]
  },
  {
   "cell_type": "code",
   "execution_count": 15,
   "metadata": {},
   "outputs": [],
   "source": [
    "def type_livre(info):\n",
    "    if info is None:\n",
    "        type_livre=\"Nom du livre pas trouvé sur Livraddict\"\n",
    "    else:\n",
    "        # Normaliser les chaînes (supprimer les espaces et convertir en minuscules)\n",
    "        info_0_normalized = info[0].strip().lower()\n",
    "        info_1_normalized = info[1].strip().lower()\n",
    "\n",
    "        if info_0_normalized in [\"album\", \"artbook/beau livre\", \"bande-dessinée\", \"comics\", \"manga\"] and info_1_normalized in [\"petite enfance\", \"enfance\"]:\n",
    "            type_livre = \"Bande dessinée jeunesse\"\n",
    "\n",
    "        elif info_0_normalized in [\"album\", \"artbook/beau livre\", \"bande-dessinée\", \"comics\", \"manga\"] and info_1_normalized in [\"adolescence\"]:\n",
    "            type_livre = \"Bande dessinée ado\"\n",
    "\n",
    "        elif info_0_normalized in [\"album\", \"artbook/beau livre\", \"bande-dessinée\", \"comics\", \"manga\"] and info_1_normalized in [\"young adult\", \"adulte\"]:\n",
    "            type_livre = \"Bande dessinée ado\"\n",
    "\n",
    "        elif info_0_normalized in [\"correspondance\", \"documentaire\", \"essai\", \"livre pratique\", \"nouvelle(s)\", \"poésie\", \"roman\", \"théâtre\"] and info_1_normalized in [\"petite enfance\", \"enfance\"]:\n",
    "            type_livre = \"Livre jeunesse\"\n",
    "\n",
    "        elif info_0_normalized in [\"correspondance\", \"documentaire\", \"essai\", \"livre pratique\", \"nouvelle(s)\", \"poésie\", \"roman\", \"théâtre\"] and info_1_normalized in [\"adolescence\"]:\n",
    "            type_livre = \"Livre ado\"\n",
    "\n",
    "        elif info_0_normalized in [\"correspondance\", \"documentaire\", \"essai\", \"livre pratique\", \"nouvelle(s)\", \"poésie\", \"roman\", \"théâtre\"] and info_1_normalized in [\"young adult\", \"adulte\"]:\n",
    "            type_livre = \"Livre adulte\"\n",
    "\n",
    "        else: type_livre= \"Introuvable\"\n",
    "    return type_livre\n"
   ]
  },
  {
   "cell_type": "code",
   "execution_count": 16,
   "metadata": {},
   "outputs": [],
   "source": [
    "def search_type_livre(titre):\n",
    "    livre = titre.split()\n",
    "    titre_livre = \"\"\n",
    "    for i in range(0, len(livre) - 1):\n",
    "        titre_livre = titre_livre + livre[i] + \"+\"\n",
    "    titre_livre = titre_livre + livre[len(livre)-1]\n",
    "    url = search_livraddict(titre_livre)\n",
    "    infos = obtain_type(url)\n",
    "    type_de_livre = type_livre(infos)\n",
    "    return type_de_livre"
   ]
  },
  {
   "cell_type": "code",
   "execution_count": 17,
   "metadata": {},
   "outputs": [],
   "source": [
    "def apply_search(row):\n",
    "    nouveau = [\"Nouveauté\", \"Nouveauté jeunesse\"]\n",
    "    if row[\"type_de_document\"] in nouveau:\n",
    "        parties = row[\"titre\"].split(\".\")\n",
    "        parties_bis = row[\"titre\"].split(\":\")\n",
    "\n",
    "        #pour les séries avec nom de série, numéro tome, nom du tome\n",
    "        if len(parties)==3:\n",
    "            saga = parties[0].strip()\n",
    "            tome = parties[1].strip()\n",
    "            nom = parties[2].strip()\n",
    "            if int(tome) < 10:\n",
    "                type_de_livre = search_type_livre(saga+\"+\"+\"tome\"+\"+\"+\"0\"+tome)\n",
    "                if type_de_livre == \"Nom du livre pas trouvé sur Livraddict\":\n",
    "                    type_de_livre = search_type_livre(saga+\"+\"+\"tome\"+\"+\"+tome)\n",
    "            elif int(tome)>= 10:\n",
    "                type_de_livre = search_type_livre(saga+\"+\"+\"tome\"+\"+\"+tome)\n",
    "        \n",
    "        #pour les séries avec que nom de série et numéro de tome\n",
    "        elif len(parties)==2:\n",
    "            saga = parties[0].strip()\n",
    "            tome = parties[1].strip()\n",
    "            if int(tome) < 10:\n",
    "                type_de_livre = search_type_livre(saga+\"+\"+\"tome\"+\"+\"+\"0\"+tome)\n",
    "                if type_de_livre == \"Nom du livre pas trouvé sur Livraddict\":\n",
    "                    type_de_livre = search_type_livre(saga+\"+\"+\"tome\"+\"+\"+tome)\n",
    "            elif int(tome)>= 10:\n",
    "                type_de_livre = search_type_livre(saga+\"+\"+\"tome\"+\"+\"+tome)\n",
    "        \n",
    "        #pour les livre où il y a écrit le genre après le titre\n",
    "        elif len(parties_bis) == 2:\n",
    "            type_de_livre = search_type_livre(row[\"titre\"])\n",
    "            if type_de_livre == \"Nom du livre pas trouvé sur Livraddict\":\n",
    "                nom = parties_bis[0].strip()\n",
    "                type_de_livre = search_type_livre(nom)\n",
    "\n",
    "        else:\n",
    "            type_de_livre = search_type_livre(row[\"titre\"])\n",
    "        return type_de_livre\n",
    "\n",
    "\n",
    "    else:\n",
    "        return row[\"type_de_document\"]"
   ]
  },
  {
   "cell_type": "code",
   "execution_count": 18,
   "metadata": {},
   "outputs": [
    {
     "name": "stderr",
     "output_type": "stream",
     "text": [
      "/tmp/ipykernel_13432/1561553421.py:1: SettingWithCopyWarning: \n",
      "A value is trying to be set on a copy of a slice from a DataFrame.\n",
      "Try using .loc[row_indexer,col_indexer] = value instead\n",
      "\n",
      "See the caveats in the documentation: https://pandas.pydata.org/pandas-docs/stable/user_guide/indexing.html#returning-a-view-versus-a-copy\n",
      "  df_filtered['type_de_document'] = df_filtered.apply(apply_search, axis=1)\n"
     ]
    }
   ],
   "source": [
    "df_filtered['type_de_document'] = df_filtered.apply(apply_search, axis=1)"
   ]
  },
  {
   "cell_type": "code",
   "execution_count": 19,
   "metadata": {},
   "outputs": [
    {
     "data": {
      "text/html": [
       "<div>\n",
       "<style scoped>\n",
       "    .dataframe tbody tr th:only-of-type {\n",
       "        vertical-align: middle;\n",
       "    }\n",
       "\n",
       "    .dataframe tbody tr th {\n",
       "        vertical-align: top;\n",
       "    }\n",
       "\n",
       "    .dataframe thead th {\n",
       "        text-align: right;\n",
       "    }\n",
       "</style>\n",
       "<table border=\"1\" class=\"dataframe\">\n",
       "  <thead>\n",
       "    <tr style=\"text-align: right;\">\n",
       "      <th></th>\n",
       "      <th>rang</th>\n",
       "      <th>type_de_document</th>\n",
       "      <th>reservations</th>\n",
       "      <th>titre</th>\n",
       "      <th>auteur</th>\n",
       "    </tr>\n",
       "  </thead>\n",
       "  <tbody>\n",
       "    <tr>\n",
       "      <th>0</th>\n",
       "      <td>12</td>\n",
       "      <td>Livre adulte</td>\n",
       "      <td>522.0</td>\n",
       "      <td>Réinventer l'amour : comment le patriarcat sab...</td>\n",
       "      <td>Chollet,  Mona</td>\n",
       "    </tr>\n",
       "    <tr>\n",
       "      <th>1</th>\n",
       "      <td>13</td>\n",
       "      <td>Bande dessinée adulte</td>\n",
       "      <td>521.0</td>\n",
       "      <td>Le jeune acteur</td>\n",
       "      <td>Sattouf,  Riad</td>\n",
       "    </tr>\n",
       "    <tr>\n",
       "      <th>2</th>\n",
       "      <td>14</td>\n",
       "      <td>Bande dessinée adulte</td>\n",
       "      <td>510.0</td>\n",
       "      <td>Une jeunesse au Moyen-Orient, 1992-1994</td>\n",
       "      <td>Sattouf,  Riad</td>\n",
       "    </tr>\n",
       "    <tr>\n",
       "      <th>5</th>\n",
       "      <td>73</td>\n",
       "      <td>Livre adulte</td>\n",
       "      <td>241.0</td>\n",
       "      <td>Chien 51 : roman</td>\n",
       "      <td>Gaudé,  Laurent</td>\n",
       "    </tr>\n",
       "    <tr>\n",
       "      <th>6</th>\n",
       "      <td>87</td>\n",
       "      <td>Livre adulte</td>\n",
       "      <td>225.0</td>\n",
       "      <td>Le gosse : roman</td>\n",
       "      <td>Olmi,  Véronique</td>\n",
       "    </tr>\n",
       "    <tr>\n",
       "      <th>7</th>\n",
       "      <td>109</td>\n",
       "      <td>Bande dessinée jeunesse</td>\n",
       "      <td>196.0</td>\n",
       "      <td>Attaque au clair de lune</td>\n",
       "      <td>Oda,  Eiichiro</td>\n",
       "    </tr>\n",
       "  </tbody>\n",
       "</table>\n",
       "</div>"
      ],
      "text/plain": [
       "   rang         type_de_document  reservations  \\\n",
       "0    12             Livre adulte         522.0   \n",
       "1    13    Bande dessinée adulte         521.0   \n",
       "2    14    Bande dessinée adulte         510.0   \n",
       "5    73             Livre adulte         241.0   \n",
       "6    87             Livre adulte         225.0   \n",
       "7   109  Bande dessinée jeunesse         196.0   \n",
       "\n",
       "                                               titre            auteur  \n",
       "0  Réinventer l'amour : comment le patriarcat sab...    Chollet,  Mona  \n",
       "1                                    Le jeune acteur    Sattouf,  Riad  \n",
       "2            Une jeunesse au Moyen-Orient, 1992-1994    Sattouf,  Riad  \n",
       "5                                   Chien 51 : roman   Gaudé,  Laurent  \n",
       "6                                   Le gosse : roman  Olmi,  Véronique  \n",
       "7                           Attaque au clair de lune    Oda,  Eiichiro  "
      ]
     },
     "execution_count": 19,
     "metadata": {},
     "output_type": "execute_result"
    }
   ],
   "source": [
    "df_filtered.head(6)"
   ]
  },
  {
   "cell_type": "code",
   "execution_count": 20,
   "metadata": {},
   "outputs": [
    {
     "name": "stdout",
     "output_type": "stream",
     "text": [
      "Empty DataFrame\n",
      "Columns: [rang, type_de_document, reservations, titre, auteur]\n",
      "Index: []\n"
     ]
    }
   ],
   "source": [
    "erreur_recherche = [\"Nom du livre pas trouvé sur Livraddict\"]\n",
    "df_recherche =  df_filtered[df_filtered[\"type_de_document\"].isin(erreur_recherche)]\n",
    "print(df_recherche)"
   ]
  },
  {
   "cell_type": "code",
   "execution_count": 21,
   "metadata": {},
   "outputs": [
    {
     "name": "stdout",
     "output_type": "stream",
     "text": [
      "Empty DataFrame\n",
      "Columns: [rang, type_de_document, reservations, titre, auteur]\n",
      "Index: []\n"
     ]
    }
   ],
   "source": [
    "erreur_recherche = [\"Introuvable\"]\n",
    "df_recherche =  df_filtered[df_filtered[\"type_de_document\"].isin(erreur_recherche)]\n",
    "print(df_recherche)"
   ]
  },
  {
   "cell_type": "markdown",
   "metadata": {},
   "source": [
    "S'assurer que les livres soient bien dans l'ordre croissant de leur rang avant d'ajouter un numéro absolu"
   ]
  },
  {
   "cell_type": "code",
   "execution_count": 22,
   "metadata": {},
   "outputs": [],
   "source": [
    "df_bibli = df_filtered.sort_values(by=\"rang\")\n",
    "df_bibli = df_bibli.reset_index(drop=True)"
   ]
  },
  {
   "cell_type": "markdown",
   "metadata": {},
   "source": [
    "Ajouter une nouvelle variable permettant de supprimer les trous"
   ]
  },
  {
   "cell_type": "code",
   "execution_count": 23,
   "metadata": {},
   "outputs": [],
   "source": [
    "df_bibli['Classement'] = df_bibli.index + 1"
   ]
  },
  {
   "cell_type": "code",
   "execution_count": 24,
   "metadata": {},
   "outputs": [
    {
     "data": {
      "text/html": [
       "<div>\n",
       "<style scoped>\n",
       "    .dataframe tbody tr th:only-of-type {\n",
       "        vertical-align: middle;\n",
       "    }\n",
       "\n",
       "    .dataframe tbody tr th {\n",
       "        vertical-align: top;\n",
       "    }\n",
       "\n",
       "    .dataframe thead th {\n",
       "        text-align: right;\n",
       "    }\n",
       "</style>\n",
       "<table border=\"1\" class=\"dataframe\">\n",
       "  <thead>\n",
       "    <tr style=\"text-align: right;\">\n",
       "      <th></th>\n",
       "      <th>rang</th>\n",
       "      <th>type_de_document</th>\n",
       "      <th>reservations</th>\n",
       "      <th>titre</th>\n",
       "      <th>auteur</th>\n",
       "      <th>Classement</th>\n",
       "    </tr>\n",
       "  </thead>\n",
       "  <tbody>\n",
       "    <tr>\n",
       "      <th>0</th>\n",
       "      <td>5</td>\n",
       "      <td>Livre adulte</td>\n",
       "      <td>755.0</td>\n",
       "      <td>La décision : roman</td>\n",
       "      <td>Tuil,  Karine</td>\n",
       "      <td>1</td>\n",
       "    </tr>\n",
       "    <tr>\n",
       "      <th>1</th>\n",
       "      <td>12</td>\n",
       "      <td>Livre adulte</td>\n",
       "      <td>522.0</td>\n",
       "      <td>Réinventer l'amour : comment le patriarcat sab...</td>\n",
       "      <td>Chollet,  Mona</td>\n",
       "      <td>2</td>\n",
       "    </tr>\n",
       "    <tr>\n",
       "      <th>2</th>\n",
       "      <td>13</td>\n",
       "      <td>Bande dessinée adulte</td>\n",
       "      <td>521.0</td>\n",
       "      <td>Le jeune acteur</td>\n",
       "      <td>Sattouf,  Riad</td>\n",
       "      <td>3</td>\n",
       "    </tr>\n",
       "    <tr>\n",
       "      <th>3</th>\n",
       "      <td>14</td>\n",
       "      <td>Bande dessinée adulte</td>\n",
       "      <td>510.0</td>\n",
       "      <td>Une jeunesse au Moyen-Orient, 1992-1994</td>\n",
       "      <td>Sattouf,  Riad</td>\n",
       "      <td>4</td>\n",
       "    </tr>\n",
       "    <tr>\n",
       "      <th>4</th>\n",
       "      <td>25</td>\n",
       "      <td>Livre adulte</td>\n",
       "      <td>398.0</td>\n",
       "      <td>Dans les brumes de Capelans</td>\n",
       "      <td>Norek,  Olivier</td>\n",
       "      <td>5</td>\n",
       "    </tr>\n",
       "  </tbody>\n",
       "</table>\n",
       "</div>"
      ],
      "text/plain": [
       "   rang       type_de_document  reservations  \\\n",
       "0     5           Livre adulte         755.0   \n",
       "1    12           Livre adulte         522.0   \n",
       "2    13  Bande dessinée adulte         521.0   \n",
       "3    14  Bande dessinée adulte         510.0   \n",
       "4    25           Livre adulte         398.0   \n",
       "\n",
       "                                               titre           auteur  \\\n",
       "0                                La décision : roman    Tuil,  Karine   \n",
       "1  Réinventer l'amour : comment le patriarcat sab...   Chollet,  Mona   \n",
       "2                                    Le jeune acteur   Sattouf,  Riad   \n",
       "3            Une jeunesse au Moyen-Orient, 1992-1994   Sattouf,  Riad   \n",
       "4                        Dans les brumes de Capelans  Norek,  Olivier   \n",
       "\n",
       "   Classement  \n",
       "0           1  \n",
       "1           2  \n",
       "2           3  \n",
       "3           4  \n",
       "4           5  "
      ]
     },
     "execution_count": 24,
     "metadata": {},
     "output_type": "execute_result"
    }
   ],
   "source": [
    "df_bibli.head(5)"
   ]
  },
  {
   "cell_type": "markdown",
   "metadata": {},
   "source": [
    "TEST AVEC DES EXEMPLES SIMPLES"
   ]
  },
  {
   "cell_type": "code",
   "execution_count": 25,
   "metadata": {},
   "outputs": [
    {
     "data": {
      "text/plain": [
       "'https://www.livraddict.com/biblio/livre/percy-jackson-comics-tome-1-le-voleur-de-foudre.html'"
      ]
     },
     "execution_count": 25,
     "metadata": {},
     "output_type": "execute_result"
    }
   ],
   "source": [
    "search_livraddict(\"Percy+Jackson\")"
   ]
  },
  {
   "cell_type": "code",
   "execution_count": 26,
   "metadata": {},
   "outputs": [
    {
     "data": {
      "text/plain": [
       "[' Comics', ' Adolescence']"
      ]
     },
     "execution_count": 26,
     "metadata": {},
     "output_type": "execute_result"
    }
   ],
   "source": [
    "obtain_type(\"https://www.livraddict.com/biblio/livre/percy-jackson-comics-tome-1-le-voleur-de-foudre.html\")"
   ]
  },
  {
   "cell_type": "code",
   "execution_count": 27,
   "metadata": {},
   "outputs": [
    {
     "data": {
      "text/plain": [
       "'Bande dessinée ado'"
      ]
     },
     "execution_count": 27,
     "metadata": {},
     "output_type": "execute_result"
    }
   ],
   "source": [
    "type_livre([' Comics', ' Adolescence'])"
   ]
  },
  {
   "cell_type": "code",
   "execution_count": 28,
   "metadata": {},
   "outputs": [],
   "source": [
    "parties = \"Journal inquiet d'Istanbul. 1\".split(\".\")\n",
    "if len(parties)==2:\n",
    "    saga = parties[0].strip()\n",
    "    tome = parties[1].strip()\n",
    "    if int(tome) < 10:\n",
    "        type_de_livre = search_type_livre(saga+\"+\"+\"tome\"+\"+\"+\"0\"+tome)\n",
    "        if type_de_livre == \"Nom du livre pas trouvé sur Livraddict\":\n",
    "            type_de_livre = search_type_livre(saga+\"+\"+\"tome\"+\"+\"+tome)\n",
    "    elif int(tome)>= 10:\n",
    "        type_de_livre = search_type_livre(saga+\"+\"+\"tome\"+\"+\"+tome)"
   ]
  },
  {
   "cell_type": "code",
   "execution_count": 29,
   "metadata": {},
   "outputs": [
    {
     "name": "stdout",
     "output_type": "stream",
     "text": [
      "Bande dessinée ado\n"
     ]
    }
   ],
   "source": [
    "print(type_de_livre)"
   ]
  },
  {
   "cell_type": "code",
   "execution_count": 30,
   "metadata": {},
   "outputs": [
    {
     "data": {
      "text/plain": [
       "[\"L'arbre\", 'gelé']"
      ]
     },
     "execution_count": 30,
     "metadata": {},
     "output_type": "execute_result"
    }
   ],
   "source": [
    "\"L'arbre gelé\".split()"
   ]
  },
  {
   "cell_type": "code",
   "execution_count": 31,
   "metadata": {},
   "outputs": [],
   "source": [
    "livre = \"Il était par une nuit un voyageur\".split()\n",
    "titre_livre = \"\"\n",
    "for i in range(0, len(livre) - 1):\n",
    "    titre_livre = titre_livre + livre[i] + \"+\"\n",
    "titre_livre = titre_livre + livre[len(livre)-1]"
   ]
  },
  {
   "cell_type": "code",
   "execution_count": 32,
   "metadata": {},
   "outputs": [
    {
     "name": "stdout",
     "output_type": "stream",
     "text": [
      "Il+était+par+une+nuit+un+voyageur\n"
     ]
    }
   ],
   "source": [
    "print(titre_livre)"
   ]
  },
  {
   "cell_type": "code",
   "execution_count": 33,
   "metadata": {},
   "outputs": [
    {
     "name": "stdout",
     "output_type": "stream",
     "text": [
      "Bande dessinée ado\n"
     ]
    }
   ],
   "source": [
    "titre = \"Journal inquiet d'Istanbul. 1\"\n",
    "parties = titre.split(\".\")\n",
    "parties_bis = titre.split(\":\")\n",
    "\n",
    "#pour les séries avec nom de série, numéro tome, nom du tome\n",
    "if len(parties)==3:\n",
    "    saga = parties[0].strip()\n",
    "    tome = parties[1].strip()\n",
    "    nom = parties[2].strip()\n",
    "    if int(tome) < 10:\n",
    "        type_de_livre = search_type_livre(saga+\"+\"+\"tome\"+\"+\"+\"0\"+tome)\n",
    "        if type_de_livre == \"Nom du livre pas trouvé sur Livraddict\":\n",
    "            type_de_livre = search_type_livre(saga+\"+\"+\"tome\"+\"+\"+tome)\n",
    "    elif int(tome)>= 10:\n",
    "        type_de_livre = search_type_livre(saga+\"+\"+\"tome\"+\"+\"+tome)\n",
    "        \n",
    "#pour les séries avec que nom de série et numéro de tome\n",
    "elif len(parties)==2:\n",
    "    saga = parties[0].strip()\n",
    "    tome = parties[1].strip()\n",
    "    if int(tome) < 10:\n",
    "        type_de_livre = search_type_livre(saga+\"+\"+\"tome\"+\"+\"+\"0\"+tome)\n",
    "        if type_de_livre == \"Nom du livre pas trouvé sur Livraddict\":\n",
    "            type_de_livre = search_type_livre(saga+\"+\"+\"tome\"+\"+\"+tome)\n",
    "    elif int(tome)>= 10:\n",
    "        type_de_livre = search_type_livre(saga+\"+\"+\"tome\"+\"+\"+tome)\n",
    "        \n",
    "#pour les livre où il y a écrit le genre après le titre\n",
    "elif len(parties_bis) == 2:\n",
    "    type_de_livre = search_type_livre(titre)\n",
    "    if type_de_livre == \"Nom du livre pas trouvé sur Livraddict\":\n",
    "        nom = parties_bis[0].strip()\n",
    "        type_de_livre = search_type_livre(nom)\n",
    "\n",
    "else:\n",
    "    type_de_livre = search_type_livre(row[\"titre\"])\n",
    "print(type_de_livre)"
   ]
  },
  {
   "cell_type": "code",
   "execution_count": 35,
   "metadata": {},
   "outputs": [
    {
     "name": "stdout",
     "output_type": "stream",
     "text": [
      "Livre adulte\n"
     ]
    }
   ],
   "source": [
    "titre = \"Chien 51: le roman\"\n",
    "parties = titre.split(\".\")\n",
    "parties_bis = titre.split(\":\")\n",
    "if len(parties_bis) == 2:\n",
    "    type_de_livre = search_type_livre(titre)\n",
    "    if type_de_livre == \"Nom du livre pas trouvé sur Livraddict\":\n",
    "        nom = parties_bis[0].strip()\n",
    "        type_de_livre = search_type_livre(nom)\n",
    "print(type_de_livre)"
   ]
  },
  {
   "cell_type": "code",
   "execution_count": null,
   "metadata": {},
   "outputs": [],
   "source": [
    "# On transforme en df le csv pour observer en entier\n",
    "\n",
    "df_bibli.to_csv('bibli.csv', index=False, encoding='utf-8')"
   ]
  },
  {
   "cell_type": "code",
   "execution_count": 42,
   "metadata": {},
   "outputs": [
    {
     "name": "stdout",
     "output_type": "stream",
     "text": [
      "   rang       type_de_document  reservations  \\\n",
      "0     5           Livre adulte         755.0   \n",
      "1    12           Livre adulte         522.0   \n",
      "2    13  Bande dessinée adulte         521.0   \n",
      "3    14  Bande dessinée adulte         510.0   \n",
      "4    25           Livre adulte         398.0   \n",
      "5    28           Livre adulte         367.0   \n",
      "6    33           Livre adulte         345.0   \n",
      "7    72           Livre adulte         246.0   \n",
      "8    73           Livre adulte         241.0   \n",
      "9    75           Livre adulte         239.0   \n",
      "\n",
      "                                               titre                 Auteur  \\\n",
      "0                                La décision : roman            Karine Tuil   \n",
      "1  Réinventer l'amour : comment le patriarcat sab...           Mona Chollet   \n",
      "2                                    Le jeune acteur           Riad Sattouf   \n",
      "3            Une jeunesse au Moyen-Orient, 1992-1994           Riad Sattouf   \n",
      "4                        Dans les brumes de Capelans          Olivier Norek   \n",
      "5             Ton absence n'est que ténèbres : roman  Jón Kalman Stefánsson   \n",
      "6  Vivre avec nos morts : petit traité de consola...    Delphine Horvilleur   \n",
      "7                         Le pays des autres : roman          Leïla Slimani   \n",
      "8                                   Chien 51 : roman          Laurent Gaudé   \n",
      "9  La France sous nos yeux : économie, paysages, ...        Jérôme Fourquet   \n",
      "\n",
      "   Classement  \n",
      "0           1  \n",
      "1           2  \n",
      "2           3  \n",
      "3           4  \n",
      "4           5  \n",
      "5           6  \n",
      "6           7  \n",
      "7           8  \n",
      "8           9  \n",
      "9          10  \n"
     ]
    }
   ],
   "source": [
    "# on nettoie la table pour armoniser avec les autres et préparer la fusion \n",
    "\n",
    "#variable auteur \n",
    "\n",
    "# on renomme en auteur en Auteur \n",
    "df_bibli.rename(columns={\"auteur\": \"Auteur\"}, inplace=True)\n",
    "\n",
    "# Au lieu d'écrire \"Nom, Prénom\" on veut sous format \"Prénom Nom\" : pour cela on crée une fonction\n",
    "def inverser_nom_prenom(nom_complet):\n",
    "    if pd.isna(nom_complet):\n",
    "        return nom_complet\n",
    "    parties = [part.strip() for part in nom_complet.split(\",\")]\n",
    "    if len(parties) == 2:\n",
    "        return f\"{parties[1]} {parties[0]}\"\n",
    "    return nom_complet\n",
    "\n",
    "# On applique la foncyion a toute la colonne 'Auteur'\n",
    "df_bibli[\"Auteur\"] = df_bibli[\"Auteur\"].apply(inverser_nom_prenom)\n",
    "\n",
    "# On vérifie que cela marche\n",
    "print(df_bibli.head(10))\n"
   ]
  },
  {
   "cell_type": "code",
   "execution_count": 47,
   "metadata": {},
   "outputs": [
    {
     "name": "stdout",
     "output_type": "stream",
     "text": [
      "Index(['rang', 'type_de_document', 'reservations', 'Titre', 'Auteur',\n",
      "       'Classement'],\n",
      "      dtype='object')\n",
      "   rang       type_de_document  reservations  \\\n",
      "0     5           Livre adulte         755.0   \n",
      "1    12           Livre adulte         522.0   \n",
      "2    13  Bande dessinée adulte         521.0   \n",
      "3    14  Bande dessinée adulte         510.0   \n",
      "4    25           Livre adulte         398.0   \n",
      "5    28           Livre adulte         367.0   \n",
      "6    33           Livre adulte         345.0   \n",
      "7    72           Livre adulte         246.0   \n",
      "8    73           Livre adulte         241.0   \n",
      "9    75           Livre adulte         239.0   \n",
      "\n",
      "                                               Titre                 Auteur  \\\n",
      "0                                la décision : roman            Karine Tuil   \n",
      "1  réinventer l'amour : comment le patriarcat sab...           Mona Chollet   \n",
      "2                                    le jeune acteur           Riad Sattouf   \n",
      "3            une jeunesse au moyen-orient, 1992-1994           Riad Sattouf   \n",
      "4                        dans les brumes de capelans          Olivier Norek   \n",
      "5             ton absence n'est que ténèbres : roman  Jón Kalman Stefánsson   \n",
      "6  vivre avec nos morts : petit traité de consola...    Delphine Horvilleur   \n",
      "7                         le pays des autres : roman          Leïla Slimani   \n",
      "8                                   chien 51 : roman          Laurent Gaudé   \n",
      "9  la france sous nos yeux : économie, paysages, ...        Jérôme Fourquet   \n",
      "\n",
      "   Classement  \n",
      "0           1  \n",
      "1           2  \n",
      "2           3  \n",
      "3           4  \n",
      "4           5  \n",
      "5           6  \n",
      "6           7  \n",
      "7           8  \n",
      "8           9  \n",
      "9          10  \n"
     ]
    }
   ],
   "source": [
    "# On renomme la variable titre\n",
    "df_bibli.rename(columns={\"titre\": \"Titre\"}, inplace=True)\n",
    "\n",
    "print(df_bibli.columns)\n",
    "\n",
    "# On met tout les titres en minuscule \n",
    "df_bibli['Titre'] = df_bibli['Titre'].str.strip().str.lower()\n",
    "\n",
    "print(df_bibli.head(10))\n"
   ]
  },
  {
   "cell_type": "code",
   "execution_count": 49,
   "metadata": {},
   "outputs": [
    {
     "name": "stdout",
     "output_type": "stream",
     "text": [
      "Index(['rang', 'Catégorie', 'reservations', 'Titre', 'Auteur', 'Classement'], dtype='object')\n"
     ]
    }
   ],
   "source": [
    "# On renomme la variable type de document catégorie\n",
    "df_bibli.rename(columns={\"type_de_document\": \"Catégorie\"}, inplace=True)\n",
    " \n",
    "print(df_bibli.columns)"
   ]
  },
  {
   "cell_type": "code",
   "execution_count": 53,
   "metadata": {},
   "outputs": [
    {
     "name": "stdout",
     "output_type": "stream",
     "text": [
      "   rang              Catégorie  reservations  \\\n",
      "0     5           Livre adulte         755.0   \n",
      "1    12           Livre adulte         522.0   \n",
      "2    13  Bande dessinée adulte         521.0   \n",
      "3    14  Bande dessinée adulte         510.0   \n",
      "4    25           Livre adulte         398.0   \n",
      "5    28           Livre adulte         367.0   \n",
      "6    33           Livre adulte         345.0   \n",
      "7    72           Livre adulte         246.0   \n",
      "8    73           Livre adulte         241.0   \n",
      "9    75           Livre adulte         239.0   \n",
      "\n",
      "                                               Titre                 Auteur  \\\n",
      "0                                la décision : roman            Karine Tuil   \n",
      "1  réinventer l'amour : comment le patriarcat sab...           Mona Chollet   \n",
      "2                                    le jeune acteur           Riad Sattouf   \n",
      "3            une jeunesse au moyen-orient, 1992-1994           Riad Sattouf   \n",
      "4                        dans les brumes de capelans          Olivier Norek   \n",
      "5             ton absence n'est que ténèbres : roman  Jón Kalman Stefánsson   \n",
      "6  vivre avec nos morts : petit traité de consola...    Delphine Horvilleur   \n",
      "7                         le pays des autres : roman          Leïla Slimani   \n",
      "8                                   chien 51 : roman          Laurent Gaudé   \n",
      "9  la france sous nos yeux : économie, paysages, ...        Jérôme Fourquet   \n",
      "\n",
      "   Classement  top_bibli  \n",
      "0           1          1  \n",
      "1           2          1  \n",
      "2           3          1  \n",
      "3           4          1  \n",
      "4           5          1  \n",
      "5           6          1  \n",
      "6           7          1  \n",
      "7           8          1  \n",
      "8           9          1  \n",
      "9          10          1  \n"
     ]
    }
   ],
   "source": [
    "# on crée une variable indicatrice pour dire que le livre est dans le classement\n",
    "df_bibli['top_bibli'] = 1\n",
    "\n",
    "print(df_bibli.head(10))\n"
   ]
  },
  {
   "cell_type": "code",
   "execution_count": null,
   "metadata": {},
   "outputs": [],
   "source": [
    "#on fusionne avec la table livraddict/fnac/babelio/wikipedia si jamais on a deux catégories différentes on priorise celle de la premiere table \n"
   ]
  },
  {
   "cell_type": "code",
   "execution_count": null,
   "metadata": {},
   "outputs": [],
   "source": []
  }
 ],
 "metadata": {
  "kernelspec": {
   "display_name": "base",
   "language": "python",
   "name": "python3"
  },
  "language_info": {
   "codemirror_mode": {
    "name": "ipython",
    "version": 3
   },
   "file_extension": ".py",
   "mimetype": "text/x-python",
   "name": "python",
   "nbconvert_exporter": "python",
   "pygments_lexer": "ipython3",
   "version": "3.12.7"
  }
 },
 "nbformat": 4,
 "nbformat_minor": 2
}
