{
 "cells": [
  {
   "cell_type": "code",
   "execution_count": 4,
   "metadata": {},
   "outputs": [
    {
     "name": "stdout",
     "output_type": "stream",
     "text": [
      "<class 'pandas.core.series.Series'>\n"
     ]
    }
   ],
   "source": [
    "import pandas as pd\n",
    "df=pd.read_csv(\"video_data.csv\", encoding=\"utf-8\")\n",
    "print(type(df[\"Subtitles\"]))"
   ]
  },
  {
   "cell_type": "code",
   "execution_count": null,
   "metadata": {},
   "outputs": [],
   "source": [
    "#On importe la bibliothèque pandas\n",
    "import pandas as pd\n",
    "import matplotlib.pyplot as plt\n",
    "\n",
    "def livre_dans_sous_titres(livre,youtube):\n",
    "    #On charge les tables dont on a besoin\",\n",
    "    books_data = pd.read_csv(f\"{livre}.csv\", encoding=\"utf-8\")\n",
    "    youtube_data = pd.read_csv(f\"{youtube}.csv\", encoding=\"utf-8\")\n",
    "    print(\"Livres de la base de données \"f'{livre}.csv'\" dans les sous-titres de vidéos youtube de la base de données \"f'{youtube}.csv')\n",
    "    # On convertie la colonne 'description' en type string\n",
    "    youtube_data['Subtitles'] = youtube_data['Subtitles'].astype(str)\n",
    "    # On initialise une nouvelle liste pour stocker les résultats\n",
    "    result = []\n",
    "    # On itére sur chaque liste de la colonne 'Titre' de books_data\n",
    "    for index1, row1 in books_data.iterrows():\n",
    "        count_list = []  # Liste pour stocker les résultats de cette ligne\n",
    "        # On itére sur chaque liste de la colonne 'Subtitles' de youtube_data\n",
    "        for index2, row2 in youtube_data.iterrows():\n",
    "            # On vérifie si la liste de books_data (row1['Titre']) est une sous-liste de la liste de youtube_data (row2['Subtitles'])\n",
    "            if row1['Titre'] in row2['Subtitles']:\n",
    "                count_list.append(1)  # Si elle est incluse, compter une occurrence\n",
    "            else:\n",
    "                count_list.append(0)  # Sinon, aucune occurrence\n",
    "        # On ajoute la liste des Titres de books_data et la somme des occurrences\n",
    "        result.append([row1['Titre'], row1['Auteur'], sum(count_list)])\n",
    "    # On crée la nouvelle DataFrame contenant les résultats\n",
    "    colonnes=['Titres','Auteurs','Occurrences dans les sous-titres de vidéos']\n",
    "    result_df = pd.DataFrame(result, columns = colonnes )\n",
    "    # On filtre les lignes où 'Occurrences dans les vidéos' est différente de 0 (On ne s'intéresse qu'aux livres cités au moins une fois)\n",
    "    filtered_df = result_df[result_df['Occurrences dans les sous-titres de vidéos'] != 0]\n",
    "    # On affiche le DataFrame filtré\n",
    "    return filtered_df"
   ]
  }
 ],
 "metadata": {
  "kernelspec": {
   "display_name": "base",
   "language": "python",
   "name": "python3"
  },
  "language_info": {
   "codemirror_mode": {
    "name": "ipython",
    "version": 3
   },
   "file_extension": ".py",
   "mimetype": "text/x-python",
   "name": "python",
   "nbconvert_exporter": "python",
   "pygments_lexer": "ipython3",
   "version": "3.12.7"
  }
 },
 "nbformat": 4,
 "nbformat_minor": 2
}
