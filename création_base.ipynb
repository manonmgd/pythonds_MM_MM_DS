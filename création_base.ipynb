{
 "cells": [
  {
   "cell_type": "markdown",
   "metadata": {},
   "source": [
    "La première étape de notre travail a été de récupérer les diverses données dont nous avions besoin afin d'essayer d'estimer l'impact des influenceurs de Youtube mais aussi des prix sur les livres les plus lus."
   ]
  },
  {
   "cell_type": "markdown",
   "metadata": {},
   "source": [
    "PARTIE 1: Récupérer des données sur les livres les plus lus, de différente manière"
   ]
  },
  {
   "cell_type": "markdown",
   "metadata": {},
   "source": [
    "Récupération de l'API des bibliothèques de Paris afin d'estimer les cent livres les plus empruntés"
   ]
  },
  {
   "cell_type": "markdown",
   "metadata": {},
   "source": [
    "Tout d'abord, formulons notre requête à l'API. On met comme limite 100 ouvrages car il s'agit de la limite de collecte possible au sein de l'API"
   ]
  },
  {
   "cell_type": "code",
   "execution_count": 49,
   "metadata": {},
   "outputs": [
    {
     "name": "stdout",
     "output_type": "stream",
     "text": [
      "Type de contenu : application/json; charset=utf-8\n"
     ]
    }
   ],
   "source": [
    "import requests\n",
    "\n",
    "response = requests.get(\"https://opendata.paris.fr/api/explore/v2.1/catalog/datasets/les-1000-titres-les-plus-reserves-dans-les-bibliotheques-de-pret/records?limit=100\")\n",
    "\n",
    "# Afficher le type de contenu et le texte brut de la réponse\n",
    "print(\"Type de contenu :\", response.headers.get(\"Content-Type\"))"
   ]
  },
  {
   "cell_type": "markdown",
   "metadata": {},
   "source": [
    "Une fois l'API récupérée, on observe la structure du jeu de données pour savoir comment s'appelle la variable 'résultat' ( ici 'results') à appeler afin de créer notre dataframe panda.\n",
    "On observe que tous les rangs ne sont pas dans la base. Notre hypothèse optimiste est qu'il y a peut-être des types d'ouvrage non classés dans cette base ( et ne nous intéressant pas puisque nous nous intéressons seulement aux livres, dont la catégorie existe dans la base). C'est une hypothèse qui nous semble probable étant donné que nous avons par la suite créé nous-même des trous dans le classement en enlevant les DVDs de ce dernier. Cependant, nous ne pouvons pas en être sûrs."
   ]
  },
  {
   "cell_type": "code",
   "execution_count": 50,
   "metadata": {},
   "outputs": [
    {
     "name": "stdout",
     "output_type": "stream",
     "text": [
      "Structure du JSON :\n",
      "{'total_count': 1000, 'results': [{'rang': 12, 'type_de_document': 'Livre adulte', 'reservations': 522.0, 'titre': \"Réinventer l'amour : comment le patriarcat sabote les relations hétérosexuelles\", 'auteur': 'Chollet,  Mona'}, {'rang': 13, 'type_de_document': 'Bande dessinée adulte', 'reservations': 521.0, 'titre': 'Le jeune acteur', 'auteur': 'Sattouf,  Riad'}, {'rang': 14, 'type_de_document': 'Bande dessinée adulte', 'reservations': 510.0, 'titre': 'Une jeunesse au Moyen-Orient, 1992-1994', 'auteur': 'Sattouf,  Riad'}, {'rang': 37, 'type_de_document': 'DVD tous publics', 'reservations': 337.0, 'titre': 'Dune', 'auteur': None}, {'rang': 58, 'type_de_document': 'DVD tous publics', 'reservations': 266.0, 'titre': 'Onoda. 10 000 nuits dans la jungle', 'auteur': None}, {'rang': 73, 'type_de_document': 'Nouveauté', 'reservations': 241.0, 'titre': 'Chien 51 : roman', 'auteur': 'Gaudé,  Laurent'}, {'rang': 87, 'type_de_document': 'Livre adulte', 'reservations': 225.0, 'titre': 'Le gosse : roman', 'auteur': 'Olmi,  Véronique'}, {'rang': 109, 'type_de_document': 'Bande dessinée jeunesse', 'reservations': 196.0, 'titre': 'Attaque au clair de lune', 'auteur': 'Oda,  Eiichiro'}, {'rang': 125, 'type_de_document': 'DVD nouveautés tous publics', 'reservations': 177.0, 'titre': 'West Side Story', 'auteur': None}, {'rang': 136, 'type_de_document': None, 'reservations': 170.0, 'titre': 'Etés anglais', 'auteur': 'Howard,  Elizabeth Jane'}, {'rang': 139, 'type_de_document': 'Bande dessinée adulte', 'reservations': 168.0, 'titre': 'Zaï zaï zaï zaï', 'auteur': 'Fabcaro'}, {'rang': 145, 'type_de_document': 'Bande dessinée adulte', 'reservations': 164.0, 'titre': 'Les piliers de la civilisation', 'auteur': 'Harari,  Yuval Noah'}, {'rang': 159, 'type_de_document': 'Livre adulte', 'reservations': 158.0, 'titre': 'Noa', 'auteur': 'Lévy,  Marc'}, {'rang': 187, 'type_de_document': 'Livre adulte', 'reservations': 144.0, 'titre': 'Les armoires vides', 'auteur': 'Ernaux,  Annie'}, {'rang': 202, 'type_de_document': 'Bande dessinée jeunesse', 'reservations': 134.0, 'titre': 'Au pays des contes défaits', 'auteur': 'Mr Tan'}, {'rang': 271, 'type_de_document': 'Livre adulte', 'reservations': 115.0, 'titre': \"Sapiens : une brève histoire de l'humanité\", 'auteur': 'Harari,  Yuval Noah'}, {'rang': 360, 'type_de_document': None, 'reservations': 100.0, 'titre': 'Et à la fin, ils meurent : la sale vérité sur les contes de fées', 'auteur': 'Lubie,  Lou'}, {'rang': 367, 'type_de_document': 'DVD tous publics', 'reservations': 99.0, 'titre': 'Madeleine Collins', 'auteur': None}, {'rang': 385, 'type_de_document': 'Bande dessinée jeunesse', 'reservations': 96.0, 'titre': \"L'escalade\", 'auteur': 'Dugomier'}, {'rang': 394, 'type_de_document': 'Nouveauté jeunesse', 'reservations': 95.0, 'titre': \"My hero academia. 8. Momo Yaoyorozu : l'envol\", 'auteur': 'Horikoshi,  Kohei'}, {'rang': 399, 'type_de_document': 'Nouveauté', 'reservations': 95.0, 'titre': 'Le poids des héros', 'auteur': 'Sala,  David'}, {'rang': 414, 'type_de_document': 'Bande dessinée adulte', 'reservations': 92.0, 'titre': \"Moi, ce que j'aime, c'est les monstres\", 'auteur': 'Ferris,  Emil'}, {'rang': 425, 'type_de_document': 'Nouveauté jeunesse', 'reservations': 91.0, 'titre': 'My hero academia. 5. Shoto Todoroki : les origines', 'auteur': 'Horikoshi,  Kohei'}, {'rang': 429, 'type_de_document': 'Livre adulte', 'reservations': 91.0, 'titre': 'Le laboureur et les mangeurs de vent : liberté intérieure et confortable servitude', 'auteur': 'Cyrulnik,  Boris'}, {'rang': 430, 'type_de_document': 'Livre adulte', 'reservations': 91.0, 'titre': 'La chambre du fils', 'auteur': 'Horst,  Jørn Lier'}, {'rang': 449, 'type_de_document': 'DVD tous publics', 'reservations': 89.0, 'titre': 'Belfast', 'auteur': None}, {'rang': 451, 'type_de_document': 'DVD nouveautés tous publics', 'reservations': 89.0, 'titre': 'Top Gun : Maverick', 'auteur': None}, {'rang': 470, 'type_de_document': 'DVD tous publics', 'reservations': 87.0, 'titre': 'Mandibules', 'auteur': None}, {'rang': 473, 'type_de_document': 'Bande dessinée jeunesse', 'reservations': 87.0, 'titre': 'Game over', 'auteur': 'Dequier,  Bruno'}, {'rang': 501, 'type_de_document': None, 'reservations': 84.0, 'titre': 'The promised neverland. 8', 'auteur': 'Shirai,  Kaiu'}, {'rang': 525, 'type_de_document': 'Bande dessinée jeunesse', 'reservations': 82.0, 'titre': 'Bergères guerrières. 3', 'auteur': 'Garnier,  Jonathan'}, {'rang': 539, 'type_de_document': 'Livre adulte', 'reservations': 81.0, 'titre': 'La chronique des Bridgerton. 5 & 6', 'auteur': 'Quinn,  Julia'}, {'rang': 559, 'type_de_document': 'Bande dessinée jeunesse', 'reservations': 80.0, 'titre': 'Oohiohioo !', 'auteur': 'Didier,  Anne'}, {'rang': 654, 'type_de_document': 'Livre adulte', 'reservations': 72.0, 'titre': 'Les possibles', 'auteur': 'Grimaldi,  Virginie'}, {'rang': 672, 'type_de_document': 'Nouveauté', 'reservations': 71.0, 'titre': \"Bonnet d'âne !\", 'auteur': 'Beaton,  M.C.'}, {'rang': 684, 'type_de_document': 'DVD nouveautés tous publics', 'reservations': 70.0, 'titre': 'Sound of Metal', 'auteur': None}, {'rang': 691, 'type_de_document': 'Livre adulte', 'reservations': 70.0, 'titre': 'Un miracle : roman', 'auteur': 'Mas,  Victoria'}, {'rang': 705, 'type_de_document': 'Bande dessinée jeunesse', 'reservations': 69.0, 'titre': \"Sous un ciel d'azur\", 'auteur': 'Horikoshi,  K?hei'}, {'rang': 715, 'type_de_document': 'Bande dessinée jeunesse', 'reservations': 69.0, 'titre': 'One Piece. 67. Cool fight', 'auteur': 'Oda,  Eiichiro'}, {'rang': 718, 'type_de_document': None, 'reservations': 69.0, 'titre': 'Si seulement...', 'auteur': 'Dequier,  Bruno'}, {'rang': 720, 'type_de_document': 'Nouveauté jeunesse', 'reservations': 68.0, 'titre': 'My hero academia. 15. Lutte contre le destin', 'auteur': 'Horikoshi,  K?hei'}, {'rang': 737, 'type_de_document': 'Livre adulte', 'reservations': 67.0, 'titre': 'Les quatre accords toltèques : la voie de la liberté personnelle', 'auteur': 'Ruiz,  Miguel'}, {'rang': 756, 'type_de_document': 'Bande dessinée ado', 'reservations': 67.0, 'titre': 'One Piece. 64', 'auteur': 'Oda,  Eiichiro'}, {'rang': 766, 'type_de_document': 'Livre adulte', 'reservations': 66.0, 'titre': 'Le rocher blanc', 'auteur': 'Hope,  Anna'}, {'rang': 794, 'type_de_document': 'Bande dessinée jeunesse', 'reservations': 65.0, 'titre': 'One Piece. 68. Alliance entre pirates', 'auteur': 'Oda,  Eiichiro'}, {'rang': 840, 'type_de_document': None, 'reservations': 62.0, 'titre': 'Le consentement', 'auteur': 'Springora,  Vanessa'}, {'rang': 860, 'type_de_document': None, 'reservations': 61.0, 'titre': 'La maison', 'auteur': 'Becker,  Emma'}, {'rang': 888, 'type_de_document': 'Bande dessinée jeunesse', 'reservations': 60.0, 'titre': 'Trop la classe !', 'auteur': 'Didier,  Anne'}, {'rang': 891, 'type_de_document': 'Bande dessinée jeunesse', 'reservations': 60.0, 'titre': \"L'atelier des sorciers. 3\", 'auteur': 'Shirahama,  Kamome'}, {'rang': 910, 'type_de_document': 'Nouveauté', 'reservations': 60.0, 'titre': \"Journal inquiet d'Istanbul. 1\", 'auteur': 'Karabulut,  Ersin'}, {'rang': 936, 'type_de_document': 'DVD tous publics', 'reservations': 59.0, 'titre': 'Peaky Blinders. Saison 6', 'auteur': None}, {'rang': 945, 'type_de_document': 'Nouveauté', 'reservations': 58.0, 'titre': 'Croire aux fauves', 'auteur': 'Martin,  Nastassja'}, {'rang': 949, 'type_de_document': 'Nouveauté', 'reservations': 58.0, 'titre': 'Solo leveling. 3', 'auteur': 'Chugong'}, {'rang': 970, 'type_de_document': 'DVD tous publics', 'reservations': 57.0, 'titre': 'The Souvenir : Part I & Part II', 'auteur': None}, {'rang': 983, 'type_de_document': 'Bande dessinée jeunesse', 'reservations': 56.0, 'titre': 'Chaperlipopette !', 'auteur': 'Mr Tan'}, {'rang': 992, 'type_de_document': 'Livre adulte', 'reservations': 56.0, 'titre': 'Tout comprendre (ou presque) sur le climat', 'auteur': 'BonPote'}, {'rang': 5, 'type_de_document': 'Livre adulte', 'reservations': 755.0, 'titre': 'La décision : roman', 'auteur': 'Tuil,  Karine'}, {'rang': 25, 'type_de_document': 'Livre adulte', 'reservations': 398.0, 'titre': 'Dans les brumes de Capelans', 'auteur': 'Norek,  Olivier'}, {'rang': 28, 'type_de_document': 'Livre adulte', 'reservations': 367.0, 'titre': \"Ton absence n'est que ténèbres : roman\", 'auteur': 'Jón Kalman Stefánsson'}, {'rang': 33, 'type_de_document': 'Livre adulte', 'reservations': 345.0, 'titre': 'Vivre avec nos morts : petit traité de consolation', 'auteur': 'Horvilleur,  Delphine'}, {'rang': 61, 'type_de_document': None, 'reservations': 261.0, 'titre': 'Faites votre glucose révolution : la formule scientifique efficace pour perdre du poids et retrouver votre énergie', 'auteur': 'Inchauspé,  Jessie'}, {'rang': 72, 'type_de_document': 'Livre adulte', 'reservations': 246.0, 'titre': 'Le pays des autres : roman', 'auteur': 'Slimani,  Leïla'}, {'rang': 75, 'type_de_document': 'Livre adulte', 'reservations': 239.0, 'titre': 'La France sous nos yeux : économie, paysages, nouveaux modes de vie', 'auteur': 'Fourquet,  Jérôme'}, {'rang': 102, 'type_de_document': 'Livre adulte', 'reservations': 200.0, 'titre': \"Les grandes oubliées : pourquoi l'histoire a effacé les femmes\", 'auteur': 'Lecoq,  Titiou'}, {'rang': 141, 'type_de_document': 'DVD nouveautés tous publics', 'reservations': 167.0, 'titre': 'Madres paralelas', 'auteur': None}, {'rang': 162, 'type_de_document': 'Bande dessinée ado', 'reservations': 156.0, 'titre': 'Naruto. 1', 'auteur': 'Kishimoto,  Masashi'}, {'rang': 217, 'type_de_document': 'Nouveauté', 'reservations': 132.0, 'titre': 'Les masques éphémères', 'auteur': 'Leon,  Donna'}, {'rang': 221, 'type_de_document': 'Livre adulte', 'reservations': 130.0, 'titre': 'Tant que le café est encore chaud : roman', 'auteur': 'Kawaguchi,  Toshikazu'}, {'rang': 229, 'type_de_document': 'DVD tous publics', 'reservations': 128.0, 'titre': 'Les  promesses', 'auteur': None}, {'rang': 233, 'type_de_document': 'Nouveauté', 'reservations': 127.0, 'titre': 'Des vivants', 'auteur': 'Meltz,  Raphaël'}, {'rang': 262, 'type_de_document': 'Bande dessinée jeunesse', 'reservations': 118.0, 'titre': 'My hero academia. 4. Celui qui avait tout', 'auteur': 'Horikoshi,  Kohei'}, {'rang': 275, 'type_de_document': 'Nouveauté', 'reservations': 114.0, 'titre': 'Madame Hayat', 'auteur': 'Altan,  Ahmet'}, {'rang': 296, 'type_de_document': 'Bande dessinée ado', 'reservations': 109.0, 'titre': 'Naruto. 13', 'auteur': 'Kishimoto,  Masashi'}, {'rang': 329, 'type_de_document': 'Bande dessinée jeunesse', 'reservations': 104.0, 'titre': 'Tiens bon !!', 'auteur': 'Oda,  Eiichiro'}, {'rang': 333, 'type_de_document': None, 'reservations': 103.0, 'titre': \"Les méduses n'ont pas d'oreilles : roman\", 'auteur': 'Rosenfeld,  Adèle'}, {'rang': 352, 'type_de_document': 'Bande dessinée ado', 'reservations': 101.0, 'titre': 'Naruto. 12', 'auteur': 'Kishimoto,  Masashi'}, {'rang': 366, 'type_de_document': 'Bande dessinée adulte', 'reservations': 99.0, 'titre': 'Choses sérieuses', 'auteur': 'Oseman,  Alice'}, {'rang': 370, 'type_de_document': 'Bande dessinée jeunesse', 'reservations': 98.0, 'titre': 'Demon slayer : Kimetsu no yaiba. 12', 'auteur': 'Gotouge,  Koyoharu'}, {'rang': 407, 'type_de_document': 'Bande dessinée jeunesse', 'reservations': 94.0, 'titre': 'Coeur du passé', 'auteur': 'Sobral,  Patrick'}, {'rang': 416, 'type_de_document': 'Livre adulte', 'reservations': 92.0, 'titre': 'Chavirer : roman', 'auteur': 'Lafon,  Lola'}, {'rang': 446, 'type_de_document': 'DVD nouveautés tous publics', 'reservations': 89.0, 'titre': 'Eugénie Grandet', 'auteur': None}, {'rang': 503, 'type_de_document': 'Bande dessinée adulte', 'reservations': 84.0, 'titre': 'The promised Neverland. 14', 'auteur': 'Shirai,  Kaiu'}, {'rang': 564, 'type_de_document': 'Livre ado', 'reservations': 79.0, 'titre': 'Le roi maléfique', 'auteur': 'Black,  Holly'}, {'rang': 572, 'type_de_document': None, 'reservations': 79.0, 'titre': \"La fin d'une ère\", 'auteur': 'Howard,  Elizabeth Jane'}, {'rang': 626, 'type_de_document': 'Livre jeunesse', 'reservations': 74.0, 'titre': 'Harry Potter et la chambre des secrets', 'auteur': 'Rowling,  Joanne Kathleen'}, {'rang': 630, 'type_de_document': None, 'reservations': 74.0, 'titre': 'Les dieux sont amour', 'auteur': 'Sobral,  Patrick'}, {'rang': 637, 'type_de_document': None, 'reservations': 73.0, 'titre': 'The promised Neverland. 13', 'auteur': 'Shirai,  Kaiu'}, {'rang': 647, 'type_de_document': None, 'reservations': 73.0, 'titre': 'Vernon Subutex. 1', 'auteur': 'Despentes,  Virginie'}, {'rang': 677, 'type_de_document': 'Bande dessinée jeunesse', 'reservations': 71.0, 'titre': 'One Piece. 55. Des travs en enfer', 'auteur': 'Oda,  Eiichiro'}, {'rang': 682, 'type_de_document': None, 'reservations': 70.0, 'titre': \"C'est comme ça que je disparais\", 'auteur': 'Malle,  Mirion'}, {'rang': 690, 'type_de_document': 'DVD nouveautés tous publics', 'reservations': 70.0, 'titre': 'Twist à Bamako', 'auteur': None}, {'rang': 719, 'type_de_document': 'Livre adulte', 'reservations': 68.0, 'titre': 'Kilomètre zéro : le chemin du bonheur', 'auteur': 'Ankaoua,  Maud'}, {'rang': 726, 'type_de_document': 'Nouveauté', 'reservations': 68.0, 'titre': 'Solo leveling. 5', 'auteur': 'Chugong'}, {'rang': 732, 'type_de_document': 'Bande dessinée ado', 'reservations': 68.0, 'titre': 'Naruto. 30', 'auteur': 'Kishimoto,  Masashi'}, {'rang': 757, 'type_de_document': 'Bande dessinée jeunesse', 'reservations': 67.0, 'titre': \"L'opération Dressrosa S.O.P.\", 'auteur': 'Oda,  Eiichiro'}, {'rang': 759, 'type_de_document': 'Bande dessinée adulte', 'reservations': 66.0, 'titre': 'The promised neverland. 1', 'auteur': 'Shirai,  Kaiu'}, {'rang': 762, 'type_de_document': 'Nouveauté', 'reservations': 66.0, 'titre': 'La vérité sur la lumière', 'auteur': 'Auður Ava Ólafsdóttir'}, {'rang': 769, 'type_de_document': 'Bande dessinée ado', 'reservations': 66.0, 'titre': 'Naruto. 21', 'auteur': 'Kishimoto,  Masashi'}, {'rang': 799, 'type_de_document': 'Livre adulte', 'reservations': 64.0, 'titre': 'Pouilles', 'auteur': None}, {'rang': 801, 'type_de_document': 'Bande dessinée jeunesse', 'reservations': 64.0, 'titre': 'Blue lock. 1', 'auteur': 'Kaneshiro,  Muneyuki'}]}\n"
     ]
    }
   ],
   "source": [
    "wb_bibli = response.json()  # Utilisation de .json() sur l'objet réponse\n",
    "print(\"Structure du JSON :\")\n",
    "print(wb_bibli)"
   ]
  },
  {
   "cell_type": "markdown",
   "metadata": {},
   "source": [
    "Création du dataframe.\n",
    "On remarque qu'il y a parfois des catégories qui ne donnent pas assez d'information sur le type d'ouvrage, à l'image de \"Nouveauté\", ou encore de \"None\". Nous pensons qu'il peut être pertinent d'étudier l'impact différé des prix et de l'exposition sur Youtube selon le genre d'ouvrage , dans la limite du possible. Ainsi, nous avons décidé d'utiliser des méthodes de scraping pour compléter la base. Avant de faire cela, nous avons décidé d'enlever de la base tous les ouvrages de type DVDs, ces derniers ne nous intéressant pas dans le cadre de notre projet."
   ]
  },
  {
   "cell_type": "code",
   "execution_count": 51,
   "metadata": {},
   "outputs": [
    {
     "data": {
      "text/html": [
       "<div>\n",
       "<style scoped>\n",
       "    .dataframe tbody tr th:only-of-type {\n",
       "        vertical-align: middle;\n",
       "    }\n",
       "\n",
       "    .dataframe tbody tr th {\n",
       "        vertical-align: top;\n",
       "    }\n",
       "\n",
       "    .dataframe thead th {\n",
       "        text-align: right;\n",
       "    }\n",
       "</style>\n",
       "<table border=\"1\" class=\"dataframe\">\n",
       "  <thead>\n",
       "    <tr style=\"text-align: right;\">\n",
       "      <th></th>\n",
       "      <th>rang</th>\n",
       "      <th>type_de_document</th>\n",
       "      <th>reservations</th>\n",
       "      <th>titre</th>\n",
       "      <th>auteur</th>\n",
       "    </tr>\n",
       "  </thead>\n",
       "  <tbody>\n",
       "    <tr>\n",
       "      <th>0</th>\n",
       "      <td>12</td>\n",
       "      <td>Livre adulte</td>\n",
       "      <td>522.0</td>\n",
       "      <td>Réinventer l'amour : comment le patriarcat sab...</td>\n",
       "      <td>Chollet,  Mona</td>\n",
       "    </tr>\n",
       "    <tr>\n",
       "      <th>1</th>\n",
       "      <td>13</td>\n",
       "      <td>Bande dessinée adulte</td>\n",
       "      <td>521.0</td>\n",
       "      <td>Le jeune acteur</td>\n",
       "      <td>Sattouf,  Riad</td>\n",
       "    </tr>\n",
       "    <tr>\n",
       "      <th>2</th>\n",
       "      <td>14</td>\n",
       "      <td>Bande dessinée adulte</td>\n",
       "      <td>510.0</td>\n",
       "      <td>Une jeunesse au Moyen-Orient, 1992-1994</td>\n",
       "      <td>Sattouf,  Riad</td>\n",
       "    </tr>\n",
       "    <tr>\n",
       "      <th>3</th>\n",
       "      <td>37</td>\n",
       "      <td>DVD tous publics</td>\n",
       "      <td>337.0</td>\n",
       "      <td>Dune</td>\n",
       "      <td>None</td>\n",
       "    </tr>\n",
       "    <tr>\n",
       "      <th>4</th>\n",
       "      <td>58</td>\n",
       "      <td>DVD tous publics</td>\n",
       "      <td>266.0</td>\n",
       "      <td>Onoda. 10 000 nuits dans la jungle</td>\n",
       "      <td>None</td>\n",
       "    </tr>\n",
       "    <tr>\n",
       "      <th>5</th>\n",
       "      <td>73</td>\n",
       "      <td>Nouveauté</td>\n",
       "      <td>241.0</td>\n",
       "      <td>Chien 51 : roman</td>\n",
       "      <td>Gaudé,  Laurent</td>\n",
       "    </tr>\n",
       "    <tr>\n",
       "      <th>6</th>\n",
       "      <td>87</td>\n",
       "      <td>Livre adulte</td>\n",
       "      <td>225.0</td>\n",
       "      <td>Le gosse : roman</td>\n",
       "      <td>Olmi,  Véronique</td>\n",
       "    </tr>\n",
       "    <tr>\n",
       "      <th>7</th>\n",
       "      <td>109</td>\n",
       "      <td>Bande dessinée jeunesse</td>\n",
       "      <td>196.0</td>\n",
       "      <td>Attaque au clair de lune</td>\n",
       "      <td>Oda,  Eiichiro</td>\n",
       "    </tr>\n",
       "    <tr>\n",
       "      <th>8</th>\n",
       "      <td>125</td>\n",
       "      <td>DVD nouveautés tous publics</td>\n",
       "      <td>177.0</td>\n",
       "      <td>West Side Story</td>\n",
       "      <td>None</td>\n",
       "    </tr>\n",
       "    <tr>\n",
       "      <th>9</th>\n",
       "      <td>136</td>\n",
       "      <td>None</td>\n",
       "      <td>170.0</td>\n",
       "      <td>Etés anglais</td>\n",
       "      <td>Howard,  Elizabeth Jane</td>\n",
       "    </tr>\n",
       "    <tr>\n",
       "      <th>10</th>\n",
       "      <td>139</td>\n",
       "      <td>Bande dessinée adulte</td>\n",
       "      <td>168.0</td>\n",
       "      <td>Zaï zaï zaï zaï</td>\n",
       "      <td>Fabcaro</td>\n",
       "    </tr>\n",
       "    <tr>\n",
       "      <th>11</th>\n",
       "      <td>145</td>\n",
       "      <td>Bande dessinée adulte</td>\n",
       "      <td>164.0</td>\n",
       "      <td>Les piliers de la civilisation</td>\n",
       "      <td>Harari,  Yuval Noah</td>\n",
       "    </tr>\n",
       "  </tbody>\n",
       "</table>\n",
       "</div>"
      ],
      "text/plain": [
       "    rang             type_de_document  reservations  \\\n",
       "0     12                 Livre adulte         522.0   \n",
       "1     13        Bande dessinée adulte         521.0   \n",
       "2     14        Bande dessinée adulte         510.0   \n",
       "3     37             DVD tous publics         337.0   \n",
       "4     58             DVD tous publics         266.0   \n",
       "5     73                    Nouveauté         241.0   \n",
       "6     87                 Livre adulte         225.0   \n",
       "7    109      Bande dessinée jeunesse         196.0   \n",
       "8    125  DVD nouveautés tous publics         177.0   \n",
       "9    136                         None         170.0   \n",
       "10   139        Bande dessinée adulte         168.0   \n",
       "11   145        Bande dessinée adulte         164.0   \n",
       "\n",
       "                                                titre                   auteur  \n",
       "0   Réinventer l'amour : comment le patriarcat sab...           Chollet,  Mona  \n",
       "1                                     Le jeune acteur           Sattouf,  Riad  \n",
       "2             Une jeunesse au Moyen-Orient, 1992-1994           Sattouf,  Riad  \n",
       "3                                                Dune                     None  \n",
       "4                  Onoda. 10 000 nuits dans la jungle                     None  \n",
       "5                                    Chien 51 : roman          Gaudé,  Laurent  \n",
       "6                                    Le gosse : roman         Olmi,  Véronique  \n",
       "7                            Attaque au clair de lune           Oda,  Eiichiro  \n",
       "8                                     West Side Story                     None  \n",
       "9                                        Etés anglais  Howard,  Elizabeth Jane  \n",
       "10                                    Zaï zaï zaï zaï                  Fabcaro  \n",
       "11                     Les piliers de la civilisation      Harari,  Yuval Noah  "
      ]
     },
     "execution_count": 51,
     "metadata": {},
     "output_type": "execute_result"
    }
   ],
   "source": [
    "import pandas as pd\n",
    "df_bibli= pd.json_normalize(wb['results'])\n",
    "df_bibli.head(12)"
   ]
  },
  {
   "cell_type": "markdown",
   "metadata": {},
   "source": [
    "Tout d'abord, il est nécessaire de prendre connaissance de toutes les catégories pour savoir lesquelles remplacer, desquelles se débarasser..."
   ]
  },
  {
   "cell_type": "code",
   "execution_count": 52,
   "metadata": {},
   "outputs": [
    {
     "name": "stdout",
     "output_type": "stream",
     "text": [
      "['Livre adulte' 'Bande dessinée adulte' 'DVD tous publics' 'Nouveauté'\n",
      " 'Bande dessinée jeunesse' 'DVD nouveautés tous publics' None\n",
      " 'Nouveauté jeunesse' 'Bande dessinée ado' 'Livre ado' 'Livre jeunesse']\n"
     ]
    }
   ],
   "source": [
    "print(df_bibli[\"type_de_document\"].unique())"
   ]
  },
  {
   "cell_type": "markdown",
   "metadata": {},
   "source": [
    "Comme annoncé, on ne garde que les catégories qui nous intéresse ci-dessous."
   ]
  },
  {
   "cell_type": "code",
   "execution_count": 53,
   "metadata": {},
   "outputs": [],
   "source": [
    "doc = [\"Livre adulte\", \"Bande dessinée adulte\", \"Nouveauté\", \"Bande dessinée jeunesse\", \"Nouveauté jeunesse\",\n",
    " \"Bande dessinée ado\", \"Livre ado\", \"Livre jeunesse\", None]\n",
    "df_bibli= df_bibli[df_bibli[\"type_de_document\"].isin(doc)]"
   ]
  },
  {
   "cell_type": "code",
   "execution_count": 54,
   "metadata": {},
   "outputs": [
    {
     "data": {
      "text/html": [
       "<div>\n",
       "<style scoped>\n",
       "    .dataframe tbody tr th:only-of-type {\n",
       "        vertical-align: middle;\n",
       "    }\n",
       "\n",
       "    .dataframe tbody tr th {\n",
       "        vertical-align: top;\n",
       "    }\n",
       "\n",
       "    .dataframe thead th {\n",
       "        text-align: right;\n",
       "    }\n",
       "</style>\n",
       "<table border=\"1\" class=\"dataframe\">\n",
       "  <thead>\n",
       "    <tr style=\"text-align: right;\">\n",
       "      <th></th>\n",
       "      <th>rang</th>\n",
       "      <th>type_de_document</th>\n",
       "      <th>reservations</th>\n",
       "      <th>titre</th>\n",
       "      <th>auteur</th>\n",
       "    </tr>\n",
       "  </thead>\n",
       "  <tbody>\n",
       "    <tr>\n",
       "      <th>0</th>\n",
       "      <td>12</td>\n",
       "      <td>Livre adulte</td>\n",
       "      <td>522.0</td>\n",
       "      <td>Réinventer l'amour : comment le patriarcat sab...</td>\n",
       "      <td>Chollet,  Mona</td>\n",
       "    </tr>\n",
       "    <tr>\n",
       "      <th>1</th>\n",
       "      <td>13</td>\n",
       "      <td>Bande dessinée adulte</td>\n",
       "      <td>521.0</td>\n",
       "      <td>Le jeune acteur</td>\n",
       "      <td>Sattouf,  Riad</td>\n",
       "    </tr>\n",
       "    <tr>\n",
       "      <th>2</th>\n",
       "      <td>14</td>\n",
       "      <td>Bande dessinée adulte</td>\n",
       "      <td>510.0</td>\n",
       "      <td>Une jeunesse au Moyen-Orient, 1992-1994</td>\n",
       "      <td>Sattouf,  Riad</td>\n",
       "    </tr>\n",
       "    <tr>\n",
       "      <th>5</th>\n",
       "      <td>73</td>\n",
       "      <td>Nouveauté</td>\n",
       "      <td>241.0</td>\n",
       "      <td>Chien 51 : roman</td>\n",
       "      <td>Gaudé,  Laurent</td>\n",
       "    </tr>\n",
       "    <tr>\n",
       "      <th>6</th>\n",
       "      <td>87</td>\n",
       "      <td>Livre adulte</td>\n",
       "      <td>225.0</td>\n",
       "      <td>Le gosse : roman</td>\n",
       "      <td>Olmi,  Véronique</td>\n",
       "    </tr>\n",
       "  </tbody>\n",
       "</table>\n",
       "</div>"
      ],
      "text/plain": [
       "   rang       type_de_document  reservations  \\\n",
       "0    12           Livre adulte         522.0   \n",
       "1    13  Bande dessinée adulte         521.0   \n",
       "2    14  Bande dessinée adulte         510.0   \n",
       "5    73              Nouveauté         241.0   \n",
       "6    87           Livre adulte         225.0   \n",
       "\n",
       "                                               titre            auteur  \n",
       "0  Réinventer l'amour : comment le patriarcat sab...    Chollet,  Mona  \n",
       "1                                    Le jeune acteur    Sattouf,  Riad  \n",
       "2            Une jeunesse au Moyen-Orient, 1992-1994    Sattouf,  Riad  \n",
       "5                                   Chien 51 : roman   Gaudé,  Laurent  \n",
       "6                                   Le gosse : roman  Olmi,  Véronique  "
      ]
     },
     "execution_count": 54,
     "metadata": {},
     "output_type": "execute_result"
    }
   ],
   "source": [
    "df_bibli.head(5)"
   ]
  },
  {
   "cell_type": "markdown",
   "metadata": {},
   "source": [
    "On voit qu'il y a beaucoup de livres dans notre base dont le type n'est pas renseigné."
   ]
  },
  {
   "cell_type": "code",
   "execution_count": 55,
   "metadata": {},
   "outputs": [
    {
     "name": "stdout",
     "output_type": "stream",
     "text": [
      "    rang    type_de_document  reservations  \\\n",
      "5     73           Nouveauté         241.0   \n",
      "9    136                None         170.0   \n",
      "16   360                None         100.0   \n",
      "19   394  Nouveauté jeunesse          95.0   \n",
      "20   399           Nouveauté          95.0   \n",
      "22   425  Nouveauté jeunesse          91.0   \n",
      "29   501                None          84.0   \n",
      "34   672           Nouveauté          71.0   \n",
      "39   718                None          69.0   \n",
      "40   720  Nouveauté jeunesse          68.0   \n",
      "45   840                None          62.0   \n",
      "46   860                None          61.0   \n",
      "49   910           Nouveauté          60.0   \n",
      "51   945           Nouveauté          58.0   \n",
      "52   949           Nouveauté          58.0   \n",
      "60    61                None         261.0   \n",
      "66   217           Nouveauté         132.0   \n",
      "69   233           Nouveauté         127.0   \n",
      "71   275           Nouveauté         114.0   \n",
      "74   333                None         103.0   \n",
      "83   572                None          79.0   \n",
      "85   630                None          74.0   \n",
      "86   637                None          73.0   \n",
      "87   647                None          73.0   \n",
      "89   682                None          70.0   \n",
      "92   726           Nouveauté          68.0   \n",
      "96   762           Nouveauté          66.0   \n",
      "\n",
      "                                                titre                   auteur  \n",
      "5                                    Chien 51 : roman          Gaudé,  Laurent  \n",
      "9                                        Etés anglais  Howard,  Elizabeth Jane  \n",
      "16  Et à la fin, ils meurent : la sale vérité sur ...              Lubie,  Lou  \n",
      "19      My hero academia. 8. Momo Yaoyorozu : l'envol        Horikoshi,  Kohei  \n",
      "20                                 Le poids des héros             Sala,  David  \n",
      "22  My hero academia. 5. Shoto Todoroki : les orig...        Horikoshi,  Kohei  \n",
      "29                          The promised neverland. 8            Shirai,  Kaiu  \n",
      "34                                     Bonnet d'âne !            Beaton,  M.C.  \n",
      "39                                    Si seulement...          Dequier,  Bruno  \n",
      "40       My hero academia. 15. Lutte contre le destin        Horikoshi,  K?hei  \n",
      "45                                    Le consentement      Springora,  Vanessa  \n",
      "46                                          La maison            Becker,  Emma  \n",
      "49                      Journal inquiet d'Istanbul. 1        Karabulut,  Ersin  \n",
      "51                                  Croire aux fauves       Martin,  Nastassja  \n",
      "52                                   Solo leveling. 3                  Chugong  \n",
      "60  Faites votre glucose révolution : la formule s...       Inchauspé,  Jessie  \n",
      "66                              Les masques éphémères             Leon,  Donna  \n",
      "69                                        Des vivants          Meltz,  Raphaël  \n",
      "71                                       Madame Hayat            Altan,  Ahmet  \n",
      "74           Les méduses n'ont pas d'oreilles : roman        Rosenfeld,  Adèle  \n",
      "83                                   La fin d'une ère  Howard,  Elizabeth Jane  \n",
      "85                               Les dieux sont amour         Sobral,  Patrick  \n",
      "86                         The promised Neverland. 13            Shirai,  Kaiu  \n",
      "87                                  Vernon Subutex. 1     Despentes,  Virginie  \n",
      "89                    C'est comme ça que je disparais           Malle,  Mirion  \n",
      "92                                   Solo leveling. 5                  Chugong  \n",
      "96                           La vérité sur la lumière    Auður Ava Ólafsdóttir  \n"
     ]
    }
   ],
   "source": [
    "nouveau = [\"Nouveauté\", \"Nouveauté jeunesse\", None]\n",
    "df_bibli_nouveau =  df_bibli[df_bibli[\"type_de_document\"].isin(nouveau)]\n",
    "print(df_bibli_nouveau)"
   ]
  },
  {
   "cell_type": "markdown",
   "metadata": {},
   "source": [
    "Pour le scrapping, nous avons choisi de le faire sur livraddict puisqu'il s'agit d'un site où tous les titres sont en français, avec un type de fonction recherche pratique pour scrapper. Sur ce site sont de plus décrits tous les livres connus avec des catégorie toujours indiquées avec un code similaire.\n",
    "\n",
    "Pour ce faire, nous avons d'abord générer une URL de recherche sur livraddict. On scrappe la page pour récupérer l'URL du premier résultat de la recherche"
   ]
  },
  {
   "cell_type": "code",
   "execution_count": 56,
   "metadata": {},
   "outputs": [],
   "source": [
    "import requests\n",
    "from bs4 import BeautifulSoup\n",
    "\n",
    "# Fonction pour rechercher un livre sur Babelio et accéder à la page du premier résultat\n",
    "def search_livraddict(book_title):\n",
    "    # URL de recherche sur Livraddict\n",
    "    headers = {\n",
    "    'User-Agent': 'Mozilla/5.0 (Windows NT 10.0; Win64; x64) AppleWebKit/537.36 (KHTML, like Gecko) Chrome/91.0.4472.124 Safari/537.36'}\n",
    "    search_url = f'https://www.livraddict.com/search.php?t={book_title}]'\n",
    "\n",
    "    # Faire une requête pour récupérer la page des résultats de recherche\n",
    "    response = requests.get(search_url, headers=headers).content\n",
    "    # Trouver le premier élément correspondant au lien d'un résultat\n",
    "    page = BeautifulSoup(response, \"html.parser\")\n",
    "    first_result = page.select_one('.listing_recherche li .item_photo a')\n",
    "    if first_result is not None:\n",
    "        url = first_result['href']\n",
    "        full_url = f\"https://www.livraddict.com{url}\"\n",
    "        return full_url\n",
    "    else:\n",
    "        return None"
   ]
  },
  {
   "cell_type": "markdown",
   "metadata": {},
   "source": [
    "On scrappe cette fois la page du premier résultat de la recherche précédente pour trouver les informations du livre."
   ]
  },
  {
   "cell_type": "code",
   "execution_count": 57,
   "metadata": {},
   "outputs": [],
   "source": [
    "def type_livre(info):\n",
    "    if info is None:\n",
    "        type_livre=\"Nom du livre pas trouvé sur Livraddict\"\n",
    "    else:\n",
    "        # Normaliser les chaînes (supprimer les espaces et convertir en minuscules)\n",
    "        info_0_normalized = info[0].strip().lower()\n",
    "        info_1_normalized = info[1].strip().lower()\n",
    "\n",
    "        if info_0_normalized in [\"album\", \"artbook/beau livre\", \"bande-dessinée\", \"comics\", \"manga\"] and info_1_normalized in [\"petite enfance\", \"enfance\"]:\n",
    "            type_livre = \"Bande dessinée jeunesse\"\n",
    "\n",
    "        elif info_0_normalized in [\"album\", \"artbook/beau livre\", \"bande-dessinée\", \"comics\", \"manga\"] and info_1_normalized in [\"adolescence\"]:\n",
    "            type_livre = \"Bande dessinée ado\"\n",
    "\n",
    "        elif info_0_normalized in [\"album\", \"artbook/beau livre\", \"bande-dessinée\", \"comics\", \"manga\"] and info_1_normalized in [\"young adult\", \"adulte\"]:\n",
    "            type_livre = \"Bande dessinée ado\"\n",
    "\n",
    "        elif info_0_normalized in [\"correspondance\", \"documentaire\", \"essai\", \"livre pratique\", \"nouvelle(s)\", \"poésie\", \"roman\", \"théâtre\"] and info_1_normalized in [\"petite enfance\", \"enfance\"]:\n",
    "            type_livre = \"Livre jeunesse\"\n",
    "\n",
    "        elif info_0_normalized in [\"correspondance\", \"documentaire\", \"essai\", \"livre pratique\", \"nouvelle(s)\", \"poésie\", \"roman\", \"théâtre\"] and info_1_normalized in [\"adolescence\"]:\n",
    "            type_livre = \"Livre ado\"\n",
    "\n",
    "        elif info_0_normalized in [\"correspondance\", \"documentaire\", \"essai\", \"livre pratique\", \"nouvelle(s)\", \"poésie\", \"roman\", \"théâtre\"] and info_1_normalized in [\"young adult\", \"adulte\"]:\n",
    "            type_livre = \"Livre adulte\"\n",
    "\n",
    "        else: type_livre= \"Introuvable\"\n",
    "    return type_livre\n"
   ]
  },
  {
   "cell_type": "code",
   "execution_count": 36,
   "metadata": {},
   "outputs": [],
   "source": [
    "def obtain_type(url):\n",
    "    if url is not None:\n",
    "        headers = {\n",
    "        'User-Agent': 'Mozilla/5.0 (Windows NT 10.0; Win64; x64) AppleWebKit/537.36 (KHTML, like Gecko) Chrome/91.0.4472.124 Safari/537.36'}\n",
    "        response = requests.get(url, headers=headers).content\n",
    "        page = BeautifulSoup(response, \"html.parser\")\n",
    "        c_format= page.find(\"div\", class_= \"book_classif book_format mr1\")\n",
    "        c_lectorat= page.find(\"div\", class_=\"book_classif book_lectorat mr1\")\n",
    "        if c_format:\n",
    "            a_format = c_format.find(\"a\")\n",
    "            format_livre = a_format.text\n",
    "        else:\n",
    "            format_livre = \"Non renseigné\"\n",
    "        if c_lectorat:\n",
    "            a_lectorat = c_lectorat.find(\"a\")\n",
    "            lectorat = a_lectorat.text\n",
    "        else: \n",
    "            lectorat = \"Non renseigné\"\n",
    "        info = [format_livre, lectorat]\n",
    "        return info\n",
    "    else:\n",
    "        return None"
   ]
  },
  {
   "cell_type": "markdown",
   "metadata": {},
   "source": [
    "Création d'une fonction qui assemble ces deux fonctions pour qu'à partir seulement d'un titre, on obtienne le type du livre."
   ]
  },
  {
   "cell_type": "code",
   "execution_count": 37,
   "metadata": {},
   "outputs": [],
   "source": [
    "def search_type_livre(titre):\n",
    "    livre = titre.split()\n",
    "    titre_livre = \"\"\n",
    "    for i in range(0, len(livre) - 1):\n",
    "        titre_livre = titre_livre + livre[i] + \"+\"\n",
    "    titre_livre = titre_livre + livre[len(livre)-1]\n",
    "    url = search_livraddict(titre_livre)\n",
    "    infos = obtain_type(url)\n",
    "    type_de_livre = type_livre(infos)\n",
    "    return type_de_livre"
   ]
  },
  {
   "cell_type": "markdown",
   "metadata": {},
   "source": [
    "Maintenant, on définit pour quel type de titre quelle fonction s'applique et pour quels livres on va chercher leur type."
   ]
  },
  {
   "cell_type": "code",
   "execution_count": 38,
   "metadata": {},
   "outputs": [],
   "source": [
    "def apply_search(row):\n",
    "    nouveau = [\"Nouveauté\", \"Nouveauté jeunesse\", None]\n",
    "    if row[\"type_de_document\"] in nouveau:\n",
    "        parties = row[\"titre\"].split(\".\")\n",
    "        parties_bis = row[\"titre\"].split(\":\")\n",
    "\n",
    "        #pour les séries avec nom de série, numéro tome, nom du tome\n",
    "        if len(parties)==3:\n",
    "            saga = parties[0].strip()\n",
    "            tome = parties[1].strip()\n",
    "            nom = parties[2].strip()\n",
    "            if int(tome) < 10:\n",
    "                type_de_livre = search_type_livre(saga+\"+\"+\"tome\"+\"+\"+\"0\"+tome)\n",
    "                if type_de_livre == \"Nom du livre pas trouvé sur Livraddict\":\n",
    "                    type_de_livre = search_type_livre(saga+\"+\"+\"tome\"+\"+\"+tome)\n",
    "            elif int(tome)>= 10:\n",
    "                type_de_livre = search_type_livre(saga+\"+\"+\"tome\"+\"+\"+tome)\n",
    "        \n",
    "        #pour les séries avec que nom de série et numéro de tome\n",
    "        elif len(parties)==2:\n",
    "            saga = parties[0].strip()\n",
    "            tome = parties[1].strip()\n",
    "            if int(tome) < 10:\n",
    "                type_de_livre = search_type_livre(saga+\"+\"+\"tome\"+\"+\"+\"0\"+tome)\n",
    "                if type_de_livre == \"Nom du livre pas trouvé sur Livraddict\":\n",
    "                    type_de_livre = search_type_livre(saga+\"+\"+\"tome\"+\"+\"+tome)\n",
    "            elif int(tome)>= 10:\n",
    "                type_de_livre = search_type_livre(saga+\"+\"+\"tome\"+\"+\"+tome)\n",
    "        \n",
    "        #pour les livre où il y a écrit le genre après le titre\n",
    "        elif len(parties_bis) == 2:\n",
    "            type_de_livre = search_type_livre(row[\"titre\"])\n",
    "            if type_de_livre == \"Nom du livre pas trouvé sur Livraddict\":\n",
    "                nom = parties_bis[0].strip()\n",
    "                type_de_livre = search_type_livre(nom)\n",
    "\n",
    "        else:\n",
    "            type_de_livre = search_type_livre(row[\"titre\"])\n",
    "        return type_de_livre\n",
    "\n",
    "\n",
    "    else:\n",
    "        return row[\"type_de_document\"]"
   ]
  },
  {
   "cell_type": "markdown",
   "metadata": {},
   "source": [
    "On applique enfin la fonction à notre dataframe."
   ]
  },
  {
   "cell_type": "code",
   "execution_count": 58,
   "metadata": {},
   "outputs": [],
   "source": [
    "df_bibli['type_de_document'] = df_bibli.apply(apply_search, axis=1)"
   ]
  },
  {
   "cell_type": "markdown",
   "metadata": {},
   "source": [
    "On regarde si des livres n'ont pas été trouvés. On remarque que tous les types de livre ont bien été trouvé ! Hourra"
   ]
  },
  {
   "cell_type": "code",
   "execution_count": 40,
   "metadata": {},
   "outputs": [
    {
     "name": "stdout",
     "output_type": "stream",
     "text": [
      "Empty DataFrame\n",
      "Columns: [rang, type_de_document, reservations, titre, auteur]\n",
      "Index: []\n"
     ]
    }
   ],
   "source": [
    "erreur_recherche = [\"Nom du livre pas trouvé sur Livraddict\"]\n",
    "df_bibli_erreur =  df_bibli[df_bibli[\"type_de_document\"].isin(erreur_recherche)]\n",
    "print(df_bibli_erreur)"
   ]
  },
  {
   "cell_type": "code",
   "execution_count": 41,
   "metadata": {},
   "outputs": [
    {
     "name": "stdout",
     "output_type": "stream",
     "text": [
      "Empty DataFrame\n",
      "Columns: [rang, type_de_document, reservations, titre, auteur]\n",
      "Index: []\n"
     ]
    }
   ],
   "source": [
    "autre_erreur = [\"Introuvable\"]\n",
    "df_bibli_int =  df_bibli[df_bibli[\"type_de_document\"].isin(erreur_recherche)]\n",
    "print(df_bibli_int)"
   ]
  },
  {
   "cell_type": "markdown",
   "metadata": {},
   "source": [
    "Maintenant, on veut réordonner la base de manière à pouvoir mettre des rangs sans trous dans les numéros sur cette dernière. On commence pour ce faire par l'ordonner selon le rang, afin ensuite de numéroter les lignes dans l'ordre d'affichage."
   ]
  },
  {
   "cell_type": "code",
   "execution_count": 60,
   "metadata": {},
   "outputs": [],
   "source": [
    "df_bibli = df_bibli.sort_values(by=\"rang\")\n",
    "df_bibli = df_bibli.reset_index(drop=True)"
   ]
  },
  {
   "cell_type": "code",
   "execution_count": 61,
   "metadata": {},
   "outputs": [
    {
     "name": "stdout",
     "output_type": "stream",
     "text": [
      "86\n"
     ]
    }
   ],
   "source": [
    "nb_books = df_bibli[df_bibli['titre'].notna()].shape[0]\n",
    "print(nb_books)"
   ]
  },
  {
   "cell_type": "code",
   "execution_count": 62,
   "metadata": {},
   "outputs": [],
   "source": [
    "df_bibli['classement'] = None  # Initialiser avec None\n",
    "\n",
    "# Remplir `classement` uniquement jusqu'à l'index 85\n",
    "max_index = 85  # Exemple d'index limite\n",
    "df_bibli.loc[df_bibli.index <= max_index, 'classement'] = range(1, min(len(df_bibli), max_index + 1) + 1)"
   ]
  },
  {
   "cell_type": "markdown",
   "metadata": {},
   "source": [
    "On vérifie pour finir le début de notre base pour s'assurer que notre variable marche bien."
   ]
  },
  {
   "cell_type": "code",
   "execution_count": 63,
   "metadata": {},
   "outputs": [
    {
     "data": {
      "text/html": [
       "<div>\n",
       "<style scoped>\n",
       "    .dataframe tbody tr th:only-of-type {\n",
       "        vertical-align: middle;\n",
       "    }\n",
       "\n",
       "    .dataframe tbody tr th {\n",
       "        vertical-align: top;\n",
       "    }\n",
       "\n",
       "    .dataframe thead th {\n",
       "        text-align: right;\n",
       "    }\n",
       "</style>\n",
       "<table border=\"1\" class=\"dataframe\">\n",
       "  <thead>\n",
       "    <tr style=\"text-align: right;\">\n",
       "      <th></th>\n",
       "      <th>rang</th>\n",
       "      <th>type_de_document</th>\n",
       "      <th>reservations</th>\n",
       "      <th>titre</th>\n",
       "      <th>auteur</th>\n",
       "      <th>classement</th>\n",
       "    </tr>\n",
       "  </thead>\n",
       "  <tbody>\n",
       "    <tr>\n",
       "      <th>0</th>\n",
       "      <td>5</td>\n",
       "      <td>Livre adulte</td>\n",
       "      <td>755.0</td>\n",
       "      <td>La décision : roman</td>\n",
       "      <td>Tuil,  Karine</td>\n",
       "      <td>1</td>\n",
       "    </tr>\n",
       "    <tr>\n",
       "      <th>1</th>\n",
       "      <td>12</td>\n",
       "      <td>Livre adulte</td>\n",
       "      <td>522.0</td>\n",
       "      <td>Réinventer l'amour : comment le patriarcat sab...</td>\n",
       "      <td>Chollet,  Mona</td>\n",
       "      <td>2</td>\n",
       "    </tr>\n",
       "    <tr>\n",
       "      <th>2</th>\n",
       "      <td>13</td>\n",
       "      <td>Bande dessinée adulte</td>\n",
       "      <td>521.0</td>\n",
       "      <td>Le jeune acteur</td>\n",
       "      <td>Sattouf,  Riad</td>\n",
       "      <td>3</td>\n",
       "    </tr>\n",
       "    <tr>\n",
       "      <th>3</th>\n",
       "      <td>14</td>\n",
       "      <td>Bande dessinée adulte</td>\n",
       "      <td>510.0</td>\n",
       "      <td>Une jeunesse au Moyen-Orient, 1992-1994</td>\n",
       "      <td>Sattouf,  Riad</td>\n",
       "      <td>4</td>\n",
       "    </tr>\n",
       "    <tr>\n",
       "      <th>4</th>\n",
       "      <td>25</td>\n",
       "      <td>Livre adulte</td>\n",
       "      <td>398.0</td>\n",
       "      <td>Dans les brumes de Capelans</td>\n",
       "      <td>Norek,  Olivier</td>\n",
       "      <td>5</td>\n",
       "    </tr>\n",
       "    <tr>\n",
       "      <th>5</th>\n",
       "      <td>28</td>\n",
       "      <td>Livre adulte</td>\n",
       "      <td>367.0</td>\n",
       "      <td>Ton absence n'est que ténèbres : roman</td>\n",
       "      <td>Jón Kalman Stefánsson</td>\n",
       "      <td>6</td>\n",
       "    </tr>\n",
       "    <tr>\n",
       "      <th>6</th>\n",
       "      <td>33</td>\n",
       "      <td>Livre adulte</td>\n",
       "      <td>345.0</td>\n",
       "      <td>Vivre avec nos morts : petit traité de consola...</td>\n",
       "      <td>Horvilleur,  Delphine</td>\n",
       "      <td>7</td>\n",
       "    </tr>\n",
       "    <tr>\n",
       "      <th>7</th>\n",
       "      <td>61</td>\n",
       "      <td>Livre adulte</td>\n",
       "      <td>261.0</td>\n",
       "      <td>Faites votre glucose révolution : la formule s...</td>\n",
       "      <td>Inchauspé,  Jessie</td>\n",
       "      <td>8</td>\n",
       "    </tr>\n",
       "    <tr>\n",
       "      <th>8</th>\n",
       "      <td>72</td>\n",
       "      <td>Livre adulte</td>\n",
       "      <td>246.0</td>\n",
       "      <td>Le pays des autres : roman</td>\n",
       "      <td>Slimani,  Leïla</td>\n",
       "      <td>9</td>\n",
       "    </tr>\n",
       "    <tr>\n",
       "      <th>9</th>\n",
       "      <td>73</td>\n",
       "      <td>Livre adulte</td>\n",
       "      <td>241.0</td>\n",
       "      <td>Chien 51 : roman</td>\n",
       "      <td>Gaudé,  Laurent</td>\n",
       "      <td>10</td>\n",
       "    </tr>\n",
       "  </tbody>\n",
       "</table>\n",
       "</div>"
      ],
      "text/plain": [
       "   rang       type_de_document  reservations  \\\n",
       "0     5           Livre adulte         755.0   \n",
       "1    12           Livre adulte         522.0   \n",
       "2    13  Bande dessinée adulte         521.0   \n",
       "3    14  Bande dessinée adulte         510.0   \n",
       "4    25           Livre adulte         398.0   \n",
       "5    28           Livre adulte         367.0   \n",
       "6    33           Livre adulte         345.0   \n",
       "7    61           Livre adulte         261.0   \n",
       "8    72           Livre adulte         246.0   \n",
       "9    73           Livre adulte         241.0   \n",
       "\n",
       "                                               titre                 auteur  \\\n",
       "0                                La décision : roman          Tuil,  Karine   \n",
       "1  Réinventer l'amour : comment le patriarcat sab...         Chollet,  Mona   \n",
       "2                                    Le jeune acteur         Sattouf,  Riad   \n",
       "3            Une jeunesse au Moyen-Orient, 1992-1994         Sattouf,  Riad   \n",
       "4                        Dans les brumes de Capelans        Norek,  Olivier   \n",
       "5             Ton absence n'est que ténèbres : roman  Jón Kalman Stefánsson   \n",
       "6  Vivre avec nos morts : petit traité de consola...  Horvilleur,  Delphine   \n",
       "7  Faites votre glucose révolution : la formule s...     Inchauspé,  Jessie   \n",
       "8                         Le pays des autres : roman        Slimani,  Leïla   \n",
       "9                                   Chien 51 : roman        Gaudé,  Laurent   \n",
       "\n",
       "  classement  \n",
       "0          1  \n",
       "1          2  \n",
       "2          3  \n",
       "3          4  \n",
       "4          5  \n",
       "5          6  \n",
       "6          7  \n",
       "7          8  \n",
       "8          9  \n",
       "9         10  "
      ]
     },
     "execution_count": 63,
     "metadata": {},
     "output_type": "execute_result"
    }
   ],
   "source": [
    "df_bibli.head(10)"
   ]
  }
 ],
 "metadata": {
  "kernelspec": {
   "display_name": "base",
   "language": "python",
   "name": "python3"
  },
  "language_info": {
   "codemirror_mode": {
    "name": "ipython",
    "version": 3
   },
   "file_extension": ".py",
   "mimetype": "text/x-python",
   "name": "python",
   "nbconvert_exporter": "python",
   "pygments_lexer": "ipython3",
   "version": "3.12.7"
  }
 },
 "nbformat": 4,
 "nbformat_minor": 2
}
