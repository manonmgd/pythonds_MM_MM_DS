{
 "cells": [
  {
   "cell_type": "markdown",
   "metadata": {},
   "source": [
    "<div style=\"\n",
    "    font-family: 'Arial', sans-serif; \n",
    "    line-height: 1.6; \n",
    "    color: #333; \n",
    "    border-left: 4px solidrgb(236, 143, 229); \n",
    "    padding: 10px 15px; \n",
    "    background-color:rgb(235, 199, 230); \n",
    "    border-radius: 5px;\n",
    "\">\n",
    "    <h2 style=\"margin-top: 0; color:rgb(235, 0, 109);\">IMPORTS</h2>\n",
    "    <p>Cette section regroupe les bibliothèques nécessaires pour ce notebook. Assurez-vous que toutes sont bien installées avant de continuer :</p>\n",
    "    <ul>\n",
    "        <li><code>pandas</code> : Manipulation et analyse des données</li>\n",
    "        <li><code>requests</code> : Récupération de données à partir d'une API ou d'une page web.</li>\n",
    "        <li><code>BeautifulSoup</code> : Analyse et extraction des données de documents HTML et XML</li>\n",
    "        <li><code>re</code> : Recherche et manipulation des motifs dans des chaînes de caractères</li>\n",
    "        <li><code>time</code> : Fonctions liées au temps</li>\n",
    "        <li><code>numpy</code> : Bibliothèque pour le calcul numérique</li>\n",
    "</ul>\n",
    "    <p>Si des bibliothèques manquent, vous pouvez les installer avec <code>!pip install nom_bibliothèque</code>. Si cela ne marche toujours pas, pensez à redémarrer le kernel.</p>\n",
    "</div>"
   ]
  },
  {
   "cell_type": "code",
   "execution_count": 25,
   "metadata": {},
   "outputs": [],
   "source": [
    "import requests\n",
    "import pandas as pd\n",
    "from bs4 import BeautifulSoup as soup\n",
    "import re\n",
    "import time\n",
    "import numpy as np"
   ]
  },
  {
   "cell_type": "markdown",
   "metadata": {},
   "source": [
    "La première étape de notre travail a été de récupérer les diverses données dont nous avions besoin afin d'essayer d'estimer l'impact des influenceurs de Youtube mais aussi des prix sur les livres les plus lus."
   ]
  },
  {
   "cell_type": "markdown",
   "metadata": {},
   "source": [
    "# 0-"
   ]
  },
  {
   "cell_type": "markdown",
   "metadata": {},
   "source": [
    "<div style=\"\n",
    "    font-family: 'Arial', sans-serif; \n",
    "    text-align: center; \n",
    "    padding: 10px; \n",
    "    background-color:rgb(210, 199, 255); \n",
    "    color: black; \n",
    "    border-radius: 5px; \n",
    "    font-size: 1.5em;\n",
    "\">\n",
    "    <strong>PARTIE 0: Base du gouvernement</strong>\n",
    "</div>\n",
    "<p>On veut importer cette base afin d'avoir un indicatif du nombre de livre déposés chaque année pour comparer les chiffres de la représentation des livres primés ou bien notés par les internautes entre l'ensemble des livres et les livres populaires.</p>"
   ]
  },
  {
   "cell_type": "code",
   "execution_count": 59,
   "metadata": {},
   "outputs": [
    {
     "name": "stdout",
     "output_type": "stream",
     "text": [
      "Type de contenu : application/json; charset=utf-8\n"
     ]
    }
   ],
   "source": [
    "# on récupère les données de l'API du gouvernement sur le marché du livre\n",
    "response = requests.get(\"https://www.data.gouv.fr/fr/datasets/r/1103c9d1-fc05-497d-968a-0fa2e0cb5bb1\")\n",
    "\n",
    "# Afficher le type de contenu et le texte brut de la réponse\n",
    "print(\"Type de contenu :\", response.headers.get(\"Content-Type\"))"
   ]
  },
  {
   "cell_type": "code",
   "execution_count": 60,
   "metadata": {},
   "outputs": [
    {
     "name": "stdout",
     "output_type": "stream",
     "text": [
      "Structure du JSON :\n",
      "[{'annee': '2003', 'nombre_de_livres_deposes': 55302.0, 'nombre_de_titres_disponibles_titres_imprimes': None, 'nombre_de_titres_disponibles_titres_numeriques': None, 'production_commercialisee_nouveautes_et_nouvelles_editions_hors_auto_edition_edition_a_compte_d_aute': 44145.0, 'tirage_moyen': 7792.0, 'nombre_de_traductions_dans_la_production_commercialisee_de_livres_imprimes': None, 'nombre_de_traductions_dans_la_production_commercialisee_de_livres_imprimes_anglais': None, 'nombre_de_traductions_dans_la_production_commercialisee_de_livres_imprimes_espagnol': None, 'nombre_de_traductions_dans_la_production_commercialisee_de_livres_imprimes_germanique': None, 'nombre_de_traductions_dans_la_production_commercialisee_de_livres_imprimes_italien': None, 'nombre_de_traductions_dans_la_production_commercialisee_de_livres_imprimes_japonais': None, 'nombre_de_traductions_dans_la_production_commercialisee_de_livres_imprimes_scandinave': None, 'part_des_traductions_dans_la_production_commercialisee_de_livres_imprimes': None, 'poids_des_livres_de_poche_part_de_la_production_en_exemplaires': None, 'poids_des_livres_de_poche_part_de_la_production_en_titres': None, 'poids_des_livres_de_poche_part_des_exemplaires_vendus': None, 'poids_des_livres_de_poche_part_du_chiffre_d_affaires_des_editeurs': None, 'indice_annuel_des_prix_a_la_consommation_base_2015_ensemble_des_menages_france_ensemble': 84.5, 'indice_annuel_des_prix_a_la_consommation_base_2015_ensemble_des_menages_france_nomenclature_coicop_0': 87.3, 'indice_annuel_des_prix_a_la_consommation_base_2015_ensemble_des_menages_france_nomenclature_coicop_1': 82.4, 'indice_annuel_des_prix_a_la_consommation_base_2015_ensemble_des_menages_france_nomenclature_coicop_2': 89.0, 'indice_annuel_des_prix_a_la_consommation_base_2015_ensemble_des_menages_france_nomenclature_coicop_3': 94.4, 'indice_annuel_des_prix_a_la_consommation_base_2015_ensemble_des_menages_france_nomenclature_coicop_4': None, 'variation_annuelle_des_prix_a_la_consommation_ensemble_des_menages_france_ensemble': 0.02053140096618361, 'variation_annuelle_des_prix_a_la_consommation_ensemble_des_menages_france_nomenclature_coicop_09_5_1': 0.013937282229965191, 'marche_du_livre_aupres_des_particuliers_hors_scolaire_part_de_marche_du_livre_imprime_neuf_en_valeur': None, 'marche_du_livre_aupres_des_particuliers_hors_scolaire_part_de_marche_du_livre_d_occasion_en_valeur': None, 'marche_du_livre_aupres_des_particuliers_hors_scolaire_part_de_marche_du_livre_numerique_en_valeur': None, 'marche_du_livre_aupres_des_particuliers_hors_scolaire_part_de_marche_du_livre_imprime_neuf_en_volume': None, 'marche_du_livre_aupres_des_particuliers_hors_scolaire_part_de_marche_du_livre_d_occasion_en_volume': None, 'marche_du_livre_aupres_des_particuliers_hors_scolaire_part_de_marche_du_livre_numerique_en_volume': None, 'livres_imprimes_lieux_d_achat_autres': None, 'livres_imprimes_lieux_d_achat_grandes_surfaces_non_specialisees': None, 'livres_imprimes_lieux_d_achat_grandes_surfaces_specialisees': None, 'livres_imprimes_lieux_d_achat_internet': None, 'livres_imprimes_lieux_d_achat_librairies': None, 'livres_imprimes_lieux_d_achat_vpc_courtage_club': None, 'pratiques_d_achat_de_livres_au_moins_un_livre': None, 'pratiques_d_achat_de_livres_au_moins_un_livre_imprime': None, 'pratiques_d_achat_de_livres_au_moins_un_livre_d_occasion': None, 'pratiques_d_achat_de_livres_au_moins_un_livre_imprime_neuf': None, 'pratiques_d_achat_de_livres_au_moins_un_livre_numerique': None, 'pratiques_d_achat_de_livres_livre_imprime_neuf_1_a_4': None, 'pratiques_d_achat_de_livres_livre_imprime_neuf_12_et_plus': None, 'pratiques_d_achat_de_livres_livre_imprime_neuf_5_a_11': None, 'marche_du_livre_imprime_neuf_aupres_des_particuliers_hors_scolaire_fiction_part_en_valeur': None, 'marche_du_livre_imprime_neuf_aupres_des_particuliers_hors_scolaire_actualite_humour_essai_part_en_va': None, 'marche_du_livre_imprime_neuf_aupres_des_particuliers_hors_scolaire_histoire_biographie_historique_pa': None, 'marche_du_livre_imprime_neuf_aupres_des_particuliers_hors_scolaire_bd_et_mangas_part_en_valeur': None, 'marche_du_livre_imprime_neuf_aupres_des_particuliers_hors_scolaire_jeunesse_part_en_valeur': None, 'marche_du_livre_imprime_neuf_aupres_des_particuliers_hors_scolaire_beaux_livres_part_en_valeur': None, 'marche_du_livre_imprime_neuf_aupres_des_particuliers_hors_scolaire_livres_pratiques_part_en_valeur': None, 'marche_du_livre_imprime_neuf_aupres_des_particuliers_hors_scolaire_dictionnaires_et_encyclopedies_pa': None, 'marche_du_livre_imprime_neuf_aupres_des_particuliers_hors_scolaire_fiction_part_en_volume': None, 'marche_du_livre_imprime_neuf_aupres_des_particuliers_hors_scolaire_actualite_humour_essai_part_en_vo': None, 'marche_du_livre_imprime_neuf_aupres_des_particuliers_hors_scolaire_histoire_biographie_historique_p0': None, 'marche_du_livre_imprime_neuf_aupres_des_particuliers_hors_scolaire_bd_et_mangas_part_en_volume': None, 'marche_du_livre_imprime_neuf_aupres_des_particuliers_hors_scolaire_jeunesse_part_en_volume': None, 'marche_du_livre_imprime_neuf_aupres_des_particuliers_hors_scolaire_beaux_livres_part_en_volume': None, 'marche_du_livre_imprime_neuf_aupres_des_particuliers_hors_scolaire_livres_pratiques_part_en_volume': None, 'marche_du_livre_imprime_neuf_aupres_des_particuliers_hors_scolaire_dictionnaires_et_encyclopedies_p0': None, 'droits_d_auteur_verses_par_les_editeurs_en_meur': None, 'nombre_de_references_vendues': None, 'consommation_effective_des_menages_en_valeur_aux_prix_courants_livres_meur': 3676.6, 'chiffre_d_affaires_de_l_edition_numerique_en_meur': None, 'chiffre_d_affaires_des_editeurs_cessions_de_droits_en_meur': 108.0, 'chiffre_d_affaires_des_editeurs_ensemble_en_meur': 2501.0, 'chiffre_d_affaires_des_editeurs_ventes_de_livres_hors_scolaire_en_meur': None, 'chiffre_d_affaires_des_editeurs_ventes_de_livres_en_meur': 2393.0, 'nombre_d_exemplaires_vendus_hors_scolaire_en_millions_d_exemplaires': None, 'nombre_d_exemplaires_vendus_en_millions_d_exemplaires': None, 'evolution_des_ventes_au_detail_valeur_panel_distributeur': None, 'evolution_des_ventes_au_detail_volume_panel_distributeur': None, 'evolution_des_ventes_au_detail_valeur_barometre_des_ventes': 0.01, 'evolution_des_ventes_au_detail_volume_barometre_des_ventes': None, 'poids_des_meilleures_ventes_10_premiers': None, 'poids_des_meilleures_ventes_1000_premiers': None, 'poids_des_meilleures_ventes_10000_premiers': None, 'poids_des_meilleures_ventes_5_premiers': None, 'exportations_de_livres_drom_com_en_meur': None, 'exportations_de_livres_yc_drom_com_et_feuillets_en_meur': 630.1, 'cessions_de_droits_a_l_exportation_en_nombre_de_titres': 5956.0, 'cessions_de_droits_a_l_exportation_en_nombre_de_titres_coeditions': None, 'cessions_de_droits_a_l_exportation_en_nombre_de_titres_hors_coeditions': None, 'part_des_francais_ayant_lu_1_a_4_livres_imprimes': None, 'part_des_francais_ayant_lu_20_livres_imprimes_ou_plus': None, 'part_des_francais_ayant_lu_5_a_19_livres_imprimes': None, 'part_des_francais_ayant_lu_au_moins_un_livre_imprime': None, 'avoir_deja_ecoute_un_livre_audio': None, 'avoir_deja_lu_un_livre_numerique': None, 'achats_de_livres_des_bibliotheques_bibliotheques_municipales_et_intercommunales_en_millions_de_volum': None, 'prets_dans_les_bibliotheques_municipales_et_intercommunales_livres_imprimes_en_millions': None, 'prets_dans_les_bibliotheques_municipales_et_intercommunales_tous_supports_en_millions': None, 'achat_de_livres_imprimes_en_euros': None, 'livres_entrees_de_documents_volumes_ou_unites_materielles': None, 'livres_etrangers_entrees_de_documents_volumes_ou_unites_materielles': None, 'livres_francais_entrees_de_documents_volumes_ou_unites_materielles': None, 'droit_de_pret_auteurs_beneficiaires_annee_de_mise_en_distribution': None, 'droit_de_pret_editeurs_beneficiaires_annee_de_mise_en_distribution': None, 'droit_de_pret_montants_repartis_annee_de_mise_en_distribution': None, 'droit_de_pret_nombre_de_titres_annee_de_mise_en_distribution': None, 'droit_de_pret_nombre_d_exemplaires_annee_de_mise_en_distribution': None}, {'annee': '2007', 'nombre_de_livres_deposes': 63761.0, 'nombre_de_titres_disponibles_titres_imprimes': 565000.0, 'nombre_de_titres_disponibles_titres_numeriques': None, 'production_commercialisee_nouveautes_et_nouvelles_editions_hors_auto_edition_edition_a_compte_d_aute': 60376.0, 'tirage_moyen': 8691.0, 'nombre_de_traductions_dans_la_production_commercialisee_de_livres_imprimes': None, 'nombre_de_traductions_dans_la_production_commercialisee_de_livres_imprimes_anglais': None, 'nombre_de_traductions_dans_la_production_commercialisee_de_livres_imprimes_espagnol': None, 'nombre_de_traductions_dans_la_production_commercialisee_de_livres_imprimes_germanique': None, 'nombre_de_traductions_dans_la_production_commercialisee_de_livres_imprimes_italien': None, 'nombre_de_traductions_dans_la_production_commercialisee_de_livres_imprimes_japonais': None, 'nombre_de_traductions_dans_la_production_commercialisee_de_livres_imprimes_scandinave': None, 'part_des_traductions_dans_la_production_commercialisee_de_livres_imprimes': 0.142, 'poids_des_livres_de_poche_part_de_la_production_en_exemplaires': 0.237, 'poids_des_livres_de_poche_part_de_la_production_en_titres': 0.199, 'poids_des_livres_de_poche_part_des_exemplaires_vendus': 0.274, 'poids_des_livres_de_poche_part_du_chiffre_d_affaires_des_editeurs': 0.142, 'indice_annuel_des_prix_a_la_consommation_base_2015_ensemble_des_menages_france_ensemble': 90.66, 'indice_annuel_des_prix_a_la_consommation_base_2015_ensemble_des_menages_france_nomenclature_coicop_0': 91.13, 'indice_annuel_des_prix_a_la_consommation_base_2015_ensemble_des_menages_france_nomenclature_coicop_1': 86.45, 'indice_annuel_des_prix_a_la_consommation_base_2015_ensemble_des_menages_france_nomenclature_coicop_2': 91.64, 'indice_annuel_des_prix_a_la_consommation_base_2015_ensemble_des_menages_france_nomenclature_coicop_3': 98.04, 'indice_annuel_des_prix_a_la_consommation_base_2015_ensemble_des_menages_france_nomenclature_coicop_4': None, 'variation_annuelle_des_prix_a_la_consommation_ensemble_des_menages_france_ensemble': 0.01488861524683755, 'variation_annuelle_des_prix_a_la_consommation_ensemble_des_menages_france_nomenclature_coicop_09_5_1': 0.009303355853361272, 'marche_du_livre_aupres_des_particuliers_hors_scolaire_part_de_marche_du_livre_imprime_neuf_en_valeur': None, 'marche_du_livre_aupres_des_particuliers_hors_scolaire_part_de_marche_du_livre_d_occasion_en_valeur': None, 'marche_du_livre_aupres_des_particuliers_hors_scolaire_part_de_marche_du_livre_numerique_en_valeur': None, 'marche_du_livre_aupres_des_particuliers_hors_scolaire_part_de_marche_du_livre_imprime_neuf_en_volume': None, 'marche_du_livre_aupres_des_particuliers_hors_scolaire_part_de_marche_du_livre_d_occasion_en_volume': None, 'marche_du_livre_aupres_des_particuliers_hors_scolaire_part_de_marche_du_livre_numerique_en_volume': None, 'livres_imprimes_lieux_d_achat_autres': 0.084, 'livres_imprimes_lieux_d_achat_grandes_surfaces_non_specialisees': 0.214, 'livres_imprimes_lieux_d_achat_grandes_surfaces_specialisees': 0.212, 'livres_imprimes_lieux_d_achat_internet': 0.079, 'livres_imprimes_lieux_d_achat_librairies': 0.244, 'livres_imprimes_lieux_d_achat_vpc_courtage_club': 0.167, 'pratiques_d_achat_de_livres_au_moins_un_livre': 0.523, 'pratiques_d_achat_de_livres_au_moins_un_livre_imprime': None, 'pratiques_d_achat_de_livres_au_moins_un_livre_d_occasion': None, 'pratiques_d_achat_de_livres_au_moins_un_livre_imprime_neuf': None, 'pratiques_d_achat_de_livres_au_moins_un_livre_numerique': None, 'pratiques_d_achat_de_livres_livre_imprime_neuf_1_a_4': 0.26, 'pratiques_d_achat_de_livres_livre_imprime_neuf_12_et_plus': 0.11, 'pratiques_d_achat_de_livres_livre_imprime_neuf_5_a_11': 0.16, 'marche_du_livre_imprime_neuf_aupres_des_particuliers_hors_scolaire_fiction_part_en_valeur': None, 'marche_du_livre_imprime_neuf_aupres_des_particuliers_hors_scolaire_actualite_humour_essai_part_en_va': None, 'marche_du_livre_imprime_neuf_aupres_des_particuliers_hors_scolaire_histoire_biographie_historique_pa': None, 'marche_du_livre_imprime_neuf_aupres_des_particuliers_hors_scolaire_bd_et_mangas_part_en_valeur': None, 'marche_du_livre_imprime_neuf_aupres_des_particuliers_hors_scolaire_jeunesse_part_en_valeur': None, 'marche_du_livre_imprime_neuf_aupres_des_particuliers_hors_scolaire_beaux_livres_part_en_valeur': None, 'marche_du_livre_imprime_neuf_aupres_des_particuliers_hors_scolaire_livres_pratiques_part_en_valeur': None, 'marche_du_livre_imprime_neuf_aupres_des_particuliers_hors_scolaire_dictionnaires_et_encyclopedies_pa': None, 'marche_du_livre_imprime_neuf_aupres_des_particuliers_hors_scolaire_fiction_part_en_volume': None, 'marche_du_livre_imprime_neuf_aupres_des_particuliers_hors_scolaire_actualite_humour_essai_part_en_vo': None, 'marche_du_livre_imprime_neuf_aupres_des_particuliers_hors_scolaire_histoire_biographie_historique_p0': None, 'marche_du_livre_imprime_neuf_aupres_des_particuliers_hors_scolaire_bd_et_mangas_part_en_volume': None, 'marche_du_livre_imprime_neuf_aupres_des_particuliers_hors_scolaire_jeunesse_part_en_volume': None, 'marche_du_livre_imprime_neuf_aupres_des_particuliers_hors_scolaire_beaux_livres_part_en_volume': None, 'marche_du_livre_imprime_neuf_aupres_des_particuliers_hors_scolaire_livres_pratiques_part_en_volume': None, 'marche_du_livre_imprime_neuf_aupres_des_particuliers_hors_scolaire_dictionnaires_et_encyclopedies_p0': None, 'droits_d_auteur_verses_par_les_editeurs_en_meur': 448.0, 'nombre_de_references_vendues': None, 'consommation_effective_des_menages_en_valeur_aux_prix_courants_livres_meur': 3979.0, 'chiffre_d_affaires_de_l_edition_numerique_en_meur': None, 'chiffre_d_affaires_des_editeurs_cessions_de_droits_en_meur': 132.0, 'chiffre_d_affaires_des_editeurs_ensemble_en_meur': 2894.0, 'chiffre_d_affaires_des_editeurs_ventes_de_livres_hors_scolaire_en_meur': None, 'chiffre_d_affaires_des_editeurs_ventes_de_livres_en_meur': 2762.0, 'nombre_d_exemplaires_vendus_hors_scolaire_en_millions_d_exemplaires': None, 'nombre_d_exemplaires_vendus_en_millions_d_exemplaires': 486.6, 'evolution_des_ventes_au_detail_valeur_panel_distributeur': None, 'evolution_des_ventes_au_detail_volume_panel_distributeur': None, 'evolution_des_ventes_au_detail_valeur_barometre_des_ventes': 0.03, 'evolution_des_ventes_au_detail_volume_barometre_des_ventes': 0.02, 'poids_des_meilleures_ventes_10_premiers': None, 'poids_des_meilleures_ventes_1000_premiers': None, 'poids_des_meilleures_ventes_10000_premiers': None, 'poids_des_meilleures_ventes_5_premiers': None, 'exportations_de_livres_drom_com_en_meur': 62.1, 'exportations_de_livres_yc_drom_com_et_feuillets_en_meur': 694.5, 'cessions_de_droits_a_l_exportation_en_nombre_de_titres': 7216.0, 'cessions_de_droits_a_l_exportation_en_nombre_de_titres_coeditions': None, 'cessions_de_droits_a_l_exportation_en_nombre_de_titres_hors_coeditions': None, 'part_des_francais_ayant_lu_1_a_4_livres_imprimes': None, 'part_des_francais_ayant_lu_20_livres_imprimes_ou_plus': None, 'part_des_francais_ayant_lu_5_a_19_livres_imprimes': None, 'part_des_francais_ayant_lu_au_moins_un_livre_imprime': None, 'avoir_deja_ecoute_un_livre_audio': None, 'avoir_deja_lu_un_livre_numerique': None, 'achats_de_livres_des_bibliotheques_bibliotheques_municipales_et_intercommunales_en_millions_de_volum': None, 'prets_dans_les_bibliotheques_municipales_et_intercommunales_livres_imprimes_en_millions': None, 'prets_dans_les_bibliotheques_municipales_et_intercommunales_tous_supports_en_millions': None, 'achat_de_livres_imprimes_en_euros': None, 'livres_entrees_de_documents_volumes_ou_unites_materielles': None, 'livres_etrangers_entrees_de_documents_volumes_ou_unites_materielles': None, 'livres_francais_entrees_de_documents_volumes_ou_unites_materielles': None, 'droit_de_pret_auteurs_beneficiaires_annee_de_mise_en_distribution': None, 'droit_de_pret_editeurs_beneficiaires_annee_de_mise_en_distribution': None, 'droit_de_pret_montants_repartis_annee_de_mise_en_distribution': None, 'droit_de_pret_nombre_de_titres_annee_de_mise_en_distribution': None, 'droit_de_pret_nombre_d_exemplaires_annee_de_mise_en_distribution': None}, {'annee': '2008', 'nombre_de_livres_deposes': 69658.0, 'nombre_de_titres_disponibles_titres_imprimes': 594600.0, 'nombre_de_titres_disponibles_titres_numeriques': None, 'production_commercialisee_nouveautes_et_nouvelles_editions_hors_auto_edition_edition_a_compte_d_aute': 63601.0, 'tirage_moyen': 9340.0, 'nombre_de_traductions_dans_la_production_commercialisee_de_livres_imprimes': None, 'nombre_de_traductions_dans_la_production_commercialisee_de_livres_imprimes_anglais': None, 'nombre_de_traductions_dans_la_production_commercialisee_de_livres_imprimes_espagnol': None, 'nombre_de_traductions_dans_la_production_commercialisee_de_livres_imprimes_germanique': None, 'nombre_de_traductions_dans_la_production_commercialisee_de_livres_imprimes_italien': None, 'nombre_de_traductions_dans_la_production_commercialisee_de_livres_imprimes_japonais': None, 'nombre_de_traductions_dans_la_production_commercialisee_de_livres_imprimes_scandinave': None, 'part_des_traductions_dans_la_production_commercialisee_de_livres_imprimes': 0.14, 'poids_des_livres_de_poche_part_de_la_production_en_exemplaires': 0.232, 'poids_des_livres_de_poche_part_de_la_production_en_titres': 0.206, 'poids_des_livres_de_poche_part_des_exemplaires_vendus': 0.286, 'poids_des_livres_de_poche_part_du_chiffre_d_affaires_des_editeurs': 0.149, 'indice_annuel_des_prix_a_la_consommation_base_2015_ensemble_des_menages_france_ensemble': 93.21, 'indice_annuel_des_prix_a_la_consommation_base_2015_ensemble_des_menages_france_nomenclature_coicop_0': 91.95, 'indice_annuel_des_prix_a_la_consommation_base_2015_ensemble_des_menages_france_nomenclature_coicop_1': 88.98, 'indice_annuel_des_prix_a_la_consommation_base_2015_ensemble_des_menages_france_nomenclature_coicop_2': 92.74, 'indice_annuel_des_prix_a_la_consommation_base_2015_ensemble_des_menages_france_nomenclature_coicop_3': 96.13, 'indice_annuel_des_prix_a_la_consommation_base_2015_ensemble_des_menages_france_nomenclature_coicop_4': None, 'variation_annuelle_des_prix_a_la_consommation_ensemble_des_menages_france_ensemble': 0.028127068166776938, 'variation_annuelle_des_prix_a_la_consommation_ensemble_des_menages_france_nomenclature_coicop_09_5_1': 0.008998134533084685, 'marche_du_livre_aupres_des_particuliers_hors_scolaire_part_de_marche_du_livre_imprime_neuf_en_valeur': None, 'marche_du_livre_aupres_des_particuliers_hors_scolaire_part_de_marche_du_livre_d_occasion_en_valeur': None, 'marche_du_livre_aupres_des_particuliers_hors_scolaire_part_de_marche_du_livre_numerique_en_valeur': None, 'marche_du_livre_aupres_des_particuliers_hors_scolaire_part_de_marche_du_livre_imprime_neuf_en_volume': None, 'marche_du_livre_aupres_des_particuliers_hors_scolaire_part_de_marche_du_livre_d_occasion_en_volume': None, 'marche_du_livre_aupres_des_particuliers_hors_scolaire_part_de_marche_du_livre_numerique_en_volume': None, 'livres_imprimes_lieux_d_achat_autres': 0.086, 'livres_imprimes_lieux_d_achat_grandes_surfaces_non_specialisees': 0.199, 'livres_imprimes_lieux_d_achat_grandes_surfaces_specialisees': 0.216, 'livres_imprimes_lieux_d_achat_internet': 0.096, 'livres_imprimes_lieux_d_achat_librairies': 0.245, 'livres_imprimes_lieux_d_achat_vpc_courtage_club': 0.158, 'pratiques_d_achat_de_livres_au_moins_un_livre': 0.524, 'pratiques_d_achat_de_livres_au_moins_un_livre_imprime': None, 'pratiques_d_achat_de_livres_au_moins_un_livre_d_occasion': None, 'pratiques_d_achat_de_livres_au_moins_un_livre_imprime_neuf': None, 'pratiques_d_achat_de_livres_au_moins_un_livre_numerique': None, 'pratiques_d_achat_de_livres_livre_imprime_neuf_1_a_4': 0.25, 'pratiques_d_achat_de_livres_livre_imprime_neuf_12_et_plus': 0.12, 'pratiques_d_achat_de_livres_livre_imprime_neuf_5_a_11': 0.16, 'marche_du_livre_imprime_neuf_aupres_des_particuliers_hors_scolaire_fiction_part_en_valeur': None, 'marche_du_livre_imprime_neuf_aupres_des_particuliers_hors_scolaire_actualite_humour_essai_part_en_va': None, 'marche_du_livre_imprime_neuf_aupres_des_particuliers_hors_scolaire_histoire_biographie_historique_pa': None, 'marche_du_livre_imprime_neuf_aupres_des_particuliers_hors_scolaire_bd_et_mangas_part_en_valeur': None, 'marche_du_livre_imprime_neuf_aupres_des_particuliers_hors_scolaire_jeunesse_part_en_valeur': None, 'marche_du_livre_imprime_neuf_aupres_des_particuliers_hors_scolaire_beaux_livres_part_en_valeur': None, 'marche_du_livre_imprime_neuf_aupres_des_particuliers_hors_scolaire_livres_pratiques_part_en_valeur': None, 'marche_du_livre_imprime_neuf_aupres_des_particuliers_hors_scolaire_dictionnaires_et_encyclopedies_pa': None, 'marche_du_livre_imprime_neuf_aupres_des_particuliers_hors_scolaire_fiction_part_en_volume': None, 'marche_du_livre_imprime_neuf_aupres_des_particuliers_hors_scolaire_actualite_humour_essai_part_en_vo': None, 'marche_du_livre_imprime_neuf_aupres_des_particuliers_hors_scolaire_histoire_biographie_historique_p0': None, 'marche_du_livre_imprime_neuf_aupres_des_particuliers_hors_scolaire_bd_et_mangas_part_en_volume': None, 'marche_du_livre_imprime_neuf_aupres_des_particuliers_hors_scolaire_jeunesse_part_en_volume': None, 'marche_du_livre_imprime_neuf_aupres_des_particuliers_hors_scolaire_beaux_livres_part_en_volume': None, 'marche_du_livre_imprime_neuf_aupres_des_particuliers_hors_scolaire_livres_pratiques_part_en_volume': None, 'marche_du_livre_imprime_neuf_aupres_des_particuliers_hors_scolaire_dictionnaires_et_encyclopedies_p0': None, 'droits_d_auteur_verses_par_les_editeurs_en_meur': 464.0, 'nombre_de_references_vendues': None, 'consommation_effective_des_menages_en_valeur_aux_prix_courants_livres_meur': 3935.4, 'chiffre_d_affaires_de_l_edition_numerique_en_meur': None, 'chiffre_d_affaires_des_editeurs_cessions_de_droits_en_meur': 130.0, 'chiffre_d_affaires_des_editeurs_ensemble_en_meur': 2830.0, 'chiffre_d_affaires_des_editeurs_ventes_de_livres_hors_scolaire_en_meur': None, 'chiffre_d_affaires_des_editeurs_ventes_de_livres_en_meur': 2700.0, 'nombre_d_exemplaires_vendus_hors_scolaire_en_millions_d_exemplaires': None, 'nombre_d_exemplaires_vendus_en_millions_d_exemplaires': 468.3, 'evolution_des_ventes_au_detail_valeur_panel_distributeur': None, 'evolution_des_ventes_au_detail_volume_panel_distributeur': None, 'evolution_des_ventes_au_detail_valeur_barometre_des_ventes': 0.01, 'evolution_des_ventes_au_detail_volume_barometre_des_ventes': 0.0, 'poids_des_meilleures_ventes_10_premiers': None, 'poids_des_meilleures_ventes_1000_premiers': None, 'poids_des_meilleures_ventes_10000_premiers': None, 'poids_des_meilleures_ventes_5_premiers': None, 'exportations_de_livres_drom_com_en_meur': 60.1, 'exportations_de_livres_yc_drom_com_et_feuillets_en_meur': 694.8, 'cessions_de_droits_a_l_exportation_en_nombre_de_titres': 6869.0, 'cessions_de_droits_a_l_exportation_en_nombre_de_titres_coeditions': None, 'cessions_de_droits_a_l_exportation_en_nombre_de_titres_hors_coeditions': None, 'part_des_francais_ayant_lu_1_a_4_livres_imprimes': None, 'part_des_francais_ayant_lu_20_livres_imprimes_ou_plus': None, 'part_des_francais_ayant_lu_5_a_19_livres_imprimes': None, 'part_des_francais_ayant_lu_au_moins_un_livre_imprime': None, 'avoir_deja_ecoute_un_livre_audio': None, 'avoir_deja_lu_un_livre_numerique': None, 'achats_de_livres_des_bibliotheques_bibliotheques_municipales_et_intercommunales_en_millions_de_volum': None, 'prets_dans_les_bibliotheques_municipales_et_intercommunales_livres_imprimes_en_millions': None, 'prets_dans_les_bibliotheques_municipales_et_intercommunales_tous_supports_en_millions': None, 'achat_de_livres_imprimes_en_euros': None, 'livres_entrees_de_documents_volumes_ou_unites_materielles': None, 'livres_etrangers_entrees_de_documents_volumes_ou_unites_materielles': None, 'livres_francais_entrees_de_documents_volumes_ou_unites_materielles': None, 'droit_de_pret_auteurs_beneficiaires_annee_de_mise_en_distribution': None, 'droit_de_pret_editeurs_beneficiaires_annee_de_mise_en_distribution': None, 'droit_de_pret_montants_repartis_annee_de_mise_en_distribution': None, 'droit_de_pret_nombre_de_titres_annee_de_mise_en_distribution': None, 'droit_de_pret_nombre_d_exemplaires_annee_de_mise_en_distribution': None}, {'annee': '2016', 'nombre_de_livres_deposes': 77986.0, 'nombre_de_titres_disponibles_titres_imprimes': 756360.0, 'nombre_de_titres_disponibles_titres_numeriques': 225810.0, 'production_commercialisee_nouveautes_et_nouvelles_editions_hors_auto_edition_edition_a_compte_d_aute': 68069.0, 'tirage_moyen': 5341.0, 'nombre_de_traductions_dans_la_production_commercialisee_de_livres_imprimes': None, 'nombre_de_traductions_dans_la_production_commercialisee_de_livres_imprimes_anglais': None, 'nombre_de_traductions_dans_la_production_commercialisee_de_livres_imprimes_espagnol': None, 'nombre_de_traductions_dans_la_production_commercialisee_de_livres_imprimes_germanique': None, 'nombre_de_traductions_dans_la_production_commercialisee_de_livres_imprimes_italien': None, 'nombre_de_traductions_dans_la_production_commercialisee_de_livres_imprimes_japonais': None, 'nombre_de_traductions_dans_la_production_commercialisee_de_livres_imprimes_scandinave': None, 'part_des_traductions_dans_la_production_commercialisee_de_livres_imprimes': 0.183, 'poids_des_livres_de_poche_part_de_la_production_en_exemplaires': 0.254, 'poids_des_livres_de_poche_part_de_la_production_en_titres': 0.221, 'poids_des_livres_de_poche_part_des_exemplaires_vendus': 0.269, 'poids_des_livres_de_poche_part_du_chiffre_d_affaires_des_editeurs': 0.137, 'indice_annuel_des_prix_a_la_consommation_base_2015_ensemble_des_menages_france_ensemble': 100.18, 'indice_annuel_des_prix_a_la_consommation_base_2015_ensemble_des_menages_france_nomenclature_coicop_0': 99.79, 'indice_annuel_des_prix_a_la_consommation_base_2015_ensemble_des_menages_france_nomenclature_coicop_1': 100.56, 'indice_annuel_des_prix_a_la_consommation_base_2015_ensemble_des_menages_france_nomenclature_coicop_2': 100.55, 'indice_annuel_des_prix_a_la_consommation_base_2015_ensemble_des_menages_france_nomenclature_coicop_3': 99.74, 'indice_annuel_des_prix_a_la_consommation_base_2015_ensemble_des_menages_france_nomenclature_coicop_4': 86.76, 'variation_annuelle_des_prix_a_la_consommation_ensemble_des_menages_france_ensemble': 0.0018000000000000683, 'variation_annuelle_des_prix_a_la_consommation_ensemble_des_menages_france_nomenclature_coicop_09_5_1': -0.0020999999999999374, 'marche_du_livre_aupres_des_particuliers_hors_scolaire_part_de_marche_du_livre_imprime_neuf_en_valeur': 0.908, 'marche_du_livre_aupres_des_particuliers_hors_scolaire_part_de_marche_du_livre_d_occasion_en_valeur': 0.063, 'marche_du_livre_aupres_des_particuliers_hors_scolaire_part_de_marche_du_livre_numerique_en_valeur': 0.029, 'marche_du_livre_aupres_des_particuliers_hors_scolaire_part_de_marche_du_livre_imprime_neuf_en_volume': 0.808, 'marche_du_livre_aupres_des_particuliers_hors_scolaire_part_de_marche_du_livre_d_occasion_en_volume': 0.154, 'marche_du_livre_aupres_des_particuliers_hors_scolaire_part_de_marche_du_livre_numerique_en_volume': 0.038, 'livres_imprimes_lieux_d_achat_autres': 0.038116268031450566, 'livres_imprimes_lieux_d_achat_grandes_surfaces_non_specialisees': 0.1922460463228567, 'livres_imprimes_lieux_d_achat_grandes_surfaces_specialisees': 0.2451245434096209, 'livres_imprimes_lieux_d_achat_internet': 0.19529342165906544, 'livres_imprimes_lieux_d_achat_librairies': 0.2208899986929993, 'livres_imprimes_lieux_d_achat_vpc_courtage_club': 0.10832972188400712, 'pratiques_d_achat_de_livres_au_moins_un_livre': 0.529, 'pratiques_d_achat_de_livres_au_moins_un_livre_imprime': 0.518, 'pratiques_d_achat_de_livres_au_moins_un_livre_d_occasion': 0.115, 'pratiques_d_achat_de_livres_au_moins_un_livre_imprime_neuf': 0.51, 'pratiques_d_achat_de_livres_au_moins_un_livre_numerique': 0.041, 'pratiques_d_achat_de_livres_livre_imprime_neuf_1_a_4': 0.25, 'pratiques_d_achat_de_livres_livre_imprime_neuf_12_et_plus': 0.116, 'pratiques_d_achat_de_livres_livre_imprime_neuf_5_a_11': 0.145, 'marche_du_livre_imprime_neuf_aupres_des_particuliers_hors_scolaire_fiction_part_en_valeur': 0.349, 'marche_du_livre_imprime_neuf_aupres_des_particuliers_hors_scolaire_actualite_humour_essai_part_en_va': 0.085, 'marche_du_livre_imprime_neuf_aupres_des_particuliers_hors_scolaire_histoire_biographie_historique_pa': '0.069', 'marche_du_livre_imprime_neuf_aupres_des_particuliers_hors_scolaire_bd_et_mangas_part_en_valeur': 0.118, 'marche_du_livre_imprime_neuf_aupres_des_particuliers_hors_scolaire_jeunesse_part_en_valeur': 0.163, 'marche_du_livre_imprime_neuf_aupres_des_particuliers_hors_scolaire_beaux_livres_part_en_valeur': 0.045, 'marche_du_livre_imprime_neuf_aupres_des_particuliers_hors_scolaire_livres_pratiques_part_en_valeur': 0.117, 'marche_du_livre_imprime_neuf_aupres_des_particuliers_hors_scolaire_dictionnaires_et_encyclopedies_pa': 0.054, 'marche_du_livre_imprime_neuf_aupres_des_particuliers_hors_scolaire_fiction_part_en_volume': 0.358, 'marche_du_livre_imprime_neuf_aupres_des_particuliers_hors_scolaire_actualite_humour_essai_part_en_vo': 0.077, 'marche_du_livre_imprime_neuf_aupres_des_particuliers_hors_scolaire_histoire_biographie_historique_p0': '0.049', 'marche_du_livre_imprime_neuf_aupres_des_particuliers_hors_scolaire_bd_et_mangas_part_en_volume': 0.122, 'marche_du_livre_imprime_neuf_aupres_des_particuliers_hors_scolaire_jeunesse_part_en_volume': 0.229, 'marche_du_livre_imprime_neuf_aupres_des_particuliers_hors_scolaire_beaux_livres_part_en_volume': 0.025, 'marche_du_livre_imprime_neuf_aupres_des_particuliers_hors_scolaire_livres_pratiques_part_en_volume': 0.103, 'marche_du_livre_imprime_neuf_aupres_des_particuliers_hors_scolaire_dictionnaires_et_encyclopedies_p0': 0.037, 'droits_d_auteur_verses_par_les_editeurs_en_meur': 468.0, 'nombre_de_references_vendues': 722500.0, 'consommation_effective_des_menages_en_valeur_aux_prix_courants_livres_meur': 3985.0, 'chiffre_d_affaires_de_l_edition_numerique_en_meur': 234.1, 'chiffre_d_affaires_des_editeurs_cessions_de_droits_en_meur': 132.0, 'chiffre_d_affaires_des_editeurs_ensemble_en_meur': 2838.0, 'chiffre_d_affaires_des_editeurs_ventes_de_livres_hors_scolaire_en_meur': 2431.0, 'chiffre_d_affaires_des_editeurs_ventes_de_livres_en_meur': 2706.0, 'nombre_d_exemplaires_vendus_hors_scolaire_en_millions_d_exemplaires': 373.8, 'nombre_d_exemplaires_vendus_en_millions_d_exemplaires': 434.5, 'evolution_des_ventes_au_detail_valeur_panel_distributeur': -0.012, 'evolution_des_ventes_au_detail_volume_panel_distributeur': -0.014, 'evolution_des_ventes_au_detail_valeur_barometre_des_ventes': -0.002, 'evolution_des_ventes_au_detail_volume_barometre_des_ventes': 0.001, 'poids_des_meilleures_ventes_10_premiers': 0.019, 'poids_des_meilleures_ventes_1000_premiers': 0.197, 'poids_des_meilleures_ventes_10000_premiers': 0.448, 'poids_des_meilleures_ventes_5_premiers': 0.012, 'exportations_de_livres_drom_com_en_meur': 59.4, 'exportations_de_livres_yc_drom_com_et_feuillets_en_meur': 665.9, 'cessions_de_droits_a_l_exportation_en_nombre_de_titres': 12296.0, 'cessions_de_droits_a_l_exportation_en_nombre_de_titres_coeditions': None, 'cessions_de_droits_a_l_exportation_en_nombre_de_titres_hors_coeditions': None, 'part_des_francais_ayant_lu_1_a_4_livres_imprimes': None, 'part_des_francais_ayant_lu_20_livres_imprimes_ou_plus': None, 'part_des_francais_ayant_lu_5_a_19_livres_imprimes': None, 'part_des_francais_ayant_lu_au_moins_un_livre_imprime': None, 'avoir_deja_ecoute_un_livre_audio': None, 'avoir_deja_lu_un_livre_numerique': 0.2, 'achats_de_livres_des_bibliotheques_bibliotheques_municipales_et_intercommunales_en_millions_de_volum': 8.5, 'prets_dans_les_bibliotheques_municipales_et_intercommunales_livres_imprimes_en_millions': 208.7, 'prets_dans_les_bibliotheques_municipales_et_intercommunales_tous_supports_en_millions': 279.5, 'achat_de_livres_imprimes_en_euros': 24529513.0, 'livres_entrees_de_documents_volumes_ou_unites_materielles': 744283.0, 'livres_etrangers_entrees_de_documents_volumes_ou_unites_materielles': 114320.0, 'livres_francais_entrees_de_documents_volumes_ou_unites_materielles': 858603.0, 'droit_de_pret_auteurs_beneficiaires_annee_de_mise_en_distribution': 70427.0, 'droit_de_pret_editeurs_beneficiaires_annee_de_mise_en_distribution': 3038.0, 'droit_de_pret_montants_repartis_annee_de_mise_en_distribution': 12922782.0, 'droit_de_pret_nombre_de_titres_annee_de_mise_en_distribution': 410503.0, 'droit_de_pret_nombre_d_exemplaires_annee_de_mise_en_distribution': 6570860.0}, {'annee': '2021', 'nombre_de_livres_deposes': 88016.0, 'nombre_de_titres_disponibles_titres_imprimes': 801987.0, 'nombre_de_titres_disponibles_titres_numeriques': 336469.0, 'production_commercialisee_nouveautes_et_nouvelles_editions_hors_auto_edition_edition_a_compte_d_aute': 68160.0, 'tirage_moyen': 5061.0, 'nombre_de_traductions_dans_la_production_commercialisee_de_livres_imprimes': 12427.0, 'nombre_de_traductions_dans_la_production_commercialisee_de_livres_imprimes_anglais': 7040.0, 'nombre_de_traductions_dans_la_production_commercialisee_de_livres_imprimes_espagnol': 461.0, 'nombre_de_traductions_dans_la_production_commercialisee_de_livres_imprimes_germanique': 557.0, 'nombre_de_traductions_dans_la_production_commercialisee_de_livres_imprimes_italien': 708.0, 'nombre_de_traductions_dans_la_production_commercialisee_de_livres_imprimes_japonais': 1846.0, 'nombre_de_traductions_dans_la_production_commercialisee_de_livres_imprimes_scandinave': 217.0, 'part_des_traductions_dans_la_production_commercialisee_de_livres_imprimes': 0.182, 'poids_des_livres_de_poche_part_de_la_production_en_exemplaires': 0.236, 'poids_des_livres_de_poche_part_de_la_production_en_titres': 0.204, 'poids_des_livres_de_poche_part_des_exemplaires_vendus': 0.25, 'poids_des_livres_de_poche_part_du_chiffre_d_affaires_des_editeurs': 0.144, 'indice_annuel_des_prix_a_la_consommation_base_2015_ensemble_des_menages_france_ensemble': 106.45, 'indice_annuel_des_prix_a_la_consommation_base_2015_ensemble_des_menages_france_nomenclature_coicop_0': 103.43, 'indice_annuel_des_prix_a_la_consommation_base_2015_ensemble_des_menages_france_nomenclature_coicop_1': 106.85, 'indice_annuel_des_prix_a_la_consommation_base_2015_ensemble_des_menages_france_nomenclature_coicop_2': 103.16, 'indice_annuel_des_prix_a_la_consommation_base_2015_ensemble_des_menages_france_nomenclature_coicop_3': 101.78, 'indice_annuel_des_prix_a_la_consommation_base_2015_ensemble_des_menages_france_nomenclature_coicop_4': 77.69, 'variation_annuelle_des_prix_a_la_consommation_ensemble_des_menages_france_ensemble': 0.016423183424042764, 'variation_annuelle_des_prix_a_la_consommation_ensemble_des_menages_france_nomenclature_coicop_09_5_1': 0.008482839313572587, 'marche_du_livre_aupres_des_particuliers_hors_scolaire_part_de_marche_du_livre_imprime_neuf_en_valeur': 0.88, 'marche_du_livre_aupres_des_particuliers_hors_scolaire_part_de_marche_du_livre_d_occasion_en_valeur': 0.079, 'marche_du_livre_aupres_des_particuliers_hors_scolaire_part_de_marche_du_livre_numerique_en_valeur': 0.041, 'marche_du_livre_aupres_des_particuliers_hors_scolaire_part_de_marche_du_livre_imprime_neuf_en_volume': 0.792, 'marche_du_livre_aupres_des_particuliers_hors_scolaire_part_de_marche_du_livre_d_occasion_en_volume': 0.158, 'marche_du_livre_aupres_des_particuliers_hors_scolaire_part_de_marche_du_livre_numerique_en_volume': 0.05, 'livres_imprimes_lieux_d_achat_autres': 0.04717802429887091, 'livres_imprimes_lieux_d_achat_grandes_surfaces_non_specialisees': 0.18287948323197287, 'livres_imprimes_lieux_d_achat_grandes_surfaces_specialisees': 0.2793676696135485, 'livres_imprimes_lieux_d_achat_internet': 0.1997371161448598, 'livres_imprimes_lieux_d_achat_librairies': 0.2339826619161676, 'livres_imprimes_lieux_d_achat_vpc_courtage_club': 0.05685504481021859, 'pratiques_d_achat_de_livres_au_moins_un_livre': 0.516, 'pratiques_d_achat_de_livres_au_moins_un_livre_imprime': 0.503, 'pratiques_d_achat_de_livres_au_moins_un_livre_d_occasion': 0.126, 'pratiques_d_achat_de_livres_au_moins_un_livre_imprime_neuf': 0.491, 'pratiques_d_achat_de_livres_au_moins_un_livre_numerique': 0.047, 'pratiques_d_achat_de_livres_livre_imprime_neuf_1_a_4': 0.21, 'pratiques_d_achat_de_livres_livre_imprime_neuf_12_et_plus': 0.118, 'pratiques_d_achat_de_livres_livre_imprime_neuf_5_a_11': 0.163, 'marche_du_livre_imprime_neuf_aupres_des_particuliers_hors_scolaire_fiction_part_en_valeur': 0.343, 'marche_du_livre_imprime_neuf_aupres_des_particuliers_hors_scolaire_actualite_humour_essai_part_en_va': 0.084, 'marche_du_livre_imprime_neuf_aupres_des_particuliers_hors_scolaire_histoire_biographie_historique_pa': '0.069', 'marche_du_livre_imprime_neuf_aupres_des_particuliers_hors_scolaire_bd_et_mangas_part_en_valeur': 0.188, 'marche_du_livre_imprime_neuf_aupres_des_particuliers_hors_scolaire_jeunesse_part_en_valeur': 0.16, 'marche_du_livre_imprime_neuf_aupres_des_particuliers_hors_scolaire_beaux_livres_part_en_valeur': 0.03, 'marche_du_livre_imprime_neuf_aupres_des_particuliers_hors_scolaire_livres_pratiques_part_en_valeur': 0.081, 'marche_du_livre_imprime_neuf_aupres_des_particuliers_hors_scolaire_dictionnaires_et_encyclopedies_pa': 0.046, 'marche_du_livre_imprime_neuf_aupres_des_particuliers_hors_scolaire_fiction_part_en_volume': 0.339, 'marche_du_livre_imprime_neuf_aupres_des_particuliers_hors_scolaire_actualite_humour_essai_part_en_vo': 0.066, 'marche_du_livre_imprime_neuf_aupres_des_particuliers_hors_scolaire_histoire_biographie_historique_p0': '0.05', 'marche_du_livre_imprime_neuf_aupres_des_particuliers_hors_scolaire_bd_et_mangas_part_en_volume': 0.191, 'marche_du_livre_imprime_neuf_aupres_des_particuliers_hors_scolaire_jeunesse_part_en_volume': 0.231, 'marche_du_livre_imprime_neuf_aupres_des_particuliers_hors_scolaire_beaux_livres_part_en_volume': 0.015, 'marche_du_livre_imprime_neuf_aupres_des_particuliers_hors_scolaire_livres_pratiques_part_en_volume': 0.086, 'marche_du_livre_imprime_neuf_aupres_des_particuliers_hors_scolaire_dictionnaires_et_encyclopedies_p0': 0.023, 'droits_d_auteur_verses_par_les_editeurs_en_meur': 556.5, 'nombre_de_references_vendues': 845325.0, 'consommation_effective_des_menages_en_valeur_aux_prix_courants_livres_meur': 4653.7, 'chiffre_d_affaires_de_l_edition_numerique_en_meur': 273.2, 'chiffre_d_affaires_des_editeurs_cessions_de_droits_en_meur': 147.0, 'chiffre_d_affaires_des_editeurs_ensemble_en_meur': 3079.0, 'chiffre_d_affaires_des_editeurs_ventes_de_livres_hors_scolaire_en_meur': 2610.0, 'chiffre_d_affaires_des_editeurs_ventes_de_livres_en_meur': 2932.0, 'nombre_d_exemplaires_vendus_hors_scolaire_en_millions_d_exemplaires': 424.4, 'nombre_d_exemplaires_vendus_en_millions_d_exemplaires': 486.1, 'evolution_des_ventes_au_detail_valeur_panel_distributeur': 0.172, 'evolution_des_ventes_au_detail_volume_panel_distributeur': 0.178, 'evolution_des_ventes_au_detail_valeur_barometre_des_ventes': 0.125, 'evolution_des_ventes_au_detail_volume_barometre_des_ventes': None, 'poids_des_meilleures_ventes_10_premiers': 0.015, 'poids_des_meilleures_ventes_1000_premiers': 0.209, 'poids_des_meilleures_ventes_10000_premiers': 0.504, 'poids_des_meilleures_ventes_5_premiers': 0.01, 'exportations_de_livres_drom_com_en_meur': 67.6, 'exportations_de_livres_yc_drom_com_et_feuillets_en_meur': 665.9, 'cessions_de_droits_a_l_exportation_en_nombre_de_titres': 16878.0, 'cessions_de_droits_a_l_exportation_en_nombre_de_titres_coeditions': 2363.0, 'cessions_de_droits_a_l_exportation_en_nombre_de_titres_hors_coeditions': 14515.0, 'part_des_francais_ayant_lu_1_a_4_livres_imprimes': 0.25, 'part_des_francais_ayant_lu_20_livres_imprimes_ou_plus': 0.22, 'part_des_francais_ayant_lu_5_a_19_livres_imprimes': 0.36, 'part_des_francais_ayant_lu_au_moins_un_livre_imprime': 0.83, 'avoir_deja_ecoute_un_livre_audio': 0.19, 'avoir_deja_lu_un_livre_numerique': 0.26, 'achats_de_livres_des_bibliotheques_bibliotheques_municipales_et_intercommunales_en_millions_de_volum': 8.6, 'prets_dans_les_bibliotheques_municipales_et_intercommunales_livres_imprimes_en_millions': 190.4, 'prets_dans_les_bibliotheques_municipales_et_intercommunales_tous_supports_en_millions': 241.3, 'achat_de_livres_imprimes_en_euros': 23202739.0, 'livres_entrees_de_documents_volumes_ou_unites_materielles': 724785.0, 'livres_etrangers_entrees_de_documents_volumes_ou_unites_materielles': 96564.0, 'livres_francais_entrees_de_documents_volumes_ou_unites_materielles': 821349.0, 'droit_de_pret_auteurs_beneficiaires_annee_de_mise_en_distribution': 66720.0, 'droit_de_pret_editeurs_beneficiaires_annee_de_mise_en_distribution': 2667.0, 'droit_de_pret_montants_repartis_annee_de_mise_en_distribution': 11413092.0, 'droit_de_pret_nombre_de_titres_annee_de_mise_en_distribution': 376626.0, 'droit_de_pret_nombre_d_exemplaires_annee_de_mise_en_distribution': 5798401.0}, {'annee': '2023', 'nombre_de_livres_deposes': None, 'nombre_de_titres_disponibles_titres_imprimes': 856210.0, 'nombre_de_titres_disponibles_titres_numeriques': 391267.0, 'production_commercialisee_nouveautes_et_nouvelles_editions_hors_auto_edition_edition_a_compte_d_aute': 63565.0, 'tirage_moyen': None, 'nombre_de_traductions_dans_la_production_commercialisee_de_livres_imprimes': 12126.0, 'nombre_de_traductions_dans_la_production_commercialisee_de_livres_imprimes_anglais': 6433.0, 'nombre_de_traductions_dans_la_production_commercialisee_de_livres_imprimes_espagnol': 484.0, 'nombre_de_traductions_dans_la_production_commercialisee_de_livres_imprimes_germanique': 580.0, 'nombre_de_traductions_dans_la_production_commercialisee_de_livres_imprimes_italien': 648.0, 'nombre_de_traductions_dans_la_production_commercialisee_de_livres_imprimes_japonais': 2137.0, 'nombre_de_traductions_dans_la_production_commercialisee_de_livres_imprimes_scandinave': 233.0, 'part_des_traductions_dans_la_production_commercialisee_de_livres_imprimes': 0.191, 'poids_des_livres_de_poche_part_de_la_production_en_exemplaires': None, 'poids_des_livres_de_poche_part_de_la_production_en_titres': None, 'poids_des_livres_de_poche_part_des_exemplaires_vendus': None, 'poids_des_livres_de_poche_part_du_chiffre_d_affaires_des_editeurs': None, 'indice_annuel_des_prix_a_la_consommation_base_2015_ensemble_des_menages_france_ensemble': 117.47, 'indice_annuel_des_prix_a_la_consommation_base_2015_ensemble_des_menages_france_nomenclature_coicop_0': 107.71, 'indice_annuel_des_prix_a_la_consommation_base_2015_ensemble_des_menages_france_nomenclature_coicop_1': 111.45, 'indice_annuel_des_prix_a_la_consommation_base_2015_ensemble_des_menages_france_nomenclature_coicop_2': 107.26, 'indice_annuel_des_prix_a_la_consommation_base_2015_ensemble_des_menages_france_nomenclature_coicop_3': 107.17, 'indice_annuel_des_prix_a_la_consommation_base_2015_ensemble_des_menages_france_nomenclature_coicop_4': 74.51, 'variation_annuelle_des_prix_a_la_consommation_ensemble_des_menages_france_ensemble': 0.04874564771002583, 'variation_annuelle_des_prix_a_la_consommation_ensemble_des_menages_france_nomenclature_coicop_09_5_1': 0.0261026960083833, 'marche_du_livre_aupres_des_particuliers_hors_scolaire_part_de_marche_du_livre_imprime_neuf_en_valeur': 0.88, 'marche_du_livre_aupres_des_particuliers_hors_scolaire_part_de_marche_du_livre_d_occasion_en_valeur': 0.081, 'marche_du_livre_aupres_des_particuliers_hors_scolaire_part_de_marche_du_livre_numerique_en_valeur': 0.039, 'marche_du_livre_aupres_des_particuliers_hors_scolaire_part_de_marche_du_livre_imprime_neuf_en_volume': 0.769, 'marche_du_livre_aupres_des_particuliers_hors_scolaire_part_de_marche_du_livre_d_occasion_en_volume': 0.182, 'marche_du_livre_aupres_des_particuliers_hors_scolaire_part_de_marche_du_livre_numerique_en_volume': 0.049, 'livres_imprimes_lieux_d_achat_autres': 0.05440701043267425, 'livres_imprimes_lieux_d_achat_grandes_surfaces_non_specialisees': 0.18104675401939013, 'livres_imprimes_lieux_d_achat_grandes_surfaces_specialisees': 0.2839335533889903, 'livres_imprimes_lieux_d_achat_internet': 0.22200429774738883, 'livres_imprimes_lieux_d_achat_librairies': 0.23692240819486465, 'livres_imprimes_lieux_d_achat_vpc_courtage_club': 0.02168597621875644, 'pratiques_d_achat_de_livres_au_moins_un_livre': 0.494, 'pratiques_d_achat_de_livres_au_moins_un_livre_imprime': 0.483, 'pratiques_d_achat_de_livres_au_moins_un_livre_d_occasion': 0.138, 'pratiques_d_achat_de_livres_au_moins_un_livre_imprime_neuf': 0.463, 'pratiques_d_achat_de_livres_au_moins_un_livre_numerique': 0.044, 'pratiques_d_achat_de_livres_livre_imprime_neuf_1_a_4': 0.213, 'pratiques_d_achat_de_livres_livre_imprime_neuf_12_et_plus': 0.115, 'pratiques_d_achat_de_livres_livre_imprime_neuf_5_a_11': 0.135, 'marche_du_livre_imprime_neuf_aupres_des_particuliers_hors_scolaire_fiction_part_en_valeur': 0.369, 'marche_du_livre_imprime_neuf_aupres_des_particuliers_hors_scolaire_actualite_humour_essai_part_en_va': 0.044, 'marche_du_livre_imprime_neuf_aupres_des_particuliers_hors_scolaire_histoire_biographie_historique_pa': '0.083', 'marche_du_livre_imprime_neuf_aupres_des_particuliers_hors_scolaire_bd_et_mangas_part_en_valeur': 0.215, 'marche_du_livre_imprime_neuf_aupres_des_particuliers_hors_scolaire_jeunesse_part_en_valeur': 0.149, 'marche_du_livre_imprime_neuf_aupres_des_particuliers_hors_scolaire_beaux_livres_part_en_valeur': 0.032, 'marche_du_livre_imprime_neuf_aupres_des_particuliers_hors_scolaire_livres_pratiques_part_en_valeur': 0.077, 'marche_du_livre_imprime_neuf_aupres_des_particuliers_hors_scolaire_dictionnaires_et_encyclopedies_pa': 0.029, 'marche_du_livre_imprime_neuf_aupres_des_particuliers_hors_scolaire_fiction_part_en_volume': 0.36, 'marche_du_livre_imprime_neuf_aupres_des_particuliers_hors_scolaire_actualite_humour_essai_part_en_vo': 0.036, 'marche_du_livre_imprime_neuf_aupres_des_particuliers_hors_scolaire_histoire_biographie_historique_p0': '0.054', 'marche_du_livre_imprime_neuf_aupres_des_particuliers_hors_scolaire_bd_et_mangas_part_en_volume': 0.232, 'marche_du_livre_imprime_neuf_aupres_des_particuliers_hors_scolaire_jeunesse_part_en_volume': 0.214, 'marche_du_livre_imprime_neuf_aupres_des_particuliers_hors_scolaire_beaux_livres_part_en_volume': 0.018, 'marche_du_livre_imprime_neuf_aupres_des_particuliers_hors_scolaire_livres_pratiques_part_en_volume': 0.063, 'marche_du_livre_imprime_neuf_aupres_des_particuliers_hors_scolaire_dictionnaires_et_encyclopedies_p0': 0.023, 'droits_d_auteur_verses_par_les_editeurs_en_meur': None, 'nombre_de_references_vendues': 869670.0, 'consommation_effective_des_menages_en_valeur_aux_prix_courants_livres_meur': None, 'chiffre_d_affaires_de_l_edition_numerique_en_meur': None, 'chiffre_d_affaires_des_editeurs_cessions_de_droits_en_meur': None, 'chiffre_d_affaires_des_editeurs_ensemble_en_meur': None, 'chiffre_d_affaires_des_editeurs_ventes_de_livres_hors_scolaire_en_meur': None, 'chiffre_d_affaires_des_editeurs_ventes_de_livres_en_meur': None, 'nombre_d_exemplaires_vendus_hors_scolaire_en_millions_d_exemplaires': None, 'nombre_d_exemplaires_vendus_en_millions_d_exemplaires': None, 'evolution_des_ventes_au_detail_valeur_panel_distributeur': 0.009397046957470234, 'evolution_des_ventes_au_detail_volume_panel_distributeur': -0.035084405057942636, 'evolution_des_ventes_au_detail_valeur_barometre_des_ventes': None, 'evolution_des_ventes_au_detail_volume_barometre_des_ventes': None, 'poids_des_meilleures_ventes_10_premiers': 0.017, 'poids_des_meilleures_ventes_1000_premiers': 0.2, 'poids_des_meilleures_ventes_10000_premiers': 0.495, 'poids_des_meilleures_ventes_5_premiers': 0.012, 'exportations_de_livres_drom_com_en_meur': None, 'exportations_de_livres_yc_drom_com_et_feuillets_en_meur': None, 'cessions_de_droits_a_l_exportation_en_nombre_de_titres': None, 'cessions_de_droits_a_l_exportation_en_nombre_de_titres_coeditions': None, 'cessions_de_droits_a_l_exportation_en_nombre_de_titres_hors_coeditions': None, 'part_des_francais_ayant_lu_1_a_4_livres_imprimes': 0.25, 'part_des_francais_ayant_lu_20_livres_imprimes_ou_plus': 0.26, 'part_des_francais_ayant_lu_5_a_19_livres_imprimes': 0.35, 'part_des_francais_ayant_lu_au_moins_un_livre_imprime': 0.86, 'avoir_deja_ecoute_un_livre_audio': None, 'avoir_deja_lu_un_livre_numerique': None, 'achats_de_livres_des_bibliotheques_bibliotheques_municipales_et_intercommunales_en_millions_de_volum': None, 'prets_dans_les_bibliotheques_municipales_et_intercommunales_livres_imprimes_en_millions': None, 'prets_dans_les_bibliotheques_municipales_et_intercommunales_tous_supports_en_millions': None, 'achat_de_livres_imprimes_en_euros': None, 'livres_entrees_de_documents_volumes_ou_unites_materielles': None, 'livres_etrangers_entrees_de_documents_volumes_ou_unites_materielles': None, 'livres_francais_entrees_de_documents_volumes_ou_unites_materielles': None, 'droit_de_pret_auteurs_beneficiaires_annee_de_mise_en_distribution': 66125.0, 'droit_de_pret_editeurs_beneficiaires_annee_de_mise_en_distribution': 2709.0, 'droit_de_pret_montants_repartis_annee_de_mise_en_distribution': 12601094.95, 'droit_de_pret_nombre_de_titres_annee_de_mise_en_distribution': 373055.0, 'droit_de_pret_nombre_d_exemplaires_annee_de_mise_en_distribution': 6744896.0}, {'annee': '2001', 'nombre_de_livres_deposes': None, 'nombre_de_titres_disponibles_titres_imprimes': None, 'nombre_de_titres_disponibles_titres_numeriques': None, 'production_commercialisee_nouveautes_et_nouvelles_editions_hors_auto_edition_edition_a_compte_d_aute': 44618.0, 'tirage_moyen': 8306.0, 'nombre_de_traductions_dans_la_production_commercialisee_de_livres_imprimes': None, 'nombre_de_traductions_dans_la_production_commercialisee_de_livres_imprimes_anglais': None, 'nombre_de_traductions_dans_la_production_commercialisee_de_livres_imprimes_espagnol': None, 'nombre_de_traductions_dans_la_production_commercialisee_de_livres_imprimes_germanique': None, 'nombre_de_traductions_dans_la_production_commercialisee_de_livres_imprimes_italien': None, 'nombre_de_traductions_dans_la_production_commercialisee_de_livres_imprimes_japonais': None, 'nombre_de_traductions_dans_la_production_commercialisee_de_livres_imprimes_scandinave': None, 'part_des_traductions_dans_la_production_commercialisee_de_livres_imprimes': None, 'poids_des_livres_de_poche_part_de_la_production_en_exemplaires': None, 'poids_des_livres_de_poche_part_de_la_production_en_titres': None, 'poids_des_livres_de_poche_part_des_exemplaires_vendus': None, 'poids_des_livres_de_poche_part_du_chiffre_d_affaires_des_editeurs': None, 'indice_annuel_des_prix_a_la_consommation_base_2015_ensemble_des_menages_france_ensemble': 81.2, 'indice_annuel_des_prix_a_la_consommation_base_2015_ensemble_des_menages_france_nomenclature_coicop_0': 85.2, 'indice_annuel_des_prix_a_la_consommation_base_2015_ensemble_des_menages_france_nomenclature_coicop_1': 80.7, 'indice_annuel_des_prix_a_la_consommation_base_2015_ensemble_des_menages_france_nomenclature_coicop_2': 87.1, 'indice_annuel_des_prix_a_la_consommation_base_2015_ensemble_des_menages_france_nomenclature_coicop_3': 92.0, 'indice_annuel_des_prix_a_la_consommation_base_2015_ensemble_des_menages_france_nomenclature_coicop_4': None, 'variation_annuelle_des_prix_a_la_consommation_ensemble_des_menages_france_ensemble': 0.016270337922402966, 'variation_annuelle_des_prix_a_la_consommation_ensemble_des_menages_france_nomenclature_coicop_09_5_1': 0.01549463647199043, 'marche_du_livre_aupres_des_particuliers_hors_scolaire_part_de_marche_du_livre_imprime_neuf_en_valeur': None, 'marche_du_livre_aupres_des_particuliers_hors_scolaire_part_de_marche_du_livre_d_occasion_en_valeur': None, 'marche_du_livre_aupres_des_particuliers_hors_scolaire_part_de_marche_du_livre_numerique_en_valeur': None, 'marche_du_livre_aupres_des_particuliers_hors_scolaire_part_de_marche_du_livre_imprime_neuf_en_volume': None, 'marche_du_livre_aupres_des_particuliers_hors_scolaire_part_de_marche_du_livre_d_occasion_en_volume': None, 'marche_du_livre_aupres_des_particuliers_hors_scolaire_part_de_marche_du_livre_numerique_en_volume': None, 'livres_imprimes_lieux_d_achat_autres': None, 'livres_imprimes_lieux_d_achat_grandes_surfaces_non_specialisees': None, 'livres_imprimes_lieux_d_achat_grandes_surfaces_specialisees': None, 'livres_imprimes_lieux_d_achat_internet': None, 'livres_imprimes_lieux_d_achat_librairies': None, 'livres_imprimes_lieux_d_achat_vpc_courtage_club': None, 'pratiques_d_achat_de_livres_au_moins_un_livre': None, 'pratiques_d_achat_de_livres_au_moins_un_livre_imprime': None, 'pratiques_d_achat_de_livres_au_moins_un_livre_d_occasion': None, 'pratiques_d_achat_de_livres_au_moins_un_livre_imprime_neuf': None, 'pratiques_d_achat_de_livres_au_moins_un_livre_numerique': None, 'pratiques_d_achat_de_livres_livre_imprime_neuf_1_a_4': None, 'pratiques_d_achat_de_livres_livre_imprime_neuf_12_et_plus': None, 'pratiques_d_achat_de_livres_livre_imprime_neuf_5_a_11': None, 'marche_du_livre_imprime_neuf_aupres_des_particuliers_hors_scolaire_fiction_part_en_valeur': None, 'marche_du_livre_imprime_neuf_aupres_des_particuliers_hors_scolaire_actualite_humour_essai_part_en_va': None, 'marche_du_livre_imprime_neuf_aupres_des_particuliers_hors_scolaire_histoire_biographie_historique_pa': None, 'marche_du_livre_imprime_neuf_aupres_des_particuliers_hors_scolaire_bd_et_mangas_part_en_valeur': None, 'marche_du_livre_imprime_neuf_aupres_des_particuliers_hors_scolaire_jeunesse_part_en_valeur': None, 'marche_du_livre_imprime_neuf_aupres_des_particuliers_hors_scolaire_beaux_livres_part_en_valeur': None, 'marche_du_livre_imprime_neuf_aupres_des_particuliers_hors_scolaire_livres_pratiques_part_en_valeur': None, 'marche_du_livre_imprime_neuf_aupres_des_particuliers_hors_scolaire_dictionnaires_et_encyclopedies_pa': None, 'marche_du_livre_imprime_neuf_aupres_des_particuliers_hors_scolaire_fiction_part_en_volume': None, 'marche_du_livre_imprime_neuf_aupres_des_particuliers_hors_scolaire_actualite_humour_essai_part_en_vo': None, 'marche_du_livre_imprime_neuf_aupres_des_particuliers_hors_scolaire_histoire_biographie_historique_p0': None, 'marche_du_livre_imprime_neuf_aupres_des_particuliers_hors_scolaire_bd_et_mangas_part_en_volume': None, 'marche_du_livre_imprime_neuf_aupres_des_particuliers_hors_scolaire_jeunesse_part_en_volume': None, 'marche_du_livre_imprime_neuf_aupres_des_particuliers_hors_scolaire_beaux_livres_part_en_volume': None, 'marche_du_livre_imprime_neuf_aupres_des_particuliers_hors_scolaire_livres_pratiques_part_en_volume': None, 'marche_du_livre_imprime_neuf_aupres_des_particuliers_hors_scolaire_dictionnaires_et_encyclopedies_p0': None, 'droits_d_auteur_verses_par_les_editeurs_en_meur': None, 'nombre_de_references_vendues': None, 'consommation_effective_des_menages_en_valeur_aux_prix_courants_livres_meur': 3413.0, 'chiffre_d_affaires_de_l_edition_numerique_en_meur': None, 'chiffre_d_affaires_des_editeurs_cessions_de_droits_en_meur': 98.6, 'chiffre_d_affaires_des_editeurs_ensemble_en_meur': 2352.8, 'chiffre_d_affaires_des_editeurs_ventes_de_livres_hors_scolaire_en_meur': None, 'chiffre_d_affaires_des_editeurs_ventes_de_livres_en_meur': 2254.2, 'nombre_d_exemplaires_vendus_hors_scolaire_en_millions_d_exemplaires': None, 'nombre_d_exemplaires_vendus_en_millions_d_exemplaires': None, 'evolution_des_ventes_au_detail_valeur_panel_distributeur': None, 'evolution_des_ventes_au_detail_volume_panel_distributeur': None, 'evolution_des_ventes_au_detail_valeur_barometre_des_ventes': 0.03, 'evolution_des_ventes_au_detail_volume_barometre_des_ventes': None, 'poids_des_meilleures_ventes_10_premiers': None, 'poids_des_meilleures_ventes_1000_premiers': None, 'poids_des_meilleures_ventes_10000_premiers': None, 'poids_des_meilleures_ventes_5_premiers': None, 'exportations_de_livres_drom_com_en_meur': None, 'exportations_de_livres_yc_drom_com_et_feuillets_en_meur': 628.4, 'cessions_de_droits_a_l_exportation_en_nombre_de_titres': 5736.0, 'cessions_de_droits_a_l_exportation_en_nombre_de_titres_coeditions': None, 'cessions_de_droits_a_l_exportation_en_nombre_de_titres_hors_coeditions': None, 'part_des_francais_ayant_lu_1_a_4_livres_imprimes': None, 'part_des_francais_ayant_lu_20_livres_imprimes_ou_plus': None, 'part_des_francais_ayant_lu_5_a_19_livres_imprimes': None, 'part_des_francais_ayant_lu_au_moins_un_livre_imprime': None, 'avoir_deja_ecoute_un_livre_audio': None, 'avoir_deja_lu_un_livre_numerique': None, 'achats_de_livres_des_bibliotheques_bibliotheques_municipales_et_intercommunales_en_millions_de_volum': None, 'prets_dans_les_bibliotheques_municipales_et_intercommunales_livres_imprimes_en_millions': None, 'prets_dans_les_bibliotheques_municipales_et_intercommunales_tous_supports_en_millions': None, 'achat_de_livres_imprimes_en_euros': None, 'livres_entrees_de_documents_volumes_ou_unites_materielles': None, 'livres_etrangers_entrees_de_documents_volumes_ou_unites_materielles': None, 'livres_francais_entrees_de_documents_volumes_ou_unites_materielles': None, 'droit_de_pret_auteurs_beneficiaires_annee_de_mise_en_distribution': None, 'droit_de_pret_editeurs_beneficiaires_annee_de_mise_en_distribution': None, 'droit_de_pret_montants_repartis_annee_de_mise_en_distribution': None, 'droit_de_pret_nombre_de_titres_annee_de_mise_en_distribution': None, 'droit_de_pret_nombre_d_exemplaires_annee_de_mise_en_distribution': None}, {'annee': '2005', 'nombre_de_livres_deposes': 61761.0, 'nombre_de_titres_disponibles_titres_imprimes': None, 'nombre_de_titres_disponibles_titres_numeriques': None, 'production_commercialisee_nouveautes_et_nouvelles_editions_hors_auto_edition_edition_a_compte_d_aute': 53462.0, 'tirage_moyen': 7587.0, 'nombre_de_traductions_dans_la_production_commercialisee_de_livres_imprimes': None, 'nombre_de_traductions_dans_la_production_commercialisee_de_livres_imprimes_anglais': None, 'nombre_de_traductions_dans_la_production_commercialisee_de_livres_imprimes_espagnol': None, 'nombre_de_traductions_dans_la_production_commercialisee_de_livres_imprimes_germanique': None, 'nombre_de_traductions_dans_la_production_commercialisee_de_livres_imprimes_italien': None, 'nombre_de_traductions_dans_la_production_commercialisee_de_livres_imprimes_japonais': None, 'nombre_de_traductions_dans_la_production_commercialisee_de_livres_imprimes_scandinave': None, 'part_des_traductions_dans_la_production_commercialisee_de_livres_imprimes': None, 'poids_des_livres_de_poche_part_de_la_production_en_exemplaires': 0.315, 'poids_des_livres_de_poche_part_de_la_production_en_titres': 0.236, 'poids_des_livres_de_poche_part_des_exemplaires_vendus': 0.283, 'poids_des_livres_de_poche_part_du_chiffre_d_affaires_des_editeurs': 0.161, 'indice_annuel_des_prix_a_la_consommation_base_2015_ensemble_des_menages_france_ensemble': 87.9, 'indice_annuel_des_prix_a_la_consommation_base_2015_ensemble_des_menages_france_nomenclature_coicop_0': 89.1, 'indice_annuel_des_prix_a_la_consommation_base_2015_ensemble_des_menages_france_nomenclature_coicop_1': 83.0, 'indice_annuel_des_prix_a_la_consommation_base_2015_ensemble_des_menages_france_nomenclature_coicop_2': 90.8, 'indice_annuel_des_prix_a_la_consommation_base_2015_ensemble_des_menages_france_nomenclature_coicop_3': 97.5, 'indice_annuel_des_prix_a_la_consommation_base_2015_ensemble_des_menages_france_nomenclature_coicop_4': None, 'variation_annuelle_des_prix_a_la_consommation_ensemble_des_menages_france_ensemble': 0.01853997682502907, 'variation_annuelle_des_prix_a_la_consommation_ensemble_des_menages_france_nomenclature_coicop_09_5_1': 0.006779661016949088, 'marche_du_livre_aupres_des_particuliers_hors_scolaire_part_de_marche_du_livre_imprime_neuf_en_valeur': None, 'marche_du_livre_aupres_des_particuliers_hors_scolaire_part_de_marche_du_livre_d_occasion_en_valeur': None, 'marche_du_livre_aupres_des_particuliers_hors_scolaire_part_de_marche_du_livre_numerique_en_valeur': None, 'marche_du_livre_aupres_des_particuliers_hors_scolaire_part_de_marche_du_livre_imprime_neuf_en_volume': None, 'marche_du_livre_aupres_des_particuliers_hors_scolaire_part_de_marche_du_livre_d_occasion_en_volume': None, 'marche_du_livre_aupres_des_particuliers_hors_scolaire_part_de_marche_du_livre_numerique_en_volume': None, 'livres_imprimes_lieux_d_achat_autres': 0.085, 'livres_imprimes_lieux_d_achat_grandes_surfaces_non_specialisees': 0.207, 'livres_imprimes_lieux_d_achat_grandes_surfaces_specialisees': 0.217, 'livres_imprimes_lieux_d_achat_internet': 0.054, 'livres_imprimes_lieux_d_achat_librairies': 0.267, 'livres_imprimes_lieux_d_achat_vpc_courtage_club': 0.17, 'pratiques_d_achat_de_livres_au_moins_un_livre': None, 'pratiques_d_achat_de_livres_au_moins_un_livre_imprime': None, 'pratiques_d_achat_de_livres_au_moins_un_livre_d_occasion': None, 'pratiques_d_achat_de_livres_au_moins_un_livre_imprime_neuf': None, 'pratiques_d_achat_de_livres_au_moins_un_livre_numerique': None, 'pratiques_d_achat_de_livres_livre_imprime_neuf_1_a_4': None, 'pratiques_d_achat_de_livres_livre_imprime_neuf_12_et_plus': None, 'pratiques_d_achat_de_livres_livre_imprime_neuf_5_a_11': None, 'marche_du_livre_imprime_neuf_aupres_des_particuliers_hors_scolaire_fiction_part_en_valeur': None, 'marche_du_livre_imprime_neuf_aupres_des_particuliers_hors_scolaire_actualite_humour_essai_part_en_va': None, 'marche_du_livre_imprime_neuf_aupres_des_particuliers_hors_scolaire_histoire_biographie_historique_pa': None, 'marche_du_livre_imprime_neuf_aupres_des_particuliers_hors_scolaire_bd_et_mangas_part_en_valeur': None, 'marche_du_livre_imprime_neuf_aupres_des_particuliers_hors_scolaire_jeunesse_part_en_valeur': None, 'marche_du_livre_imprime_neuf_aupres_des_particuliers_hors_scolaire_beaux_livres_part_en_valeur': None, 'marche_du_livre_imprime_neuf_aupres_des_particuliers_hors_scolaire_livres_pratiques_part_en_valeur': None, 'marche_du_livre_imprime_neuf_aupres_des_particuliers_hors_scolaire_dictionnaires_et_encyclopedies_pa': None, 'marche_du_livre_imprime_neuf_aupres_des_particuliers_hors_scolaire_fiction_part_en_volume': None, 'marche_du_livre_imprime_neuf_aupres_des_particuliers_hors_scolaire_actualite_humour_essai_part_en_vo': None, 'marche_du_livre_imprime_neuf_aupres_des_particuliers_hors_scolaire_histoire_biographie_historique_p0': None, 'marche_du_livre_imprime_neuf_aupres_des_particuliers_hors_scolaire_bd_et_mangas_part_en_volume': None, 'marche_du_livre_imprime_neuf_aupres_des_particuliers_hors_scolaire_jeunesse_part_en_volume': None, 'marche_du_livre_imprime_neuf_aupres_des_particuliers_hors_scolaire_beaux_livres_part_en_volume': None, 'marche_du_livre_imprime_neuf_aupres_des_particuliers_hors_scolaire_livres_pratiques_part_en_volume': None, 'marche_du_livre_imprime_neuf_aupres_des_particuliers_hors_scolaire_dictionnaires_et_encyclopedies_p0': None, 'droits_d_auteur_verses_par_les_editeurs_en_meur': 470.0, 'nombre_de_references_vendues': None, 'consommation_effective_des_menages_en_valeur_aux_prix_courants_livres_meur': 3833.5, 'chiffre_d_affaires_de_l_edition_numerique_en_meur': None, 'chiffre_d_affaires_des_editeurs_cessions_de_droits_en_meur': 118.0, 'chiffre_d_affaires_des_editeurs_ensemble_en_meur': 2746.0, 'chiffre_d_affaires_des_editeurs_ventes_de_livres_hors_scolaire_en_meur': None, 'chiffre_d_affaires_des_editeurs_ventes_de_livres_en_meur': 2628.0, 'nombre_d_exemplaires_vendus_hors_scolaire_en_millions_d_exemplaires': None, 'nombre_d_exemplaires_vendus_en_millions_d_exemplaires': 460.5, 'evolution_des_ventes_au_detail_valeur_panel_distributeur': None, 'evolution_des_ventes_au_detail_volume_panel_distributeur': None, 'evolution_des_ventes_au_detail_valeur_barometre_des_ventes': -0.005, 'evolution_des_ventes_au_detail_volume_barometre_des_ventes': -0.015, 'poids_des_meilleures_ventes_10_premiers': None, 'poids_des_meilleures_ventes_1000_premiers': None, 'poids_des_meilleures_ventes_10000_premiers': None, 'poids_des_meilleures_ventes_5_premiers': None, 'exportations_de_livres_drom_com_en_meur': None, 'exportations_de_livres_yc_drom_com_et_feuillets_en_meur': 684.5, 'cessions_de_droits_a_l_exportation_en_nombre_de_titres': 6028.0, 'cessions_de_droits_a_l_exportation_en_nombre_de_titres_coeditions': None, 'cessions_de_droits_a_l_exportation_en_nombre_de_titres_hors_coeditions': None, 'part_des_francais_ayant_lu_1_a_4_livres_imprimes': None, 'part_des_francais_ayant_lu_20_livres_imprimes_ou_plus': None, 'part_des_francais_ayant_lu_5_a_19_livres_imprimes': None, 'part_des_francais_ayant_lu_au_moins_un_livre_imprime': None, 'avoir_deja_ecoute_un_livre_audio': None, 'avoir_deja_lu_un_livre_numerique': None, 'achats_de_livres_des_bibliotheques_bibliotheques_municipales_et_intercommunales_en_millions_de_volum': None, 'prets_dans_les_bibliotheques_municipales_et_intercommunales_livres_imprimes_en_millions': None, 'prets_dans_les_bibliotheques_municipales_et_intercommunales_tous_supports_en_millions': None, 'achat_de_livres_imprimes_en_euros': None, 'livres_entrees_de_documents_volumes_ou_unites_materielles': None, 'livres_etrangers_entrees_de_documents_volumes_ou_unites_materielles': None, 'livres_francais_entrees_de_documents_volumes_ou_unites_materielles': None, 'droit_de_pret_auteurs_beneficiaires_annee_de_mise_en_distribution': None, 'droit_de_pret_editeurs_beneficiaires_annee_de_mise_en_distribution': None, 'droit_de_pret_montants_repartis_annee_de_mise_en_distribution': None, 'droit_de_pret_nombre_de_titres_annee_de_mise_en_distribution': None, 'droit_de_pret_nombre_d_exemplaires_annee_de_mise_en_distribution': None}, {'annee': '2011', 'nombre_de_livres_deposes': 70109.0, 'nombre_de_titres_disponibles_titres_imprimes': 622440.0, 'nombre_de_titres_disponibles_titres_numeriques': None, 'production_commercialisee_nouveautes_et_nouvelles_editions_hors_auto_edition_edition_a_compte_d_aute': 64347.0, 'tirage_moyen': 7630.0, 'nombre_de_traductions_dans_la_production_commercialisee_de_livres_imprimes': None, 'nombre_de_traductions_dans_la_production_commercialisee_de_livres_imprimes_anglais': None, 'nombre_de_traductions_dans_la_production_commercialisee_de_livres_imprimes_espagnol': None, 'nombre_de_traductions_dans_la_production_commercialisee_de_livres_imprimes_germanique': None, 'nombre_de_traductions_dans_la_production_commercialisee_de_livres_imprimes_italien': None, 'nombre_de_traductions_dans_la_production_commercialisee_de_livres_imprimes_japonais': None, 'nombre_de_traductions_dans_la_production_commercialisee_de_livres_imprimes_scandinave': None, 'part_des_traductions_dans_la_production_commercialisee_de_livres_imprimes': 0.159, 'poids_des_livres_de_poche_part_de_la_production_en_exemplaires': 0.21, 'poids_des_livres_de_poche_part_de_la_production_en_titres': 0.179, 'poids_des_livres_de_poche_part_des_exemplaires_vendus': 0.238, 'poids_des_livres_de_poche_part_du_chiffre_d_affaires_des_editeurs': 0.13, 'indice_annuel_des_prix_a_la_consommation_base_2015_ensemble_des_menages_france_ensemble': 96.71, 'indice_annuel_des_prix_a_la_consommation_base_2015_ensemble_des_menages_france_nomenclature_coicop_0': 95.79, 'indice_annuel_des_prix_a_la_consommation_base_2015_ensemble_des_menages_france_nomenclature_coicop_1': 93.21, 'indice_annuel_des_prix_a_la_consommation_base_2015_ensemble_des_menages_france_nomenclature_coicop_2': 95.21, 'indice_annuel_des_prix_a_la_consommation_base_2015_ensemble_des_menages_france_nomenclature_coicop_3': 100.28, 'indice_annuel_des_prix_a_la_consommation_base_2015_ensemble_des_menages_france_nomenclature_coicop_4': None, 'variation_annuelle_des_prix_a_la_consommation_ensemble_des_menages_france_ensemble': 0.021117094287825995, 'variation_annuelle_des_prix_a_la_consommation_ensemble_des_menages_france_nomenclature_coicop_09_5_1': 0.022196137018461345, 'marche_du_livre_aupres_des_particuliers_hors_scolaire_part_de_marche_du_livre_imprime_neuf_en_valeur': 0.9523809523809523, 'marche_du_livre_aupres_des_particuliers_hors_scolaire_part_de_marche_du_livre_d_occasion_en_valeur': 0.0374384236453202, 'marche_du_livre_aupres_des_particuliers_hors_scolaire_part_de_marche_du_livre_numerique_en_valeur': 0.01, 'marche_du_livre_aupres_des_particuliers_hors_scolaire_part_de_marche_du_livre_imprime_neuf_en_volume': 0.8628099173553719, 'marche_du_livre_aupres_des_particuliers_hors_scolaire_part_de_marche_du_livre_d_occasion_en_volume': 0.12727272727272726, 'marche_du_livre_aupres_des_particuliers_hors_scolaire_part_de_marche_du_livre_numerique_en_volume': 0.01, 'livres_imprimes_lieux_d_achat_autres': None, 'livres_imprimes_lieux_d_achat_grandes_surfaces_non_specialisees': None, 'livres_imprimes_lieux_d_achat_grandes_surfaces_specialisees': None, 'livres_imprimes_lieux_d_achat_internet': None, 'livres_imprimes_lieux_d_achat_librairies': None, 'livres_imprimes_lieux_d_achat_vpc_courtage_club': None, 'pratiques_d_achat_de_livres_au_moins_un_livre': None, 'pratiques_d_achat_de_livres_au_moins_un_livre_imprime': None, 'pratiques_d_achat_de_livres_au_moins_un_livre_d_occasion': None, 'pratiques_d_achat_de_livres_au_moins_un_livre_imprime_neuf': None, 'pratiques_d_achat_de_livres_au_moins_un_livre_numerique': None, 'pratiques_d_achat_de_livres_livre_imprime_neuf_1_a_4': None, 'pratiques_d_achat_de_livres_livre_imprime_neuf_12_et_plus': None, 'pratiques_d_achat_de_livres_livre_imprime_neuf_5_a_11': None, 'marche_du_livre_imprime_neuf_aupres_des_particuliers_hors_scolaire_fiction_part_en_valeur': 0.375, 'marche_du_livre_imprime_neuf_aupres_des_particuliers_hors_scolaire_actualite_humour_essai_part_en_va': 0.154, 'marche_du_livre_imprime_neuf_aupres_des_particuliers_hors_scolaire_histoire_biographie_historique_pa': 'Agrégé avec Actualité, humour, essai,…', 'marche_du_livre_imprime_neuf_aupres_des_particuliers_hors_scolaire_bd_et_mangas_part_en_valeur': 0.172, 'marche_du_livre_imprime_neuf_aupres_des_particuliers_hors_scolaire_jeunesse_part_en_valeur': 0.11099999999999999, 'marche_du_livre_imprime_neuf_aupres_des_particuliers_hors_scolaire_beaux_livres_part_en_valeur': 0.044000000000000004, 'marche_du_livre_imprime_neuf_aupres_des_particuliers_hors_scolaire_livres_pratiques_part_en_valeur': 0.08099999999999999, 'marche_du_livre_imprime_neuf_aupres_des_particuliers_hors_scolaire_dictionnaires_et_encyclopedies_pa': 0.063, 'marche_du_livre_imprime_neuf_aupres_des_particuliers_hors_scolaire_fiction_part_en_volume': 0.375, 'marche_du_livre_imprime_neuf_aupres_des_particuliers_hors_scolaire_actualite_humour_essai_part_en_vo': 0.11699999999999999, 'marche_du_livre_imprime_neuf_aupres_des_particuliers_hors_scolaire_histoire_biographie_historique_p0': 'Agrégé avec Actualité, humour, essai,…', 'marche_du_livre_imprime_neuf_aupres_des_particuliers_hors_scolaire_bd_et_mangas_part_en_volume': 0.202, 'marche_du_livre_imprime_neuf_aupres_des_particuliers_hors_scolaire_jeunesse_part_en_volume': 0.166, 'marche_du_livre_imprime_neuf_aupres_des_particuliers_hors_scolaire_beaux_livres_part_en_volume': 0.023, 'marche_du_livre_imprime_neuf_aupres_des_particuliers_hors_scolaire_livres_pratiques_part_en_volume': 0.07, 'marche_du_livre_imprime_neuf_aupres_des_particuliers_hors_scolaire_dictionnaires_et_encyclopedies_p0': 0.048, 'droits_d_auteur_verses_par_les_editeurs_en_meur': 427.0, 'nombre_de_references_vendues': None, 'consommation_effective_des_menages_en_valeur_aux_prix_courants_livres_meur': 3963.9, 'chiffre_d_affaires_de_l_edition_numerique_en_meur': 56.8, 'chiffre_d_affaires_des_editeurs_cessions_de_droits_en_meur': 135.0, 'chiffre_d_affaires_des_editeurs_ensemble_en_meur': 2804.0, 'chiffre_d_affaires_des_editeurs_ventes_de_livres_hors_scolaire_en_meur': 2254.0, 'chiffre_d_affaires_des_editeurs_ventes_de_livres_en_meur': 2669.0, 'nombre_d_exemplaires_vendus_hors_scolaire_en_millions_d_exemplaires': 381.3, 'nombre_d_exemplaires_vendus_en_millions_d_exemplaires': 450.6, 'evolution_des_ventes_au_detail_valeur_panel_distributeur': None, 'evolution_des_ventes_au_detail_volume_panel_distributeur': None, 'evolution_des_ventes_au_detail_valeur_barometre_des_ventes': -0.01, 'evolution_des_ventes_au_detail_volume_barometre_des_ventes': -0.03, 'poids_des_meilleures_ventes_10_premiers': None, 'poids_des_meilleures_ventes_1000_premiers': None, 'poids_des_meilleures_ventes_10000_premiers': None, 'poids_des_meilleures_ventes_5_premiers': None, 'exportations_de_livres_drom_com_en_meur': 65.0, 'exportations_de_livres_yc_drom_com_et_feuillets_en_meur': 701.0, 'cessions_de_droits_a_l_exportation_en_nombre_de_titres': 9664.0, 'cessions_de_droits_a_l_exportation_en_nombre_de_titres_coeditions': None, 'cessions_de_droits_a_l_exportation_en_nombre_de_titres_hors_coeditions': None, 'part_des_francais_ayant_lu_1_a_4_livres_imprimes': None, 'part_des_francais_ayant_lu_20_livres_imprimes_ou_plus': None, 'part_des_francais_ayant_lu_5_a_19_livres_imprimes': None, 'part_des_francais_ayant_lu_au_moins_un_livre_imprime': None, 'avoir_deja_ecoute_un_livre_audio': None, 'avoir_deja_lu_un_livre_numerique': None, 'achats_de_livres_des_bibliotheques_bibliotheques_municipales_et_intercommunales_en_millions_de_volum': 9.1, 'prets_dans_les_bibliotheques_municipales_et_intercommunales_livres_imprimes_en_millions': 207.5, 'prets_dans_les_bibliotheques_municipales_et_intercommunales_tous_supports_en_millions': 283.3, 'achat_de_livres_imprimes_en_euros': None, 'livres_entrees_de_documents_volumes_ou_unites_materielles': None, 'livres_etrangers_entrees_de_documents_volumes_ou_unites_materielles': None, 'livres_francais_entrees_de_documents_volumes_ou_unites_materielles': None, 'droit_de_pret_auteurs_beneficiaires_annee_de_mise_en_distribution': 59538.0, 'droit_de_pret_editeurs_beneficiaires_annee_de_mise_en_distribution': 2070.0, 'droit_de_pret_montants_repartis_annee_de_mise_en_distribution': 15405181.0, 'droit_de_pret_nombre_de_titres_annee_de_mise_en_distribution': 399758.0, 'droit_de_pret_nombre_d_exemplaires_annee_de_mise_en_distribution': 6891348.0}, {'annee': '2012', 'nombre_de_livres_deposes': 72139.0, 'nombre_de_titres_disponibles_titres_imprimes': 644610.0, 'nombre_de_titres_disponibles_titres_numeriques': None, 'production_commercialisee_nouveautes_et_nouvelles_editions_hors_auto_edition_edition_a_compte_d_aute': 65425.0, 'tirage_moyen': 7282.0, 'nombre_de_traductions_dans_la_production_commercialisee_de_livres_imprimes': None, 'nombre_de_traductions_dans_la_production_commercialisee_de_livres_imprimes_anglais': None, 'nombre_de_traductions_dans_la_production_commercialisee_de_livres_imprimes_espagnol': None, 'nombre_de_traductions_dans_la_production_commercialisee_de_livres_imprimes_germanique': None, 'nombre_de_traductions_dans_la_production_commercialisee_de_livres_imprimes_italien': None, 'nombre_de_traductions_dans_la_production_commercialisee_de_livres_imprimes_japonais': None, 'nombre_de_traductions_dans_la_production_commercialisee_de_livres_imprimes_scandinave': None, 'part_des_traductions_dans_la_production_commercialisee_de_livres_imprimes': 0.173, 'poids_des_livres_de_poche_part_de_la_production_en_exemplaires': 0.228, 'poids_des_livres_de_poche_part_de_la_production_en_titres': 0.185, 'poids_des_livres_de_poche_part_des_exemplaires_vendus': 0.254, 'poids_des_livres_de_poche_part_du_chiffre_d_affaires_des_editeurs': 0.135, 'indice_annuel_des_prix_a_la_consommation_base_2015_ensemble_des_menages_france_ensemble': 98.6, 'indice_annuel_des_prix_a_la_consommation_base_2015_ensemble_des_menages_france_nomenclature_coicop_0': 98.56, 'indice_annuel_des_prix_a_la_consommation_base_2015_ensemble_des_menages_france_nomenclature_coicop_1': 96.12, 'indice_annuel_des_prix_a_la_consommation_base_2015_ensemble_des_menages_france_nomenclature_coicop_2': 97.28, 'indice_annuel_des_prix_a_la_consommation_base_2015_ensemble_des_menages_france_nomenclature_coicop_3': 103.27, 'indice_annuel_des_prix_a_la_consommation_base_2015_ensemble_des_menages_france_nomenclature_coicop_4': None, 'variation_annuelle_des_prix_a_la_consommation_ensemble_des_menages_france_ensemble': 0.01954296349912109, 'variation_annuelle_des_prix_a_la_consommation_ensemble_des_menages_france_nomenclature_coicop_09_5_1': 0.028917423530639898, 'marche_du_livre_aupres_des_particuliers_hors_scolaire_part_de_marche_du_livre_imprime_neuf_en_valeur': 0.9277978339350181, 'marche_du_livre_aupres_des_particuliers_hors_scolaire_part_de_marche_du_livre_d_occasion_en_valeur': 0.05415162454873647, 'marche_du_livre_aupres_des_particuliers_hors_scolaire_part_de_marche_du_livre_numerique_en_valeur': 0.018, 'marche_du_livre_aupres_des_particuliers_hors_scolaire_part_de_marche_du_livre_imprime_neuf_en_volume': 0.8479766678818811, 'marche_du_livre_aupres_des_particuliers_hors_scolaire_part_de_marche_du_livre_d_occasion_en_volume': 0.12905577834487786, 'marche_du_livre_aupres_des_particuliers_hors_scolaire_part_de_marche_du_livre_numerique_en_volume': 0.023, 'livres_imprimes_lieux_d_achat_autres': 0.04, 'livres_imprimes_lieux_d_achat_grandes_surfaces_non_specialisees': 0.195, 'livres_imprimes_lieux_d_achat_grandes_surfaces_specialisees': 0.225, 'livres_imprimes_lieux_d_achat_internet': 0.17, 'livres_imprimes_lieux_d_achat_librairies': 0.22, 'livres_imprimes_lieux_d_achat_vpc_courtage_club': 0.15, 'pratiques_d_achat_de_livres_au_moins_un_livre': 0.54, 'pratiques_d_achat_de_livres_au_moins_un_livre_imprime': 0.53, 'pratiques_d_achat_de_livres_au_moins_un_livre_d_occasion': 0.1, 'pratiques_d_achat_de_livres_au_moins_un_livre_imprime_neuf': 0.52, 'pratiques_d_achat_de_livres_au_moins_un_livre_numerique': 0.025, 'pratiques_d_achat_de_livres_livre_imprime_neuf_1_a_4': 0.24, 'pratiques_d_achat_de_livres_livre_imprime_neuf_12_et_plus': 0.12, 'pratiques_d_achat_de_livres_livre_imprime_neuf_5_a_11': 0.17, 'marche_du_livre_imprime_neuf_aupres_des_particuliers_hors_scolaire_fiction_part_en_valeur': 0.304, 'marche_du_livre_imprime_neuf_aupres_des_particuliers_hors_scolaire_actualite_humour_essai_part_en_va': 0.156, 'marche_du_livre_imprime_neuf_aupres_des_particuliers_hors_scolaire_histoire_biographie_historique_pa': 'Agrégé avec Actualité, humour, essai,…', 'marche_du_livre_imprime_neuf_aupres_des_particuliers_hors_scolaire_bd_et_mangas_part_en_valeur': 0.11400000000000002, 'marche_du_livre_imprime_neuf_aupres_des_particuliers_hors_scolaire_jeunesse_part_en_valeur': 0.151, 'marche_du_livre_imprime_neuf_aupres_des_particuliers_hors_scolaire_beaux_livres_part_en_valeur': 0.06, 'marche_du_livre_imprime_neuf_aupres_des_particuliers_hors_scolaire_livres_pratiques_part_en_valeur': 0.144, 'marche_du_livre_imprime_neuf_aupres_des_particuliers_hors_scolaire_dictionnaires_et_encyclopedies_pa': 0.06999999999999999, 'marche_du_livre_imprime_neuf_aupres_des_particuliers_hors_scolaire_fiction_part_en_volume': 0.30300000000000005, 'marche_du_livre_imprime_neuf_aupres_des_particuliers_hors_scolaire_actualite_humour_essai_part_en_vo': 0.119, 'marche_du_livre_imprime_neuf_aupres_des_particuliers_hors_scolaire_histoire_biographie_historique_p0': 'Agrégé avec Actualité, humour, essai,…', 'marche_du_livre_imprime_neuf_aupres_des_particuliers_hors_scolaire_bd_et_mangas_part_en_volume': 0.11800000000000002, 'marche_du_livre_imprime_neuf_aupres_des_particuliers_hors_scolaire_jeunesse_part_en_volume': 0.217, 'marche_du_livre_imprime_neuf_aupres_des_particuliers_hors_scolaire_beaux_livres_part_en_volume': 0.032, 'marche_du_livre_imprime_neuf_aupres_des_particuliers_hors_scolaire_livres_pratiques_part_en_volume': 0.139, 'marche_du_livre_imprime_neuf_aupres_des_particuliers_hors_scolaire_dictionnaires_et_encyclopedies_p0': 0.072, 'droits_d_auteur_verses_par_les_editeurs_en_meur': 437.0, 'nombre_de_references_vendues': None, 'consommation_effective_des_menages_en_valeur_aux_prix_courants_livres_meur': 3904.4, 'chiffre_d_affaires_de_l_edition_numerique_en_meur': 81.8, 'chiffre_d_affaires_des_editeurs_cessions_de_droits_en_meur': 133.0, 'chiffre_d_affaires_des_editeurs_ensemble_en_meur': 2771.0, 'chiffre_d_affaires_des_editeurs_ventes_de_livres_hors_scolaire_en_meur': 2267.0, 'chiffre_d_affaires_des_editeurs_ventes_de_livres_en_meur': 2639.0, 'nombre_d_exemplaires_vendus_hors_scolaire_en_millions_d_exemplaires': 381.9, 'nombre_d_exemplaires_vendus_en_millions_d_exemplaires': 440.9, 'evolution_des_ventes_au_detail_valeur_panel_distributeur': None, 'evolution_des_ventes_au_detail_volume_panel_distributeur': None, 'evolution_des_ventes_au_detail_valeur_barometre_des_ventes': -0.015, 'evolution_des_ventes_au_detail_volume_barometre_des_ventes': -0.045, 'poids_des_meilleures_ventes_10_premiers': None, 'poids_des_meilleures_ventes_1000_premiers': None, 'poids_des_meilleures_ventes_10000_premiers': None, 'poids_des_meilleures_ventes_5_premiers': None, 'exportations_de_livres_drom_com_en_meur': 57.2, 'exportations_de_livres_yc_drom_com_et_feuillets_en_meur': 712.5, 'cessions_de_droits_a_l_exportation_en_nombre_de_titres': 10798.0, 'cessions_de_droits_a_l_exportation_en_nombre_de_titres_coeditions': None, 'cessions_de_droits_a_l_exportation_en_nombre_de_titres_hors_coeditions': None, 'part_des_francais_ayant_lu_1_a_4_livres_imprimes': None, 'part_des_francais_ayant_lu_20_livres_imprimes_ou_plus': None, 'part_des_francais_ayant_lu_5_a_19_livres_imprimes': None, 'part_des_francais_ayant_lu_au_moins_un_livre_imprime': None, 'avoir_deja_ecoute_un_livre_audio': None, 'avoir_deja_lu_un_livre_numerique': 0.14, 'achats_de_livres_des_bibliotheques_bibliotheques_municipales_et_intercommunales_en_millions_de_volum': 8.9, 'prets_dans_les_bibliotheques_municipales_et_intercommunales_livres_imprimes_en_millions': 203.6, 'prets_dans_les_bibliotheques_municipales_et_intercommunales_tous_supports_en_millions': 277.4, 'achat_de_livres_imprimes_en_euros': None, 'livres_entrees_de_documents_volumes_ou_unites_materielles': None, 'livres_etrangers_entrees_de_documents_volumes_ou_unites_materielles': None, 'livres_francais_entrees_de_documents_volumes_ou_unites_materielles': None, 'droit_de_pret_auteurs_beneficiaires_annee_de_mise_en_distribution': 57853.0, 'droit_de_pret_editeurs_beneficiaires_annee_de_mise_en_distribution': 2138.0, 'droit_de_pret_montants_repartis_annee_de_mise_en_distribution': 14096119.0, 'droit_de_pret_nombre_de_titres_annee_de_mise_en_distribution': 418235.0, 'droit_de_pret_nombre_d_exemplaires_annee_de_mise_en_distribution': 6414807.0}, {'annee': '2000', 'nombre_de_livres_deposes': None, 'nombre_de_titres_disponibles_titres_imprimes': None, 'nombre_de_titres_disponibles_titres_numeriques': None, 'production_commercialisee_nouveautes_et_nouvelles_editions_hors_auto_edition_edition_a_compte_d_aute': None, 'tirage_moyen': 8158.0, 'nombre_de_traductions_dans_la_production_commercialisee_de_livres_imprimes': None, 'nombre_de_traductions_dans_la_production_commercialisee_de_livres_imprimes_anglais': None, 'nombre_de_traductions_dans_la_production_commercialisee_de_livres_imprimes_espagnol': None, 'nombre_de_traductions_dans_la_production_commercialisee_de_livres_imprimes_germanique': None, 'nombre_de_traductions_dans_la_production_commercialisee_de_livres_imprimes_italien': None, 'nombre_de_traductions_dans_la_production_commercialisee_de_livres_imprimes_japonais': None, 'nombre_de_traductions_dans_la_production_commercialisee_de_livres_imprimes_scandinave': None, 'part_des_traductions_dans_la_production_commercialisee_de_livres_imprimes': None, 'poids_des_livres_de_poche_part_de_la_production_en_exemplaires': None, 'poids_des_livres_de_poche_part_de_la_production_en_titres': None, 'poids_des_livres_de_poche_part_des_exemplaires_vendus': None, 'poids_des_livres_de_poche_part_du_chiffre_d_affaires_des_editeurs': None, 'indice_annuel_des_prix_a_la_consommation_base_2015_ensemble_des_menages_france_ensemble': 79.9, 'indice_annuel_des_prix_a_la_consommation_base_2015_ensemble_des_menages_france_nomenclature_coicop_0': 83.9, 'indice_annuel_des_prix_a_la_consommation_base_2015_ensemble_des_menages_france_nomenclature_coicop_1': 79.0, 'indice_annuel_des_prix_a_la_consommation_base_2015_ensemble_des_menages_france_nomenclature_coicop_2': 86.0, 'indice_annuel_des_prix_a_la_consommation_base_2015_ensemble_des_menages_france_nomenclature_coicop_3': 90.8, 'indice_annuel_des_prix_a_la_consommation_base_2015_ensemble_des_menages_france_nomenclature_coicop_4': None, 'variation_annuelle_des_prix_a_la_consommation_ensemble_des_menages_france_ensemble': 0.016539440203562485, 'variation_annuelle_des_prix_a_la_consommation_ensemble_des_menages_france_nomenclature_coicop_09_5_1': 0.0, 'marche_du_livre_aupres_des_particuliers_hors_scolaire_part_de_marche_du_livre_imprime_neuf_en_valeur': None, 'marche_du_livre_aupres_des_particuliers_hors_scolaire_part_de_marche_du_livre_d_occasion_en_valeur': None, 'marche_du_livre_aupres_des_particuliers_hors_scolaire_part_de_marche_du_livre_numerique_en_valeur': None, 'marche_du_livre_aupres_des_particuliers_hors_scolaire_part_de_marche_du_livre_imprime_neuf_en_volume': None, 'marche_du_livre_aupres_des_particuliers_hors_scolaire_part_de_marche_du_livre_d_occasion_en_volume': None, 'marche_du_livre_aupres_des_particuliers_hors_scolaire_part_de_marche_du_livre_numerique_en_volume': None, 'livres_imprimes_lieux_d_achat_autres': None, 'livres_imprimes_lieux_d_achat_grandes_surfaces_non_specialisees': None, 'livres_imprimes_lieux_d_achat_grandes_surfaces_specialisees': None, 'livres_imprimes_lieux_d_achat_internet': None, 'livres_imprimes_lieux_d_achat_librairies': None, 'livres_imprimes_lieux_d_achat_vpc_courtage_club': None, 'pratiques_d_achat_de_livres_au_moins_un_livre': None, 'pratiques_d_achat_de_livres_au_moins_un_livre_imprime': None, 'pratiques_d_achat_de_livres_au_moins_un_livre_d_occasion': None, 'pratiques_d_achat_de_livres_au_moins_un_livre_imprime_neuf': None, 'pratiques_d_achat_de_livres_au_moins_un_livre_numerique': None, 'pratiques_d_achat_de_livres_livre_imprime_neuf_1_a_4': None, 'pratiques_d_achat_de_livres_livre_imprime_neuf_12_et_plus': None, 'pratiques_d_achat_de_livres_livre_imprime_neuf_5_a_11': None, 'marche_du_livre_imprime_neuf_aupres_des_particuliers_hors_scolaire_fiction_part_en_valeur': None, 'marche_du_livre_imprime_neuf_aupres_des_particuliers_hors_scolaire_actualite_humour_essai_part_en_va': None, 'marche_du_livre_imprime_neuf_aupres_des_particuliers_hors_scolaire_histoire_biographie_historique_pa': None, 'marche_du_livre_imprime_neuf_aupres_des_particuliers_hors_scolaire_bd_et_mangas_part_en_valeur': None, 'marche_du_livre_imprime_neuf_aupres_des_particuliers_hors_scolaire_jeunesse_part_en_valeur': None, 'marche_du_livre_imprime_neuf_aupres_des_particuliers_hors_scolaire_beaux_livres_part_en_valeur': None, 'marche_du_livre_imprime_neuf_aupres_des_particuliers_hors_scolaire_livres_pratiques_part_en_valeur': None, 'marche_du_livre_imprime_neuf_aupres_des_particuliers_hors_scolaire_dictionnaires_et_encyclopedies_pa': None, 'marche_du_livre_imprime_neuf_aupres_des_particuliers_hors_scolaire_fiction_part_en_volume': None, 'marche_du_livre_imprime_neuf_aupres_des_particuliers_hors_scolaire_actualite_humour_essai_part_en_vo': None, 'marche_du_livre_imprime_neuf_aupres_des_particuliers_hors_scolaire_histoire_biographie_historique_p0': None, 'marche_du_livre_imprime_neuf_aupres_des_particuliers_hors_scolaire_bd_et_mangas_part_en_volume': None, 'marche_du_livre_imprime_neuf_aupres_des_particuliers_hors_scolaire_jeunesse_part_en_volume': None, 'marche_du_livre_imprime_neuf_aupres_des_particuliers_hors_scolaire_beaux_livres_part_en_volume': None, 'marche_du_livre_imprime_neuf_aupres_des_particuliers_hors_scolaire_livres_pratiques_part_en_volume': None, 'marche_du_livre_imprime_neuf_aupres_des_particuliers_hors_scolaire_dictionnaires_et_encyclopedies_p0': None, 'droits_d_auteur_verses_par_les_editeurs_en_meur': None, 'nombre_de_references_vendues': None, 'consommation_effective_des_menages_en_valeur_aux_prix_courants_livres_meur': 3127.8, 'chiffre_d_affaires_de_l_edition_numerique_en_meur': None, 'chiffre_d_affaires_des_editeurs_cessions_de_droits_en_meur': None, 'chiffre_d_affaires_des_editeurs_ensemble_en_meur': None, 'chiffre_d_affaires_des_editeurs_ventes_de_livres_hors_scolaire_en_meur': None, 'chiffre_d_affaires_des_editeurs_ventes_de_livres_en_meur': None, 'nombre_d_exemplaires_vendus_hors_scolaire_en_millions_d_exemplaires': None, 'nombre_d_exemplaires_vendus_en_millions_d_exemplaires': None, 'evolution_des_ventes_au_detail_valeur_panel_distributeur': None, 'evolution_des_ventes_au_detail_volume_panel_distributeur': None, 'evolution_des_ventes_au_detail_valeur_barometre_des_ventes': None, 'evolution_des_ventes_au_detail_volume_barometre_des_ventes': None, 'poids_des_meilleures_ventes_10_premiers': None, 'poids_des_meilleures_ventes_1000_premiers': None, 'poids_des_meilleures_ventes_10000_premiers': None, 'poids_des_meilleures_ventes_5_premiers': None, 'exportations_de_livres_drom_com_en_meur': None, 'exportations_de_livres_yc_drom_com_et_feuillets_en_meur': None, 'cessions_de_droits_a_l_exportation_en_nombre_de_titres': None, 'cessions_de_droits_a_l_exportation_en_nombre_de_titres_coeditions': None, 'cessions_de_droits_a_l_exportation_en_nombre_de_titres_hors_coeditions': None, 'part_des_francais_ayant_lu_1_a_4_livres_imprimes': None, 'part_des_francais_ayant_lu_20_livres_imprimes_ou_plus': None, 'part_des_francais_ayant_lu_5_a_19_livres_imprimes': None, 'part_des_francais_ayant_lu_au_moins_un_livre_imprime': None, 'avoir_deja_ecoute_un_livre_audio': None, 'avoir_deja_lu_un_livre_numerique': None, 'achats_de_livres_des_bibliotheques_bibliotheques_municipales_et_intercommunales_en_millions_de_volum': None, 'prets_dans_les_bibliotheques_municipales_et_intercommunales_livres_imprimes_en_millions': None, 'prets_dans_les_bibliotheques_municipales_et_intercommunales_tous_supports_en_millions': None, 'achat_de_livres_imprimes_en_euros': None, 'livres_entrees_de_documents_volumes_ou_unites_materielles': None, 'livres_etrangers_entrees_de_documents_volumes_ou_unites_materielles': None, 'livres_francais_entrees_de_documents_volumes_ou_unites_materielles': None, 'droit_de_pret_auteurs_beneficiaires_annee_de_mise_en_distribution': None, 'droit_de_pret_editeurs_beneficiaires_annee_de_mise_en_distribution': None, 'droit_de_pret_montants_repartis_annee_de_mise_en_distribution': None, 'droit_de_pret_nombre_de_titres_annee_de_mise_en_distribution': None, 'droit_de_pret_nombre_d_exemplaires_annee_de_mise_en_distribution': None}, {'annee': '2002', 'nombre_de_livres_deposes': 53155.0, 'nombre_de_titres_disponibles_titres_imprimes': None, 'nombre_de_titres_disponibles_titres_numeriques': None, 'production_commercialisee_nouveautes_et_nouvelles_editions_hors_auto_edition_edition_a_compte_d_aute': 45787.0, 'tirage_moyen': 8190.0, 'nombre_de_traductions_dans_la_production_commercialisee_de_livres_imprimes': None, 'nombre_de_traductions_dans_la_production_commercialisee_de_livres_imprimes_anglais': None, 'nombre_de_traductions_dans_la_production_commercialisee_de_livres_imprimes_espagnol': None, 'nombre_de_traductions_dans_la_production_commercialisee_de_livres_imprimes_germanique': None, 'nombre_de_traductions_dans_la_production_commercialisee_de_livres_imprimes_italien': None, 'nombre_de_traductions_dans_la_production_commercialisee_de_livres_imprimes_japonais': None, 'nombre_de_traductions_dans_la_production_commercialisee_de_livres_imprimes_scandinave': None, 'part_des_traductions_dans_la_production_commercialisee_de_livres_imprimes': None, 'poids_des_livres_de_poche_part_de_la_production_en_exemplaires': None, 'poids_des_livres_de_poche_part_de_la_production_en_titres': None, 'poids_des_livres_de_poche_part_des_exemplaires_vendus': None, 'poids_des_livres_de_poche_part_du_chiffre_d_affaires_des_editeurs': None, 'indice_annuel_des_prix_a_la_consommation_base_2015_ensemble_des_menages_france_ensemble': 82.8, 'indice_annuel_des_prix_a_la_consommation_base_2015_ensemble_des_menages_france_nomenclature_coicop_0': 86.1, 'indice_annuel_des_prix_a_la_consommation_base_2015_ensemble_des_menages_france_nomenclature_coicop_1': 81.7, 'indice_annuel_des_prix_a_la_consommation_base_2015_ensemble_des_menages_france_nomenclature_coicop_2': 88.5, 'indice_annuel_des_prix_a_la_consommation_base_2015_ensemble_des_menages_france_nomenclature_coicop_3': 92.4, 'indice_annuel_des_prix_a_la_consommation_base_2015_ensemble_des_menages_france_nomenclature_coicop_4': None, 'variation_annuelle_des_prix_a_la_consommation_ensemble_des_menages_france_ensemble': 0.019704433497536877, 'variation_annuelle_des_prix_a_la_consommation_ensemble_des_menages_france_nomenclature_coicop_09_5_1': 0.01056338028169004, 'marche_du_livre_aupres_des_particuliers_hors_scolaire_part_de_marche_du_livre_imprime_neuf_en_valeur': None, 'marche_du_livre_aupres_des_particuliers_hors_scolaire_part_de_marche_du_livre_d_occasion_en_valeur': None, 'marche_du_livre_aupres_des_particuliers_hors_scolaire_part_de_marche_du_livre_numerique_en_valeur': None, 'marche_du_livre_aupres_des_particuliers_hors_scolaire_part_de_marche_du_livre_imprime_neuf_en_volume': None, 'marche_du_livre_aupres_des_particuliers_hors_scolaire_part_de_marche_du_livre_d_occasion_en_volume': None, 'marche_du_livre_aupres_des_particuliers_hors_scolaire_part_de_marche_du_livre_numerique_en_volume': None, 'livres_imprimes_lieux_d_achat_autres': None, 'livres_imprimes_lieux_d_achat_grandes_surfaces_non_specialisees': None, 'livres_imprimes_lieux_d_achat_grandes_surfaces_specialisees': None, 'livres_imprimes_lieux_d_achat_internet': None, 'livres_imprimes_lieux_d_achat_librairies': None, 'livres_imprimes_lieux_d_achat_vpc_courtage_club': None, 'pratiques_d_achat_de_livres_au_moins_un_livre': None, 'pratiques_d_achat_de_livres_au_moins_un_livre_imprime': None, 'pratiques_d_achat_de_livres_au_moins_un_livre_d_occasion': None, 'pratiques_d_achat_de_livres_au_moins_un_livre_imprime_neuf': None, 'pratiques_d_achat_de_livres_au_moins_un_livre_numerique': None, 'pratiques_d_achat_de_livres_livre_imprime_neuf_1_a_4': None, 'pratiques_d_achat_de_livres_livre_imprime_neuf_12_et_plus': None, 'pratiques_d_achat_de_livres_livre_imprime_neuf_5_a_11': None, 'marche_du_livre_imprime_neuf_aupres_des_particuliers_hors_scolaire_fiction_part_en_valeur': None, 'marche_du_livre_imprime_neuf_aupres_des_particuliers_hors_scolaire_actualite_humour_essai_part_en_va': None, 'marche_du_livre_imprime_neuf_aupres_des_particuliers_hors_scolaire_histoire_biographie_historique_pa': None, 'marche_du_livre_imprime_neuf_aupres_des_particuliers_hors_scolaire_bd_et_mangas_part_en_valeur': None, 'marche_du_livre_imprime_neuf_aupres_des_particuliers_hors_scolaire_jeunesse_part_en_valeur': None, 'marche_du_livre_imprime_neuf_aupres_des_particuliers_hors_scolaire_beaux_livres_part_en_valeur': None, 'marche_du_livre_imprime_neuf_aupres_des_particuliers_hors_scolaire_livres_pratiques_part_en_valeur': None, 'marche_du_livre_imprime_neuf_aupres_des_particuliers_hors_scolaire_dictionnaires_et_encyclopedies_pa': None, 'marche_du_livre_imprime_neuf_aupres_des_particuliers_hors_scolaire_fiction_part_en_volume': None, 'marche_du_livre_imprime_neuf_aupres_des_particuliers_hors_scolaire_actualite_humour_essai_part_en_vo': None, 'marche_du_livre_imprime_neuf_aupres_des_particuliers_hors_scolaire_histoire_biographie_historique_p0': None, 'marche_du_livre_imprime_neuf_aupres_des_particuliers_hors_scolaire_bd_et_mangas_part_en_volume': None, 'marche_du_livre_imprime_neuf_aupres_des_particuliers_hors_scolaire_jeunesse_part_en_volume': None, 'marche_du_livre_imprime_neuf_aupres_des_particuliers_hors_scolaire_beaux_livres_part_en_volume': None, 'marche_du_livre_imprime_neuf_aupres_des_particuliers_hors_scolaire_livres_pratiques_part_en_volume': None, 'marche_du_livre_imprime_neuf_aupres_des_particuliers_hors_scolaire_dictionnaires_et_encyclopedies_p0': None, 'droits_d_auteur_verses_par_les_editeurs_en_meur': None, 'nombre_de_references_vendues': None, 'consommation_effective_des_menages_en_valeur_aux_prix_courants_livres_meur': 3617.1, 'chiffre_d_affaires_de_l_edition_numerique_en_meur': None, 'chiffre_d_affaires_des_editeurs_cessions_de_droits_en_meur': 106.0, 'chiffre_d_affaires_des_editeurs_ensemble_en_meur': 2471.0, 'chiffre_d_affaires_des_editeurs_ventes_de_livres_hors_scolaire_en_meur': None, 'chiffre_d_affaires_des_editeurs_ventes_de_livres_en_meur': 2365.0, 'nombre_d_exemplaires_vendus_hors_scolaire_en_millions_d_exemplaires': None, 'nombre_d_exemplaires_vendus_en_millions_d_exemplaires': None, 'evolution_des_ventes_au_detail_valeur_panel_distributeur': None, 'evolution_des_ventes_au_detail_volume_panel_distributeur': None, 'evolution_des_ventes_au_detail_valeur_barometre_des_ventes': 0.025, 'evolution_des_ventes_au_detail_volume_barometre_des_ventes': None, 'poids_des_meilleures_ventes_10_premiers': None, 'poids_des_meilleures_ventes_1000_premiers': None, 'poids_des_meilleures_ventes_10000_premiers': None, 'poids_des_meilleures_ventes_5_premiers': None, 'exportations_de_livres_drom_com_en_meur': None, 'exportations_de_livres_yc_drom_com_et_feuillets_en_meur': 626.8, 'cessions_de_droits_a_l_exportation_en_nombre_de_titres': 4698.0, 'cessions_de_droits_a_l_exportation_en_nombre_de_titres_coeditions': None, 'cessions_de_droits_a_l_exportation_en_nombre_de_titres_hors_coeditions': None, 'part_des_francais_ayant_lu_1_a_4_livres_imprimes': None, 'part_des_francais_ayant_lu_20_livres_imprimes_ou_plus': None, 'part_des_francais_ayant_lu_5_a_19_livres_imprimes': None, 'part_des_francais_ayant_lu_au_moins_un_livre_imprime': None, 'avoir_deja_ecoute_un_livre_audio': None, 'avoir_deja_lu_un_livre_numerique': None, 'achats_de_livres_des_bibliotheques_bibliotheques_municipales_et_intercommunales_en_millions_de_volum': None, 'prets_dans_les_bibliotheques_municipales_et_intercommunales_livres_imprimes_en_millions': None, 'prets_dans_les_bibliotheques_municipales_et_intercommunales_tous_supports_en_millions': None, 'achat_de_livres_imprimes_en_euros': None, 'livres_entrees_de_documents_volumes_ou_unites_materielles': None, 'livres_etrangers_entrees_de_documents_volumes_ou_unites_materielles': None, 'livres_francais_entrees_de_documents_volumes_ou_unites_materielles': None, 'droit_de_pret_auteurs_beneficiaires_annee_de_mise_en_distribution': None, 'droit_de_pret_editeurs_beneficiaires_annee_de_mise_en_distribution': None, 'droit_de_pret_montants_repartis_annee_de_mise_en_distribution': None, 'droit_de_pret_nombre_de_titres_annee_de_mise_en_distribution': None, 'droit_de_pret_nombre_d_exemplaires_annee_de_mise_en_distribution': None}, {'annee': '2004', 'nombre_de_livres_deposes': 60972.0, 'nombre_de_titres_disponibles_titres_imprimes': None, 'nombre_de_titres_disponibles_titres_numeriques': None, 'production_commercialisee_nouveautes_et_nouvelles_editions_hors_auto_edition_edition_a_compte_d_aute': 52231.0, 'tirage_moyen': 7529.0, 'nombre_de_traductions_dans_la_production_commercialisee_de_livres_imprimes': None, 'nombre_de_traductions_dans_la_production_commercialisee_de_livres_imprimes_anglais': None, 'nombre_de_traductions_dans_la_production_commercialisee_de_livres_imprimes_espagnol': None, 'nombre_de_traductions_dans_la_production_commercialisee_de_livres_imprimes_germanique': None, 'nombre_de_traductions_dans_la_production_commercialisee_de_livres_imprimes_italien': None, 'nombre_de_traductions_dans_la_production_commercialisee_de_livres_imprimes_japonais': None, 'nombre_de_traductions_dans_la_production_commercialisee_de_livres_imprimes_scandinave': None, 'part_des_traductions_dans_la_production_commercialisee_de_livres_imprimes': None, 'poids_des_livres_de_poche_part_de_la_production_en_exemplaires': None, 'poids_des_livres_de_poche_part_de_la_production_en_titres': 0.226, 'poids_des_livres_de_poche_part_des_exemplaires_vendus': 0.308, 'poids_des_livres_de_poche_part_du_chiffre_d_affaires_des_editeurs': 0.147, 'indice_annuel_des_prix_a_la_consommation_base_2015_ensemble_des_menages_france_ensemble': 86.3, 'indice_annuel_des_prix_a_la_consommation_base_2015_ensemble_des_menages_france_nomenclature_coicop_0': 88.5, 'indice_annuel_des_prix_a_la_consommation_base_2015_ensemble_des_menages_france_nomenclature_coicop_1': 82.7, 'indice_annuel_des_prix_a_la_consommation_base_2015_ensemble_des_menages_france_nomenclature_coicop_2': 89.9, 'indice_annuel_des_prix_a_la_consommation_base_2015_ensemble_des_menages_france_nomenclature_coicop_3': 96.6, 'indice_annuel_des_prix_a_la_consommation_base_2015_ensemble_des_menages_france_nomenclature_coicop_4': None, 'variation_annuelle_des_prix_a_la_consommation_ensemble_des_menages_france_ensemble': 0.02130177514792896, 'variation_annuelle_des_prix_a_la_consommation_ensemble_des_menages_france_nomenclature_coicop_09_5_1': 0.013745704467353985, 'marche_du_livre_aupres_des_particuliers_hors_scolaire_part_de_marche_du_livre_imprime_neuf_en_valeur': None, 'marche_du_livre_aupres_des_particuliers_hors_scolaire_part_de_marche_du_livre_d_occasion_en_valeur': None, 'marche_du_livre_aupres_des_particuliers_hors_scolaire_part_de_marche_du_livre_numerique_en_valeur': None, 'marche_du_livre_aupres_des_particuliers_hors_scolaire_part_de_marche_du_livre_imprime_neuf_en_volume': None, 'marche_du_livre_aupres_des_particuliers_hors_scolaire_part_de_marche_du_livre_d_occasion_en_volume': None, 'marche_du_livre_aupres_des_particuliers_hors_scolaire_part_de_marche_du_livre_numerique_en_volume': None, 'livres_imprimes_lieux_d_achat_autres': 0.083, 'livres_imprimes_lieux_d_achat_grandes_surfaces_non_specialisees': 0.201, 'livres_imprimes_lieux_d_achat_grandes_surfaces_specialisees': 0.218, 'livres_imprimes_lieux_d_achat_internet': 0.046, 'livres_imprimes_lieux_d_achat_librairies': 0.269, 'livres_imprimes_lieux_d_achat_vpc_courtage_club': 0.182, 'pratiques_d_achat_de_livres_au_moins_un_livre': None, 'pratiques_d_achat_de_livres_au_moins_un_livre_imprime': None, 'pratiques_d_achat_de_livres_au_moins_un_livre_d_occasion': None, 'pratiques_d_achat_de_livres_au_moins_un_livre_imprime_neuf': None, 'pratiques_d_achat_de_livres_au_moins_un_livre_numerique': None, 'pratiques_d_achat_de_livres_livre_imprime_neuf_1_a_4': None, 'pratiques_d_achat_de_livres_livre_imprime_neuf_12_et_plus': None, 'pratiques_d_achat_de_livres_livre_imprime_neuf_5_a_11': None, 'marche_du_livre_imprime_neuf_aupres_des_particuliers_hors_scolaire_fiction_part_en_valeur': None, 'marche_du_livre_imprime_neuf_aupres_des_particuliers_hors_scolaire_actualite_humour_essai_part_en_va': None, 'marche_du_livre_imprime_neuf_aupres_des_particuliers_hors_scolaire_histoire_biographie_historique_pa': None, 'marche_du_livre_imprime_neuf_aupres_des_particuliers_hors_scolaire_bd_et_mangas_part_en_valeur': None, 'marche_du_livre_imprime_neuf_aupres_des_particuliers_hors_scolaire_jeunesse_part_en_valeur': None, 'marche_du_livre_imprime_neuf_aupres_des_particuliers_hors_scolaire_beaux_livres_part_en_valeur': None, 'marche_du_livre_imprime_neuf_aupres_des_particuliers_hors_scolaire_livres_pratiques_part_en_valeur': None, 'marche_du_livre_imprime_neuf_aupres_des_particuliers_hors_scolaire_dictionnaires_et_encyclopedies_pa': None, 'marche_du_livre_imprime_neuf_aupres_des_particuliers_hors_scolaire_fiction_part_en_volume': None, 'marche_du_livre_imprime_neuf_aupres_des_particuliers_hors_scolaire_actualite_humour_essai_part_en_vo': None, 'marche_du_livre_imprime_neuf_aupres_des_particuliers_hors_scolaire_histoire_biographie_historique_p0': None, 'marche_du_livre_imprime_neuf_aupres_des_particuliers_hors_scolaire_bd_et_mangas_part_en_volume': None, 'marche_du_livre_imprime_neuf_aupres_des_particuliers_hors_scolaire_jeunesse_part_en_volume': None, 'marche_du_livre_imprime_neuf_aupres_des_particuliers_hors_scolaire_beaux_livres_part_en_volume': None, 'marche_du_livre_imprime_neuf_aupres_des_particuliers_hors_scolaire_livres_pratiques_part_en_volume': None, 'marche_du_livre_imprime_neuf_aupres_des_particuliers_hors_scolaire_dictionnaires_et_encyclopedies_p0': None, 'droits_d_auteur_verses_par_les_editeurs_en_meur': 427.0, 'nombre_de_references_vendues': None, 'consommation_effective_des_menages_en_valeur_aux_prix_courants_livres_meur': 3843.3, 'chiffre_d_affaires_de_l_edition_numerique_en_meur': None, 'chiffre_d_affaires_des_editeurs_cessions_de_droits_en_meur': 105.0, 'chiffre_d_affaires_des_editeurs_ensemble_en_meur': 2657.0, 'chiffre_d_affaires_des_editeurs_ventes_de_livres_hors_scolaire_en_meur': None, 'chiffre_d_affaires_des_editeurs_ventes_de_livres_en_meur': 2552.0, 'nombre_d_exemplaires_vendus_hors_scolaire_en_millions_d_exemplaires': None, 'nombre_d_exemplaires_vendus_en_millions_d_exemplaires': 436.4, 'evolution_des_ventes_au_detail_valeur_panel_distributeur': None, 'evolution_des_ventes_au_detail_volume_panel_distributeur': None, 'evolution_des_ventes_au_detail_valeur_barometre_des_ventes': 0.03, 'evolution_des_ventes_au_detail_volume_barometre_des_ventes': 0.015, 'poids_des_meilleures_ventes_10_premiers': None, 'poids_des_meilleures_ventes_1000_premiers': None, 'poids_des_meilleures_ventes_10000_premiers': None, 'poids_des_meilleures_ventes_5_premiers': None, 'exportations_de_livres_drom_com_en_meur': None, 'exportations_de_livres_yc_drom_com_et_feuillets_en_meur': 637.4, 'cessions_de_droits_a_l_exportation_en_nombre_de_titres': 6077.0, 'cessions_de_droits_a_l_exportation_en_nombre_de_titres_coeditions': None, 'cessions_de_droits_a_l_exportation_en_nombre_de_titres_hors_coeditions': None, 'part_des_francais_ayant_lu_1_a_4_livres_imprimes': None, 'part_des_francais_ayant_lu_20_livres_imprimes_ou_plus': None, 'part_des_francais_ayant_lu_5_a_19_livres_imprimes': None, 'part_des_francais_ayant_lu_au_moins_un_livre_imprime': None, 'avoir_deja_ecoute_un_livre_audio': None, 'avoir_deja_lu_un_livre_numerique': None, 'achats_de_livres_des_bibliotheques_bibliotheques_municipales_et_intercommunales_en_millions_de_volum': None, 'prets_dans_les_bibliotheques_municipales_et_intercommunales_livres_imprimes_en_millions': None, 'prets_dans_les_bibliotheques_municipales_et_intercommunales_tous_supports_en_millions': None, 'achat_de_livres_imprimes_en_euros': None, 'livres_entrees_de_documents_volumes_ou_unites_materielles': None, 'livres_etrangers_entrees_de_documents_volumes_ou_unites_materielles': None, 'livres_francais_entrees_de_documents_volumes_ou_unites_materielles': None, 'droit_de_pret_auteurs_beneficiaires_annee_de_mise_en_distribution': None, 'droit_de_pret_editeurs_beneficiaires_annee_de_mise_en_distribution': None, 'droit_de_pret_montants_repartis_annee_de_mise_en_distribution': None, 'droit_de_pret_nombre_de_titres_annee_de_mise_en_distribution': None, 'droit_de_pret_nombre_d_exemplaires_annee_de_mise_en_distribution': None}, {'annee': '2006', 'nombre_de_livres_deposes': 62527.0, 'nombre_de_titres_disponibles_titres_imprimes': None, 'nombre_de_titres_disponibles_titres_numeriques': None, 'production_commercialisee_nouveautes_et_nouvelles_editions_hors_auto_edition_edition_a_compte_d_aute': 57728.0, 'tirage_moyen': 8151.0, 'nombre_de_traductions_dans_la_production_commercialisee_de_livres_imprimes': None, 'nombre_de_traductions_dans_la_production_commercialisee_de_livres_imprimes_anglais': None, 'nombre_de_traductions_dans_la_production_commercialisee_de_livres_imprimes_espagnol': None, 'nombre_de_traductions_dans_la_production_commercialisee_de_livres_imprimes_germanique': None, 'nombre_de_traductions_dans_la_production_commercialisee_de_livres_imprimes_italien': None, 'nombre_de_traductions_dans_la_production_commercialisee_de_livres_imprimes_japonais': None, 'nombre_de_traductions_dans_la_production_commercialisee_de_livres_imprimes_scandinave': None, 'part_des_traductions_dans_la_production_commercialisee_de_livres_imprimes': 0.144, 'poids_des_livres_de_poche_part_de_la_production_en_exemplaires': 0.276, 'poids_des_livres_de_poche_part_de_la_production_en_titres': 0.225, 'poids_des_livres_de_poche_part_des_exemplaires_vendus': 0.302, 'poids_des_livres_de_poche_part_du_chiffre_d_affaires_des_editeurs': 0.143, 'indice_annuel_des_prix_a_la_consommation_base_2015_ensemble_des_menages_france_ensemble': 89.33, 'indice_annuel_des_prix_a_la_consommation_base_2015_ensemble_des_menages_france_nomenclature_coicop_0': 90.29, 'indice_annuel_des_prix_a_la_consommation_base_2015_ensemble_des_menages_france_nomenclature_coicop_1': 84.62, 'indice_annuel_des_prix_a_la_consommation_base_2015_ensemble_des_menages_france_nomenclature_coicop_2': 90.98, 'indice_annuel_des_prix_a_la_consommation_base_2015_ensemble_des_menages_france_nomenclature_coicop_3': 98.59, 'indice_annuel_des_prix_a_la_consommation_base_2015_ensemble_des_menages_france_nomenclature_coicop_4': None, 'variation_annuelle_des_prix_a_la_consommation_ensemble_des_menages_france_ensemble': 0.016382252559727, 'variation_annuelle_des_prix_a_la_consommation_ensemble_des_menages_france_nomenclature_coicop_09_5_1': 0.0129068462401796, 'marche_du_livre_aupres_des_particuliers_hors_scolaire_part_de_marche_du_livre_imprime_neuf_en_valeur': None, 'marche_du_livre_aupres_des_particuliers_hors_scolaire_part_de_marche_du_livre_d_occasion_en_valeur': None, 'marche_du_livre_aupres_des_particuliers_hors_scolaire_part_de_marche_du_livre_numerique_en_valeur': None, 'marche_du_livre_aupres_des_particuliers_hors_scolaire_part_de_marche_du_livre_imprime_neuf_en_volume': None, 'marche_du_livre_aupres_des_particuliers_hors_scolaire_part_de_marche_du_livre_d_occasion_en_volume': None, 'marche_du_livre_aupres_des_particuliers_hors_scolaire_part_de_marche_du_livre_numerique_en_volume': None, 'livres_imprimes_lieux_d_achat_autres': 0.085, 'livres_imprimes_lieux_d_achat_grandes_surfaces_non_specialisees': 0.212, 'livres_imprimes_lieux_d_achat_grandes_surfaces_specialisees': 0.218, 'livres_imprimes_lieux_d_achat_internet': 0.068, 'livres_imprimes_lieux_d_achat_librairies': 0.258, 'livres_imprimes_lieux_d_achat_vpc_courtage_club': 0.159, 'pratiques_d_achat_de_livres_au_moins_un_livre': 0.518, 'pratiques_d_achat_de_livres_au_moins_un_livre_imprime': None, 'pratiques_d_achat_de_livres_au_moins_un_livre_d_occasion': None, 'pratiques_d_achat_de_livres_au_moins_un_livre_imprime_neuf': None, 'pratiques_d_achat_de_livres_au_moins_un_livre_numerique': None, 'pratiques_d_achat_de_livres_livre_imprime_neuf_1_a_4': None, 'pratiques_d_achat_de_livres_livre_imprime_neuf_12_et_plus': None, 'pratiques_d_achat_de_livres_livre_imprime_neuf_5_a_11': None, 'marche_du_livre_imprime_neuf_aupres_des_particuliers_hors_scolaire_fiction_part_en_valeur': None, 'marche_du_livre_imprime_neuf_aupres_des_particuliers_hors_scolaire_actualite_humour_essai_part_en_va': None, 'marche_du_livre_imprime_neuf_aupres_des_particuliers_hors_scolaire_histoire_biographie_historique_pa': None, 'marche_du_livre_imprime_neuf_aupres_des_particuliers_hors_scolaire_bd_et_mangas_part_en_valeur': None, 'marche_du_livre_imprime_neuf_aupres_des_particuliers_hors_scolaire_jeunesse_part_en_valeur': None, 'marche_du_livre_imprime_neuf_aupres_des_particuliers_hors_scolaire_beaux_livres_part_en_valeur': None, 'marche_du_livre_imprime_neuf_aupres_des_particuliers_hors_scolaire_livres_pratiques_part_en_valeur': None, 'marche_du_livre_imprime_neuf_aupres_des_particuliers_hors_scolaire_dictionnaires_et_encyclopedies_pa': None, 'marche_du_livre_imprime_neuf_aupres_des_particuliers_hors_scolaire_fiction_part_en_volume': None, 'marche_du_livre_imprime_neuf_aupres_des_particuliers_hors_scolaire_actualite_humour_essai_part_en_vo': None, 'marche_du_livre_imprime_neuf_aupres_des_particuliers_hors_scolaire_histoire_biographie_historique_p0': None, 'marche_du_livre_imprime_neuf_aupres_des_particuliers_hors_scolaire_bd_et_mangas_part_en_volume': None, 'marche_du_livre_imprime_neuf_aupres_des_particuliers_hors_scolaire_jeunesse_part_en_volume': None, 'marche_du_livre_imprime_neuf_aupres_des_particuliers_hors_scolaire_beaux_livres_part_en_volume': None, 'marche_du_livre_imprime_neuf_aupres_des_particuliers_hors_scolaire_livres_pratiques_part_en_volume': None, 'marche_du_livre_imprime_neuf_aupres_des_particuliers_hors_scolaire_dictionnaires_et_encyclopedies_p0': None, 'droits_d_auteur_verses_par_les_editeurs_en_meur': 485.0, 'nombre_de_references_vendues': None, 'consommation_effective_des_menages_en_valeur_aux_prix_courants_livres_meur': 3873.3, 'chiffre_d_affaires_de_l_edition_numerique_en_meur': None, 'chiffre_d_affaires_des_editeurs_cessions_de_droits_en_meur': 119.0, 'chiffre_d_affaires_des_editeurs_ensemble_en_meur': 2791.0, 'chiffre_d_affaires_des_editeurs_ventes_de_livres_hors_scolaire_en_meur': None, 'chiffre_d_affaires_des_editeurs_ventes_de_livres_en_meur': 2672.0, 'nombre_d_exemplaires_vendus_hors_scolaire_en_millions_d_exemplaires': None, 'nombre_d_exemplaires_vendus_en_millions_d_exemplaires': 469.7, 'evolution_des_ventes_au_detail_valeur_panel_distributeur': None, 'evolution_des_ventes_au_detail_volume_panel_distributeur': None, 'evolution_des_ventes_au_detail_valeur_barometre_des_ventes': -0.015, 'evolution_des_ventes_au_detail_volume_barometre_des_ventes': -0.03, 'poids_des_meilleures_ventes_10_premiers': None, 'poids_des_meilleures_ventes_1000_premiers': None, 'poids_des_meilleures_ventes_10000_premiers': None, 'poids_des_meilleures_ventes_5_premiers': None, 'exportations_de_livres_drom_com_en_meur': 61.0, 'exportations_de_livres_yc_drom_com_et_feuillets_en_meur': 674.9, 'cessions_de_droits_a_l_exportation_en_nombre_de_titres': 6578.0, 'cessions_de_droits_a_l_exportation_en_nombre_de_titres_coeditions': None, 'cessions_de_droits_a_l_exportation_en_nombre_de_titres_hors_coeditions': None, 'part_des_francais_ayant_lu_1_a_4_livres_imprimes': None, 'part_des_francais_ayant_lu_20_livres_imprimes_ou_plus': None, 'part_des_francais_ayant_lu_5_a_19_livres_imprimes': None, 'part_des_francais_ayant_lu_au_moins_un_livre_imprime': None, 'avoir_deja_ecoute_un_livre_audio': None, 'avoir_deja_lu_un_livre_numerique': None, 'achats_de_livres_des_bibliotheques_bibliotheques_municipales_et_intercommunales_en_millions_de_volum': None, 'prets_dans_les_bibliotheques_municipales_et_intercommunales_livres_imprimes_en_millions': None, 'prets_dans_les_bibliotheques_municipales_et_intercommunales_tous_supports_en_millions': None, 'achat_de_livres_imprimes_en_euros': None, 'livres_entrees_de_documents_volumes_ou_unites_materielles': None, 'livres_etrangers_entrees_de_documents_volumes_ou_unites_materielles': None, 'livres_francais_entrees_de_documents_volumes_ou_unites_materielles': None, 'droit_de_pret_auteurs_beneficiaires_annee_de_mise_en_distribution': None, 'droit_de_pret_editeurs_beneficiaires_annee_de_mise_en_distribution': None, 'droit_de_pret_montants_repartis_annee_de_mise_en_distribution': None, 'droit_de_pret_nombre_de_titres_annee_de_mise_en_distribution': None, 'droit_de_pret_nombre_d_exemplaires_annee_de_mise_en_distribution': None}, {'annee': '2009', 'nombre_de_livres_deposes': 66595.0, 'nombre_de_titres_disponibles_titres_imprimes': 538700.0, 'nombre_de_titres_disponibles_titres_numeriques': None, 'production_commercialisee_nouveautes_et_nouvelles_editions_hors_auto_edition_edition_a_compte_d_aute': 63690.0, 'tirage_moyen': 8147.0, 'nombre_de_traductions_dans_la_production_commercialisee_de_livres_imprimes': None, 'nombre_de_traductions_dans_la_production_commercialisee_de_livres_imprimes_anglais': None, 'nombre_de_traductions_dans_la_production_commercialisee_de_livres_imprimes_espagnol': None, 'nombre_de_traductions_dans_la_production_commercialisee_de_livres_imprimes_germanique': None, 'nombre_de_traductions_dans_la_production_commercialisee_de_livres_imprimes_italien': None, 'nombre_de_traductions_dans_la_production_commercialisee_de_livres_imprimes_japonais': None, 'nombre_de_traductions_dans_la_production_commercialisee_de_livres_imprimes_scandinave': None, 'part_des_traductions_dans_la_production_commercialisee_de_livres_imprimes': 0.143, 'poids_des_livres_de_poche_part_de_la_production_en_exemplaires': 0.215, 'poids_des_livres_de_poche_part_de_la_production_en_titres': 0.183, 'poids_des_livres_de_poche_part_des_exemplaires_vendus': 0.253, 'poids_des_livres_de_poche_part_du_chiffre_d_affaires_des_editeurs': 0.129, 'indice_annuel_des_prix_a_la_consommation_base_2015_ensemble_des_menages_france_ensemble': 93.29, 'indice_annuel_des_prix_a_la_consommation_base_2015_ensemble_des_menages_france_nomenclature_coicop_0': 92.65, 'indice_annuel_des_prix_a_la_consommation_base_2015_ensemble_des_menages_france_nomenclature_coicop_1': 90.0, 'indice_annuel_des_prix_a_la_consommation_base_2015_ensemble_des_menages_france_nomenclature_coicop_2': 94.13, 'indice_annuel_des_prix_a_la_consommation_base_2015_ensemble_des_menages_france_nomenclature_coicop_3': 95.84, 'indice_annuel_des_prix_a_la_consommation_base_2015_ensemble_des_menages_france_nomenclature_coicop_4': None, 'variation_annuelle_des_prix_a_la_consommation_ensemble_des_menages_france_ensemble': 0.0008582770089047582, 'variation_annuelle_des_prix_a_la_consommation_ensemble_des_menages_france_nomenclature_coicop_09_5_1': 0.007612833061446469, 'marche_du_livre_aupres_des_particuliers_hors_scolaire_part_de_marche_du_livre_imprime_neuf_en_valeur': None, 'marche_du_livre_aupres_des_particuliers_hors_scolaire_part_de_marche_du_livre_d_occasion_en_valeur': None, 'marche_du_livre_aupres_des_particuliers_hors_scolaire_part_de_marche_du_livre_numerique_en_valeur': None, 'marche_du_livre_aupres_des_particuliers_hors_scolaire_part_de_marche_du_livre_imprime_neuf_en_volume': None, 'marche_du_livre_aupres_des_particuliers_hors_scolaire_part_de_marche_du_livre_d_occasion_en_volume': None, 'marche_du_livre_aupres_des_particuliers_hors_scolaire_part_de_marche_du_livre_numerique_en_volume': None, 'livres_imprimes_lieux_d_achat_autres': 0.08, 'livres_imprimes_lieux_d_achat_grandes_surfaces_non_specialisees': 0.207, 'livres_imprimes_lieux_d_achat_grandes_surfaces_specialisees': 0.221, 'livres_imprimes_lieux_d_achat_internet': 0.1, 'livres_imprimes_lieux_d_achat_librairies': 0.247, 'livres_imprimes_lieux_d_achat_vpc_courtage_club': 0.144, 'pratiques_d_achat_de_livres_au_moins_un_livre': 0.522, 'pratiques_d_achat_de_livres_au_moins_un_livre_imprime': None, 'pratiques_d_achat_de_livres_au_moins_un_livre_d_occasion': None, 'pratiques_d_achat_de_livres_au_moins_un_livre_imprime_neuf': None, 'pratiques_d_achat_de_livres_au_moins_un_livre_numerique': None, 'pratiques_d_achat_de_livres_livre_imprime_neuf_1_a_4': 0.26, 'pratiques_d_achat_de_livres_livre_imprime_neuf_12_et_plus': 0.11, 'pratiques_d_achat_de_livres_livre_imprime_neuf_5_a_11': 0.16, 'marche_du_livre_imprime_neuf_aupres_des_particuliers_hors_scolaire_fiction_part_en_valeur': None, 'marche_du_livre_imprime_neuf_aupres_des_particuliers_hors_scolaire_actualite_humour_essai_part_en_va': None, 'marche_du_livre_imprime_neuf_aupres_des_particuliers_hors_scolaire_histoire_biographie_historique_pa': None, 'marche_du_livre_imprime_neuf_aupres_des_particuliers_hors_scolaire_bd_et_mangas_part_en_valeur': None, 'marche_du_livre_imprime_neuf_aupres_des_particuliers_hors_scolaire_jeunesse_part_en_valeur': None, 'marche_du_livre_imprime_neuf_aupres_des_particuliers_hors_scolaire_beaux_livres_part_en_valeur': None, 'marche_du_livre_imprime_neuf_aupres_des_particuliers_hors_scolaire_livres_pratiques_part_en_valeur': None, 'marche_du_livre_imprime_neuf_aupres_des_particuliers_hors_scolaire_dictionnaires_et_encyclopedies_pa': None, 'marche_du_livre_imprime_neuf_aupres_des_particuliers_hors_scolaire_fiction_part_en_volume': None, 'marche_du_livre_imprime_neuf_aupres_des_particuliers_hors_scolaire_actualite_humour_essai_part_en_vo': None, 'marche_du_livre_imprime_neuf_aupres_des_particuliers_hors_scolaire_histoire_biographie_historique_p0': None, 'marche_du_livre_imprime_neuf_aupres_des_particuliers_hors_scolaire_bd_et_mangas_part_en_volume': None, 'marche_du_livre_imprime_neuf_aupres_des_particuliers_hors_scolaire_jeunesse_part_en_volume': None, 'marche_du_livre_imprime_neuf_aupres_des_particuliers_hors_scolaire_beaux_livres_part_en_volume': None, 'marche_du_livre_imprime_neuf_aupres_des_particuliers_hors_scolaire_livres_pratiques_part_en_volume': None, 'marche_du_livre_imprime_neuf_aupres_des_particuliers_hors_scolaire_dictionnaires_et_encyclopedies_p0': None, 'droits_d_auteur_verses_par_les_editeurs_en_meur': 424.0, 'nombre_de_references_vendues': None, 'consommation_effective_des_menages_en_valeur_aux_prix_courants_livres_meur': 4024.0, 'chiffre_d_affaires_de_l_edition_numerique_en_meur': 49.0, 'chiffre_d_affaires_des_editeurs_cessions_de_droits_en_meur': 126.0, 'chiffre_d_affaires_des_editeurs_ensemble_en_meur': 2829.0, 'chiffre_d_affaires_des_editeurs_ventes_de_livres_hors_scolaire_en_meur': None, 'chiffre_d_affaires_des_editeurs_ventes_de_livres_en_meur': 2703.0, 'nombre_d_exemplaires_vendus_hors_scolaire_en_millions_d_exemplaires': None, 'nombre_d_exemplaires_vendus_en_millions_d_exemplaires': 464.5, 'evolution_des_ventes_au_detail_valeur_panel_distributeur': None, 'evolution_des_ventes_au_detail_volume_panel_distributeur': None, 'evolution_des_ventes_au_detail_valeur_barometre_des_ventes': 0.015, 'evolution_des_ventes_au_detail_volume_barometre_des_ventes': 0.01, 'poids_des_meilleures_ventes_10_premiers': None, 'poids_des_meilleures_ventes_1000_premiers': None, 'poids_des_meilleures_ventes_10000_premiers': None, 'poids_des_meilleures_ventes_5_premiers': None, 'exportations_de_livres_drom_com_en_meur': 58.4, 'exportations_de_livres_yc_drom_com_et_feuillets_en_meur': 665.0, 'cessions_de_droits_a_l_exportation_en_nombre_de_titres': 8607.0, 'cessions_de_droits_a_l_exportation_en_nombre_de_titres_coeditions': None, 'cessions_de_droits_a_l_exportation_en_nombre_de_titres_hors_coeditions': None, 'part_des_francais_ayant_lu_1_a_4_livres_imprimes': None, 'part_des_francais_ayant_lu_20_livres_imprimes_ou_plus': None, 'part_des_francais_ayant_lu_5_a_19_livres_imprimes': None, 'part_des_francais_ayant_lu_au_moins_un_livre_imprime': None, 'avoir_deja_ecoute_un_livre_audio': None, 'avoir_deja_lu_un_livre_numerique': None, 'achats_de_livres_des_bibliotheques_bibliotheques_municipales_et_intercommunales_en_millions_de_volum': None, 'prets_dans_les_bibliotheques_municipales_et_intercommunales_livres_imprimes_en_millions': None, 'prets_dans_les_bibliotheques_municipales_et_intercommunales_tous_supports_en_millions': None, 'achat_de_livres_imprimes_en_euros': None, 'livres_entrees_de_documents_volumes_ou_unites_materielles': None, 'livres_etrangers_entrees_de_documents_volumes_ou_unites_materielles': None, 'livres_francais_entrees_de_documents_volumes_ou_unites_materielles': None, 'droit_de_pret_auteurs_beneficiaires_annee_de_mise_en_distribution': None, 'droit_de_pret_editeurs_beneficiaires_annee_de_mise_en_distribution': None, 'droit_de_pret_montants_repartis_annee_de_mise_en_distribution': None, 'droit_de_pret_nombre_de_titres_annee_de_mise_en_distribution': None, 'droit_de_pret_nombre_d_exemplaires_annee_de_mise_en_distribution': None}, {'annee': '2014', 'nombre_de_livres_deposes': 80255.0, 'nombre_de_titres_disponibles_titres_imprimes': 704030.0, 'nombre_de_titres_disponibles_titres_numeriques': None, 'production_commercialisee_nouveautes_et_nouvelles_editions_hors_auto_edition_edition_a_compte_d_aute': 68187.0, 'tirage_moyen': 5606.0, 'nombre_de_traductions_dans_la_production_commercialisee_de_livres_imprimes': None, 'nombre_de_traductions_dans_la_production_commercialisee_de_livres_imprimes_anglais': None, 'nombre_de_traductions_dans_la_production_commercialisee_de_livres_imprimes_espagnol': None, 'nombre_de_traductions_dans_la_production_commercialisee_de_livres_imprimes_germanique': None, 'nombre_de_traductions_dans_la_production_commercialisee_de_livres_imprimes_italien': None, 'nombre_de_traductions_dans_la_production_commercialisee_de_livres_imprimes_japonais': None, 'nombre_de_traductions_dans_la_production_commercialisee_de_livres_imprimes_scandinave': None, 'part_des_traductions_dans_la_production_commercialisee_de_livres_imprimes': 0.174, 'poids_des_livres_de_poche_part_de_la_production_en_exemplaires': 0.223, 'poids_des_livres_de_poche_part_de_la_production_en_titres': 0.194, 'poids_des_livres_de_poche_part_des_exemplaires_vendus': 0.249, 'poids_des_livres_de_poche_part_du_chiffre_d_affaires_des_editeurs': 0.137, 'indice_annuel_des_prix_a_la_consommation_base_2015_ensemble_des_menages_france_ensemble': 99.96, 'indice_annuel_des_prix_a_la_consommation_base_2015_ensemble_des_menages_france_nomenclature_coicop_0': 99.37, 'indice_annuel_des_prix_a_la_consommation_base_2015_ensemble_des_menages_france_nomenclature_coicop_1': 99.0, 'indice_annuel_des_prix_a_la_consommation_base_2015_ensemble_des_menages_france_nomenclature_coicop_2': 99.32, 'indice_annuel_des_prix_a_la_consommation_base_2015_ensemble_des_menages_france_nomenclature_coicop_3': 99.75, 'indice_annuel_des_prix_a_la_consommation_base_2015_ensemble_des_menages_france_nomenclature_coicop_4': None, 'variation_annuelle_des_prix_a_la_consommation_ensemble_des_menages_france_ensemble': 0.0050271465915946115, 'variation_annuelle_des_prix_a_la_consommation_ensemble_des_menages_france_nomenclature_coicop_09_5_1': 0.003737373737373783, 'marche_du_livre_aupres_des_particuliers_hors_scolaire_part_de_marche_du_livre_imprime_neuf_en_valeur': 0.9185185185185184, 'marche_du_livre_aupres_des_particuliers_hors_scolaire_part_de_marche_du_livre_d_occasion_en_valeur': 0.059259259259259255, 'marche_du_livre_aupres_des_particuliers_hors_scolaire_part_de_marche_du_livre_numerique_en_valeur': 0.023, 'marche_du_livre_aupres_des_particuliers_hors_scolaire_part_de_marche_du_livre_imprime_neuf_en_volume': 0.8312894834633966, 'marche_du_livre_aupres_des_particuliers_hors_scolaire_part_de_marche_du_livre_d_occasion_en_volume': 0.14083983649201043, 'marche_du_livre_aupres_des_particuliers_hors_scolaire_part_de_marche_du_livre_numerique_en_volume': 0.028, 'livres_imprimes_lieux_d_achat_autres': 0.035, 'livres_imprimes_lieux_d_achat_grandes_surfaces_non_specialisees': 0.195, 'livres_imprimes_lieux_d_achat_grandes_surfaces_specialisees': 0.22, 'livres_imprimes_lieux_d_achat_internet': 0.185, 'livres_imprimes_lieux_d_achat_librairies': 0.22, 'livres_imprimes_lieux_d_achat_vpc_courtage_club': 0.145, 'pratiques_d_achat_de_livres_au_moins_un_livre': 0.53, 'pratiques_d_achat_de_livres_au_moins_un_livre_imprime': 0.53, 'pratiques_d_achat_de_livres_au_moins_un_livre_d_occasion': 0.1, 'pratiques_d_achat_de_livres_au_moins_un_livre_imprime_neuf': 0.51, 'pratiques_d_achat_de_livres_au_moins_un_livre_numerique': 0.03, 'pratiques_d_achat_de_livres_livre_imprime_neuf_1_a_4': 0.24, 'pratiques_d_achat_de_livres_livre_imprime_neuf_12_et_plus': 0.12, 'pratiques_d_achat_de_livres_livre_imprime_neuf_5_a_11': 0.16, 'marche_du_livre_imprime_neuf_aupres_des_particuliers_hors_scolaire_fiction_part_en_valeur': 0.346, 'marche_du_livre_imprime_neuf_aupres_des_particuliers_hors_scolaire_actualite_humour_essai_part_en_va': 0.084, 'marche_du_livre_imprime_neuf_aupres_des_particuliers_hors_scolaire_histoire_biographie_historique_pa': '0.07', 'marche_du_livre_imprime_neuf_aupres_des_particuliers_hors_scolaire_bd_et_mangas_part_en_valeur': 0.116, 'marche_du_livre_imprime_neuf_aupres_des_particuliers_hors_scolaire_jeunesse_part_en_valeur': 0.154, 'marche_du_livre_imprime_neuf_aupres_des_particuliers_hors_scolaire_beaux_livres_part_en_valeur': 0.045, 'marche_du_livre_imprime_neuf_aupres_des_particuliers_hors_scolaire_livres_pratiques_part_en_valeur': 0.118, 'marche_du_livre_imprime_neuf_aupres_des_particuliers_hors_scolaire_dictionnaires_et_encyclopedies_pa': 0.065, 'marche_du_livre_imprime_neuf_aupres_des_particuliers_hors_scolaire_fiction_part_en_volume': 0.337, 'marche_du_livre_imprime_neuf_aupres_des_particuliers_hors_scolaire_actualite_humour_essai_part_en_vo': 0.072, 'marche_du_livre_imprime_neuf_aupres_des_particuliers_hors_scolaire_histoire_biographie_historique_p0': '0.051', 'marche_du_livre_imprime_neuf_aupres_des_particuliers_hors_scolaire_bd_et_mangas_part_en_volume': 0.121, 'marche_du_livre_imprime_neuf_aupres_des_particuliers_hors_scolaire_jeunesse_part_en_volume': 0.224, 'marche_du_livre_imprime_neuf_aupres_des_particuliers_hors_scolaire_beaux_livres_part_en_volume': 0.025, 'marche_du_livre_imprime_neuf_aupres_des_particuliers_hors_scolaire_livres_pratiques_part_en_volume': 0.116, 'marche_du_livre_imprime_neuf_aupres_des_particuliers_hors_scolaire_dictionnaires_et_encyclopedies_p0': 0.053, 'droits_d_auteur_verses_par_les_editeurs_en_meur': 438.0, 'nombre_de_references_vendues': None, 'consommation_effective_des_menages_en_valeur_aux_prix_courants_livres_meur': 3846.0, 'chiffre_d_affaires_de_l_edition_numerique_en_meur': 161.4, 'chiffre_d_affaires_des_editeurs_cessions_de_droits_en_meur': 135.0, 'chiffre_d_affaires_des_editeurs_ensemble_en_meur': 2652.0, 'chiffre_d_affaires_des_editeurs_ventes_de_livres_hors_scolaire_en_meur': 2211.0, 'chiffre_d_affaires_des_editeurs_ventes_de_livres_en_meur': 2517.0, 'nombre_d_exemplaires_vendus_hors_scolaire_en_millions_d_exemplaires': 363.6, 'nombre_d_exemplaires_vendus_en_millions_d_exemplaires': 421.8, 'evolution_des_ventes_au_detail_valeur_panel_distributeur': None, 'evolution_des_ventes_au_detail_volume_panel_distributeur': None, 'evolution_des_ventes_au_detail_valeur_barometre_des_ventes': -0.005, 'evolution_des_ventes_au_detail_volume_barometre_des_ventes': -0.009, 'poids_des_meilleures_ventes_10_premiers': None, 'poids_des_meilleures_ventes_1000_premiers': None, 'poids_des_meilleures_ventes_10000_premiers': None, 'poids_des_meilleures_ventes_5_premiers': None, 'exportations_de_livres_drom_com_en_meur': 50.7, 'exportations_de_livres_yc_drom_com_et_feuillets_en_meur': 692.1, 'cessions_de_droits_a_l_exportation_en_nombre_de_titres': 11309.0, 'cessions_de_droits_a_l_exportation_en_nombre_de_titres_coeditions': None, 'cessions_de_droits_a_l_exportation_en_nombre_de_titres_hors_coeditions': None, 'part_des_francais_ayant_lu_1_a_4_livres_imprimes': None, 'part_des_francais_ayant_lu_20_livres_imprimes_ou_plus': None, 'part_des_francais_ayant_lu_5_a_19_livres_imprimes': None, 'part_des_francais_ayant_lu_au_moins_un_livre_imprime': None, 'avoir_deja_ecoute_un_livre_audio': None, 'avoir_deja_lu_un_livre_numerique': 0.15, 'achats_de_livres_des_bibliotheques_bibliotheques_municipales_et_intercommunales_en_millions_de_volum': 8.9, 'prets_dans_les_bibliotheques_municipales_et_intercommunales_livres_imprimes_en_millions': 214.1, 'prets_dans_les_bibliotheques_municipales_et_intercommunales_tous_supports_en_millions': 279.4, 'achat_de_livres_imprimes_en_euros': 25826322.0, 'livres_entrees_de_documents_volumes_ou_unites_materielles': 757379.0, 'livres_etrangers_entrees_de_documents_volumes_ou_unites_materielles': 116132.0, 'livres_francais_entrees_de_documents_volumes_ou_unites_materielles': 873511.0, 'droit_de_pret_auteurs_beneficiaires_annee_de_mise_en_distribution': 68281.0, 'droit_de_pret_editeurs_beneficiaires_annee_de_mise_en_distribution': 2656.0, 'droit_de_pret_montants_repartis_annee_de_mise_en_distribution': 12836346.0, 'droit_de_pret_nombre_de_titres_annee_de_mise_en_distribution': 380697.0, 'droit_de_pret_nombre_d_exemplaires_annee_de_mise_en_distribution': 6220237.0}, {'annee': '2015', 'nombre_de_livres_deposes': 76287.0, 'nombre_de_titres_disponibles_titres_imprimes': 728400.0, 'nombre_de_titres_disponibles_titres_numeriques': 178960.0, 'production_commercialisee_nouveautes_et_nouvelles_editions_hors_auto_edition_edition_a_compte_d_aute': 67041.0, 'tirage_moyen': 5017.0, 'nombre_de_traductions_dans_la_production_commercialisee_de_livres_imprimes': None, 'nombre_de_traductions_dans_la_production_commercialisee_de_livres_imprimes_anglais': None, 'nombre_de_traductions_dans_la_production_commercialisee_de_livres_imprimes_espagnol': None, 'nombre_de_traductions_dans_la_production_commercialisee_de_livres_imprimes_germanique': None, 'nombre_de_traductions_dans_la_production_commercialisee_de_livres_imprimes_italien': None, 'nombre_de_traductions_dans_la_production_commercialisee_de_livres_imprimes_japonais': None, 'nombre_de_traductions_dans_la_production_commercialisee_de_livres_imprimes_scandinave': None, 'part_des_traductions_dans_la_production_commercialisee_de_livres_imprimes': 0.177, 'poids_des_livres_de_poche_part_de_la_production_en_exemplaires': 0.233, 'poids_des_livres_de_poche_part_de_la_production_en_titres': 0.192, 'poids_des_livres_de_poche_part_des_exemplaires_vendus': 0.24, 'poids_des_livres_de_poche_part_du_chiffre_d_affaires_des_editeurs': 0.139, 'indice_annuel_des_prix_a_la_consommation_base_2015_ensemble_des_menages_france_ensemble': 100.0, 'indice_annuel_des_prix_a_la_consommation_base_2015_ensemble_des_menages_france_nomenclature_coicop_0': 100.0, 'indice_annuel_des_prix_a_la_consommation_base_2015_ensemble_des_menages_france_nomenclature_coicop_1': 100.0, 'indice_annuel_des_prix_a_la_consommation_base_2015_ensemble_des_menages_france_nomenclature_coicop_2': 100.0, 'indice_annuel_des_prix_a_la_consommation_base_2015_ensemble_des_menages_france_nomenclature_coicop_3': 100.0, 'indice_annuel_des_prix_a_la_consommation_base_2015_ensemble_des_menages_france_nomenclature_coicop_4': 100.0, 'variation_annuelle_des_prix_a_la_consommation_ensemble_des_menages_france_ensemble': 0.00040016006402567283, 'variation_annuelle_des_prix_a_la_consommation_ensemble_des_menages_france_nomenclature_coicop_09_5_1': 0.006339941632283339, 'marche_du_livre_aupres_des_particuliers_hors_scolaire_part_de_marche_du_livre_imprime_neuf_en_valeur': 0.9133574007220218, 'marche_du_livre_aupres_des_particuliers_hors_scolaire_part_de_marche_du_livre_d_occasion_en_valeur': 0.06137184115523467, 'marche_du_livre_aupres_des_particuliers_hors_scolaire_part_de_marche_du_livre_numerique_en_valeur': 0.027, 'marche_du_livre_aupres_des_particuliers_hors_scolaire_part_de_marche_du_livre_imprime_neuf_en_volume': 0.8215194474736459, 'marche_du_livre_aupres_des_particuliers_hors_scolaire_part_de_marche_du_livre_d_occasion_en_volume': 0.143584151217739, 'marche_du_livre_aupres_des_particuliers_hors_scolaire_part_de_marche_du_livre_numerique_en_volume': 0.035, 'livres_imprimes_lieux_d_achat_autres': 0.035, 'livres_imprimes_lieux_d_achat_grandes_surfaces_non_specialisees': 0.195, 'livres_imprimes_lieux_d_achat_grandes_surfaces_specialisees': 0.24, 'livres_imprimes_lieux_d_achat_internet': 0.19, 'livres_imprimes_lieux_d_achat_librairies': 0.22, 'livres_imprimes_lieux_d_achat_vpc_courtage_club': 0.12, 'pratiques_d_achat_de_livres_au_moins_un_livre': 0.53, 'pratiques_d_achat_de_livres_au_moins_un_livre_imprime': 0.53, 'pratiques_d_achat_de_livres_au_moins_un_livre_d_occasion': 0.115, 'pratiques_d_achat_de_livres_au_moins_un_livre_imprime_neuf': 0.51, 'pratiques_d_achat_de_livres_au_moins_un_livre_numerique': 0.037, 'pratiques_d_achat_de_livres_livre_imprime_neuf_1_a_4': 0.24, 'pratiques_d_achat_de_livres_livre_imprime_neuf_12_et_plus': 0.13, 'pratiques_d_achat_de_livres_livre_imprime_neuf_5_a_11': 0.14, 'marche_du_livre_imprime_neuf_aupres_des_particuliers_hors_scolaire_fiction_part_en_valeur': 0.356, 'marche_du_livre_imprime_neuf_aupres_des_particuliers_hors_scolaire_actualite_humour_essai_part_en_va': 0.084, 'marche_du_livre_imprime_neuf_aupres_des_particuliers_hors_scolaire_histoire_biographie_historique_pa': '0.069', 'marche_du_livre_imprime_neuf_aupres_des_particuliers_hors_scolaire_bd_et_mangas_part_en_valeur': 0.117, 'marche_du_livre_imprime_neuf_aupres_des_particuliers_hors_scolaire_jeunesse_part_en_valeur': 0.156, 'marche_du_livre_imprime_neuf_aupres_des_particuliers_hors_scolaire_beaux_livres_part_en_valeur': 0.045, 'marche_du_livre_imprime_neuf_aupres_des_particuliers_hors_scolaire_livres_pratiques_part_en_valeur': 0.118, 'marche_du_livre_imprime_neuf_aupres_des_particuliers_hors_scolaire_dictionnaires_et_encyclopedies_pa': 0.056, 'marche_du_livre_imprime_neuf_aupres_des_particuliers_hors_scolaire_fiction_part_en_volume': 0.346, 'marche_du_livre_imprime_neuf_aupres_des_particuliers_hors_scolaire_actualite_humour_essai_part_en_vo': 0.077, 'marche_du_livre_imprime_neuf_aupres_des_particuliers_hors_scolaire_histoire_biographie_historique_p0': '0.048', 'marche_du_livre_imprime_neuf_aupres_des_particuliers_hors_scolaire_bd_et_mangas_part_en_volume': 0.122, 'marche_du_livre_imprime_neuf_aupres_des_particuliers_hors_scolaire_jeunesse_part_en_volume': 0.226, 'marche_du_livre_imprime_neuf_aupres_des_particuliers_hors_scolaire_beaux_livres_part_en_volume': 0.025, 'marche_du_livre_imprime_neuf_aupres_des_particuliers_hors_scolaire_livres_pratiques_part_en_volume': 0.117, 'marche_du_livre_imprime_neuf_aupres_des_particuliers_hors_scolaire_dictionnaires_et_encyclopedies_p0': 0.039, 'droits_d_auteur_verses_par_les_editeurs_en_meur': 449.0, 'nombre_de_references_vendues': None, 'consommation_effective_des_menages_en_valeur_aux_prix_courants_livres_meur': 3992.9, 'chiffre_d_affaires_de_l_edition_numerique_en_meur': 163.9, 'chiffre_d_affaires_des_editeurs_cessions_de_droits_en_meur': 133.0, 'chiffre_d_affaires_des_editeurs_ensemble_en_meur': 2667.0, 'chiffre_d_affaires_des_editeurs_ventes_de_livres_hors_scolaire_en_meur': 2244.0, 'chiffre_d_affaires_des_editeurs_ventes_de_livres_en_meur': 2535.0, 'nombre_d_exemplaires_vendus_hors_scolaire_en_millions_d_exemplaires': 384.1, 'nombre_d_exemplaires_vendus_en_millions_d_exemplaires': 436.7, 'evolution_des_ventes_au_detail_valeur_panel_distributeur': None, 'evolution_des_ventes_au_detail_volume_panel_distributeur': None, 'evolution_des_ventes_au_detail_valeur_barometre_des_ventes': 0.018, 'evolution_des_ventes_au_detail_volume_barometre_des_ventes': 0.012, 'poids_des_meilleures_ventes_10_premiers': None, 'poids_des_meilleures_ventes_1000_premiers': None, 'poids_des_meilleures_ventes_10000_premiers': None, 'poids_des_meilleures_ventes_5_premiers': None, 'exportations_de_livres_drom_com_en_meur': 51.8, 'exportations_de_livres_yc_drom_com_et_feuillets_en_meur': 680.0, 'cessions_de_droits_a_l_exportation_en_nombre_de_titres': 12225.0, 'cessions_de_droits_a_l_exportation_en_nombre_de_titres_coeditions': None, 'cessions_de_droits_a_l_exportation_en_nombre_de_titres_hors_coeditions': None, 'part_des_francais_ayant_lu_1_a_4_livres_imprimes': 0.25, 'part_des_francais_ayant_lu_20_livres_imprimes_ou_plus': 0.25, 'part_des_francais_ayant_lu_5_a_19_livres_imprimes': 0.39, 'part_des_francais_ayant_lu_au_moins_un_livre_imprime': 0.89, 'avoir_deja_ecoute_un_livre_audio': None, 'avoir_deja_lu_un_livre_numerique': 0.18, 'achats_de_livres_des_bibliotheques_bibliotheques_municipales_et_intercommunales_en_millions_de_volum': 8.7, 'prets_dans_les_bibliotheques_municipales_et_intercommunales_livres_imprimes_en_millions': 208.5, 'prets_dans_les_bibliotheques_municipales_et_intercommunales_tous_supports_en_millions': 279.4, 'achat_de_livres_imprimes_en_euros': 24931592.0, 'livres_entrees_de_documents_volumes_ou_unites_materielles': 749381.0, 'livres_etrangers_entrees_de_documents_volumes_ou_unites_materielles': 110197.0, 'livres_francais_entrees_de_documents_volumes_ou_unites_materielles': 859578.0, 'droit_de_pret_auteurs_beneficiaires_annee_de_mise_en_distribution': 58296.0, 'droit_de_pret_editeurs_beneficiaires_annee_de_mise_en_distribution': 2533.0, 'droit_de_pret_montants_repartis_annee_de_mise_en_distribution': 12587405.0, 'droit_de_pret_nombre_de_titres_annee_de_mise_en_distribution': 367758.0, 'droit_de_pret_nombre_d_exemplaires_annee_de_mise_en_distribution': 5763134.0}, {'annee': '2017', 'nombre_de_livres_deposes': 81263.0, 'nombre_de_titres_disponibles_titres_imprimes': 775170.0, 'nombre_de_titres_disponibles_titres_numeriques': 248530.0, 'production_commercialisee_nouveautes_et_nouvelles_editions_hors_auto_edition_edition_a_compte_d_aute': 68199.0, 'tirage_moyen': 4994.0, 'nombre_de_traductions_dans_la_production_commercialisee_de_livres_imprimes': None, 'nombre_de_traductions_dans_la_production_commercialisee_de_livres_imprimes_anglais': None, 'nombre_de_traductions_dans_la_production_commercialisee_de_livres_imprimes_espagnol': None, 'nombre_de_traductions_dans_la_production_commercialisee_de_livres_imprimes_germanique': None, 'nombre_de_traductions_dans_la_production_commercialisee_de_livres_imprimes_italien': None, 'nombre_de_traductions_dans_la_production_commercialisee_de_livres_imprimes_japonais': None, 'nombre_de_traductions_dans_la_production_commercialisee_de_livres_imprimes_scandinave': None, 'part_des_traductions_dans_la_production_commercialisee_de_livres_imprimes': 0.191, 'poids_des_livres_de_poche_part_de_la_production_en_exemplaires': 0.249, 'poids_des_livres_de_poche_part_de_la_production_en_titres': 0.201, 'poids_des_livres_de_poche_part_des_exemplaires_vendus': 0.271, 'poids_des_livres_de_poche_part_du_chiffre_d_affaires_des_editeurs': 0.143, 'indice_annuel_des_prix_a_la_consommation_base_2015_ensemble_des_menages_france_ensemble': 101.22, 'indice_annuel_des_prix_a_la_consommation_base_2015_ensemble_des_menages_france_nomenclature_coicop_0': 100.18, 'indice_annuel_des_prix_a_la_consommation_base_2015_ensemble_des_menages_france_nomenclature_coicop_1': 101.83, 'indice_annuel_des_prix_a_la_consommation_base_2015_ensemble_des_menages_france_nomenclature_coicop_2': 100.82, 'indice_annuel_des_prix_a_la_consommation_base_2015_ensemble_des_menages_france_nomenclature_coicop_3': 99.11, 'indice_annuel_des_prix_a_la_consommation_base_2015_ensemble_des_menages_france_nomenclature_coicop_4': 85.05, 'variation_annuelle_des_prix_a_la_consommation_ensemble_des_menages_france_ensemble': 0.010381313635456099, 'variation_annuelle_des_prix_a_la_consommation_ensemble_des_menages_france_nomenclature_coicop_09_5_1': 0.0039082072351939124, 'marche_du_livre_aupres_des_particuliers_hors_scolaire_part_de_marche_du_livre_imprime_neuf_en_valeur': 0.903, 'marche_du_livre_aupres_des_particuliers_hors_scolaire_part_de_marche_du_livre_d_occasion_en_valeur': 0.064, 'marche_du_livre_aupres_des_particuliers_hors_scolaire_part_de_marche_du_livre_numerique_en_valeur': 0.032, 'marche_du_livre_aupres_des_particuliers_hors_scolaire_part_de_marche_du_livre_imprime_neuf_en_volume': 0.802, 'marche_du_livre_aupres_des_particuliers_hors_scolaire_part_de_marche_du_livre_d_occasion_en_volume': 0.157, 'marche_du_livre_aupres_des_particuliers_hors_scolaire_part_de_marche_du_livre_numerique_en_volume': 0.041, 'livres_imprimes_lieux_d_achat_autres': 0.03789935708959948, 'livres_imprimes_lieux_d_achat_grandes_surfaces_non_specialisees': 0.1923455678572936, 'livres_imprimes_lieux_d_achat_grandes_surfaces_specialisees': 0.25335874963071336, 'livres_imprimes_lieux_d_achat_internet': 0.20256601437755864, 'livres_imprimes_lieux_d_achat_librairies': 0.21948989209796999, 'livres_imprimes_lieux_d_achat_vpc_courtage_club': 0.09434041894686493, 'pratiques_d_achat_de_livres_au_moins_un_livre': 0.523, 'pratiques_d_achat_de_livres_au_moins_un_livre_imprime': 0.508, 'pratiques_d_achat_de_livres_au_moins_un_livre_d_occasion': 0.117, 'pratiques_d_achat_de_livres_au_moins_un_livre_imprime_neuf': 0.499, 'pratiques_d_achat_de_livres_au_moins_un_livre_numerique': 0.044, 'pratiques_d_achat_de_livres_livre_imprime_neuf_1_a_4': 0.235, 'pratiques_d_achat_de_livres_livre_imprime_neuf_12_et_plus': 0.113, 'pratiques_d_achat_de_livres_livre_imprime_neuf_5_a_11': 0.151, 'marche_du_livre_imprime_neuf_aupres_des_particuliers_hors_scolaire_fiction_part_en_valeur': 0.352, 'marche_du_livre_imprime_neuf_aupres_des_particuliers_hors_scolaire_actualite_humour_essai_part_en_va': 0.084, 'marche_du_livre_imprime_neuf_aupres_des_particuliers_hors_scolaire_histoire_biographie_historique_pa': '0.064', 'marche_du_livre_imprime_neuf_aupres_des_particuliers_hors_scolaire_bd_et_mangas_part_en_valeur': 0.13, 'marche_du_livre_imprime_neuf_aupres_des_particuliers_hors_scolaire_jeunesse_part_en_valeur': 0.154, 'marche_du_livre_imprime_neuf_aupres_des_particuliers_hors_scolaire_beaux_livres_part_en_valeur': 0.042, 'marche_du_livre_imprime_neuf_aupres_des_particuliers_hors_scolaire_livres_pratiques_part_en_valeur': 0.122, 'marche_du_livre_imprime_neuf_aupres_des_particuliers_hors_scolaire_dictionnaires_et_encyclopedies_pa': 0.052, 'marche_du_livre_imprime_neuf_aupres_des_particuliers_hors_scolaire_fiction_part_en_volume': 0.362, 'marche_du_livre_imprime_neuf_aupres_des_particuliers_hors_scolaire_actualite_humour_essai_part_en_vo': 0.074, 'marche_du_livre_imprime_neuf_aupres_des_particuliers_hors_scolaire_histoire_biographie_historique_p0': '0.05', 'marche_du_livre_imprime_neuf_aupres_des_particuliers_hors_scolaire_bd_et_mangas_part_en_volume': 0.138, 'marche_du_livre_imprime_neuf_aupres_des_particuliers_hors_scolaire_jeunesse_part_en_volume': 0.215, 'marche_du_livre_imprime_neuf_aupres_des_particuliers_hors_scolaire_beaux_livres_part_en_volume': 0.023, 'marche_du_livre_imprime_neuf_aupres_des_particuliers_hors_scolaire_livres_pratiques_part_en_volume': 0.103, 'marche_du_livre_imprime_neuf_aupres_des_particuliers_hors_scolaire_dictionnaires_et_encyclopedies_p0': 0.036, 'droits_d_auteur_verses_par_les_editeurs_en_meur': 476.0, 'nombre_de_references_vendues': 739900.0, 'consommation_effective_des_menages_en_valeur_aux_prix_courants_livres_meur': 3941.1, 'chiffre_d_affaires_de_l_edition_numerique_en_meur': 201.7, 'chiffre_d_affaires_des_editeurs_cessions_de_droits_en_meur': 138.0, 'chiffre_d_affaires_des_editeurs_ensemble_en_meur': 2792.0, 'chiffre_d_affaires_des_editeurs_ventes_de_livres_hors_scolaire_en_meur': 2276.0, 'chiffre_d_affaires_des_editeurs_ventes_de_livres_en_meur': 2654.0, 'nombre_d_exemplaires_vendus_hors_scolaire_en_millions_d_exemplaires': 369.2, 'nombre_d_exemplaires_vendus_en_millions_d_exemplaires': 430.0, 'evolution_des_ventes_au_detail_valeur_panel_distributeur': -0.016, 'evolution_des_ventes_au_detail_volume_panel_distributeur': -0.016, 'evolution_des_ventes_au_detail_valeur_barometre_des_ventes': -0.011, 'evolution_des_ventes_au_detail_volume_barometre_des_ventes': -0.015, 'poids_des_meilleures_ventes_10_premiers': 0.019, 'poids_des_meilleures_ventes_1000_premiers': 0.194, 'poids_des_meilleures_ventes_10000_premiers': 0.443, 'poids_des_meilleures_ventes_5_premiers': 0.012, 'exportations_de_livres_drom_com_en_meur': 59.8, 'exportations_de_livres_yc_drom_com_et_feuillets_en_meur': 667.1, 'cessions_de_droits_a_l_exportation_en_nombre_de_titres': 13452.0, 'cessions_de_droits_a_l_exportation_en_nombre_de_titres_coeditions': None, 'cessions_de_droits_a_l_exportation_en_nombre_de_titres_hors_coeditions': None, 'part_des_francais_ayant_lu_1_a_4_livres_imprimes': 0.25, 'part_des_francais_ayant_lu_20_livres_imprimes_ou_plus': 0.24, 'part_des_francais_ayant_lu_5_a_19_livres_imprimes': 0.4, 'part_des_francais_ayant_lu_au_moins_un_livre_imprime': 0.89, 'avoir_deja_ecoute_un_livre_audio': None, 'avoir_deja_lu_un_livre_numerique': 0.21, 'achats_de_livres_des_bibliotheques_bibliotheques_municipales_et_intercommunales_en_millions_de_volum': 8.2, 'prets_dans_les_bibliotheques_municipales_et_intercommunales_livres_imprimes_en_millions': 208.1, 'prets_dans_les_bibliotheques_municipales_et_intercommunales_tous_supports_en_millions': 275.4, 'achat_de_livres_imprimes_en_euros': 24275696.0, 'livres_entrees_de_documents_volumes_ou_unites_materielles': 740824.0, 'livres_etrangers_entrees_de_documents_volumes_ou_unites_materielles': 98746.0, 'livres_francais_entrees_de_documents_volumes_ou_unites_materielles': 839570.0, 'droit_de_pret_auteurs_beneficiaires_annee_de_mise_en_distribution': 69371.0, 'droit_de_pret_editeurs_beneficiaires_annee_de_mise_en_distribution': 2789.0, 'droit_de_pret_montants_repartis_annee_de_mise_en_distribution': 12063196.0, 'droit_de_pret_nombre_de_titres_annee_de_mise_en_distribution': 374346.0, 'droit_de_pret_nombre_d_exemplaires_annee_de_mise_en_distribution': 6350620.0}, {'annee': '2018', 'nombre_de_livres_deposes': 82313.0, 'nombre_de_titres_disponibles_titres_imprimes': 783260.0, 'nombre_de_titres_disponibles_titres_numeriques': 281550.0, 'production_commercialisee_nouveautes_et_nouvelles_editions_hors_auto_edition_edition_a_compte_d_aute': 67942.0, 'tirage_moyen': 4732.0, 'nombre_de_traductions_dans_la_production_commercialisee_de_livres_imprimes': None, 'nombre_de_traductions_dans_la_production_commercialisee_de_livres_imprimes_anglais': None, 'nombre_de_traductions_dans_la_production_commercialisee_de_livres_imprimes_espagnol': None, 'nombre_de_traductions_dans_la_production_commercialisee_de_livres_imprimes_germanique': None, 'nombre_de_traductions_dans_la_production_commercialisee_de_livres_imprimes_italien': None, 'nombre_de_traductions_dans_la_production_commercialisee_de_livres_imprimes_japonais': None, 'nombre_de_traductions_dans_la_production_commercialisee_de_livres_imprimes_scandinave': None, 'part_des_traductions_dans_la_production_commercialisee_de_livres_imprimes': 0.185, 'poids_des_livres_de_poche_part_de_la_production_en_exemplaires': 0.242, 'poids_des_livres_de_poche_part_de_la_production_en_titres': 0.199, 'poids_des_livres_de_poche_part_des_exemplaires_vendus': 0.274, 'poids_des_livres_de_poche_part_du_chiffre_d_affaires_des_editeurs': 0.149, 'indice_annuel_des_prix_a_la_consommation_base_2015_ensemble_des_menages_france_ensemble': 103.09, 'indice_annuel_des_prix_a_la_consommation_base_2015_ensemble_des_menages_france_nomenclature_coicop_0': 100.68, 'indice_annuel_des_prix_a_la_consommation_base_2015_ensemble_des_menages_france_nomenclature_coicop_1': 102.94, 'indice_annuel_des_prix_a_la_consommation_base_2015_ensemble_des_menages_france_nomenclature_coicop_2': 101.4, 'indice_annuel_des_prix_a_la_consommation_base_2015_ensemble_des_menages_france_nomenclature_coicop_3': 99.38, 'indice_annuel_des_prix_a_la_consommation_base_2015_ensemble_des_menages_france_nomenclature_coicop_4': 80.92, 'variation_annuelle_des_prix_a_la_consommation_ensemble_des_menages_france_ensemble': 0.01847460976091686, 'variation_annuelle_des_prix_a_la_consommation_ensemble_des_menages_france_nomenclature_coicop_09_5_1': 0.004991016170892393, 'marche_du_livre_aupres_des_particuliers_hors_scolaire_part_de_marche_du_livre_imprime_neuf_en_valeur': 0.899, 'marche_du_livre_aupres_des_particuliers_hors_scolaire_part_de_marche_du_livre_d_occasion_en_valeur': 0.067, 'marche_du_livre_aupres_des_particuliers_hors_scolaire_part_de_marche_du_livre_numerique_en_valeur': 0.035, 'marche_du_livre_aupres_des_particuliers_hors_scolaire_part_de_marche_du_livre_imprime_neuf_en_volume': 0.795, 'marche_du_livre_aupres_des_particuliers_hors_scolaire_part_de_marche_du_livre_d_occasion_en_volume': 0.161, 'marche_du_livre_aupres_des_particuliers_hors_scolaire_part_de_marche_du_livre_numerique_en_volume': 0.044, 'livres_imprimes_lieux_d_achat_autres': 0.03920863309352518, 'livres_imprimes_lieux_d_achat_grandes_surfaces_non_specialisees': 0.19361992805755393, 'livres_imprimes_lieux_d_achat_grandes_surfaces_specialisees': 0.25602035971223025, 'livres_imprimes_lieux_d_achat_internet': 0.2079136690647482, 'livres_imprimes_lieux_d_achat_librairies': 0.21762589928057555, 'livres_imprimes_lieux_d_achat_vpc_courtage_club': 0.0856115107913669, 'pratiques_d_achat_de_livres_au_moins_un_livre': 0.513, 'pratiques_d_achat_de_livres_au_moins_un_livre_imprime': 0.502, 'pratiques_d_achat_de_livres_au_moins_un_livre_d_occasion': 0.119, 'pratiques_d_achat_de_livres_au_moins_un_livre_imprime_neuf': 0.489, 'pratiques_d_achat_de_livres_au_moins_un_livre_numerique': 0.044, 'pratiques_d_achat_de_livres_livre_imprime_neuf_1_a_4': 0.227, 'pratiques_d_achat_de_livres_livre_imprime_neuf_12_et_plus': 0.118, 'pratiques_d_achat_de_livres_livre_imprime_neuf_5_a_11': 0.144, 'marche_du_livre_imprime_neuf_aupres_des_particuliers_hors_scolaire_fiction_part_en_valeur': 0.347, 'marche_du_livre_imprime_neuf_aupres_des_particuliers_hors_scolaire_actualite_humour_essai_part_en_va': 0.07, 'marche_du_livre_imprime_neuf_aupres_des_particuliers_hors_scolaire_histoire_biographie_historique_pa': '0.079', 'marche_du_livre_imprime_neuf_aupres_des_particuliers_hors_scolaire_bd_et_mangas_part_en_valeur': 0.134, 'marche_du_livre_imprime_neuf_aupres_des_particuliers_hors_scolaire_jeunesse_part_en_valeur': 0.158, 'marche_du_livre_imprime_neuf_aupres_des_particuliers_hors_scolaire_beaux_livres_part_en_valeur': 0.04, 'marche_du_livre_imprime_neuf_aupres_des_particuliers_hors_scolaire_livres_pratiques_part_en_valeur': 0.121, 'marche_du_livre_imprime_neuf_aupres_des_particuliers_hors_scolaire_dictionnaires_et_encyclopedies_pa': 0.05, 'marche_du_livre_imprime_neuf_aupres_des_particuliers_hors_scolaire_fiction_part_en_volume': 0.36, 'marche_du_livre_imprime_neuf_aupres_des_particuliers_hors_scolaire_actualite_humour_essai_part_en_vo': 0.056, 'marche_du_livre_imprime_neuf_aupres_des_particuliers_hors_scolaire_histoire_biographie_historique_p0': '0.059', 'marche_du_livre_imprime_neuf_aupres_des_particuliers_hors_scolaire_bd_et_mangas_part_en_volume': 0.143, 'marche_du_livre_imprime_neuf_aupres_des_particuliers_hors_scolaire_jeunesse_part_en_volume': 0.228, 'marche_du_livre_imprime_neuf_aupres_des_particuliers_hors_scolaire_beaux_livres_part_en_volume': 0.021, 'marche_du_livre_imprime_neuf_aupres_des_particuliers_hors_scolaire_livres_pratiques_part_en_volume': 0.098, 'marche_du_livre_imprime_neuf_aupres_des_particuliers_hors_scolaire_dictionnaires_et_encyclopedies_p0': 0.034, 'droits_d_auteur_verses_par_les_editeurs_en_meur': 467.0, 'nombre_de_references_vendues': 758100.0, 'consommation_effective_des_menages_en_valeur_aux_prix_courants_livres_meur': 3874.1, 'chiffre_d_affaires_de_l_edition_numerique_en_meur': 212.6, 'chiffre_d_affaires_des_editeurs_cessions_de_droits_en_meur': 145.0, 'chiffre_d_affaires_des_editeurs_ensemble_en_meur': 2670.0, 'chiffre_d_affaires_des_editeurs_ventes_de_livres_hors_scolaire_en_meur': 2239.0, 'chiffre_d_affaires_des_editeurs_ventes_de_livres_en_meur': 2525.0, 'nombre_d_exemplaires_vendus_hors_scolaire_en_millions_d_exemplaires': 366.7, 'nombre_d_exemplaires_vendus_en_millions_d_exemplaires': 419.2, 'evolution_des_ventes_au_detail_valeur_panel_distributeur': -0.013, 'evolution_des_ventes_au_detail_volume_panel_distributeur': -0.01, 'evolution_des_ventes_au_detail_valeur_barometre_des_ventes': -0.017, 'evolution_des_ventes_au_detail_volume_barometre_des_ventes': -0.024, 'poids_des_meilleures_ventes_10_premiers': 0.02, 'poids_des_meilleures_ventes_1000_premiers': 0.207, 'poids_des_meilleures_ventes_10000_premiers': 0.479, 'poids_des_meilleures_ventes_5_premiers': 0.013, 'exportations_de_livres_drom_com_en_meur': 51.3, 'exportations_de_livres_yc_drom_com_et_feuillets_en_meur': 665.2, 'cessions_de_droits_a_l_exportation_en_nombre_de_titres': 15949.0, 'cessions_de_droits_a_l_exportation_en_nombre_de_titres_coeditions': 2164.0, 'cessions_de_droits_a_l_exportation_en_nombre_de_titres_hors_coeditions': 13785.0, 'part_des_francais_ayant_lu_1_a_4_livres_imprimes': None, 'part_des_francais_ayant_lu_20_livres_imprimes_ou_plus': None, 'part_des_francais_ayant_lu_5_a_19_livres_imprimes': None, 'part_des_francais_ayant_lu_au_moins_un_livre_imprime': None, 'avoir_deja_ecoute_un_livre_audio': 0.12, 'avoir_deja_lu_un_livre_numerique': 0.2, 'achats_de_livres_des_bibliotheques_bibliotheques_municipales_et_intercommunales_en_millions_de_volum': 8.2, 'prets_dans_les_bibliotheques_municipales_et_intercommunales_livres_imprimes_en_millions': 213.0, 'prets_dans_les_bibliotheques_municipales_et_intercommunales_tous_supports_en_millions': 279.5, 'achat_de_livres_imprimes_en_euros': 24553302.0, 'livres_entrees_de_documents_volumes_ou_unites_materielles': 731707.0, 'livres_etrangers_entrees_de_documents_volumes_ou_unites_materielles': 95346.0, 'livres_francais_entrees_de_documents_volumes_ou_unites_materielles': 827053.0, 'droit_de_pret_auteurs_beneficiaires_annee_de_mise_en_distribution': 63825.0, 'droit_de_pret_editeurs_beneficiaires_annee_de_mise_en_distribution': 2760.0, 'droit_de_pret_montants_repartis_annee_de_mise_en_distribution': 11676523.0, 'droit_de_pret_nombre_de_titres_annee_de_mise_en_distribution': 350847.0, 'droit_de_pret_nombre_d_exemplaires_annee_de_mise_en_distribution': 5925537.0}, {'annee': '2019', 'nombre_de_livres_deposes': 79581.0, 'nombre_de_titres_disponibles_titres_imprimes': 810130.0, 'nombre_de_titres_disponibles_titres_numeriques': 308120.0, 'production_commercialisee_nouveautes_et_nouvelles_editions_hors_auto_edition_edition_a_compte_d_aute': 68171.0, 'tirage_moyen': 4824.0, 'nombre_de_traductions_dans_la_production_commercialisee_de_livres_imprimes': 12361.0, 'nombre_de_traductions_dans_la_production_commercialisee_de_livres_imprimes_anglais': 7152.0, 'nombre_de_traductions_dans_la_production_commercialisee_de_livres_imprimes_espagnol': 393.0, 'nombre_de_traductions_dans_la_production_commercialisee_de_livres_imprimes_germanique': 677.0, 'nombre_de_traductions_dans_la_production_commercialisee_de_livres_imprimes_italien': 592.0, 'nombre_de_traductions_dans_la_production_commercialisee_de_livres_imprimes_japonais': 1697.0, 'nombre_de_traductions_dans_la_production_commercialisee_de_livres_imprimes_scandinave': 244.0, 'part_des_traductions_dans_la_production_commercialisee_de_livres_imprimes': 0.181, 'poids_des_livres_de_poche_part_de_la_production_en_exemplaires': 0.232, 'poids_des_livres_de_poche_part_de_la_production_en_titres': 0.21, 'poids_des_livres_de_poche_part_des_exemplaires_vendus': 0.27, 'poids_des_livres_de_poche_part_du_chiffre_d_affaires_des_editeurs': 0.145, 'indice_annuel_des_prix_a_la_consommation_base_2015_ensemble_des_menages_france_ensemble': 104.23, 'indice_annuel_des_prix_a_la_consommation_base_2015_ensemble_des_menages_france_nomenclature_coicop_0': 101.84, 'indice_annuel_des_prix_a_la_consommation_base_2015_ensemble_des_menages_france_nomenclature_coicop_1': 105.09, 'indice_annuel_des_prix_a_la_consommation_base_2015_ensemble_des_menages_france_nomenclature_coicop_2': 100.97, 'indice_annuel_des_prix_a_la_consommation_base_2015_ensemble_des_menages_france_nomenclature_coicop_3': 100.15, 'indice_annuel_des_prix_a_la_consommation_base_2015_ensemble_des_menages_france_nomenclature_coicop_4': 79.06, 'variation_annuelle_des_prix_a_la_consommation_ensemble_des_menages_france_ensemble': 0.011058298574061504, 'variation_annuelle_des_prix_a_la_consommation_ensemble_des_menages_france_nomenclature_coicop_09_5_1': 0.011521652761223645, 'marche_du_livre_aupres_des_particuliers_hors_scolaire_part_de_marche_du_livre_imprime_neuf_en_valeur': 0.895, 'marche_du_livre_aupres_des_particuliers_hors_scolaire_part_de_marche_du_livre_d_occasion_en_valeur': 0.068, 'marche_du_livre_aupres_des_particuliers_hors_scolaire_part_de_marche_du_livre_numerique_en_valeur': 0.037, 'marche_du_livre_aupres_des_particuliers_hors_scolaire_part_de_marche_du_livre_imprime_neuf_en_volume': 0.789, 'marche_du_livre_aupres_des_particuliers_hors_scolaire_part_de_marche_du_livre_d_occasion_en_volume': 0.165, 'marche_du_livre_aupres_des_particuliers_hors_scolaire_part_de_marche_du_livre_numerique_en_volume': 0.046, 'livres_imprimes_lieux_d_achat_autres': 0.04073309608540925, 'livres_imprimes_lieux_d_achat_grandes_surfaces_non_specialisees': 0.18525978647686833, 'livres_imprimes_lieux_d_achat_grandes_surfaces_specialisees': 0.2687829181494662, 'livres_imprimes_lieux_d_achat_internet': 0.20876156583629893, 'livres_imprimes_lieux_d_achat_librairies': 0.2223629893238434, 'livres_imprimes_lieux_d_achat_vpc_courtage_club': 0.07330249110320285, 'pratiques_d_achat_de_livres_au_moins_un_livre': 0.517, 'pratiques_d_achat_de_livres_au_moins_un_livre_imprime': 0.506, 'pratiques_d_achat_de_livres_au_moins_un_livre_d_occasion': 0.124, 'pratiques_d_achat_de_livres_au_moins_un_livre_imprime_neuf': 0.492, 'pratiques_d_achat_de_livres_au_moins_un_livre_numerique': 0.045, 'pratiques_d_achat_de_livres_livre_imprime_neuf_1_a_4': 0.206, 'pratiques_d_achat_de_livres_livre_imprime_neuf_12_et_plus': 0.126, 'pratiques_d_achat_de_livres_livre_imprime_neuf_5_a_11': 0.16, 'marche_du_livre_imprime_neuf_aupres_des_particuliers_hors_scolaire_fiction_part_en_valeur': 0.346, 'marche_du_livre_imprime_neuf_aupres_des_particuliers_hors_scolaire_actualite_humour_essai_part_en_va': 0.07, 'marche_du_livre_imprime_neuf_aupres_des_particuliers_hors_scolaire_histoire_biographie_historique_pa': '0.078', 'marche_du_livre_imprime_neuf_aupres_des_particuliers_hors_scolaire_bd_et_mangas_part_en_valeur': 0.142, 'marche_du_livre_imprime_neuf_aupres_des_particuliers_hors_scolaire_jeunesse_part_en_valeur': 0.163, 'marche_du_livre_imprime_neuf_aupres_des_particuliers_hors_scolaire_beaux_livres_part_en_valeur': 0.035, 'marche_du_livre_imprime_neuf_aupres_des_particuliers_hors_scolaire_livres_pratiques_part_en_valeur': 0.123, 'marche_du_livre_imprime_neuf_aupres_des_particuliers_hors_scolaire_dictionnaires_et_encyclopedies_pa': 0.043, 'marche_du_livre_imprime_neuf_aupres_des_particuliers_hors_scolaire_fiction_part_en_volume': 0.361, 'marche_du_livre_imprime_neuf_aupres_des_particuliers_hors_scolaire_actualite_humour_essai_part_en_vo': 0.057, 'marche_du_livre_imprime_neuf_aupres_des_particuliers_hors_scolaire_histoire_biographie_historique_p0': '0.059', 'marche_du_livre_imprime_neuf_aupres_des_particuliers_hors_scolaire_bd_et_mangas_part_en_volume': 0.15, 'marche_du_livre_imprime_neuf_aupres_des_particuliers_hors_scolaire_jeunesse_part_en_volume': 0.234, 'marche_du_livre_imprime_neuf_aupres_des_particuliers_hors_scolaire_beaux_livres_part_en_volume': 0.014, 'marche_du_livre_imprime_neuf_aupres_des_particuliers_hors_scolaire_livres_pratiques_part_en_volume': 0.099, 'marche_du_livre_imprime_neuf_aupres_des_particuliers_hors_scolaire_dictionnaires_et_encyclopedies_p0': 0.025, 'droits_d_auteur_verses_par_les_editeurs_en_meur': 477.3, 'nombre_de_references_vendues': 773400.0, 'consommation_effective_des_menages_en_valeur_aux_prix_courants_livres_meur': 3924.5, 'chiffre_d_affaires_de_l_edition_numerique_en_meur': 232.3, 'chiffre_d_affaires_des_editeurs_cessions_de_droits_en_meur': 141.0, 'chiffre_d_affaires_des_editeurs_ensemble_en_meur': 2806.0, 'chiffre_d_affaires_des_editeurs_ventes_de_livres_hors_scolaire_en_meur': 2277.0, 'chiffre_d_affaires_des_editeurs_ventes_de_livres_en_meur': 2665.0, 'nombre_d_exemplaires_vendus_hors_scolaire_en_millions_d_exemplaires': 374.1, 'nombre_d_exemplaires_vendus_en_millions_d_exemplaires': 435.1, 'evolution_des_ventes_au_detail_valeur_panel_distributeur': 0.012, 'evolution_des_ventes_au_detail_volume_panel_distributeur': 0.001, 'evolution_des_ventes_au_detail_valeur_barometre_des_ventes': 0.013, 'evolution_des_ventes_au_detail_volume_barometre_des_ventes': 0.002, 'poids_des_meilleures_ventes_10_premiers': 0.019, 'poids_des_meilleures_ventes_1000_premiers': 0.198, 'poids_des_meilleures_ventes_10000_premiers': 0.473, 'poids_des_meilleures_ventes_5_premiers': 0.013, 'exportations_de_livres_drom_com_en_meur': 52.6, 'exportations_de_livres_yc_drom_com_et_feuillets_en_meur': 666.8, 'cessions_de_droits_a_l_exportation_en_nombre_de_titres': 15419.0, 'cessions_de_droits_a_l_exportation_en_nombre_de_titres_coeditions': 1914.0, 'cessions_de_droits_a_l_exportation_en_nombre_de_titres_hors_coeditions': 13505.0, 'part_des_francais_ayant_lu_1_a_4_livres_imprimes': 0.26, 'part_des_francais_ayant_lu_20_livres_imprimes_ou_plus': 0.25, 'part_des_francais_ayant_lu_5_a_19_livres_imprimes': 0.4, 'part_des_francais_ayant_lu_au_moins_un_livre_imprime': 0.91, 'avoir_deja_ecoute_un_livre_audio': 0.14, 'avoir_deja_lu_un_livre_numerique': 0.22, 'achats_de_livres_des_bibliotheques_bibliotheques_municipales_et_intercommunales_en_millions_de_volum': 8.0, 'prets_dans_les_bibliotheques_municipales_et_intercommunales_livres_imprimes_en_millions': 208.4, 'prets_dans_les_bibliotheques_municipales_et_intercommunales_tous_supports_en_millions': 270.5, 'achat_de_livres_imprimes_en_euros': 24169733.0, 'livres_entrees_de_documents_volumes_ou_unites_materielles': 740944.0, 'livres_etrangers_entrees_de_documents_volumes_ou_unites_materielles': 101468.0, 'livres_francais_entrees_de_documents_volumes_ou_unites_materielles': 842412.0, 'droit_de_pret_auteurs_beneficiaires_annee_de_mise_en_distribution': 67063.0, 'droit_de_pret_editeurs_beneficiaires_annee_de_mise_en_distribution': 2763.0, 'droit_de_pret_montants_repartis_annee_de_mise_en_distribution': 11706025.0, 'droit_de_pret_nombre_de_titres_annee_de_mise_en_distribution': 355317.0, 'droit_de_pret_nombre_d_exemplaires_annee_de_mise_en_distribution': 6263873.0}, {'annee': '2020', 'nombre_de_livres_deposes': 64121.0, 'nombre_de_titres_disponibles_titres_imprimes': 792201.0, 'nombre_de_titres_disponibles_titres_numeriques': 323881.0, 'production_commercialisee_nouveautes_et_nouvelles_editions_hors_auto_edition_edition_a_compte_d_aute': 60541.0, 'tirage_moyen': 4693.0, 'nombre_de_traductions_dans_la_production_commercialisee_de_livres_imprimes': 10643.0, 'nombre_de_traductions_dans_la_production_commercialisee_de_livres_imprimes_anglais': 6169.0, 'nombre_de_traductions_dans_la_production_commercialisee_de_livres_imprimes_espagnol': 364.0, 'nombre_de_traductions_dans_la_production_commercialisee_de_livres_imprimes_germanique': 496.0, 'nombre_de_traductions_dans_la_production_commercialisee_de_livres_imprimes_italien': 502.0, 'nombre_de_traductions_dans_la_production_commercialisee_de_livres_imprimes_japonais': 1643.0, 'nombre_de_traductions_dans_la_production_commercialisee_de_livres_imprimes_scandinave': 182.0, 'part_des_traductions_dans_la_production_commercialisee_de_livres_imprimes': 0.176, 'poids_des_livres_de_poche_part_de_la_production_en_exemplaires': 0.237, 'poids_des_livres_de_poche_part_de_la_production_en_titres': 0.209, 'poids_des_livres_de_poche_part_des_exemplaires_vendus': 0.255, 'poids_des_livres_de_poche_part_du_chiffre_d_affaires_des_editeurs': 0.141, 'indice_annuel_des_prix_a_la_consommation_base_2015_ensemble_des_menages_france_ensemble': 104.73, 'indice_annuel_des_prix_a_la_consommation_base_2015_ensemble_des_menages_france_nomenclature_coicop_0': 102.56, 'indice_annuel_des_prix_a_la_consommation_base_2015_ensemble_des_menages_france_nomenclature_coicop_1': 106.2, 'indice_annuel_des_prix_a_la_consommation_base_2015_ensemble_des_menages_france_nomenclature_coicop_2': 101.62, 'indice_annuel_des_prix_a_la_consommation_base_2015_ensemble_des_menages_france_nomenclature_coicop_3': 100.49, 'indice_annuel_des_prix_a_la_consommation_base_2015_ensemble_des_menages_france_nomenclature_coicop_4': 78.58, 'variation_annuelle_des_prix_a_la_consommation_ensemble_des_menages_france_ensemble': 0.0047970833733090275, 'variation_annuelle_des_prix_a_la_consommation_ensemble_des_menages_france_nomenclature_coicop_09_5_1': 0.0070699135899450006, 'marche_du_livre_aupres_des_particuliers_hors_scolaire_part_de_marche_du_livre_imprime_neuf_en_valeur': 0.882, 'marche_du_livre_aupres_des_particuliers_hors_scolaire_part_de_marche_du_livre_d_occasion_en_valeur': 0.075, 'marche_du_livre_aupres_des_particuliers_hors_scolaire_part_de_marche_du_livre_numerique_en_valeur': 0.043, 'marche_du_livre_aupres_des_particuliers_hors_scolaire_part_de_marche_du_livre_imprime_neuf_en_volume': 0.78, 'marche_du_livre_aupres_des_particuliers_hors_scolaire_part_de_marche_du_livre_d_occasion_en_volume': 0.163, 'marche_du_livre_aupres_des_particuliers_hors_scolaire_part_de_marche_du_livre_numerique_en_volume': 0.057, 'livres_imprimes_lieux_d_achat_autres': 0.04611293896461425, 'livres_imprimes_lieux_d_achat_grandes_surfaces_non_specialisees': 0.16732879727239494, 'livres_imprimes_lieux_d_achat_grandes_surfaces_specialisees': 0.2863300431970277, 'livres_imprimes_lieux_d_achat_internet': 0.21883281525996554, 'livres_imprimes_lieux_d_achat_librairies': 0.22486220968836962, 'livres_imprimes_lieux_d_achat_vpc_courtage_club': 0.05653319561837403, 'pratiques_d_achat_de_livres_au_moins_un_livre': 0.521, 'pratiques_d_achat_de_livres_au_moins_un_livre_imprime': 0.509, 'pratiques_d_achat_de_livres_au_moins_un_livre_d_occasion': 0.1, 'pratiques_d_achat_de_livres_au_moins_un_livre_imprime_neuf': 0.498, 'pratiques_d_achat_de_livres_au_moins_un_livre_numerique': 0.048, 'pratiques_d_achat_de_livres_livre_imprime_neuf_1_a_4': 0.248, 'pratiques_d_achat_de_livres_livre_imprime_neuf_12_et_plus': 0.103, 'pratiques_d_achat_de_livres_livre_imprime_neuf_5_a_11': 0.147, 'marche_du_livre_imprime_neuf_aupres_des_particuliers_hors_scolaire_fiction_part_en_valeur': 0.367, 'marche_du_livre_imprime_neuf_aupres_des_particuliers_hors_scolaire_actualite_humour_essai_part_en_va': 0.078, 'marche_du_livre_imprime_neuf_aupres_des_particuliers_hors_scolaire_histoire_biographie_historique_pa': '0.07', 'marche_du_livre_imprime_neuf_aupres_des_particuliers_hors_scolaire_bd_et_mangas_part_en_valeur': 0.157, 'marche_du_livre_imprime_neuf_aupres_des_particuliers_hors_scolaire_jeunesse_part_en_valeur': 0.167, 'marche_du_livre_imprime_neuf_aupres_des_particuliers_hors_scolaire_beaux_livres_part_en_valeur': 0.031, 'marche_du_livre_imprime_neuf_aupres_des_particuliers_hors_scolaire_livres_pratiques_part_en_valeur': 0.08, 'marche_du_livre_imprime_neuf_aupres_des_particuliers_hors_scolaire_dictionnaires_et_encyclopedies_pa': 0.049, 'marche_du_livre_imprime_neuf_aupres_des_particuliers_hors_scolaire_fiction_part_en_volume': 0.369, 'marche_du_livre_imprime_neuf_aupres_des_particuliers_hors_scolaire_actualite_humour_essai_part_en_vo': 0.057, 'marche_du_livre_imprime_neuf_aupres_des_particuliers_hors_scolaire_histoire_biographie_historique_p0': '0.046', 'marche_du_livre_imprime_neuf_aupres_des_particuliers_hors_scolaire_bd_et_mangas_part_en_volume': 0.175, 'marche_du_livre_imprime_neuf_aupres_des_particuliers_hors_scolaire_jeunesse_part_en_volume': 0.242, 'marche_du_livre_imprime_neuf_aupres_des_particuliers_hors_scolaire_beaux_livres_part_en_volume': 0.014, 'marche_du_livre_imprime_neuf_aupres_des_particuliers_hors_scolaire_livres_pratiques_part_en_volume': 0.068, 'marche_du_livre_imprime_neuf_aupres_des_particuliers_hors_scolaire_dictionnaires_et_encyclopedies_p0': 0.03, 'droits_d_auteur_verses_par_les_editeurs_en_meur': 482.3, 'nombre_de_references_vendues': 817781.0, 'consommation_effective_des_menages_en_valeur_aux_prix_courants_livres_meur': 3838.1, 'chiffre_d_affaires_de_l_edition_numerique_en_meur': 263.6, 'chiffre_d_affaires_des_editeurs_cessions_de_droits_en_meur': 133.0, 'chiffre_d_affaires_des_editeurs_ensemble_en_meur': 2740.0, 'chiffre_d_affaires_des_editeurs_ventes_de_livres_hors_scolaire_en_meur': 2218.0, 'chiffre_d_affaires_des_editeurs_ventes_de_livres_en_meur': 2607.0, 'nombre_d_exemplaires_vendus_hors_scolaire_en_millions_d_exemplaires': 356.3, 'nombre_d_exemplaires_vendus_en_millions_d_exemplaires': 421.6, 'evolution_des_ventes_au_detail_valeur_panel_distributeur': -0.017, 'evolution_des_ventes_au_detail_volume_panel_distributeur': -0.033, 'evolution_des_ventes_au_detail_valeur_barometre_des_ventes': -0.045, 'evolution_des_ventes_au_detail_volume_barometre_des_ventes': None, 'poids_des_meilleures_ventes_10_premiers': 0.013, 'poids_des_meilleures_ventes_1000_premiers': 0.194, 'poids_des_meilleures_ventes_10000_premiers': 0.495, 'poids_des_meilleures_ventes_5_premiers': 0.008, 'exportations_de_livres_drom_com_en_meur': 59.5, 'exportations_de_livres_yc_drom_com_et_feuillets_en_meur': 602.5, 'cessions_de_droits_a_l_exportation_en_nombre_de_titres': 14021.0, 'cessions_de_droits_a_l_exportation_en_nombre_de_titres_coeditions': 1878.0, 'cessions_de_droits_a_l_exportation_en_nombre_de_titres_hors_coeditions': 12143.0, 'part_des_francais_ayant_lu_1_a_4_livres_imprimes': None, 'part_des_francais_ayant_lu_20_livres_imprimes_ou_plus': None, 'part_des_francais_ayant_lu_5_a_19_livres_imprimes': None, 'part_des_francais_ayant_lu_au_moins_un_livre_imprime': None, 'avoir_deja_ecoute_un_livre_audio': 0.2, 'avoir_deja_lu_un_livre_numerique': 0.25, 'achats_de_livres_des_bibliotheques_bibliotheques_municipales_et_intercommunales_en_millions_de_volum': None, 'prets_dans_les_bibliotheques_municipales_et_intercommunales_livres_imprimes_en_millions': None, 'prets_dans_les_bibliotheques_municipales_et_intercommunales_tous_supports_en_millions': None, 'achat_de_livres_imprimes_en_euros': 21930770.0, 'livres_entrees_de_documents_volumes_ou_unites_materielles': 640575.0, 'livres_etrangers_entrees_de_documents_volumes_ou_unites_materielles': 82363.0, 'livres_francais_entrees_de_documents_volumes_ou_unites_materielles': 722938.0, 'droit_de_pret_auteurs_beneficiaires_annee_de_mise_en_distribution': 65437.0, 'droit_de_pret_editeurs_beneficiaires_annee_de_mise_en_distribution': 2645.0, 'droit_de_pret_montants_repartis_annee_de_mise_en_distribution': 10974120.0, 'droit_de_pret_nombre_de_titres_annee_de_mise_en_distribution': 362112.0, 'droit_de_pret_nombre_d_exemplaires_annee_de_mise_en_distribution': 6296879.0}, {'annee': '2022', 'nombre_de_livres_deposes': 81909.0, 'nombre_de_titres_disponibles_titres_imprimes': 818558.0, 'nombre_de_titres_disponibles_titres_numeriques': 354789.0, 'production_commercialisee_nouveautes_et_nouvelles_editions_hors_auto_edition_edition_a_compte_d_aute': 67384.0, 'tirage_moyen': 4815.0, 'nombre_de_traductions_dans_la_production_commercialisee_de_livres_imprimes': 12155.0, 'nombre_de_traductions_dans_la_production_commercialisee_de_livres_imprimes_anglais': 6771.0, 'nombre_de_traductions_dans_la_production_commercialisee_de_livres_imprimes_espagnol': 440.0, 'nombre_de_traductions_dans_la_production_commercialisee_de_livres_imprimes_germanique': 512.0, 'nombre_de_traductions_dans_la_production_commercialisee_de_livres_imprimes_italien': 671.0, 'nombre_de_traductions_dans_la_production_commercialisee_de_livres_imprimes_japonais': 1984.0, 'nombre_de_traductions_dans_la_production_commercialisee_de_livres_imprimes_scandinave': 219.0, 'part_des_traductions_dans_la_production_commercialisee_de_livres_imprimes': 0.177, 'poids_des_livres_de_poche_part_de_la_production_en_exemplaires': 0.25, 'poids_des_livres_de_poche_part_de_la_production_en_titres': 0.244, 'poids_des_livres_de_poche_part_des_exemplaires_vendus': 0.261, 'poids_des_livres_de_poche_part_du_chiffre_d_affaires_des_editeurs': 0.151, 'indice_annuel_des_prix_a_la_consommation_base_2015_ensemble_des_menages_france_ensemble': 112.01, 'indice_annuel_des_prix_a_la_consommation_base_2015_ensemble_des_menages_france_nomenclature_coicop_0': 104.97, 'indice_annuel_des_prix_a_la_consommation_base_2015_ensemble_des_menages_france_nomenclature_coicop_1': 108.04, 'indice_annuel_des_prix_a_la_consommation_base_2015_ensemble_des_menages_france_nomenclature_coicop_2': 104.58, 'indice_annuel_des_prix_a_la_consommation_base_2015_ensemble_des_menages_france_nomenclature_coicop_3': 104.83, 'indice_annuel_des_prix_a_la_consommation_base_2015_ensemble_des_menages_france_nomenclature_coicop_4': 74.79, 'variation_annuelle_des_prix_a_la_consommation_ensemble_des_menages_france_ensemble': 0.05223109441052139, 'variation_annuelle_des_prix_a_la_consommation_ensemble_des_menages_france_nomenclature_coicop_09_5_1': 0.014889297109155873, 'marche_du_livre_aupres_des_particuliers_hors_scolaire_part_de_marche_du_livre_imprime_neuf_en_valeur': 0.889, 'marche_du_livre_aupres_des_particuliers_hors_scolaire_part_de_marche_du_livre_d_occasion_en_valeur': 0.072, 'marche_du_livre_aupres_des_particuliers_hors_scolaire_part_de_marche_du_livre_numerique_en_valeur': 0.039, 'marche_du_livre_aupres_des_particuliers_hors_scolaire_part_de_marche_du_livre_imprime_neuf_en_volume': 0.79, 'marche_du_livre_aupres_des_particuliers_hors_scolaire_part_de_marche_du_livre_d_occasion_en_volume': 0.163, 'marche_du_livre_aupres_des_particuliers_hors_scolaire_part_de_marche_du_livre_numerique_en_volume': 0.048, 'livres_imprimes_lieux_d_achat_autres': 0.054402130388669374, 'livres_imprimes_lieux_d_achat_grandes_surfaces_non_specialisees': 0.18728856808798702, 'livres_imprimes_lieux_d_achat_grandes_surfaces_specialisees': 0.27737640932078794, 'livres_imprimes_lieux_d_achat_internet': 0.2193407424018833, 'livres_imprimes_lieux_d_achat_librairies': 0.229229039978776, 'livres_imprimes_lieux_d_achat_vpc_courtage_club': 0.03236310981639752, 'pratiques_d_achat_de_livres_au_moins_un_livre': 0.502, 'pratiques_d_achat_de_livres_au_moins_un_livre_imprime': 0.487, 'pratiques_d_achat_de_livres_au_moins_un_livre_d_occasion': 0.138, 'pratiques_d_achat_de_livres_au_moins_un_livre_imprime_neuf': 0.468, 'pratiques_d_achat_de_livres_au_moins_un_livre_numerique': 0.038, 'pratiques_d_achat_de_livres_livre_imprime_neuf_1_a_4': 0.22, 'pratiques_d_achat_de_livres_livre_imprime_neuf_12_et_plus': 0.119, 'pratiques_d_achat_de_livres_livre_imprime_neuf_5_a_11': 0.129, 'marche_du_livre_imprime_neuf_aupres_des_particuliers_hors_scolaire_fiction_part_en_valeur': 0.334, 'marche_du_livre_imprime_neuf_aupres_des_particuliers_hors_scolaire_actualite_humour_essai_part_en_va': 0.059, 'marche_du_livre_imprime_neuf_aupres_des_particuliers_hors_scolaire_histoire_biographie_historique_pa': '0.081', 'marche_du_livre_imprime_neuf_aupres_des_particuliers_hors_scolaire_bd_et_mangas_part_en_valeur': 0.224, 'marche_du_livre_imprime_neuf_aupres_des_particuliers_hors_scolaire_jeunesse_part_en_valeur': 0.151, 'marche_du_livre_imprime_neuf_aupres_des_particuliers_hors_scolaire_beaux_livres_part_en_valeur': 0.029, 'marche_du_livre_imprime_neuf_aupres_des_particuliers_hors_scolaire_livres_pratiques_part_en_valeur': 0.077, 'marche_du_livre_imprime_neuf_aupres_des_particuliers_hors_scolaire_dictionnaires_et_encyclopedies_pa': 0.044, 'marche_du_livre_imprime_neuf_aupres_des_particuliers_hors_scolaire_fiction_part_en_volume': 0.33, 'marche_du_livre_imprime_neuf_aupres_des_particuliers_hors_scolaire_actualite_humour_essai_part_en_vo': 0.045, 'marche_du_livre_imprime_neuf_aupres_des_particuliers_hors_scolaire_histoire_biographie_historique_p0': '0.054', 'marche_du_livre_imprime_neuf_aupres_des_particuliers_hors_scolaire_bd_et_mangas_part_en_volume': 0.249, 'marche_du_livre_imprime_neuf_aupres_des_particuliers_hors_scolaire_jeunesse_part_en_volume': 0.218, 'marche_du_livre_imprime_neuf_aupres_des_particuliers_hors_scolaire_beaux_livres_part_en_volume': 0.013, 'marche_du_livre_imprime_neuf_aupres_des_particuliers_hors_scolaire_livres_pratiques_part_en_volume': 0.064, 'marche_du_livre_imprime_neuf_aupres_des_particuliers_hors_scolaire_dictionnaires_et_encyclopedies_p0': 0.027, 'droits_d_auteur_verses_par_les_editeurs_en_meur': 513.8, 'nombre_de_references_vendues': 827154.0, 'consommation_effective_des_menages_en_valeur_aux_prix_courants_livres_meur': 4558.7, 'chiffre_d_affaires_de_l_edition_numerique_en_meur': 285.2, 'chiffre_d_affaires_des_editeurs_cessions_de_droits_en_meur': 148.0, 'chiffre_d_affaires_des_editeurs_ensemble_en_meur': 2911.0, 'chiffre_d_affaires_des_editeurs_ventes_de_livres_hors_scolaire_en_meur': 2469.0, 'chiffre_d_affaires_des_editeurs_ventes_de_livres_en_meur': 2762.0, 'nombre_d_exemplaires_vendus_hors_scolaire_en_millions_d_exemplaires': 393.2, 'nombre_d_exemplaires_vendus_en_millions_d_exemplaires': 448.5, 'evolution_des_ventes_au_detail_valeur_panel_distributeur': -0.038, 'evolution_des_ventes_au_detail_volume_panel_distributeur': -0.057, 'evolution_des_ventes_au_detail_valeur_barometre_des_ventes': -0.02, 'evolution_des_ventes_au_detail_volume_barometre_des_ventes': None, 'poids_des_meilleures_ventes_10_premiers': 0.011, 'poids_des_meilleures_ventes_1000_premiers': 0.204, 'poids_des_meilleures_ventes_10000_premiers': 0.501, 'poids_des_meilleures_ventes_5_premiers': 0.006, 'exportations_de_livres_drom_com_en_meur': 70.0, 'exportations_de_livres_yc_drom_com_et_feuillets_en_meur': 694.1, 'cessions_de_droits_a_l_exportation_en_nombre_de_titres': 14342.0, 'cessions_de_droits_a_l_exportation_en_nombre_de_titres_coeditions': 1919.0, 'cessions_de_droits_a_l_exportation_en_nombre_de_titres_hors_coeditions': 12423.0, 'part_des_francais_ayant_lu_1_a_4_livres_imprimes': None, 'part_des_francais_ayant_lu_20_livres_imprimes_ou_plus': None, 'part_des_francais_ayant_lu_5_a_19_livres_imprimes': None, 'part_des_francais_ayant_lu_au_moins_un_livre_imprime': None, 'avoir_deja_ecoute_un_livre_audio': 0.19, 'avoir_deja_lu_un_livre_numerique': 0.25, 'achats_de_livres_des_bibliotheques_bibliotheques_municipales_et_intercommunales_en_millions_de_volum': None, 'prets_dans_les_bibliotheques_municipales_et_intercommunales_livres_imprimes_en_millions': None, 'prets_dans_les_bibliotheques_municipales_et_intercommunales_tous_supports_en_millions': None, 'achat_de_livres_imprimes_en_euros': 22891348.0, 'livres_entrees_de_documents_volumes_ou_unites_materielles': 718040.0, 'livres_etrangers_entrees_de_documents_volumes_ou_unites_materielles': 99281.0, 'livres_francais_entrees_de_documents_volumes_ou_unites_materielles': 817321.0, 'droit_de_pret_auteurs_beneficiaires_annee_de_mise_en_distribution': 101505.0, 'droit_de_pret_editeurs_beneficiaires_annee_de_mise_en_distribution': 3233.0, 'droit_de_pret_montants_repartis_annee_de_mise_en_distribution': 22069118.0, 'droit_de_pret_nombre_de_titres_annee_de_mise_en_distribution': 643463.0, 'droit_de_pret_nombre_d_exemplaires_annee_de_mise_en_distribution': 12358571.0}, {'annee': '2010', 'nombre_de_livres_deposes': 67278.0, 'nombre_de_titres_disponibles_titres_imprimes': 599450.0, 'nombre_de_titres_disponibles_titres_numeriques': None, 'production_commercialisee_nouveautes_et_nouvelles_editions_hors_auto_edition_edition_a_compte_d_aute': 63052.0, 'tirage_moyen': 7937.0, 'nombre_de_traductions_dans_la_production_commercialisee_de_livres_imprimes': None, 'nombre_de_traductions_dans_la_production_commercialisee_de_livres_imprimes_anglais': None, 'nombre_de_traductions_dans_la_production_commercialisee_de_livres_imprimes_espagnol': None, 'nombre_de_traductions_dans_la_production_commercialisee_de_livres_imprimes_germanique': None, 'nombre_de_traductions_dans_la_production_commercialisee_de_livres_imprimes_italien': None, 'nombre_de_traductions_dans_la_production_commercialisee_de_livres_imprimes_japonais': None, 'nombre_de_traductions_dans_la_production_commercialisee_de_livres_imprimes_scandinave': None, 'part_des_traductions_dans_la_production_commercialisee_de_livres_imprimes': 0.149, 'poids_des_livres_de_poche_part_de_la_production_en_exemplaires': 0.23, 'poids_des_livres_de_poche_part_de_la_production_en_titres': 0.185, 'poids_des_livres_de_poche_part_des_exemplaires_vendus': 0.252, 'poids_des_livres_de_poche_part_du_chiffre_d_affaires_des_editeurs': 0.129, 'indice_annuel_des_prix_a_la_consommation_base_2015_ensemble_des_menages_france_ensemble': 94.71, 'indice_annuel_des_prix_a_la_consommation_base_2015_ensemble_des_menages_france_nomenclature_coicop_0': 93.71, 'indice_annuel_des_prix_a_la_consommation_base_2015_ensemble_des_menages_france_nomenclature_coicop_1': 91.04, 'indice_annuel_des_prix_a_la_consommation_base_2015_ensemble_des_menages_france_nomenclature_coicop_2': 94.88, 'indice_annuel_des_prix_a_la_consommation_base_2015_ensemble_des_menages_france_nomenclature_coicop_3': 97.14, 'indice_annuel_des_prix_a_la_consommation_base_2015_ensemble_des_menages_france_nomenclature_coicop_4': None, 'variation_annuelle_des_prix_a_la_consommation_ensemble_des_menages_france_ensemble': 0.015221352770929225, 'variation_annuelle_des_prix_a_la_consommation_ensemble_des_menages_france_nomenclature_coicop_09_5_1': 0.011440906637884381, 'marche_du_livre_aupres_des_particuliers_hors_scolaire_part_de_marche_du_livre_imprime_neuf_en_valeur': None, 'marche_du_livre_aupres_des_particuliers_hors_scolaire_part_de_marche_du_livre_d_occasion_en_valeur': None, 'marche_du_livre_aupres_des_particuliers_hors_scolaire_part_de_marche_du_livre_numerique_en_valeur': None, 'marche_du_livre_aupres_des_particuliers_hors_scolaire_part_de_marche_du_livre_imprime_neuf_en_volume': None, 'marche_du_livre_aupres_des_particuliers_hors_scolaire_part_de_marche_du_livre_d_occasion_en_volume': None, 'marche_du_livre_aupres_des_particuliers_hors_scolaire_part_de_marche_du_livre_numerique_en_volume': None, 'livres_imprimes_lieux_d_achat_autres': 0.087, 'livres_imprimes_lieux_d_achat_grandes_surfaces_non_specialisees': 0.191, 'livres_imprimes_lieux_d_achat_grandes_surfaces_specialisees': 0.223, 'livres_imprimes_lieux_d_achat_internet': 0.131, 'livres_imprimes_lieux_d_achat_librairies': 0.234, 'livres_imprimes_lieux_d_achat_vpc_courtage_club': 0.133, 'pratiques_d_achat_de_livres_au_moins_un_livre': 0.518, 'pratiques_d_achat_de_livres_au_moins_un_livre_imprime': None, 'pratiques_d_achat_de_livres_au_moins_un_livre_d_occasion': None, 'pratiques_d_achat_de_livres_au_moins_un_livre_imprime_neuf': None, 'pratiques_d_achat_de_livres_au_moins_un_livre_numerique': None, 'pratiques_d_achat_de_livres_livre_imprime_neuf_1_a_4': 0.25, 'pratiques_d_achat_de_livres_livre_imprime_neuf_12_et_plus': 0.11, 'pratiques_d_achat_de_livres_livre_imprime_neuf_5_a_11': 0.15, 'marche_du_livre_imprime_neuf_aupres_des_particuliers_hors_scolaire_fiction_part_en_valeur': None, 'marche_du_livre_imprime_neuf_aupres_des_particuliers_hors_scolaire_actualite_humour_essai_part_en_va': None, 'marche_du_livre_imprime_neuf_aupres_des_particuliers_hors_scolaire_histoire_biographie_historique_pa': None, 'marche_du_livre_imprime_neuf_aupres_des_particuliers_hors_scolaire_bd_et_mangas_part_en_valeur': None, 'marche_du_livre_imprime_neuf_aupres_des_particuliers_hors_scolaire_jeunesse_part_en_valeur': None, 'marche_du_livre_imprime_neuf_aupres_des_particuliers_hors_scolaire_beaux_livres_part_en_valeur': None, 'marche_du_livre_imprime_neuf_aupres_des_particuliers_hors_scolaire_livres_pratiques_part_en_valeur': None, 'marche_du_livre_imprime_neuf_aupres_des_particuliers_hors_scolaire_dictionnaires_et_encyclopedies_pa': None, 'marche_du_livre_imprime_neuf_aupres_des_particuliers_hors_scolaire_fiction_part_en_volume': None, 'marche_du_livre_imprime_neuf_aupres_des_particuliers_hors_scolaire_actualite_humour_essai_part_en_vo': None, 'marche_du_livre_imprime_neuf_aupres_des_particuliers_hors_scolaire_histoire_biographie_historique_p0': None, 'marche_du_livre_imprime_neuf_aupres_des_particuliers_hors_scolaire_bd_et_mangas_part_en_volume': None, 'marche_du_livre_imprime_neuf_aupres_des_particuliers_hors_scolaire_jeunesse_part_en_volume': None, 'marche_du_livre_imprime_neuf_aupres_des_particuliers_hors_scolaire_beaux_livres_part_en_volume': None, 'marche_du_livre_imprime_neuf_aupres_des_particuliers_hors_scolaire_livres_pratiques_part_en_volume': None, 'marche_du_livre_imprime_neuf_aupres_des_particuliers_hors_scolaire_dictionnaires_et_encyclopedies_p0': None, 'droits_d_auteur_verses_par_les_editeurs_en_meur': 435.0, 'nombre_de_references_vendues': None, 'consommation_effective_des_menages_en_valeur_aux_prix_courants_livres_meur': 4003.9, 'chiffre_d_affaires_de_l_edition_numerique_en_meur': 52.9, 'chiffre_d_affaires_des_editeurs_cessions_de_droits_en_meur': 131.0, 'chiffre_d_affaires_des_editeurs_ensemble_en_meur': 2838.0, 'chiffre_d_affaires_des_editeurs_ventes_de_livres_hors_scolaire_en_meur': 2339.0, 'chiffre_d_affaires_des_editeurs_ventes_de_livres_en_meur': 2707.0, 'nombre_d_exemplaires_vendus_hors_scolaire_en_millions_d_exemplaires': 390.2, 'nombre_d_exemplaires_vendus_en_millions_d_exemplaires': 451.9, 'evolution_des_ventes_au_detail_valeur_panel_distributeur': None, 'evolution_des_ventes_au_detail_volume_panel_distributeur': None, 'evolution_des_ventes_au_detail_valeur_barometre_des_ventes': -0.005, 'evolution_des_ventes_au_detail_volume_barometre_des_ventes': -0.015, 'poids_des_meilleures_ventes_10_premiers': None, 'poids_des_meilleures_ventes_1000_premiers': None, 'poids_des_meilleures_ventes_10000_premiers': None, 'poids_des_meilleures_ventes_5_premiers': None, 'exportations_de_livres_drom_com_en_meur': 63.0, 'exportations_de_livres_yc_drom_com_et_feuillets_en_meur': 704.7, 'cessions_de_droits_a_l_exportation_en_nombre_de_titres': 9478.0, 'cessions_de_droits_a_l_exportation_en_nombre_de_titres_coeditions': None, 'cessions_de_droits_a_l_exportation_en_nombre_de_titres_hors_coeditions': None, 'part_des_francais_ayant_lu_1_a_4_livres_imprimes': None, 'part_des_francais_ayant_lu_20_livres_imprimes_ou_plus': None, 'part_des_francais_ayant_lu_5_a_19_livres_imprimes': None, 'part_des_francais_ayant_lu_au_moins_un_livre_imprime': None, 'avoir_deja_ecoute_un_livre_audio': None, 'avoir_deja_lu_un_livre_numerique': None, 'achats_de_livres_des_bibliotheques_bibliotheques_municipales_et_intercommunales_en_millions_de_volum': None, 'prets_dans_les_bibliotheques_municipales_et_intercommunales_livres_imprimes_en_millions': None, 'prets_dans_les_bibliotheques_municipales_et_intercommunales_tous_supports_en_millions': None, 'achat_de_livres_imprimes_en_euros': None, 'livres_entrees_de_documents_volumes_ou_unites_materielles': None, 'livres_etrangers_entrees_de_documents_volumes_ou_unites_materielles': None, 'livres_francais_entrees_de_documents_volumes_ou_unites_materielles': None, 'droit_de_pret_auteurs_beneficiaires_annee_de_mise_en_distribution': None, 'droit_de_pret_editeurs_beneficiaires_annee_de_mise_en_distribution': None, 'droit_de_pret_montants_repartis_annee_de_mise_en_distribution': None, 'droit_de_pret_nombre_de_titres_annee_de_mise_en_distribution': None, 'droit_de_pret_nombre_d_exemplaires_annee_de_mise_en_distribution': None}, {'annee': '2013', 'nombre_de_livres_deposes': 74818.0, 'nombre_de_titres_disponibles_titres_imprimes': 673500.0, 'nombre_de_titres_disponibles_titres_numeriques': None, 'production_commercialisee_nouveautes_et_nouvelles_editions_hors_auto_edition_edition_a_compte_d_aute': 66527.0, 'tirage_moyen': 5966.0, 'nombre_de_traductions_dans_la_production_commercialisee_de_livres_imprimes': None, 'nombre_de_traductions_dans_la_production_commercialisee_de_livres_imprimes_anglais': None, 'nombre_de_traductions_dans_la_production_commercialisee_de_livres_imprimes_espagnol': None, 'nombre_de_traductions_dans_la_production_commercialisee_de_livres_imprimes_germanique': None, 'nombre_de_traductions_dans_la_production_commercialisee_de_livres_imprimes_italien': None, 'nombre_de_traductions_dans_la_production_commercialisee_de_livres_imprimes_japonais': None, 'nombre_de_traductions_dans_la_production_commercialisee_de_livres_imprimes_scandinave': None, 'part_des_traductions_dans_la_production_commercialisee_de_livres_imprimes': 0.175, 'poids_des_livres_de_poche_part_de_la_production_en_exemplaires': 0.228, 'poids_des_livres_de_poche_part_de_la_production_en_titres': 0.172, 'poids_des_livres_de_poche_part_des_exemplaires_vendus': 0.245, 'poids_des_livres_de_poche_part_du_chiffre_d_affaires_des_editeurs': 0.136, 'indice_annuel_des_prix_a_la_consommation_base_2015_ensemble_des_menages_france_ensemble': 99.46, 'indice_annuel_des_prix_a_la_consommation_base_2015_ensemble_des_menages_france_nomenclature_coicop_0': 99.0, 'indice_annuel_des_prix_a_la_consommation_base_2015_ensemble_des_menages_france_nomenclature_coicop_1': 97.64, 'indice_annuel_des_prix_a_la_consommation_base_2015_ensemble_des_menages_france_nomenclature_coicop_2': 98.38, 'indice_annuel_des_prix_a_la_consommation_base_2015_ensemble_des_menages_france_nomenclature_coicop_3': 101.43, 'indice_annuel_des_prix_a_la_consommation_base_2015_ensemble_des_menages_france_nomenclature_coicop_4': None, 'variation_annuelle_des_prix_a_la_consommation_ensemble_des_menages_france_ensemble': 0.008722109533468555, 'variation_annuelle_des_prix_a_la_consommation_ensemble_des_menages_france_nomenclature_coicop_09_5_1': 0.0044642857142856915, 'marche_du_livre_aupres_des_particuliers_hors_scolaire_part_de_marche_du_livre_imprime_neuf_en_valeur': 0.92619926199262, 'marche_du_livre_aupres_des_particuliers_hors_scolaire_part_de_marche_du_livre_d_occasion_en_valeur': 0.05535055350553506, 'marche_du_livre_aupres_des_particuliers_hors_scolaire_part_de_marche_du_livre_numerique_en_valeur': 0.019, 'marche_du_livre_aupres_des_particuliers_hors_scolaire_part_de_marche_du_livre_imprime_neuf_en_volume': 0.8392330383480826, 'marche_du_livre_aupres_des_particuliers_hors_scolaire_part_de_marche_du_livre_d_occasion_en_volume': 0.13569321533923304, 'marche_du_livre_aupres_des_particuliers_hors_scolaire_part_de_marche_du_livre_numerique_en_volume': 0.025, 'livres_imprimes_lieux_d_achat_autres': 0.04, 'livres_imprimes_lieux_d_achat_grandes_surfaces_non_specialisees': 0.195, 'livres_imprimes_lieux_d_achat_grandes_surfaces_specialisees': 0.22, 'livres_imprimes_lieux_d_achat_internet': 0.18, 'livres_imprimes_lieux_d_achat_librairies': 0.215, 'livres_imprimes_lieux_d_achat_vpc_courtage_club': 0.15, 'pratiques_d_achat_de_livres_au_moins_un_livre': 0.53, 'pratiques_d_achat_de_livres_au_moins_un_livre_imprime': 0.53, 'pratiques_d_achat_de_livres_au_moins_un_livre_d_occasion': 0.1, 'pratiques_d_achat_de_livres_au_moins_un_livre_imprime_neuf': 0.52, 'pratiques_d_achat_de_livres_au_moins_un_livre_numerique': 0.026, 'pratiques_d_achat_de_livres_livre_imprime_neuf_1_a_4': 0.25, 'pratiques_d_achat_de_livres_livre_imprime_neuf_12_et_plus': 0.11, 'pratiques_d_achat_de_livres_livre_imprime_neuf_5_a_11': 0.16, 'marche_du_livre_imprime_neuf_aupres_des_particuliers_hors_scolaire_fiction_part_en_valeur': 0.329, 'marche_du_livre_imprime_neuf_aupres_des_particuliers_hors_scolaire_actualite_humour_essai_part_en_va': 0.156, 'marche_du_livre_imprime_neuf_aupres_des_particuliers_hors_scolaire_histoire_biographie_historique_pa': 'Agrégé avec Actualité, humour, essai,…', 'marche_du_livre_imprime_neuf_aupres_des_particuliers_hors_scolaire_bd_et_mangas_part_en_valeur': 0.121, 'marche_du_livre_imprime_neuf_aupres_des_particuliers_hors_scolaire_jeunesse_part_en_valeur': 0.148, 'marche_du_livre_imprime_neuf_aupres_des_particuliers_hors_scolaire_beaux_livres_part_en_valeur': 0.044000000000000004, 'marche_du_livre_imprime_neuf_aupres_des_particuliers_hors_scolaire_livres_pratiques_part_en_valeur': 0.13, 'marche_du_livre_imprime_neuf_aupres_des_particuliers_hors_scolaire_dictionnaires_et_encyclopedies_pa': 0.071, 'marche_du_livre_imprime_neuf_aupres_des_particuliers_hors_scolaire_fiction_part_en_volume': 0.319, 'marche_du_livre_imprime_neuf_aupres_des_particuliers_hors_scolaire_actualite_humour_essai_part_en_vo': 0.121, 'marche_du_livre_imprime_neuf_aupres_des_particuliers_hors_scolaire_histoire_biographie_historique_p0': 'Agrégé avec Actualité, humour, essai,…', 'marche_du_livre_imprime_neuf_aupres_des_particuliers_hors_scolaire_bd_et_mangas_part_en_volume': 0.13, 'marche_du_livre_imprime_neuf_aupres_des_particuliers_hors_scolaire_jeunesse_part_en_volume': 0.21800000000000003, 'marche_du_livre_imprime_neuf_aupres_des_particuliers_hors_scolaire_beaux_livres_part_en_volume': 0.025, 'marche_du_livre_imprime_neuf_aupres_des_particuliers_hors_scolaire_livres_pratiques_part_en_volume': 0.127, 'marche_du_livre_imprime_neuf_aupres_des_particuliers_hors_scolaire_dictionnaires_et_encyclopedies_p0': 0.06, 'droits_d_auteur_verses_par_les_editeurs_en_meur': 427.0, 'nombre_de_references_vendues': None, 'consommation_effective_des_menages_en_valeur_aux_prix_courants_livres_meur': 3865.3, 'chiffre_d_affaires_de_l_edition_numerique_en_meur': 105.3, 'chiffre_d_affaires_des_editeurs_cessions_de_droits_en_meur': 128.0, 'chiffre_d_affaires_des_editeurs_ensemble_en_meur': 2687.0, 'chiffre_d_affaires_des_editeurs_ventes_de_livres_hors_scolaire_en_meur': 2235.0, 'chiffre_d_affaires_des_editeurs_ventes_de_livres_en_meur': 2559.0, 'nombre_d_exemplaires_vendus_hors_scolaire_en_millions_d_exemplaires': 370.6, 'nombre_d_exemplaires_vendus_en_millions_d_exemplaires': 426.8, 'evolution_des_ventes_au_detail_valeur_panel_distributeur': None, 'evolution_des_ventes_au_detail_volume_panel_distributeur': None, 'evolution_des_ventes_au_detail_valeur_barometre_des_ventes': -0.01, 'evolution_des_ventes_au_detail_volume_barometre_des_ventes': -0.015, 'poids_des_meilleures_ventes_10_premiers': None, 'poids_des_meilleures_ventes_1000_premiers': None, 'poids_des_meilleures_ventes_10000_premiers': None, 'poids_des_meilleures_ventes_5_premiers': None, 'exportations_de_livres_drom_com_en_meur': 55.4, 'exportations_de_livres_yc_drom_com_et_feuillets_en_meur': 688.7, 'cessions_de_droits_a_l_exportation_en_nombre_de_titres': 11892.0, 'cessions_de_droits_a_l_exportation_en_nombre_de_titres_coeditions': None, 'cessions_de_droits_a_l_exportation_en_nombre_de_titres_hors_coeditions': None, 'part_des_francais_ayant_lu_1_a_4_livres_imprimes': None, 'part_des_francais_ayant_lu_20_livres_imprimes_ou_plus': None, 'part_des_francais_ayant_lu_5_a_19_livres_imprimes': None, 'part_des_francais_ayant_lu_au_moins_un_livre_imprime': None, 'avoir_deja_ecoute_un_livre_audio': None, 'avoir_deja_lu_un_livre_numerique': 0.15, 'achats_de_livres_des_bibliotheques_bibliotheques_municipales_et_intercommunales_en_millions_de_volum': 8.5, 'prets_dans_les_bibliotheques_municipales_et_intercommunales_livres_imprimes_en_millions': 199.7, 'prets_dans_les_bibliotheques_municipales_et_intercommunales_tous_supports_en_millions': 265.0, 'achat_de_livres_imprimes_en_euros': 26243556.0, 'livres_entrees_de_documents_volumes_ou_unites_materielles': 767147.0, 'livres_etrangers_entrees_de_documents_volumes_ou_unites_materielles': 117344.0, 'livres_francais_entrees_de_documents_volumes_ou_unites_materielles': 884491.0, 'droit_de_pret_auteurs_beneficiaires_annee_de_mise_en_distribution': 54393.0, 'droit_de_pret_editeurs_beneficiaires_annee_de_mise_en_distribution': 2231.0, 'droit_de_pret_montants_repartis_annee_de_mise_en_distribution': 13478386.0, 'droit_de_pret_nombre_de_titres_annee_de_mise_en_distribution': 384326.0, 'droit_de_pret_nombre_d_exemplaires_annee_de_mise_en_distribution': 6683532.0}]\n"
     ]
    }
   ],
   "source": [
    "wb = response.json()  # Utilisation de .json() sur l'objet réponse\n",
    "print(\"Structure du JSON :\")\n",
    "print(wb)"
   ]
  },
  {
   "cell_type": "markdown",
   "metadata": {},
   "source": [
    "On visualise la base de donnée et ses variables afin d'avoir une idée de ce qu'on pourrait exploiter. Ici, on s'intéressera surtout au nombre de livres déposés."
   ]
  },
  {
   "cell_type": "code",
   "execution_count": 65,
   "metadata": {},
   "outputs": [
    {
     "name": "stdout",
     "output_type": "stream",
     "text": [
      "   annee  nombre_de_livres_deposes  \\\n",
      "0   2003                   55302.0   \n",
      "1   2007                   63761.0   \n",
      "2   2008                   69658.0   \n",
      "3   2016                   77986.0   \n",
      "4   2021                   88016.0   \n",
      "5   2023                       NaN   \n",
      "6   2001                       NaN   \n",
      "7   2005                   61761.0   \n",
      "8   2011                   70109.0   \n",
      "9   2012                   72139.0   \n",
      "10  2000                       NaN   \n",
      "11  2002                   53155.0   \n",
      "12  2004                   60972.0   \n",
      "13  2006                   62527.0   \n",
      "14  2009                   66595.0   \n",
      "15  2014                   80255.0   \n",
      "16  2015                   76287.0   \n",
      "17  2017                   81263.0   \n",
      "18  2018                   82313.0   \n",
      "19  2019                   79581.0   \n",
      "20  2020                   64121.0   \n",
      "21  2022                   81909.0   \n",
      "22  2010                   67278.0   \n",
      "23  2013                   74818.0   \n",
      "\n",
      "    nombre_de_titres_disponibles_titres_imprimes  \\\n",
      "0                                            NaN   \n",
      "1                                       565000.0   \n",
      "2                                       594600.0   \n",
      "3                                       756360.0   \n",
      "4                                       801987.0   \n",
      "5                                       856210.0   \n",
      "6                                            NaN   \n",
      "7                                            NaN   \n",
      "8                                       622440.0   \n",
      "9                                       644610.0   \n",
      "10                                           NaN   \n",
      "11                                           NaN   \n",
      "12                                           NaN   \n",
      "13                                           NaN   \n",
      "14                                      538700.0   \n",
      "15                                      704030.0   \n",
      "16                                      728400.0   \n",
      "17                                      775170.0   \n",
      "18                                      783260.0   \n",
      "19                                      810130.0   \n",
      "20                                      792201.0   \n",
      "21                                      818558.0   \n",
      "22                                      599450.0   \n",
      "23                                      673500.0   \n",
      "\n",
      "    nombre_de_titres_disponibles_titres_numeriques  \\\n",
      "0                                              NaN   \n",
      "1                                              NaN   \n",
      "2                                              NaN   \n",
      "3                                         225810.0   \n",
      "4                                         336469.0   \n",
      "5                                         391267.0   \n",
      "6                                              NaN   \n",
      "7                                              NaN   \n",
      "8                                              NaN   \n",
      "9                                              NaN   \n",
      "10                                             NaN   \n",
      "11                                             NaN   \n",
      "12                                             NaN   \n",
      "13                                             NaN   \n",
      "14                                             NaN   \n",
      "15                                             NaN   \n",
      "16                                        178960.0   \n",
      "17                                        248530.0   \n",
      "18                                        281550.0   \n",
      "19                                        308120.0   \n",
      "20                                        323881.0   \n",
      "21                                        354789.0   \n",
      "22                                             NaN   \n",
      "23                                             NaN   \n",
      "\n",
      "    production_commercialisee_nouveautes_et_nouvelles_editions_hors_auto_edition_edition_a_compte_d_aute  \\\n",
      "0                                             44145.0                                                      \n",
      "1                                             60376.0                                                      \n",
      "2                                             63601.0                                                      \n",
      "3                                             68069.0                                                      \n",
      "4                                             68160.0                                                      \n",
      "5                                             63565.0                                                      \n",
      "6                                             44618.0                                                      \n",
      "7                                             53462.0                                                      \n",
      "8                                             64347.0                                                      \n",
      "9                                             65425.0                                                      \n",
      "10                                                NaN                                                      \n",
      "11                                            45787.0                                                      \n",
      "12                                            52231.0                                                      \n",
      "13                                            57728.0                                                      \n",
      "14                                            63690.0                                                      \n",
      "15                                            68187.0                                                      \n",
      "16                                            67041.0                                                      \n",
      "17                                            68199.0                                                      \n",
      "18                                            67942.0                                                      \n",
      "19                                            68171.0                                                      \n",
      "20                                            60541.0                                                      \n",
      "21                                            67384.0                                                      \n",
      "22                                            63052.0                                                      \n",
      "23                                            66527.0                                                      \n",
      "\n",
      "    tirage_moyen  \\\n",
      "0         7792.0   \n",
      "1         8691.0   \n",
      "2         9340.0   \n",
      "3         5341.0   \n",
      "4         5061.0   \n",
      "5            NaN   \n",
      "6         8306.0   \n",
      "7         7587.0   \n",
      "8         7630.0   \n",
      "9         7282.0   \n",
      "10        8158.0   \n",
      "11        8190.0   \n",
      "12        7529.0   \n",
      "13        8151.0   \n",
      "14        8147.0   \n",
      "15        5606.0   \n",
      "16        5017.0   \n",
      "17        4994.0   \n",
      "18        4732.0   \n",
      "19        4824.0   \n",
      "20        4693.0   \n",
      "21        4815.0   \n",
      "22        7937.0   \n",
      "23        5966.0   \n",
      "\n",
      "    nombre_de_traductions_dans_la_production_commercialisee_de_livres_imprimes  \\\n",
      "0                                                 NaN                            \n",
      "1                                                 NaN                            \n",
      "2                                                 NaN                            \n",
      "3                                                 NaN                            \n",
      "4                                             12427.0                            \n",
      "5                                             12126.0                            \n",
      "6                                                 NaN                            \n",
      "7                                                 NaN                            \n",
      "8                                                 NaN                            \n",
      "9                                                 NaN                            \n",
      "10                                                NaN                            \n",
      "11                                                NaN                            \n",
      "12                                                NaN                            \n",
      "13                                                NaN                            \n",
      "14                                                NaN                            \n",
      "15                                                NaN                            \n",
      "16                                                NaN                            \n",
      "17                                                NaN                            \n",
      "18                                                NaN                            \n",
      "19                                            12361.0                            \n",
      "20                                            10643.0                            \n",
      "21                                            12155.0                            \n",
      "22                                                NaN                            \n",
      "23                                                NaN                            \n",
      "\n",
      "    nombre_de_traductions_dans_la_production_commercialisee_de_livres_imprimes_anglais  \\\n",
      "0                                                 NaN                                    \n",
      "1                                                 NaN                                    \n",
      "2                                                 NaN                                    \n",
      "3                                                 NaN                                    \n",
      "4                                              7040.0                                    \n",
      "5                                              6433.0                                    \n",
      "6                                                 NaN                                    \n",
      "7                                                 NaN                                    \n",
      "8                                                 NaN                                    \n",
      "9                                                 NaN                                    \n",
      "10                                                NaN                                    \n",
      "11                                                NaN                                    \n",
      "12                                                NaN                                    \n",
      "13                                                NaN                                    \n",
      "14                                                NaN                                    \n",
      "15                                                NaN                                    \n",
      "16                                                NaN                                    \n",
      "17                                                NaN                                    \n",
      "18                                                NaN                                    \n",
      "19                                             7152.0                                    \n",
      "20                                             6169.0                                    \n",
      "21                                             6771.0                                    \n",
      "22                                                NaN                                    \n",
      "23                                                NaN                                    \n",
      "\n",
      "    nombre_de_traductions_dans_la_production_commercialisee_de_livres_imprimes_espagnol  \\\n",
      "0                                                 NaN                                     \n",
      "1                                                 NaN                                     \n",
      "2                                                 NaN                                     \n",
      "3                                                 NaN                                     \n",
      "4                                               461.0                                     \n",
      "5                                               484.0                                     \n",
      "6                                                 NaN                                     \n",
      "7                                                 NaN                                     \n",
      "8                                                 NaN                                     \n",
      "9                                                 NaN                                     \n",
      "10                                                NaN                                     \n",
      "11                                                NaN                                     \n",
      "12                                                NaN                                     \n",
      "13                                                NaN                                     \n",
      "14                                                NaN                                     \n",
      "15                                                NaN                                     \n",
      "16                                                NaN                                     \n",
      "17                                                NaN                                     \n",
      "18                                                NaN                                     \n",
      "19                                              393.0                                     \n",
      "20                                              364.0                                     \n",
      "21                                              440.0                                     \n",
      "22                                                NaN                                     \n",
      "23                                                NaN                                     \n",
      "\n",
      "    nombre_de_traductions_dans_la_production_commercialisee_de_livres_imprimes_germanique  \\\n",
      "0                                                 NaN                                       \n",
      "1                                                 NaN                                       \n",
      "2                                                 NaN                                       \n",
      "3                                                 NaN                                       \n",
      "4                                               557.0                                       \n",
      "5                                               580.0                                       \n",
      "6                                                 NaN                                       \n",
      "7                                                 NaN                                       \n",
      "8                                                 NaN                                       \n",
      "9                                                 NaN                                       \n",
      "10                                                NaN                                       \n",
      "11                                                NaN                                       \n",
      "12                                                NaN                                       \n",
      "13                                                NaN                                       \n",
      "14                                                NaN                                       \n",
      "15                                                NaN                                       \n",
      "16                                                NaN                                       \n",
      "17                                                NaN                                       \n",
      "18                                                NaN                                       \n",
      "19                                              677.0                                       \n",
      "20                                              496.0                                       \n",
      "21                                              512.0                                       \n",
      "22                                                NaN                                       \n",
      "23                                                NaN                                       \n",
      "\n",
      "    ...  \\\n",
      "0   ...   \n",
      "1   ...   \n",
      "2   ...   \n",
      "3   ...   \n",
      "4   ...   \n",
      "5   ...   \n",
      "6   ...   \n",
      "7   ...   \n",
      "8   ...   \n",
      "9   ...   \n",
      "10  ...   \n",
      "11  ...   \n",
      "12  ...   \n",
      "13  ...   \n",
      "14  ...   \n",
      "15  ...   \n",
      "16  ...   \n",
      "17  ...   \n",
      "18  ...   \n",
      "19  ...   \n",
      "20  ...   \n",
      "21  ...   \n",
      "22  ...   \n",
      "23  ...   \n",
      "\n",
      "    prets_dans_les_bibliotheques_municipales_et_intercommunales_tous_supports_en_millions  \\\n",
      "0                                                 NaN                                       \n",
      "1                                                 NaN                                       \n",
      "2                                                 NaN                                       \n",
      "3                                               279.5                                       \n",
      "4                                               241.3                                       \n",
      "5                                                 NaN                                       \n",
      "6                                                 NaN                                       \n",
      "7                                                 NaN                                       \n",
      "8                                               283.3                                       \n",
      "9                                               277.4                                       \n",
      "10                                                NaN                                       \n",
      "11                                                NaN                                       \n",
      "12                                                NaN                                       \n",
      "13                                                NaN                                       \n",
      "14                                                NaN                                       \n",
      "15                                              279.4                                       \n",
      "16                                              279.4                                       \n",
      "17                                              275.4                                       \n",
      "18                                              279.5                                       \n",
      "19                                              270.5                                       \n",
      "20                                                NaN                                       \n",
      "21                                                NaN                                       \n",
      "22                                                NaN                                       \n",
      "23                                              265.0                                       \n",
      "\n",
      "    achat_de_livres_imprimes_en_euros  \\\n",
      "0                                 NaN   \n",
      "1                                 NaN   \n",
      "2                                 NaN   \n",
      "3                          24529513.0   \n",
      "4                          23202739.0   \n",
      "5                                 NaN   \n",
      "6                                 NaN   \n",
      "7                                 NaN   \n",
      "8                                 NaN   \n",
      "9                                 NaN   \n",
      "10                                NaN   \n",
      "11                                NaN   \n",
      "12                                NaN   \n",
      "13                                NaN   \n",
      "14                                NaN   \n",
      "15                         25826322.0   \n",
      "16                         24931592.0   \n",
      "17                         24275696.0   \n",
      "18                         24553302.0   \n",
      "19                         24169733.0   \n",
      "20                         21930770.0   \n",
      "21                         22891348.0   \n",
      "22                                NaN   \n",
      "23                         26243556.0   \n",
      "\n",
      "    livres_entrees_de_documents_volumes_ou_unites_materielles  \\\n",
      "0                                                 NaN           \n",
      "1                                                 NaN           \n",
      "2                                                 NaN           \n",
      "3                                            744283.0           \n",
      "4                                            724785.0           \n",
      "5                                                 NaN           \n",
      "6                                                 NaN           \n",
      "7                                                 NaN           \n",
      "8                                                 NaN           \n",
      "9                                                 NaN           \n",
      "10                                                NaN           \n",
      "11                                                NaN           \n",
      "12                                                NaN           \n",
      "13                                                NaN           \n",
      "14                                                NaN           \n",
      "15                                           757379.0           \n",
      "16                                           749381.0           \n",
      "17                                           740824.0           \n",
      "18                                           731707.0           \n",
      "19                                           740944.0           \n",
      "20                                           640575.0           \n",
      "21                                           718040.0           \n",
      "22                                                NaN           \n",
      "23                                           767147.0           \n",
      "\n",
      "    livres_etrangers_entrees_de_documents_volumes_ou_unites_materielles  \\\n",
      "0                                                 NaN                     \n",
      "1                                                 NaN                     \n",
      "2                                                 NaN                     \n",
      "3                                            114320.0                     \n",
      "4                                             96564.0                     \n",
      "5                                                 NaN                     \n",
      "6                                                 NaN                     \n",
      "7                                                 NaN                     \n",
      "8                                                 NaN                     \n",
      "9                                                 NaN                     \n",
      "10                                                NaN                     \n",
      "11                                                NaN                     \n",
      "12                                                NaN                     \n",
      "13                                                NaN                     \n",
      "14                                                NaN                     \n",
      "15                                           116132.0                     \n",
      "16                                           110197.0                     \n",
      "17                                            98746.0                     \n",
      "18                                            95346.0                     \n",
      "19                                           101468.0                     \n",
      "20                                            82363.0                     \n",
      "21                                            99281.0                     \n",
      "22                                                NaN                     \n",
      "23                                           117344.0                     \n",
      "\n",
      "    livres_francais_entrees_de_documents_volumes_ou_unites_materielles  \\\n",
      "0                                                 NaN                    \n",
      "1                                                 NaN                    \n",
      "2                                                 NaN                    \n",
      "3                                            858603.0                    \n",
      "4                                            821349.0                    \n",
      "5                                                 NaN                    \n",
      "6                                                 NaN                    \n",
      "7                                                 NaN                    \n",
      "8                                                 NaN                    \n",
      "9                                                 NaN                    \n",
      "10                                                NaN                    \n",
      "11                                                NaN                    \n",
      "12                                                NaN                    \n",
      "13                                                NaN                    \n",
      "14                                                NaN                    \n",
      "15                                           873511.0                    \n",
      "16                                           859578.0                    \n",
      "17                                           839570.0                    \n",
      "18                                           827053.0                    \n",
      "19                                           842412.0                    \n",
      "20                                           722938.0                    \n",
      "21                                           817321.0                    \n",
      "22                                                NaN                    \n",
      "23                                           884491.0                    \n",
      "\n",
      "    droit_de_pret_auteurs_beneficiaires_annee_de_mise_en_distribution  \\\n",
      "0                                                 NaN                   \n",
      "1                                                 NaN                   \n",
      "2                                                 NaN                   \n",
      "3                                             70427.0                   \n",
      "4                                             66720.0                   \n",
      "5                                             66125.0                   \n",
      "6                                                 NaN                   \n",
      "7                                                 NaN                   \n",
      "8                                             59538.0                   \n",
      "9                                             57853.0                   \n",
      "10                                                NaN                   \n",
      "11                                                NaN                   \n",
      "12                                                NaN                   \n",
      "13                                                NaN                   \n",
      "14                                                NaN                   \n",
      "15                                            68281.0                   \n",
      "16                                            58296.0                   \n",
      "17                                            69371.0                   \n",
      "18                                            63825.0                   \n",
      "19                                            67063.0                   \n",
      "20                                            65437.0                   \n",
      "21                                           101505.0                   \n",
      "22                                                NaN                   \n",
      "23                                            54393.0                   \n",
      "\n",
      "    droit_de_pret_editeurs_beneficiaires_annee_de_mise_en_distribution  \\\n",
      "0                                                 NaN                    \n",
      "1                                                 NaN                    \n",
      "2                                                 NaN                    \n",
      "3                                              3038.0                    \n",
      "4                                              2667.0                    \n",
      "5                                              2709.0                    \n",
      "6                                                 NaN                    \n",
      "7                                                 NaN                    \n",
      "8                                              2070.0                    \n",
      "9                                              2138.0                    \n",
      "10                                                NaN                    \n",
      "11                                                NaN                    \n",
      "12                                                NaN                    \n",
      "13                                                NaN                    \n",
      "14                                                NaN                    \n",
      "15                                             2656.0                    \n",
      "16                                             2533.0                    \n",
      "17                                             2789.0                    \n",
      "18                                             2760.0                    \n",
      "19                                             2763.0                    \n",
      "20                                             2645.0                    \n",
      "21                                             3233.0                    \n",
      "22                                                NaN                    \n",
      "23                                             2231.0                    \n",
      "\n",
      "    droit_de_pret_montants_repartis_annee_de_mise_en_distribution  \\\n",
      "0                                                 NaN               \n",
      "1                                                 NaN               \n",
      "2                                                 NaN               \n",
      "3                                         12922782.00               \n",
      "4                                         11413092.00               \n",
      "5                                         12601094.95               \n",
      "6                                                 NaN               \n",
      "7                                                 NaN               \n",
      "8                                         15405181.00               \n",
      "9                                         14096119.00               \n",
      "10                                                NaN               \n",
      "11                                                NaN               \n",
      "12                                                NaN               \n",
      "13                                                NaN               \n",
      "14                                                NaN               \n",
      "15                                        12836346.00               \n",
      "16                                        12587405.00               \n",
      "17                                        12063196.00               \n",
      "18                                        11676523.00               \n",
      "19                                        11706025.00               \n",
      "20                                        10974120.00               \n",
      "21                                        22069118.00               \n",
      "22                                                NaN               \n",
      "23                                        13478386.00               \n",
      "\n",
      "    droit_de_pret_nombre_de_titres_annee_de_mise_en_distribution  \\\n",
      "0                                                 NaN              \n",
      "1                                                 NaN              \n",
      "2                                                 NaN              \n",
      "3                                            410503.0              \n",
      "4                                            376626.0              \n",
      "5                                            373055.0              \n",
      "6                                                 NaN              \n",
      "7                                                 NaN              \n",
      "8                                            399758.0              \n",
      "9                                            418235.0              \n",
      "10                                                NaN              \n",
      "11                                                NaN              \n",
      "12                                                NaN              \n",
      "13                                                NaN              \n",
      "14                                                NaN              \n",
      "15                                           380697.0              \n",
      "16                                           367758.0              \n",
      "17                                           374346.0              \n",
      "18                                           350847.0              \n",
      "19                                           355317.0              \n",
      "20                                           362112.0              \n",
      "21                                           643463.0              \n",
      "22                                                NaN              \n",
      "23                                           384326.0              \n",
      "\n",
      "    droit_de_pret_nombre_d_exemplaires_annee_de_mise_en_distribution  \n",
      "0                                                 NaN                 \n",
      "1                                                 NaN                 \n",
      "2                                                 NaN                 \n",
      "3                                           6570860.0                 \n",
      "4                                           5798401.0                 \n",
      "5                                           6744896.0                 \n",
      "6                                                 NaN                 \n",
      "7                                                 NaN                 \n",
      "8                                           6891348.0                 \n",
      "9                                           6414807.0                 \n",
      "10                                                NaN                 \n",
      "11                                                NaN                 \n",
      "12                                                NaN                 \n",
      "13                                                NaN                 \n",
      "14                                                NaN                 \n",
      "15                                          6220237.0                 \n",
      "16                                          5763134.0                 \n",
      "17                                          6350620.0                 \n",
      "18                                          5925537.0                 \n",
      "19                                          6263873.0                 \n",
      "20                                          6296879.0                 \n",
      "21                                         12358571.0                 \n",
      "22                                                NaN                 \n",
      "23                                          6683532.0                 \n",
      "\n",
      "[24 rows x 103 columns]\n"
     ]
    }
   ],
   "source": [
    "df_government = pd.json_normalize(wb) #on utilise la clé qu'on a observé dans le json\n",
    "print(df_government)"
   ]
  },
  {
   "cell_type": "code",
   "execution_count": 66,
   "metadata": {},
   "outputs": [
    {
     "name": "stdout",
     "output_type": "stream",
     "text": [
      "Index(['annee', 'nombre_de_livres_deposes',\n",
      "       'nombre_de_titres_disponibles_titres_imprimes',\n",
      "       'nombre_de_titres_disponibles_titres_numeriques',\n",
      "       'production_commercialisee_nouveautes_et_nouvelles_editions_hors_auto_edition_edition_a_compte_d_aute',\n",
      "       'tirage_moyen',\n",
      "       'nombre_de_traductions_dans_la_production_commercialisee_de_livres_imprimes',\n",
      "       'nombre_de_traductions_dans_la_production_commercialisee_de_livres_imprimes_anglais',\n",
      "       'nombre_de_traductions_dans_la_production_commercialisee_de_livres_imprimes_espagnol',\n",
      "       'nombre_de_traductions_dans_la_production_commercialisee_de_livres_imprimes_germanique',\n",
      "       ...\n",
      "       'prets_dans_les_bibliotheques_municipales_et_intercommunales_tous_supports_en_millions',\n",
      "       'achat_de_livres_imprimes_en_euros',\n",
      "       'livres_entrees_de_documents_volumes_ou_unites_materielles',\n",
      "       'livres_etrangers_entrees_de_documents_volumes_ou_unites_materielles',\n",
      "       'livres_francais_entrees_de_documents_volumes_ou_unites_materielles',\n",
      "       'droit_de_pret_auteurs_beneficiaires_annee_de_mise_en_distribution',\n",
      "       'droit_de_pret_editeurs_beneficiaires_annee_de_mise_en_distribution',\n",
      "       'droit_de_pret_montants_repartis_annee_de_mise_en_distribution',\n",
      "       'droit_de_pret_nombre_de_titres_annee_de_mise_en_distribution',\n",
      "       'droit_de_pret_nombre_d_exemplaires_annee_de_mise_en_distribution'],\n",
      "      dtype='object', length=103)\n"
     ]
    }
   ],
   "source": [
    "print(df_government.columns)"
   ]
  },
  {
   "cell_type": "markdown",
   "metadata": {},
   "source": [
    "On garde que les données entre 2019 et 2023: on prédit la popularité des livres en 2023 selon les prix sortis pendant les cinq années précédentes."
   ]
  },
  {
   "cell_type": "code",
   "execution_count": 67,
   "metadata": {},
   "outputs": [],
   "source": [
    "df_government = df_government[df_government[\"annee\"].isin(['2019','2020','2021','2022','2023'])]"
   ]
  },
  {
   "cell_type": "code",
   "execution_count": 68,
   "metadata": {},
   "outputs": [
    {
     "name": "stdout",
     "output_type": "stream",
     "text": [
      "   annee  nombre_de_livres_deposes  \\\n",
      "4   2021                   88016.0   \n",
      "5   2023                       NaN   \n",
      "19  2019                   79581.0   \n",
      "20  2020                   64121.0   \n",
      "21  2022                   81909.0   \n",
      "\n",
      "    nombre_de_titres_disponibles_titres_imprimes  \\\n",
      "4                                       801987.0   \n",
      "5                                       856210.0   \n",
      "19                                      810130.0   \n",
      "20                                      792201.0   \n",
      "21                                      818558.0   \n",
      "\n",
      "    nombre_de_titres_disponibles_titres_numeriques  \\\n",
      "4                                         336469.0   \n",
      "5                                         391267.0   \n",
      "19                                        308120.0   \n",
      "20                                        323881.0   \n",
      "21                                        354789.0   \n",
      "\n",
      "    production_commercialisee_nouveautes_et_nouvelles_editions_hors_auto_edition_edition_a_compte_d_aute  \\\n",
      "4                                             68160.0                                                      \n",
      "5                                             63565.0                                                      \n",
      "19                                            68171.0                                                      \n",
      "20                                            60541.0                                                      \n",
      "21                                            67384.0                                                      \n",
      "\n",
      "    tirage_moyen  \\\n",
      "4         5061.0   \n",
      "5            NaN   \n",
      "19        4824.0   \n",
      "20        4693.0   \n",
      "21        4815.0   \n",
      "\n",
      "    nombre_de_traductions_dans_la_production_commercialisee_de_livres_imprimes  \\\n",
      "4                                             12427.0                            \n",
      "5                                             12126.0                            \n",
      "19                                            12361.0                            \n",
      "20                                            10643.0                            \n",
      "21                                            12155.0                            \n",
      "\n",
      "    nombre_de_traductions_dans_la_production_commercialisee_de_livres_imprimes_anglais  \\\n",
      "4                                              7040.0                                    \n",
      "5                                              6433.0                                    \n",
      "19                                             7152.0                                    \n",
      "20                                             6169.0                                    \n",
      "21                                             6771.0                                    \n",
      "\n",
      "    nombre_de_traductions_dans_la_production_commercialisee_de_livres_imprimes_espagnol  \\\n",
      "4                                               461.0                                     \n",
      "5                                               484.0                                     \n",
      "19                                              393.0                                     \n",
      "20                                              364.0                                     \n",
      "21                                              440.0                                     \n",
      "\n",
      "    nombre_de_traductions_dans_la_production_commercialisee_de_livres_imprimes_germanique  \\\n",
      "4                                               557.0                                       \n",
      "5                                               580.0                                       \n",
      "19                                              677.0                                       \n",
      "20                                              496.0                                       \n",
      "21                                              512.0                                       \n",
      "\n",
      "    ...  \\\n",
      "4   ...   \n",
      "5   ...   \n",
      "19  ...   \n",
      "20  ...   \n",
      "21  ...   \n",
      "\n",
      "    prets_dans_les_bibliotheques_municipales_et_intercommunales_tous_supports_en_millions  \\\n",
      "4                                               241.3                                       \n",
      "5                                                 NaN                                       \n",
      "19                                              270.5                                       \n",
      "20                                                NaN                                       \n",
      "21                                                NaN                                       \n",
      "\n",
      "    achat_de_livres_imprimes_en_euros  \\\n",
      "4                          23202739.0   \n",
      "5                                 NaN   \n",
      "19                         24169733.0   \n",
      "20                         21930770.0   \n",
      "21                         22891348.0   \n",
      "\n",
      "    livres_entrees_de_documents_volumes_ou_unites_materielles  \\\n",
      "4                                            724785.0           \n",
      "5                                                 NaN           \n",
      "19                                           740944.0           \n",
      "20                                           640575.0           \n",
      "21                                           718040.0           \n",
      "\n",
      "    livres_etrangers_entrees_de_documents_volumes_ou_unites_materielles  \\\n",
      "4                                             96564.0                     \n",
      "5                                                 NaN                     \n",
      "19                                           101468.0                     \n",
      "20                                            82363.0                     \n",
      "21                                            99281.0                     \n",
      "\n",
      "    livres_francais_entrees_de_documents_volumes_ou_unites_materielles  \\\n",
      "4                                            821349.0                    \n",
      "5                                                 NaN                    \n",
      "19                                           842412.0                    \n",
      "20                                           722938.0                    \n",
      "21                                           817321.0                    \n",
      "\n",
      "    droit_de_pret_auteurs_beneficiaires_annee_de_mise_en_distribution  \\\n",
      "4                                             66720.0                   \n",
      "5                                             66125.0                   \n",
      "19                                            67063.0                   \n",
      "20                                            65437.0                   \n",
      "21                                           101505.0                   \n",
      "\n",
      "    droit_de_pret_editeurs_beneficiaires_annee_de_mise_en_distribution  \\\n",
      "4                                              2667.0                    \n",
      "5                                              2709.0                    \n",
      "19                                             2763.0                    \n",
      "20                                             2645.0                    \n",
      "21                                             3233.0                    \n",
      "\n",
      "    droit_de_pret_montants_repartis_annee_de_mise_en_distribution  \\\n",
      "4                                         11413092.00               \n",
      "5                                         12601094.95               \n",
      "19                                        11706025.00               \n",
      "20                                        10974120.00               \n",
      "21                                        22069118.00               \n",
      "\n",
      "    droit_de_pret_nombre_de_titres_annee_de_mise_en_distribution  \\\n",
      "4                                            376626.0              \n",
      "5                                            373055.0              \n",
      "19                                           355317.0              \n",
      "20                                           362112.0              \n",
      "21                                           643463.0              \n",
      "\n",
      "    droit_de_pret_nombre_d_exemplaires_annee_de_mise_en_distribution  \n",
      "4                                           5798401.0                 \n",
      "5                                           6744896.0                 \n",
      "19                                          6263873.0                 \n",
      "20                                          6296879.0                 \n",
      "21                                         12358571.0                 \n",
      "\n",
      "[5 rows x 103 columns]\n"
     ]
    }
   ],
   "source": [
    "print(df_government)"
   ]
  },
  {
   "cell_type": "markdown",
   "metadata": {},
   "source": [
    "Il n'y a pas de chiffre indiqué pour le nombre de livres déposés en 2021, toutefois, on peut calculer un taux de croissance moyen et ainsi l'estimer."
   ]
  },
  {
   "cell_type": "code",
   "execution_count": 70,
   "metadata": {},
   "outputs": [],
   "source": [
    "# d'abord on trie la base par ordre croissant en fonction des années\n",
    "df_government = df_government.sort_values(by=\"annee\")\n",
    "df_government = df_government.reset_index(drop=True)"
   ]
  },
  {
   "cell_type": "code",
   "execution_count": 80,
   "metadata": {},
   "outputs": [],
   "source": [
    "# on traite le NaN pour pouvoir faire notre opération sans problème et on convertit notre colonne en int\n",
    "df_government['nombre_de_livres_deposes'] = df_government['nombre_de_livres_deposes'].fillna(0)\n",
    "df_government['nombre_de_livres_deposes'] = df_government['nombre_de_livres_deposes'].fillna(0).astype(int)"
   ]
  },
  {
   "cell_type": "code",
   "execution_count": 86,
   "metadata": {},
   "outputs": [
    {
     "name": "stdout",
     "output_type": "stream",
     "text": [
      "int64\n"
     ]
    }
   ],
   "source": [
    "print(df_government['nombre_de_livres_deposes'].dtype)"
   ]
  },
  {
   "cell_type": "code",
   "execution_count": 87,
   "metadata": {},
   "outputs": [],
   "source": [
    "df_government['nombre_de_livres_deposes'] = pd.to_numeric(df_government['nombre_de_livres_deposes'], errors='coerce')"
   ]
  },
  {
   "cell_type": "code",
   "execution_count": 90,
   "metadata": {},
   "outputs": [
    {
     "name": "stdout",
     "output_type": "stream",
     "text": [
      "Empty DataFrame\n",
      "Columns: [nombre_de_livres_deposes]\n",
      "Index: []\n"
     ]
    }
   ],
   "source": [
    "non_numeric_values = df_government[~df_government['nombre_de_livres_deposes'].apply(pd.to_numeric, errors='coerce').notna()]\n",
    "print(non_numeric_values[['nombre_de_livres_deposes']])"
   ]
  },
  {
   "cell_type": "code",
   "execution_count": 94,
   "metadata": {},
   "outputs": [],
   "source": [
    "# introduisons d'abord une variable taux de croissance dans la base\n",
    "def croissance(row):\n",
    "    global df_government\n",
    "    if row[\"annee\"]== \"2019\":\n",
    "        taux = 0\n",
    "    elif row[\"annee\"]== \"2023\":\n",
    "        taux = 0\n",
    "    else: \n",
    "        index = row.name\n",
    "        before_row = df_government.loc[index - 1]\n",
    "        if pd.isna(row[\"nombre_de_livres_deposes\"]) or pd.isna(before_row[\"nombre_de_livres_deposes\"]):\n",
    "            taux = None\n",
    "        else:\n",
    "            taux = (row[\"nombre_de_livres_deposes\"] - before_row[\"nombre_de_livres_deposes\"])/before_row[\"nombre_de_livres_deposes\"]\n",
    "    return taux"
   ]
  },
  {
   "cell_type": "code",
   "execution_count": 95,
   "metadata": {},
   "outputs": [],
   "source": [
    "df_government['taux_de_croissance'] = df_government.apply(croissance, axis=1)"
   ]
  },
  {
   "cell_type": "code",
   "execution_count": 97,
   "metadata": {},
   "outputs": [
    {
     "name": "stdout",
     "output_type": "stream",
     "text": [
      "1   -0.194267\n",
      "2    0.372655\n",
      "3   -0.069385\n",
      "Name: taux_de_croissance, dtype: float64\n"
     ]
    }
   ],
   "source": [
    "taux = df_government.loc[[1, 2, 3], 'taux_de_croissance']\n",
    "print(taux)"
   ]
  },
  {
   "cell_type": "code",
   "execution_count": 102,
   "metadata": {},
   "outputs": [],
   "source": [
    "# on fait la moyenne des taux pour importer une valeur dans la base de 2023\n",
    "moy_taux = taux.mean()\n",
    "df_government.loc[4, 'nombre_de_livres_deposes'] = int(df_government.loc[3, 'nombre_de_livres_deposes']*(1+moy_taux))"
   ]
  },
  {
   "cell_type": "code",
   "execution_count": 103,
   "metadata": {},
   "outputs": [
    {
     "name": "stdout",
     "output_type": "stream",
     "text": [
      "  annee  nombre_de_livres_deposes  \\\n",
      "0  2019                   79581.0   \n",
      "1  2020                   64121.0   \n",
      "2  2021                   88016.0   \n",
      "3  2022                   81909.0   \n",
      "4  2023                   84885.0   \n",
      "\n",
      "   nombre_de_titres_disponibles_titres_imprimes  \\\n",
      "0                                      810130.0   \n",
      "1                                      792201.0   \n",
      "2                                      801987.0   \n",
      "3                                      818558.0   \n",
      "4                                      856210.0   \n",
      "\n",
      "   nombre_de_titres_disponibles_titres_numeriques  \\\n",
      "0                                        308120.0   \n",
      "1                                        323881.0   \n",
      "2                                        336469.0   \n",
      "3                                        354789.0   \n",
      "4                                        391267.0   \n",
      "\n",
      "   production_commercialisee_nouveautes_et_nouvelles_editions_hors_auto_edition_edition_a_compte_d_aute  \\\n",
      "0                                            68171.0                                                      \n",
      "1                                            60541.0                                                      \n",
      "2                                            68160.0                                                      \n",
      "3                                            67384.0                                                      \n",
      "4                                            63565.0                                                      \n",
      "\n",
      "   tirage_moyen  \\\n",
      "0        4824.0   \n",
      "1        4693.0   \n",
      "2        5061.0   \n",
      "3        4815.0   \n",
      "4           NaN   \n",
      "\n",
      "   nombre_de_traductions_dans_la_production_commercialisee_de_livres_imprimes  \\\n",
      "0                                            12361.0                            \n",
      "1                                            10643.0                            \n",
      "2                                            12427.0                            \n",
      "3                                            12155.0                            \n",
      "4                                            12126.0                            \n",
      "\n",
      "   nombre_de_traductions_dans_la_production_commercialisee_de_livres_imprimes_anglais  \\\n",
      "0                                             7152.0                                    \n",
      "1                                             6169.0                                    \n",
      "2                                             7040.0                                    \n",
      "3                                             6771.0                                    \n",
      "4                                             6433.0                                    \n",
      "\n",
      "   nombre_de_traductions_dans_la_production_commercialisee_de_livres_imprimes_espagnol  \\\n",
      "0                                              393.0                                     \n",
      "1                                              364.0                                     \n",
      "2                                              461.0                                     \n",
      "3                                              440.0                                     \n",
      "4                                              484.0                                     \n",
      "\n",
      "   nombre_de_traductions_dans_la_production_commercialisee_de_livres_imprimes_germanique  \\\n",
      "0                                              677.0                                       \n",
      "1                                              496.0                                       \n",
      "2                                              557.0                                       \n",
      "3                                              512.0                                       \n",
      "4                                              580.0                                       \n",
      "\n",
      "   ...  achat_de_livres_imprimes_en_euros  \\\n",
      "0  ...                         24169733.0   \n",
      "1  ...                         21930770.0   \n",
      "2  ...                         23202739.0   \n",
      "3  ...                         22891348.0   \n",
      "4  ...                                NaN   \n",
      "\n",
      "   livres_entrees_de_documents_volumes_ou_unites_materielles  \\\n",
      "0                                           740944.0           \n",
      "1                                           640575.0           \n",
      "2                                           724785.0           \n",
      "3                                           718040.0           \n",
      "4                                                NaN           \n",
      "\n",
      "   livres_etrangers_entrees_de_documents_volumes_ou_unites_materielles  \\\n",
      "0                                           101468.0                     \n",
      "1                                            82363.0                     \n",
      "2                                            96564.0                     \n",
      "3                                            99281.0                     \n",
      "4                                                NaN                     \n",
      "\n",
      "   livres_francais_entrees_de_documents_volumes_ou_unites_materielles  \\\n",
      "0                                           842412.0                    \n",
      "1                                           722938.0                    \n",
      "2                                           821349.0                    \n",
      "3                                           817321.0                    \n",
      "4                                                NaN                    \n",
      "\n",
      "   droit_de_pret_auteurs_beneficiaires_annee_de_mise_en_distribution  \\\n",
      "0                                            67063.0                   \n",
      "1                                            65437.0                   \n",
      "2                                            66720.0                   \n",
      "3                                           101505.0                   \n",
      "4                                            66125.0                   \n",
      "\n",
      "   droit_de_pret_editeurs_beneficiaires_annee_de_mise_en_distribution  \\\n",
      "0                                             2763.0                    \n",
      "1                                             2645.0                    \n",
      "2                                             2667.0                    \n",
      "3                                             3233.0                    \n",
      "4                                             2709.0                    \n",
      "\n",
      "   droit_de_pret_montants_repartis_annee_de_mise_en_distribution  \\\n",
      "0                                        11706025.00               \n",
      "1                                        10974120.00               \n",
      "2                                        11413092.00               \n",
      "3                                        22069118.00               \n",
      "4                                        12601094.95               \n",
      "\n",
      "   droit_de_pret_nombre_de_titres_annee_de_mise_en_distribution  \\\n",
      "0                                           355317.0              \n",
      "1                                           362112.0              \n",
      "2                                           376626.0              \n",
      "3                                           643463.0              \n",
      "4                                           373055.0              \n",
      "\n",
      "   droit_de_pret_nombre_d_exemplaires_annee_de_mise_en_distribution  \\\n",
      "0                                          6263873.0                  \n",
      "1                                          6296879.0                  \n",
      "2                                          5798401.0                  \n",
      "3                                         12358571.0                  \n",
      "4                                          6744896.0                  \n",
      "\n",
      "   taux_de_croissance  \n",
      "0            0.000000  \n",
      "1           -0.194267  \n",
      "2            0.372655  \n",
      "3           -0.069385  \n",
      "4            0.000000  \n",
      "\n",
      "[5 rows x 104 columns]\n"
     ]
    }
   ],
   "source": [
    "print(df_government)"
   ]
  },
  {
   "cell_type": "markdown",
   "metadata": {},
   "source": [
    "On peut donc maintenant en faire un dossier csv pour ne pas avoir à refaire tourner le code à chaque fois."
   ]
  },
  {
   "cell_type": "code",
   "execution_count": 104,
   "metadata": {},
   "outputs": [],
   "source": [
    "df_government.to_csv(\"base_du_gouvernement.csv\", index=False, encoding=\"utf-8\")"
   ]
  },
  {
   "cell_type": "markdown",
   "metadata": {},
   "source": [
    "#"
   ]
  },
  {
   "cell_type": "markdown",
   "metadata": {},
   "source": [
    "<div style=\"\n",
    "    font-family: 'Arial', sans-serif; \n",
    "    text-align: center; \n",
    "    padding: 10px; \n",
    "    background-color:rgb(210, 199, 255); \n",
    "    color: black; \n",
    "    border-radius: 5px; \n",
    "    font-size: 1.5em;\n",
    "\">\n",
    "    <strong>PARTIE 1: Récupérer des données sur les livres les plus lus, de différente manière</strong>\n",
    "</div>"
   ]
  },
  {
   "cell_type": "markdown",
   "metadata": {},
   "source": [
    "##Récupération de l'API des bibliothèques de Paris afin d'estimer les cent livres les plus empruntés"
   ]
  },
  {
   "cell_type": "markdown",
   "metadata": {},
   "source": [
    "Tout d'abord, formulons notre requête à l'API. On met comme limite 100 ouvrages car il s'agit de la limite de collecte possible au sein de l'API"
   ]
  },
  {
   "cell_type": "code",
   "execution_count": 1,
   "metadata": {},
   "outputs": [
    {
     "name": "stdout",
     "output_type": "stream",
     "text": [
      "Type de contenu : application/json; charset=utf-8\n"
     ]
    }
   ],
   "source": [
    "response = requests.get(\"https://opendata.paris.fr/api/explore/v2.1/catalog/datasets/les-1000-titres-les-plus-reserves-dans-les-bibliotheques-de-pret/records?limit=100\")\n",
    "\n",
    "# Afficher le type de contenu et le texte brut de la réponse\n",
    "print(\"Type de contenu :\", response.headers.get(\"Content-Type\"))"
   ]
  },
  {
   "cell_type": "markdown",
   "metadata": {},
   "source": [
    "Une fois l'API récupérée, on observe la structure du jeu de données pour savoir comment s'appelle la variable 'résultat' ( ici 'results') à appeler afin de créer notre dataframe panda.\n",
    "On observe que tous les rangs ne sont pas dans la base. Notre hypothèse optimiste est qu'il y a peut-être des types d'ouvrage non classés dans cette base ( et ne nous intéressant pas puisque nous nous intéressons seulement aux livres, dont la catégorie existe dans la base). C'est une hypothèse qui nous semble probable étant donné que nous avons par la suite créé nous-même des trous dans le classement en enlevant les DVDs de ce dernier. Cependant, nous ne pouvons pas en être sûrs."
   ]
  },
  {
   "cell_type": "code",
   "execution_count": 2,
   "metadata": {},
   "outputs": [
    {
     "name": "stdout",
     "output_type": "stream",
     "text": [
      "Structure du JSON :\n",
      "{'total_count': 1000, 'results': [{'rang': 12, 'type_de_document': 'Livre adulte', 'reservations': 522.0, 'titre': \"Réinventer l'amour : comment le patriarcat sabote les relations hétérosexuelles\", 'auteur': 'Chollet,  Mona'}, {'rang': 13, 'type_de_document': 'Bande dessinée adulte', 'reservations': 521.0, 'titre': 'Le jeune acteur', 'auteur': 'Sattouf,  Riad'}, {'rang': 14, 'type_de_document': 'Bande dessinée adulte', 'reservations': 510.0, 'titre': 'Une jeunesse au Moyen-Orient, 1992-1994', 'auteur': 'Sattouf,  Riad'}, {'rang': 37, 'type_de_document': 'DVD tous publics', 'reservations': 337.0, 'titre': 'Dune', 'auteur': None}, {'rang': 58, 'type_de_document': 'DVD tous publics', 'reservations': 266.0, 'titre': 'Onoda. 10 000 nuits dans la jungle', 'auteur': None}, {'rang': 73, 'type_de_document': 'Nouveauté', 'reservations': 241.0, 'titre': 'Chien 51 : roman', 'auteur': 'Gaudé,  Laurent'}, {'rang': 87, 'type_de_document': 'Livre adulte', 'reservations': 225.0, 'titre': 'Le gosse : roman', 'auteur': 'Olmi,  Véronique'}, {'rang': 109, 'type_de_document': 'Bande dessinée jeunesse', 'reservations': 196.0, 'titre': 'Attaque au clair de lune', 'auteur': 'Oda,  Eiichiro'}, {'rang': 125, 'type_de_document': 'DVD nouveautés tous publics', 'reservations': 177.0, 'titre': 'West Side Story', 'auteur': None}, {'rang': 136, 'type_de_document': None, 'reservations': 170.0, 'titre': 'Etés anglais', 'auteur': 'Howard,  Elizabeth Jane'}, {'rang': 139, 'type_de_document': 'Bande dessinée adulte', 'reservations': 168.0, 'titre': 'Zaï zaï zaï zaï', 'auteur': 'Fabcaro'}, {'rang': 145, 'type_de_document': 'Bande dessinée adulte', 'reservations': 164.0, 'titre': 'Les piliers de la civilisation', 'auteur': 'Harari,  Yuval Noah'}, {'rang': 159, 'type_de_document': 'Livre adulte', 'reservations': 158.0, 'titre': 'Noa', 'auteur': 'Lévy,  Marc'}, {'rang': 187, 'type_de_document': 'Livre adulte', 'reservations': 144.0, 'titre': 'Les armoires vides', 'auteur': 'Ernaux,  Annie'}, {'rang': 202, 'type_de_document': 'Bande dessinée jeunesse', 'reservations': 134.0, 'titre': 'Au pays des contes défaits', 'auteur': 'Mr Tan'}, {'rang': 271, 'type_de_document': 'Livre adulte', 'reservations': 115.0, 'titre': \"Sapiens : une brève histoire de l'humanité\", 'auteur': 'Harari,  Yuval Noah'}, {'rang': 360, 'type_de_document': None, 'reservations': 100.0, 'titre': 'Et à la fin, ils meurent : la sale vérité sur les contes de fées', 'auteur': 'Lubie,  Lou'}, {'rang': 367, 'type_de_document': 'DVD tous publics', 'reservations': 99.0, 'titre': 'Madeleine Collins', 'auteur': None}, {'rang': 385, 'type_de_document': 'Bande dessinée jeunesse', 'reservations': 96.0, 'titre': \"L'escalade\", 'auteur': 'Dugomier'}, {'rang': 394, 'type_de_document': 'Nouveauté jeunesse', 'reservations': 95.0, 'titre': \"My hero academia. 8. Momo Yaoyorozu : l'envol\", 'auteur': 'Horikoshi,  Kohei'}, {'rang': 399, 'type_de_document': 'Nouveauté', 'reservations': 95.0, 'titre': 'Le poids des héros', 'auteur': 'Sala,  David'}, {'rang': 414, 'type_de_document': 'Bande dessinée adulte', 'reservations': 92.0, 'titre': \"Moi, ce que j'aime, c'est les monstres\", 'auteur': 'Ferris,  Emil'}, {'rang': 425, 'type_de_document': 'Nouveauté jeunesse', 'reservations': 91.0, 'titre': 'My hero academia. 5. Shoto Todoroki : les origines', 'auteur': 'Horikoshi,  Kohei'}, {'rang': 429, 'type_de_document': 'Livre adulte', 'reservations': 91.0, 'titre': 'Le laboureur et les mangeurs de vent : liberté intérieure et confortable servitude', 'auteur': 'Cyrulnik,  Boris'}, {'rang': 430, 'type_de_document': 'Livre adulte', 'reservations': 91.0, 'titre': 'La chambre du fils', 'auteur': 'Horst,  Jørn Lier'}, {'rang': 449, 'type_de_document': 'DVD tous publics', 'reservations': 89.0, 'titre': 'Belfast', 'auteur': None}, {'rang': 451, 'type_de_document': 'DVD nouveautés tous publics', 'reservations': 89.0, 'titre': 'Top Gun : Maverick', 'auteur': None}, {'rang': 470, 'type_de_document': 'DVD tous publics', 'reservations': 87.0, 'titre': 'Mandibules', 'auteur': None}, {'rang': 473, 'type_de_document': 'Bande dessinée jeunesse', 'reservations': 87.0, 'titre': 'Game over', 'auteur': 'Dequier,  Bruno'}, {'rang': 501, 'type_de_document': None, 'reservations': 84.0, 'titre': 'The promised neverland. 8', 'auteur': 'Shirai,  Kaiu'}, {'rang': 525, 'type_de_document': 'Bande dessinée jeunesse', 'reservations': 82.0, 'titre': 'Bergères guerrières. 3', 'auteur': 'Garnier,  Jonathan'}, {'rang': 539, 'type_de_document': 'Livre adulte', 'reservations': 81.0, 'titre': 'La chronique des Bridgerton. 5 & 6', 'auteur': 'Quinn,  Julia'}, {'rang': 559, 'type_de_document': 'Bande dessinée jeunesse', 'reservations': 80.0, 'titre': 'Oohiohioo !', 'auteur': 'Didier,  Anne'}, {'rang': 654, 'type_de_document': 'Livre adulte', 'reservations': 72.0, 'titre': 'Les possibles', 'auteur': 'Grimaldi,  Virginie'}, {'rang': 672, 'type_de_document': 'Nouveauté', 'reservations': 71.0, 'titre': \"Bonnet d'âne !\", 'auteur': 'Beaton,  M.C.'}, {'rang': 684, 'type_de_document': 'DVD nouveautés tous publics', 'reservations': 70.0, 'titre': 'Sound of Metal', 'auteur': None}, {'rang': 691, 'type_de_document': 'Livre adulte', 'reservations': 70.0, 'titre': 'Un miracle : roman', 'auteur': 'Mas,  Victoria'}, {'rang': 705, 'type_de_document': 'Bande dessinée jeunesse', 'reservations': 69.0, 'titre': \"Sous un ciel d'azur\", 'auteur': 'Horikoshi,  K?hei'}, {'rang': 715, 'type_de_document': 'Bande dessinée jeunesse', 'reservations': 69.0, 'titre': 'One Piece. 67. Cool fight', 'auteur': 'Oda,  Eiichiro'}, {'rang': 718, 'type_de_document': None, 'reservations': 69.0, 'titre': 'Si seulement...', 'auteur': 'Dequier,  Bruno'}, {'rang': 720, 'type_de_document': 'Nouveauté jeunesse', 'reservations': 68.0, 'titre': 'My hero academia. 15. Lutte contre le destin', 'auteur': 'Horikoshi,  K?hei'}, {'rang': 737, 'type_de_document': 'Livre adulte', 'reservations': 67.0, 'titre': 'Les quatre accords toltèques : la voie de la liberté personnelle', 'auteur': 'Ruiz,  Miguel'}, {'rang': 756, 'type_de_document': 'Bande dessinée ado', 'reservations': 67.0, 'titre': 'One Piece. 64', 'auteur': 'Oda,  Eiichiro'}, {'rang': 766, 'type_de_document': 'Livre adulte', 'reservations': 66.0, 'titre': 'Le rocher blanc', 'auteur': 'Hope,  Anna'}, {'rang': 794, 'type_de_document': 'Bande dessinée jeunesse', 'reservations': 65.0, 'titre': 'One Piece. 68. Alliance entre pirates', 'auteur': 'Oda,  Eiichiro'}, {'rang': 840, 'type_de_document': None, 'reservations': 62.0, 'titre': 'Le consentement', 'auteur': 'Springora,  Vanessa'}, {'rang': 860, 'type_de_document': None, 'reservations': 61.0, 'titre': 'La maison', 'auteur': 'Becker,  Emma'}, {'rang': 888, 'type_de_document': 'Bande dessinée jeunesse', 'reservations': 60.0, 'titre': 'Trop la classe !', 'auteur': 'Didier,  Anne'}, {'rang': 891, 'type_de_document': 'Bande dessinée jeunesse', 'reservations': 60.0, 'titre': \"L'atelier des sorciers. 3\", 'auteur': 'Shirahama,  Kamome'}, {'rang': 910, 'type_de_document': 'Nouveauté', 'reservations': 60.0, 'titre': \"Journal inquiet d'Istanbul. 1\", 'auteur': 'Karabulut,  Ersin'}, {'rang': 936, 'type_de_document': 'DVD tous publics', 'reservations': 59.0, 'titre': 'Peaky Blinders. Saison 6', 'auteur': None}, {'rang': 945, 'type_de_document': 'Nouveauté', 'reservations': 58.0, 'titre': 'Croire aux fauves', 'auteur': 'Martin,  Nastassja'}, {'rang': 949, 'type_de_document': 'Nouveauté', 'reservations': 58.0, 'titre': 'Solo leveling. 3', 'auteur': 'Chugong'}, {'rang': 970, 'type_de_document': 'DVD tous publics', 'reservations': 57.0, 'titre': 'The Souvenir : Part I & Part II', 'auteur': None}, {'rang': 983, 'type_de_document': 'Bande dessinée jeunesse', 'reservations': 56.0, 'titre': 'Chaperlipopette !', 'auteur': 'Mr Tan'}, {'rang': 992, 'type_de_document': 'Livre adulte', 'reservations': 56.0, 'titre': 'Tout comprendre (ou presque) sur le climat', 'auteur': 'BonPote'}, {'rang': 5, 'type_de_document': 'Livre adulte', 'reservations': 755.0, 'titre': 'La décision : roman', 'auteur': 'Tuil,  Karine'}, {'rang': 25, 'type_de_document': 'Livre adulte', 'reservations': 398.0, 'titre': 'Dans les brumes de Capelans', 'auteur': 'Norek,  Olivier'}, {'rang': 28, 'type_de_document': 'Livre adulte', 'reservations': 367.0, 'titre': \"Ton absence n'est que ténèbres : roman\", 'auteur': 'Jón Kalman Stefánsson'}, {'rang': 33, 'type_de_document': 'Livre adulte', 'reservations': 345.0, 'titre': 'Vivre avec nos morts : petit traité de consolation', 'auteur': 'Horvilleur,  Delphine'}, {'rang': 61, 'type_de_document': None, 'reservations': 261.0, 'titre': 'Faites votre glucose révolution : la formule scientifique efficace pour perdre du poids et retrouver votre énergie', 'auteur': 'Inchauspé,  Jessie'}, {'rang': 72, 'type_de_document': 'Livre adulte', 'reservations': 246.0, 'titre': 'Le pays des autres : roman', 'auteur': 'Slimani,  Leïla'}, {'rang': 75, 'type_de_document': 'Livre adulte', 'reservations': 239.0, 'titre': 'La France sous nos yeux : économie, paysages, nouveaux modes de vie', 'auteur': 'Fourquet,  Jérôme'}, {'rang': 102, 'type_de_document': 'Livre adulte', 'reservations': 200.0, 'titre': \"Les grandes oubliées : pourquoi l'histoire a effacé les femmes\", 'auteur': 'Lecoq,  Titiou'}, {'rang': 141, 'type_de_document': 'DVD nouveautés tous publics', 'reservations': 167.0, 'titre': 'Madres paralelas', 'auteur': None}, {'rang': 162, 'type_de_document': 'Bande dessinée ado', 'reservations': 156.0, 'titre': 'Naruto. 1', 'auteur': 'Kishimoto,  Masashi'}, {'rang': 217, 'type_de_document': 'Nouveauté', 'reservations': 132.0, 'titre': 'Les masques éphémères', 'auteur': 'Leon,  Donna'}, {'rang': 221, 'type_de_document': 'Livre adulte', 'reservations': 130.0, 'titre': 'Tant que le café est encore chaud : roman', 'auteur': 'Kawaguchi,  Toshikazu'}, {'rang': 229, 'type_de_document': 'DVD tous publics', 'reservations': 128.0, 'titre': 'Les  promesses', 'auteur': None}, {'rang': 233, 'type_de_document': 'Nouveauté', 'reservations': 127.0, 'titre': 'Des vivants', 'auteur': 'Meltz,  Raphaël'}, {'rang': 262, 'type_de_document': 'Bande dessinée jeunesse', 'reservations': 118.0, 'titre': 'My hero academia. 4. Celui qui avait tout', 'auteur': 'Horikoshi,  Kohei'}, {'rang': 275, 'type_de_document': 'Nouveauté', 'reservations': 114.0, 'titre': 'Madame Hayat', 'auteur': 'Altan,  Ahmet'}, {'rang': 296, 'type_de_document': 'Bande dessinée ado', 'reservations': 109.0, 'titre': 'Naruto. 13', 'auteur': 'Kishimoto,  Masashi'}, {'rang': 329, 'type_de_document': 'Bande dessinée jeunesse', 'reservations': 104.0, 'titre': 'Tiens bon !!', 'auteur': 'Oda,  Eiichiro'}, {'rang': 333, 'type_de_document': None, 'reservations': 103.0, 'titre': \"Les méduses n'ont pas d'oreilles : roman\", 'auteur': 'Rosenfeld,  Adèle'}, {'rang': 352, 'type_de_document': 'Bande dessinée ado', 'reservations': 101.0, 'titre': 'Naruto. 12', 'auteur': 'Kishimoto,  Masashi'}, {'rang': 366, 'type_de_document': 'Bande dessinée adulte', 'reservations': 99.0, 'titre': 'Choses sérieuses', 'auteur': 'Oseman,  Alice'}, {'rang': 370, 'type_de_document': 'Bande dessinée jeunesse', 'reservations': 98.0, 'titre': 'Demon slayer : Kimetsu no yaiba. 12', 'auteur': 'Gotouge,  Koyoharu'}, {'rang': 407, 'type_de_document': 'Bande dessinée jeunesse', 'reservations': 94.0, 'titre': 'Coeur du passé', 'auteur': 'Sobral,  Patrick'}, {'rang': 416, 'type_de_document': 'Livre adulte', 'reservations': 92.0, 'titre': 'Chavirer : roman', 'auteur': 'Lafon,  Lola'}, {'rang': 446, 'type_de_document': 'DVD nouveautés tous publics', 'reservations': 89.0, 'titre': 'Eugénie Grandet', 'auteur': None}, {'rang': 503, 'type_de_document': 'Bande dessinée adulte', 'reservations': 84.0, 'titre': 'The promised Neverland. 14', 'auteur': 'Shirai,  Kaiu'}, {'rang': 564, 'type_de_document': 'Livre ado', 'reservations': 79.0, 'titre': 'Le roi maléfique', 'auteur': 'Black,  Holly'}, {'rang': 572, 'type_de_document': None, 'reservations': 79.0, 'titre': \"La fin d'une ère\", 'auteur': 'Howard,  Elizabeth Jane'}, {'rang': 626, 'type_de_document': 'Livre jeunesse', 'reservations': 74.0, 'titre': 'Harry Potter et la chambre des secrets', 'auteur': 'Rowling,  Joanne Kathleen'}, {'rang': 630, 'type_de_document': None, 'reservations': 74.0, 'titre': 'Les dieux sont amour', 'auteur': 'Sobral,  Patrick'}, {'rang': 637, 'type_de_document': None, 'reservations': 73.0, 'titre': 'The promised Neverland. 13', 'auteur': 'Shirai,  Kaiu'}, {'rang': 647, 'type_de_document': None, 'reservations': 73.0, 'titre': 'Vernon Subutex. 1', 'auteur': 'Despentes,  Virginie'}, {'rang': 677, 'type_de_document': 'Bande dessinée jeunesse', 'reservations': 71.0, 'titre': 'One Piece. 55. Des travs en enfer', 'auteur': 'Oda,  Eiichiro'}, {'rang': 682, 'type_de_document': None, 'reservations': 70.0, 'titre': \"C'est comme ça que je disparais\", 'auteur': 'Malle,  Mirion'}, {'rang': 690, 'type_de_document': 'DVD nouveautés tous publics', 'reservations': 70.0, 'titre': 'Twist à Bamako', 'auteur': None}, {'rang': 719, 'type_de_document': 'Livre adulte', 'reservations': 68.0, 'titre': 'Kilomètre zéro : le chemin du bonheur', 'auteur': 'Ankaoua,  Maud'}, {'rang': 726, 'type_de_document': 'Nouveauté', 'reservations': 68.0, 'titre': 'Solo leveling. 5', 'auteur': 'Chugong'}, {'rang': 732, 'type_de_document': 'Bande dessinée ado', 'reservations': 68.0, 'titre': 'Naruto. 30', 'auteur': 'Kishimoto,  Masashi'}, {'rang': 757, 'type_de_document': 'Bande dessinée jeunesse', 'reservations': 67.0, 'titre': \"L'opération Dressrosa S.O.P.\", 'auteur': 'Oda,  Eiichiro'}, {'rang': 759, 'type_de_document': 'Bande dessinée adulte', 'reservations': 66.0, 'titre': 'The promised neverland. 1', 'auteur': 'Shirai,  Kaiu'}, {'rang': 762, 'type_de_document': 'Nouveauté', 'reservations': 66.0, 'titre': 'La vérité sur la lumière', 'auteur': 'Auður Ava Ólafsdóttir'}, {'rang': 769, 'type_de_document': 'Bande dessinée ado', 'reservations': 66.0, 'titre': 'Naruto. 21', 'auteur': 'Kishimoto,  Masashi'}, {'rang': 799, 'type_de_document': 'Livre adulte', 'reservations': 64.0, 'titre': 'Pouilles', 'auteur': None}, {'rang': 801, 'type_de_document': 'Bande dessinée jeunesse', 'reservations': 64.0, 'titre': 'Blue lock. 1', 'auteur': 'Kaneshiro,  Muneyuki'}]}\n"
     ]
    }
   ],
   "source": [
    "wb_bibli = response.json()  # Utilisation de .json() sur l'objet réponse\n",
    "print(\"Structure du JSON :\")\n",
    "print(wb_bibli)"
   ]
  },
  {
   "cell_type": "markdown",
   "metadata": {},
   "source": [
    "Création du dataframe.\n",
    "On remarque qu'il y a parfois des catégories qui ne donnent pas assez d'information sur le type d'ouvrage, à l'image de \"Nouveauté\", ou encore de \"None\". Nous pensons qu'il peut être pertinent d'étudier l'impact différé des prix et de l'exposition sur Youtube selon le genre d'ouvrage , dans la limite du possible. Ainsi, nous avons décidé d'utiliser des méthodes de scraping pour compléter la base. Avant de faire cela, nous avons décidé d'enlever de la base tous les ouvrages de type DVDs, ces derniers ne nous intéressant pas dans le cadre de notre projet."
   ]
  },
  {
   "cell_type": "code",
   "execution_count": 3,
   "metadata": {},
   "outputs": [
    {
     "data": {
      "text/html": [
       "<div>\n",
       "<style scoped>\n",
       "    .dataframe tbody tr th:only-of-type {\n",
       "        vertical-align: middle;\n",
       "    }\n",
       "\n",
       "    .dataframe tbody tr th {\n",
       "        vertical-align: top;\n",
       "    }\n",
       "\n",
       "    .dataframe thead th {\n",
       "        text-align: right;\n",
       "    }\n",
       "</style>\n",
       "<table border=\"1\" class=\"dataframe\">\n",
       "  <thead>\n",
       "    <tr style=\"text-align: right;\">\n",
       "      <th></th>\n",
       "      <th>rang</th>\n",
       "      <th>type_de_document</th>\n",
       "      <th>reservations</th>\n",
       "      <th>titre</th>\n",
       "      <th>auteur</th>\n",
       "    </tr>\n",
       "  </thead>\n",
       "  <tbody>\n",
       "    <tr>\n",
       "      <th>0</th>\n",
       "      <td>12</td>\n",
       "      <td>Livre adulte</td>\n",
       "      <td>522.0</td>\n",
       "      <td>Réinventer l'amour : comment le patriarcat sab...</td>\n",
       "      <td>Chollet,  Mona</td>\n",
       "    </tr>\n",
       "    <tr>\n",
       "      <th>1</th>\n",
       "      <td>13</td>\n",
       "      <td>Bande dessinée adulte</td>\n",
       "      <td>521.0</td>\n",
       "      <td>Le jeune acteur</td>\n",
       "      <td>Sattouf,  Riad</td>\n",
       "    </tr>\n",
       "    <tr>\n",
       "      <th>2</th>\n",
       "      <td>14</td>\n",
       "      <td>Bande dessinée adulte</td>\n",
       "      <td>510.0</td>\n",
       "      <td>Une jeunesse au Moyen-Orient, 1992-1994</td>\n",
       "      <td>Sattouf,  Riad</td>\n",
       "    </tr>\n",
       "    <tr>\n",
       "      <th>3</th>\n",
       "      <td>37</td>\n",
       "      <td>DVD tous publics</td>\n",
       "      <td>337.0</td>\n",
       "      <td>Dune</td>\n",
       "      <td>None</td>\n",
       "    </tr>\n",
       "    <tr>\n",
       "      <th>4</th>\n",
       "      <td>58</td>\n",
       "      <td>DVD tous publics</td>\n",
       "      <td>266.0</td>\n",
       "      <td>Onoda. 10 000 nuits dans la jungle</td>\n",
       "      <td>None</td>\n",
       "    </tr>\n",
       "    <tr>\n",
       "      <th>5</th>\n",
       "      <td>73</td>\n",
       "      <td>Nouveauté</td>\n",
       "      <td>241.0</td>\n",
       "      <td>Chien 51 : roman</td>\n",
       "      <td>Gaudé,  Laurent</td>\n",
       "    </tr>\n",
       "    <tr>\n",
       "      <th>6</th>\n",
       "      <td>87</td>\n",
       "      <td>Livre adulte</td>\n",
       "      <td>225.0</td>\n",
       "      <td>Le gosse : roman</td>\n",
       "      <td>Olmi,  Véronique</td>\n",
       "    </tr>\n",
       "    <tr>\n",
       "      <th>7</th>\n",
       "      <td>109</td>\n",
       "      <td>Bande dessinée jeunesse</td>\n",
       "      <td>196.0</td>\n",
       "      <td>Attaque au clair de lune</td>\n",
       "      <td>Oda,  Eiichiro</td>\n",
       "    </tr>\n",
       "    <tr>\n",
       "      <th>8</th>\n",
       "      <td>125</td>\n",
       "      <td>DVD nouveautés tous publics</td>\n",
       "      <td>177.0</td>\n",
       "      <td>West Side Story</td>\n",
       "      <td>None</td>\n",
       "    </tr>\n",
       "    <tr>\n",
       "      <th>9</th>\n",
       "      <td>136</td>\n",
       "      <td>None</td>\n",
       "      <td>170.0</td>\n",
       "      <td>Etés anglais</td>\n",
       "      <td>Howard,  Elizabeth Jane</td>\n",
       "    </tr>\n",
       "    <tr>\n",
       "      <th>10</th>\n",
       "      <td>139</td>\n",
       "      <td>Bande dessinée adulte</td>\n",
       "      <td>168.0</td>\n",
       "      <td>Zaï zaï zaï zaï</td>\n",
       "      <td>Fabcaro</td>\n",
       "    </tr>\n",
       "    <tr>\n",
       "      <th>11</th>\n",
       "      <td>145</td>\n",
       "      <td>Bande dessinée adulte</td>\n",
       "      <td>164.0</td>\n",
       "      <td>Les piliers de la civilisation</td>\n",
       "      <td>Harari,  Yuval Noah</td>\n",
       "    </tr>\n",
       "  </tbody>\n",
       "</table>\n",
       "</div>"
      ],
      "text/plain": [
       "    rang             type_de_document  reservations  \\\n",
       "0     12                 Livre adulte         522.0   \n",
       "1     13        Bande dessinée adulte         521.0   \n",
       "2     14        Bande dessinée adulte         510.0   \n",
       "3     37             DVD tous publics         337.0   \n",
       "4     58             DVD tous publics         266.0   \n",
       "5     73                    Nouveauté         241.0   \n",
       "6     87                 Livre adulte         225.0   \n",
       "7    109      Bande dessinée jeunesse         196.0   \n",
       "8    125  DVD nouveautés tous publics         177.0   \n",
       "9    136                         None         170.0   \n",
       "10   139        Bande dessinée adulte         168.0   \n",
       "11   145        Bande dessinée adulte         164.0   \n",
       "\n",
       "                                                titre                   auteur  \n",
       "0   Réinventer l'amour : comment le patriarcat sab...           Chollet,  Mona  \n",
       "1                                     Le jeune acteur           Sattouf,  Riad  \n",
       "2             Une jeunesse au Moyen-Orient, 1992-1994           Sattouf,  Riad  \n",
       "3                                                Dune                     None  \n",
       "4                  Onoda. 10 000 nuits dans la jungle                     None  \n",
       "5                                    Chien 51 : roman          Gaudé,  Laurent  \n",
       "6                                    Le gosse : roman         Olmi,  Véronique  \n",
       "7                            Attaque au clair de lune           Oda,  Eiichiro  \n",
       "8                                     West Side Story                     None  \n",
       "9                                        Etés anglais  Howard,  Elizabeth Jane  \n",
       "10                                    Zaï zaï zaï zaï                  Fabcaro  \n",
       "11                     Les piliers de la civilisation      Harari,  Yuval Noah  "
      ]
     },
     "execution_count": 3,
     "metadata": {},
     "output_type": "execute_result"
    }
   ],
   "source": [
    "df_bibli= pd.json_normalize(wb_bibli['results'])\n",
    "df_bibli.head(12)"
   ]
  },
  {
   "cell_type": "markdown",
   "metadata": {},
   "source": [
    "Tout d'abord, il est nécessaire de prendre connaissance de toutes les catégories pour savoir lesquelles remplacer, desquelles se débarasser..."
   ]
  },
  {
   "cell_type": "code",
   "execution_count": 4,
   "metadata": {},
   "outputs": [
    {
     "name": "stdout",
     "output_type": "stream",
     "text": [
      "['Livre adulte' 'Bande dessinée adulte' 'DVD tous publics' 'Nouveauté'\n",
      " 'Bande dessinée jeunesse' 'DVD nouveautés tous publics' None\n",
      " 'Nouveauté jeunesse' 'Bande dessinée ado' 'Livre ado' 'Livre jeunesse']\n"
     ]
    }
   ],
   "source": [
    "print(df_bibli[\"type_de_document\"].unique())"
   ]
  },
  {
   "cell_type": "markdown",
   "metadata": {},
   "source": [
    "Comme annoncé, on ne garde que les catégories qui nous intéresse ci-dessous."
   ]
  },
  {
   "cell_type": "code",
   "execution_count": 5,
   "metadata": {},
   "outputs": [],
   "source": [
    "doc = [\"Livre adulte\", \"Bande dessinée adulte\", \"Nouveauté\", \"Bande dessinée jeunesse\", \"Nouveauté jeunesse\",\n",
    " \"Bande dessinée ado\", \"Livre ado\", \"Livre jeunesse\", None]\n",
    "df_bibli= df_bibli[df_bibli[\"type_de_document\"].isin(doc)]"
   ]
  },
  {
   "cell_type": "code",
   "execution_count": 6,
   "metadata": {},
   "outputs": [
    {
     "data": {
      "text/html": [
       "<div>\n",
       "<style scoped>\n",
       "    .dataframe tbody tr th:only-of-type {\n",
       "        vertical-align: middle;\n",
       "    }\n",
       "\n",
       "    .dataframe tbody tr th {\n",
       "        vertical-align: top;\n",
       "    }\n",
       "\n",
       "    .dataframe thead th {\n",
       "        text-align: right;\n",
       "    }\n",
       "</style>\n",
       "<table border=\"1\" class=\"dataframe\">\n",
       "  <thead>\n",
       "    <tr style=\"text-align: right;\">\n",
       "      <th></th>\n",
       "      <th>rang</th>\n",
       "      <th>type_de_document</th>\n",
       "      <th>reservations</th>\n",
       "      <th>titre</th>\n",
       "      <th>auteur</th>\n",
       "    </tr>\n",
       "  </thead>\n",
       "  <tbody>\n",
       "    <tr>\n",
       "      <th>0</th>\n",
       "      <td>12</td>\n",
       "      <td>Livre adulte</td>\n",
       "      <td>522.0</td>\n",
       "      <td>Réinventer l'amour : comment le patriarcat sab...</td>\n",
       "      <td>Chollet,  Mona</td>\n",
       "    </tr>\n",
       "    <tr>\n",
       "      <th>1</th>\n",
       "      <td>13</td>\n",
       "      <td>Bande dessinée adulte</td>\n",
       "      <td>521.0</td>\n",
       "      <td>Le jeune acteur</td>\n",
       "      <td>Sattouf,  Riad</td>\n",
       "    </tr>\n",
       "    <tr>\n",
       "      <th>2</th>\n",
       "      <td>14</td>\n",
       "      <td>Bande dessinée adulte</td>\n",
       "      <td>510.0</td>\n",
       "      <td>Une jeunesse au Moyen-Orient, 1992-1994</td>\n",
       "      <td>Sattouf,  Riad</td>\n",
       "    </tr>\n",
       "    <tr>\n",
       "      <th>5</th>\n",
       "      <td>73</td>\n",
       "      <td>Nouveauté</td>\n",
       "      <td>241.0</td>\n",
       "      <td>Chien 51 : roman</td>\n",
       "      <td>Gaudé,  Laurent</td>\n",
       "    </tr>\n",
       "    <tr>\n",
       "      <th>6</th>\n",
       "      <td>87</td>\n",
       "      <td>Livre adulte</td>\n",
       "      <td>225.0</td>\n",
       "      <td>Le gosse : roman</td>\n",
       "      <td>Olmi,  Véronique</td>\n",
       "    </tr>\n",
       "  </tbody>\n",
       "</table>\n",
       "</div>"
      ],
      "text/plain": [
       "   rang       type_de_document  reservations  \\\n",
       "0    12           Livre adulte         522.0   \n",
       "1    13  Bande dessinée adulte         521.0   \n",
       "2    14  Bande dessinée adulte         510.0   \n",
       "5    73              Nouveauté         241.0   \n",
       "6    87           Livre adulte         225.0   \n",
       "\n",
       "                                               titre            auteur  \n",
       "0  Réinventer l'amour : comment le patriarcat sab...    Chollet,  Mona  \n",
       "1                                    Le jeune acteur    Sattouf,  Riad  \n",
       "2            Une jeunesse au Moyen-Orient, 1992-1994    Sattouf,  Riad  \n",
       "5                                   Chien 51 : roman   Gaudé,  Laurent  \n",
       "6                                   Le gosse : roman  Olmi,  Véronique  "
      ]
     },
     "execution_count": 6,
     "metadata": {},
     "output_type": "execute_result"
    }
   ],
   "source": [
    "df_bibli.head(5)"
   ]
  },
  {
   "cell_type": "markdown",
   "metadata": {},
   "source": [
    "On voit qu'il y a beaucoup de livres dans notre base dont le type n'est pas renseigné."
   ]
  },
  {
   "cell_type": "code",
   "execution_count": 7,
   "metadata": {},
   "outputs": [
    {
     "name": "stdout",
     "output_type": "stream",
     "text": [
      "    rang    type_de_document  reservations  \\\n",
      "5     73           Nouveauté         241.0   \n",
      "9    136                None         170.0   \n",
      "16   360                None         100.0   \n",
      "19   394  Nouveauté jeunesse          95.0   \n",
      "20   399           Nouveauté          95.0   \n",
      "22   425  Nouveauté jeunesse          91.0   \n",
      "29   501                None          84.0   \n",
      "34   672           Nouveauté          71.0   \n",
      "39   718                None          69.0   \n",
      "40   720  Nouveauté jeunesse          68.0   \n",
      "45   840                None          62.0   \n",
      "46   860                None          61.0   \n",
      "49   910           Nouveauté          60.0   \n",
      "51   945           Nouveauté          58.0   \n",
      "52   949           Nouveauté          58.0   \n",
      "60    61                None         261.0   \n",
      "66   217           Nouveauté         132.0   \n",
      "69   233           Nouveauté         127.0   \n",
      "71   275           Nouveauté         114.0   \n",
      "74   333                None         103.0   \n",
      "83   572                None          79.0   \n",
      "85   630                None          74.0   \n",
      "86   637                None          73.0   \n",
      "87   647                None          73.0   \n",
      "89   682                None          70.0   \n",
      "92   726           Nouveauté          68.0   \n",
      "96   762           Nouveauté          66.0   \n",
      "\n",
      "                                                titre                   auteur  \n",
      "5                                    Chien 51 : roman          Gaudé,  Laurent  \n",
      "9                                        Etés anglais  Howard,  Elizabeth Jane  \n",
      "16  Et à la fin, ils meurent : la sale vérité sur ...              Lubie,  Lou  \n",
      "19      My hero academia. 8. Momo Yaoyorozu : l'envol        Horikoshi,  Kohei  \n",
      "20                                 Le poids des héros             Sala,  David  \n",
      "22  My hero academia. 5. Shoto Todoroki : les orig...        Horikoshi,  Kohei  \n",
      "29                          The promised neverland. 8            Shirai,  Kaiu  \n",
      "34                                     Bonnet d'âne !            Beaton,  M.C.  \n",
      "39                                    Si seulement...          Dequier,  Bruno  \n",
      "40       My hero academia. 15. Lutte contre le destin        Horikoshi,  K?hei  \n",
      "45                                    Le consentement      Springora,  Vanessa  \n",
      "46                                          La maison            Becker,  Emma  \n",
      "49                      Journal inquiet d'Istanbul. 1        Karabulut,  Ersin  \n",
      "51                                  Croire aux fauves       Martin,  Nastassja  \n",
      "52                                   Solo leveling. 3                  Chugong  \n",
      "60  Faites votre glucose révolution : la formule s...       Inchauspé,  Jessie  \n",
      "66                              Les masques éphémères             Leon,  Donna  \n",
      "69                                        Des vivants          Meltz,  Raphaël  \n",
      "71                                       Madame Hayat            Altan,  Ahmet  \n",
      "74           Les méduses n'ont pas d'oreilles : roman        Rosenfeld,  Adèle  \n",
      "83                                   La fin d'une ère  Howard,  Elizabeth Jane  \n",
      "85                               Les dieux sont amour         Sobral,  Patrick  \n",
      "86                         The promised Neverland. 13            Shirai,  Kaiu  \n",
      "87                                  Vernon Subutex. 1     Despentes,  Virginie  \n",
      "89                    C'est comme ça que je disparais           Malle,  Mirion  \n",
      "92                                   Solo leveling. 5                  Chugong  \n",
      "96                           La vérité sur la lumière    Auður Ava Ólafsdóttir  \n"
     ]
    }
   ],
   "source": [
    "nouveau = [\"Nouveauté\", \"Nouveauté jeunesse\", None]\n",
    "df_bibli_nouveau =  df_bibli[df_bibli[\"type_de_document\"].isin(nouveau)]\n",
    "print(df_bibli_nouveau)"
   ]
  },
  {
   "cell_type": "markdown",
   "metadata": {},
   "source": [
    "Pour le scrapping, nous avons choisi de le faire sur livraddict puisqu'il s'agit d'un site où tous les titres sont en français, avec un type de fonction recherche pratique pour scrapper. Sur ce site sont de plus décrits tous les livres connus avec des catégorie toujours indiquées avec un code similaire.\n",
    "\n",
    "Pour ce faire, nous avons d'abord générer une URL de recherche sur livraddict. On scrappe la page pour récupérer l'URL du premier résultat de la recherche"
   ]
  },
  {
   "cell_type": "code",
   "execution_count": 8,
   "metadata": {},
   "outputs": [],
   "source": [
    "# Fonction pour rechercher un livre sur Babelio et accéder à la page du premier résultat\n",
    "def search_livraddict(book_title):\n",
    "    # URL de recherche sur Livraddict\n",
    "    headers = {\n",
    "    'User-Agent': 'Mozilla/5.0 (Windows NT 10.0; Win64; x64) AppleWebKit/537.36 (KHTML, like Gecko) Chrome/91.0.4472.124 Safari/537.36'}\n",
    "    search_url = f'https://www.livraddict.com/search.php?t={book_title}]'\n",
    "\n",
    "    # Faire une requête pour récupérer la page des résultats de recherche\n",
    "    response = requests.get(search_url, headers=headers).content\n",
    "    # Trouver le premier élément correspondant au lien d'un résultat\n",
    "    page = BeautifulSoup(response, \"html.parser\")\n",
    "    first_result = page.select_one('.listing_recherche li .item_photo a')\n",
    "    if first_result is not None:\n",
    "        url = first_result['href']\n",
    "        full_url = f\"https://www.livraddict.com{url}\"\n",
    "        return full_url\n",
    "    else:\n",
    "        return None"
   ]
  },
  {
   "cell_type": "markdown",
   "metadata": {},
   "source": [
    "On scrappe cette fois la page du premier résultat de la recherche précédente pour trouver les informations du livre."
   ]
  },
  {
   "cell_type": "code",
   "execution_count": 9,
   "metadata": {},
   "outputs": [],
   "source": [
    "def type_livre(info):\n",
    "    if info is None:\n",
    "        type_livre=\"Nom du livre pas trouvé sur Livraddict\"\n",
    "    else:\n",
    "        # Normaliser les chaînes (supprimer les espaces et convertir en minuscules)\n",
    "        info_0_normalized = info[0].strip().lower()\n",
    "        info_1_normalized = info[1].strip().lower()\n",
    "\n",
    "        if info_0_normalized in [\"album\", \"artbook/beau livre\", \"bande-dessinée\", \"comics\", \"manga\"] and info_1_normalized in [\"petite enfance\", \"enfance\"]:\n",
    "            type_livre = \"Bande dessinée jeunesse\"\n",
    "\n",
    "        elif info_0_normalized in [\"album\", \"artbook/beau livre\", \"bande-dessinée\", \"comics\", \"manga\"] and info_1_normalized in [\"adolescence\"]:\n",
    "            type_livre = \"Bande dessinée ado\"\n",
    "\n",
    "        elif info_0_normalized in [\"album\", \"artbook/beau livre\", \"bande-dessinée\", \"comics\", \"manga\"] and info_1_normalized in [\"young adult\", \"adulte\"]:\n",
    "            type_livre = \"Bande dessinée ado\"\n",
    "\n",
    "        elif info_0_normalized in [\"correspondance\", \"documentaire\", \"essai\", \"livre pratique\", \"nouvelle(s)\", \"poésie\", \"roman\", \"théâtre\"] and info_1_normalized in [\"petite enfance\", \"enfance\"]:\n",
    "            type_livre = \"Livre jeunesse\"\n",
    "\n",
    "        elif info_0_normalized in [\"correspondance\", \"documentaire\", \"essai\", \"livre pratique\", \"nouvelle(s)\", \"poésie\", \"roman\", \"théâtre\"] and info_1_normalized in [\"adolescence\"]:\n",
    "            type_livre = \"Livre ado\"\n",
    "\n",
    "        elif info_0_normalized in [\"correspondance\", \"documentaire\", \"essai\", \"livre pratique\", \"nouvelle(s)\", \"poésie\", \"roman\", \"théâtre\"] and info_1_normalized in [\"young adult\", \"adulte\"]:\n",
    "            type_livre = \"Livre adulte\"\n",
    "\n",
    "        else: type_livre= \"Introuvable\"\n",
    "    return type_livre\n"
   ]
  },
  {
   "cell_type": "code",
   "execution_count": 10,
   "metadata": {},
   "outputs": [],
   "source": [
    "def obtain_type(url):\n",
    "    if url is not None:\n",
    "        headers = {\n",
    "        'User-Agent': 'Mozilla/5.0 (Windows NT 10.0; Win64; x64) AppleWebKit/537.36 (KHTML, like Gecko) Chrome/91.0.4472.124 Safari/537.36'}\n",
    "        response = requests.get(url, headers=headers).content\n",
    "        page = BeautifulSoup(response, \"html.parser\")\n",
    "        c_format= page.find(\"div\", class_= \"book_classif book_format mr1\")\n",
    "        c_lectorat= page.find(\"div\", class_=\"book_classif book_lectorat mr1\")\n",
    "        if c_format:\n",
    "            a_format = c_format.find(\"a\")\n",
    "            format_livre = a_format.text\n",
    "        else:\n",
    "            format_livre = \"Non renseigné\"\n",
    "        if c_lectorat:\n",
    "            a_lectorat = c_lectorat.find(\"a\")\n",
    "            lectorat = a_lectorat.text\n",
    "        else: \n",
    "            lectorat = \"Non renseigné\"\n",
    "        info = [format_livre, lectorat]\n",
    "        return info\n",
    "    else:\n",
    "        return None"
   ]
  },
  {
   "cell_type": "markdown",
   "metadata": {},
   "source": [
    "Création d'une fonction qui assemble ces deux fonctions pour qu'à partir seulement d'un titre, on obtienne le type du livre."
   ]
  },
  {
   "cell_type": "code",
   "execution_count": 11,
   "metadata": {},
   "outputs": [],
   "source": [
    "def search_type_livre(titre):\n",
    "    livre = titre.split()\n",
    "    titre_livre = \"\"\n",
    "    for i in range(0, len(livre) - 1):\n",
    "        titre_livre = titre_livre + livre[i] + \"+\"\n",
    "    titre_livre = titre_livre + livre[len(livre)-1]\n",
    "    url = search_livraddict(titre_livre)\n",
    "    infos = obtain_type(url)\n",
    "    type_de_livre = type_livre(infos)\n",
    "    return type_de_livre"
   ]
  },
  {
   "cell_type": "markdown",
   "metadata": {},
   "source": [
    "Maintenant, on définit pour quel type de titre quelle fonction s'applique et pour quels livres on va chercher leur type."
   ]
  },
  {
   "cell_type": "code",
   "execution_count": 12,
   "metadata": {},
   "outputs": [],
   "source": [
    "def apply_search(row):\n",
    "    nouveau = [\"Nouveauté\", \"Nouveauté jeunesse\", None]\n",
    "    if row[\"type_de_document\"] in nouveau:\n",
    "        parties = row[\"titre\"].split(\".\")\n",
    "        parties_bis = row[\"titre\"].split(\":\")\n",
    "\n",
    "        #pour les séries avec nom de série, numéro tome, nom du tome\n",
    "        if len(parties)==3:\n",
    "            saga = parties[0].strip()\n",
    "            tome = parties[1].strip()\n",
    "            nom = parties[2].strip()\n",
    "            if int(tome) < 10:\n",
    "                type_de_livre = search_type_livre(saga+\"+\"+\"tome\"+\"+\"+\"0\"+tome)\n",
    "                if type_de_livre == \"Nom du livre pas trouvé sur Livraddict\":\n",
    "                    type_de_livre = search_type_livre(saga+\"+\"+\"tome\"+\"+\"+tome)\n",
    "            elif int(tome)>= 10:\n",
    "                type_de_livre = search_type_livre(saga+\"+\"+\"tome\"+\"+\"+tome)\n",
    "        \n",
    "        #pour les séries avec que nom de série et numéro de tome\n",
    "        elif len(parties)==2:\n",
    "            saga = parties[0].strip()\n",
    "            tome = parties[1].strip()\n",
    "            if int(tome) < 10:\n",
    "                type_de_livre = search_type_livre(saga+\"+\"+\"tome\"+\"+\"+\"0\"+tome)\n",
    "                if type_de_livre == \"Nom du livre pas trouvé sur Livraddict\":\n",
    "                    type_de_livre = search_type_livre(saga+\"+\"+\"tome\"+\"+\"+tome)\n",
    "            elif int(tome)>= 10:\n",
    "                type_de_livre = search_type_livre(saga+\"+\"+\"tome\"+\"+\"+tome)\n",
    "        \n",
    "        #pour les livre où il y a écrit le genre après le titre\n",
    "        elif len(parties_bis) == 2:\n",
    "            type_de_livre = search_type_livre(row[\"titre\"])\n",
    "            if type_de_livre == \"Nom du livre pas trouvé sur Livraddict\":\n",
    "                nom = parties_bis[0].strip()\n",
    "                type_de_livre = search_type_livre(nom)\n",
    "\n",
    "        else:\n",
    "            type_de_livre = search_type_livre(row[\"titre\"])\n",
    "        return type_de_livre\n",
    "\n",
    "\n",
    "    else:\n",
    "        return row[\"type_de_document\"]"
   ]
  },
  {
   "cell_type": "markdown",
   "metadata": {},
   "source": [
    "On applique enfin la fonction à notre dataframe. La fonction prend environ 2 minutes."
   ]
  },
  {
   "cell_type": "code",
   "execution_count": 13,
   "metadata": {},
   "outputs": [],
   "source": [
    "df_bibli['type_de_document'] = df_bibli.apply(apply_search, axis=1)"
   ]
  },
  {
   "cell_type": "markdown",
   "metadata": {},
   "source": [
    "On regarde si des livres n'ont pas été trouvés. On remarque que tous les types de livre ont bien été trouvé ! Hourra"
   ]
  },
  {
   "cell_type": "code",
   "execution_count": 14,
   "metadata": {},
   "outputs": [
    {
     "name": "stdout",
     "output_type": "stream",
     "text": [
      "Empty DataFrame\n",
      "Columns: [rang, type_de_document, reservations, titre, auteur]\n",
      "Index: []\n"
     ]
    }
   ],
   "source": [
    "erreur_recherche = [\"Nom du livre pas trouvé sur Livraddict\"]\n",
    "df_bibli_erreur =  df_bibli[df_bibli[\"type_de_document\"].isin(erreur_recherche)]\n",
    "print(df_bibli_erreur)"
   ]
  },
  {
   "cell_type": "code",
   "execution_count": 15,
   "metadata": {},
   "outputs": [
    {
     "name": "stdout",
     "output_type": "stream",
     "text": [
      "Empty DataFrame\n",
      "Columns: [rang, type_de_document, reservations, titre, auteur]\n",
      "Index: []\n"
     ]
    }
   ],
   "source": [
    "autre_erreur = [\"Introuvable\"]\n",
    "df_bibli_int =  df_bibli[df_bibli[\"type_de_document\"].isin(erreur_recherche)]\n",
    "print(df_bibli_int)"
   ]
  },
  {
   "cell_type": "markdown",
   "metadata": {},
   "source": [
    "Maintenant, on veut réordonner la base de manière à pouvoir mettre des rangs sans trous dans les numéros sur cette dernière. On commence pour ce faire par l'ordonner selon le rang, afin ensuite de numéroter les lignes dans l'ordre d'affichage."
   ]
  },
  {
   "cell_type": "code",
   "execution_count": 16,
   "metadata": {},
   "outputs": [],
   "source": [
    "df_bibli = df_bibli.sort_values(by=\"rang\")\n",
    "df_bibli = df_bibli.reset_index(drop=True)"
   ]
  },
  {
   "cell_type": "code",
   "execution_count": 17,
   "metadata": {},
   "outputs": [
    {
     "name": "stdout",
     "output_type": "stream",
     "text": [
      "86\n"
     ]
    }
   ],
   "source": [
    "nb_books = df_bibli[df_bibli['titre'].notna()].shape[0]\n",
    "print(nb_books)"
   ]
  },
  {
   "cell_type": "code",
   "execution_count": 18,
   "metadata": {},
   "outputs": [],
   "source": [
    "df_bibli['Classement_bibliothèque'] = None  # Initialiser avec None\n",
    "df_bibli['Top_bibliothèque'] = None\n",
    "\n",
    "# Remplir `classement` uniquement jusqu'à l'index 85\n",
    "max_index = 85  # Exemple d'index limite\n",
    "df_bibli.loc[df_bibli.index <= max_index, 'Classement_bibliothèque'] = range(1, min(len(df_bibli), max_index + 1) + 1)\n",
    "df_bibli.loc[df_bibli.index <= max_index, 'Top_bibliothèque'] = 1"
   ]
  },
  {
   "cell_type": "markdown",
   "metadata": {},
   "source": [
    "On vérifie pour finir le début de notre base pour s'assurer que notre variable marche bien."
   ]
  },
  {
   "cell_type": "code",
   "execution_count": 19,
   "metadata": {},
   "outputs": [
    {
     "data": {
      "text/html": [
       "<div>\n",
       "<style scoped>\n",
       "    .dataframe tbody tr th:only-of-type {\n",
       "        vertical-align: middle;\n",
       "    }\n",
       "\n",
       "    .dataframe tbody tr th {\n",
       "        vertical-align: top;\n",
       "    }\n",
       "\n",
       "    .dataframe thead th {\n",
       "        text-align: right;\n",
       "    }\n",
       "</style>\n",
       "<table border=\"1\" class=\"dataframe\">\n",
       "  <thead>\n",
       "    <tr style=\"text-align: right;\">\n",
       "      <th></th>\n",
       "      <th>rang</th>\n",
       "      <th>type_de_document</th>\n",
       "      <th>reservations</th>\n",
       "      <th>titre</th>\n",
       "      <th>auteur</th>\n",
       "      <th>Classement_bibliothèque</th>\n",
       "      <th>Top_bibliothèque</th>\n",
       "    </tr>\n",
       "  </thead>\n",
       "  <tbody>\n",
       "    <tr>\n",
       "      <th>0</th>\n",
       "      <td>5</td>\n",
       "      <td>Livre adulte</td>\n",
       "      <td>755.0</td>\n",
       "      <td>La décision : roman</td>\n",
       "      <td>Tuil,  Karine</td>\n",
       "      <td>1</td>\n",
       "      <td>1</td>\n",
       "    </tr>\n",
       "    <tr>\n",
       "      <th>1</th>\n",
       "      <td>12</td>\n",
       "      <td>Livre adulte</td>\n",
       "      <td>522.0</td>\n",
       "      <td>Réinventer l'amour : comment le patriarcat sab...</td>\n",
       "      <td>Chollet,  Mona</td>\n",
       "      <td>2</td>\n",
       "      <td>1</td>\n",
       "    </tr>\n",
       "    <tr>\n",
       "      <th>2</th>\n",
       "      <td>13</td>\n",
       "      <td>Bande dessinée adulte</td>\n",
       "      <td>521.0</td>\n",
       "      <td>Le jeune acteur</td>\n",
       "      <td>Sattouf,  Riad</td>\n",
       "      <td>3</td>\n",
       "      <td>1</td>\n",
       "    </tr>\n",
       "    <tr>\n",
       "      <th>3</th>\n",
       "      <td>14</td>\n",
       "      <td>Bande dessinée adulte</td>\n",
       "      <td>510.0</td>\n",
       "      <td>Une jeunesse au Moyen-Orient, 1992-1994</td>\n",
       "      <td>Sattouf,  Riad</td>\n",
       "      <td>4</td>\n",
       "      <td>1</td>\n",
       "    </tr>\n",
       "    <tr>\n",
       "      <th>4</th>\n",
       "      <td>25</td>\n",
       "      <td>Livre adulte</td>\n",
       "      <td>398.0</td>\n",
       "      <td>Dans les brumes de Capelans</td>\n",
       "      <td>Norek,  Olivier</td>\n",
       "      <td>5</td>\n",
       "      <td>1</td>\n",
       "    </tr>\n",
       "  </tbody>\n",
       "</table>\n",
       "</div>"
      ],
      "text/plain": [
       "   rang       type_de_document  reservations  \\\n",
       "0     5           Livre adulte         755.0   \n",
       "1    12           Livre adulte         522.0   \n",
       "2    13  Bande dessinée adulte         521.0   \n",
       "3    14  Bande dessinée adulte         510.0   \n",
       "4    25           Livre adulte         398.0   \n",
       "\n",
       "                                               titre           auteur  \\\n",
       "0                                La décision : roman    Tuil,  Karine   \n",
       "1  Réinventer l'amour : comment le patriarcat sab...   Chollet,  Mona   \n",
       "2                                    Le jeune acteur   Sattouf,  Riad   \n",
       "3            Une jeunesse au Moyen-Orient, 1992-1994   Sattouf,  Riad   \n",
       "4                        Dans les brumes de Capelans  Norek,  Olivier   \n",
       "\n",
       "  Classement_bibliothèque Top_bibliothèque  \n",
       "0                       1                1  \n",
       "1                       2                1  \n",
       "2                       3                1  \n",
       "3                       4                1  \n",
       "4                       5                1  "
      ]
     },
     "execution_count": 19,
     "metadata": {},
     "output_type": "execute_result"
    }
   ],
   "source": [
    "df_bibli.head(5)"
   ]
  },
  {
   "cell_type": "markdown",
   "metadata": {},
   "source": [
    "Enfin, nous avons jugé nécessaire d'harmoniser la syntaxe des titres dans les cas où il y a plusieurs tomes ( dans chaque base, il pouvait y avoir des façons différente de mettre en forme le titre d'un tomme de série, ce qui peut conduire à ne pas reconnaître que c'est le même ouvrage). Il y a aussi parfois précisé \"roman\" après le titre d'un ouvrage. Nous voulons enlever cette précision."
   ]
  },
  {
   "cell_type": "code",
   "execution_count": 20,
   "metadata": {},
   "outputs": [],
   "source": [
    "def harmonisation_tomes(row):\n",
    "    parties = row[\"titre\"].split(\".\")\n",
    "    parties_bis = row[\"titre\"].split(\":\")\n",
    "    if len(parties)==3:\n",
    "        saga = parties[0].strip()\n",
    "        tome = parties[1].strip()\n",
    "        nom = parties[2].strip()\n",
    "        titre = saga + ', tome ' + tome + ' : ' + nom\n",
    "    elif len(parties)==2:\n",
    "        saga = parties[0].strip()\n",
    "        tome = parties[1].strip()\n",
    "        titre = saga + ', tome ' + tome\n",
    "    elif len(parties_bis)==2:\n",
    "        added = parties_bis[1].strip()\n",
    "        if added == \"roman\":\n",
    "            titre = parties_bis[0]\n",
    "        else:\n",
    "            titre = row[\"titre\"]\n",
    "    else:\n",
    "        titre = row[\"titre\"]\n",
    "    return titre\n",
    "    "
   ]
  },
  {
   "cell_type": "code",
   "execution_count": 21,
   "metadata": {},
   "outputs": [],
   "source": [
    "df_bibli['titre'] = df_bibli.apply(harmonisation_tomes, axis=1)"
   ]
  },
  {
   "cell_type": "markdown",
   "metadata": {},
   "source": [
    "Création d'un fichier csv pour plus tard fusionner les bases"
   ]
  },
  {
   "cell_type": "code",
   "execution_count": 22,
   "metadata": {},
   "outputs": [],
   "source": [
    "df_bibli.to_csv(\"livres_les_plus_empruntes_a_paris.csv\", index=False, encoding=\"utf-8\")"
   ]
  },
  {
   "cell_type": "markdown",
   "metadata": {},
   "source": [
    "##Récupération des tops des livres populaires de plusieurs sites"
   ]
  },
  {
   "cell_type": "markdown",
   "metadata": {},
   "source": [
    "Les 23 livres les plus populaires en 2023 sur Babelio, on ajoute une colonne indicatrice pour qu'il y ait un 1 lors du merge de toutes les tables pour les livres qui sont dans le top Babelio."
   ]
  },
  {
   "cell_type": "code",
   "execution_count": 23,
   "metadata": {},
   "outputs": [],
   "source": [
    "# URL de la page à scrapper\n",
    "babelio_top_2023 = \"https://www.babelio.com/article/2543/Les-23-livres-les-plus-populaires-de-2023\"\n",
    "\n",
    "# on fait la requête HTTP vers la page\n",
    "response = requests.get(babelio_top_2023)\n",
    "\n",
    "# On utilise l'encodage détecté par requests\n",
    "response.encoding = response.apparent_encoding\n",
    "\n",
    "if response.status_code == 200:  # Vérifie que le site autorise le scraping\n",
    "    soup = BeautifulSoup(response.text, 'html.parser')\n",
    "\n",
    "    # Liste pour stocker les données extraites\n",
    "    babelio_data = []\n",
    "\n",
    "    # On trouve toutes les sections contenant les livres\n",
    "    titles_sections = soup.find_all('span', class_='titre_global')\n",
    "    for section in titles_sections:\n",
    "        # On extrait le titre\n",
    "        title_tag = section.find('a')\n",
    "        title = title_tag.text.strip() if title_tag else None\n",
    "\n",
    "        # On extrait l'auteur\n",
    "        author_text = section.text.split(\"de\")[-1].strip() if \"de\" in section.text else None\n",
    "        author = author_text.split(\"\\n\")[0] if author_text else None\n",
    "\n",
    "        # Ajouter aux données si titre et auteur sont présents\n",
    "        if title and author:\n",
    "            babelio_data.append([title, author])\n",
    "\n",
    "    # On convertie les données en DataFrame\n",
    "    df_babelio_data = pd.DataFrame(babelio_data, columns=['Titre', 'Auteur'])\n",
    "\n",
    "    # Ajout de la colonne indicatrice \"top_babelio\"\n",
    "    df_babelio_data['top_babelio'] = 1\n",
    "else:\n",
    "    print(\"Erreur dans la requête\")"
   ]
  },
  {
   "cell_type": "markdown",
   "metadata": {},
   "source": [
    "On regarde si tout va bien avec notre dataframe."
   ]
  },
  {
   "cell_type": "code",
   "execution_count": 24,
   "metadata": {},
   "outputs": [
    {
     "name": "stdout",
     "output_type": "stream",
     "text": [
      "                                                Titre                 Auteur  \\\n",
      "0                                  Les Aiguilles dor       Michael McDowell   \n",
      "1                                        Triste tigre            Neige Sinno   \n",
      "2                                     La Petite-Fille       Bernhard Schlink   \n",
      "3       La prochaine fois que tu mordras la poussière       Panayotis Pascot   \n",
      "4                                       Conte de fées           Stephen King   \n",
      "5                                 Un il dans la nuit         Bernard Minier   \n",
      "6                                  Un abri de fortune  fortune d'Agnès Ledig   \n",
      "7                              Trois vies par semaine           Michel Bussi   \n",
      "8   Im not your soulmate, tome 1 : The Perfect Match              Lyla Mars   \n",
      "9                                        Sur la dalle            Fred Vargas   \n",
      "10            Le Bureau d'éclaircissement des destins          Gaëlle Nohant   \n",
      "11  Les Sept Surs, tome 8 : Atlas, l'histoire de ...          Lucinda Riley   \n",
      "12     Seasons, tome 1 : Un automne pour te pardonner      Morgane Moncomble   \n",
      "13                                           L'Enragé         Sorj Chalandon   \n",
      "14                      Ceci n'est pas un fait divers        Philippe Besson   \n",
      "15                                 La Femme de ménage                      n   \n",
      "16                                          La Faille        Franck Thilliez   \n",
      "17                                    Captive, tome 2           Sarah Rivens   \n",
      "18                                      Une belle vie      Virginie Grimaldi   \n",
      "19                            Le Silence et la Colère        Pierre Lemaitre   \n",
      "20                                      À tout jamais         Colleen Hoover   \n",
      "21                                   Veiller sur elle   Jean-Baptiste Andrea   \n",
      "22                        Les Femmes du bout du monde       Mélissa Da Costa   \n",
      "\n",
      "    top_babelio  \n",
      "0             1  \n",
      "1             1  \n",
      "2             1  \n",
      "3             1  \n",
      "4             1  \n",
      "5             1  \n",
      "6             1  \n",
      "7             1  \n",
      "8             1  \n",
      "9             1  \n",
      "10            1  \n",
      "11            1  \n",
      "12            1  \n",
      "13            1  \n",
      "14            1  \n",
      "15            1  \n",
      "16            1  \n",
      "17            1  \n",
      "18            1  \n",
      "19            1  \n",
      "20            1  \n",
      "21            1  \n",
      "22            1  \n"
     ]
    }
   ],
   "source": [
    "print(df_babelio_data)"
   ]
  },
  {
   "cell_type": "markdown",
   "metadata": {},
   "source": [
    "On voit qu'il y a quelques problèmes, mais c'est rapide à corriger à la main"
   ]
  },
  {
   "cell_type": "code",
   "execution_count": 25,
   "metadata": {},
   "outputs": [],
   "source": [
    "df_babelio_data.loc[df_babelio_data['Titre'] == \"Un il dans la nuit\",'Titre'] = 'Un oeil dans la nuit'\n",
    "df_babelio_data.loc[df_babelio_data['Auteur'] == \"fortune d'Agnès Ledig\",'Auteur'] = 'Agnès Ledig'\n",
    "df_babelio_data.loc[df_babelio_data['Titre'] == \"La Femme de ménage\",'Auteur'] = 'Freida McFadden'\n",
    "df_babelio_data.loc[df_babelio_data['Titre'] == \"La Femme de ménage\",'Titre'] = 'La Femme de ménage, tome 1'\n",
    "df_babelio_data.loc[df_babelio_data['Titre'] == \"Les Sept Surs, tome 8 : Atlas, l'histoire de Pa Salt\",'Titre'] = \"Les Sept Soeurs, tome 8 : Atlas, l'histoire de Pa Salt\""
   ]
  },
  {
   "cell_type": "code",
   "execution_count": 26,
   "metadata": {},
   "outputs": [
    {
     "name": "stdout",
     "output_type": "stream",
     "text": [
      "                                                Titre                Auteur  \\\n",
      "0                                  Les Aiguilles dor      Michael McDowell   \n",
      "1                                        Triste tigre           Neige Sinno   \n",
      "2                                     La Petite-Fille      Bernhard Schlink   \n",
      "3       La prochaine fois que tu mordras la poussière      Panayotis Pascot   \n",
      "4                                       Conte de fées          Stephen King   \n",
      "5                                Un oeil dans la nuit        Bernard Minier   \n",
      "6                                  Un abri de fortune           Agnès Ledig   \n",
      "7                              Trois vies par semaine          Michel Bussi   \n",
      "8   Im not your soulmate, tome 1 : The Perfect Match             Lyla Mars   \n",
      "9                                        Sur la dalle           Fred Vargas   \n",
      "10            Le Bureau d'éclaircissement des destins         Gaëlle Nohant   \n",
      "11  Les Sept Soeurs, tome 8 : Atlas, l'histoire de...         Lucinda Riley   \n",
      "12     Seasons, tome 1 : Un automne pour te pardonner     Morgane Moncomble   \n",
      "13                                           L'Enragé        Sorj Chalandon   \n",
      "14                      Ceci n'est pas un fait divers       Philippe Besson   \n",
      "15                         La Femme de ménage, tome 1       Freida McFadden   \n",
      "16                                          La Faille       Franck Thilliez   \n",
      "17                                    Captive, tome 2          Sarah Rivens   \n",
      "18                                      Une belle vie     Virginie Grimaldi   \n",
      "19                            Le Silence et la Colère       Pierre Lemaitre   \n",
      "20                                      À tout jamais        Colleen Hoover   \n",
      "21                                   Veiller sur elle  Jean-Baptiste Andrea   \n",
      "22                        Les Femmes du bout du monde      Mélissa Da Costa   \n",
      "\n",
      "    top_babelio  \n",
      "0             1  \n",
      "1             1  \n",
      "2             1  \n",
      "3             1  \n",
      "4             1  \n",
      "5             1  \n",
      "6             1  \n",
      "7             1  \n",
      "8             1  \n",
      "9             1  \n",
      "10            1  \n",
      "11            1  \n",
      "12            1  \n",
      "13            1  \n",
      "14            1  \n",
      "15            1  \n",
      "16            1  \n",
      "17            1  \n",
      "18            1  \n",
      "19            1  \n",
      "20            1  \n",
      "21            1  \n",
      "22            1  \n"
     ]
    }
   ],
   "source": [
    "print(df_babelio_data)"
   ]
  },
  {
   "cell_type": "markdown",
   "metadata": {},
   "source": [
    "Pour la partie de l'analyse descriptive, il peut être intéressant d'avoir le rang au sein du top des différents ouvrages. Nous l'ajoutons. Pour ce faire, il faut numéroter à l'inverse la base puisque sur la page de Babelio, le classement est décroissant ( le moins populaire du top donné au début et le plus populaire donné à la toute fin)."
   ]
  },
  {
   "cell_type": "code",
   "execution_count": 27,
   "metadata": {},
   "outputs": [],
   "source": [
    "df_babelio_data = df_babelio_data.iloc[::-1]\n",
    "df_babelio_data = df_babelio_data.reset_index(drop=True)"
   ]
  },
  {
   "cell_type": "code",
   "execution_count": 29,
   "metadata": {},
   "outputs": [],
   "source": [
    "#on introduit la variable indiquant le classement\n",
    "df_babelio_data['classement_babelio'] = None  # Initialiser avec None\n",
    "df_babelio_data.loc[df_babelio_data.index <= len(df_babelio_data), 'classement_babelio'] = range(1, len(df_babelio_data) + 1)"
   ]
  },
  {
   "cell_type": "code",
   "execution_count": 30,
   "metadata": {},
   "outputs": [
    {
     "name": "stdout",
     "output_type": "stream",
     "text": [
      "                                                Titre                Auteur  \\\n",
      "0                         Les Femmes du bout du monde      Mélissa Da Costa   \n",
      "1                                    Veiller sur elle  Jean-Baptiste Andrea   \n",
      "2                                       À tout jamais        Colleen Hoover   \n",
      "3                             Le Silence et la Colère       Pierre Lemaitre   \n",
      "4                                       Une belle vie     Virginie Grimaldi   \n",
      "5                                     Captive, tome 2          Sarah Rivens   \n",
      "6                                           La Faille       Franck Thilliez   \n",
      "7                          La Femme de ménage, tome 1       Freida McFadden   \n",
      "8                       Ceci n'est pas un fait divers       Philippe Besson   \n",
      "9                                            L'Enragé        Sorj Chalandon   \n",
      "10     Seasons, tome 1 : Un automne pour te pardonner     Morgane Moncomble   \n",
      "11  Les Sept Soeurs, tome 8 : Atlas, l'histoire de...         Lucinda Riley   \n",
      "12            Le Bureau d'éclaircissement des destins         Gaëlle Nohant   \n",
      "13                                       Sur la dalle           Fred Vargas   \n",
      "14  Im not your soulmate, tome 1 : The Perfect Match             Lyla Mars   \n",
      "15                             Trois vies par semaine          Michel Bussi   \n",
      "16                                 Un abri de fortune           Agnès Ledig   \n",
      "17                               Un oeil dans la nuit        Bernard Minier   \n",
      "18                                      Conte de fées          Stephen King   \n",
      "19      La prochaine fois que tu mordras la poussière      Panayotis Pascot   \n",
      "20                                    La Petite-Fille      Bernhard Schlink   \n",
      "21                                       Triste tigre           Neige Sinno   \n",
      "22                                 Les Aiguilles dor      Michael McDowell   \n",
      "\n",
      "    top_babelio classement_babelio  \n",
      "0             1                  1  \n",
      "1             1                  2  \n",
      "2             1                  3  \n",
      "3             1                  4  \n",
      "4             1                  5  \n",
      "5             1                  6  \n",
      "6             1                  7  \n",
      "7             1                  8  \n",
      "8             1                  9  \n",
      "9             1                 10  \n",
      "10            1                 11  \n",
      "11            1                 12  \n",
      "12            1                 13  \n",
      "13            1                 14  \n",
      "14            1                 15  \n",
      "15            1                 16  \n",
      "16            1                 17  \n",
      "17            1                 18  \n",
      "18            1                 19  \n",
      "19            1                 20  \n",
      "20            1                 21  \n",
      "21            1                 22  \n",
      "22            1                 23  \n"
     ]
    }
   ],
   "source": [
    "print(df_babelio_data)"
   ]
  },
  {
   "cell_type": "markdown",
   "metadata": {},
   "source": [
    "Création du fichier csv pour plus tard merge les bases."
   ]
  },
  {
   "cell_type": "code",
   "execution_count": 31,
   "metadata": {},
   "outputs": [],
   "source": [
    "df_babelio_data.to_csv(\"23_livres_les_plus_lus_babelio.csv\", index=False, encoding=\"utf-8\")"
   ]
  },
  {
   "cell_type": "markdown",
   "metadata": {},
   "source": [
    "Récupération des livres les plus vendus à la Fnac entre janvier et décembre 2023. Nous avons pensé que ce serait pertinent de récupérer les Best sellers afin de diminuer le biais des autres données dont nous possédons ( les personnes fréquentant les bibliothèques de Paris ou inscrivant leurs lectures sur Babelio étant un échantillon très biaisé)."
   ]
  },
  {
   "cell_type": "code",
   "execution_count": 29,
   "metadata": {},
   "outputs": [],
   "source": [
    "def scrape_titles_and_authors(url, month): # cette fonction prend pour argument l'url et le mois\n",
    "    response = requests.get(url)\n",
    "    response.encoding = \"utf-8\"  # pour garantir le bon encodage\n",
    "    data = [] #on crée une liste vide où on va mettre les données scrappées\n",
    "\n",
    "    if response.status_code == 200:  # On vérifie si la requête est un succès\n",
    "        soup = BeautifulSoup(response.text, 'html.parser') #on précie la manière de parcourir le code\n",
    "\n",
    "        # On recherche toutes les balises <h2> avec la classe \"title-part\"\n",
    "        titles = soup.find_all('h2', class_='title-part')\n",
    "        for title in titles:\n",
    "            raw_text = title.text.strip()  # Texte brut pour manipulation\n",
    "\n",
    "            # Debugging : Afficher le texte brut\n",
    "            print(f\"Texte brut extrait : {raw_text}\")\n",
    "\n",
    "            # On fait un regex pour extraire les informations\n",
    "            match = re.match(r'^(\\d+)\\s[–—]\\s(.+?)\\s[–—]\\s(.+?)(?:[,/]\\s(.+?))?\\s\\((.+?)\\)$', raw_text)\n",
    "            if match:\n",
    "                classement = match.group(1).strip()  # Classement\n",
    "                titre = match.group(2).strip()  # Titre\n",
    "                auteur_principal = match.group(3).strip()  # Auteur principal\n",
    "                co_auteur_raw = match.group(4).strip() if match.group(4) else None  # Co-auteur brut (facultatif)\n",
    "                maison_edition = match.group(5).strip()  # Maison d'édition\n",
    "\n",
    "                # Traitement des co-auteurs pour les séparer en liste\n",
    "                co_auteurs = []\n",
    "                if co_auteur_raw:\n",
    "                    co_auteurs = re.split(r',\\s|/\\s', co_auteur_raw)  # Diviser par virgule ou slash\n",
    "\n",
    "                # Ajouter les informations dans la liste (sans maison d'édition)\n",
    "                data.append([month, classement, titre, auteur_principal] + co_auteurs[:2])  # Max 2 co-auteurs\n",
    "    else:\n",
    "        print(f\"Erreur lors du scraping de {month}: Status code {response.status_code}\")\n",
    "\n",
    "    return data"
   ]
  },
  {
   "cell_type": "markdown",
   "metadata": {},
   "source": [
    "Liste des URL à scrapper pour récupérer tous les bestsellers de 2023."
   ]
  },
  {
   "cell_type": "code",
   "execution_count": 30,
   "metadata": {},
   "outputs": [],
   "source": [
    "urls_months = [\n",
    "    (\"https://leclaireur.fnac.com/selection/cp50350-top-10-les-best-sellers-du-mois-de-janvier-2023/\", \"Janvier\"),\n",
    "    (\"https://leclaireur.fnac.com/selection/cp50709-top-10-les-best-sellers-du-mois-de-fevrier-2023/\", \"Février\"),\n",
    "    (\"https://leclaireur.fnac.com/selection/cp43551-top-10-les-best-sellers-de-mars-2023/\", \"Mars\"),\n",
    "    (\"https://leclaireur.fnac.com/selection/cp44047-top-10-les-best-sellers-davril-2023/\", \"Avril\"),\n",
    "    (\"https://leclaireur.fnac.com/selection/cp48182-top-10-les-best-sellers-de-mai-2023/\", \"Mai\"),\n",
    "    (\"https://leclaireur.fnac.com/selection/cp48395-top-10-les-best-sellers-de-juin-2023/\", \"Juin\"),\n",
    "    (\"https://leclaireur.fnac.com/selection/cp40500-top-10-les-best-sellers-de-juillet-2023/\", \"Juillet\"),\n",
    "    (\"https://leclaireur.fnac.com/selection/cp48936-top-10-les-best-sellers-du-mois-daout-2023/\", \"Août\"),\n",
    "    (\"https://leclaireur.fnac.com/selection/cp49107-top-10-les-best-sellers-du-mois-de-septembre-2023/\", \"Septembre\"),\n",
    "    (\"https://leclaireur.fnac.com/selection/cp49482-top-10-les-best-sellers-du-mois-doctobre-2023/\", \"Octobre\"),\n",
    "    (\"https://leclaireur.fnac.com/selection/cp53758-top-10-les-best-sellers-du-mois-de-novembre-2023/\", \"Novembre\"),\n",
    "    (\"https://leclaireur.fnac.com/selection/cp49831-top-10-les-best-sellers-du-mois-de-decembre-2023/\", \"Décembre\"),\n",
    "]"
   ]
  },
  {
   "cell_type": "markdown",
   "metadata": {},
   "source": [
    "On construit notre base de données: "
   ]
  },
  {
   "cell_type": "code",
   "execution_count": 31,
   "metadata": {},
   "outputs": [
    {
     "name": "stdout",
     "output_type": "stream",
     "text": [
      "Scraping pour le mois de Janvier...\n",
      "Texte brut extrait : 1 – Captive, Tome 2 – Sarah Rivens (BMR)\n",
      "Texte brut extrait : 2 – Le Suppléant – Prince Harry (Fayard)\n",
      "Texte brut extrait : 3 – À tout jamais – Colleen Hoover (Hugo Roman)\n",
      "Texte brut extrait : 4 – Le Silence et la colère – Pierre Lemaitre (Calmann Lévy)\n",
      "Texte brut extrait : 5 – Le Monde sans fin, miracle énergétique et dérive climatique – Christophe Blain, Jean-Marc Jancovici (Dargaud)\n",
      "Texte brut extrait : 6 – Captive, Tome 1 – Sarah Rivens (BMR)\n",
      "Texte brut extrait : 7 – Plus jamais sans moi – Maud Ankaoua (Eyrolles)\n",
      "Texte brut extrait : 8 – Captive, Tome 1.5 : Perfectly Wrong – Sarah Rivens (BMR)\n",
      "Texte brut extrait : 9 – Le Mage du Kremlin – Giuliano Da Empoli (Gallimard)\n",
      "Texte brut extrait : 10 – Kaamelott, Tome 10, Karadoc Et L’Icosaèdre – Steven Dupré, Alexandre Astier (Casterman)\n",
      "Texte brut extrait : Partagez vos coups de cœur sur le Forum des Lecteurs\n",
      "Scraping pour le mois de Février...\n"
     ]
    },
    {
     "name": "stdout",
     "output_type": "stream",
     "text": [
      "Texte brut extrait : 1 – À tout jamais – Colleen Hoover (Hugo Roman)\n",
      "Texte brut extrait : 2 – Astérix, Hors collection : L’Empire du milieu – Fabrice Tarrin / Olivier Gay (Albert René)\n",
      "Texte brut extrait : 3 – Captive, Tome 2 – Sarah Rivens (BMR)\n",
      "Texte brut extrait : 4 – Le Monde sans fin, miracle énergétique et dérive climatique – Christophe Blain / Jean-Marc Jancovici (Dargaud)\n",
      "Texte brut extrait : 5 – Connaissance illimitée – Mohamed Boclet (Robert Laffont)\n",
      "Texte brut extrait : 6 – Le Silence et la colère – Pierre Lemaitre (Calmann Lévy)\n",
      "Texte brut extrait : 7 – Le Mage du Kremlin – Giuliano Da Empoli (Gallimard)\n",
      "Texte brut extrait : 8 – La Nuit où les étoiles ses sont éteintes, Tome 1 – Nine Gorman / Marie Alhinho (Albin Michel jeunesse)\n",
      "Texte brut extrait : 9 – Le Suppléant – Prince Harry (Fayard)\n",
      "Texte brut extrait : 10 – Plus jamais sans moi – Maud Ankaoua (Eyrolles)\n",
      "Texte brut extrait : Partagez vos coups de cœur sur le Forum des Lecteurs\n",
      "Scraping pour le mois de Mars...\n",
      "Texte brut extrait : 1 – Blake et Mortimer – Avant Blake et Mortimer T2 : La Flèche ardente – Van Hamme / Cailleaux / Schréder (Blake Et Mortimer)\n",
      "Texte brut extrait : 2 – Captive T1 – Sarah Rivens (BMR)\n",
      "Texte brut extrait : 3 – À tout jamais – Colleen Hoover (Hugo Roman)\n",
      "Texte brut extrait : 4 – Le Monde sans fin, miracle énergétique et dérive climatique – Christophe Blain / Jean-Marc Jancovici (Dargaud)\n",
      "Texte brut extrait : 5 – Les Femmes du bout du monde – Mélissa Da Costa (Calmann Lévy)\n",
      "Texte brut extrait : 6 – Trois vies par semaine – Michel Bussi (Presses de la cité)\n",
      "Texte brut extrait : 7 – Les Éclats – Bret Easton Ellis (Robert Laffont)\n",
      "Texte brut extrait : 8 – Astérix – Hors collection : L’Empire du milieu – Fabrice Tarrin / Olivier Gay (Albert René)\n",
      "Texte brut extrait : 9 – La Nuit où les étoiles ses sont éteintes T1 – Nine Gorman / Marie Alhinho (Albin Michel jeunesse)\n",
      "Texte brut extrait : 10 – L’envol – Aurélie Valognes (Fayard)\n",
      "Texte brut extrait : Partagez vos coups de cœur sur le Forum des Lecteurs\n",
      "Scraping pour le mois de Avril...\n",
      "Texte brut extrait : 1 – Elles, Tome 3 : Plurielle(s) – Kid Toussaint, Aveline Stokart (Le Lombard)\n",
      "Texte brut extrait : 2 – La Mariée portait des bottes jaunes – Katherine Pancol (Albin Michel)\n",
      "Texte brut extrait : 3 – Les Pierres du cauchemar, Tome 2 – Dooms, Sora, Dreamy (Glénat)\n",
      "Texte brut extrait : 4 – Pagny par Florent – Florent Pagny (Fayard)\n",
      "Texte brut extrait : 5 – Le Défi de Jérusalem – Éric-Emmanuel Schmitt (Albin Michel)\n",
      "Texte brut extrait : 6 – Captive, Tome 1 –Sarah Rivens (BMR)\n",
      "Texte brut extrait : 7 – Un œil dans la nuit – Bernard Minier (XO)\n",
      "Texte brut extrait : 8 – Conte de fées – Stephen King (Albin Michel)\n",
      "Texte brut extrait : 9 – À tout jamais – Colleen Hoover (Hugo Roman)\n",
      "Texte brut extrait : 10 – Mortelle Adèle : Le Journal des bizarres – Mr Tan, Diane Le Feyer (Mr Tan & co)\n",
      "Texte brut extrait : Partagez vos coups de cœur sur le Forum des Lecteurs\n",
      "Scraping pour le mois de Mai...\n",
      "Texte brut extrait : 1 – Les Enquêtes d’Adamsberg : Sur la dalle – Fred Vargas (Flammarion)\n",
      "Texte brut extrait : 2 – Les Cahiers d’Esther, Tome 8 : Histoires de mes 17 ans – Riad Sattouf (Allary)\n",
      "Texte brut extrait : 3 – Une belle vie – Virginie Grimaldi (Flammarion)\n",
      "Texte brut extrait : 4 – La Faille – Franck Thilliez (Fleuve)\n",
      "Texte brut extrait : 5 – Pagny par Florent – Florent Pagny (Fayard)\n",
      "Texte brut extrait : 6 – Les sept sœurs : Atlas, l’histoire de Pa Salt – Lucinda Riley (Charleston)\n",
      "Texte brut extrait : 7 – La Mariée portait des bottes jaunes – Katherine Pancol (Albin Michel)\n",
      "Texte brut extrait : 8 – Rouge Karma – Jean-Christophe Grangé (Albin Michel)\n",
      "Texte brut extrait : 9 – Le Culte – Camilla Läckberg, Henrik Fexeus (Actes sud)\n",
      "Texte brut extrait : 10 – À tout jamais – Colleen Hoover (Hugo Roman)\n",
      "Texte brut extrait : Retrouvez tout l’actualité Livre sur Fnac.com\n",
      "Texte brut extrait : Partagez vos coups de cœur sur le Forum des Lecteurs\n",
      "Scraping pour le mois de Juin...\n",
      "Texte brut extrait : 1 – Les Enquêtes d’Adamsberg : Sur la dalle – Fred Vargas (Flammarion)\n",
      "Texte brut extrait : 2 – Les Cahiers d’Esther, Tome8 : Histoires de mes 17 ans – Riad Sattouf (Allary)\n",
      "Texte brut extrait : 3 – Bleak – 3 histoires d’horreur, Volume 2 – Squeezie (Link Digital)\n",
      "Texte brut extrait : 4 – Une belle vie – Virginie Grimaldi (Flammarion)\n",
      "Texte brut extrait : 5 – À tout jamais – Colleen Hoover (Hugo Roman)\n",
      "Texte brut extrait : 6 – Mortelle Adèle, Tome 4 : V.I.B – Mr Tan, Diane Le Feyer (Mr Tan & co)\n",
      "Texte brut extrait : 7 – La Faille – Franck Thilliez (Fleuve)\n",
      "Texte brut extrait : 8 – Elles, Tome 3 : Plurielle(s) – Kid Toussaint, Aveline Stokart (Le Lombard)\n",
      "Texte brut extrait : 9 – The Devil’s Sons, Tome 2 – Chloé Wallerand (Plumes du web)\n",
      "Texte brut extrait : 10 – Captive, Tome 2 – Sarah Rivens (Hlab)\n",
      "Texte brut extrait : Partagez vos coups de cœur sur le Forum des Lecteurs\n",
      "Scraping pour le mois de Juillet...\n",
      "Texte brut extrait : 1 – Les Enquêtes d’Adamsberg : Sur la dalle – Fred Vargas (Flammarion)\n",
      "Texte brut extrait : 2 – Fallen Angel – Camille Creati  (Hlab)\n",
      "Texte brut extrait : 3 – Captive, Tome 1 – Sarah Rivens (Hlab)\n",
      "Texte brut extrait : 4 – Son odeur après la pluie – Cédric Sapin-Dufour (Stock)\n",
      "Texte brut extrait : 5 – À tout jamais – Colleen Hoover (Hugo Roman)\n",
      "Texte brut extrait : 6 – Une belle vie – Virginie Grimaldi (Flammarion)\n",
      "Texte brut extrait : 7 – À Contre-Sens, Tome 1 et Tome 2 – Mercedes Ron (Hachette Romans)\n",
      "Texte brut extrait : 8 – La Faille – Franck Thilliez (Fleuve)\n",
      "Texte brut extrait : 9 – Beyond The Story, 10 ans de souvenirs de BTS – Bangtang Boys (Seuil)\n",
      "Texte brut extrait : 10 – Bleak, 3 histoires d’horreur Volume 2 – Squeezie (Link Digital)\n",
      "Texte brut extrait : Partagez vos coups de cœur sur le Forum des Lecteurs\n",
      "Scraping pour le mois de Août...\n",
      "Texte brut extrait : 1 – Psychopompe – Amélie Nothomb (Albin Michel)\n",
      "Texte brut extrait : 2 – La prochaine fois que tu mordras la poussière – Panayotis Pascot (Stock)\n",
      "Texte brut extrait : 3 – Le Jeu des tricheurs – Anita Rigins (Hugo Romans)\n",
      "Texte brut extrait : 4 – Son odeur après la pluie – Cédric Sapin-Defour (Stock)\n",
      "Texte brut extrait : 5 – Le Monde sans fin, miracle énergétique et dérive climatique – Christophe Blain, Jean-Marc Jancovici (Dargaud)\n",
      "Texte brut extrait : 6 – Icebreaker – Hannah Grace (Hlab)\n",
      "Texte brut extrait : 7 – Mon budget sur pilote automatique, Le Carnet – Maeva Derby (Alisio)\n",
      "Texte brut extrait : 8 – Captive, Tome 1 – Sarah Rivens (Hlab)\n",
      "Texte brut extrait : 9 – Fallen Angel – Camille Creati (Hlab)\n",
      "Texte brut extrait : 10 – À tout jamais – Colleen Hoover (Hugo Roman)\n",
      "Texte brut extrait : Partagez vos coups de cœur sur le Forum des Lecteurs\n",
      "Scraping pour le mois de Septembre...\n",
      "Texte brut extrait : 1 – Les 4 Saisons, Tome 1 : Un automne pour te pardonner – Morgane Moncomble (Hugo Roman)\n",
      "Texte brut extrait : 2 – La prochaine fois que tu mordras la poussière – Panayotis Pascot (Stock)\n",
      "Texte brut extrait : 3 – L’Homme des Mille Détours – Agnès Martin-Lugand (Michel Lafon)\n",
      "Texte brut extrait : 4 – Solo Leveling, Tome 11 – Chugong / Dubu (Kbooks)\n",
      "Texte brut extrait : 5 – Le Nom de la rose, Tome 1 – Milo Manara / Umberto Eco (Glénat)\n",
      "Texte brut extrait : 6 – Adieu Birkenau – Ginette Kolinka (Albin Michel)\n",
      "Texte brut extrait : 7 – Veiller sur elle – Jean-Baptiste Andrea (L’Iconoclaste)\n",
      "Texte brut extrait : 8 – Bellatrix, Tome 1 – Léo (Dargaud)\n",
      "Texte brut extrait : 9 – Happy Hours – Anna RVR  (Hachette Pratique)\n",
      "Texte brut extrait : 10 – Psychopompe – Amélie Nothomb (Albin Michel)\n",
      "Texte brut extrait : Partagez vos coups de cœur sur le Forum des Lecteurs\n",
      "Scraping pour le mois de Octobre...\n",
      "Texte brut extrait : 1 – Astérix, Tome 40 : L’Iris blanc – Didier Conrad, Fabcaro (Albert René)\n",
      "Texte brut extrait : 2 – Blake & Mortimer : L’Art de la guerre – Floc’h, Jean-Luc Fromental, José-Luis Bocquet (Blake et Mortimer)\n",
      "Texte brut extrait : 3 – Le Voyage de Shuna – Hayao Miyazaki (Sarbacane)\n",
      "Texte brut extrait : 4 – Blacksad, Tome 7 : Alors, tout tombe (seconde partie) – Juan Diaz Canalès, Juanjo Guarnido (Dargaud)\n",
      "Texte brut extrait : 5 – Mortelle Adèle, Tome 20 : J’apocalypse grave ! – Mr Tan, Diane Le Feyer (Mr Tan & co)\n",
      "Texte brut extrait : 6 – Twisted, Tome 1 : Twisted Love – Ana Huang (Hugo Roman)\n",
      "Texte brut extrait : 7 – Les 4 Saisons, Tome 1 : Un automne pour te pardonner – Morgane Moncomble (Hugo Roman)\n",
      "Texte brut extrait : 8 – La prochaine fois que tu mordras la poussière – Panayotis Pascot (Stock)\n",
      "Texte brut extrait : 9 – La Mort n’existe pas – Stéphane Allix (Harpercollins)\n",
      "Texte brut extrait : 10 – La Femme en moi – Britney Spears (JC Lattès)\n",
      "Texte brut extrait : Partagez vos coups de cœur sur le Forum des Lecteurs\n",
      "Scraping pour le mois de Novembre...\n",
      "Texte brut extrait : 1 – Gaston Lagaffe, Tome 22 : Le retour de Lagaffe – Delaf, Franquin (Dupuis)\n",
      "Texte brut extrait : 2 – Astérix Tome 40 : L’Iris blanc – Didier Conrad, Fabcaro (Albert René)\n",
      "Texte brut extrait : 3 – Veiller sur elle – Jean-Baptiste Andrea (L’Iconoclaste)\n",
      "Texte brut extrait : 4 – Histoire de Jérusalem – Vincent Lemire, Christophe Gaultier (Les Arènes)\n",
      "Texte brut extrait : 5 – Triste tigre – Neige Sinno (P.O.L)\n",
      "Texte brut extrait : 6 – Le Voyage de Shuna – Hayao Miyazaki (Sarbacane)\n",
      "Texte brut extrait : 7 – Largo Winch, Tome 24 : Le Centile d’or – Giacometti, Francq (Dupuis)\n",
      "Texte brut extrait : 8 – Blacksad, Tome 7 : Alors, tout tombe (seconde partie) – Juan Diaz Canalès, Juanjo Guarnido (Dargaud)\n",
      "Texte brut extrait : 9 – Lou, Tome 2 : Sonata  – Julien Neel, Carole Neel  (Glénat)\n",
      "Texte brut extrait : 10 – Ma vie sans gravité – Thomas Pesquet (Flammarion)\n",
      "Texte brut extrait : Partagez vos coups de cœur sur le Forum des Lecteurs\n",
      "Scraping pour le mois de Décembre...\n",
      "Texte brut extrait : 1 – Astérix, Tome 40 : L’Iris blanc – Didier Conrad / Fabcaro (Albert René)\n",
      "Texte brut extrait : 2 – Gaston Lagaffe, Tome 22 : Le retour de Lagaffe – Delaf / Franquin (Dupuis)\n",
      "Texte brut extrait : 3 – Veiller sur elle – Jean-Baptiste Andrea (L’Iconoclaste)\n",
      "Texte brut extrait : 4 – Histoire de Jérusalem – Vincent Lemire / Christophe Gaultier (Les Arènes)\n",
      "Texte brut extrait : 5 – Son odeur après la pluie – Cédric Sapin-Defour (Stock)\n",
      "Texte brut extrait : 6 – Mortelle Adèle et les reliques du chat lune, Tome 4 – Mr Tan / Olivier Bonnassies (Mr Tan & co)\n",
      "Texte brut extrait : 7 – Triste tigre – Neige Sinno (P.O.L)\n",
      "Texte brut extrait : 8 – Twisted, Tome 1 : Twisted Love – Ana Huang (Hugo Roman)\n",
      "Texte brut extrait : 9 – Lou ! Sonata, Tome 2 – Julien Neel / Carole Neel  (Glénat)\n",
      "Texte brut extrait : 10 – La prochaine fois que tu mordras la poussière – Panayotis Pascot (Stock)\n",
      "Texte brut extrait : Partagez vos coups de cœur sur le Forum des Lecteurs\n"
     ]
    }
   ],
   "source": [
    "# On initialise la liste pour toutes les données\n",
    "top_data_2023 = []\n",
    "\n",
    "# On scrape chaque URL\n",
    "for url, month in urls_months:\n",
    "    print(f\"Scraping pour le mois de {month}...\")\n",
    "    month_data = scrape_titles_and_authors(url, month)\n",
    "    top_data_2023.extend(month_data)\n",
    "\n",
    "# Conversion des données en DataFrame pandas\n",
    "df_top_books_2023 = pd.DataFrame(top_data_2023, columns=[\"Mois\", \"Classement\", \"Titre\", \"Auteur\", \"Co_auteur1\", \"Co_auteur2\"])\n",
    "\n",
    "# Création de la variable indicatrice \"top_fnac_1\" (tous les livres ont un classement)\n",
    "df_top_books_2023['top_fnac_1'] = 1\n",
    "\n",
    "# Comptage des occurrences des livres pour créer \"top_fnac_2_plus\"\n",
    "counts = df_top_books_2023['Titre'].value_counts()\n",
    "df_top_books_2023['top_fnac_2_plus'] = df_top_books_2023['Titre'].apply(lambda x: 1 if counts[x] > 1 else 0)\n",
    "\n",
    "# Suppression des colonnes \"Mois\" et \"Classement\", et suppression des doublons\n",
    "df_top_books_2023 = df_top_books_2023.drop(columns=[\"Mois\", \"Classement\"]).drop_duplicates(subset=['Titre'])"
   ]
  },
  {
   "cell_type": "markdown",
   "metadata": {},
   "source": [
    "On affiche le dataframe pour vérifier qu'il n'y a pas de problèmes"
   ]
  },
  {
   "cell_type": "code",
   "execution_count": 32,
   "metadata": {},
   "outputs": [
    {
     "name": "stdout",
     "output_type": "stream",
     "text": [
      "                                                 Titre            Auteur  \\\n",
      "0                                      Captive, Tome 2      Sarah Rivens   \n",
      "1                                         Le Suppléant      Prince Harry   \n",
      "2                                        À tout jamais    Colleen Hoover   \n",
      "3                              Le Silence et la colère   Pierre Lemaitre   \n",
      "4    Le Monde sans fin, miracle énergétique et déri...  Christophe Blain   \n",
      "..                                                 ...               ...   \n",
      "105             Largo Winch, Tome 24 : Le Centile d’or        Giacometti   \n",
      "107                               Lou, Tome 2 : Sonata       Julien Neel   \n",
      "108                                Ma vie sans gravité    Thomas Pesquet   \n",
      "114  Mortelle Adèle et les reliques du chat lune, T...            Mr Tan   \n",
      "117                               Lou ! Sonata, Tome 2       Julien Neel   \n",
      "\n",
      "              Co_auteur1 Co_auteur2  top_fnac_1  top_fnac_2_plus  \n",
      "0                   None       None           1                1  \n",
      "1                   None       None           1                1  \n",
      "2                   None       None           1                1  \n",
      "3                   None       None           1                1  \n",
      "4    Jean-Marc Jancovici       None           1                1  \n",
      "..                   ...        ...         ...              ...  \n",
      "105               Francq       None           1                0  \n",
      "107          Carole Neel       None           1                0  \n",
      "108                 None       None           1                0  \n",
      "114   Olivier Bonnassies       None           1                0  \n",
      "117          Carole Neel       None           1                0  \n",
      "\n",
      "[76 rows x 6 columns]\n"
     ]
    }
   ],
   "source": [
    "print(df_top_books_2023)"
   ]
  },
  {
   "cell_type": "markdown",
   "metadata": {},
   "source": [
    "On corrige les quelques incohérences à la main"
   ]
  },
  {
   "cell_type": "code",
   "execution_count": 33,
   "metadata": {},
   "outputs": [],
   "source": [
    "df_top_books_2023.loc[df_top_books_2023['Auteur'] == \"Hors collection : L’Empire du milieu – Fabrice Tarrin\",['Titre', 'Auteur']] = ['Astérix, Hors collection : L’Empire du milieu', \"Fabrice Tarrin\"]\n",
    "df_top_books_2023.loc[df_top_books_2023['Auteur'] == \"Blake et Mortimer,Avant Blake et Mortimer T2 : La Flèche ardente – Van Hamme\",['Titre', 'Auteur']] = ['Blake et Mortimer, Avant Blake et Mortimer, Tome 2 : La Flèche ardente', \"Van Hamme\"]\n",
    "df_top_books_2023.loc[df_top_books_2023['Auteur'] == \"Avant Blake et Mortimer T2 : La Flèche ardente – Van Hamme\",['Titre', 'Auteur']] = ['Blake et Mortimer, Avant Blake et Mortimer, Tome 2 : La Flèche ardente', \"Van Hamme\"]\n",
    "df_top_books_2023.loc[df_top_books_2023['Titre'] == \"Bleak\",['Titre', 'Auteur', 'Co_auteur1']] = ['Bleak,3 histoires d’horreur,Volume 2', \"Squeezie\", None]\n",
    "df_top_books_2023.loc[df_top_books_2023['Titre'] == \"La Nuit où les étoiles ses sont éteintes\",'Titre'] = 'La Nuit où les étoiles se sont éteintes'\n",
    "df_top_books_2023.loc[df_top_books_2023['Titre'] == \"Un œil dans la nuit\",'Titre'] = 'Un oeil dans la nuit'"
   ]
  },
  {
   "cell_type": "markdown",
   "metadata": {},
   "source": [
    "Maintenant, pour harmoniser cette base et rendre plus simple le merge, nous avons voulu mettre tous les auteurs dans la colonne Auteur et enlever les colonnes de co-auteurs"
   ]
  },
  {
   "cell_type": "code",
   "execution_count": 34,
   "metadata": {},
   "outputs": [],
   "source": [
    "def column_author(row):\n",
    "    if row['Co_auteur1'] is not None and row['Co_auteur2'] is not None:\n",
    "        author= row['Auteur'] + ', '+ row['Co_auteur1'] + ', '+ row['Co_auteur2']\n",
    "    elif row['Co_auteur1'] is not None and row['Co_auteur2'] is None:\n",
    "        author= row['Auteur'] + ', '+ row['Co_auteur1']\n",
    "    else:\n",
    "        author = row['Auteur']\n",
    "    return author"
   ]
  },
  {
   "cell_type": "code",
   "execution_count": 35,
   "metadata": {},
   "outputs": [],
   "source": [
    "df_top_books_2023['Auteur'] = df_top_books_2023.apply(column_author, axis=1)"
   ]
  },
  {
   "cell_type": "markdown",
   "metadata": {},
   "source": [
    "On vérifie que cela a bien marché"
   ]
  },
  {
   "cell_type": "code",
   "execution_count": 36,
   "metadata": {},
   "outputs": [
    {
     "data": {
      "text/html": [
       "<div>\n",
       "<style scoped>\n",
       "    .dataframe tbody tr th:only-of-type {\n",
       "        vertical-align: middle;\n",
       "    }\n",
       "\n",
       "    .dataframe tbody tr th {\n",
       "        vertical-align: top;\n",
       "    }\n",
       "\n",
       "    .dataframe thead th {\n",
       "        text-align: right;\n",
       "    }\n",
       "</style>\n",
       "<table border=\"1\" class=\"dataframe\">\n",
       "  <thead>\n",
       "    <tr style=\"text-align: right;\">\n",
       "      <th></th>\n",
       "      <th>Titre</th>\n",
       "      <th>Auteur</th>\n",
       "      <th>Co_auteur1</th>\n",
       "      <th>Co_auteur2</th>\n",
       "      <th>top_fnac_1</th>\n",
       "      <th>top_fnac_2_plus</th>\n",
       "    </tr>\n",
       "  </thead>\n",
       "  <tbody>\n",
       "    <tr>\n",
       "      <th>0</th>\n",
       "      <td>Captive, Tome 2</td>\n",
       "      <td>Sarah Rivens</td>\n",
       "      <td>None</td>\n",
       "      <td>None</td>\n",
       "      <td>1</td>\n",
       "      <td>1</td>\n",
       "    </tr>\n",
       "    <tr>\n",
       "      <th>1</th>\n",
       "      <td>Le Suppléant</td>\n",
       "      <td>Prince Harry</td>\n",
       "      <td>None</td>\n",
       "      <td>None</td>\n",
       "      <td>1</td>\n",
       "      <td>1</td>\n",
       "    </tr>\n",
       "    <tr>\n",
       "      <th>2</th>\n",
       "      <td>À tout jamais</td>\n",
       "      <td>Colleen Hoover</td>\n",
       "      <td>None</td>\n",
       "      <td>None</td>\n",
       "      <td>1</td>\n",
       "      <td>1</td>\n",
       "    </tr>\n",
       "    <tr>\n",
       "      <th>3</th>\n",
       "      <td>Le Silence et la colère</td>\n",
       "      <td>Pierre Lemaitre</td>\n",
       "      <td>None</td>\n",
       "      <td>None</td>\n",
       "      <td>1</td>\n",
       "      <td>1</td>\n",
       "    </tr>\n",
       "    <tr>\n",
       "      <th>4</th>\n",
       "      <td>Le Monde sans fin, miracle énergétique et déri...</td>\n",
       "      <td>Christophe Blain, Jean-Marc Jancovici</td>\n",
       "      <td>Jean-Marc Jancovici</td>\n",
       "      <td>None</td>\n",
       "      <td>1</td>\n",
       "      <td>1</td>\n",
       "    </tr>\n",
       "    <tr>\n",
       "      <th>5</th>\n",
       "      <td>Captive, Tome 1</td>\n",
       "      <td>Sarah Rivens</td>\n",
       "      <td>None</td>\n",
       "      <td>None</td>\n",
       "      <td>1</td>\n",
       "      <td>1</td>\n",
       "    </tr>\n",
       "    <tr>\n",
       "      <th>6</th>\n",
       "      <td>Plus jamais sans moi</td>\n",
       "      <td>Maud Ankaoua</td>\n",
       "      <td>None</td>\n",
       "      <td>None</td>\n",
       "      <td>1</td>\n",
       "      <td>1</td>\n",
       "    </tr>\n",
       "    <tr>\n",
       "      <th>7</th>\n",
       "      <td>Captive, Tome 1.5 : Perfectly Wrong</td>\n",
       "      <td>Sarah Rivens</td>\n",
       "      <td>None</td>\n",
       "      <td>None</td>\n",
       "      <td>1</td>\n",
       "      <td>0</td>\n",
       "    </tr>\n",
       "    <tr>\n",
       "      <th>8</th>\n",
       "      <td>Le Mage du Kremlin</td>\n",
       "      <td>Giuliano Da Empoli</td>\n",
       "      <td>None</td>\n",
       "      <td>None</td>\n",
       "      <td>1</td>\n",
       "      <td>1</td>\n",
       "    </tr>\n",
       "    <tr>\n",
       "      <th>9</th>\n",
       "      <td>Kaamelott, Tome 10, Karadoc Et L’Icosaèdre</td>\n",
       "      <td>Steven Dupré, Alexandre Astier</td>\n",
       "      <td>Alexandre Astier</td>\n",
       "      <td>None</td>\n",
       "      <td>1</td>\n",
       "      <td>0</td>\n",
       "    </tr>\n",
       "  </tbody>\n",
       "</table>\n",
       "</div>"
      ],
      "text/plain": [
       "                                               Titre  \\\n",
       "0                                    Captive, Tome 2   \n",
       "1                                       Le Suppléant   \n",
       "2                                      À tout jamais   \n",
       "3                            Le Silence et la colère   \n",
       "4  Le Monde sans fin, miracle énergétique et déri...   \n",
       "5                                    Captive, Tome 1   \n",
       "6                               Plus jamais sans moi   \n",
       "7                Captive, Tome 1.5 : Perfectly Wrong   \n",
       "8                                 Le Mage du Kremlin   \n",
       "9         Kaamelott, Tome 10, Karadoc Et L’Icosaèdre   \n",
       "\n",
       "                                  Auteur           Co_auteur1 Co_auteur2  \\\n",
       "0                           Sarah Rivens                 None       None   \n",
       "1                           Prince Harry                 None       None   \n",
       "2                         Colleen Hoover                 None       None   \n",
       "3                        Pierre Lemaitre                 None       None   \n",
       "4  Christophe Blain, Jean-Marc Jancovici  Jean-Marc Jancovici       None   \n",
       "5                           Sarah Rivens                 None       None   \n",
       "6                           Maud Ankaoua                 None       None   \n",
       "7                           Sarah Rivens                 None       None   \n",
       "8                     Giuliano Da Empoli                 None       None   \n",
       "9         Steven Dupré, Alexandre Astier     Alexandre Astier       None   \n",
       "\n",
       "   top_fnac_1  top_fnac_2_plus  \n",
       "0           1                1  \n",
       "1           1                1  \n",
       "2           1                1  \n",
       "3           1                1  \n",
       "4           1                1  \n",
       "5           1                1  \n",
       "6           1                1  \n",
       "7           1                0  \n",
       "8           1                1  \n",
       "9           1                0  "
      ]
     },
     "execution_count": 36,
     "metadata": {},
     "output_type": "execute_result"
    }
   ],
   "source": [
    "df_top_books_2023.head(10)"
   ]
  },
  {
   "cell_type": "markdown",
   "metadata": {},
   "source": [
    "On peut donc maintenant enlever les colonnes indésirables."
   ]
  },
  {
   "cell_type": "code",
   "execution_count": 37,
   "metadata": {},
   "outputs": [],
   "source": [
    "df_top_books_2023 = df_top_books_2023.drop(columns=['Co_auteur1', 'Co_auteur2'])"
   ]
  },
  {
   "cell_type": "code",
   "execution_count": 38,
   "metadata": {},
   "outputs": [
    {
     "data": {
      "text/html": [
       "<div>\n",
       "<style scoped>\n",
       "    .dataframe tbody tr th:only-of-type {\n",
       "        vertical-align: middle;\n",
       "    }\n",
       "\n",
       "    .dataframe tbody tr th {\n",
       "        vertical-align: top;\n",
       "    }\n",
       "\n",
       "    .dataframe thead th {\n",
       "        text-align: right;\n",
       "    }\n",
       "</style>\n",
       "<table border=\"1\" class=\"dataframe\">\n",
       "  <thead>\n",
       "    <tr style=\"text-align: right;\">\n",
       "      <th></th>\n",
       "      <th>Titre</th>\n",
       "      <th>Auteur</th>\n",
       "      <th>top_fnac_1</th>\n",
       "      <th>top_fnac_2_plus</th>\n",
       "    </tr>\n",
       "  </thead>\n",
       "  <tbody>\n",
       "    <tr>\n",
       "      <th>0</th>\n",
       "      <td>Captive, Tome 2</td>\n",
       "      <td>Sarah Rivens</td>\n",
       "      <td>1</td>\n",
       "      <td>1</td>\n",
       "    </tr>\n",
       "    <tr>\n",
       "      <th>1</th>\n",
       "      <td>Le Suppléant</td>\n",
       "      <td>Prince Harry</td>\n",
       "      <td>1</td>\n",
       "      <td>1</td>\n",
       "    </tr>\n",
       "    <tr>\n",
       "      <th>2</th>\n",
       "      <td>À tout jamais</td>\n",
       "      <td>Colleen Hoover</td>\n",
       "      <td>1</td>\n",
       "      <td>1</td>\n",
       "    </tr>\n",
       "    <tr>\n",
       "      <th>3</th>\n",
       "      <td>Le Silence et la colère</td>\n",
       "      <td>Pierre Lemaitre</td>\n",
       "      <td>1</td>\n",
       "      <td>1</td>\n",
       "    </tr>\n",
       "    <tr>\n",
       "      <th>4</th>\n",
       "      <td>Le Monde sans fin, miracle énergétique et déri...</td>\n",
       "      <td>Christophe Blain, Jean-Marc Jancovici</td>\n",
       "      <td>1</td>\n",
       "      <td>1</td>\n",
       "    </tr>\n",
       "  </tbody>\n",
       "</table>\n",
       "</div>"
      ],
      "text/plain": [
       "                                               Titre  \\\n",
       "0                                    Captive, Tome 2   \n",
       "1                                       Le Suppléant   \n",
       "2                                      À tout jamais   \n",
       "3                            Le Silence et la colère   \n",
       "4  Le Monde sans fin, miracle énergétique et déri...   \n",
       "\n",
       "                                  Auteur  top_fnac_1  top_fnac_2_plus  \n",
       "0                           Sarah Rivens           1                1  \n",
       "1                           Prince Harry           1                1  \n",
       "2                         Colleen Hoover           1                1  \n",
       "3                        Pierre Lemaitre           1                1  \n",
       "4  Christophe Blain, Jean-Marc Jancovici           1                1  "
      ]
     },
     "execution_count": 38,
     "metadata": {},
     "output_type": "execute_result"
    }
   ],
   "source": [
    "df_top_books_2023.head(5)"
   ]
  },
  {
   "cell_type": "markdown",
   "metadata": {},
   "source": [
    "Enfin, on enlève désormais les doublons."
   ]
  },
  {
   "cell_type": "code",
   "execution_count": 39,
   "metadata": {},
   "outputs": [],
   "source": [
    "df_top_books_2023 = df_top_books_2023.drop_duplicates(subset=['Titre'])"
   ]
  },
  {
   "cell_type": "markdown",
   "metadata": {},
   "source": [
    "Certains titres ne sont pas enregistrés avec la même syntaxe ce qui crée des doublons d'une part et risque de gêner la fusion de tables par la suite. Nous allons rétablir la bonne syntaxe Titre, tome numéro: titre. Dans le cas ou le titre est présent deux fois on supprime la mauvais syntaxe et on s'assure que la variable binaire top_fnac_2_plus vaux 1. "
   ]
  },
  {
   "cell_type": "code",
   "execution_count": 40,
   "metadata": {},
   "outputs": [],
   "source": [
    "# On supprime les lignes où \"Titre\" correspond à certaines valeurs pour ceux qui sont des doublons\n",
    "valeurs_a_supprimer = [\n",
    "    \"Captive T1\",\n",
    "    \"Astérix\",\n",
    "    \"Astérix Tome 40 : L’Iris blanc\",\n",
    "    \"Lou, Tome 2 : Sonata\",\n",
    "    \"La Nuit où les étoiles ses sont éteintes T1\",\n",
    "    \"Bleak, 3 histoires d’horreur Volume 2\",\n",
    "    \"Elles, Tome 3 : Plurielle(s)\",\"Kid Toussaint, Aveline Stokart\"\n",
    "]\n",
    "\n",
    "# On  sélectionne toutes les lignes du DataFrame où la colonne 'Titre' ne correspond pas à l'une des valeurs de valeurs_a_supprimer \n",
    "df_top_books_2023 = df_top_books_2023[~df_top_books_2023['Titre'].isin(valeurs_a_supprimer)] # '~' permet d'inverser la condition, et 'isin' vérifie si une valeur se trouve dans la liste valeurs_a_supprimer\n",
    "\n",
    "\n",
    "# On met la variable top_fnac_2_plus à 1 pour les titres qu'on a supprimé car ils étaient bien présent deux fois\n",
    "valeurs_a_mettre_a_1 = [\n",
    "    \"Captive, Tome 1\",\n",
    "    \"Astérix, Hors collection : L’Empire du milieu\",\n",
    "    \"Astérix, Tome 40 : L’Iris blanc\",\n",
    "    \"Lou ! Sonata, Tome 2\",\n",
    "    \"La Nuit où les étoiles ses sont éteintes, Tome 1\",\n",
    "    \"Bleak, 3 histoires d’horreur,Volume 2\",\n",
    "    \"Elles, Tome 3 : Plurielle(s)\",\"Kid Toussaint, Aveline Stokart\"\n",
    "]\n",
    "\n",
    "df_top_books_2023.loc[\n",
    "    df_top_books_2023['Titre'].isin(valeurs_a_mettre_a_1), 'top_fnac_2_plus'\n",
    "] = 1\n",
    "\n",
    "# On corrige à la main les autres syntaxes incorrectes qui ne sont pas des doublons\n",
    "df_top_books_2023['Titre'] = df_top_books_2023['Titre'].str.replace(\n",
    "    r'(Tome 10),', r'\\1 :', regex=True\n",
    ")\n",
    "df_top_books_2023.loc[df_top_books_2023['Titre'] == 'Blake et Mortimer, Avant Blake et Mortimer, Tome 2 : La Flèche ardente', 'Titre'] = 'Avant Blake et Mortimer, Tome 2 : La Flèche ardente'\n",
    "df_top_books_2023.loc[df_top_books_2023['Titre'] == 'Les Cahiers d’Esther, Tome8 : Histoires de mes 17 ans', 'Titre'] = 'Les Cahiers d’Esther, Tome 8 : Histoires de mes 17 ans'\n",
    "df_top_books_2023.loc[df_top_books_2023['Titre'] == 'Bleak, 3 histoires d’horreur,Volume 2', 'Titre'] = 'Bleak, 3 histoires d’horreur, Tome 2'\n",
    "df_top_books_2023.loc[df_top_books_2023['Titre'] == 'Les sept sœurs : Atlas, l’histoire de Pa Salt', 'Titre'] = \"Les Sept Seurs, tome 8 : Atlas, l'histoire de Pa Salt\"\n",
    "df_top_books_2023.loc[df_top_books_2023['Titre'] == 'Les 4 Saisons, Tome 1 : Un automne pour te pardonner', 'Titre'] = \"Seasons, tome 1 : Un automne pour te pardonner\""
   ]
  },
  {
   "cell_type": "markdown",
   "metadata": {},
   "source": [
    "On modifie le fichier CSV pour merge plus tard les bases."
   ]
  },
  {
   "cell_type": "code",
   "execution_count": 41,
   "metadata": {},
   "outputs": [],
   "source": [
    "df_top_books_2023.to_csv(\"best_sellers_fnac_2023_cleaned.csv\", index=False, encoding=\"utf-8\")"
   ]
  },
  {
   "cell_type": "markdown",
   "metadata": {},
   "source": [
    "#"
   ]
  },
  {
   "cell_type": "markdown",
   "metadata": {},
   "source": [
    "<div style=\"\n",
    "    font-family: 'Arial', sans-serif; \n",
    "    text-align: center; \n",
    "    padding: 10px; \n",
    "    background-color:rgb(210, 199, 255); \n",
    "    color: black; \n",
    "    border-radius: 5px; \n",
    "    font-size: 1.5em;\n",
    "\">\n",
    "    <strong>Partie 2: Récupérer des données sur des systèmes permettant de juger de la qualité des livres.</strong>\n",
    "</div>\n",
    "<p>Le but est d'essayer de comprendre s'il y a une corrélation entre les livres lus et les livres jugés de qualité, mais aussi entre les livres jugés de qualité et les livres présentés dans des vidéos Youtube.</p>"
   ]
  },
  {
   "cell_type": "markdown",
   "metadata": {},
   "source": [
    "Tout d'abord, on s'intéresse aux livres les mieux notés par les internautes sur livraddict qui est un réseau social littéraire. Le classement a été publié en 2024 mais porte sur les lectures et votes de 2023 sur les livres publiés en 2023. On en importe les titres et les auteurs."
   ]
  },
  {
   "cell_type": "code",
   "execution_count": 42,
   "metadata": {},
   "outputs": [],
   "source": [
    "# URL de la page à scrapper\n",
    "livraddict_top_2023 = \"https://www.livraddict.com/prix-livraddict/2024/\"\n",
    "\n",
    "# Requête HTTP vers la page\n",
    "response = requests.get(livraddict_top_2023)\n",
    "response.encoding = 'utf-8'\n",
    "\n",
    "# On vérfie que le site autorise le scraping et on scrap si oui\n",
    "if response.status_code == 200:  \n",
    "    soup = BeautifulSoup(response.text, 'html.parser')\n",
    "\n",
    "    # Liste pour stocker les données extraites\n",
    "    livraddict_data = []\n",
    "\n",
    "    # On parcourt toutes les catégories\n",
    "    categories = soup.find_all('div', class_='categorie_prix portlet light')\n",
    "    for category in categories:\n",
    "        # On extrait le nom de la catégorie et supprime \"catégorie\" devant si présent\n",
    "        category_name = category.find('h2').text.strip()\n",
    "        if \"catégorie\" in category_name.lower():\n",
    "            category_name = category_name.lower().replace(\"catégorie\", \"\").strip().capitalize()\n",
    "\n",
    "        # On parcourt les livres de la catégorie\n",
    "        books = category.find_all('div', style=lambda x: x and \"margin-bottom:10px\" in x)\n",
    "        for book in books:\n",
    "            # On extrait le titre du livre\n",
    "            title_tag = book.find('h3').find('a')\n",
    "            title = title_tag.find('strong').text.strip() if title_tag else None\n",
    "\n",
    "            # On extrait l'auteur du livre\n",
    "            author = title_tag.contents[-1].strip() if title_tag else None\n",
    "\n",
    "            # On ajoute les informations à la liste créée\n",
    "            if title and author:\n",
    "                livraddict_data.append([category_name, title, author])\n",
    "\n",
    "    # On convertit les données en DataFrame\n",
    "    df_livraddict_data = pd.DataFrame(livraddict_data, columns=['Catégorie', 'Titre', 'Auteur'])\n",
    "\n",
    "    # On ajoute une colonne indicatrice \"top_livraddict\"\n",
    "    df_livraddict_data['top_livraddict'] = 1\n",
    "else:\n",
    "    print(\"Erreur {response.status_code} lors de la requête.\")"
   ]
  },
  {
   "cell_type": "markdown",
   "metadata": {},
   "source": [
    "On regarde la base pour s'assurer qu'il n'y ait pas d'incohérence et pour se familiariser avec"
   ]
  },
  {
   "cell_type": "code",
   "execution_count": 43,
   "metadata": {},
   "outputs": [
    {
     "data": {
      "text/html": [
       "<div>\n",
       "<style scoped>\n",
       "    .dataframe tbody tr th:only-of-type {\n",
       "        vertical-align: middle;\n",
       "    }\n",
       "\n",
       "    .dataframe tbody tr th {\n",
       "        vertical-align: top;\n",
       "    }\n",
       "\n",
       "    .dataframe thead th {\n",
       "        text-align: right;\n",
       "    }\n",
       "</style>\n",
       "<table border=\"1\" class=\"dataframe\">\n",
       "  <thead>\n",
       "    <tr style=\"text-align: right;\">\n",
       "      <th></th>\n",
       "      <th>Catégorie</th>\n",
       "      <th>Titre</th>\n",
       "      <th>Auteur</th>\n",
       "      <th>top_livraddict</th>\n",
       "    </tr>\n",
       "  </thead>\n",
       "  <tbody>\n",
       "    <tr>\n",
       "      <th>0</th>\n",
       "      <td>Young adult</td>\n",
       "      <td>Engélion, tome 1 : Illuminer les Cieux</td>\n",
       "      <td>Justine Tiphagne</td>\n",
       "      <td>1</td>\n",
       "    </tr>\n",
       "    <tr>\n",
       "      <th>1</th>\n",
       "      <td>Young adult</td>\n",
       "      <td>Tant que fleuriront les citronniers (As Long a...</td>\n",
       "      <td>Zoulfa Katouh</td>\n",
       "      <td>1</td>\n",
       "    </tr>\n",
       "    <tr>\n",
       "      <th>2</th>\n",
       "      <td>Young adult</td>\n",
       "      <td>L'effet Boule de neige</td>\n",
       "      <td>Clara Héraut</td>\n",
       "      <td>1</td>\n",
       "    </tr>\n",
       "    <tr>\n",
       "      <th>3</th>\n",
       "      <td>Young adult</td>\n",
       "      <td>Écarlate sous la cendre, tome 1</td>\n",
       "      <td>Élisabeth Koshava</td>\n",
       "      <td>1</td>\n",
       "    </tr>\n",
       "    <tr>\n",
       "      <th>4</th>\n",
       "      <td>Young adult</td>\n",
       "      <td>Le sirénien</td>\n",
       "      <td>Capucine Sergent</td>\n",
       "      <td>1</td>\n",
       "    </tr>\n",
       "    <tr>\n",
       "      <th>5</th>\n",
       "      <td>Jeunesse</td>\n",
       "      <td>Wonka</td>\n",
       "      <td>Sibéal Pounder</td>\n",
       "      <td>1</td>\n",
       "    </tr>\n",
       "    <tr>\n",
       "      <th>6</th>\n",
       "      <td>Jeunesse</td>\n",
       "      <td>L'étoile du soir</td>\n",
       "      <td>Siècle Vaëlban</td>\n",
       "      <td>1</td>\n",
       "    </tr>\n",
       "    <tr>\n",
       "      <th>7</th>\n",
       "      <td>Jeunesse</td>\n",
       "      <td>Les clans du ciel, tome 1 : La quête d'Ellie (...</td>\n",
       "      <td>Jessica Khoury</td>\n",
       "      <td>1</td>\n",
       "    </tr>\n",
       "    <tr>\n",
       "      <th>8</th>\n",
       "      <td>Jeunesse</td>\n",
       "      <td>Crook Haven, tome 1 : L'école des voleurs  (Cr...</td>\n",
       "      <td>J. J. Arcanjo</td>\n",
       "      <td>1</td>\n",
       "    </tr>\n",
       "    <tr>\n",
       "      <th>9</th>\n",
       "      <td>Jeunesse</td>\n",
       "      <td>Sentinelles du Royaume Sauvage, tome 1</td>\n",
       "      <td>Alexandra Ott</td>\n",
       "      <td>1</td>\n",
       "    </tr>\n",
       "  </tbody>\n",
       "</table>\n",
       "</div>"
      ],
      "text/plain": [
       "     Catégorie                                              Titre  \\\n",
       "0  Young adult             Engélion, tome 1 : Illuminer les Cieux   \n",
       "1  Young adult  Tant que fleuriront les citronniers (As Long a...   \n",
       "2  Young adult                             L'effet Boule de neige   \n",
       "3  Young adult                    Écarlate sous la cendre, tome 1   \n",
       "4  Young adult                                        Le sirénien   \n",
       "5     Jeunesse                                              Wonka   \n",
       "6     Jeunesse                                   L'étoile du soir   \n",
       "7     Jeunesse  Les clans du ciel, tome 1 : La quête d'Ellie (...   \n",
       "8     Jeunesse  Crook Haven, tome 1 : L'école des voleurs  (Cr...   \n",
       "9     Jeunesse             Sentinelles du Royaume Sauvage, tome 1   \n",
       "\n",
       "              Auteur  top_livraddict  \n",
       "0   Justine Tiphagne               1  \n",
       "1      Zoulfa Katouh               1  \n",
       "2       Clara Héraut               1  \n",
       "3  Élisabeth Koshava               1  \n",
       "4   Capucine Sergent               1  \n",
       "5     Sibéal Pounder               1  \n",
       "6     Siècle Vaëlban               1  \n",
       "7     Jessica Khoury               1  \n",
       "8      J. J. Arcanjo               1  \n",
       "9      Alexandra Ott               1  "
      ]
     },
     "execution_count": 43,
     "metadata": {},
     "output_type": "execute_result"
    }
   ],
   "source": [
    "df_livraddict_data.head(10)"
   ]
  },
  {
   "cell_type": "markdown",
   "metadata": {},
   "source": [
    "Nous remarquons qu'il y a parfois des parenthèses à la fin du titre précisant le genre du livre ou le titre en anglais. Pour faciliter le futur merge des bases, on enlève ça."
   ]
  },
  {
   "cell_type": "code",
   "execution_count": 44,
   "metadata": {},
   "outputs": [],
   "source": [
    "df_livraddict_data['Titre'] = df_livraddict_data['Titre'].str.replace(r'\\(.*\\)', '', regex=True)"
   ]
  },
  {
   "cell_type": "markdown",
   "metadata": {},
   "source": [
    "Correction d'une petite erreur de format: il y a un espace alors qu'il ne devrait pas y en avoir"
   ]
  },
  {
   "cell_type": "code",
   "execution_count": 45,
   "metadata": {},
   "outputs": [],
   "source": [
    "df_livraddict_data.loc[df_livraddict_data['Titre'] == 'Lies , tome 1 : Only Lies', 'Titre'] = 'Lies, tome 1 : Only Lies'"
   ]
  },
  {
   "cell_type": "markdown",
   "metadata": {},
   "source": [
    "Création du fichier csv"
   ]
  },
  {
   "cell_type": "code",
   "execution_count": 46,
   "metadata": {},
   "outputs": [],
   "source": [
    "df_livraddict_data.to_csv('livraddict_prix_2024.csv', index=False, encoding='utf-8')"
   ]
  },
  {
   "cell_type": "markdown",
   "metadata": {},
   "source": [
    "Récupération de tous les prix littéraires français connus de Wikipédia entre 2019 et 2023"
   ]
  },
  {
   "cell_type": "markdown",
   "metadata": {},
   "source": [
    "Création d'un dataframe vide pour ensuite entrer les donner scrappées."
   ]
  },
  {
   "cell_type": "code",
   "execution_count": 47,
   "metadata": {},
   "outputs": [
    {
     "name": "stdout",
     "output_type": "stream",
     "text": [
      "Empty DataFrame\n",
      "Columns: [Année, Prix, Auteur, Titre]\n",
      "Index: []\n"
     ]
    }
   ],
   "source": [
    "colonnes = ['Année', 'Prix', 'Auteur', 'Titre']\n",
    "\n",
    "# Créer un DataFrame vide avec ces colonnes\n",
    "df_wikipedia = pd.DataFrame(columns=colonnes)\n",
    "\n",
    "print(df_wikipedia)"
   ]
  },
  {
   "cell_type": "markdown",
   "metadata": {},
   "source": [
    "Scrapping sur wikipedia"
   ]
  },
  {
   "cell_type": "code",
   "execution_count": 48,
   "metadata": {},
   "outputs": [],
   "source": [
    "def scrape_wikipedia_page_france(year):\n",
    "    global df_wikipedia\n",
    "    url = f\"https://fr.wikipedia.org/wiki/Prix_litt%C3%A9raires_{year}\"\n",
    "    response = requests.get(url)\n",
    "    response.encoding = \"utf-8\"  # On garantit le bon encodage\n",
    "\n",
    "    if response.status_code == 200:  # On vérifie si la requête est un succès\n",
    "        html_content = response.text\n",
    "        soup = BeautifulSoup(html_content, 'html.parser')\n",
    "\n",
    "        # On recherche la section France\n",
    "        france_section = soup.find('h2', string=\"France\")\n",
    "        if france_section:\n",
    "            # La liste <ul> qui suit contient les prix pour la France\n",
    "            france_list = france_section.find_next('ul')\n",
    "\n",
    "            if france_list:\n",
    "                # On recherche tous les <li> dans la liste\n",
    "                prizes = france_list.find_all('li')\n",
    "\n",
    "                # On extrait les données\n",
    "                for prize in prizes:\n",
    "                    # Nom du prix\n",
    "                    prize_name = prize.find('a')\n",
    "                    prize_name = prize_name.text.strip() if prize_name else None\n",
    "\n",
    "                    # Auteur\n",
    "                    author = prize.find_all('a')\n",
    "                    author = author[1].text.strip() if len(author) > 1 else None\n",
    "\n",
    "                    # Titre\n",
    "                    title = prize.find('i')\n",
    "                    title = title.text.strip() if title else None\n",
    "\n",
    "                    # On ajoute les résultats si les données sont complètes\n",
    "                    if prize_name and author and title:\n",
    "                        new_row = {'Année': year, 'Prix': prize_name, 'Auteur': author, 'Titre': title}\n",
    "                        df_wikipedia = pd.concat([df_wikipedia, pd.DataFrame([new_row])], ignore_index=True)\n",
    "        else:\n",
    "            print(f\"Section 'France' non trouvée pour l'année {year}\")\n",
    "    else:\n",
    "        print(f\"Erreur lors du scraping de l'année {year}: Status code {response.status_code}\")\n",
    "\n",
    "    return df_wikipedia"
   ]
  },
  {
   "cell_type": "code",
   "execution_count": 49,
   "metadata": {},
   "outputs": [],
   "source": [
    "for year in range(2019, 2024):\n",
    "    scrape_wikipedia_page_france(year)"
   ]
  },
  {
   "cell_type": "markdown",
   "metadata": {},
   "source": [
    "Quand on regarde les données, on voit bien qu'il y a de gros problèmes. En regardant le fichier csv, c'est d'autant plus flagrant. Nous avons identifiés plusieurs types de problèmes, que nous avons étudié puis corrigé soit manuellement quand il ne concernait que quelques lignes, soit automatiquement, en scrappant sur un autre site"
   ]
  },
  {
   "cell_type": "code",
   "execution_count": 50,
   "metadata": {},
   "outputs": [
    {
     "data": {
      "text/html": [
       "<div>\n",
       "<style scoped>\n",
       "    .dataframe tbody tr th:only-of-type {\n",
       "        vertical-align: middle;\n",
       "    }\n",
       "\n",
       "    .dataframe tbody tr th {\n",
       "        vertical-align: top;\n",
       "    }\n",
       "\n",
       "    .dataframe thead th {\n",
       "        text-align: right;\n",
       "    }\n",
       "</style>\n",
       "<table border=\"1\" class=\"dataframe\">\n",
       "  <thead>\n",
       "    <tr style=\"text-align: right;\">\n",
       "      <th></th>\n",
       "      <th>Année</th>\n",
       "      <th>Prix</th>\n",
       "      <th>Auteur</th>\n",
       "      <th>Titre</th>\n",
       "    </tr>\n",
       "  </thead>\n",
       "  <tbody>\n",
       "    <tr>\n",
       "      <th>0</th>\n",
       "      <td>2019</td>\n",
       "      <td>Prix Femina</td>\n",
       "      <td>Par les routes</td>\n",
       "      <td>Par les routes</td>\n",
       "    </tr>\n",
       "    <tr>\n",
       "      <th>1</th>\n",
       "      <td>2019</td>\n",
       "      <td>Prix Femina étranger</td>\n",
       "      <td>Ordesa</td>\n",
       "      <td>Ordesa</td>\n",
       "    </tr>\n",
       "    <tr>\n",
       "      <th>2</th>\n",
       "      <td>2019</td>\n",
       "      <td>Prix Femina essai</td>\n",
       "      <td>Emmanuelle Lambert</td>\n",
       "      <td>Giono furioso</td>\n",
       "    </tr>\n",
       "    <tr>\n",
       "      <th>3</th>\n",
       "      <td>2019</td>\n",
       "      <td>Prix Femina des lycéens</td>\n",
       "      <td>La Chaleur</td>\n",
       "      <td>La Chaleur</td>\n",
       "    </tr>\n",
       "    <tr>\n",
       "      <th>4</th>\n",
       "      <td>2019</td>\n",
       "      <td>Prix Goncourt</td>\n",
       "      <td>Tous les hommes n'habitent pas le monde de la ...</td>\n",
       "      <td>Tous les hommes n'habitent pas le monde de la ...</td>\n",
       "    </tr>\n",
       "  </tbody>\n",
       "</table>\n",
       "</div>"
      ],
      "text/plain": [
       "  Année                     Prix  \\\n",
       "0  2019              Prix Femina   \n",
       "1  2019     Prix Femina étranger   \n",
       "2  2019        Prix Femina essai   \n",
       "3  2019  Prix Femina des lycéens   \n",
       "4  2019            Prix Goncourt   \n",
       "\n",
       "                                              Auteur  \\\n",
       "0                                     Par les routes   \n",
       "1                                             Ordesa   \n",
       "2                                 Emmanuelle Lambert   \n",
       "3                                         La Chaleur   \n",
       "4  Tous les hommes n'habitent pas le monde de la ...   \n",
       "\n",
       "                                               Titre  \n",
       "0                                     Par les routes  \n",
       "1                                             Ordesa  \n",
       "2                                      Giono furioso  \n",
       "3                                         La Chaleur  \n",
       "4  Tous les hommes n'habitent pas le monde de la ...  "
      ]
     },
     "execution_count": 50,
     "metadata": {},
     "output_type": "execute_result"
    }
   ],
   "source": [
    "df_wikipedia.head(5)"
   ]
  },
  {
   "cell_type": "markdown",
   "metadata": {},
   "source": [
    "Premier type d'incohérence ( aussi le plus important): il y a eu une erreur dans le scrapping de nombreux ouvrages sur Wikipédia qui a fait qu'on a deux fois le Titre des livres au lieu d'en avoir l'auteur ou les auteurs. Ce problème concerne 81 ligne, ce qui est un nombre considérable"
   ]
  },
  {
   "cell_type": "code",
   "execution_count": 51,
   "metadata": {},
   "outputs": [
    {
     "name": "stdout",
     "output_type": "stream",
     "text": [
      "    Année                                         Prix  \\\n",
      "0    2019                                  Prix Femina   \n",
      "1    2019                         Prix Femina étranger   \n",
      "3    2019                      Prix Femina des lycéens   \n",
      "4    2019                                Prix Goncourt   \n",
      "5    2019               Prix Goncourt du premier roman   \n",
      "..    ...                                          ...   \n",
      "189  2022  Grand prix du roman de l'Académie française   \n",
      "218  2022                          Grand prix RTL-Lire   \n",
      "223  2022                    Grand Prix Roman de l'été   \n",
      "290  2023                    Grand Prix Roman de l'été   \n",
      "292  2023                                   Ada Palmer   \n",
      "\n",
      "                                                Auteur  \\\n",
      "0                                       Par les routes   \n",
      "1                                               Ordesa   \n",
      "3                                           La Chaleur   \n",
      "4    Tous les hommes n'habitent pas le monde de la ...   \n",
      "5                                          Court vêtue   \n",
      "..                                                 ...   \n",
      "189                                 Le Mage du Kremlin   \n",
      "218                                                555   \n",
      "223                                     Femme Actuelle   \n",
      "290                                     Femme Actuelle   \n",
      "292                                       Terra Ignota   \n",
      "\n",
      "                                                 Titre  \n",
      "0                                       Par les routes  \n",
      "1                                               Ordesa  \n",
      "3                                           La Chaleur  \n",
      "4    Tous les hommes n'habitent pas le monde de la ...  \n",
      "5                                          Court vêtue  \n",
      "..                                                 ...  \n",
      "189                                 Le Mage du Kremlin  \n",
      "218                                                555  \n",
      "223                                     Femme Actuelle  \n",
      "290                                     Femme Actuelle  \n",
      "292                                       Terra Ignota  \n",
      "\n",
      "[81 rows x 4 columns]\n"
     ]
    }
   ],
   "source": [
    "df_double = df_wikipedia[df_wikipedia['Auteur']==df_wikipedia['Titre']]\n",
    "print(df_double)"
   ]
  },
  {
   "cell_type": "markdown",
   "metadata": {},
   "source": [
    "Le deuxième grand problème que nous avons rencontré est le remplacement des noms d'auteurs par des chiffres entre crochets pour 13 lignes."
   ]
  },
  {
   "cell_type": "code",
   "execution_count": 52,
   "metadata": {},
   "outputs": [
    {
     "name": "stdout",
     "output_type": "stream",
     "text": [
      "    Année                                  Prix Auteur  \\\n",
      "104  2020              Prix littéraire du Monde    [4]   \n",
      "150  2021                   Prix Première Plume    [3]   \n",
      "157  2021  Prix Eugène-Dabit du roman populiste    [5]   \n",
      "180  2022        Prix Goncourt de la biographie   [10]   \n",
      "209  2022                           Anne Berest   [33]   \n",
      "210  2022      Prix littéraire ENS Paris-Saclay   [34]   \n",
      "214  2022             Prix du Quai des Orfèvres   [38]   \n",
      "217  2022  Prix Eugène-Dabit du roman populiste   [41]   \n",
      "222  2022      Grand prix des lectrices de Elle   [45]   \n",
      "225  2022       Grand Prix de Poésie de la SGDL   [46]   \n",
      "227  2022                           Prix Wepler   [47]   \n",
      "247  2023        Prix Goncourt de la biographie   [45]   \n",
      "297  2023   Prix littéraire de la Ville de Caen   [70]   \n",
      "\n",
      "                              Titre  \n",
      "104                           Monde  \n",
      "150  Avant que le monde ne se ferme  \n",
      "157              Des gens comme eux  \n",
      "180           Léopold Sédar Senghor  \n",
      "209                La Carte postale  \n",
      "210                      Le Passeur  \n",
      "214                   La Muse rouge  \n",
      "217   Les Garçons de la cité-jardin  \n",
      "222                La Carte postale  \n",
      "225          Réacteur 3 [Fukushima]  \n",
      "227            Les Enfants endormis  \n",
      "247                   Georges Perec  \n",
      "297   Mourir avant que d'apparaître  \n"
     ]
    }
   ],
   "source": [
    "df_ch = df_wikipedia[df_wikipedia['Auteur'].str.contains(r'^\\[\\d+\\]$')]\n",
    "print(df_ch)"
   ]
  },
  {
   "cell_type": "markdown",
   "metadata": {},
   "source": [
    "Il y a parfois eu des incohérences dans les lignes correspondant à des prix en particulier."
   ]
  },
  {
   "cell_type": "markdown",
   "metadata": {},
   "source": [
    "cas 1: le prix François Mauriac. Le nom complet du prix est \"Prix François Mauriac de l'Académie française\". La deuxième partie de son nom a remplacé tous les noms d'auteurs sensés être récoltés lors du scrapping."
   ]
  },
  {
   "cell_type": "code",
   "execution_count": 53,
   "metadata": {},
   "outputs": [
    {
     "name": "stdout",
     "output_type": "stream",
     "text": [
      "    Année                   Prix              Auteur  \\\n",
      "53   2019  Prix François-Mauriac  Académie française   \n",
      "90   2020  Prix François-Mauriac  Académie française   \n",
      "199  2022  Prix François-Mauriac  Académie française   \n",
      "267  2023  Prix François-Mauriac  Académie française   \n",
      "\n",
      "                                  Titre  \n",
      "53   Là-bas, août est un mois d'automne  \n",
      "90               Un automne de Flaubert  \n",
      "199                                Zita  \n",
      "267   À l’abri des hommes et des choses  \n"
     ]
    }
   ],
   "source": [
    "df_mauriac = df_wikipedia[df_wikipedia['Prix']=='Prix François-Mauriac']\n",
    "print(df_mauriac)"
   ]
  },
  {
   "cell_type": "markdown",
   "metadata": {},
   "source": [
    "Cas 2: Le prix Telerama. Tous les noms de livre ont été remplacés par la chaîne de caractère \"Télérama\". Les noms d'auteurs ne sont pour autant pas tout le temps juste puisqu'il y a parfois dans la colonne \"Auteur\" le titre apparent du livre au lieu d'y avoir le nom de la personne l'ayant écrit. Du fait du manque d'uniformité de ces incohérences, nous avons décidé de les corriger manuellement. "
   ]
  },
  {
   "cell_type": "code",
   "execution_count": 54,
   "metadata": {},
   "outputs": [
    {
     "name": "stdout",
     "output_type": "stream",
     "text": [
      "    Année                          Prix           Auteur     Titre\n",
      "28   2019  Prix France Culture-Télérama        La Maison  Télérama\n",
      "97   2020  Prix France Culture-Télérama         Chavirer  Télérama\n",
      "208  2022  Prix France Culture-Télérama   Kaouther Adimi  Télérama\n",
      "276  2023  Prix France Culture-Télérama  Salma El Moumni  Télérama\n"
     ]
    }
   ],
   "source": [
    "df_telerama = df_wikipedia[df_wikipedia['Prix']=='Prix France Culture-Télérama']\n",
    "print(df_telerama)"
   ]
  },
  {
   "cell_type": "markdown",
   "metadata": {},
   "source": [
    "Correction manuelle: nous avons aussi rajouté une ligne pusiqu'il manquait l'année 2021."
   ]
  },
  {
   "cell_type": "code",
   "execution_count": 55,
   "metadata": {},
   "outputs": [],
   "source": [
    "df_wikipedia.loc[(df_wikipedia[\"Prix\"] == \"Prix France Culture-Télérama\") & (df_wikipedia[\"Année\"] == 2019), [\"Auteur\", \"Titre\"]] = [\"Emma Becker\", \"La Maison\"]\n",
    "df_wikipedia.loc[(df_wikipedia[\"Prix\"] == \"Prix France Culture-Télérama\") & (df_wikipedia[\"Année\"] == 2020), [\"Auteur\", \"Titre\"]] = [\"Lola Lafon\", \"Chavirer\"]\n",
    "df_wikipedia.loc[(df_wikipedia[\"Prix\"] == \"Prix France Culture-Télérama\") & (df_wikipedia[\"Année\"] == 2022), \"Titre\"] = \"Au vent mauvais\"\n",
    "df_wikipedia.loc[(df_wikipedia[\"Prix\"] == \"Prix France Culture-Télérama\") & (df_wikipedia[\"Année\"] == 2023), \"Titre\"] = \"Adieu Tanger\"\n",
    "nouvelle_ligne = pd.DataFrame({'Année': [2021], 'Prix': [\"Prix France Culture-Télérama\"], 'Auteur':['Mathieu Palain'], 'Titre':[\"Ne t'arrête pas de courir \"]})\n",
    "df_wikipedia = pd.concat([df_wikipedia, nouvelle_ligne], ignore_index=True)"
   ]
  },
  {
   "cell_type": "markdown",
   "metadata": {},
   "source": [
    "cas 3: le prix Maya. Ici, ce sont les noms d'auteur qui ont été remplacés par \"animaliste\", un peu comme pour le prix François Mauriac. Il est donc possible d'automatiser le traitement de cette incohérence."
   ]
  },
  {
   "cell_type": "code",
   "execution_count": 56,
   "metadata": {},
   "outputs": [
    {
     "name": "stdout",
     "output_type": "stream",
     "text": [
      "    Année       Prix      Auteur                       Titre\n",
      "61   2019  Prix Maya  animaliste  Les Paupières des poissons\n",
      "124  2020  Prix Maya  animaliste            Insolente Veggie\n"
     ]
    }
   ],
   "source": [
    "df_maya = df_wikipedia[df_wikipedia['Prix']=='Prix Maya']\n",
    "print(df_maya)"
   ]
  },
  {
   "cell_type": "markdown",
   "metadata": {},
   "source": [
    "cas 4: le prix Femme Actuelle. Ici, il n'y a ni titre ni auteur: les deux colonnes ont été remplacé par \"Femme actuelle\". De ce fait, il sera ici aussi nécessaire de corriger manuellement les erreur."
   ]
  },
  {
   "cell_type": "code",
   "execution_count": 57,
   "metadata": {},
   "outputs": [
    {
     "name": "stdout",
     "output_type": "stream",
     "text": [
      "    Année                       Prix          Auteur           Titre\n",
      "46   2019  Grand Prix Roman de l'été  Femme Actuelle  Femme Actuelle\n",
      "109  2020  Grand Prix Roman de l'été  Femme Actuelle  Femme Actuelle\n",
      "162  2021  Grand Prix Roman de l'été  Femme Actuelle  Femme Actuelle\n",
      "223  2022  Grand Prix Roman de l'été  Femme Actuelle  Femme Actuelle\n",
      "290  2023  Grand Prix Roman de l'été  Femme Actuelle  Femme Actuelle\n"
     ]
    }
   ],
   "source": [
    "df_femme_a = df_wikipedia[df_wikipedia['Titre']=='Femme Actuelle']\n",
    "print(df_femme_a)"
   ]
  },
  {
   "cell_type": "markdown",
   "metadata": {},
   "source": [
    "Correction manuelle"
   ]
  },
  {
   "cell_type": "code",
   "execution_count": 58,
   "metadata": {},
   "outputs": [],
   "source": [
    "df_wikipedia.loc[df_wikipedia[\"Titre\"] == \"Femme Actuelle\", \"Prix\"] = \"Grand prix Roman de l'été de Femme Actuelle\""
   ]
  },
  {
   "cell_type": "code",
   "execution_count": 59,
   "metadata": {},
   "outputs": [],
   "source": [
    "df_wikipedia.loc[(df_wikipedia['Titre'] == 'Femme Actuelle') & (df_wikipedia['Année'] == 2019), ['Titre', 'Auteur']] = ['Au bout de la nuit', 'Bruno Bouzounie']\n",
    "df_wikipedia.loc[(df_wikipedia['Titre'] == 'Femme Actuelle') & (df_wikipedia['Année'] == 2020), ['Titre', 'Auteur']] = ['La Conjonction dorée', 'Benoît Sagaro']\n",
    "df_wikipedia.loc[(df_wikipedia['Titre'] == 'Femme Actuelle') & (df_wikipedia['Année'] == 2021), ['Titre', 'Auteur']] = ['Pour exister encore', 'Martine Duchesne']\n",
    "df_wikipedia.loc[(df_wikipedia['Titre'] == 'Femme Actuelle') & (df_wikipedia['Année'] == 2022), ['Titre', 'Auteur']] = [\"Le journal de Betty Swan\", 'Cindy Valt']\n",
    "df_wikipedia.loc[(df_wikipedia['Titre'] == 'Femme Actuelle') & (df_wikipedia['Année'] == 2023), ['Titre', 'Auteur']] = ['Hauteclaire', 'Dominique Delplace']"
   ]
  },
  {
   "cell_type": "markdown",
   "metadata": {},
   "source": [
    "cas 5: Il y a aussi un problème avec les prix du journal le Monde, que nous avons corrigé manuellement."
   ]
  },
  {
   "cell_type": "code",
   "execution_count": 60,
   "metadata": {},
   "outputs": [
    {
     "name": "stdout",
     "output_type": "stream",
     "text": [
      "    Année                      Prix               Auteur  Titre\n",
      "42   2019  Prix littéraire du Monde  Une bête au paradis  Monde\n",
      "104  2020  Prix littéraire du Monde                  [4]  Monde\n",
      "221  2022  Prix littéraire du Monde       Mathieu Belezi  Monde\n",
      "288  2023  Prix littéraire du Monde          Neige Sinno  Monde\n"
     ]
    }
   ],
   "source": [
    "df_monde = df_wikipedia[df_wikipedia['Titre']=='Monde']\n",
    "print(df_monde)"
   ]
  },
  {
   "cell_type": "code",
   "execution_count": 61,
   "metadata": {},
   "outputs": [],
   "source": [
    "df_wikipedia.loc[(df_wikipedia['Auteur'] == \"Une bête au paradis\") & (df_wikipedia['Titre'] == \"Monde\"),['Auteur','Titre']] = ['Cécile Coulon','Une bête au paradis']\n",
    "df_wikipedia.loc[(df_wikipedia['Auteur'] == \"Mathieu Belezi\") & (df_wikipedia['Titre'] == \"Monde\"),'Titre'] = ['Attaquer la terre et le soleil']\n",
    "df_wikipedia.loc[(df_wikipedia['Auteur'] == \"Neige Sinno\") & (df_wikipedia['Titre'] == \"Monde\"),'Titre'] = ['Triste tigre']\n",
    "df_wikipedia.loc[(df_wikipedia['Année'] == \"2020\") & (df_wikipedia['Titre'] == \"Monde\"), ['Titre','Auteur']] = ['Elle a menti pour les ailes', 'Francesca Serra']"
   ]
  },
  {
   "cell_type": "markdown",
   "metadata": {},
   "source": [
    "Enfin, nous avons fait la remarque plus de l'ordre de la mise en page qu'il y a parfois dans les cases des précisions entre parenthèses ou crochets sur l'auteur ou le titre, précisions qui ne font pas partie du nom ni du titre de l'ouvrage. Ainsi, pour faciliter la future opération merge, nous avons décidé d'enlever ces choses de trop."
   ]
  },
  {
   "cell_type": "code",
   "execution_count": 62,
   "metadata": {},
   "outputs": [],
   "source": [
    "df_wikipedia['Auteur'] = df_wikipedia['Auteur'].str.replace(r'\\(.*\\)', '', regex=True) #on enlève les parenthèses après les noms d'auteur\n",
    "df_wikipedia['Auteur'] = df_wikipedia['Auteur'].str.replace(r'\\[.*\\]', '', regex=True) # on enlève aussi les éventuels crochets\n",
    "df_wikipedia['Titre'] = df_wikipedia['Titre'].str.replace(r'\\[.*\\]', '', regex=True)"
   ]
  },
  {
   "cell_type": "markdown",
   "metadata": {},
   "source": [
    "Il y a aussi des prix dont le nom nous a paru bizarre, mais étant donné que nous n'utilisons pas les noms des prix et construisons seulement une indicatrice indiquant si le livre a reçu un prix ou pas, nous n'en avons pas tenu compte"
   ]
  },
  {
   "cell_type": "markdown",
   "metadata": {},
   "source": [
    "Nous avons commencé par compléter la base en scrappant Gallimard qui est un site fiable et bien codé. Le problème étant qu'il n'y a que les livres édités chez Gallimard sur ce site et donc qu'il faudra scrapper autre part pour compléter la base."
   ]
  },
  {
   "cell_type": "code",
   "execution_count": 63,
   "metadata": {},
   "outputs": [],
   "source": [
    "def search_gallimard(book_title, year):\n",
    "    #reformulation du titre en différente partie\n",
    "    parts = re.findall(r'\\w+|[^\\w\\s]', book_title)\n",
    "    book_title_gen = book_title.lower().strip()\n",
    "\n",
    "    # URL de recherche sur Livraddict\n",
    "    search_title = '+'.join(parts)\n",
    "    lower_search_title = '%20'.join(parts).lower()\n",
    "    headers = {\n",
    "    'User-Agent': 'Mozilla/5.0 (Windows NT 10.0; Win64; x64; rv:118.0) Gecko/20100101 Firefox/118.0'}\n",
    "    search_url = f'https://www.gallimard.fr/catalogue?search_api_fulltext={search_title}&field_date_de_parution_1%5Bdate%5D={year}-01-01&field_date_de_parution_2%5Bdate%5D={year}-12-31&field_prix%5Bmin%5D=&field_prix%5Bmax%5D=&title_3=&items_per_page=20&sort_bef_combine=field_identifiant_catalogue_ASC'\n",
    "    time.sleep(5)\n",
    "\n",
    "    # Faire une requête pour récupérer la page des résultats de recherche\n",
    "    response = requests.get(search_url, headers=headers).content\n",
    "    response_text = response.decode('utf-8')\n",
    "    # Trouver le premier élément correspondant au lien d'un résultat\n",
    "    page = soup(response_text, \"html.parser\")\n",
    "    results = page.find_all(\"div\", class_ = \"card--ouvrage\")\n",
    "    author = ''\n",
    "    for i in range(len(results)):\n",
    "        result = results[i]\n",
    "        div_title = result.find(\"div\", class_ = \"title\")\n",
    "        title = div_title.text\n",
    "        title_gen = title.lower().strip()\n",
    "        if book_title_gen == title_gen:\n",
    "            div_author = result.find('div', class_='paragraph paragraph--type--auteur paragraph--view-mode--links')\n",
    "            a_author = div_author.find(\"a\")\n",
    "            author = a_author.text\n",
    "    if author == '':\n",
    "        author = \"Pas trouvé sur Gallimard\"\n",
    "    return author"
   ]
  },
  {
   "cell_type": "code",
   "execution_count": 64,
   "metadata": {},
   "outputs": [],
   "source": [
    "def search_author(row):\n",
    "    if row[\"Auteur\"] == row[\"Titre\"] or re.match(r'^\\[\\d+\\]$', row['Auteur']) or row['Prix']=='Prix François-Mauriac' or row['Prix']=='Prix Maya':\n",
    "        author = search_gallimard(row[\"Titre\"], row[\"Année\"])\n",
    "        if author == None:\n",
    "            author = \"Problème dans la fonction?\"\n",
    "        return author\n",
    "    else:\n",
    "        return row[\"Auteur\"]"
   ]
  },
  {
   "cell_type": "markdown",
   "metadata": {},
   "source": [
    "L'opération prend entre 7 et 8 minutes."
   ]
  },
  {
   "cell_type": "code",
   "execution_count": 65,
   "metadata": {},
   "outputs": [],
   "source": [
    "df_wikipedia['Auteur'] = df_wikipedia.apply(search_author, axis=1)"
   ]
  },
  {
   "cell_type": "markdown",
   "metadata": {},
   "source": [
    "Comme nous l'avons indiqué plus haut, pour compléter ces données, nous avons scrapper sur le site de la Maison du Livre."
   ]
  },
  {
   "cell_type": "code",
   "execution_count": 66,
   "metadata": {},
   "outputs": [],
   "source": [
    "def search_maison_du_livre(book_title, year):\n",
    "    #reformulation du titre en différente partie\n",
    "    parts = re.findall(r'\\w+|[^\\w\\s]', book_title)\n",
    "    book_title_gen = book_title.lower().strip()\n",
    "\n",
    "    # URL de recherche sur Livraddict\n",
    "    search_title = '+'.join(parts)\n",
    "    headers = {\n",
    "    'User-Agent': 'Mozilla/5.0 (Windows NT 10.0; Win64; x64; rv:118.0) Gecko/20100101 Firefox/118.0'}\n",
    "    search_url = f'https://www.maisondulivre.com/listeliv.php?base=paper&mots_recherche={search_title}+{year}'\n",
    "    time.sleep(5)\n",
    "\n",
    "    # Faire une requête pour récupérer la page des résultats de recherche\n",
    "    response = requests.get(search_url, headers=headers).content\n",
    "    response_text = response.decode('utf-8')\n",
    "\n",
    "    # Trouver le premier élément correspondant au lien d'un résultat\n",
    "    page = soup(response_text, \"html.parser\")\n",
    "    liste_livres = page.find('ul', {'id': 'liste_livres'})\n",
    "    livres = liste_livres.find_all(\"li\")\n",
    "    author = ''\n",
    "    for i in range(len(livres)):\n",
    "        livre = livres[i]\n",
    "        h2_titre = livre.find(\"h2\", class_=\"livre_titre\")\n",
    "        if h2_titre:\n",
    "            a_titre = h2_titre.find(\"a\")\n",
    "            titre = a_titre.get_text(strip=True)\n",
    "            title_adapted = re.sub(r'\\s?\\(.*?\\)', '', titre)\n",
    "            title_gen = title_adapted.lower().strip()\n",
    "            if title_gen == book_title_gen:\n",
    "                h2_auteur = livre.find(\"h2\", class_ = \"livre_auteur\")\n",
    "                if h2_auteur == None:\n",
    "                    auteur = \"Auteur non renseigné\"\n",
    "                else:\n",
    "                    a_auteur = h2_auteur.find(\"a\")\n",
    "                    author = a_auteur.get_text(strip=True)\n",
    "    if author == '':\n",
    "        author = \"Livre pas trouvé\"\n",
    "    return author"
   ]
  },
  {
   "cell_type": "code",
   "execution_count": 67,
   "metadata": {},
   "outputs": [],
   "source": [
    "def complete_author(row):\n",
    "    if row[\"Auteur\"] == \"Pas trouvé sur Gallimard\":\n",
    "        author = search_maison_du_livre(row[\"Titre\"], row[\"Année\"])\n",
    "        if author == None:\n",
    "            author = \"Problème dans la fonction?\"\n",
    "        return author\n",
    "    else:\n",
    "        return row[\"Auteur\"]"
   ]
  },
  {
   "cell_type": "markdown",
   "metadata": {},
   "source": [
    "L'opération ci-dessous prend à peu près 7 minutes."
   ]
  },
  {
   "cell_type": "code",
   "execution_count": 68,
   "metadata": {},
   "outputs": [],
   "source": [
    "df_wikipedia['Auteur'] = df_wikipedia.apply(complete_author, axis=1)"
   ]
  },
  {
   "cell_type": "markdown",
   "metadata": {},
   "source": [
    "Regardons la base de données pour vérifier qu'il n'y a plus d'incohérence et éventuellement les corriger"
   ]
  },
  {
   "cell_type": "code",
   "execution_count": 69,
   "metadata": {},
   "outputs": [
    {
     "data": {
      "text/html": [
       "<div>\n",
       "<style scoped>\n",
       "    .dataframe tbody tr th:only-of-type {\n",
       "        vertical-align: middle;\n",
       "    }\n",
       "\n",
       "    .dataframe tbody tr th {\n",
       "        vertical-align: top;\n",
       "    }\n",
       "\n",
       "    .dataframe thead th {\n",
       "        text-align: right;\n",
       "    }\n",
       "</style>\n",
       "<table border=\"1\" class=\"dataframe\">\n",
       "  <thead>\n",
       "    <tr style=\"text-align: right;\">\n",
       "      <th></th>\n",
       "      <th>Année</th>\n",
       "      <th>Prix</th>\n",
       "      <th>Auteur</th>\n",
       "      <th>Titre</th>\n",
       "    </tr>\n",
       "  </thead>\n",
       "  <tbody>\n",
       "    <tr>\n",
       "      <th>0</th>\n",
       "      <td>2019</td>\n",
       "      <td>Prix Femina</td>\n",
       "      <td>Sylvain Prudhomme</td>\n",
       "      <td>Par les routes</td>\n",
       "    </tr>\n",
       "    <tr>\n",
       "      <th>1</th>\n",
       "      <td>2019</td>\n",
       "      <td>Prix Femina étranger</td>\n",
       "      <td>Manuel Vilas</td>\n",
       "      <td>Ordesa</td>\n",
       "    </tr>\n",
       "    <tr>\n",
       "      <th>2</th>\n",
       "      <td>2019</td>\n",
       "      <td>Prix Femina essai</td>\n",
       "      <td>Emmanuelle Lambert</td>\n",
       "      <td>Giono furioso</td>\n",
       "    </tr>\n",
       "    <tr>\n",
       "      <th>3</th>\n",
       "      <td>2019</td>\n",
       "      <td>Prix Femina des lycéens</td>\n",
       "      <td>Victor Jestin</td>\n",
       "      <td>La Chaleur</td>\n",
       "    </tr>\n",
       "    <tr>\n",
       "      <th>4</th>\n",
       "      <td>2019</td>\n",
       "      <td>Prix Goncourt</td>\n",
       "      <td>Jean-Paul Dubois</td>\n",
       "      <td>Tous les hommes n'habitent pas le monde de la ...</td>\n",
       "    </tr>\n",
       "    <tr>\n",
       "      <th>5</th>\n",
       "      <td>2019</td>\n",
       "      <td>Prix Goncourt du premier roman</td>\n",
       "      <td>Marie Gauthier</td>\n",
       "      <td>Court vêtue</td>\n",
       "    </tr>\n",
       "    <tr>\n",
       "      <th>6</th>\n",
       "      <td>2019</td>\n",
       "      <td>Prix Goncourt des lycéens</td>\n",
       "      <td>Karine Tuil</td>\n",
       "      <td>Les Choses humaines</td>\n",
       "    </tr>\n",
       "    <tr>\n",
       "      <th>7</th>\n",
       "      <td>2019</td>\n",
       "      <td>Prix Goncourt de la nouvelle</td>\n",
       "      <td>Caroline Lamarche</td>\n",
       "      <td>Nous sommes à la lisière</td>\n",
       "    </tr>\n",
       "    <tr>\n",
       "      <th>8</th>\n",
       "      <td>2019</td>\n",
       "      <td>Prix Goncourt de la biographie</td>\n",
       "      <td>Emily Dickinson</td>\n",
       "      <td>Manifeste incertain, volume 7 : Emily Dickinso...</td>\n",
       "    </tr>\n",
       "    <tr>\n",
       "      <th>9</th>\n",
       "      <td>2019</td>\n",
       "      <td>Choix Goncourt de la Pologne</td>\n",
       "      <td>Louis-philippe Dalembert</td>\n",
       "      <td>Mur Méditerranée</td>\n",
       "    </tr>\n",
       "  </tbody>\n",
       "</table>\n",
       "</div>"
      ],
      "text/plain": [
       "  Année                            Prix                    Auteur  \\\n",
       "0  2019                     Prix Femina         Sylvain Prudhomme   \n",
       "1  2019            Prix Femina étranger              Manuel Vilas   \n",
       "2  2019               Prix Femina essai        Emmanuelle Lambert   \n",
       "3  2019         Prix Femina des lycéens             Victor Jestin   \n",
       "4  2019                   Prix Goncourt          Jean-Paul Dubois   \n",
       "5  2019  Prix Goncourt du premier roman            Marie Gauthier   \n",
       "6  2019       Prix Goncourt des lycéens               Karine Tuil   \n",
       "7  2019    Prix Goncourt de la nouvelle         Caroline Lamarche   \n",
       "8  2019  Prix Goncourt de la biographie           Emily Dickinson   \n",
       "9  2019    Choix Goncourt de la Pologne  Louis-philippe Dalembert   \n",
       "\n",
       "                                               Titre  \n",
       "0                                     Par les routes  \n",
       "1                                             Ordesa  \n",
       "2                                      Giono furioso  \n",
       "3                                         La Chaleur  \n",
       "4  Tous les hommes n'habitent pas le monde de la ...  \n",
       "5                                        Court vêtue  \n",
       "6                                Les Choses humaines  \n",
       "7                           Nous sommes à la lisière  \n",
       "8  Manifeste incertain, volume 7 : Emily Dickinso...  \n",
       "9                                   Mur Méditerranée  "
      ]
     },
     "execution_count": 69,
     "metadata": {},
     "output_type": "execute_result"
    }
   ],
   "source": [
    "df_wikipedia.head(10)"
   ]
  },
  {
   "cell_type": "markdown",
   "metadata": {},
   "source": [
    "Comme on le voit ci-dessous, il reste encore quelques livres qui n'ont pas été trouvés. Comme il n'y en a pas beaucoup, on corrige manuellement la base."
   ]
  },
  {
   "cell_type": "code",
   "execution_count": 70,
   "metadata": {},
   "outputs": [
    {
     "name": "stdout",
     "output_type": "stream",
     "text": [
      "    Année                                  Prix            Auteur  \\\n",
      "14   2019                    Prix Médicis essai  Livre pas trouvé   \n",
      "17   2019       Prix Renaudot du livre de poche  Livre pas trouvé   \n",
      "24   2019                         Prix Décembre  Livre pas trouvé   \n",
      "48   2019                        Jacques Collin  Livre pas trouvé   \n",
      "61   2019                             Prix Maya  Livre pas trouvé   \n",
      "75   2020                          Prix Médicis  Livre pas trouvé   \n",
      "78   2020                         Prix Renaudot  Livre pas trouvé   \n",
      "88   2020                 Prix du premier roman  Livre pas trouvé   \n",
      "95   2020                         Prix de Flore  Livre pas trouvé   \n",
      "104  2020              Prix littéraire du Monde                     \n",
      "107  2020                           Tess Sharpe                     \n",
      "124  2020                             Prix Maya  Livre pas trouvé   \n",
      "150  2021                   Prix Première Plume                     \n",
      "152  2021                         Prix de Flore  Livre pas trouvé   \n",
      "155  2021                    Prix des libraires  Livre pas trouvé   \n",
      "157  2021  Prix Eugène-Dabit du roman populiste                     \n",
      "180  2022        Prix Goncourt de la biographie                     \n",
      "199  2022                 Prix François-Mauriac  Livre pas trouvé   \n",
      "209  2022                           Anne Berest                     \n",
      "210  2022      Prix littéraire ENS Paris-Saclay                     \n",
      "214  2022             Prix du Quai des Orfèvres                     \n",
      "217  2022  Prix Eugène-Dabit du roman populiste                     \n",
      "222  2022      Grand prix des lectrices de Elle                     \n",
      "225  2022       Grand Prix de Poésie de la SGDL                     \n",
      "227  2022                           Prix Wepler                     \n",
      "247  2023        Prix Goncourt de la biographie                     \n",
      "267  2023                 Prix François-Mauriac  Livre pas trouvé   \n",
      "292  2023                            Ada Palmer  Livre pas trouvé   \n",
      "297  2023   Prix littéraire de la Ville de Caen                     \n",
      "\n",
      "                                      Titre  \n",
      "14                              J'ai oublié  \n",
      "17   Une vieille histoire. Nouvelle version  \n",
      "24                         Les Grands Cerfs  \n",
      "48                                   Anatèm  \n",
      "61               Les Paupières des poissons  \n",
      "75                      Le Cœur synthétique  \n",
      "78                         Histoire du fils  \n",
      "88                            Adios Cow Boy  \n",
      "95                                 La Grâce  \n",
      "104                                   Monde  \n",
      "107                          Mon territoire  \n",
      "124                        Insolente Veggie  \n",
      "150          Avant que le monde ne se ferme  \n",
      "152                     Le Voyant d'Étampes  \n",
      "155                                Héritage  \n",
      "157                      Des gens comme eux  \n",
      "180                   Léopold Sédar Senghor  \n",
      "199                                    Zita  \n",
      "209                        La Carte postale  \n",
      "210                              Le Passeur  \n",
      "214                           La Muse rouge  \n",
      "217           Les Garçons de la cité-jardin  \n",
      "222                        La Carte postale  \n",
      "225                             Réacteur 3   \n",
      "227                    Les Enfants endormis  \n",
      "247                           Georges Perec  \n",
      "267       À l’abri des hommes et des choses  \n",
      "292                            Terra Ignota  \n",
      "297           Mourir avant que d'apparaître  \n"
     ]
    }
   ],
   "source": [
    "erreur_recherche = [\"Livre pas trouvé\", \"\"]\n",
    "df_verif =  df_wikipedia[df_wikipedia[\"Auteur\"].isin(erreur_recherche)]\n",
    "print(df_verif)"
   ]
  },
  {
   "cell_type": "markdown",
   "metadata": {},
   "source": [
    "Corrections manuelles"
   ]
  },
  {
   "cell_type": "code",
   "execution_count": 71,
   "metadata": {},
   "outputs": [],
   "source": [
    "df_wikipedia.loc[df_wikipedia['Titre'] == \"J'ai oublié\", 'Auteur'] = 'Bulle Ogier'\n",
    "df_wikipedia.loc[df_wikipedia['Titre'] == \"Une vieille histoire. Nouvelle version\", 'Auteur'] = 'Jonathan Littell'\n",
    "df_wikipedia.loc[df_wikipedia['Titre'] == \"Les Grands Cerfs\", 'Auteur'] = 'Claudie Hunzinger'\n",
    "df_wikipedia.loc[df_wikipedia['Titre'] == \"Anatèm\", 'Auteur'] = 'Neal Stephenson'\n",
    "df_wikipedia.loc[df_wikipedia['Titre'] == \"Le Cœur synthétique\", 'Auteur'] = 'Chloé Delaume'\n",
    "df_wikipedia.loc[df_wikipedia['Titre'] == \"Terra Ignota\", 'Auteur'] = 'Ada Palmer'\n",
    "df_wikipedia.loc[df_wikipedia['Titre'] == \"Histoire du fils\", 'Auteur'] = 'Marie-Hélène Lafon'\n",
    "df_wikipedia.loc[df_wikipedia['Titre'] == \"Adios Cow Boy\", 'Auteur'] = 'Olja Savičević Ivančević'\n",
    "df_wikipedia.loc[df_wikipedia['Titre'] == \"La Grâce\", 'Auteur'] = 'Thibault de Montaigu'\n",
    "df_wikipedia.loc[df_wikipedia['Titre'] == \"Le Voyant d'Étampes\", 'Auteur'] = 'Abel Quentin'\n",
    "df_wikipedia.loc[df_wikipedia['Titre'] == \"Héritage\", 'Auteur'] = 'Miguel Bonnefoy'\n",
    "df_wikipedia.loc[(df_wikipedia['Titre'] == 'Les Paupières des poissons'), 'Auteur'] = 'Fanny Vaucher, Sébastien Moro'\n",
    "df_wikipedia.loc[df_wikipedia['Titre'] == 'Insolente Veggie', 'Auteur'] = 'Rosa B.'\n",
    "df_wikipedia.loc[df_wikipedia['Titre'] == 'Zita', 'Auteur'] = 'Olivier Hercend'\n",
    "df_wikipedia.loc[df_wikipedia['Titre'] == \"À l’abri des hommes et des choses\", 'Auteur'] = 'Stéphanie Boulay'"
   ]
  },
  {
   "cell_type": "code",
   "execution_count": 72,
   "metadata": {},
   "outputs": [],
   "source": [
    "df_wikipedia.loc[(df_wikipedia['Prix'] == 'Prix littéraire du Monde') & (df_wikipedia['Année'] == 2020), ['Titre', 'Auteur']] = ['Elle a menti pour les ailes', 'Francesca Serra']\n",
    "df_wikipedia.loc[(df_wikipedia['Prix'] == 'Prix Eugène-Dabit du roman populiste') & (df_wikipedia['Année'] == 2021), 'Auteur'] =  'Samira Sedira'\n",
    "df_wikipedia.loc[(df_wikipedia['Titre'] == 'Mon territoire') & (df_wikipedia['Année'] == 2020), ['Prix', 'Auteur']] = ['Grand prix des lectrices (Elle)', 'Tess Sharpe']\n",
    "df_wikipedia.loc[df_wikipedia['Titre'] == 'Avant que le monde ne se ferme','Auteur'] = 'Alain Mascaro'\n",
    "df_wikipedia.loc[df_wikipedia['Titre'] == 'Léopold Sédar Senghor','Auteur'] = ' Jean-Pierre Langellier'\n",
    "df_wikipedia.loc[df_wikipedia['Titre'] == 'La Carte postale','Auteur'] = 'Anne Berest'\n",
    "df_wikipedia.loc[df_wikipedia['Titre'] == 'Le Passeur','Auteur'] = 'Lois Lowry'\n",
    "df_wikipedia.loc[df_wikipedia['Titre'] == 'La Muse rouge','Auteur'] = 'Véronique de Haas'\n",
    "df_wikipedia.loc[df_wikipedia['Titre'] == 'Les Garçons de la cité-jardin','Auteur'] = 'Dan Nisand'\n",
    "df_wikipedia.loc[df_wikipedia['Titre'] == 'Réacteur 3 ','Auteur'] = 'Ludovic Bernhardt'\n",
    "df_wikipedia.loc[df_wikipedia['Titre'] == 'Les Enfants endormis','Auteur'] = 'Anthony Passeron'\n",
    "df_wikipedia.loc[df_wikipedia['Titre'] == 'Georges Perec','Auteur'] = 'Claude Burgelin'\n",
    "df_wikipedia.loc[df_wikipedia['Titre'] == \"Mourir avant que d'apparaître\",'Auteur'] = 'Rémi David'"
   ]
  },
  {
   "cell_type": "markdown",
   "metadata": {},
   "source": [
    "On vérifie qu'il n'y a plus de problème"
   ]
  },
  {
   "cell_type": "code",
   "execution_count": 73,
   "metadata": {},
   "outputs": [
    {
     "name": "stdout",
     "output_type": "stream",
     "text": [
      "Empty DataFrame\n",
      "Columns: [Année, Prix, Auteur, Titre]\n",
      "Index: []\n"
     ]
    }
   ],
   "source": [
    "erreur_recherche = [\"Livre pas trouvé\", \"\"]\n",
    "df_verif =  df_wikipedia[df_wikipedia[\"Auteur\"].isin(erreur_recherche)]\n",
    "print(df_verif)"
   ]
  },
  {
   "cell_type": "markdown",
   "metadata": {},
   "source": [
    "Maintenant, on rajoute une colonne de 1, indiquant que le livre a obtenu un prix."
   ]
  },
  {
   "cell_type": "code",
   "execution_count": 74,
   "metadata": {},
   "outputs": [
    {
     "name": "stdout",
     "output_type": "stream",
     "text": [
      "Colonnes avant sauvegarde : Index(['Année', 'Prix', 'Auteur', 'Titre', 'prix_19_23'], dtype='object')\n"
     ]
    }
   ],
   "source": [
    "# on ajoute une colonne indicatrice \"prix\" \n",
    "df_wikipedia['prix_19_23'] = 1\n",
    "print(\"Colonnes avant sauvegarde :\", df_wikipedia.columns)"
   ]
  },
  {
   "cell_type": "markdown",
   "metadata": {},
   "source": [
    "Désormais, on essaye de simplifier la base afin de n'avoir plus de doublons de livre pour plus de simplicité."
   ]
  },
  {
   "cell_type": "markdown",
   "metadata": {},
   "source": [
    "Maintenant, on s'attelle aux doublons."
   ]
  },
  {
   "cell_type": "code",
   "execution_count": 75,
   "metadata": {},
   "outputs": [],
   "source": [
    "df_wikifinal = df_wikipedia.drop_duplicates(subset=['Titre'])"
   ]
  },
  {
   "cell_type": "markdown",
   "metadata": {},
   "source": [
    "Vérifions que cela a bien marché."
   ]
  },
  {
   "cell_type": "code",
   "execution_count": 76,
   "metadata": {},
   "outputs": [
    {
     "name": "stdout",
     "output_type": "stream",
     "text": [
      "Empty DataFrame\n",
      "Columns: [Année, Prix, Auteur, Titre, prix_19_23, Doublons]\n",
      "Index: []\n"
     ]
    },
    {
     "name": "stderr",
     "output_type": "stream",
     "text": [
      "/tmp/ipykernel_17572/50846205.py:1: SettingWithCopyWarning: \n",
      "A value is trying to be set on a copy of a slice from a DataFrame.\n",
      "Try using .loc[row_indexer,col_indexer] = value instead\n",
      "\n",
      "See the caveats in the documentation: https://pandas.pydata.org/pandas-docs/stable/user_guide/indexing.html#returning-a-view-versus-a-copy\n",
      "  df_wikifinal.loc[:, 'Doublons'] = df_wikifinal['Titre'].duplicated(keep=False)  # Repère tous les doublons\n"
     ]
    }
   ],
   "source": [
    "df_wikifinal.loc[:, 'Doublons'] = df_wikifinal['Titre'].duplicated(keep=False)  # Repère tous les doublons\n",
    "\n",
    "# Afficher uniquement les lignes dupliquées\n",
    "doublons = df_wikifinal[df_wikifinal['Doublons']]\n",
    "print(doublons)"
   ]
  },
  {
   "cell_type": "markdown",
   "metadata": {},
   "source": [
    "Pour rendre la base propre, on enlève la colonne \"Doublons\"."
   ]
  },
  {
   "cell_type": "code",
   "execution_count": 77,
   "metadata": {},
   "outputs": [],
   "source": [
    "df_wikifinal = df_wikifinal.drop(columns=['Doublons'])"
   ]
  },
  {
   "cell_type": "markdown",
   "metadata": {},
   "source": [
    "Maintenant, on peut modifier le fichier CSV avec les modifications afin de le fusionner plus tard."
   ]
  },
  {
   "cell_type": "code",
   "execution_count": 78,
   "metadata": {},
   "outputs": [],
   "source": [
    "df_wikifinal.to_csv(\"prix_litteraires.csv\", index=False)"
   ]
  },
  {
   "cell_type": "markdown",
   "metadata": {},
   "source": [
    "#"
   ]
  },
  {
   "cell_type": "markdown",
   "metadata": {},
   "source": [
    "<div style=\"\n",
    "    font-family: 'Arial', sans-serif; \n",
    "    text-align: center; \n",
    "    padding: 10px; \n",
    "    background-color:rgb(210, 199, 255); \n",
    "    color: black; \n",
    "    border-radius: 5px; \n",
    "    font-size: 1.5em;\n",
    "\">\n",
    "    <strong>Partie 3: on merge les différentes bases pour simplifier l'analyse</strong>\n",
    "</div>"
   ]
  },
  {
   "cell_type": "markdown",
   "metadata": {},
   "source": [
    "On commence par charger les dataframe à partir des CSV. Cette étape nous permet à l'échelle d'une journée de pouvoir ne pas recharger toutes les bases à chaque fois. Toutefois, nous n'effectuons pas forcément cette ligne de code à chaque fois. Si nous venons de refaire tourner tout le code, on peut skipper cette partie."
   ]
  },
  {
   "cell_type": "code",
   "execution_count": 33,
   "metadata": {},
   "outputs": [],
   "source": [
    "df_fnac = pd.read_csv(\"best_sellers_fnac_2023_cleaned.csv\")\n",
    "df_babelio = pd.read_csv(\"23_livres_les_plus_lus_babelio.csv\")\n",
    "df_livraddict = pd.read_csv(\"livraddict_prix_2024.csv\")\n",
    "df_wiki_data = pd.read_csv(\"prix_litteraires.csv\")\n",
    "df_bibli_data = pd.read_csv(\"livres_les_plus_empruntes_a_paris.csv\")"
   ]
  },
  {
   "cell_type": "markdown",
   "metadata": {},
   "source": [
    "Il est nécessaire de renommer certaines colonnes pour standardiser le tout. Pour le moment, nous gardons les variables type_de_document et Catégorie respectivement des bases de bibliothèque et de Livraddict. Peut-être pourra-t-on s'intéresser très rapidement dans nos statistiques descriptives aux notes des ouvrages selon le genre."
   ]
  },
  {
   "cell_type": "code",
   "execution_count": 34,
   "metadata": {},
   "outputs": [],
   "source": [
    "df_bibli_data = df_bibli_data.rename(columns={'titre': 'Titre'})\n",
    "df_bibli_formerge = df_bibli_data.rename(columns={'reservations': 'Nb_réservations_bibli'})\n",
    "df_bibli_formerge = df_bibli_formerge.rename(columns={'auteur': 'Auteur'})\n",
    "df_bibli_formerge = df_bibli_formerge.drop(columns=['rang'])"
   ]
  },
  {
   "cell_type": "markdown",
   "metadata": {},
   "source": [
    "Ensuite, on normalise les titres en mettant tout en majuscule et en enlevant les espaces qui peuvent se créer avant le début ou après la fin de la chaîne de caractères. Le but est qu'il n'y ait pas d'erreur au moment du merge, ou le moins possible."
   ]
  },
  {
   "cell_type": "code",
   "execution_count": 35,
   "metadata": {},
   "outputs": [],
   "source": [
    "df_fnac['Titre'] = df_fnac['Titre'].str.lower().str.strip()\n",
    "df_babelio['Titre'] = df_babelio['Titre'].str.lower().str.strip()\n",
    "df_livraddict['Titre'] = df_livraddict['Titre'].str.lower().str.strip()\n",
    "df_wiki_data['Titre'] = df_wiki_data['Titre'].str.lower().str.strip()\n",
    "df_bibli_formerge['Titre'] = df_bibli_formerge['Titre'].str.lower().str.strip()"
   ]
  },
  {
   "cell_type": "markdown",
   "metadata": {},
   "source": [
    "Enfin, on fait notre opération merge. On merge les bases mes unes avec les autre l'une après l'autre.\n",
    "On doit également retravailler à chaque fois la colonne \"Auteur\". L'idée c'est de créer une colonne unique \"Auteur\" pour réunir toutes les information d'auteur dans une seule variable on donne un ordre de priorité: Auteur, Auteur_x, Auteur_y\n",
    "si une colonne contient une valeur manquante (NaN), elle est remplit par la valeur de la colonne suivante.\n",
    "La méthode .combine_first() remplit les valeurs manquantes (NaN) de la colonne de gauche (merged_df['Auteur']) \n",
    "avec les valeurs correspondantes de la colonne de droite (merged_df['Auteur_x'])."
   ]
  },
  {
   "cell_type": "code",
   "execution_count": 36,
   "metadata": {},
   "outputs": [],
   "source": [
    "merged_df = df_fnac.merge(df_babelio, on=\"Titre\", how=\"outer\")\n",
    "merged_df['Auteur']= None\n",
    "merged_df['Auteur'] = merged_df['Auteur'].combine_first(merged_df['Auteur_x']).combine_first(merged_df['Auteur_y'])\n",
    "merged_df.drop(columns=['Auteur_x', 'Auteur_y'], inplace=True)"
   ]
  },
  {
   "cell_type": "code",
   "execution_count": 37,
   "metadata": {},
   "outputs": [],
   "source": [
    "merged_df = merged_df.merge(df_livraddict, on=\"Titre\", how=\"outer\")\n",
    "merged_df['Auteur']= None\n",
    "merged_df['Auteur'] = merged_df['Auteur'].combine_first(merged_df['Auteur_x']).combine_first(merged_df['Auteur_y'])\n",
    "merged_df.drop(columns=['Auteur_x', 'Auteur_y'], inplace=True)"
   ]
  },
  {
   "cell_type": "code",
   "execution_count": 38,
   "metadata": {},
   "outputs": [],
   "source": [
    "merged_df = merged_df.merge(df_wiki_data, on=\"Titre\", how=\"outer\")\n",
    "merged_df['Auteur']= None\n",
    "merged_df['Auteur'] = merged_df['Auteur'].combine_first(merged_df['Auteur_x']).combine_first(merged_df['Auteur_y'])\n",
    "merged_df.drop(columns=['Auteur_x', 'Auteur_y'], inplace=True)"
   ]
  },
  {
   "cell_type": "code",
   "execution_count": 39,
   "metadata": {},
   "outputs": [],
   "source": [
    "merged_df = merged_df.merge(df_bibli_formerge, on=\"Titre\", how=\"outer\")\n",
    "merged_df['Auteur']= None\n",
    "merged_df['Auteur'] = merged_df['Auteur'].combine_first(merged_df['Auteur_x']).combine_first(merged_df['Auteur_y'])\n",
    "merged_df.drop(columns=['Auteur_x', 'Auteur_y'], inplace=True)"
   ]
  },
  {
   "cell_type": "code",
   "execution_count": 40,
   "metadata": {},
   "outputs": [
    {
     "data": {
      "text/html": [
       "<div>\n",
       "<style scoped>\n",
       "    .dataframe tbody tr th:only-of-type {\n",
       "        vertical-align: middle;\n",
       "    }\n",
       "\n",
       "    .dataframe tbody tr th {\n",
       "        vertical-align: top;\n",
       "    }\n",
       "\n",
       "    .dataframe thead th {\n",
       "        text-align: right;\n",
       "    }\n",
       "</style>\n",
       "<table border=\"1\" class=\"dataframe\">\n",
       "  <thead>\n",
       "    <tr style=\"text-align: right;\">\n",
       "      <th></th>\n",
       "      <th>Titre</th>\n",
       "      <th>top_fnac_1</th>\n",
       "      <th>top_fnac_2_plus</th>\n",
       "      <th>top_babelio</th>\n",
       "      <th>classement_babelio</th>\n",
       "      <th>Catégorie</th>\n",
       "      <th>top_livraddict</th>\n",
       "      <th>Année</th>\n",
       "      <th>Prix</th>\n",
       "      <th>prix_19_23</th>\n",
       "      <th>type_de_document</th>\n",
       "      <th>Nb_réservations_bibli</th>\n",
       "      <th>Classement_bibliothèque</th>\n",
       "      <th>Top_bibliothèque</th>\n",
       "      <th>Auteur</th>\n",
       "    </tr>\n",
       "  </thead>\n",
       "  <tbody>\n",
       "    <tr>\n",
       "      <th>0</th>\n",
       "      <td>(très) cher cinéma français</td>\n",
       "      <td>NaN</td>\n",
       "      <td>NaN</td>\n",
       "      <td>NaN</td>\n",
       "      <td>NaN</td>\n",
       "      <td>NaN</td>\n",
       "      <td>NaN</td>\n",
       "      <td>2019.0</td>\n",
       "      <td>Prix Renaudot essai</td>\n",
       "      <td>1.0</td>\n",
       "      <td>NaN</td>\n",
       "      <td>NaN</td>\n",
       "      <td>NaN</td>\n",
       "      <td>NaN</td>\n",
       "      <td>Éric Neuhoff</td>\n",
       "    </tr>\n",
       "    <tr>\n",
       "      <th>1</th>\n",
       "      <td>555</td>\n",
       "      <td>NaN</td>\n",
       "      <td>NaN</td>\n",
       "      <td>NaN</td>\n",
       "      <td>NaN</td>\n",
       "      <td>NaN</td>\n",
       "      <td>NaN</td>\n",
       "      <td>2022.0</td>\n",
       "      <td>Grand prix RTL-Lire</td>\n",
       "      <td>1.0</td>\n",
       "      <td>NaN</td>\n",
       "      <td>NaN</td>\n",
       "      <td>NaN</td>\n",
       "      <td>NaN</td>\n",
       "      <td>Hélène Gestern</td>\n",
       "    </tr>\n",
       "    <tr>\n",
       "      <th>2</th>\n",
       "      <td>adieu birkenau</td>\n",
       "      <td>1.0</td>\n",
       "      <td>0.0</td>\n",
       "      <td>NaN</td>\n",
       "      <td>NaN</td>\n",
       "      <td>Bd</td>\n",
       "      <td>1.0</td>\n",
       "      <td>NaN</td>\n",
       "      <td>NaN</td>\n",
       "      <td>NaN</td>\n",
       "      <td>NaN</td>\n",
       "      <td>NaN</td>\n",
       "      <td>NaN</td>\n",
       "      <td>NaN</td>\n",
       "      <td>Ginette Kolinka</td>\n",
       "    </tr>\n",
       "    <tr>\n",
       "      <th>3</th>\n",
       "      <td>adieu tanger</td>\n",
       "      <td>NaN</td>\n",
       "      <td>NaN</td>\n",
       "      <td>NaN</td>\n",
       "      <td>NaN</td>\n",
       "      <td>NaN</td>\n",
       "      <td>NaN</td>\n",
       "      <td>2023.0</td>\n",
       "      <td>Prix France Culture-Télérama</td>\n",
       "      <td>1.0</td>\n",
       "      <td>NaN</td>\n",
       "      <td>NaN</td>\n",
       "      <td>NaN</td>\n",
       "      <td>NaN</td>\n",
       "      <td>Salma El Moumni</td>\n",
       "    </tr>\n",
       "    <tr>\n",
       "      <th>4</th>\n",
       "      <td>adios cow boy</td>\n",
       "      <td>NaN</td>\n",
       "      <td>NaN</td>\n",
       "      <td>NaN</td>\n",
       "      <td>NaN</td>\n",
       "      <td>NaN</td>\n",
       "      <td>NaN</td>\n",
       "      <td>2020.0</td>\n",
       "      <td>Prix du premier roman</td>\n",
       "      <td>1.0</td>\n",
       "      <td>NaN</td>\n",
       "      <td>NaN</td>\n",
       "      <td>NaN</td>\n",
       "      <td>NaN</td>\n",
       "      <td>Olja Savičević Ivančević</td>\n",
       "    </tr>\n",
       "    <tr>\n",
       "      <th>5</th>\n",
       "      <td>anatèm</td>\n",
       "      <td>NaN</td>\n",
       "      <td>NaN</td>\n",
       "      <td>NaN</td>\n",
       "      <td>NaN</td>\n",
       "      <td>NaN</td>\n",
       "      <td>NaN</td>\n",
       "      <td>2019.0</td>\n",
       "      <td>Jacques Collin</td>\n",
       "      <td>1.0</td>\n",
       "      <td>NaN</td>\n",
       "      <td>NaN</td>\n",
       "      <td>NaN</td>\n",
       "      <td>NaN</td>\n",
       "      <td>Neal Stephenson</td>\n",
       "    </tr>\n",
       "    <tr>\n",
       "      <th>6</th>\n",
       "      <td>apeirogon</td>\n",
       "      <td>NaN</td>\n",
       "      <td>NaN</td>\n",
       "      <td>NaN</td>\n",
       "      <td>NaN</td>\n",
       "      <td>NaN</td>\n",
       "      <td>NaN</td>\n",
       "      <td>2021.0</td>\n",
       "      <td>Grand prix des lectrices de Elle</td>\n",
       "      <td>1.0</td>\n",
       "      <td>NaN</td>\n",
       "      <td>NaN</td>\n",
       "      <td>NaN</td>\n",
       "      <td>NaN</td>\n",
       "      <td>Colum McCann</td>\n",
       "    </tr>\n",
       "    <tr>\n",
       "      <th>7</th>\n",
       "      <td>arcadie</td>\n",
       "      <td>NaN</td>\n",
       "      <td>NaN</td>\n",
       "      <td>NaN</td>\n",
       "      <td>NaN</td>\n",
       "      <td>NaN</td>\n",
       "      <td>NaN</td>\n",
       "      <td>2019.0</td>\n",
       "      <td>Prix du Livre Inter</td>\n",
       "      <td>1.0</td>\n",
       "      <td>NaN</td>\n",
       "      <td>NaN</td>\n",
       "      <td>NaN</td>\n",
       "      <td>NaN</td>\n",
       "      <td>Emmanuelle Bayamack-Tam</td>\n",
       "    </tr>\n",
       "    <tr>\n",
       "      <th>8</th>\n",
       "      <td>argonne</td>\n",
       "      <td>NaN</td>\n",
       "      <td>NaN</td>\n",
       "      <td>NaN</td>\n",
       "      <td>NaN</td>\n",
       "      <td>NaN</td>\n",
       "      <td>NaN</td>\n",
       "      <td>2022.0</td>\n",
       "      <td>Prix Terre de France - Ouest-France</td>\n",
       "      <td>1.0</td>\n",
       "      <td>NaN</td>\n",
       "      <td>NaN</td>\n",
       "      <td>NaN</td>\n",
       "      <td>NaN</td>\n",
       "      <td>Stéphane Emond</td>\n",
       "    </tr>\n",
       "    <tr>\n",
       "      <th>9</th>\n",
       "      <td>astérix, hors collection : l’empire du milieu</td>\n",
       "      <td>1.0</td>\n",
       "      <td>1.0</td>\n",
       "      <td>NaN</td>\n",
       "      <td>NaN</td>\n",
       "      <td>NaN</td>\n",
       "      <td>NaN</td>\n",
       "      <td>NaN</td>\n",
       "      <td>NaN</td>\n",
       "      <td>NaN</td>\n",
       "      <td>NaN</td>\n",
       "      <td>NaN</td>\n",
       "      <td>NaN</td>\n",
       "      <td>NaN</td>\n",
       "      <td>Fabrice Tarrin, Olivier Gay</td>\n",
       "    </tr>\n",
       "    <tr>\n",
       "      <th>10</th>\n",
       "      <td>astérix, tome 40 : l’iris blanc</td>\n",
       "      <td>1.0</td>\n",
       "      <td>1.0</td>\n",
       "      <td>NaN</td>\n",
       "      <td>NaN</td>\n",
       "      <td>NaN</td>\n",
       "      <td>NaN</td>\n",
       "      <td>NaN</td>\n",
       "      <td>NaN</td>\n",
       "      <td>NaN</td>\n",
       "      <td>NaN</td>\n",
       "      <td>NaN</td>\n",
       "      <td>NaN</td>\n",
       "      <td>NaN</td>\n",
       "      <td>Didier Conrad, Fabcaro</td>\n",
       "    </tr>\n",
       "    <tr>\n",
       "      <th>11</th>\n",
       "      <td>attaque au clair de lune</td>\n",
       "      <td>NaN</td>\n",
       "      <td>NaN</td>\n",
       "      <td>NaN</td>\n",
       "      <td>NaN</td>\n",
       "      <td>NaN</td>\n",
       "      <td>NaN</td>\n",
       "      <td>NaN</td>\n",
       "      <td>NaN</td>\n",
       "      <td>NaN</td>\n",
       "      <td>Bande dessinée jeunesse</td>\n",
       "      <td>196.0</td>\n",
       "      <td>14.0</td>\n",
       "      <td>1.0</td>\n",
       "      <td>Oda,  Eiichiro</td>\n",
       "    </tr>\n",
       "    <tr>\n",
       "      <th>12</th>\n",
       "      <td>attaquer la terre et le soleil</td>\n",
       "      <td>NaN</td>\n",
       "      <td>NaN</td>\n",
       "      <td>NaN</td>\n",
       "      <td>NaN</td>\n",
       "      <td>NaN</td>\n",
       "      <td>NaN</td>\n",
       "      <td>2022.0</td>\n",
       "      <td>Prix littéraire du Monde</td>\n",
       "      <td>1.0</td>\n",
       "      <td>NaN</td>\n",
       "      <td>NaN</td>\n",
       "      <td>NaN</td>\n",
       "      <td>NaN</td>\n",
       "      <td>Mathieu Belezi</td>\n",
       "    </tr>\n",
       "    <tr>\n",
       "      <th>13</th>\n",
       "      <td>au bout de la nuit</td>\n",
       "      <td>NaN</td>\n",
       "      <td>NaN</td>\n",
       "      <td>NaN</td>\n",
       "      <td>NaN</td>\n",
       "      <td>NaN</td>\n",
       "      <td>NaN</td>\n",
       "      <td>2019.0</td>\n",
       "      <td>Grand prix Roman de l'été de Femme Actuelle</td>\n",
       "      <td>1.0</td>\n",
       "      <td>NaN</td>\n",
       "      <td>NaN</td>\n",
       "      <td>NaN</td>\n",
       "      <td>NaN</td>\n",
       "      <td>Bruno Bouzounie</td>\n",
       "    </tr>\n",
       "    <tr>\n",
       "      <th>14</th>\n",
       "      <td>au cœur d'un été tout en or</td>\n",
       "      <td>NaN</td>\n",
       "      <td>NaN</td>\n",
       "      <td>NaN</td>\n",
       "      <td>NaN</td>\n",
       "      <td>NaN</td>\n",
       "      <td>NaN</td>\n",
       "      <td>2020.0</td>\n",
       "      <td>Prix Goncourt de la nouvelle</td>\n",
       "      <td>1.0</td>\n",
       "      <td>NaN</td>\n",
       "      <td>NaN</td>\n",
       "      <td>NaN</td>\n",
       "      <td>NaN</td>\n",
       "      <td>Anne Serre</td>\n",
       "    </tr>\n",
       "  </tbody>\n",
       "</table>\n",
       "</div>"
      ],
      "text/plain": [
       "                                            Titre  top_fnac_1  \\\n",
       "0                     (très) cher cinéma français         NaN   \n",
       "1                                             555         NaN   \n",
       "2                                  adieu birkenau         1.0   \n",
       "3                                    adieu tanger         NaN   \n",
       "4                                   adios cow boy         NaN   \n",
       "5                                          anatèm         NaN   \n",
       "6                                       apeirogon         NaN   \n",
       "7                                         arcadie         NaN   \n",
       "8                                         argonne         NaN   \n",
       "9   astérix, hors collection : l’empire du milieu         1.0   \n",
       "10                astérix, tome 40 : l’iris blanc         1.0   \n",
       "11                       attaque au clair de lune         NaN   \n",
       "12                 attaquer la terre et le soleil         NaN   \n",
       "13                             au bout de la nuit         NaN   \n",
       "14                    au cœur d'un été tout en or         NaN   \n",
       "\n",
       "    top_fnac_2_plus  top_babelio  classement_babelio Catégorie  \\\n",
       "0               NaN          NaN                 NaN       NaN   \n",
       "1               NaN          NaN                 NaN       NaN   \n",
       "2               0.0          NaN                 NaN        Bd   \n",
       "3               NaN          NaN                 NaN       NaN   \n",
       "4               NaN          NaN                 NaN       NaN   \n",
       "5               NaN          NaN                 NaN       NaN   \n",
       "6               NaN          NaN                 NaN       NaN   \n",
       "7               NaN          NaN                 NaN       NaN   \n",
       "8               NaN          NaN                 NaN       NaN   \n",
       "9               1.0          NaN                 NaN       NaN   \n",
       "10              1.0          NaN                 NaN       NaN   \n",
       "11              NaN          NaN                 NaN       NaN   \n",
       "12              NaN          NaN                 NaN       NaN   \n",
       "13              NaN          NaN                 NaN       NaN   \n",
       "14              NaN          NaN                 NaN       NaN   \n",
       "\n",
       "    top_livraddict   Année                                         Prix  \\\n",
       "0              NaN  2019.0                          Prix Renaudot essai   \n",
       "1              NaN  2022.0                          Grand prix RTL-Lire   \n",
       "2              1.0     NaN                                          NaN   \n",
       "3              NaN  2023.0                 Prix France Culture-Télérama   \n",
       "4              NaN  2020.0                        Prix du premier roman   \n",
       "5              NaN  2019.0                               Jacques Collin   \n",
       "6              NaN  2021.0             Grand prix des lectrices de Elle   \n",
       "7              NaN  2019.0                          Prix du Livre Inter   \n",
       "8              NaN  2022.0          Prix Terre de France - Ouest-France   \n",
       "9              NaN     NaN                                          NaN   \n",
       "10             NaN     NaN                                          NaN   \n",
       "11             NaN     NaN                                          NaN   \n",
       "12             NaN  2022.0                     Prix littéraire du Monde   \n",
       "13             NaN  2019.0  Grand prix Roman de l'été de Femme Actuelle   \n",
       "14             NaN  2020.0                 Prix Goncourt de la nouvelle   \n",
       "\n",
       "    prix_19_23         type_de_document  Nb_réservations_bibli  \\\n",
       "0          1.0                      NaN                    NaN   \n",
       "1          1.0                      NaN                    NaN   \n",
       "2          NaN                      NaN                    NaN   \n",
       "3          1.0                      NaN                    NaN   \n",
       "4          1.0                      NaN                    NaN   \n",
       "5          1.0                      NaN                    NaN   \n",
       "6          1.0                      NaN                    NaN   \n",
       "7          1.0                      NaN                    NaN   \n",
       "8          1.0                      NaN                    NaN   \n",
       "9          NaN                      NaN                    NaN   \n",
       "10         NaN                      NaN                    NaN   \n",
       "11         NaN  Bande dessinée jeunesse                  196.0   \n",
       "12         1.0                      NaN                    NaN   \n",
       "13         1.0                      NaN                    NaN   \n",
       "14         1.0                      NaN                    NaN   \n",
       "\n",
       "    Classement_bibliothèque  Top_bibliothèque                       Auteur  \n",
       "0                       NaN               NaN                 Éric Neuhoff  \n",
       "1                       NaN               NaN               Hélène Gestern  \n",
       "2                       NaN               NaN              Ginette Kolinka  \n",
       "3                       NaN               NaN              Salma El Moumni  \n",
       "4                       NaN               NaN     Olja Savičević Ivančević  \n",
       "5                       NaN               NaN              Neal Stephenson  \n",
       "6                       NaN               NaN                 Colum McCann  \n",
       "7                       NaN               NaN      Emmanuelle Bayamack-Tam  \n",
       "8                       NaN               NaN              Stéphane Emond   \n",
       "9                       NaN               NaN  Fabrice Tarrin, Olivier Gay  \n",
       "10                      NaN               NaN       Didier Conrad, Fabcaro  \n",
       "11                     14.0               1.0               Oda,  Eiichiro  \n",
       "12                      NaN               NaN               Mathieu Belezi  \n",
       "13                      NaN               NaN              Bruno Bouzounie  \n",
       "14                      NaN               NaN                   Anne Serre  "
      ]
     },
     "execution_count": 40,
     "metadata": {},
     "output_type": "execute_result"
    }
   ],
   "source": [
    "merged_df.head(15)"
   ]
  },
  {
   "cell_type": "markdown",
   "metadata": {},
   "source": [
    "Désormais, on remplace toutes les valeurs None par des 0 afin d'avoir une base propre"
   ]
  },
  {
   "cell_type": "code",
   "execution_count": 41,
   "metadata": {},
   "outputs": [],
   "source": [
    "def place0(row):\n",
    "    global column\n",
    "    if np.isnan(row[column]):\n",
    "        value = 0\n",
    "    else:\n",
    "        value = row[column]\n",
    "    return value"
   ]
  },
  {
   "cell_type": "code",
   "execution_count": 45,
   "metadata": {},
   "outputs": [],
   "source": [
    "columns = ['top_fnac_1', 'top_fnac_2_plus', 'top_babelio', 'top_livraddict', 'prix_19_23', 'Top_bibliothèque']\n",
    "for i in range(0,len(columns)):\n",
    "    column = columns[i]\n",
    "    merged_df[column] = merged_df.apply(place0, axis=1)"
   ]
  },
  {
   "cell_type": "code",
   "execution_count": 46,
   "metadata": {},
   "outputs": [
    {
     "data": {
      "text/html": [
       "<div>\n",
       "<style scoped>\n",
       "    .dataframe tbody tr th:only-of-type {\n",
       "        vertical-align: middle;\n",
       "    }\n",
       "\n",
       "    .dataframe tbody tr th {\n",
       "        vertical-align: top;\n",
       "    }\n",
       "\n",
       "    .dataframe thead th {\n",
       "        text-align: right;\n",
       "    }\n",
       "</style>\n",
       "<table border=\"1\" class=\"dataframe\">\n",
       "  <thead>\n",
       "    <tr style=\"text-align: right;\">\n",
       "      <th></th>\n",
       "      <th>Titre</th>\n",
       "      <th>top_fnac_1</th>\n",
       "      <th>top_fnac_2_plus</th>\n",
       "      <th>top_babelio</th>\n",
       "      <th>classement_babelio</th>\n",
       "      <th>Catégorie</th>\n",
       "      <th>top_livraddict</th>\n",
       "      <th>Année</th>\n",
       "      <th>Prix</th>\n",
       "      <th>prix_19_23</th>\n",
       "      <th>type_de_document</th>\n",
       "      <th>Nb_réservations_bibli</th>\n",
       "      <th>Classement_bibliothèque</th>\n",
       "      <th>Top_bibliothèque</th>\n",
       "      <th>Auteur</th>\n",
       "    </tr>\n",
       "  </thead>\n",
       "  <tbody>\n",
       "    <tr>\n",
       "      <th>0</th>\n",
       "      <td>(très) cher cinéma français</td>\n",
       "      <td>0.0</td>\n",
       "      <td>0.0</td>\n",
       "      <td>0.0</td>\n",
       "      <td>NaN</td>\n",
       "      <td>NaN</td>\n",
       "      <td>0.0</td>\n",
       "      <td>2019.0</td>\n",
       "      <td>Prix Renaudot essai</td>\n",
       "      <td>1.0</td>\n",
       "      <td>NaN</td>\n",
       "      <td>NaN</td>\n",
       "      <td>NaN</td>\n",
       "      <td>0.0</td>\n",
       "      <td>Éric Neuhoff</td>\n",
       "    </tr>\n",
       "    <tr>\n",
       "      <th>1</th>\n",
       "      <td>555</td>\n",
       "      <td>0.0</td>\n",
       "      <td>0.0</td>\n",
       "      <td>0.0</td>\n",
       "      <td>NaN</td>\n",
       "      <td>NaN</td>\n",
       "      <td>0.0</td>\n",
       "      <td>2022.0</td>\n",
       "      <td>Grand prix RTL-Lire</td>\n",
       "      <td>1.0</td>\n",
       "      <td>NaN</td>\n",
       "      <td>NaN</td>\n",
       "      <td>NaN</td>\n",
       "      <td>0.0</td>\n",
       "      <td>Hélène Gestern</td>\n",
       "    </tr>\n",
       "    <tr>\n",
       "      <th>2</th>\n",
       "      <td>adieu birkenau</td>\n",
       "      <td>1.0</td>\n",
       "      <td>0.0</td>\n",
       "      <td>0.0</td>\n",
       "      <td>NaN</td>\n",
       "      <td>Bd</td>\n",
       "      <td>1.0</td>\n",
       "      <td>NaN</td>\n",
       "      <td>NaN</td>\n",
       "      <td>0.0</td>\n",
       "      <td>NaN</td>\n",
       "      <td>NaN</td>\n",
       "      <td>NaN</td>\n",
       "      <td>0.0</td>\n",
       "      <td>Ginette Kolinka</td>\n",
       "    </tr>\n",
       "    <tr>\n",
       "      <th>3</th>\n",
       "      <td>adieu tanger</td>\n",
       "      <td>0.0</td>\n",
       "      <td>0.0</td>\n",
       "      <td>0.0</td>\n",
       "      <td>NaN</td>\n",
       "      <td>NaN</td>\n",
       "      <td>0.0</td>\n",
       "      <td>2023.0</td>\n",
       "      <td>Prix France Culture-Télérama</td>\n",
       "      <td>1.0</td>\n",
       "      <td>NaN</td>\n",
       "      <td>NaN</td>\n",
       "      <td>NaN</td>\n",
       "      <td>0.0</td>\n",
       "      <td>Salma El Moumni</td>\n",
       "    </tr>\n",
       "    <tr>\n",
       "      <th>4</th>\n",
       "      <td>adios cow boy</td>\n",
       "      <td>0.0</td>\n",
       "      <td>0.0</td>\n",
       "      <td>0.0</td>\n",
       "      <td>NaN</td>\n",
       "      <td>NaN</td>\n",
       "      <td>0.0</td>\n",
       "      <td>2020.0</td>\n",
       "      <td>Prix du premier roman</td>\n",
       "      <td>1.0</td>\n",
       "      <td>NaN</td>\n",
       "      <td>NaN</td>\n",
       "      <td>NaN</td>\n",
       "      <td>0.0</td>\n",
       "      <td>Olja Savičević Ivančević</td>\n",
       "    </tr>\n",
       "    <tr>\n",
       "      <th>5</th>\n",
       "      <td>anatèm</td>\n",
       "      <td>0.0</td>\n",
       "      <td>0.0</td>\n",
       "      <td>0.0</td>\n",
       "      <td>NaN</td>\n",
       "      <td>NaN</td>\n",
       "      <td>0.0</td>\n",
       "      <td>2019.0</td>\n",
       "      <td>Jacques Collin</td>\n",
       "      <td>1.0</td>\n",
       "      <td>NaN</td>\n",
       "      <td>NaN</td>\n",
       "      <td>NaN</td>\n",
       "      <td>0.0</td>\n",
       "      <td>Neal Stephenson</td>\n",
       "    </tr>\n",
       "    <tr>\n",
       "      <th>6</th>\n",
       "      <td>apeirogon</td>\n",
       "      <td>0.0</td>\n",
       "      <td>0.0</td>\n",
       "      <td>0.0</td>\n",
       "      <td>NaN</td>\n",
       "      <td>NaN</td>\n",
       "      <td>0.0</td>\n",
       "      <td>2021.0</td>\n",
       "      <td>Grand prix des lectrices de Elle</td>\n",
       "      <td>1.0</td>\n",
       "      <td>NaN</td>\n",
       "      <td>NaN</td>\n",
       "      <td>NaN</td>\n",
       "      <td>0.0</td>\n",
       "      <td>Colum McCann</td>\n",
       "    </tr>\n",
       "    <tr>\n",
       "      <th>7</th>\n",
       "      <td>arcadie</td>\n",
       "      <td>0.0</td>\n",
       "      <td>0.0</td>\n",
       "      <td>0.0</td>\n",
       "      <td>NaN</td>\n",
       "      <td>NaN</td>\n",
       "      <td>0.0</td>\n",
       "      <td>2019.0</td>\n",
       "      <td>Prix du Livre Inter</td>\n",
       "      <td>1.0</td>\n",
       "      <td>NaN</td>\n",
       "      <td>NaN</td>\n",
       "      <td>NaN</td>\n",
       "      <td>0.0</td>\n",
       "      <td>Emmanuelle Bayamack-Tam</td>\n",
       "    </tr>\n",
       "  </tbody>\n",
       "</table>\n",
       "</div>"
      ],
      "text/plain": [
       "                         Titre  top_fnac_1  top_fnac_2_plus  top_babelio  \\\n",
       "0  (très) cher cinéma français         0.0              0.0          0.0   \n",
       "1                          555         0.0              0.0          0.0   \n",
       "2               adieu birkenau         1.0              0.0          0.0   \n",
       "3                 adieu tanger         0.0              0.0          0.0   \n",
       "4                adios cow boy         0.0              0.0          0.0   \n",
       "5                       anatèm         0.0              0.0          0.0   \n",
       "6                    apeirogon         0.0              0.0          0.0   \n",
       "7                      arcadie         0.0              0.0          0.0   \n",
       "\n",
       "   classement_babelio Catégorie  top_livraddict   Année  \\\n",
       "0                 NaN       NaN             0.0  2019.0   \n",
       "1                 NaN       NaN             0.0  2022.0   \n",
       "2                 NaN        Bd             1.0     NaN   \n",
       "3                 NaN       NaN             0.0  2023.0   \n",
       "4                 NaN       NaN             0.0  2020.0   \n",
       "5                 NaN       NaN             0.0  2019.0   \n",
       "6                 NaN       NaN             0.0  2021.0   \n",
       "7                 NaN       NaN             0.0  2019.0   \n",
       "\n",
       "                               Prix  prix_19_23 type_de_document  \\\n",
       "0               Prix Renaudot essai         1.0              NaN   \n",
       "1               Grand prix RTL-Lire         1.0              NaN   \n",
       "2                               NaN         0.0              NaN   \n",
       "3      Prix France Culture-Télérama         1.0              NaN   \n",
       "4             Prix du premier roman         1.0              NaN   \n",
       "5                    Jacques Collin         1.0              NaN   \n",
       "6  Grand prix des lectrices de Elle         1.0              NaN   \n",
       "7               Prix du Livre Inter         1.0              NaN   \n",
       "\n",
       "   Nb_réservations_bibli  Classement_bibliothèque  Top_bibliothèque  \\\n",
       "0                    NaN                      NaN               0.0   \n",
       "1                    NaN                      NaN               0.0   \n",
       "2                    NaN                      NaN               0.0   \n",
       "3                    NaN                      NaN               0.0   \n",
       "4                    NaN                      NaN               0.0   \n",
       "5                    NaN                      NaN               0.0   \n",
       "6                    NaN                      NaN               0.0   \n",
       "7                    NaN                      NaN               0.0   \n",
       "\n",
       "                     Auteur  \n",
       "0              Éric Neuhoff  \n",
       "1            Hélène Gestern  \n",
       "2           Ginette Kolinka  \n",
       "3           Salma El Moumni  \n",
       "4  Olja Savičević Ivančević  \n",
       "5           Neal Stephenson  \n",
       "6              Colum McCann  \n",
       "7   Emmanuelle Bayamack-Tam  "
      ]
     },
     "execution_count": 46,
     "metadata": {},
     "output_type": "execute_result"
    }
   ],
   "source": [
    "merged_df.head(8)"
   ]
  },
  {
   "cell_type": "markdown",
   "metadata": {},
   "source": [
    "On remarque qu'il reste quelques doubles que nous allons donc corriger à la main. C'est très pratique de les détecter comme la base est maintenant triée dans l'ordre alphabétique"
   ]
  },
  {
   "cell_type": "code",
   "execution_count": 47,
   "metadata": {},
   "outputs": [],
   "source": [
    "merged_df = merged_df.drop(index=[195, 203, 205,215, 263, 353, 356,441])\n",
    "merged_df.loc[merged_df['Titre'] == \"ton absence n'est que ténèbres\", 'prix_19_23'] = 1"
   ]
  },
  {
   "cell_type": "code",
   "execution_count": 48,
   "metadata": {},
   "outputs": [],
   "source": [
    "merged_df.to_csv('Base_finale.csv', index=False)"
   ]
  },
  {
   "cell_type": "markdown",
   "metadata": {},
   "source": [
    "# IV-"
   ]
  },
  {
   "cell_type": "markdown",
   "metadata": {},
   "source": [
    "<div style=\"\n",
    "    font-family: 'Arial', sans-serif; \n",
    "    text-align: center; \n",
    "    padding: 10px; \n",
    "    background-color:rgb(210, 199, 255); \n",
    "    color: black; \n",
    "    border-radius: 5px; \n",
    "    font-size: 1.5em;\n",
    "\">\n",
    "    <strong>Partie 4: Utilisation de l'API Youtube pour rechercher des vidéos</strong>\n",
    "</div>"
   ]
  },
  {
   "cell_type": "markdown",
   "metadata": {},
   "source": [
    "## Création d'un projet sur Google Cloud Console\n",
    "\n",
    "**Pour utiliser, la YouTube Data API v3 qui nous servira par la suite, il est nécessaire de créer un projet sur Google Cloud Console.**\n",
    "\n",
    "Etape 1 : Créer un projet sur Google Cloud Console\n",
    "-Aller sur [la Google Cloud Console](https://console.cloud.google.com).\n",
    "-Créer un nouveau projet en cliquant sur \"Select a project\" puis \"New Project\".\n",
    "-Donner un nom à votre projet et cliquer sur \"Create\".\n",
    "\n",
    "Etape 2 : Activer l'API YouTube Data\n",
    "-Aller dans le \"API & Services\" > \"Library\" dans la Google Cloud Console.\n",
    "-Chercher YouTube Data API v3 et cliquez dessus.\n",
    "-Cliquer sur \"Enable\" pour activer l'API.\n",
    "\n",
    "Etape 3 : Créer des identifiants pour l'API\n",
    "- Aller dans \"API & Services\" > \"Credentials\".\n",
    "- Cliquer sur \"Create Credentials\" et choisir \"API key\".\n",
    "- L'API key générée apparaîtra. Copier cette clé, vous en aurez besoin pour effectuer des requêtes."
   ]
  },
  {
   "cell_type": "markdown",
   "metadata": {},
   "source": [
    "## Création de bases de vidéos youtube"
   ]
  },
  {
   "cell_type": "markdown",
   "metadata": {},
   "source": [
    "**On cherche à obtenir les dates de publications, titres et descriptions des vidéos youtube sur des livres publiés en 2023**"
   ]
  },
  {
   "cell_type": "code",
   "execution_count": null,
   "metadata": {},
   "outputs": [],
   "source": [
    "import pandas as pd\n",
    "import requests\n",
    "\n",
    "# Remplacez key par sa propre clé API (voir ## 0 Creation d'un projet sur Google Cloud Console)\n",
    "\n",
    "# Fonction pour récupérer les vidéos\n",
    "def get_videos(query, max_results=50, key):\n",
    "    url = f'https://www.googleapis.com/youtube/v3/search?part=snippet&q={query}&type=video&maxResults={max_results}&key={key}'\n",
    "    response = requests.get(url)  # Requête pour rechercher des vidéos\n",
    "    data = response.json()\n",
    "\n",
    "    videos = []\n",
    "    for video in data['items']:\n",
    "        video_info = {\n",
    "            'video_id': video['id']['videoId'],\n",
    "            'title': video['snippet']['title'],\n",
    "            'description': video['snippet']['description'],\n",
    "            'published_at': video['snippet']['publishedAt'],\n",
    "            'channel_title': video['snippet']['channelTitle']\n",
    "        }\n",
    "        videos.append(video_info)\n",
    "\n",
    "    # Récupérer les pages suivantes si nécessaire\n",
    "    next_page_token = data.get('nextPageToken')\n",
    "    while next_page_token:\n",
    "        url = f'https://www.googleapis.com/youtube/v3/search?part=snippet&q={query}&type=video&maxResults={max_results}&pageToken={next_page_token}&key={key}'\n",
    "        response = requests.get(url)\n",
    "        data = response.json()\n",
    "        for video in data['items']:\n",
    "            video_info = {\n",
    "                'video_id': video['id']['videoId'],\n",
    "                'title': video['snippet']['title'],\n",
    "                'description': video['snippet']['description'],\n",
    "                'published_at': video['snippet']['publishedAt'],\n",
    "                'channel_title': video['snippet']['channelTitle']\n",
    "            }\n",
    "            videos.append(video_info)\n",
    "        next_page_token = data.get('nextPageToken')\n",
    "\n",
    "    return videos\n",
    "\n",
    "# Appel de la fonction pour récupérer les vidéos\n",
    "query = \"nouveauté livre 2023\"\n",
    "videos = get_videos(query, max_results=50, key)\n",
    "\n",
    "# Convertir les données en DataFrame\n",
    "df = pd.DataFrame(videos)\n",
    "\n",
    "# Sauvegarder le DataFrame sous forme de fichier CSV\n",
    "df.to_csv('youtube_nouveauté_livre_2023.csv', index=False)\n",
    "\n",
    "print(\"Le fichier CSV a été créé avec succès !\")"
   ]
  },
  {
   "cell_type": "markdown",
   "metadata": {},
   "source": [
    "**On cherche à obtenir les dates de publication, titres et descriptions des vidéos youtube publiées entre 2019 et 2023 sur des livres**"
   ]
  },
  {
   "cell_type": "code",
   "execution_count": null,
   "metadata": {},
   "outputs": [],
   "source": [
    "import pandas as pd\n",
    "import requests\n",
    "\n",
    "# Remplacez key par sa propre clé API\n",
    "\n",
    "# Fonction pour récupérer les vidéos avec des dates spécifiques\n",
    "def get_videos(query, start_date=\"2019-01-01T00:00:00Z\", end_date=\"2023-12-31T23:59:59Z\", max_results=50,key):\n",
    "    url = f'https://www.googleapis.com/youtube/v3/search?part=snippet&q={query}&type=video&maxResults={max_results}&publishedAfter={start_date}&publishedBefore={end_date}&key={key}'\n",
    "    response = requests.get(url)  # Requête pour rechercher des vidéos\n",
    "    data = response.json()\n",
    "\n",
    "    videos = []\n",
    "    for video in data['items']:\n",
    "        video_info = {\n",
    "            'video_id': video['id']['videoId'],\n",
    "            'title': video['snippet']['title'],\n",
    "            'description': video['snippet']['description'],\n",
    "            'published_at': video['snippet']['publishedAt'],\n",
    "            'channel_title': video['snippet']['channelTitle']\n",
    "        }\t\n",
    "        videos.append(video_info)\n",
    "\n",
    "    # Récupérer les pages suivantes si nécessaire\n",
    "    next_page_token = data.get('nextPageToken')\n",
    "    while next_page_token:\n",
    "        url = f'https://www.googleapis.com/youtube/v3/search?part=snippet&q={query}&type=video&maxResults={max_results}&pageToken={next_page_token}&publishedAfter={start_date}&publishedBefore={end_date}&key={key}'\n",
    "        response = requests.get(url)\n",
    "        data = response.json()\n",
    "        for video in data['items']:\n",
    "            video_info = {\n",
    "                'video_id': video['id']['videoId'],\n",
    "                'title': video['snippet']['title'],\n",
    "                'description': video['snippet']['description'],\n",
    "                'published_at': video['snippet']['publishedAt'],\n",
    "                'channel_title': video['snippet']['channelTitle']\n",
    "            }\n",
    "            videos.append(video_info)\n",
    "        next_page_token = data.get('nextPageToken')\n",
    "\n",
    "    return videos\n",
    "\n",
    "# Appel de la fonction pour récupérer les vidéos entre 2019 et 2023\n",
    "query = \"livre\"\n",
    "videos = get_videos(query, start_date=\"2019-01-01T00:00:00Z\", end_date=\"2023-12-31T23:59:59Z\", max_results=50, key)\n",
    "\n",
    "# Convertir les données en DataFrame\n",
    "df = pd.DataFrame(videos)\n",
    "\n",
    "# Sauvegarder le DataFrame sous forme de fichier CSV\n",
    "df.to_csv('youtube_livre_2019_2023.csv', index=False)\n",
    "\n",
    "print(\"Le fichier CSV a été créé avec succès !\")"
   ]
  },
  {
   "cell_type": "markdown",
   "metadata": {},
   "source": [
    "### Recherche des sous-titres de vidéos youtube"
   ]
  },
  {
   "cell_type": "markdown",
   "metadata": {},
   "source": [
    "Tout d'abord, on doit installer la bibliothèques youtube_transcript_api nécessaire pour récupérer les sous-titres.\n",
    "il faut entrer dans le terminal : **pip install requests youtube-transcript-api pandas** "
   ]
  },
  {
   "cell_type": "markdown",
   "metadata": {},
   "source": [
    "**On cherche à obtenir les sous-titres, dates de publication, titres et descriptions des vidéos youtube sur des livres publiés en 2023**\n",
    "\n",
    "*On ne gardera que les vidéos qui ont des sous-titres car ce sont celles qui nous intéressent.*"
   ]
  },
  {
   "cell_type": "code",
   "execution_count": null,
   "metadata": {},
   "outputs": [],
   "source": [
    "# Installation des bibliothèques nécessaires\n",
    "import pandas as pd\n",
    "import requests\n",
    "from youtube_transcript_api import YouTubeTranscriptApi\n",
    "from youtube_transcript_api.formatters import SRTFormatter\n",
    "\n",
    "# Fonction pour rechercher des vidéos sur YouTube avec des mots-clés\n",
    "def get_videos(query, api_key, max_results=50):\n",
    "    video_ids = []\n",
    "    next_page_token = None\n",
    "\n",
    "    while True:\n",
    "        url = f'https://www.googleapis.com/youtube/v3/search?part=snippet&q={query}&type=video&maxResults={max_results}&key={api_key}'\n",
    "        \n",
    "        if next_page_token:\n",
    "            url += f'&pageToken={next_page_token}'\n",
    "        \n",
    "        response = requests.get(url)\n",
    "        \n",
    "        if response.status_code == 200:\n",
    "            video_data = response.json()\n",
    "            video_ids.extend([item['id']['videoId'] for item in video_data['items']])\n",
    "            next_page_token = video_data.get('nextPageToken')\n",
    "\n",
    "            if not next_page_token:\n",
    "                break\n",
    "        else:\n",
    "            print(f\"Erreur lors de la recherche des vidéos: {response.status_code}\")\n",
    "            break\n",
    "\n",
    "    return video_ids\n",
    "\n",
    "# Fonction pour obtenir les informations de la vidéo à partir de l'API YouTube\n",
    "def get_video_info(video_id, api_key):\n",
    "    url = f\"https://www.googleapis.com/youtube/v3/videos\"\n",
    "    params = {\n",
    "        'part': 'snippet',  # Récupère les informations de base de la vidéo (titre, description, date)\n",
    "        'id': video_id,  # ID de la vidéo\n",
    "        'key': api_key   # clé API\n",
    "    }\n",
    "    \n",
    "    response = requests.get(url, params=params)\n",
    "    \n",
    "    if response.status_code == 200:\n",
    "        video_data = response.json()\n",
    "        if 'items' in video_data and len(video_data['items']) > 0:\n",
    "            snippet = video_data['items'][0]['snippet']\n",
    "            title = snippet['title']\n",
    "            description = snippet['description']\n",
    "            published_at = snippet['publishedAt']\n",
    "            return title, description, published_at\n",
    "    else:\n",
    "        print(f\"Erreur lors de la récupération des infos vidéo: {response.status_code}\")\n",
    "    return None, None, None\n",
    "\n",
    "# Fonction pour obtenir les sous-titres d'une vidéo\n",
    "def get_video_subtitles(video_id, languages=['fr']):\n",
    "    try:\n",
    "        # Tente de récupérer les sous-titres dans les langues spécifiées\n",
    "        transcript = YouTubeTranscriptApi.get_transcript(video_id, languages=languages)\n",
    "        \n",
    "        # Utiliser un formateur pour convertir les sous-titres en format SRT\n",
    "        formatter = SRTFormatter()\n",
    "        formatted_transcript = formatter.format_transcript(transcript)\n",
    "        \n",
    "        return formatted_transcript\n",
    "    except Exception as e:\n",
    "        print(f\"Erreur lors de l'extraction des sous-titres pour {video_id}: {e}\")\n",
    "        return None\n",
    "\n",
    "# Fonction principale pour récupérer les données et les stocker dans un DataFrame\n",
    "def collect_video_data(query, api_key):\n",
    "    # Étape 1: Recherche des vidéos en utilisant la fonction get_videos\n",
    "    video_ids = get_videos(query, api_key)\n",
    "    \n",
    "    video_data = []\n",
    "    \n",
    "    for video_id in video_ids:\n",
    "        print(f\"Récupération des données pour la vidéo {video_id}...\")\n",
    "        \n",
    "        # Étape 2: Récupérer les informations de chaque vidéo\n",
    "        title, description, published_at = get_video_info(video_id, api_key)\n",
    "        \n",
    "        if title and description and published_at:\n",
    "            # Étape 3: Récupérer les sous-titres si disponibles\n",
    "            subtitles = get_video_subtitles(video_id)\n",
    "            \n",
    "            # Étape 4: Stocker les données dans une liste\n",
    "            video_data.append({\n",
    "                'Video ID': video_id,\n",
    "                'Title': title,\n",
    "                'Description': description,\n",
    "                'Published At': published_at,\n",
    "                'Subtitles': subtitles\n",
    "            })\n",
    "    \n",
    "    # Convertir les données collectées en DataFrame\n",
    "    df = pd.DataFrame(video_data)\n",
    "    return df\n",
    "\n",
    "# Exemple d'utilisation\n",
    "api_key = \"XXXXXXXXXXX\"  # Remplacez par sa clé API (# Remplacez par sa clé API (voir ## 0 Creation d'un projet sur Google Cloud Console dans api_Youtube.ipynb))\n",
    "query = \"nouveauté livre 2023\"\n",
    "\n",
    "# Collecter les données et créer un DataFrame\n",
    "df = collect_video_data(query, api_key)\n",
    "\n",
    "# Filtrer les vidéos qui ont des sous-titres\n",
    "df_with_subtitles = df[df['Subtitles'].notna() & (df['Subtitles'] != '')]\n",
    "\n",
    "# Sauvegarder dans un fichier CSV\n",
    "df_with_subtitles.to_csv(\"ss_youtube_nouveauté_livre_2023.csv\", index=False)\n",
    "\n",
    "# Afficher les résultats par pages de 100 lignes\n",
    "page_size = 100\n",
    "for start in range(0, len(df_with_subtitles), page_size):\n",
    "    print(df_with_subtitles.iloc[start:start + page_size])\n",
    "    input(\"Appuyez sur Entrée pour afficher la page suivante...\")"
   ]
  },
  {
   "cell_type": "markdown",
   "metadata": {},
   "source": [
    "**On cherche à obtenir les sous-titres, dates de publication, titres et descriptions des vidéos youtube publiées entre 2019 et 2023 sur des livres**"
   ]
  },
  {
   "cell_type": "code",
   "execution_count": null,
   "metadata": {},
   "outputs": [],
   "source": [
    "# Installation des bibliothèques nécessaires\n",
    "import pandas as pd\n",
    "import requests\n",
    "from youtube_transcript_api import YouTubeTranscriptApi\n",
    "from youtube_transcript_api.formatters import SRTFormatter\n",
    "\n",
    "# Fonction pour rechercher des vidéos sur YouTube avec des mots-clés\n",
    "def get_videos(query, api_key, start_date=\"2019-01-01T00:00:00Z\", end_date=\"2023-12-31T23:59:59Z\", max_results=50):\n",
    "    video_ids = []\n",
    "    next_page_token = None\n",
    "\n",
    "    while True:\n",
    "        url = f'https://www.googleapis.com/youtube/v3/search?part=snippet&q={query}&type=video&maxResults={max_results}&publishedAfter={start_date}&publishedBefore={end_date}&key={api_key}'\n",
    "        \n",
    "        if next_page_token:\n",
    "            url += f'&pageToken={next_page_token}'\n",
    "        \n",
    "        response = requests.get(url)\n",
    "        \n",
    "        if response.status_code == 200:\n",
    "            video_data = response.json()\n",
    "            video_ids.extend([item['id']['videoId'] for item in video_data['items']])\n",
    "            next_page_token = video_data.get('nextPageToken')\n",
    "\n",
    "            if not next_page_token:\n",
    "                break\n",
    "        else:\n",
    "            print(f\"Erreur lors de la recherche des vidéos: {response.status_code}\")\n",
    "            break\n",
    "\n",
    "    return video_ids\n",
    "\n",
    "# Fonction pour obtenir les informations de la vidéo à partir de l'API YouTube\n",
    "def get_video_info(video_id, api_key):\n",
    "    url = f\"https://www.googleapis.com/youtube/v3/videos\"\n",
    "    params = {\n",
    "        'part': 'snippet',  # Récupère les informations de base de la vidéo (titre, description, date)\n",
    "        'id': video_id,  # ID de la vidéo\n",
    "        'key': api_key   # clé API\n",
    "    }\n",
    "    \n",
    "    response = requests.get(url, params=params)\n",
    "    \n",
    "    if response.status_code == 200:\n",
    "        video_data = response.json()\n",
    "        if 'items' in video_data and len(video_data['items']) > 0:\n",
    "            snippet = video_data['items'][0]['snippet']\n",
    "            title = snippet['title']\n",
    "            description = snippet['description']\n",
    "            published_at = snippet['publishedAt']\n",
    "            return title, description, published_at\n",
    "    else:\n",
    "        print(f\"Erreur lors de la récupération des infos vidéo: {response.status_code}\")\n",
    "    return None, None, None\n",
    "\n",
    "# Fonction pour obtenir les sous-titres d'une vidéo\n",
    "def get_video_subtitles(video_id, languages=['fr']):\n",
    "    try:\n",
    "        # Tente de récupérer les sous-titres dans les langues spécifiées\n",
    "        transcript = YouTubeTranscriptApi.get_transcript(video_id, languages=languages)\n",
    "        \n",
    "        # Utiliser un formateur pour convertir les sous-titres en format SRT\n",
    "        formatter = SRTFormatter()\n",
    "        formatted_transcript = formatter.format_transcript(transcript)\n",
    "        \n",
    "        return formatted_transcript\n",
    "    except Exception as e:\n",
    "        print(f\"Erreur lors de l'extraction des sous-titres pour {video_id}: {e}\")\n",
    "        return None\n",
    "\n",
    "# Fonction principale pour récupérer les données et les stocker dans un DataFrame\n",
    "def collect_video_data(query, api_key, start_date=\"2019-01-01T00:00:00Z\", end_date=\"2023-12-31T23:59:59Z\", max_results=50):\n",
    "    # Étape 1: Recherche des vidéos en utilisant la fonction get_videos\n",
    "    video_ids = get_videos(query, api_key, start_date=\"2019-01-01T00:00:00Z\", end_date=\"2023-12-31T23:59:59Z\", max_results=50)\n",
    "    \n",
    "    video_data = []\n",
    "    \n",
    "    for video_id in video_ids:\n",
    "        print(f\"Récupération des données pour la vidéo {video_id}...\")\n",
    "        \n",
    "        # Étape 2: Récupérer les informations de chaque vidéo\n",
    "        title, description, published_at = get_video_info(video_id, api_key)\n",
    "        \n",
    "        if title and description and published_at:\n",
    "            # Étape 3: Récupérer les sous-titres si disponibles\n",
    "            subtitles = get_video_subtitles(video_id)\n",
    "            \n",
    "            # Étape 4: Stocker les données dans une liste\n",
    "            video_data.append({\n",
    "                'Video ID': video_id,\n",
    "                'Title': title,\n",
    "                'Description': description,\n",
    "                'Published At': published_at,\n",
    "                'Subtitles': subtitles\n",
    "            })\n",
    "    \n",
    "    # Convertir les données collectées en DataFrame\n",
    "    df = pd.DataFrame(video_data)\n",
    "    return df\n",
    "\n",
    "# Exemple d'utilisation\n",
    "api_key = \"XXXXXXXXXXXXXXXXX\"  # Remplacez par sa clé API (voir ## 0 Creation d'un projet sur Google Cloud Console dans api_Youtube.ipynb)\n",
    "query = \"livre\"\n",
    "\n",
    "# Collecter les données et créer un DataFrame\n",
    "df = collect_video_data(query, api_key, start_date=\"2019-01-01T00:00:00Z\", end_date=\"2023-12-31T23:59:59Z\", max_results=50)\n",
    "\n",
    "# Filtrer les vidéos qui ont des sous-titres\n",
    "df_with_subtitles = df[df['Subtitles'].notna() & (df['Subtitles'] != '')]\n",
    "\n",
    "# Sauvegarder dans un fichier CSV\n",
    "df_with_subtitles.to_csv(\"ss_youtube_livre_2019_2023.csv\", index=False)\n",
    "\n",
    "# Afficher les résultats par pages de 100 lignes\n",
    "page_size = 100\n",
    "for start in range(0, len(df_with_subtitles), page_size):\n",
    "    print(df_with_subtitles.iloc[start:start + page_size])\n",
    "    input(\"Appuyez sur Entrée pour afficher la page suivante...\")"
   ]
  },
  {
   "cell_type": "markdown",
   "metadata": {},
   "source": [
    "## Analyse"
   ]
  },
  {
   "cell_type": "markdown",
   "metadata": {},
   "source": [
    "**On cherche si des livres et auteurs de nos bases de données de livres sont mentionnés dans des vidéos de nos bases de données youtube. Pour cela, on étudie les description de ces vidéos youtube.**"
   ]
  },
  {
   "cell_type": "markdown",
   "metadata": {},
   "source": [
    "### 1 Recherche des titres de livres dans les descriptions de vidéos youtube"
   ]
  },
  {
   "cell_type": "code",
   "execution_count": null,
   "metadata": {},
   "outputs": [],
   "source": [
    "#On importe la bibliothèque pandas\n",
    "import pandas as pd\n",
    "import matplotlib.pyplot as plt\n",
    "\n",
    "def livre_dans_description(livre,youtube):\n",
    "    #On charge les tables dont on a besoin\",\n",
    "    books_data = pd.read_csv(f\"{livre}.csv\", encoding=\"utf-8\")\n",
    "    youtube_data = pd.read_csv(f\"{youtube}.csv\", encoding=\"utf-8\")\n",
    "    print(\"Livres de la base de données \"f'{livre}.csv'\" dans la description youtube de vidéos de la base de données \"f'{youtube}.csv')\n",
    "    # On convertie la colonne 'description' en type string\n",
    "    youtube_data['description'] = youtube_data['description'].astype(str)\n",
    "    # On initialise une nouvelle liste pour stocker les résultats\n",
    "    result = []\n",
    "    # On itére sur chaque liste de la colonne 'Titre' de books_data\n",
    "    for index1, row1 in books_data.iterrows():\n",
    "        count_list = []  # Liste pour stocker les résultats de cette ligne\n",
    "        # On itére sur chaque liste de la colonne 'description' de youtube_data\n",
    "        for index2, row2 in youtube_data.iterrows():\n",
    "            # On vérifie si la liste de books_data (row1['Titre']) est une sous-liste de la liste de youtube_data (row2['description'])\n",
    "            if row1['Titre'] in row2['description']:\n",
    "                count_list.append(1)  # Si elle est incluse, compter une occurrence\n",
    "            else:\n",
    "                count_list.append(0)  # Sinon, aucune occurrence\n",
    "        # On ajoute la liste des Titres de books_data et la somme des occurrences\n",
    "        result.append([row1['Titre'], row1['Auteur'], sum(count_list)])\n",
    "    # On crée la nouvelle DataFrame contenant les résultats\n",
    "    colonnes=['Titres','Auteurs','Occurrences dans les descriptions des vidéos']\n",
    "    result_df = pd.DataFrame(result, columns = colonnes )\n",
    "    # On filtre les lignes où 'Occurrences dans les descriptions des vidéos' est différente de 0 (On ne s'intéresse qu'aux livres cités au moins une fois)\n",
    "    filtered_df = result_df[result_df['Occurrences dans les descriptions des vidéos'] != 0]\n",
    "    # On affiche le DataFrame filtré\n",
    "    return filtered_df\n",
    "\n",
    "def livre_dans_description2(livre,youtube):\n",
    "    #On charge les tables dont on a besoin\",\n",
    "    books_data = pd.read_csv(f\"{livre}.csv\", encoding=\"utf-8\")\n",
    "    youtube_data = pd.read_csv(f\"{youtube}.csv\", encoding=\"utf-8\")\n",
    "    print(\"Livres de la base de données \"f'{livre}.csv'\" dans la description youtube de vidéos de la base de données \"f'{youtube}.csv')\n",
    "    # On convertie la colonne 'description' en type string\n",
    "    youtube_data['description'] = youtube_data['description'].astype(str)\n",
    "    # On initialise une nouvelle liste pour stocker les résultats\n",
    "    result = []\n",
    "    # On itére sur chaque liste de la colonne 'titre' de books_data\n",
    "    for index1, row1 in books_data.iterrows():\n",
    "        count_list = []  # Liste pour stocker les résultats de cette ligne\n",
    "        # On itére sur chaque liste de la colonne 'description' de youtube_data\n",
    "        for index2, row2 in youtube_data.iterrows():\n",
    "            # On vérifie si la liste de books_data (row1['titre']) est une sous-liste de la liste de youtube_data (row2['description'])\n",
    "            if row1['titre'] in row2['description']:\n",
    "                count_list.append(1)  # Si elle est incluse, compter une occurrence\n",
    "            else:\n",
    "                count_list.append(0)  # Sinon, aucune occurrence\n",
    "        # On ajoute la liste des titres de books_data et la somme des occurrences\n",
    "        result.append([row1['titre'], row1['auteur'], sum(count_list)])\n",
    "    # On crée la nouvelle DataFrame contenant les résultats\n",
    "    colonnes=['Titres','Auteurs','Occurrences dans les descriptions des vidéos']\n",
    "    result_df = pd.DataFrame(result, columns = colonnes )\n",
    "    # On filtre les lignes où 'Occurrences dans les descriptions des vidéos' est différente de 0 (On ne s'intéresse qu'aux livres cités au moins une fois)\n",
    "    filtered_df = result_df[result_df['Occurrences dans les descriptions des vidéos'] != 0]\n",
    "    # On affiche le DataFrame filtré\n",
    "    return filtered_df"
   ]
  },
  {
   "cell_type": "markdown",
   "metadata": {},
   "source": [
    "**Recherche des titres de livres des différentes base de données de livres dans les bases de données de vidéos youtube (sans les sous-titres)**"
   ]
  },
  {
   "cell_type": "markdown",
   "metadata": {},
   "source": [
    "Par exemple : Recherche des titres de livres de la base de données livraddict_prix_2024.csv dans youtube_livre_2019_2023.csv"
   ]
  },
  {
   "cell_type": "code",
   "execution_count": null,
   "metadata": {},
   "outputs": [],
   "source": [
    "livre_dans_description('livraddict_prix_2024','youtube_livre_2019_2023')"
   ]
  },
  {
   "cell_type": "markdown",
   "metadata": {},
   "source": [
    "Le livre *Babel* de R. F. Kuang est cité dans une description de vidéo youtube. Ce livre qui est un des livres les mieux notés par les utilisateurs de livraddict parmi les livres sortis en 2023, est dans une description vidéo."
   ]
  },
  {
   "cell_type": "markdown",
   "metadata": {},
   "source": [
    "### 2 Recherche des auteurs de livres dans les descriptions de vidéos youtube"
   ]
  },
  {
   "cell_type": "code",
   "execution_count": null,
   "metadata": {},
   "outputs": [],
   "source": [
    "#On importe la bibliothèque pandas\n",
    "import pandas as pd\n",
    "import matplotlib.pyplot as plt\n",
    "\n",
    "def auteur_dans_description(livre,youtube):\n",
    "    #On charge les tables dont on a besoin\",\n",
    "    books_data = pd.read_csv(f\"{livre}.csv\", encoding=\"utf-8\")\n",
    "    youtube_data = pd.read_csv(f\"{youtube}.csv\", encoding=\"utf-8\")\n",
    "    print(\"Auteurs de livre de la base de données \"f'{livre}.csv'\" dans la description youtube de vidéos de \"f'{youtube}.csv')\n",
    "    # On convertie la colonne 'description' et 'Auteur' en type string\n",
    "    youtube_data['description'] = youtube_data['description'].astype(str)\n",
    "    books_data['Auteur'] = books_data['Auteur'].astype(str)\n",
    "    # On initialise une nouvelle liste pour stocker les résultats\n",
    "    result = []\n",
    "    # On itére sur chaque liste de la colonne 'Auteur' de books_data\n",
    "    for index1, row1 in books_data.iterrows():\n",
    "        count_list = []  # Liste pour stocker les résultats de cette ligne\n",
    "        # On itére sur chaque liste de la colonne 'description' de youtube_data\n",
    "        for index2, row2 in youtube_data.iterrows():\n",
    "            # On vérifie si la liste de books_data (row1['Auteur']) est une sous-liste de la liste de youtube_data (row2['description'])\n",
    "            if row1['Auteur'] in row2['description']:\n",
    "                count_list.append(1)  # Si elle est incluse, compter une occurrence\n",
    "            else:\n",
    "                count_list.append(0)  # Sinon, aucune occurrence\n",
    "        # On ajoute la liste des Auteurs de books_data et la somme des occurrences\n",
    "        result.append([row1['Auteur'], sum(count_list)])\n",
    "    # On crée la nouvelle DataFrame contenant les résultats\n",
    "    colonnes=['Auteurs', 'Occurrences dans les descriptions des vidéos']\n",
    "    result_df = pd.DataFrame(result, columns = colonnes )\n",
    "    # On filtre les lignes où 'Occurrences dans les descriptions des vidéos' est différente de 0 (On ne s'intéresse qu'aux livres cités au moins une fois)\n",
    "    filtered_df = result_df[result_df['Occurrences dans les descriptions des vidéos'] != 0]\n",
    "    # On affiche le DataFrame filtré\n",
    "    return filtered_df\n",
    "\n",
    "def auteur_dans_description2(livre,youtube):\n",
    "    #On charge les tables dont on a besoin\",\n",
    "    books_data = pd.read_csv(f\"{livre}.csv\", encoding=\"utf-8\")\n",
    "    youtube_data = pd.read_csv(f\"{youtube}.csv\", encoding=\"utf-8\")\n",
    "    print(\"Auteurs de livre de la base de données \"f'{livre}.csv'\" dans la description youtube de vidéos de \"f'{youtube}.csv')\n",
    "    # On convertie la colonne 'description' et 'auteur' en type string\n",
    "    youtube_data['description'] = youtube_data['description'].astype(str)\n",
    "    books_data['auteur'] = books_data['auteur'].astype(str)\n",
    "    # On initialise une nouvelle liste pour stocker les résultats\n",
    "    result = []\n",
    "    # On itére sur chaque liste de la colonne 'Auteur' de books_data\n",
    "    for index1, row1 in books_data.iterrows():\n",
    "        count_list = []  # Liste pour stocker les résultats de cette ligne\n",
    "        # On itére sur chaque liste de la colonne 'description' de youtube_data\n",
    "        for index2, row2 in youtube_data.iterrows():\n",
    "            # On vérifie si la liste de books_data (row1['auteur']) est une sous-liste de la liste de youtube_data (row2['description'])\n",
    "            if row1['auteur'] in row2['description']:\n",
    "                count_list.append(1)  # Si elle est incluse, compter une occurrence\n",
    "            else:\n",
    "                count_list.append(0)  # Sinon, aucune occurrence\n",
    "        # On ajoute la liste des auteurs de books_data et la somme des occurrences\n",
    "        result.append([row1['auteur'], sum(count_list)])\n",
    "    # On crée la nouvelle DataFrame contenant les résultats\n",
    "    colonnes=['Auteurs', 'Occurrences dans les descriptions des vidéos']\n",
    "    result_df = pd.DataFrame(result, columns = colonnes )\n",
    "    # On filtre les lignes où 'Occurrences dans les descriptions des vidéos' est différente de 0 (On ne s'intéresse qu'aux livres cités au moins une fois)\n",
    "    filtered_df = result_df[result_df['Occurrences dans les descriptions des vidéos'] != 0]\n",
    "    # On affiche le DataFrame filtré\n",
    "    return filtered_df"
   ]
  },
  {
   "cell_type": "markdown",
   "metadata": {},
   "source": [
    "**Recherche des auteurs de livres des différentes base de données de livres dans les bases de données de vidéos youtube (sans les sous-titres)**"
   ]
  },
  {
   "cell_type": "markdown",
   "metadata": {},
   "source": [
    "Par exemple : Recherche des auteurs de livres de la base de données best_sellers_fnac_2023_cleaned.csv dans youtube_nouveauté_livre_2023.csv"
   ]
  },
  {
   "cell_type": "code",
   "execution_count": null,
   "metadata": {},
   "outputs": [],
   "source": [
    "auteur_dans_description('best_sellers_fnac_2023_cleaned','youtube_nouveauté_livre_2023')"
   ]
  },
  {
   "cell_type": "markdown",
   "metadata": {},
   "source": [
    "Les auteurs Michel Bussi, Virginie Grimaldi et Agnès Martin-Lugand apparaissent chacun dans un description de vidéo youtube et Léo apparaît à deux reprise. Ce sont tous des auteurs qui ont écrit un best seller de la Fnac en 2023."
   ]
  },
  {
   "cell_type": "markdown",
   "metadata": {},
   "source": [
    "### 3 Conclusion partielle\n",
    "\n",
    "En résumé, en tout 8 livres (Les livres *Babel* de R. F. Kuang,  *À la ligne* de Joseph Ponthus, *Troies vies par semaine* de Michel Bussi, *Veiller sur elle* de Jean-Baptiste Andrea, *Le culte* de Camilla Läckberg et Henrik Fexeus, *Otages* de Nina Bouraoui, *Performance* de Simon Liberati et *Révolution* de Florent Grouazel) et 5 auteurs (Joseph Ponthus, Léo, Michel Bussi, Virginie Grimaldi et Agnès Martin-Lugand) apparaissent dans des descriptions de vidéos youtube des deux bases de données utilisées.  \n",
    "Cela laisserait donc penser que seulement 8 livres et 5 auteurs apparaissent dans les vidéos youtubes de nos bases de données.\n",
    "Cependant plusieurs points sont à prendre en compte:  \n",
    "-des vidéos youtubes peuvent être sur un livre ou un auteur sans le citer dans la description, il peut aussi ne même pas y avoir de description.   \n",
    "-il peut y avoir des fautes d'orthographes et des erreurs de ponctuation dans les titres des livres dans les description youtube qui ne sont alors pas comptés dans ce programme.   \n",
    "-Youtube peut aussi limiter le nombre de résultats obtenus pour une requête.    \n",
    "On peut pour autant remarquer que certains titres de livre ou noms d'auteur sont assez courants pour désigner autre chose, ce qui peut fausser les résultats.    \n",
    "\n",
    "Pour essayer d'obtenir de meilleurs résultats, on va par la suite rechercher les titres et auteurs des livres dans les sous-titres de vidéos des bases de données"
   ]
  },
  {
   "cell_type": "markdown",
   "metadata": {},
   "source": [
    "**On cherche si des livres et auteurs de nos bases de données de livres sont mentionnés dans des vidéos de nos bases de données youtube. Pour cela, on étudie les sous-titres de ces vidéos youtube.**"
   ]
  },
  {
   "cell_type": "markdown",
   "metadata": {},
   "source": [
    "### 4 Recherche des titres de livres dans les sous-titres de vidéos youtube"
   ]
  },
  {
   "cell_type": "code",
   "execution_count": null,
   "metadata": {},
   "outputs": [],
   "source": [
    "#On importe la bibliothèque pandas\n",
    "import pandas as pd\n",
    "import matplotlib.pyplot as plt\n",
    "\n",
    "def livre_dans_sous_titres(livre,youtube):\n",
    "    #On charge les tables dont on a besoin\"\n",
    "    books_data = pd.read_csv(f\"{livre}.csv\", encoding=\"utf-8\")\n",
    "    youtube_data = pd.read_csv(f\"{youtube}.csv\", encoding=\"utf-8\")\n",
    "    print(\"Livres de la base de données \"f'{livre}.csv'\" dans les sous-titres de vidéos youtube de la base de données \"f'{youtube}.csv')\n",
    "    # On convertie la colonne 'Subtitles'et 'Titre' en type string\n",
    "    youtube_data['Subtitles'] = youtube_data['Subtitles'].astype(str)\n",
    "    books_data['Titre'] = books_data['Titre'].astype(str)\n",
    "    # On initialise une nouvelle liste pour stocker les résultats\n",
    "    result = []\n",
    "    # On itére sur chaque liste de la colonne 'Titre' de books_data\n",
    "    for index1, row1 in books_data.iterrows():\n",
    "        count_list = []  # Liste pour stocker les résultats de cette ligne\n",
    "        # On itére sur chaque liste de la colonne 'Subtitles' de youtube_data\n",
    "        for index2, row2 in youtube_data.iterrows():\n",
    "            # On vérifie si la liste de books_data (row1['Titre']) est une sous-liste de la liste de youtube_data (row2['Subtitles'])\n",
    "            if row1['Titre'] in row2['Subtitles']:\n",
    "                count_list.append(1)  # Si elle est incluse, compter une occurrence\n",
    "            else:\n",
    "                count_list.append(0)  # Sinon, aucune occurrence\n",
    "        # On ajoute la liste des Titres, des Auteurs de books_data et la somme des occurrences\n",
    "        result.append([row1['Titre'], row1['Auteur'], sum(count_list)])\n",
    "    # On crée la nouvelle DataFrame contenant les résultats\n",
    "    colonnes=['Titres','Auteurs','Occurrences dans les sous-titres de vidéos']\n",
    "    result_df = pd.DataFrame(result, columns = colonnes )\n",
    "    # On filtre les lignes où 'Occurrences dans les sous-titres des vidéos' est différente de 0 (On ne s'intéresse qu'aux livres cités au moins une fois)\n",
    "    filtered_df = result_df[result_df['Occurrences dans les sous-titres de vidéos'] != 0]\n",
    "    # On affiche le DataFrame filtré\n",
    "    return filtered_df\n",
    "\n",
    "def livre_dans_sous_titres2(livre,youtube):\n",
    "    #On charge les tables dont on a besoin\",\n",
    "    books_data = pd.read_csv(f\"{livre}.csv\", encoding=\"utf-8\")\n",
    "    youtube_data = pd.read_csv(f\"{youtube}.csv\", encoding=\"utf-8\")\n",
    "    print(\"Livres de la base de données \"f'{livre}.csv'\" dans les sous-titres de vidéos youtube de la base de données \"f'{youtube}.csv')\n",
    "    # On convertie la colonne 'Subtitles'et 'Titre' en type string\n",
    "    youtube_data['Subtitles'] = youtube_data['Subtitles'].astype(str)\n",
    "    books_data['titre'] = books_data['titre'].astype(str)\n",
    "    # On initialise une nouvelle liste pour stocker les résultats\n",
    "    result = []\n",
    "    # On itére sur chaque liste de la colonne 'titre' de books_data\n",
    "    for index1, row1 in books_data.iterrows():\n",
    "        count_list = []  # Liste pour stocker les résultats de cette ligne\n",
    "        # On itére sur chaque liste de la colonne 'Subtitles' de youtube_data\n",
    "        for index2, row2 in youtube_data.iterrows():\n",
    "            # On vérifie si la liste de books_data (row1['titre']) est une sous-liste de la liste de youtube_data (row2['Subtitles'])\n",
    "            if row1['titre'] in row2['Subtitles']:\n",
    "                count_list.append(1)  # Si elle est incluse, compter une occurrence\n",
    "            else:\n",
    "                count_list.append(0)  # Sinon, aucune occurrence\n",
    "        # On ajoute la liste des titres, des auteurs de books_data et la somme des occurrences\n",
    "        result.append([row1['titre'], row1['auteur'], sum(count_list)])\n",
    "    # On crée la nouvelle DataFrame contenant les résultats\n",
    "    colonnes=['Titres','Auteurs','Occurrences dans les sous-titres de vidéos']\n",
    "    result_df = pd.DataFrame(result, columns = colonnes )\n",
    "    # On filtre les lignes où 'Occurrences dans les sous-titres des vidéos' est différente de 0 (On ne s'intéresse qu'aux livres cités au moins une fois)\n",
    "    filtered_df = result_df[result_df['Occurrences dans les sous-titres de vidéos'] != 0]\n",
    "    # On affiche le DataFrame filtré\n",
    "    return filtered_df"
   ]
  },
  {
   "cell_type": "markdown",
   "metadata": {},
   "source": [
    "**Recherche des titres de livres des différentes base de données de livres dans les bases de données de vidéos youtube (avec les sous-titres)**"
   ]
  },
  {
   "cell_type": "markdown",
   "metadata": {},
   "source": [
    "Par exemple : Recherche des titres de livres de la base de données prix_litteraires.csv dans ss_youtube_livre_2019_2023.csv"
   ]
  },
  {
   "cell_type": "code",
   "execution_count": null,
   "metadata": {},
   "outputs": [],
   "source": [
    "livre_dans_sous_titres('prix_litteraires','ss_youtube_livre_2019_2023')"
   ]
  },
  {
   "cell_type": "markdown",
   "metadata": {},
   "source": [
    "Les livres *Révolution* de Florent Grouazel, *Fritz* de Coline Pierré et *555* de Hélène Gestern apparaissent dans les sous-titres de vidéos youtube. Ces 3 livres qui ont reçu un prix littéraire entre 2019 et 2023 sont donc dans des sous-titres de vidéos."
   ]
  },
  {
   "cell_type": "markdown",
   "metadata": {},
   "source": [
    "### 5 Recherche des auteurs de livres dans les sous-titres de vidéos youtube"
   ]
  },
  {
   "cell_type": "code",
   "execution_count": null,
   "metadata": {},
   "outputs": [],
   "source": [
    "#On importe la bibliothèque pandas\n",
    "import pandas as pd\n",
    "import matplotlib.pyplot as plt\n",
    "\n",
    "def auteur_dans_sous_titres(livre,youtube):\n",
    "    #On charge les tables dont on a besoin\",\n",
    "    books_data = pd.read_csv(f\"{livre}.csv\", encoding=\"utf-8\")\n",
    "    youtube_data = pd.read_csv(f\"{youtube}.csv\", encoding=\"utf-8\")\n",
    "    print(\"Auteurs de la base de données \"f'{livre}.csv'\" dans les sous-titres de vidéos youtube de la base de données \"f'{youtube}.csv')\n",
    "    # On convertie la colonne 'Subtitles'et 'Auteur' en type string\n",
    "    youtube_data['Subtitles'] = youtube_data['Subtitles'].astype(str)\n",
    "    books_data['Auteur'] = books_data['Auteur'].astype(str)\n",
    "    # On initialise une nouvelle liste pour stocker les résultats\n",
    "    result = []\n",
    "    # On itére sur chaque liste de la colonne 'Auteur' de books_data\n",
    "    for index1, row1 in books_data.iterrows():\n",
    "        count_list = []  # Liste pour stocker les résultats de cette ligne\n",
    "        # On itére sur chaque liste de la colonne 'Subtitles' de youtube_data\n",
    "        for index2, row2 in youtube_data.iterrows():\n",
    "            # On vérifie si la liste de books_data (row1['Auteur']) est une sous-liste de la liste de youtube_data (row2['Subtitles'])\n",
    "            if row1['Auteur'] in row2['Subtitles']:\n",
    "                count_list.append(1)  # Si elle est incluse, compter une occurrence\n",
    "            else:\n",
    "                count_list.append(0)  # Sinon, aucune occurrence\n",
    "        # On ajoute la liste des Auteurs de books_data et la somme des occurrences\n",
    "        result.append([row1['Auteur'], sum(count_list)])\n",
    "    # On crée la nouvelle DataFrame contenant les résultats\n",
    "    colonnes=['Auteurs','Occurrences dans les sous-titres de vidéos']\n",
    "    result_df = pd.DataFrame(result, columns = colonnes )\n",
    "    # On filtre les lignes où 'Occurrences dans les sous-titres des vidéos' est différente de 0 (On ne s'intéresse qu'aux livres cités au moins une fois)\n",
    "    filtered_df = result_df[result_df['Occurrences dans les sous-titres de vidéos'] != 0]\n",
    "    # On affiche le DataFrame filtré\n",
    "    return filtered_df\n",
    "\n",
    "def auteur_dans_sous_titres2(livre,youtube):\n",
    "    #On charge les tables dont on a besoin\",\n",
    "    books_data = pd.read_csv(f\"{livre}.csv\", encoding=\"utf-8\")\n",
    "    youtube_data = pd.read_csv(f\"{youtube}.csv\", encoding=\"utf-8\")\n",
    "    print(\"Auteurs de la base de données \"f'{livre}.csv'\" dans les sous-titres de vidéos youtube de la base de données \"f'{youtube}.csv')\n",
    "    # On convertie la colonne 'Subtitles'et 'auteur' en type string\n",
    "    youtube_data['Subtitles'] = youtube_data['Subtitles'].astype(str)\n",
    "    books_data['auteur'] = books_data['auteur'].astype(str)\n",
    "    # On initialise une nouvelle liste pour stocker les résultats\n",
    "    result = []\n",
    "    # On itére sur chaque liste de la colonne 'auteur' de books_data\n",
    "    for index1, row1 in books_data.iterrows():\n",
    "        count_list = []  # Liste pour stocker les résultats de cette ligne\n",
    "        # On itére sur chaque liste de la colonne 'Subtitles' de youtube_data\n",
    "        for index2, row2 in youtube_data.iterrows():\n",
    "            # On vérifie si la liste de books_data (row1['auteur']) est une sous-liste de la liste de youtube_data (row2['Subtitles'])\n",
    "            if row1['auteur'] in row2['Subtitles']:\n",
    "                count_list.append(1)  # Si elle est incluse, compter une occurrence\n",
    "            else:\n",
    "                count_list.append(0)  # Sinon, aucune occurrence\n",
    "        # On ajoute la liste des auteurs de books_data et la somme des occurrences\n",
    "        result.append([row1['auteur'], sum(count_list)])\n",
    "    # On crée la nouvelle DataFrame contenant les résultats\n",
    "    colonnes=['Auteurs','Occurrences dans les sous-titres de vidéos']\n",
    "    result_df = pd.DataFrame(result, columns = colonnes )\n",
    "    # On filtre les lignes où 'Occurrences dans les sous-titres des vidéos' est différente de 0 (On ne s'intéresse qu'aux livres cités au moins une fois)\n",
    "    filtered_df = result_df[result_df['Occurrences dans les sous-titres de vidéos'] != 0]\n",
    "    # On affiche le DataFrame filtré\n",
    "    return filtered_df "
   ]
  },
  {
   "cell_type": "markdown",
   "metadata": {},
   "source": [
    "**Recherche des auteurs de livres des différentes base de données de livres dans les bases de données de vidéos youtube (avec les sous-titres)**"
   ]
  },
  {
   "cell_type": "markdown",
   "metadata": {},
   "source": [
<<<<<<< HEAD
    "Par exemple : Recherche des auteurs de livres de la base de données Base_finale.csv dans ss_youtube_nouveauté_livre_2023.csv"
   ]
  },
  {
   "cell_type": "code",
   "execution_count": null,
   "metadata": {},
   "outputs": [],
   "source": [
    "auteur_dans_sous_titres('Base_finale','ss_youtube_nouveauté_livre_2023')"
   ]
  },
  {
   "cell_type": "markdown",
   "metadata": {},
   "source": [
    "Les auteurs Léo, Stephen King, Squeezie, Hannah Grace, Copi et Michel Bussi apparaissent chacun dans des sous-titres de vidéos youtube. \"nan\" n'est pas un auteur mais simplement la dénomination utilisée dans la base de données lorsqu'on connaît pas l'auteur. Donc il n'y a aucun auteur de cette base de données mentionné."
   ]
  },
  {
   "cell_type": "markdown",
   "metadata": {},
   "source": [
    "### 6 Conclusion"
   ]
  },
  {
   "cell_type": "markdown",
   "metadata": {},
   "source": [
    "En résumé, en tout 95 livres d'après le tableau précédant apparaissent dans des sous-titres de vidéos youtube des deux bases de données utilisées."
   ]
  },
  {
   "cell_type": "markdown",
   "metadata": {},
   "source": [
    "\n",
    "Et en tout 9 auteurs (Léo, Stephen King, Squeezie, Britney Spears, Hannah Grace, Copi, Michel Bussi, Éric-Emmanuel Schmitt et Virginie Grimaldi) apparaissent dans des sous-titres de vidéos youtube des deux bases de données utilisées.\n"
   ]
  },
  {
   "cell_type": "markdown",
   "metadata": {},
   "source": [
    "Cela laisserait donc penser que 95 livres et 9 auteurs apparaissent dans les vidéos youtube de nos bases de données.\n",
    "Cependant plusieurs points sont à prendre en compte:  \n",
    "-des vidéos youtube peuvent avoir des mauvais sous-titres qui ne sous-titrent pas parfaitement toute la vidéo    \n",
    "-il peut y avoir des fautes d'orthographes et des erreurs de ponctuation dans les titres des livres dans les sous-titres youtube qui ne sont alors pas comptés dans ce programme.  \n",
    "-Youtube peut aussi limiter le nombre de résultats obtenus pour une requête.     \n",
    "Mais on peut pour autant remarquer que certains titres de livre ou noms d'auteur sont des expressions ou mots assez courants pour désigner autre chose, ce qui peut fausser les résultats (par exemple 555 ou Léo).   \n",
    "\n",
    "Pour essayer d'obtenir de meilleurs résultats, il faudrait chercher à faire un programme moins exigeant sur la ponctuation et l'orthographe des titres et auteurs des livres dans les sous-titres de vidéos des bases de données"
=======
    "# V-"
>>>>>>> d9992e4ce383ad110edb2de7bae1a317d2d24da4
   ]
  },
  {
   "cell_type": "markdown",
   "metadata": {},
   "source": [
    "<div style=\"\n",
    "    font-family: 'Arial', sans-serif; \n",
    "    text-align: center; \n",
    "    padding: 10px; \n",
    "    background-color:rgb(210, 199, 255); \n",
    "    color: black; \n",
    "    border-radius: 5px; \n",
    "    font-size: 1.5em;\n",
    "\">\n",
    "    <strong>Partie 5: Fusion entre les bases Youtube et notre base de donnée principale</strong>\n",
    "</div>"
   ]
  },
  {
   "cell_type": "markdown",
   "metadata": {},
   "source": [
    "Tout d'abord on crée des dataframes à partir des bases csv."
   ]
  },
  {
   "cell_type": "code",
   "execution_count": 5,
   "metadata": {},
   "outputs": [],
   "source": [
    "first_youtube = pd.read_csv(\"livres_soustitres(1).csv\")\n",
    "second_youtube = pd.read_csv(\"livres_soustitres(2).csv\")\n",
    "big_base = pd.read_csv(\"Base_finale.csv\")"
   ]
  },
  {
   "cell_type": "markdown",
   "metadata": {},
   "source": [
    "On fait une fonction pour obtenir une indicatrice indiquant si le livre a été trouvé sur youtube et le nombre de trouvailles pour notre recherche. Nous avons deux bases youtube correspondant à deux types de recherche ( pour maximiser les chances de trouver nos livres). Nous avons choisi de conserver le nombre de trouvailles le plus grand entre les deux bases ( plutôt que de les sommer car il pourrait parfois s'agir de la même vidéo)."
   ]
  },
  {
   "cell_type": "code",
   "execution_count": 20,
   "metadata": {},
   "outputs": [],
   "source": [
    "def search_youtube(first_youtube, second_youtube, row):\n",
    "    first = 0\n",
    "    for i in range(0,len(first_youtube)):\n",
    "        if first == 0:\n",
    "            titre = first_youtube.iloc[i][\"Titres\"]\n",
    "            if row[\"Titre\"] == titre:\n",
    "                first = 1\n",
    "                first_titre = titre\n",
    "                first_nombre = first_youtube.iloc[i][\"Occurrences dans les sous-titres de vidéos\"]\n",
    "    \n",
    "    second = 0\n",
    "    for i in range(0,len(second_youtube)):\n",
    "        if second == 0:\n",
    "            titre = second_youtube.iloc[i][\"Titres\"]\n",
    "            if row[\"Titre\"] == titre:\n",
    "                second = 1\n",
    "                second_titre = titre\n",
    "                second_nombre = second_youtube.iloc[i][\"Occurrences dans les sous-titres de vidéos\"]\n",
    "    if first == 1 and second ==1:\n",
    "        is_in_youtube = 1\n",
    "        nombre_youtube = max(first_nombre,second_nombre)\n",
    "    elif first == 1 and second == 0:\n",
    "        is_in_youtube = 1\n",
    "        nombre_youtube = first_nombre\n",
    "    elif first == 0 and second == 1:\n",
    "        is_in_youtube = 1\n",
    "        nombre_youtube = second_nombre\n",
    "    else:\n",
    "        is_in_youtube = 0\n",
    "        nombre_youtube = 0\n",
    "    return [is_in_youtube, nombre_youtube]"
   ]
  },
  {
   "cell_type": "code",
   "execution_count": 18,
   "metadata": {},
   "outputs": [],
   "source": [
    "def indicate_youtube(row):\n",
    "    global first_youtube\n",
    "    global second_youtube\n",
    "    youtube = search_youtube(first_youtube, second_youtube, row)\n",
    "    is_in_youtube = youtube[0]\n",
    "    return is_in_youtube\n",
    "\n",
    "def nb_youtube(row):\n",
    "    global first_youtube\n",
    "    global second_youtube\n",
    "    youtube = search_youtube(first_youtube, second_youtube, row)\n",
    "    nombre_youtube = youtube[1]\n",
    "    return nombre_youtube\n",
    "    "
   ]
  },
  {
   "cell_type": "markdown",
   "metadata": {},
   "source": [
    "On applique les fonctions à notre base pour rajouter nos nouvelles colonnes."
   ]
  },
  {
   "cell_type": "code",
   "execution_count": 21,
   "metadata": {},
   "outputs": [],
   "source": [
    "big_base[\"in_youtube\"] = big_base.apply(indicate_youtube, axis=1)\n",
    "big_base[\"nb_youtube\"] = big_base.apply(nb_youtube, axis=1)"
   ]
  },
  {
   "cell_type": "code",
   "execution_count": 22,
   "metadata": {},
   "outputs": [],
   "source": [
    "big_base.to_csv(\"Base_finale_with_youtube\")"
   ]
  }
 ],
 "metadata": {
  "kernelspec": {
   "display_name": "base",
   "language": "python",
   "name": "python3"
  },
  "language_info": {
   "codemirror_mode": {
    "name": "ipython",
    "version": 3
   },
   "file_extension": ".py",
   "mimetype": "text/x-python",
   "name": "python",
   "nbconvert_exporter": "python",
   "pygments_lexer": "ipython3",
   "version": "3.12.7"
  }
 },
 "nbformat": 4,
 "nbformat_minor": 2
}
