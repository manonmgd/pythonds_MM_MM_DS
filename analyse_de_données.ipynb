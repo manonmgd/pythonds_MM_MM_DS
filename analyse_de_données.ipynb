{
 "cells": [
  {
   "cell_type": "markdown",
   "metadata": {},
   "source": [
    "<div style=\"\n",
    "    font-family: 'Arial', sans-serif; \n",
    "    line-height: 1.6; \n",
    "    color: #333; \n",
    "    border-left: 4px solidrgb(236, 143, 229); \n",
    "    padding: 10px 15px; \n",
    "    background-color:rgb(235, 199, 230); \n",
    "    border-radius: 5px;\n",
    "\">\n",
    "    <h2 style=\"margin-top: 0; color:rgb(235, 0, 109);\">IMPORTS</h2>\n",
    "    <p>Cette section regroupe les bibliothèques nécessaires pour ce notebook. Assurez-vous que toutes sont bien installées avant de continuer :</p>\n",
    "    <ul>\n",
    "        <li><code>pandas</code> : Manipulation et analyse des données</li>\n",
    "        <li><code>matplotlib</code> : Visualisation des données</li>\n",
    "</ul>\n",
    "    <p>Si des bibliothèques manquent, vous pouvez les installer avec <code>!pip install nom_bibliothèque</code>. Si cela ne marche toujours pas, pensez à redémarrer le kernel.</p>\n",
    "</div>"
   ]
  },
  {
   "cell_type": "code",
   "execution_count": 75,
   "metadata": {},
   "outputs": [],
   "source": [
    "import pandas as pd\n",
    "import matplotlib.pyplot as plt"
   ]
  },
  {
   "cell_type": "markdown",
   "metadata": {},
   "source": [
    "<div style=\"\n",
    "    font-family: 'Arial', sans-serif; \n",
    "    line-height: 1.6; \n",
    "    color: #333; \n",
    "    border-left: 4px solid #007bff; \n",
    "    padding: 10px 15px; \n",
    "    background-color: #eef5ff; \n",
    "    border-radius: 5px;\n",
    "\">\n",
    "    <p>Pour analyser les données, afin de ne pas être obligés à chaque ouverture de run tout le code, on utilise directement le fichier CSV créé.</p>\n",
    "</div>\n"
   ]
  },
  {
   "cell_type": "code",
   "execution_count": 76,
   "metadata": {},
   "outputs": [],
   "source": [
    "final_data = pd.read_csv(\"Base_finale.csv\")\n",
    "data_gouv = pd.read_csv(\"base_du_gouvernement.csv\")"
   ]
  },
  {
   "cell_type": "markdown",
   "metadata": {},
   "source": [
    "<div style=\"\n",
    "    font-family: 'Arial', sans-serif; \n",
    "    text-align: center; \n",
    "    padding: 10px; \n",
    "    background-color:rgb(210, 199, 255); \n",
    "    color: black; \n",
    "    border-radius: 5px; \n",
    "    font-size: 1.5em;\n",
    "\">\n",
    "    <strong>Partie 1: Statistiques descriptives</strong>\n",
    "</div>\n"
   ]
  },
  {
   "cell_type": "markdown",
   "metadata": {},
   "source": [
    "#"
   ]
  },
  {
   "cell_type": "markdown",
   "metadata": {},
   "source": [
    "<div style=\"\n",
    "    font-family: 'Time', serif; \n",
    "    font-size: 1.2em; \n",
    "    line-height: 1.6; \n",
    "    padding: 15px; \n",
    "    background-color:rgb(224, 253, 253); \n",
    "    border-radius: 5px;\n",
    "    margin-left: 20px;\n",
    "    margin-right: 20px;\n",
    "    color: #333;\n",
    "    max-width: 900px;\n",
    "    text-align: justify;\n",
    "\">\n",
    "    Avant de commencer cette partie, il nous paraît pertinent de distinguer les tops Fnac, Babelio et des bibliothèques de Paris des données récupérées sur Livraddict et sur Wikipedia sur les prix littéraires. En effet, les trois premières bases mentionnées présentent les livres les plus populaires, c'est-à-dire les plus lus. Sur les bases Livraddict et Wikipedia, la liste de livres correspond aux livres jugés de meilleure qualité, que ce soit par les internautes ou par les spécialistes.\n",
    "</div>"
   ]
  },
  {
   "cell_type": "markdown",
   "metadata": {},
   "source": [
    "<div style=\"\n",
    "    font-family: 'Arial', sans-serif; \n",
    "    text-align: center; \n",
    "    padding: 10px; \n",
    "    background-color:rgb(210, 199, 255); \n",
    "    color: black; \n",
    "    border-radius: 5px; \n",
    "    font-size: 1.5em;\n",
    "\">\n",
    "    <strong>A) Analyse préliminaire:</strong>\n",
    "</div>\n",
    "<p> Déterminons le pourcentage de livres ayant un prix (table wikipedia) ou étant dans le top Livraddict 2023. Pour cela, on va rapporter le nombre de livres dans la base wikipedia aux nombres de livres déposés en France entre 2019 et 2023 puis le nombre de livres issus de la base Livraddict au nombre de livres déposés en 2023 d'après les chiffres du gouvernement.</p>"
   ]
  },
  {
   "cell_type": "markdown",
   "metadata": {},
   "source": [
    "##"
   ]
  },
  {
   "cell_type": "code",
   "execution_count": 77,
   "metadata": {},
   "outputs": [
    {
     "name": "stdout",
     "output_type": "stream",
     "text": [
      "0.07162513665322125 (%) des livres ont reçu un prix parmi l'ensemble des livres déposés en 2019\n",
      "0.08421577954180377 (%) des livres ont reçu un prix parmi l'ensemble des livres déposés en 2020\n",
      "0.03749318305762589 (%) des livres ont reçu un prix parmi l'ensemble des livres déposés en 2021\n",
      "0.07325202358715159 (%) des livres ont reçu un prix parmi l'ensemble des livres déposés en 2022\n",
      "0.06243741532661837 (%) des livres ont reçu un prix parmi l'ensemble des livres déposés en 2023\n",
      "0.06448990243706589 (%) des livres ont reçu un prix parmi l'ensemble des livres déposés entre 2019 et 2023\n"
     ]
    }
   ],
   "source": [
    "# occupons nous tout d'abord des pourcentages de livres primés\n",
    "\n",
    "# 2019\n",
    "number_19 = data_gouv.loc[0,'nombre_de_livres_deposes']\n",
    "prix_19 = len(final_data[(final_data['prix_19_23']==1)&(final_data['Année']==2019)])\n",
    "prop_prix_19 = (prix_19*100)/number_19\n",
    "print(str(prop_prix_19) + \" (%) des livres ont reçu un prix parmi l'ensemble des livres déposés en 2019\")\n",
    "\n",
    "# 2020\n",
    "number_20 = data_gouv.loc[1,'nombre_de_livres_deposes']\n",
    "prix_20 = len(final_data[(final_data['prix_19_23']==1)&(final_data['Année']==2020)])\n",
    "prop_prix_20 = (prix_20*100)/number_20\n",
    "print(str(prop_prix_20) + \" (%) des livres ont reçu un prix parmi l'ensemble des livres déposés en 2020\")\n",
    "\n",
    "# 2021\n",
    "number_21 = data_gouv.loc[2,'nombre_de_livres_deposes']\n",
    "prix_21 = len(final_data[(final_data['prix_19_23']==1)&(final_data['Année']==2021)])\n",
    "prop_prix_21 = (prix_21*100)/number_21\n",
    "print(str(prop_prix_21) + \" (%) des livres ont reçu un prix parmi l'ensemble des livres déposés en 2021\")\n",
    "\n",
    "# 2022\n",
    "number_22 = data_gouv.loc[3,'nombre_de_livres_deposes']\n",
    "prix_22 = len(final_data[(final_data['prix_19_23']==1)&(final_data['Année']==2022)])\n",
    "prop_prix_22 = (prix_22*100)/number_22\n",
    "print(str(prop_prix_22) + \" (%) des livres ont reçu un prix parmi l'ensemble des livres déposés en 2022\")\n",
    "\n",
    "# 2023\n",
    "number_23 = data_gouv.loc[4,'nombre_de_livres_deposes']\n",
    "prix_23 = len(final_data[(final_data['prix_19_23']==1)&(final_data['Année']==2023)])\n",
    "prop_prix_23 = (prix_23*100)/number_23\n",
    "print(str(prop_prix_23) + \" (%) des livres ont reçu un prix parmi l'ensemble des livres déposés en 2023\")\n",
    "\n",
    "# Chiffre global\n",
    "number = number_19 + number_20 + number_21 + number_22 + number_23\n",
    "prix = prix_19 + prix_20 + prix_21 + prix_22 + prix_23\n",
    "prop_prix = (prix*100)/number\n",
    "print(str(prop_prix) + \" (%) des livres ont reçu un prix parmi l'ensemble des livres déposés entre 2019 et 2023\")"
   ]
  },
  {
   "cell_type": "markdown",
   "metadata": {},
   "source": [
    "C'est vraiment très peu."
   ]
  },
  {
   "cell_type": "code",
   "execution_count": 78,
   "metadata": {},
   "outputs": [
    {
     "name": "stdout",
     "output_type": "stream",
     "text": [
      "0.10013547741061436 (%) des livres ont été parmi les livres les mieux notés sur Livraddict parmi l'ensemble des livres déposés en 2023\n"
     ]
    }
   ],
   "source": [
    "# Livraddict\n",
    "top_livre = len(final_data[(final_data['top_livraddict']==1)])\n",
    "prop_top = (top_livre*100)/number_23\n",
    "print(str(prop_top) + \" (%) des livres ont été parmi les livres les mieux notés sur Livraddict parmi l'ensemble des livres déposés en 2023\")"
   ]
  },
  {
   "cell_type": "markdown",
   "metadata": {},
   "source": [
    "C'est aussi peu, mais déjà un tout petit peu plus."
   ]
  },
  {
   "cell_type": "markdown",
   "metadata": {},
   "source": [
    "<div style=\"\n",
    "    font-family: 'Arial', sans-serif; \n",
    "    text-align: center; \n",
    "    padding: 10px; \n",
    "    background-color:rgb(210, 199, 255); \n",
    "    color: black; \n",
    "    border-radius: 5px; \n",
    "    font-size: 1.5em;\n",
    "\">\n",
    "    <strong>B) Analyse des prix littéraires</strong>\n",
    "</div>\n",
    "<p> Plusieurs questions se posent à nous. Les livres populaires sont-ils aussi les livres les mieux notés ? Cela varie-t-il selon les plateformes considérées ? C'est-à-dire est-ce que les livres populaires sont-ils mieux représentés dans les listes de prix littéraires ou dans les classements de qualité faits par les internautes ? </p>"
   ]
  },
  {
   "cell_type": "markdown",
   "metadata": {},
   "source": [
    "##"
   ]
  },
  {
   "cell_type": "markdown",
   "metadata": {},
   "source": [
    "<div style=\"\n",
    "    font-family: 'Arial', sans-serif; \n",
    "    line-height: 1.6; \n",
    "    color: #333; \n",
    "    border-left: 4px solid #007bff; \n",
    "    padding: 10px 15px; \n",
    "    background-color: #eef5ff; \n",
    "    border-radius: 5px;\n",
    "\">\n",
    "    <p>Tout d'abord, déterminons le nombre de livres populaires qui sont aussi dans les bases des prix littéraires et du classement des utilisateurs de Livraddict.</p>\n",
    "</div>\n"
   ]
  },
  {
   "cell_type": "code",
   "execution_count": 79,
   "metadata": {},
   "outputs": [],
   "source": [
    "# on modifie la table pour créer une fonction qui renvoie quel type d'entité a reconnu la qualité du livre populaire \n",
    "# selon s'il est sur la base des prix, celle Livraddict, ou les deux\n",
    "\n",
    "def reconnu(row):\n",
    "    if row['prix_19_23'] == 1 and ((row['top_fnac_1'] == 1) or (row['top_babelio'] == 1) or (row['Top_bibliothèque'] == 1)) and (row['top_livraddict'] == 0):\n",
    "        reconnu = 'Critique'\n",
    "    elif row['prix_19_23'] == 0 and ((row['top_fnac_1'] == 1) or (row['top_babelio'] == 1) or (row['Top_bibliothèque'] == 1)) and (row['top_livraddict'] == 1):\n",
    "        reconnu = 'Internautes'\n",
    "    elif (row['prix_19_23'] == 1) and (row['top_livraddict'] == 1) and ((row['top_fnac_1'] == 1) or (row['top_babelio'] == 1) or (row['Top_bibliothèque'] == 1)):\n",
    "        reconnu = 'Critique et internautes'\n",
    "    else:\n",
    "        reconnu = 'Aucun'\n",
    "    return reconnu"
   ]
  },
  {
   "cell_type": "code",
   "execution_count": 80,
   "metadata": {},
   "outputs": [],
   "source": [
    "final_data['Reconnu_par'] = final_data.apply(reconnu, axis=1)"
   ]
  },
  {
   "cell_type": "code",
   "execution_count": 81,
   "metadata": {},
   "outputs": [
    {
     "name": "stdout",
     "output_type": "stream",
     "text": [
      "Nombre de livres dont la qualité est reconnue institutionnellement et par qui:\n",
      "Reconnu_par\n",
      "Aucun          474\n",
      "Critique        11\n",
      "Internautes      6\n",
      "Name: count, dtype: int64\n",
      "\n",
      "Proportion de livres dont la qualité est reconnue institutionnellement et par qui (%):\n",
      "Reconnu_par\n",
      "Aucun          96.537678\n",
      "Critique        2.240326\n",
      "Internautes     1.221996\n",
      "Name: proportion, dtype: float64\n"
     ]
    }
   ],
   "source": [
    "prix_counts = final_data['Reconnu_par'].value_counts()\n",
    "prix_proportions = final_data['Reconnu_par'].value_counts(normalize=True) * 100\n",
    "\n",
    "print(\"Nombre de livres dont la qualité est reconnue institutionnellement et par qui:\")\n",
    "print(prix_counts)\n",
    "print(\"\\nProportion de livres dont la qualité est reconnue institutionnellement et par qui (%):\")\n",
    "print(prix_proportions)"
   ]
  },
  {
   "cell_type": "code",
   "execution_count": 82,
   "metadata": {},
   "outputs": [
    {
     "data": {
      "image/png": "[encoded data removed]",
      "text/plain": [
       "<Figure size 640x480 with 1 Axes>"
      ]
     },
     "metadata": {},
     "output_type": "display_data"
    }
   ],
   "source": [
    "# Visualisation des prix littéraires\n",
    "categories = [\"Aucun\", \"Critique\", \"Internautes\"]\n",
    "plt.barh(categories, prix_proportions, color=['blue', 'orange', 'green'])\n",
    "#plt.xscale('log')  # On applique l'échelle logarithmique pour que les petites valeurs soient mieux représentées\n",
    "\n",
    "plt.xlabel('Proportions en %')\n",
    "plt.title('Proportions de livres reconnus ou non institutionnellement')\n",
    "plt.savefig(\"reco_institutionnelle.png\")\n",
    "\n",
    "# Ajouter une note de lecture détaillée\n",
    "note = (\"Note de lecture : 97% des livres les plus populaires ne sont pas reconnus institutionnellement\")\n",
    "plt.figtext(0.5, -0.1, note, wrap=True, horizontalalignment='center', fontsize=10)\n",
    "\n",
    "plt.tight_layout()  # Ajuste les marges pour inclure la note\n",
    "\n",
    "plt.show()\n"
   ]
  },
  {
   "cell_type": "markdown",
   "metadata": {},
   "source": [
    "<div style=\"\n",
    "    font-family: 'Arial', sans-serif; \n",
    "    line-height: 1.6; \n",
    "    color: #333; \n",
    "    border-left: 4px solid #007bff; \n",
    "    padding: 10px 15px; \n",
    "    background-color: #eef5ff; \n",
    "    border-radius: 5px;\n",
    "\">\n",
    "    <p>On crée une version intéractive du graphique, attention elle ne s'affiche pas sur github car github ne prend pas en charge le contenu interactif avec ploty. </p>\n",
    "</div>"
   ]
  },
  {
   "cell_type": "code",
   "execution_count": 83,
   "metadata": {},
   "outputs": [
    {
     "data": {
      "application/vnd.plotly.v1+json": {
       "config": {
        "plotlyServerURL": "https://plot.ly"
       },
       "data": [
        {
         "marker": {
          "color": [
           "blue",
           "orange",
           "green"
          ]
         },
         "orientation": "h",
         "text": [
          "96.5376782077393%",
          "2.240325865580448%",
          "1.2219959266802443%"
         ],
         "textposition": "auto",
         "type": "bar",
         "x": [
          96.5376782077393,
          2.240325865580448,
          1.2219959266802443
         ],
         "y": [
          "Aucun",
          "Critique",
          "Internautes"
         ]
        }
       ],
       "layout": {
        "annotations": [
         {
          "align": "center",
          "font": {
           "size": 10
          },
          "showarrow": false,
          "text": "Note de lecture : 97% des livres les plus populaires ne sont pas reconnus institutionnellement",
          "x": 0.5,
          "xref": "paper",
          "y": -0.2,
          "yref": "paper"
         }
        ],
        "template": {
         "data": {
          "bar": [
           {
            "error_x": {
             "color": "#2a3f5f"
            },
            "error_y": {
             "color": "#2a3f5f"
            },
            "marker": {
             "line": {
              "color": "white",
              "width": 0.5
             },
             "pattern": {
              "fillmode": "overlay",
              "size": 10,
              "solidity": 0.2
             }
            },
            "type": "bar"
           }
          ],
          "barpolar": [
           {
            "marker": {
             "line": {
              "color": "white",
              "width": 0.5
             },
             "pattern": {
              "fillmode": "overlay",
              "size": 10,
              "solidity": 0.2
             }
            },
            "type": "barpolar"
           }
          ],
          "carpet": [
           {
            "aaxis": {
             "endlinecolor": "#2a3f5f",
             "gridcolor": "#C8D4E3",
             "linecolor": "#C8D4E3",
             "minorgridcolor": "#C8D4E3",
             "startlinecolor": "#2a3f5f"
            },
            "baxis": {
             "endlinecolor": "#2a3f5f",
             "gridcolor": "#C8D4E3",
             "linecolor": "#C8D4E3",
             "minorgridcolor": "#C8D4E3",
             "startlinecolor": "#2a3f5f"
            },
            "type": "carpet"
           }
          ],
          "choropleth": [
           {
            "colorbar": {
             "outlinewidth": 0,
             "ticks": ""
            },
            "type": "choropleth"
           }
          ],
          "contour": [
           {
            "colorbar": {
             "outlinewidth": 0,
             "ticks": ""
            },
            "colorscale": [
             [
              0,
              "#0d0887"
             ],
             [
              0.1111111111111111,
              "#46039f"
             ],
             [
              0.2222222222222222,
              "#7201a8"
             ],
             [
              0.3333333333333333,
              "#9c179e"
             ],
             [
              0.4444444444444444,
              "#bd3786"
             ],
             [
              0.5555555555555556,
              "#d8576b"
             ],
             [
              0.6666666666666666,
              "#ed7953"
             ],
             [
              0.7777777777777778,
              "#fb9f3a"
             ],
             [
              0.8888888888888888,
              "#fdca26"
             ],
             [
              1,
              "#f0f921"
             ]
            ],
            "type": "contour"
           }
          ],
          "contourcarpet": [
           {
            "colorbar": {
             "outlinewidth": 0,
             "ticks": ""
            },
            "type": "contourcarpet"
           }
          ],
          "heatmap": [
           {
            "colorbar": {
             "outlinewidth": 0,
             "ticks": ""
            },
            "colorscale": [
             [
              0,
              "#0d0887"
             ],
             [
              0.1111111111111111,
              "#46039f"
             ],
             [
              0.2222222222222222,
              "#7201a8"
             ],
             [
              0.3333333333333333,
              "#9c179e"
             ],
             [
              0.4444444444444444,
              "#bd3786"
             ],
             [
              0.5555555555555556,
              "#d8576b"
             ],
             [
              0.6666666666666666,
              "#ed7953"
             ],
             [
              0.7777777777777778,
              "#fb9f3a"
             ],
             [
              0.8888888888888888,
              "#fdca26"
             ],
             [
              1,
              "#f0f921"
             ]
            ],
            "type": "heatmap"
           }
          ],
          "heatmapgl": [
           {
            "colorbar": {
             "outlinewidth": 0,
             "ticks": ""
            },
            "colorscale": [
             [
              0,
              "#0d0887"
             ],
             [
              0.1111111111111111,
              "#46039f"
             ],
             [
              0.2222222222222222,
              "#7201a8"
             ],
             [
              0.3333333333333333,
              "#9c179e"
             ],
             [
              0.4444444444444444,
              "#bd3786"
             ],
             [
              0.5555555555555556,
              "#d8576b"
             ],
             [
              0.6666666666666666,
              "#ed7953"
             ],
             [
              0.7777777777777778,
              "#fb9f3a"
             ],
             [
              0.8888888888888888,
              "#fdca26"
             ],
             [
              1,
              "#f0f921"
             ]
            ],
            "type": "heatmapgl"
           }
          ],
          "histogram": [
           {
            "marker": {
             "pattern": {
              "fillmode": "overlay",
              "size": 10,
              "solidity": 0.2
             }
            },
            "type": "histogram"
           }
          ],
          "histogram2d": [
           {
            "colorbar": {
             "outlinewidth": 0,
             "ticks": ""
            },
            "colorscale": [
             [
              0,
              "#0d0887"
             ],
             [
              0.1111111111111111,
              "#46039f"
             ],
             [
              0.2222222222222222,
              "#7201a8"
             ],
             [
              0.3333333333333333,
              "#9c179e"
             ],
             [
              0.4444444444444444,
              "#bd3786"
             ],
             [
              0.5555555555555556,
              "#d8576b"
             ],
             [
              0.6666666666666666,
              "#ed7953"
             ],
             [
              0.7777777777777778,
              "#fb9f3a"
             ],
             [
              0.8888888888888888,
              "#fdca26"
             ],
             [
              1,
              "#f0f921"
             ]
            ],
            "type": "histogram2d"
           }
          ],
          "histogram2dcontour": [
           {
            "colorbar": {
             "outlinewidth": 0,
             "ticks": ""
            },
            "colorscale": [
             [
              0,
              "#0d0887"
             ],
             [
              0.1111111111111111,
              "#46039f"
             ],
             [
              0.2222222222222222,
              "#7201a8"
             ],
             [
              0.3333333333333333,
              "#9c179e"
             ],
             [
              0.4444444444444444,
              "#bd3786"
             ],
             [
              0.5555555555555556,
              "#d8576b"
             ],
             [
              0.6666666666666666,
              "#ed7953"
             ],
             [
              0.7777777777777778,
              "#fb9f3a"
             ],
             [
              0.8888888888888888,
              "#fdca26"
             ],
             [
              1,
              "#f0f921"
             ]
            ],
            "type": "histogram2dcontour"
           }
          ],
          "mesh3d": [
           {
            "colorbar": {
             "outlinewidth": 0,
             "ticks": ""
            },
            "type": "mesh3d"
           }
          ],
          "parcoords": [
           {
            "line": {
             "colorbar": {
              "outlinewidth": 0,
              "ticks": ""
             }
            },
            "type": "parcoords"
           }
          ],
          "pie": [
           {
            "automargin": true,
            "type": "pie"
           }
          ],
          "scatter": [
           {
            "fillpattern": {
             "fillmode": "overlay",
             "size": 10,
             "solidity": 0.2
            },
            "type": "scatter"
           }
          ],
          "scatter3d": [
           {
            "line": {
             "colorbar": {
              "outlinewidth": 0,
              "ticks": ""
             }
            },
            "marker": {
             "colorbar": {
              "outlinewidth": 0,
              "ticks": ""
             }
            },
            "type": "scatter3d"
           }
          ],
          "scattercarpet": [
           {
            "marker": {
             "colorbar": {
              "outlinewidth": 0,
              "ticks": ""
             }
            },
            "type": "scattercarpet"
           }
          ],
          "scattergeo": [
           {
            "marker": {
             "colorbar": {
              "outlinewidth": 0,
              "ticks": ""
             }
            },
            "type": "scattergeo"
           }
          ],
          "scattergl": [
           {
            "marker": {
             "colorbar": {
              "outlinewidth": 0,
              "ticks": ""
             }
            },
            "type": "scattergl"
           }
          ],
          "scattermapbox": [
           {
            "marker": {
             "colorbar": {
              "outlinewidth": 0,
              "ticks": ""
             }
            },
            "type": "scattermapbox"
           }
          ],
          "scatterpolar": [
           {
            "marker": {
             "colorbar": {
              "outlinewidth": 0,
              "ticks": ""
             }
            },
            "type": "scatterpolar"
           }
          ],
          "scatterpolargl": [
           {
            "marker": {
             "colorbar": {
              "outlinewidth": 0,
              "ticks": ""
             }
            },
            "type": "scatterpolargl"
           }
          ],
          "scatterternary": [
           {
            "marker": {
             "colorbar": {
              "outlinewidth": 0,
              "ticks": ""
             }
            },
            "type": "scatterternary"
           }
          ],
          "surface": [
           {
            "colorbar": {
             "outlinewidth": 0,
             "ticks": ""
            },
            "colorscale": [
             [
              0,
              "#0d0887"
             ],
             [
              0.1111111111111111,
              "#46039f"
             ],
             [
              0.2222222222222222,
              "#7201a8"
             ],
             [
              0.3333333333333333,
              "#9c179e"
             ],
             [
              0.4444444444444444,
              "#bd3786"
             ],
             [
              0.5555555555555556,
              "#d8576b"
             ],
             [
              0.6666666666666666,
              "#ed7953"
             ],
             [
              0.7777777777777778,
              "#fb9f3a"
             ],
             [
              0.8888888888888888,
              "#fdca26"
             ],
             [
              1,
              "#f0f921"
             ]
            ],
            "type": "surface"
           }
          ],
          "table": [
           {
            "cells": {
             "fill": {
              "color": "#EBF0F8"
             },
             "line": {
              "color": "white"
             }
            },
            "header": {
             "fill": {
              "color": "#C8D4E3"
             },
             "line": {
              "color": "white"
             }
            },
            "type": "table"
           }
          ]
         },
         "layout": {
          "annotationdefaults": {
           "arrowcolor": "#2a3f5f",
           "arrowhead": 0,
           "arrowwidth": 1
          },
          "autotypenumbers": "strict",
          "coloraxis": {
           "colorbar": {
            "outlinewidth": 0,
            "ticks": ""
           }
          },
          "colorscale": {
           "diverging": [
            [
             0,
             "#8e0152"
            ],
            [
             0.1,
             "#c51b7d"
            ],
            [
             0.2,
             "#de77ae"
            ],
            [
             0.3,
             "#f1b6da"
            ],
            [
             0.4,
             "#fde0ef"
            ],
            [
             0.5,
             "#f7f7f7"
            ],
            [
             0.6,
             "#e6f5d0"
            ],
            [
             0.7,
             "#b8e186"
            ],
            [
             0.8,
             "#7fbc41"
            ],
            [
             0.9,
             "#4d9221"
            ],
            [
             1,
             "#276419"
            ]
           ],
           "sequential": [
            [
             0,
             "#0d0887"
            ],
            [
             0.1111111111111111,
             "#46039f"
            ],
            [
             0.2222222222222222,
             "#7201a8"
            ],
            [
             0.3333333333333333,
             "#9c179e"
            ],
            [
             0.4444444444444444,
             "#bd3786"
            ],
            [
             0.5555555555555556,
             "#d8576b"
            ],
            [
             0.6666666666666666,
             "#ed7953"
            ],
            [
             0.7777777777777778,
             "#fb9f3a"
            ],
            [
             0.8888888888888888,
             "#fdca26"
            ],
            [
             1,
             "#f0f921"
            ]
           ],
           "sequentialminus": [
            [
             0,
             "#0d0887"
            ],
            [
             0.1111111111111111,
             "#46039f"
            ],
            [
             0.2222222222222222,
             "#7201a8"
            ],
            [
             0.3333333333333333,
             "#9c179e"
            ],
            [
             0.4444444444444444,
             "#bd3786"
            ],
            [
             0.5555555555555556,
             "#d8576b"
            ],
            [
             0.6666666666666666,
             "#ed7953"
            ],
            [
             0.7777777777777778,
             "#fb9f3a"
            ],
            [
             0.8888888888888888,
             "#fdca26"
            ],
            [
             1,
             "#f0f921"
            ]
           ]
          },
          "colorway": [
           "#636efa",
           "#EF553B",
           "#00cc96",
           "#ab63fa",
           "#FFA15A",
           "#19d3f3",
           "#FF6692",
           "#B6E880",
           "#FF97FF",
           "#FECB52"
          ],
          "font": {
           "color": "#2a3f5f"
          },
          "geo": {
           "bgcolor": "white",
           "lakecolor": "white",
           "landcolor": "white",
           "showlakes": true,
           "showland": true,
           "subunitcolor": "#C8D4E3"
          },
          "hoverlabel": {
           "align": "left"
          },
          "hovermode": "closest",
          "mapbox": {
           "style": "light"
          },
          "paper_bgcolor": "white",
          "plot_bgcolor": "white",
          "polar": {
           "angularaxis": {
            "gridcolor": "#EBF0F8",
            "linecolor": "#EBF0F8",
            "ticks": ""
           },
           "bgcolor": "white",
           "radialaxis": {
            "gridcolor": "#EBF0F8",
            "linecolor": "#EBF0F8",
            "ticks": ""
           }
          },
          "scene": {
           "xaxis": {
            "backgroundcolor": "white",
            "gridcolor": "#DFE8F3",
            "gridwidth": 2,
            "linecolor": "#EBF0F8",
            "showbackground": true,
            "ticks": "",
            "zerolinecolor": "#EBF0F8"
           },
           "yaxis": {
            "backgroundcolor": "white",
            "gridcolor": "#DFE8F3",
            "gridwidth": 2,
            "linecolor": "#EBF0F8",
            "showbackground": true,
            "ticks": "",
            "zerolinecolor": "#EBF0F8"
           },
           "zaxis": {
            "backgroundcolor": "white",
            "gridcolor": "#DFE8F3",
            "gridwidth": 2,
            "linecolor": "#EBF0F8",
            "showbackground": true,
            "ticks": "",
            "zerolinecolor": "#EBF0F8"
           }
          },
          "shapedefaults": {
           "line": {
            "color": "#2a3f5f"
           }
          },
          "ternary": {
           "aaxis": {
            "gridcolor": "#DFE8F3",
            "linecolor": "#A2B1C6",
            "ticks": ""
           },
           "baxis": {
            "gridcolor": "#DFE8F3",
            "linecolor": "#A2B1C6",
            "ticks": ""
           },
           "bgcolor": "white",
           "caxis": {
            "gridcolor": "#DFE8F3",
            "linecolor": "#A2B1C6",
            "ticks": ""
           }
          },
          "title": {
           "x": 0.05
          },
          "xaxis": {
           "automargin": true,
           "gridcolor": "#EBF0F8",
           "linecolor": "#EBF0F8",
           "ticks": "",
           "title": {
            "standoff": 15
           },
           "zerolinecolor": "#EBF0F8",
           "zerolinewidth": 2
          },
          "yaxis": {
           "automargin": true,
           "gridcolor": "#EBF0F8",
           "linecolor": "#EBF0F8",
           "ticks": "",
           "title": {
            "standoff": 15
           },
           "zerolinecolor": "#EBF0F8",
           "zerolinewidth": 2
          }
         }
        },
        "title": {
         "text": "Proportions de livres reconnus ou non institutionnellement"
        },
        "xaxis": {
         "title": {
          "text": "Proportions en %"
         }
        },
        "yaxis": {
         "title": {
          "text": ""
         }
        }
       }
      },
      "text/html": [
       "<div>                            <div id=\"34d41435-f895-4220-9173-907a591d8251\" class=\"plotly-graph-div\" style=\"height:525px; width:100%;\"></div>            <script type=\"text/javascript\">                require([\"plotly\"], function(Plotly) {                    window.PLOTLYENV=window.PLOTLYENV || {};                                    if (document.getElementById(\"34d41435-f895-4220-9173-907a591d8251\")) {                    Plotly.newPlot(                        \"34d41435-f895-4220-9173-907a591d8251\",                        [{\"marker\":{\"color\":[\"blue\",\"orange\",\"green\"]},\"orientation\":\"h\",\"text\":[\"96.5376782077393%\",\"2.240325865580448%\",\"1.2219959266802443%\"],\"textposition\":\"auto\",\"x\":[96.5376782077393,2.240325865580448,1.2219959266802443],\"y\":[\"Aucun\",\"Critique\",\"Internautes\"],\"type\":\"bar\"}],                        {\"template\":{\"data\":{\"barpolar\":[{\"marker\":{\"line\":{\"color\":\"white\",\"width\":0.5},\"pattern\":{\"fillmode\":\"overlay\",\"size\":10,\"solidity\":0.2}},\"type\":\"barpolar\"}],\"bar\":[{\"error_x\":{\"color\":\"#2a3f5f\"},\"error_y\":{\"color\":\"#2a3f5f\"},\"marker\":{\"line\":{\"color\":\"white\",\"width\":0.5},\"pattern\":{\"fillmode\":\"overlay\",\"size\":10,\"solidity\":0.2}},\"type\":\"bar\"}],\"carpet\":[{\"aaxis\":{\"endlinecolor\":\"#2a3f5f\",\"gridcolor\":\"#C8D4E3\",\"linecolor\":\"#C8D4E3\",\"minorgridcolor\":\"#C8D4E3\",\"startlinecolor\":\"#2a3f5f\"},\"baxis\":{\"endlinecolor\":\"#2a3f5f\",\"gridcolor\":\"#C8D4E3\",\"linecolor\":\"#C8D4E3\",\"minorgridcolor\":\"#C8D4E3\",\"startlinecolor\":\"#2a3f5f\"},\"type\":\"carpet\"}],\"choropleth\":[{\"colorbar\":{\"outlinewidth\":0,\"ticks\":\"\"},\"type\":\"choropleth\"}],\"contourcarpet\":[{\"colorbar\":{\"outlinewidth\":0,\"ticks\":\"\"},\"type\":\"contourcarpet\"}],\"contour\":[{\"colorbar\":{\"outlinewidth\":0,\"ticks\":\"\"},\"colorscale\":[[0.0,\"#0d0887\"],[0.1111111111111111,\"#46039f\"],[0.2222222222222222,\"#7201a8\"],[0.3333333333333333,\"#9c179e\"],[0.4444444444444444,\"#bd3786\"],[0.5555555555555556,\"#d8576b\"],[0.6666666666666666,\"#ed7953\"],[0.7777777777777778,\"#fb9f3a\"],[0.8888888888888888,\"#fdca26\"],[1.0,\"#f0f921\"]],\"type\":\"contour\"}],\"heatmapgl\":[{\"colorbar\":{\"outlinewidth\":0,\"ticks\":\"\"},\"colorscale\":[[0.0,\"#0d0887\"],[0.1111111111111111,\"#46039f\"],[0.2222222222222222,\"#7201a8\"],[0.3333333333333333,\"#9c179e\"],[0.4444444444444444,\"#bd3786\"],[0.5555555555555556,\"#d8576b\"],[0.6666666666666666,\"#ed7953\"],[0.7777777777777778,\"#fb9f3a\"],[0.8888888888888888,\"#fdca26\"],[1.0,\"#f0f921\"]],\"type\":\"heatmapgl\"}],\"heatmap\":[{\"colorbar\":{\"outlinewidth\":0,\"ticks\":\"\"},\"colorscale\":[[0.0,\"#0d0887\"],[0.1111111111111111,\"#46039f\"],[0.2222222222222222,\"#7201a8\"],[0.3333333333333333,\"#9c179e\"],[0.4444444444444444,\"#bd3786\"],[0.5555555555555556,\"#d8576b\"],[0.6666666666666666,\"#ed7953\"],[0.7777777777777778,\"#fb9f3a\"],[0.8888888888888888,\"#fdca26\"],[1.0,\"#f0f921\"]],\"type\":\"heatmap\"}],\"histogram2dcontour\":[{\"colorbar\":{\"outlinewidth\":0,\"ticks\":\"\"},\"colorscale\":[[0.0,\"#0d0887\"],[0.1111111111111111,\"#46039f\"],[0.2222222222222222,\"#7201a8\"],[0.3333333333333333,\"#9c179e\"],[0.4444444444444444,\"#bd3786\"],[0.5555555555555556,\"#d8576b\"],[0.6666666666666666,\"#ed7953\"],[0.7777777777777778,\"#fb9f3a\"],[0.8888888888888888,\"#fdca26\"],[1.0,\"#f0f921\"]],\"type\":\"histogram2dcontour\"}],\"histogram2d\":[{\"colorbar\":{\"outlinewidth\":0,\"ticks\":\"\"},\"colorscale\":[[0.0,\"#0d0887\"],[0.1111111111111111,\"#46039f\"],[0.2222222222222222,\"#7201a8\"],[0.3333333333333333,\"#9c179e\"],[0.4444444444444444,\"#bd3786\"],[0.5555555555555556,\"#d8576b\"],[0.6666666666666666,\"#ed7953\"],[0.7777777777777778,\"#fb9f3a\"],[0.8888888888888888,\"#fdca26\"],[1.0,\"#f0f921\"]],\"type\":\"histogram2d\"}],\"histogram\":[{\"marker\":{\"pattern\":{\"fillmode\":\"overlay\",\"size\":10,\"solidity\":0.2}},\"type\":\"histogram\"}],\"mesh3d\":[{\"colorbar\":{\"outlinewidth\":0,\"ticks\":\"\"},\"type\":\"mesh3d\"}],\"parcoords\":[{\"line\":{\"colorbar\":{\"outlinewidth\":0,\"ticks\":\"\"}},\"type\":\"parcoords\"}],\"pie\":[{\"automargin\":true,\"type\":\"pie\"}],\"scatter3d\":[{\"line\":{\"colorbar\":{\"outlinewidth\":0,\"ticks\":\"\"}},\"marker\":{\"colorbar\":{\"outlinewidth\":0,\"ticks\":\"\"}},\"type\":\"scatter3d\"}],\"scattercarpet\":[{\"marker\":{\"colorbar\":{\"outlinewidth\":0,\"ticks\":\"\"}},\"type\":\"scattercarpet\"}],\"scattergeo\":[{\"marker\":{\"colorbar\":{\"outlinewidth\":0,\"ticks\":\"\"}},\"type\":\"scattergeo\"}],\"scattergl\":[{\"marker\":{\"colorbar\":{\"outlinewidth\":0,\"ticks\":\"\"}},\"type\":\"scattergl\"}],\"scattermapbox\":[{\"marker\":{\"colorbar\":{\"outlinewidth\":0,\"ticks\":\"\"}},\"type\":\"scattermapbox\"}],\"scatterpolargl\":[{\"marker\":{\"colorbar\":{\"outlinewidth\":0,\"ticks\":\"\"}},\"type\":\"scatterpolargl\"}],\"scatterpolar\":[{\"marker\":{\"colorbar\":{\"outlinewidth\":0,\"ticks\":\"\"}},\"type\":\"scatterpolar\"}],\"scatter\":[{\"fillpattern\":{\"fillmode\":\"overlay\",\"size\":10,\"solidity\":0.2},\"type\":\"scatter\"}],\"scatterternary\":[{\"marker\":{\"colorbar\":{\"outlinewidth\":0,\"ticks\":\"\"}},\"type\":\"scatterternary\"}],\"surface\":[{\"colorbar\":{\"outlinewidth\":0,\"ticks\":\"\"},\"colorscale\":[[0.0,\"#0d0887\"],[0.1111111111111111,\"#46039f\"],[0.2222222222222222,\"#7201a8\"],[0.3333333333333333,\"#9c179e\"],[0.4444444444444444,\"#bd3786\"],[0.5555555555555556,\"#d8576b\"],[0.6666666666666666,\"#ed7953\"],[0.7777777777777778,\"#fb9f3a\"],[0.8888888888888888,\"#fdca26\"],[1.0,\"#f0f921\"]],\"type\":\"surface\"}],\"table\":[{\"cells\":{\"fill\":{\"color\":\"#EBF0F8\"},\"line\":{\"color\":\"white\"}},\"header\":{\"fill\":{\"color\":\"#C8D4E3\"},\"line\":{\"color\":\"white\"}},\"type\":\"table\"}]},\"layout\":{\"annotationdefaults\":{\"arrowcolor\":\"#2a3f5f\",\"arrowhead\":0,\"arrowwidth\":1},\"autotypenumbers\":\"strict\",\"coloraxis\":{\"colorbar\":{\"outlinewidth\":0,\"ticks\":\"\"}},\"colorscale\":{\"diverging\":[[0,\"#8e0152\"],[0.1,\"#c51b7d\"],[0.2,\"#de77ae\"],[0.3,\"#f1b6da\"],[0.4,\"#fde0ef\"],[0.5,\"#f7f7f7\"],[0.6,\"#e6f5d0\"],[0.7,\"#b8e186\"],[0.8,\"#7fbc41\"],[0.9,\"#4d9221\"],[1,\"#276419\"]],\"sequential\":[[0.0,\"#0d0887\"],[0.1111111111111111,\"#46039f\"],[0.2222222222222222,\"#7201a8\"],[0.3333333333333333,\"#9c179e\"],[0.4444444444444444,\"#bd3786\"],[0.5555555555555556,\"#d8576b\"],[0.6666666666666666,\"#ed7953\"],[0.7777777777777778,\"#fb9f3a\"],[0.8888888888888888,\"#fdca26\"],[1.0,\"#f0f921\"]],\"sequentialminus\":[[0.0,\"#0d0887\"],[0.1111111111111111,\"#46039f\"],[0.2222222222222222,\"#7201a8\"],[0.3333333333333333,\"#9c179e\"],[0.4444444444444444,\"#bd3786\"],[0.5555555555555556,\"#d8576b\"],[0.6666666666666666,\"#ed7953\"],[0.7777777777777778,\"#fb9f3a\"],[0.8888888888888888,\"#fdca26\"],[1.0,\"#f0f921\"]]},\"colorway\":[\"#636efa\",\"#EF553B\",\"#00cc96\",\"#ab63fa\",\"#FFA15A\",\"#19d3f3\",\"#FF6692\",\"#B6E880\",\"#FF97FF\",\"#FECB52\"],\"font\":{\"color\":\"#2a3f5f\"},\"geo\":{\"bgcolor\":\"white\",\"lakecolor\":\"white\",\"landcolor\":\"white\",\"showlakes\":true,\"showland\":true,\"subunitcolor\":\"#C8D4E3\"},\"hoverlabel\":{\"align\":\"left\"},\"hovermode\":\"closest\",\"mapbox\":{\"style\":\"light\"},\"paper_bgcolor\":\"white\",\"plot_bgcolor\":\"white\",\"polar\":{\"angularaxis\":{\"gridcolor\":\"#EBF0F8\",\"linecolor\":\"#EBF0F8\",\"ticks\":\"\"},\"bgcolor\":\"white\",\"radialaxis\":{\"gridcolor\":\"#EBF0F8\",\"linecolor\":\"#EBF0F8\",\"ticks\":\"\"}},\"scene\":{\"xaxis\":{\"backgroundcolor\":\"white\",\"gridcolor\":\"#DFE8F3\",\"gridwidth\":2,\"linecolor\":\"#EBF0F8\",\"showbackground\":true,\"ticks\":\"\",\"zerolinecolor\":\"#EBF0F8\"},\"yaxis\":{\"backgroundcolor\":\"white\",\"gridcolor\":\"#DFE8F3\",\"gridwidth\":2,\"linecolor\":\"#EBF0F8\",\"showbackground\":true,\"ticks\":\"\",\"zerolinecolor\":\"#EBF0F8\"},\"zaxis\":{\"backgroundcolor\":\"white\",\"gridcolor\":\"#DFE8F3\",\"gridwidth\":2,\"linecolor\":\"#EBF0F8\",\"showbackground\":true,\"ticks\":\"\",\"zerolinecolor\":\"#EBF0F8\"}},\"shapedefaults\":{\"line\":{\"color\":\"#2a3f5f\"}},\"ternary\":{\"aaxis\":{\"gridcolor\":\"#DFE8F3\",\"linecolor\":\"#A2B1C6\",\"ticks\":\"\"},\"baxis\":{\"gridcolor\":\"#DFE8F3\",\"linecolor\":\"#A2B1C6\",\"ticks\":\"\"},\"bgcolor\":\"white\",\"caxis\":{\"gridcolor\":\"#DFE8F3\",\"linecolor\":\"#A2B1C6\",\"ticks\":\"\"}},\"title\":{\"x\":0.05},\"xaxis\":{\"automargin\":true,\"gridcolor\":\"#EBF0F8\",\"linecolor\":\"#EBF0F8\",\"ticks\":\"\",\"title\":{\"standoff\":15},\"zerolinecolor\":\"#EBF0F8\",\"zerolinewidth\":2},\"yaxis\":{\"automargin\":true,\"gridcolor\":\"#EBF0F8\",\"linecolor\":\"#EBF0F8\",\"ticks\":\"\",\"title\":{\"standoff\":15},\"zerolinecolor\":\"#EBF0F8\",\"zerolinewidth\":2}}},\"title\":{\"text\":\"Proportions de livres reconnus ou non institutionnellement\"},\"xaxis\":{\"title\":{\"text\":\"Proportions en %\"}},\"yaxis\":{\"title\":{\"text\":\"\"}},\"annotations\":[{\"align\":\"center\",\"font\":{\"size\":10},\"showarrow\":false,\"text\":\"Note de lecture : 97% des livres les plus populaires ne sont pas reconnus institutionnellement\",\"x\":0.5,\"xref\":\"paper\",\"y\":-0.2,\"yref\":\"paper\"}]},                        {\"responsive\": true}                    ).then(function(){\n",
       "                            \n",
       "var gd = document.getElementById('34d41435-f895-4220-9173-907a591d8251');\n",
       "var x = new MutationObserver(function (mutations, observer) {{\n",
       "        var display = window.getComputedStyle(gd).display;\n",
       "        if (!display || display === 'none') {{\n",
       "            console.log([gd, 'removed!']);\n",
       "            Plotly.purge(gd);\n",
       "            observer.disconnect();\n",
       "        }}\n",
       "}});\n",
       "\n",
       "// Listen for the removal of the full notebook cells\n",
       "var notebookContainer = gd.closest('#notebook-container');\n",
       "if (notebookContainer) {{\n",
       "    x.observe(notebookContainer, {childList: true});\n",
       "}}\n",
       "\n",
       "// Listen for the clearing of the current output cell\n",
       "var outputEl = gd.closest('.output');\n",
       "if (outputEl) {{\n",
       "    x.observe(outputEl, {childList: true});\n",
       "}}\n",
       "\n",
       "                        })                };                });            </script>        </div>"
      ]
     },
     "metadata": {},
     "output_type": "display_data"
    }
   ],
   "source": [
    "import plotly.graph_objects as go\n",
    "\n",
    "categories = [\"Aucun\", \"Critique\", \"Internautes\"]\n",
    "\n",
    "# On crée un graphique horizontal interactif\n",
    "fig = go.Figure()\n",
    "\n",
    "fig.add_trace(go.Bar(\n",
    "    y=categories,\n",
    "    x=prix_proportions,\n",
    "    orientation='h',  # Graphique horizontal\n",
    "    marker=dict(color=['blue', 'orange', 'green']),  \n",
    "    text=[f\"{p}%\" for p in prix_proportions],  \n",
    "    textposition='auto'  \n",
    "))\n",
    "\n",
    "# Titre et axes\n",
    "fig.update_layout(\n",
    "    title=\"Proportions de livres reconnus ou non institutionnellement\",\n",
    "    xaxis_title=\"Proportions en %\",\n",
    "    yaxis_title=\"\",\n",
    "    template=\"plotly_white\"  \n",
    ")\n",
    "\n",
    "# On ajoute une note de lecture\n",
    "fig.add_annotation(\n",
    "    text=\"Note de lecture : 97% des livres les plus populaires ne sont pas reconnus institutionnellement\",\n",
    "    xref=\"paper\", yref=\"paper\",\n",
    "    x=0.5, y=-0.2,  \n",
    "    showarrow=False,\n",
    "    font=dict(size=10),\n",
    "    align=\"center\"\n",
    ")\n",
    "\n",
    "fig.write_html(\"graphique_proportions_livres_reconnus_ou_non_institutionnellement.html\")\n",
    "\n",
    "\n",
    "fig.show()\n"
   ]
  },
  {
   "cell_type": "markdown",
   "metadata": {},
   "source": [
    "<div style=\"\n",
    "    font-family: 'Time', serif; \n",
    "    font-size: 1.2em; \n",
    "    line-height: 1.6; \n",
    "    padding: 15px; \n",
    "    background-color:rgb(224, 253, 253); \n",
    "    border-radius: 5px;\n",
    "    margin-left: 20px;\n",
    "    margin-right: 20px;\n",
    "    color: #333;\n",
    "    max-width: 900px;\n",
    "    text-align: justify;\n",
    "\">\n",
    "    On observe  une proportion très petite de livres reconnus institutionnellement parmi les plus populaires.\n",
    "\n",
    "On pourrait ainsi penser qu'il y a une dissociation entre les livres les plus lus et les mieux notés sur les applications et ceux ayant un prix. L'intersection est presque vide. On peut alors postuler d'une part que les livres de type best-sellers ne sont pas ceux qui sont primés ( les livres les plus primés illustrant le mécanisme de distinction théorisé par Bourdieu des élites). D'autre part, pour les autres bases, l'échantillon des lecteurs consignant les livres qu'ils ont lu et les notant dans les applications dédiées à cela n'est peut-être pas du tout représentatif. Ils pourraient par exemple venir majoritairement de milieux sociaux plutôt extérieurs à la culture légitime et donc du fait de cette caractéristique ne pas s'intéresser aux livres primés et avoir des critères de notation différents.\n",
    "\n",
    "Nous pensions que la deuxième hypothèse était probable, sauf qu'étonnamment, il y a encore moins de livres populaires parmi les mieux notés sur Livraddict. Sauf que cela est peut-être du au fait qu'il y a bien plus de livres renseignés comme ayant un prix sur Livraddict. De plus, il n'y avait de classement tel disponible sur Livraddict que pour 2023 alors que nous avons pu prendre tous les prix littéraires entre 2019 et 2023 lors du scrapping wikipedia. La comparaison de ces deux bases n'est donc peut-être pas pertinente.\n",
    "</div>"
   ]
  },
  {
   "cell_type": "markdown",
   "metadata": {},
   "source": [
    "<div style=\"\n",
    "    font-family: 'Arial', sans-serif; \n",
    "    line-height: 1.6; \n",
    "    color: #333; \n",
    "    border-left: 4px solid #007bff; \n",
    "    padding: 10px 15px; \n",
    "    background-color: #eef5ff; \n",
    "    border-radius: 5px;\n",
    "\">\n",
    "    <p>Avant de passer à une étape ultérieure, observons quand même s'il y a une intersection entre les livres jugés de qualités sur Livraddict et ceux jugés de qualités par les professionnels octroyant les prix littéraires. Gardons néanmoins à l'esprit le fait que la base de Livraddict ne comporte que des livres publiés en 2023. Ainsi pour comparer les deux bases, ne conservons que les prix octroyés en 2023. </p>\n",
    "</div>"
   ]
  },
  {
   "cell_type": "code",
   "execution_count": 84,
   "metadata": {},
   "outputs": [],
   "source": [
    "# on crée une base avec que les livres reconnus pour voir l'intersection sans s'occuper du reste\n",
    "df_reconnus = final_data[((final_data['prix_19_23'] == 1) & (final_data['Année'] == 2023)) | (final_data['top_livraddict'] == 1)]"
   ]
  },
  {
   "cell_type": "code",
   "execution_count": 85,
   "metadata": {},
   "outputs": [],
   "source": [
    "def reconnu_bis(row):\n",
    "    if row['prix_19_23'] == 1 and (row['top_livraddict'] == 0):\n",
    "        reconnu = 'Critique'\n",
    "    elif row['prix_19_23'] == 0 and (row['top_livraddict'] == 1):\n",
    "        reconnu = 'Internautes'\n",
    "    elif (row['prix_19_23'] == 1) and (row['top_livraddict'] == 1):\n",
    "        reconnu = 'Critique et internautes'\n",
    "    else:\n",
    "        reconnu = 'Aucun'\n",
    "    return reconnu"
   ]
  },
  {
   "cell_type": "code",
   "execution_count": 86,
   "metadata": {},
   "outputs": [],
   "source": [
    "df_reconnus.loc[:, 'Reconnu_par'] = df_reconnus.apply(reconnu_bis, axis=1)"
   ]
  },
  {
   "cell_type": "code",
   "execution_count": 87,
   "metadata": {},
   "outputs": [
    {
     "name": "stdout",
     "output_type": "stream",
     "text": [
      "Nombre de livres en 2023 parmi les reconnus ayant obtenu un prix ou des bonnes notes d'internautes:\n",
      "Reconnu_par\n",
      "Internautes    85\n",
      "Critique       53\n",
      "Name: count, dtype: int64\n",
      "\n",
      "Proportion de livres en 2023 parmi les reconnus ayant obtenu un prix ou des bonnes notes d'internautes (%):\n",
      "Reconnu_par\n",
      "Internautes    61.594203\n",
      "Critique       38.405797\n",
      "Name: proportion, dtype: float64\n"
     ]
    }
   ],
   "source": [
    "commun = df_reconnus['Reconnu_par'].value_counts()\n",
    "commun_proportions = df_reconnus['Reconnu_par'].value_counts(normalize=True) * 100\n",
    "\n",
    "print(\"Nombre de livres en 2023 parmi les reconnus ayant obtenu un prix ou des bonnes notes d'internautes:\")\n",
    "print(commun)\n",
    "print(\"\\nProportion de livres en 2023 parmi les reconnus ayant obtenu un prix ou des bonnes notes d'internautes (%):\")\n",
    "print(commun_proportions)"
   ]
  },
  {
   "cell_type": "markdown",
   "metadata": {},
   "source": [
    "<div style=\"\n",
    "    font-family: 'Time', serif; \n",
    "    font-size: 1.2em; \n",
    "    line-height: 1.6; \n",
    "    padding: 15px; \n",
    "    background-color:rgb(224, 253, 253); \n",
    "    border-radius: 5px;\n",
    "    margin-left: 20px;\n",
    "    margin-right: 20px;\n",
    "    color: #333;\n",
    "    max-width: 900px;\n",
    "    text-align: justify;\n",
    "\">\n",
    "    En 2023, il n'y a pas d'intersection entre les livres les mieux notés sur Livraddict et ceux ayant obtenus un prix. Cette observation est très intéressante. On pourrait penser que les livres ne se voient pas forcément accordés un prix l'année de leur parution, sauf que pour de nombreux livres de la base Wikipedia, l'année de parution coincide avec l'année à laquelle le livre a reçu son ou ses prix.\n",
    "\n",
    "In fine, on peut surtout en conclure que nos bases sur la reconnaissance institutionnelle des livre sont complémentaires. Elles permettent d'explorer deux formes de reconnaissance, et d'élargir notre analyse sur le lien entre note des livres et popularité.\n",
    "\n",
    "Ainsi, par la suite, nous allons surtout analyser une par une les bases de popularité, et les comparer entre elles. \n",
    "</div>"
   ]
  },
  {
   "cell_type": "markdown",
   "metadata": {},
   "source": [
    "<div style=\"\n",
    "    font-family: 'Arial', sans-serif; \n",
    "    text-align: center; \n",
    "    padding: 10px; \n",
    "    background-color:rgb(210, 199, 255); \n",
    "    color: black; \n",
    "    border-radius: 5px; \n",
    "    font-size: 1.5em;\n",
    "\">\n",
    "    <strong>C) Analyse des classements de popularité</strong>\n",
    "</div>\n",
    "<p> Tout d'abord, visualisons de manière générale la base. Tout d'abord, il est utile de savoir combien de livres proviennent de quelles bases, de voir quelle base fournit le plus de livres populaires, afin de pouvoir mieux interpréter les données. </p>"
   ]
  },
  {
   "cell_type": "markdown",
   "metadata": {},
   "source": [
    "##"
   ]
  },
  {
   "cell_type": "markdown",
   "metadata": {},
   "source": [
    "### Généralités"
   ]
  },
  {
   "cell_type": "code",
   "execution_count": 88,
   "metadata": {},
   "outputs": [],
   "source": [
    "df_popularity = final_data[\n",
    "    (final_data['top_fnac_1'] == 1) | \n",
    "    (final_data['top_fnac_2_plus'] == 1) | \n",
    "    (final_data['top_babelio'] == 1) | \n",
    "    (final_data['Top_bibliothèque'] == 1)\n",
    "]"
   ]
  },
  {
   "cell_type": "code",
   "execution_count": 89,
   "metadata": {},
   "outputs": [
    {
     "name": "stdout",
     "output_type": "stream",
     "text": [
      "\n",
      "Analyse pour top_fnac_1:\n",
      "Nombre de livres :\n",
      "top_fnac_1\n",
      "0.0    96\n",
      "1.0    69\n",
      "Name: count, dtype: int64\n",
      "Proportions (%):\n",
      "top_fnac_1\n",
      "0.0    58.181818\n",
      "1.0    41.818182\n",
      "Name: proportion, dtype: float64\n",
      "\n",
      "Analyse pour top_babelio:\n",
      "Nombre de livres :\n",
      "top_babelio\n",
      "0.0    141\n",
      "1.0     24\n",
      "Name: count, dtype: int64\n",
      "Proportions (%):\n",
      "top_babelio\n",
      "0.0    85.454545\n",
      "1.0    14.545455\n",
      "Name: proportion, dtype: float64\n",
      "\n",
      "Analyse pour Top_bibliothèque:\n",
      "Nombre de livres :\n",
      "Top_bibliothèque\n",
      "1.0    86\n",
      "0.0    79\n",
      "Name: count, dtype: int64\n",
      "Proportions (%):\n",
      "Top_bibliothèque\n",
      "1.0    52.121212\n",
      "0.0    47.878788\n",
      "Name: proportion, dtype: float64\n"
     ]
    }
   ],
   "source": [
    "# Comptage et proportions pour chaque top\n",
    "tops = ['top_fnac_1', 'top_babelio', 'Top_bibliothèque']\n",
    "for top in tops:\n",
    "    print(f\"\\nAnalyse pour {top}:\")\n",
    "    counts = df_popularity[top].value_counts()\n",
    "    proportions = df_popularity[top].value_counts(normalize=True) * 100\n",
    "    print(f\"Nombre de livres :\\n{counts}\")\n",
    "    print(f\"Proportions (%):\\n{proportions}\")"
   ]
  },
  {
   "cell_type": "code",
   "execution_count": 90,
   "metadata": {},
   "outputs": [
    {
     "data": {
      "image/png": "[encoded data removed]",
      "text/plain": [
       "<Figure size 640x480 with 1 Axes>"
      ]
     },
     "metadata": {},
     "output_type": "display_data"
    }
   ],
   "source": [
    "# Visualisation \n",
    "categories = [\"Top fnac\", \"Top Babellio\", \"Top Bibliothèques\"]\n",
    "values = [69, 24, 86]\n",
    "plt.barh(categories, values, color=['blue', 'orange', 'green'])\n",
    "\n",
    "plt.xlabel('Nombre de livres')\n",
    "plt.title('La répartition de la provenance des livres populaires dans chacun des tops')\n",
    "plt.show()"
   ]
  },
  {
   "cell_type": "markdown",
   "metadata": {},
   "source": [
    "On voit que la base des livres les plus empruntés en bibliothèque domine numériquement nos données, même si la différence avec de taille entre cette dernière et celle des bestsellers fnac n'est pas si grande."
   ]
  },
  {
   "cell_type": "markdown",
   "metadata": {},
   "source": [
    "<div style=\"\n",
    "    font-family: 'Arial', sans-serif; \n",
    "    line-height: 1.6; \n",
    "    color: #333; \n",
    "    border-left: 4px solid #007bff; \n",
    "    padding: 10px 15px; \n",
    "    background-color: #eef5ff; \n",
    "    border-radius: 5px;\n",
    "\">\n",
    "    <p>Regardons encore une fois s'il y a des croisement, des livres dans plusieurs tops. </p>\n",
    "</div>"
   ]
  },
  {
   "cell_type": "code",
   "execution_count": 91,
   "metadata": {},
   "outputs": [
    {
     "name": "stdout",
     "output_type": "stream",
     "text": [
      "Nombre de livres présents dans au moins deux tops :\n",
      "multiple_tops\n",
      "0    477\n",
      "1     14\n",
      "Name: count, dtype: int64\n",
      "\n",
      "Proportion de livres présents dans au moins deux tops (%):\n",
      "multiple_tops\n",
      "0    97.148676\n",
      "1     2.851324\n",
      "Name: proportion, dtype: float64\n"
     ]
    }
   ],
   "source": [
    "tops_columns = ['top_fnac_1', 'top_babelio', 'Top_bibliothèque']\n",
    "final_data['multiple_tops'] = (final_data[tops_columns].sum(axis=1) >= 2).astype(int)\n",
    "multiple_tops_counts = final_data['multiple_tops'].value_counts()\n",
    "multiple_tops_proportions = final_data['multiple_tops'].value_counts(normalize=True) * 100\n",
    "\n",
    "print(\"Nombre de livres présents dans au moins deux tops :\")\n",
    "print(multiple_tops_counts)\n",
    "print(\"\\nProportion de livres présents dans au moins deux tops (%):\")\n",
    "print(multiple_tops_proportions)"
   ]
  },
  {
   "cell_type": "markdown",
   "metadata": {},
   "source": [
    "<div style=\"\n",
    "    font-family: 'Time', serif; \n",
    "    font-size: 1.2em; \n",
    "    line-height: 1.6; \n",
    "    padding: 15px; \n",
    "    background-color:rgb(224, 253, 253); \n",
    "    border-radius: 5px;\n",
    "    margin-left: 20px;\n",
    "    margin-right: 20px;\n",
    "    color: #333;\n",
    "    max-width: 900px;\n",
    "    text-align: justify;\n",
    "\">\n",
    "    Il n'y a que 14 livres en commun entre les tops. Encore une fois, c'est peu, même si mieux qu'entre les bases Wikipedia et Livraddict. Ces classements de popularité sont donc plus complémentaires, ce qui peut-être très intéressant dans le cadre de notre analyse. En effet, on peut supposer qu'il y a une différence d'échantillonnage entre les individus dont les lectures sont représentées par les bestsellers, ceux qui empruntent le plus dans les bibliothèque et ceux qui notent leurs lectures sur Babelio. On peut d'une part supposer une différence d'âge, notamment avec éventuellement des clients de bibliothèque plus jeunes, mais aussi des différences de milieux sociaux et de rapport à la lecture et à la littérature en tant qu'art. En effet, les utilisateurs de Babelio nous paraissent intuitivement des lecteurs plus réguliers, qui cherchent sûrement à se démarquer en ayant des lectures peut-être plus originales, par un mécanisme de distinction de la masse. Bien sûr, cela reste des suppositions, que nous devrions, si nous poussions ce projet plus loin, vérifier.\n",
    "\n",
    "Toutefois, ces constats restent tout de même utiles puisqu'ils nous permettent de juger pertinent de regarder dans quel type de base de livres populaire il y a le plus de livres bien notés ou récompensés par un prix. \n",
    "</div>"
   ]
  },
  {
   "cell_type": "markdown",
   "metadata": {},
   "source": [
    "<div style=\"\n",
    "    font-family: 'Arial', sans-serif; \n",
    "    line-height: 1.6; \n",
    "    color: #333; \n",
    "    border-left: 4px solid #007bff; \n",
    "    padding: 10px 15px; \n",
    "    background-color: #eef5ff; \n",
    "    border-radius: 5px;\n",
    "\">\n",
    "    <p>Avant cela, nous pensons qu'il est nécessaire de mettre en avant l'existence d'une variable dans la base fnac indiquant si le livre a été un bestseller pendant plus d'un mois. Observons donc la proportion de livre au sein de la base fnac qui restent longtemps des bestsellers. </p>\n",
    "</div>"
   ]
  },
  {
   "cell_type": "code",
   "execution_count": 92,
   "metadata": {},
   "outputs": [],
   "source": [
    "final_fnac = final_data[(final_data['top_fnac_1'] == 1) | (final_data['top_fnac_2_plus'] == 1)]"
   ]
  },
  {
   "cell_type": "code",
   "execution_count": 93,
   "metadata": {},
   "outputs": [
    {
     "name": "stdout",
     "output_type": "stream",
     "text": [
      "Nombre de livres ayant été plus d'1 mois bestsellers en 2023:\n",
      "top_fnac_2_plus\n",
      "0.0    39\n",
      "1.0    30\n",
      "Name: count, dtype: int64\n",
      "\n",
      "Proportion de livres ayant été plus d'1 mois bestsellers en 2023 parmi les bestsellers (%):\n",
      "top_fnac_2_plus\n",
      "0.0    56.521739\n",
      "1.0    43.478261\n",
      "Name: proportion, dtype: float64\n"
     ]
    }
   ],
   "source": [
    "bestbestsellers = final_fnac['top_fnac_2_plus'].value_counts()\n",
    "bestbestsellers_proportions = final_fnac['top_fnac_2_plus'].value_counts(normalize=True) * 100\n",
    "\n",
    "print(\"Nombre de livres ayant été plus d'1 mois bestsellers en 2023:\")\n",
    "print(bestbestsellers)\n",
    "print(\"\\nProportion de livres ayant été plus d'1 mois bestsellers en 2023 parmi les bestsellers (%):\")\n",
    "print(bestbestsellers_proportions)"
   ]
  },
  {
   "cell_type": "markdown",
   "metadata": {},
   "source": [
    "<div style=\"\n",
    "    font-family: 'Time', serif; \n",
    "    font-size: 1.2em; \n",
    "    line-height: 1.6; \n",
    "    padding: 15px; \n",
    "    background-color:rgb(224, 253, 253); \n",
    "    border-radius: 5px;\n",
    "    margin-left: 20px;\n",
    "    margin-right: 20px;\n",
    "    color: #333;\n",
    "    max-width: 900px;\n",
    "    text-align: justify;\n",
    "\">\n",
    "    On voit donc que à peu près 43% des bestsellers le reste pendant plus d'un mois. \n",
    "\n",
    "\n",
    "    Répondons donc maintenant à notre question: dans quel type de base indiquant la popularité y-a-t-il le plus de livre considérés de qualité ?\n",
    "</div>"
   ]
  },
  {
   "cell_type": "markdown",
   "metadata": {},
   "source": [
    "<div style=\"\n",
    "    font-family: 'Arial', sans-serif; \n",
    "    line-height: 1.6; \n",
    "    color: #333; \n",
    "    border-left: 4px solid #007bff; \n",
    "    padding: 10px 15px; \n",
    "    background-color: #eef5ff; \n",
    "    border-radius: 5px;\n",
    "\">\n",
    "    <p>Tout d'abord, procédons à une analyse un peu plus globale. </p>\n",
    "</div>"
   ]
  },
  {
   "cell_type": "code",
   "execution_count": 94,
   "metadata": {},
   "outputs": [],
   "source": [
    "df_popularity.loc[:, 'Reconnu_par'] = df_popularity.apply(reconnu_bis, axis=1)"
   ]
  },
  {
   "cell_type": "code",
   "execution_count": 95,
   "metadata": {},
   "outputs": [
    {
     "name": "stdout",
     "output_type": "stream",
     "text": [
      "Nombre de livres en 2023 parmi les plus populaires ayant obtenu un prix ou des bonnes notes d'internautes:\n",
      "Reconnu_par\n",
      "Aucun          148\n",
      "Critique        11\n",
      "Internautes      6\n",
      "Name: count, dtype: int64\n",
      "\n",
      "Proportion de livres en 2023 parmi les plus populaires ayant obtenu un prix ou des bonnes notes d'internautes (%):\n",
      "Reconnu_par\n",
      "Aucun          89.696970\n",
      "Critique        6.666667\n",
      "Internautes     3.636364\n",
      "Name: proportion, dtype: float64\n"
     ]
    }
   ],
   "source": [
    "reconnus = df_popularity['Reconnu_par'].value_counts()\n",
    "reconnus_proportions = df_popularity['Reconnu_par'].value_counts(normalize=True) * 100\n",
    "\n",
    "print(\"Nombre de livres en 2023 parmi les plus populaires ayant obtenu un prix ou des bonnes notes d'internautes:\")\n",
    "print(reconnus)\n",
    "print(\"\\nProportion de livres en 2023 parmi les plus populaires ayant obtenu un prix ou des bonnes notes d'internautes (%):\")\n",
    "print(reconnus_proportions)"
   ]
  },
  {
   "cell_type": "markdown",
   "metadata": {},
   "source": [
    "<div style=\"\n",
    "    font-family: 'Time', serif; \n",
    "    font-size: 1.2em; \n",
    "    line-height: 1.6; \n",
    "    padding: 15px; \n",
    "    background-color:rgb(224, 253, 253); \n",
    "    border-radius: 5px;\n",
    "    margin-left: 20px;\n",
    "    margin-right: 20px;\n",
    "    color: #333;\n",
    "    max-width: 900px;\n",
    "    text-align: justify;\n",
    "\">\n",
    "    Si le nombre de livres populaires ayant reçu un prix ou étant parmi les livres les plus notés sur Livraddict reste le même, faire l'analyse dans ce sens et non pas dans le sens inverse nous permet d'avoir une meilleure idée de la proportion de livres populaires salués de la critique. On trouve qu'il y a en proportion plus de livres populaires salués par la critique que de livres primés populaire. Toutefois, cela est peut-être dû au fait que nous disposons de plus de données sur les livres primés grâce à wikipedia que de données sur les livres populaires. Pour que l'analyse soit plus rigoureuse, il faudrait raisonner au moins à échantillon équivalent. De plus, nous n'avons pas distingué les \"prix nobles\" des prix moins considérés par l'élite littéraire. Il se pourrait que cette intersection ne s'explique que par l'existence de prix \"moins noble\" pour ce qui est de la base wikipedia. Essayons de vérifier cela.\n",
    "</div>"
   ]
  },
  {
   "cell_type": "markdown",
   "metadata": {},
   "source": [
    "<div style=\"\n",
    "    font-family: 'Arial', sans-serif; \n",
    "    line-height: 1.6; \n",
    "    color: #333; \n",
    "    border-left: 4px solid #007bff; \n",
    "    padding: 10px 15px; \n",
    "    background-color: #eef5ff; \n",
    "    border-radius: 5px;\n",
    "\">\n",
    "    <p>Cherchons quels sont les prix qu'on gagné les livres populaires primés. </p>\n",
    "</div>"
   ]
  },
  {
   "cell_type": "code",
   "execution_count": 96,
   "metadata": {},
   "outputs": [],
   "source": [
    "prix_populaires = df_popularity[df_popularity['Reconnu_par'] == 'Critique']['Prix']"
   ]
  },
  {
   "cell_type": "code",
   "execution_count": 97,
   "metadata": {},
   "outputs": [
    {
     "name": "stdout",
     "output_type": "stream",
     "text": [
      "49                    Prix France Culture-Télérama\n",
      "173                   Prix France Culture-Télérama\n",
      "203                            Grand prix RTL-Lire\n",
      "207                                Le Consentement\n",
      "228    Grand prix du roman de l'Académie française\n",
      "316                           Prix Femina étranger\n",
      "327            Fauve d'or : prix du meilleur album\n",
      "433                                            NaN\n",
      "438                                    Prix Femina\n",
      "439                       Prix littéraire du Monde\n",
      "466                                  Prix Goncourt\n",
      "Name: Prix, dtype: object\n"
     ]
    }
   ],
   "source": [
    "print(prix_populaires)"
   ]
  },
  {
   "cell_type": "markdown",
   "metadata": {},
   "source": [
    "<div style=\"\n",
    "    font-family: 'Time', serif; \n",
    "    font-size: 1.2em; \n",
    "    line-height: 1.6; \n",
    "    padding: 15px; \n",
    "    background-color:rgb(224, 253, 253); \n",
    "    border-radius: 5px;\n",
    "    margin-left: 20px;\n",
    "    margin-right: 20px;\n",
    "    color: #333;\n",
    "    max-width: 900px;\n",
    "    text-align: justify;\n",
    "\">\n",
    "    Ainsi, il y a un certain nombre de prix qui sont représentés dans les livres populaires mais pas du tout tous. On pourrait faire l'hypothèse que tout les prix n'ont pas autant d'influence et que certains arrivent à influencer la popularité du fait de leur renommée et qu'ils sont mis en avant par les plateforme en ligne et les magasin fnac, mais pas tous.\n",
    "</div>"
   ]
  },
  {
   "cell_type": "markdown",
   "metadata": {},
   "source": [
    "### Les bestsellers fnac et leur reconnaissance:"
   ]
  },
  {
   "cell_type": "code",
   "execution_count": 98,
   "metadata": {},
   "outputs": [],
   "source": [
    "final_fnac.loc[:, 'Reconnu_par'] = final_fnac.apply(reconnu_bis, axis=1)"
   ]
  },
  {
   "cell_type": "code",
   "execution_count": 99,
   "metadata": {},
   "outputs": [
    {
     "name": "stdout",
     "output_type": "stream",
     "text": [
      "Nombre de livres en 2023 parmi les bestsellers fnac ayant obtenu un prix ou des bonnes notes d'internautes:\n",
      "Reconnu_par\n",
      "Aucun          60\n",
      "Internautes     5\n",
      "Critique        4\n",
      "Name: count, dtype: int64\n",
      "\n",
      "Proportion de livres en 2023 parmi les bestsellers fnac ayant obtenu un prix ou des bonnes notes d'internautes (%):\n",
      "Reconnu_par\n",
      "Aucun          86.956522\n",
      "Internautes     7.246377\n",
      "Critique        5.797101\n",
      "Name: proportion, dtype: float64\n"
     ]
    }
   ],
   "source": [
    "reconnus = final_fnac['Reconnu_par'].value_counts()\n",
    "reconnus_proportions = final_fnac['Reconnu_par'].value_counts(normalize=True) * 100\n",
    "\n",
    "print(\"Nombre de livres en 2023 parmi les bestsellers fnac ayant obtenu un prix ou des bonnes notes d'internautes:\")\n",
    "print(reconnus)\n",
    "print(\"\\nProportion de livres en 2023 parmi les bestsellers fnac ayant obtenu un prix ou des bonnes notes d'internautes (%):\")\n",
    "print(reconnus_proportions)"
   ]
  },
  {
   "cell_type": "markdown",
   "metadata": {},
   "source": [
    "<div style=\"\n",
    "    font-family: 'Arial', sans-serif; \n",
    "    line-height: 1.6; \n",
    "    color: #333; \n",
    "    border-left: 4px solid #007bff; \n",
    "    padding: 10px 15px; \n",
    "    background-color: #eef5ff; \n",
    "    border-radius: 5px;\n",
    "\">\n",
    "    <p>Regardons s'il y a une surreprésentation des livres reconnus institutionnellement parmi les bestsellers s'étant maintenus au sommet des ventes pendant plusieurs mois. </p>\n",
    "</div>"
   ]
  },
  {
   "cell_type": "code",
   "execution_count": 100,
   "metadata": {},
   "outputs": [],
   "source": [
    "best_fnac = final_fnac[final_fnac['top_fnac_2_plus']==1]"
   ]
  },
  {
   "cell_type": "code",
   "execution_count": 101,
   "metadata": {},
   "outputs": [],
   "source": [
    "best_fnac.loc[:, 'Reconnu_par'] = best_fnac.apply(reconnu_bis, axis=1)"
   ]
  },
  {
   "cell_type": "code",
   "execution_count": 102,
   "metadata": {},
   "outputs": [
    {
     "name": "stdout",
     "output_type": "stream",
     "text": [
      "Nombre de livres en 2023 parmi les bestsellers fnac les plus vendus ayant obtenu un prix ou des bonnes notes d'internautes:\n",
      "Reconnu_par\n",
      "Aucun          24\n",
      "Critique        4\n",
      "Internautes     2\n",
      "Name: count, dtype: int64\n",
      "\n",
      "Proportion de livres en 2023 parmi les bestsellers fnac les plus vendus ayant obtenu un prix ou des bonnes notes d'internautes (%):\n",
      "Reconnu_par\n",
      "Aucun          80.000000\n",
      "Critique       13.333333\n",
      "Internautes     6.666667\n",
      "Name: proportion, dtype: float64\n"
     ]
    }
   ],
   "source": [
    "reconnus = best_fnac['Reconnu_par'].value_counts()\n",
    "reconnus_proportions = best_fnac['Reconnu_par'].value_counts(normalize=True) * 100\n",
    "\n",
    "print(\"Nombre de livres en 2023 parmi les bestsellers fnac les plus vendus ayant obtenu un prix ou des bonnes notes d'internautes:\")\n",
    "print(reconnus)\n",
    "print(\"\\nProportion de livres en 2023 parmi les bestsellers fnac les plus vendus ayant obtenu un prix ou des bonnes notes d'internautes (%):\")\n",
    "print(reconnus_proportions)"
   ]
  },
  {
   "cell_type": "markdown",
   "metadata": {},
   "source": [
    "<div style=\"\n",
    "    font-family: 'Time', serif; \n",
    "    font-size: 1.2em; \n",
    "    line-height: 1.6; \n",
    "    padding: 15px; \n",
    "    background-color:rgb(224, 253, 253); \n",
    "    border-radius: 5px;\n",
    "    margin-left: 20px;\n",
    "    margin-right: 20px;\n",
    "    color: #333;\n",
    "    max-width: 900px;\n",
    "    text-align: justify;\n",
    "\">\n",
    "    On voit en effet que parmi ces \"super bestsellers\", la proportion de livres salués par la critique ou par la communauté des internautes est plus importante. Représentons tout ça graphiquement.\n",
    "</div>"
   ]
  },
  {
   "cell_type": "code",
   "execution_count": 103,
   "metadata": {},
   "outputs": [
    {
     "data": {
      "image/png": "[encoded data removed]",
      "text/plain": [
       "<Figure size 640x480 with 1 Axes>"
      ]
     },
     "metadata": {},
     "output_type": "display_data"
    }
   ],
   "source": [
    "categories = [\"Bestsellers avec prix littéraire\",\"Bestsellers top Livraddict\", \"'Super' Bestsellers avec prix littéraire\", \"'Super' Bestsellers top Livraddict\" ]\n",
    "values = [5.797101, 7.246377, 13.333333, 6.666667 ]\n",
    "plt.barh(categories, values, color=['blue', 'orange', 'green', 'purple'])\n",
    "\n",
    "plt.xlabel('Proportion en %')\n",
    "plt.title('Proportion de bestsellers fnac à être salués par la critique')\n",
    "\n",
    "# Ajouter une note de lecture détaillée\n",
    "note = (\"Note de lecture : 12% des 'Super'Bestsellers fnac sont dans le top livraddict\")\n",
    "plt.figtext(0.5, -0.1, note, wrap=True, horizontalalignment='center', fontsize=10)\n",
    "\n",
    "plt.tight_layout()  # Ajuste les marges pour inclure la note\n",
    "\n",
    "plt.savefig('proportion_bestsellers_fnac_prix.png')  # Spécifiez un chemin si nécessaire\n",
    "\n",
    "plt.show()"
   ]
  },
  {
   "cell_type": "markdown",
   "metadata": {},
   "source": [
    "<div style=\"\n",
    "    font-family: 'Time', serif; \n",
    "    font-size: 1.2em; \n",
    "    line-height: 1.6; \n",
    "    padding: 15px; \n",
    "    background-color:rgb(224, 253, 253); \n",
    "    border-radius: 5px;\n",
    "    margin-left: 20px;\n",
    "    margin-right: 20px;\n",
    "    color: #333;\n",
    "    max-width: 900px;\n",
    "    text-align: justify;\n",
    "\">\n",
    "    Il n'y a pas de différence flagrante de proportion de livres faisant partie du top Livraddict entre l'ensemble des bestsellers et les \"super bestsellers\". Par contre, il y a une différence plus flagrante en terme de prix littéraire, d'environ sept points de pourcentages. Toutefois, cette différence est évidemment à nuancer étant donné la taille des échantillons. Il n'en reste qu'il est intéressant d'observer que les plus gros bestsellers ont une propension plus grande à avoir été primés que les autres bestsellers, même si la proportion de livres primés reste plutôt faible.\n",
    "</div>"
   ]
  },
  {
   "cell_type": "markdown",
   "metadata": {},
   "source": [
    "### Les livres les plus empruntés en bibliothèque et leur reconnaissance:"
   ]
  },
  {
   "cell_type": "code",
   "execution_count": 104,
   "metadata": {},
   "outputs": [],
   "source": [
    "final_bibli = final_data[final_data['Top_bibliothèque']==1]"
   ]
  },
  {
   "cell_type": "code",
   "execution_count": 105,
   "metadata": {},
   "outputs": [],
   "source": [
    "final_bibli.loc[:, 'Reconnu_par'] = final_bibli.apply(reconnu_bis, axis=1)"
   ]
  },
  {
   "cell_type": "code",
   "execution_count": 106,
   "metadata": {},
   "outputs": [
    {
     "name": "stdout",
     "output_type": "stream",
     "text": [
      "Nombre de livres en 2023 parmi les plus empruntés dans les bibliothèques de Paris ayant obtenu un prix ou des bonnes notes d'internautes:\n",
      "Reconnu_par\n",
      "Aucun       80\n",
      "Critique     6\n",
      "Name: count, dtype: int64\n",
      "\n",
      "Proportion de livres en 2023 parmi les plus empruntés dans les bibliothèques de Paris ayant obtenu un prix ou des bonnes notes d'internautes (%):\n",
      "Reconnu_par\n",
      "Aucun       93.023256\n",
      "Critique     6.976744\n",
      "Name: proportion, dtype: float64\n"
     ]
    }
   ],
   "source": [
    "reconnus = final_bibli['Reconnu_par'].value_counts()\n",
    "reconnus_proportions = final_bibli['Reconnu_par'].value_counts(normalize=True) * 100\n",
    "\n",
    "print(\"Nombre de livres en 2023 parmi les plus empruntés dans les bibliothèques de Paris ayant obtenu un prix ou des bonnes notes d'internautes:\")\n",
    "print(reconnus)\n",
    "print(\"\\nProportion de livres en 2023 parmi les plus empruntés dans les bibliothèques de Paris ayant obtenu un prix ou des bonnes notes d'internautes (%):\")\n",
    "print(reconnus_proportions)"
   ]
  },
  {
   "cell_type": "markdown",
   "metadata": {},
   "source": [
    "<div style=\"\n",
    "    font-family: 'Time', serif; \n",
    "    font-size: 1.2em; \n",
    "    line-height: 1.6; \n",
    "    padding: 15px; \n",
    "    background-color:rgb(224, 253, 253); \n",
    "    border-radius: 5px;\n",
    "    margin-left: 20px;\n",
    "    margin-right: 20px;\n",
    "    color: #333;\n",
    "    max-width: 900px;\n",
    "    text-align: justify;\n",
    "\">\n",
    "    Dans cette base, il est frappant de constater qu'il n'y a aucun livre salué par les lecteurs de Livraddict, seulement certains ayant obtenus un prix, et en pourcentage à peu près autant que les bestsellers ( et non pas les superbestsellers fnac). En effet, à peu près 7% des livres de la base des bibliothèques de Paris ont été salués par la critique. Cela s'explique sûrement par la surreprésentation dans cette base de mangas ou de tomes de bandes dessinée, sûrement empruntés par un public jeune, et moins salués par les prix littéraire. On pourrait donc comparer en enlevant toutes les données dont le genre est la bande dessinée ou l'album ( en ne gardant que les \"purs livres\", et plus précisément que les \"Livres adultes\").\n",
    "</div>"
   ]
  },
  {
   "cell_type": "code",
   "execution_count": 107,
   "metadata": {},
   "outputs": [],
   "source": [
    "new_final_bibli = final_bibli[final_bibli['type_de_document'].isin([\"Livre adulte\", \"Bande dessinée adulte\"])]"
   ]
  },
  {
   "cell_type": "code",
   "execution_count": 108,
   "metadata": {},
   "outputs": [
    {
     "name": "stdout",
     "output_type": "stream",
     "text": [
      "Nombre de livres en 2023 parmi les plus empruntés dans les bibliothèques de Paris ayant obtenu un prix ou des bonnes notes d'internautes:\n",
      "Reconnu_par\n",
      "Aucun       40\n",
      "Critique     6\n",
      "Name: count, dtype: int64\n",
      "\n",
      "Proportion de livres en 2023 parmi les plus empruntés dans les bibliothèques de Paris ayant obtenu un prix ou des bonnes notes d'internautes (%):\n",
      "Reconnu_par\n",
      "Aucun       86.956522\n",
      "Critique    13.043478\n",
      "Name: proportion, dtype: float64\n"
     ]
    }
   ],
   "source": [
    "reconnus = new_final_bibli['Reconnu_par'].value_counts()\n",
    "reconnus_proportions = new_final_bibli['Reconnu_par'].value_counts(normalize=True) * 100\n",
    "\n",
    "print(\"Nombre de livres en 2023 parmi les plus empruntés dans les bibliothèques de Paris ayant obtenu un prix ou des bonnes notes d'internautes:\")\n",
    "print(reconnus)\n",
    "print(\"\\nProportion de livres en 2023 parmi les plus empruntés dans les bibliothèques de Paris ayant obtenu un prix ou des bonnes notes d'internautes (%):\")\n",
    "print(reconnus_proportions)"
   ]
  },
  {
   "cell_type": "markdown",
   "metadata": {},
   "source": [
    "<div style=\"\n",
    "    font-family: 'Time', serif; \n",
    "    font-size: 1.2em; \n",
    "    line-height: 1.6; \n",
    "    padding: 15px; \n",
    "    background-color:rgb(224, 253, 253); \n",
    "    border-radius: 5px;\n",
    "    margin-left: 20px;\n",
    "    margin-right: 20px;\n",
    "    color: #333;\n",
    "    max-width: 900px;\n",
    "    text-align: justify;\n",
    "\">\n",
    "    En prenant que les types de livres pouvant techniquement être primés, on trouve donc un pourcentage proche de celui des \"super bestsellers\" de la Fnac. La différence était donc peut-être liée seulement à la surreprésentation d'un public plus jeune.\n",
    "</div>"
   ]
  },
  {
   "cell_type": "markdown",
   "metadata": {},
   "source": [
    "<div style=\"\n",
    "    font-family: 'Arial', sans-serif; \n",
    "    line-height: 1.6; \n",
    "    color: #333; \n",
    "    border-left: 4px solid #007bff; \n",
    "    padding: 10px 15px; \n",
    "    background-color: #eef5ff; \n",
    "    border-radius: 5px;\n",
    "\">\n",
    "    <p>Ayant un classement de la popularité des ouvrages, on se demande tout de même si la place dans le classement joue sur le fait d'avoir obtenu un prix. Pour cela, nous créons une nouvelle variable de classement pour avoir un classement sans trous malgré le fait qu'on ait conservé que les catégories \"adulte\". </p>\n",
    "</div>"
   ]
  },
  {
   "cell_type": "code",
   "execution_count": 109,
   "metadata": {},
   "outputs": [],
   "source": [
    "new_final_bibli = new_final_bibli.sort_values(by=\"Classement_bibliothèque\")\n",
    "new_final_bibli = new_final_bibli.reset_index(drop=True)"
   ]
  },
  {
   "cell_type": "code",
   "execution_count": 110,
   "metadata": {},
   "outputs": [],
   "source": [
    "new_final_bibli['new_classement_bibliotheque'] = None  # Initialiser avec None\n",
    "\n",
    "# Remplir `classement` uniquement jusqu'à l'index 85\n",
    "max_index = 85  # Exemple d'index limite\n",
    "new_final_bibli.loc[new_final_bibli.index <= max_index, 'new_classement_bibliotheque'] = range(1, min(len(new_final_bibli), max_index + 1) + 1)"
   ]
  },
  {
   "cell_type": "markdown",
   "metadata": {},
   "source": [
    "<div style=\"\n",
    "    font-family: 'Arial', sans-serif; \n",
    "    line-height: 1.6; \n",
    "    color: #333; \n",
    "    border-left: 4px solid #007bff; \n",
    "    padding: 10px 15px; \n",
    "    background-color: #eef5ff; \n",
    "    border-radius: 5px;\n",
    "\">\n",
    "    <p>On crée une fonction permettant d'associer à une variable Critique la valeur 1 si le livre est primé et 0 s'il ne l'est pas. </p>\n",
    "</div>"
   ]
  },
  {
   "cell_type": "code",
   "execution_count": 111,
   "metadata": {},
   "outputs": [],
   "source": [
    "def critique(row):\n",
    "    if row['prix_19_23'] == 1:\n",
    "        prime = 1\n",
    "    elif row['prix_19_23'] == 0:\n",
    "        prime = 0\n",
    "    else:\n",
    "        prime = -1 # on ajoute cette valeur pour les éventuelles incohérences\n",
    "    return prime"
   ]
  },
  {
   "cell_type": "code",
   "execution_count": 112,
   "metadata": {},
   "outputs": [],
   "source": [
    "new_final_bibli.loc[:, 'Primé'] = new_final_bibli.apply(critique, axis=1)"
   ]
  },
  {
   "cell_type": "markdown",
   "metadata": {},
   "source": [
    "<div style=\"\n",
    "    font-family: 'Arial', sans-serif; \n",
    "    line-height: 1.6; \n",
    "    color: #333; \n",
    "    border-left: 4px solid #007bff; \n",
    "    padding: 10px 15px; \n",
    "    background-color: #eef5ff; \n",
    "    border-radius: 5px;\n",
    "\">\n",
    "    <p>Maintenant, représentons tout cela par un graphique pour y voir plus clair. </p>\n",
    "</div>"
   ]
  },
  {
   "cell_type": "code",
   "execution_count": 113,
   "metadata": {},
   "outputs": [
    {
     "data": {
      "image/png": "[encoded data removed]",
      "text/plain": [
       "<Figure size 800x500 with 1 Axes>"
      ]
     },
     "metadata": {},
     "output_type": "display_data"
    }
   ],
   "source": [
    "plt.figure(figsize=(8, 5))\n",
    "plt.bar(new_final_bibli['new_classement_bibliotheque'], new_final_bibli['Primé'], color='skyblue')\n",
    "plt.xlabel('Classement', fontsize=12)\n",
    "plt.ylabel('Prix littéraire', fontsize=12)\n",
    "plt.title('Les livres les plus empruntés ayant reçu un prix littéraire selon leur classement', fontsize=14)\n",
    "plt.xticks(fontsize=10)\n",
    "plt.yticks(fontsize=10)\n",
    "\n",
    "# On ajoute une note de lecture\n",
    "note = (\"Note de lecture : L'axe des abscisses représente les classements des livres les plus empruntés \"\n",
    "        \"(les rangs les plus bas indiquent une meilleure performance). L'axe des ordonnées montre si un livre \"\n",
    "        \"a reçu un prix littéraire (1 pour primé, 0 pour non primé). Dans le top 20 des livres les plus empruntés, \"\n",
    "        \"seul un seul était primé.\")\n",
    "plt.figtext(0.5, -0.1, note, wrap=True, horizontalalignment='center', fontsize=10)\n",
    "\n",
    "plt.tight_layout()  # Ajuste les marges pour inclure la note\n",
    "\n",
    "plt.show()\n"
   ]
  },
  {
   "cell_type": "markdown",
   "metadata": {},
   "source": [
    "<div style=\"\n",
    "    font-family: 'Time', serif; \n",
    "    font-size: 1.2em; \n",
    "    line-height: 1.6; \n",
    "    padding: 15px; \n",
    "    background-color:rgb(224, 253, 253); \n",
    "    border-radius: 5px;\n",
    "    margin-left: 20px;\n",
    "    margin-right: 20px;\n",
    "    color: #333;\n",
    "    max-width: 900px;\n",
    "    text-align: justify;\n",
    "\">\n",
    "    On observe que les livres ayant reçu un prix littéraire sont rares et leur présence semble se concentrer à des positions spécifiques dans le classement, mais ils ne dominent pas l'ensemble des premiers rangs.\n",
    "</div>"
   ]
  },
  {
   "cell_type": "markdown",
   "metadata": {},
   "source": [
    "<div style=\"\n",
    "    font-family: 'Arial', sans-serif; \n",
    "    line-height: 1.6; \n",
    "    color: #333; \n",
    "    border-left: 4px solid #007bff; \n",
    "    padding: 10px 15px; \n",
    "    background-color: #eef5ff; \n",
    "    border-radius: 5px;\n",
    "\">\n",
    "    <p>On fait également un Boxplot pour avoir une vision plus globale. </p>\n",
    "</div>"
   ]
  },
  {
   "cell_type": "code",
   "execution_count": 114,
   "metadata": {},
   "outputs": [
    {
     "data": {
      "image/png": "[encoded data removed]",
      "text/plain": [
       "<Figure size 800x500 with 1 Axes>"
      ]
     },
     "metadata": {},
     "output_type": "display_data"
    }
   ],
   "source": [
    "import seaborn as sns\n",
    "\n",
    "plt.figure(figsize=(8, 5))\n",
    "sns.boxplot(x='Primé', y='new_classement_bibliotheque', data=new_final_bibli, hue='Primé', palette='pastel')\n",
    "plt.xlabel('Prix littéraire (1=oui, 0=non)', fontsize=12)\n",
    "plt.ylabel('Classement', fontsize=12)\n",
    "plt.title('Distribution des classements selon la réception d\\'un prix littéraire', fontsize=14)\n",
    "plt.show()"
   ]
  },
  {
   "cell_type": "markdown",
   "metadata": {},
   "source": [
    "<div style=\"\n",
    "    font-family: 'Time', serif; \n",
    "    font-size: 1.2em; \n",
    "    line-height: 1.6; \n",
    "    padding: 15px; \n",
    "    background-color:rgb(224, 253, 253); \n",
    "    border-radius: 5px;\n",
    "    margin-left: 20px;\n",
    "    margin-right: 20px;\n",
    "    color: #333;\n",
    "    max-width: 900px;\n",
    "    text-align: justify;\n",
    "\">\n",
    "    Le boxplot montre que les livres ayant reçu un prix littéraire (1) tendent à occuper de moins bons classements (médiane plus élevée, vers 30), tandis que les livres non primés (0) sont concentrés sur de meilleurs classements (médiane autour de 20). Cela suggère que les livres primés ne se retrouvent pas systématiquement parmi les mieux classés en termes de popularité.\n",
    "\n",
    "\n",
    "Ainsi, parmi les livres les plus empruntés, les plus populaires n'ont pas du tout en moyenne plus reçus un prix que ceux un peu moins populaire, bien au contraire.\n",
    "Toutefois, on peut se demande si cela un lien avec la sur-représentation des bandes dessinées dans la base ( se lisant vite donc s'empruntant plus régulièrement) et la sous-représentation de ces dernières au sein des prix littéraires du fait de leur plus récente institutionnalisation. De ce fait, créons deux bases séparées pour ces deux genres et regardons s'il y a des différences.\n",
    "</div>"
   ]
  },
  {
   "cell_type": "code",
   "execution_count": 115,
   "metadata": {},
   "outputs": [],
   "source": [
    "livres_bibli = new_final_bibli[new_final_bibli['type_de_document'] == \"Livre adulte\"]\n",
    "bd_bibli = new_final_bibli[new_final_bibli['type_de_document']== \"Bande dessinée adulte\"]"
   ]
  },
  {
   "cell_type": "code",
   "execution_count": 116,
   "metadata": {},
   "outputs": [],
   "source": [
    "livres_bibli = livres_bibli.sort_values(by=\"Classement_bibliothèque\")\n",
    "livres_bibli = livres_bibli.reset_index(drop=True)\n",
    "bd_bibli = bd_bibli.sort_values(by=\"Classement_bibliothèque\")\n",
    "bd_bibli = bd_bibli.reset_index(drop=True)"
   ]
  },
  {
   "cell_type": "code",
   "execution_count": 117,
   "metadata": {},
   "outputs": [],
   "source": [
    "livres_bibli['classement_livres'] = None  # Initialiser avec None\n",
    "bd_bibli['classement_livres'] = None\n",
    "\n",
    "# Remplir `classement` uniquement jusqu'à l'index 85\n",
    "max_index = 85  # Exemple d'index limite\n",
    "livres_bibli.loc[livres_bibli.index <= len(livres_bibli), 'classement_livres'] = range(1, len(livres_bibli)+1)\n",
    "bd_bibli.loc[bd_bibli.index <= len(bd_bibli), 'classement_livres'] = range(1, len(bd_bibli)+1)"
   ]
  },
  {
   "cell_type": "code",
   "execution_count": 118,
   "metadata": {},
   "outputs": [
    {
     "data": {
      "image/png": "[encoded data removed]",
      "text/plain": [
       "<Figure size 800x500 with 1 Axes>"
      ]
     },
     "metadata": {},
     "output_type": "display_data"
    },
    {
     "data": {
      "image/png": "[encoded data removed]",
      "text/plain": [
       "<Figure size 800x500 with 1 Axes>"
      ]
     },
     "metadata": {},
     "output_type": "display_data"
    }
   ],
   "source": [
    "plt.figure(figsize=(8, 5))\n",
    "plt.bar(livres_bibli['classement_livres'], livres_bibli['Primé'], color='skyblue')\n",
    "plt.xlabel('Classement', fontsize=12)\n",
    "plt.ylabel('Prix littéraire', fontsize=12)\n",
    "plt.title('Les livres les plus empruntés ayant reçu un prix littéraire selon leur classement (Hors BD)', fontsize=14)\n",
    "plt.xticks(fontsize=10)\n",
    "plt.yticks(fontsize=10)\n",
    "\n",
    "# Ajouter une note de lecture \n",
    "note = (\"Note de lecture : Parmi les 20 livres les plus empruntés (hors BD) 3 ont obtenus un prix littéraire\")\n",
    "plt.figtext(0.5, -0.1, note, wrap=True, horizontalalignment='center', fontsize=10)\n",
    "\n",
    "plt.tight_layout()  # Ajuste les marges pour inclure la note\n",
    "\n",
    "plt.show()\n",
    "\n",
    "plt.figure(figsize=(8, 5))\n",
    "plt.bar(bd_bibli['classement_livres'], bd_bibli['Primé'], color='skyblue')\n",
    "plt.xlabel('Classement', fontsize=12)\n",
    "plt.ylabel('Prix littéraire', fontsize=12)\n",
    "plt.title('Les bandes dessinées les plus empruntés ayant reçu un prix littéraire selon leur classement', fontsize=14)\n",
    "plt.xticks(fontsize=10)\n",
    "plt.yticks(fontsize=10)\n",
    "\n",
    "# Ajouter une note de lecture \n",
    "note = (\"Note de lecture : 1 seule BD a reçu un prix littéraire parmis les BD les plus empruntées\")\n",
    "plt.figtext(0.5, -0.1, note, wrap=True, horizontalalignment='center', fontsize=10)\n",
    "\n",
    "plt.tight_layout()  # Ajuste les marges pour inclure la note\n",
    "\n",
    "plt.show()"
   ]
  },
  {
   "cell_type": "markdown",
   "metadata": {},
   "source": [
    "<div style=\"\n",
    "    font-family: 'Time', serif; \n",
    "    font-size: 1.2em; \n",
    "    line-height: 1.6; \n",
    "    padding: 15px; \n",
    "    background-color:rgb(224, 253, 253); \n",
    "    border-radius: 5px;\n",
    "    margin-left: 20px;\n",
    "    margin-right: 20px;\n",
    "    color: #333;\n",
    "    max-width: 900px;\n",
    "    text-align: justify;\n",
    "\">\n",
    "    In fine, on voit que le classement plus détaillé n'est pas déterminant sur le fait d'avoir reçu ou non un prix littéraire.\n",
    "</div>"
   ]
  },
  {
   "cell_type": "code",
   "execution_count": 119,
   "metadata": {},
   "outputs": [
    {
     "data": {
      "image/png": "[encoded data removed]",
      "text/plain": [
       "<Figure size 800x500 with 1 Axes>"
      ]
     },
     "metadata": {},
     "output_type": "display_data"
    }
   ],
   "source": [
    "import seaborn as sns\n",
    "import matplotlib.pyplot as plt\n",
    "\n",
    "plt.figure(figsize=(8, 5))\n",
    "sns.boxplot(x='Primé', y='classement_livres', data=livres_bibli, hue='Primé', palette='pastel', dodge=False)\n",
    "plt.xlabel('Prix littéraire (0=non, 1=oui)', fontsize=12)\n",
    "plt.ylabel('Classement', fontsize=12)\n",
    "plt.title('Distribution des classements des livres selon la réception d\\'un prix littéraire (Hors BD)', fontsize=14)\n",
    "plt.xticks(fontsize=10)\n",
    "plt.yticks(fontsize=10)\n",
    "plt.show()"
   ]
  },
  {
   "cell_type": "markdown",
   "metadata": {},
   "source": [
    "<div style=\"\n",
    "    font-family: 'Time', serif; \n",
    "    font-size: 1.2em; \n",
    "    line-height: 1.6; \n",
    "    padding: 15px; \n",
    "    background-color:rgb(224, 253, 253); \n",
    "    border-radius: 5px;\n",
    "    margin-left: 20px;\n",
    "    margin-right: 20px;\n",
    "    color: #333;\n",
    "    max-width: 900px;\n",
    "    text-align: justify;\n",
    "\">\n",
    "    Néanmoins en regardant le boxplot on note qu'en enlevant les Bandes dessinées la médiane des classements entre primés et non primés se resserre.\n",
    "</div> "
   ]
  },
  {
   "cell_type": "markdown",
   "metadata": {},
   "source": [
    "### Les livres les plus populaires sur Babelio et leur reconnaissance institutionnelle:"
   ]
  },
  {
   "cell_type": "code",
   "execution_count": 120,
   "metadata": {},
   "outputs": [],
   "source": [
    "babelio = final_data[final_data['top_babelio']==1]"
   ]
  },
  {
   "cell_type": "code",
   "execution_count": 121,
   "metadata": {},
   "outputs": [],
   "source": [
    "babelio.loc[:, 'Reconnu_par'] = babelio.apply(reconnu_bis, axis=1)"
   ]
  },
  {
   "cell_type": "code",
   "execution_count": 122,
   "metadata": {},
   "outputs": [
    {
     "name": "stdout",
     "output_type": "stream",
     "text": [
      "Nombre de livres en 2023 parmi les plus lus parles utilisateurs de Babelio ayant obtenu un prix ou des bonnes notes d'internautes:\n",
      "Reconnu_par\n",
      "Aucun          18\n",
      "Critique        4\n",
      "Internautes     2\n",
      "Name: count, dtype: int64\n",
      "\n",
      "Proportion de livres en 2023 parmi les plus lus parles utilisateurs de Babelio ayant obtenu un prix ou des bonnes notes d'internautes (%):\n",
      "Reconnu_par\n",
      "Aucun          75.000000\n",
      "Critique       16.666667\n",
      "Internautes     8.333333\n",
      "Name: proportion, dtype: float64\n"
     ]
    }
   ],
   "source": [
    "reconnus = babelio['Reconnu_par'].value_counts()\n",
    "reconnus_proportions = babelio['Reconnu_par'].value_counts(normalize=True) * 100\n",
    "\n",
    "print(\"Nombre de livres en 2023 parmi les plus lus parles utilisateurs de Babelio ayant obtenu un prix ou des bonnes notes d'internautes:\")\n",
    "print(reconnus)\n",
    "print(\"\\nProportion de livres en 2023 parmi les plus lus parles utilisateurs de Babelio ayant obtenu un prix ou des bonnes notes d'internautes (%):\")\n",
    "print(reconnus_proportions)"
   ]
  },
  {
   "cell_type": "markdown",
   "metadata": {},
   "source": [
    "<div style=\"\n",
    "    font-family: 'Time', serif; \n",
    "    font-size: 1.2em; \n",
    "    line-height: 1.6; \n",
    "    padding: 15px; \n",
    "    background-color:rgb(224, 253, 253); \n",
    "    border-radius: 5px;\n",
    "    margin-left: 20px;\n",
    "    margin-right: 20px;\n",
    "    color: #333;\n",
    "    max-width: 900px;\n",
    "    text-align: justify;\n",
    "\">\n",
    "    A peu près 17% des livres du top de Babelio sont reconnus de qualité par la critique littéraire et 8% par les internautes de Livraddict. C'est bien plus qu'à la fois les bases des bibliothèques de Paris et la base des bestsellers fnac. On pourrait penser que cela est notamment dû à la taille de l'échantillon très restreint de cette base ( il n'y a que les 23 livres les plus lus). Toutefois, on a bien vu précédemment qu'en prenant seulement les 23 ouvrages les mieux classés dans la base des livres les plus empruntés en bibliothèque, la proportion de livres salués par la critique est encore plus faible que dans l'ensemble de la base. \n",
    "\n",
    "Ainsi, on peut en conclure:\n",
    "- soit que le fait d'avoir un top plus élargi ne ferait que augmenter la proportion de livres salués par la critiques, puisqu'il n'y a pas de raisons qu'ils soient davantage présent parmi les 23 livres les plus lus sur Babelio que parmi les 100 livres les plus lus sur Babelio\n",
    "\n",
    "- soit que le fait d'avoir seulement les 23 livres les plus lus joue sur cette proportion de livres salués par la critique, contrairement à dans la base des livres de bibliothèques. Toutefois, cela implique donc aussi que le classement de popularité est beaucoup plus corrélé avec le classement de qualité.\n",
    "</div> "
   ]
  },
  {
   "cell_type": "markdown",
   "metadata": {},
   "source": [
    "<div style=\"\n",
    "    font-family: 'Arial', sans-serif; \n",
    "    line-height: 1.6; \n",
    "    color: #333; \n",
    "    border-left: 4px solid #007bff; \n",
    "    padding: 10px 15px; \n",
    "    background-color: #eef5ff; \n",
    "    border-radius: 5px;\n",
    "\">\n",
    "    <p>Vérifions notre deuxième hypothèse et regardons quels sont les livres primés ou bien notés par les internautes. Pour différencier ces deux types de prestige, nous allons faire deux graphiques différents. </p>\n",
    "</div>"
   ]
  },
  {
   "cell_type": "code",
   "execution_count": 123,
   "metadata": {},
   "outputs": [
    {
     "data": {
      "image/png": "[encoded data removed]",
      "text/plain": [
       "<Figure size 800x500 with 1 Axes>"
      ]
     },
     "metadata": {},
     "output_type": "display_data"
    },
    {
     "data": {
      "image/png": "[encoded data removed]",
      "text/plain": [
       "<Figure size 800x500 with 1 Axes>"
      ]
     },
     "metadata": {},
     "output_type": "display_data"
    }
   ],
   "source": [
    "plt.figure(figsize=(8, 5))\n",
    "plt.bar(babelio['classement_babelio'], babelio['prix_19_23'], color='skyblue')\n",
    "plt.xlabel('Classement', fontsize=12)\n",
    "plt.ylabel('Prix littéraire', fontsize=12)\n",
    "plt.title('Les livres les plus populaires sur Babelio ayant reçu un prix littéraire selon leur classement', fontsize=14)\n",
    "plt.xticks(fontsize=10)\n",
    "plt.yticks(fontsize=10)\n",
    "\n",
    "note = (\"Note de lecture : Le 2ème, 13ème et 22ème livre du classement Babelio ont reçu un prix litteraire \")\n",
    "plt.figtext(0.5, -0.1, note, wrap=True, horizontalalignment='center', fontsize=10)\n",
    "\n",
    "plt.tight_layout()  \n",
    "\n",
    "plt.show()\n",
    "\n",
    "plt.figure(figsize=(8, 5))\n",
    "plt.bar(babelio['classement_babelio'], babelio['top_livraddict'], color='skyblue')\n",
    "plt.xlabel('Classement', fontsize=12)\n",
    "plt.ylabel('Prix littéraire', fontsize=12)\n",
    "plt.title('Les livres les plus populaires sur Babelio étant aussi parmi les mieux notés sur Livraddict', fontsize=14)\n",
    "plt.xticks(fontsize=10)\n",
    "plt.yticks(fontsize=10)\n",
    "\n",
    "note = (\"Note de lecture : Le 5ème et 8ème livre du classement Babelio ont reçu un prix livraddict \")\n",
    "plt.figtext(0.5, -0.1, note, wrap=True, horizontalalignment='center', fontsize=10)\n",
    "\n",
    "plt.tight_layout() \n",
    "\n",
    "plt.show()"
   ]
  },
  {
   "cell_type": "markdown",
   "metadata": {},
   "source": [
    "<div style=\"\n",
    "    font-family: 'Arial', sans-serif; \n",
    "    text-align: center; \n",
    "    padding: 10px; \n",
    "    background-color:rgb(210, 199, 255); \n",
    "    color: black; \n",
    "    border-radius: 5px; \n",
    "    font-size: 1.5em;\n",
    "\">\n",
    "    <strong> STATISTIQUES YOUTUBE </strong>\n",
    "</div>"
   ]
  },
  {
   "cell_type": "markdown",
   "metadata": {},
   "source": [
    "<div style=\"\n",
    "    font-family: 'Arial', sans-serif; \n",
    "    line-height: 1.6; \n",
    "    color: #333; \n",
    "    border-left: 4px solid #007bff; \n",
    "    padding: 10px 15px; \n",
    "    background-color: #eef5ff; \n",
    "    border-radius: 5px;\n",
    "\">\n",
    "    <p>Nous allons maintenant étudier les données liées à l'API youtube .</p>\n",
    "</div>\n"
   ]
  },
  {
   "cell_type": "code",
   "execution_count": 124,
   "metadata": {},
   "outputs": [],
   "source": [
    "#on charge les données\n",
    "final_data_ytb = pd.read_csv(\"Base_finale_with_youtube.csv\")"
   ]
  },
  {
   "cell_type": "markdown",
   "metadata": {},
   "source": [
    "<div style=\"\n",
    "    font-family: 'Arial', sans-serif; \n",
    "    line-height: 1.6; \n",
    "    color: #333; \n",
    "    border-left: 4px solid #007bff; \n",
    "    padding: 10px 15px; \n",
    "    background-color: #eef5ff; \n",
    "    border-radius: 5px;\n",
    "\">\n",
    "    <p> On regarde d'abord la proportion globale des livres mentionnés sur YouTube.</p>\n",
    "</div>"
   ]
  },
  {
   "cell_type": "code",
   "execution_count": 125,
   "metadata": {},
   "outputs": [
    {
     "name": "stdout",
     "output_type": "stream",
     "text": [
      "Proportion de livres mentionnés sur YouTube : 12.02%\n",
      "Moyenne des occurrences sur YouTube : 1.22\n"
     ]
    }
   ],
   "source": [
    "prop_in_youtube = final_data_ytb['in_youtube'].mean() * 100\n",
    "mean_nb_youtube = final_data_ytb['nb_youtube'].mean()\n",
    "\n",
    "print(f\"Proportion de livres mentionnés sur YouTube : {prop_in_youtube:.2f}%\")\n",
    "print(f\"Moyenne des occurrences sur YouTube : {mean_nb_youtube:.2f}\")"
   ]
  },
  {
   "cell_type": "markdown",
   "metadata": {},
   "source": [
    "<div style=\"\n",
    "    font-family: 'Time', serif; \n",
    "    font-size: 1.2em; \n",
    "    line-height: 1.6; \n",
    "    padding: 15px; \n",
    "    background-color:rgb(224, 253, 253); \n",
    "    border-radius: 5px;\n",
    "    margin-left: 20px;\n",
    "    margin-right: 20px;\n",
    "    color: #333;\n",
    "    max-width: 900px;\n",
    "    text-align: justify;\n",
    "\">\n",
    "    Environ 12% des livres de notre base sont mentionné sur YouTube et en moyenne ils ne le sont qu'une fois.\n",
    "</div> "
   ]
  },
  {
   "cell_type": "markdown",
   "metadata": {},
   "source": [
    "<div style=\"\n",
    "    font-family: 'Arial', sans-serif; \n",
    "    line-height: 1.6; \n",
    "    color: #333; \n",
    "    border-left: 4px solid #007bff; \n",
    "    padding: 10px 15px; \n",
    "    background-color: #eef5ff; \n",
    "    border-radius: 5px;\n",
    "\">\n",
    "    <p> On regarde parmi les livres primés quels sont leur présence sur Youtube.</p>\n",
    "</div>"
   ]
  },
  {
   "cell_type": "code",
   "execution_count": 126,
   "metadata": {},
   "outputs": [
    {
     "name": "stdout",
     "output_type": "stream",
     "text": [
      "Proportion de livres primés mentionnés sur YouTube : 15.89%\n",
      "Moyenne des occurrences sur YouTube pour les livres primés : 1.65\n"
     ]
    }
   ],
   "source": [
    "primed_books = final_data_ytb[final_data_ytb['prix_19_23'] == 1]\n",
    "prop_primed_on_youtube = primed_books['in_youtube'].mean() * 100\n",
    "mean_nb_youtube_primed = primed_books['nb_youtube'].mean()\n",
    "\n",
    "print(f\"Proportion de livres primés mentionnés sur YouTube : {prop_primed_on_youtube:.2f}%\")\n",
    "print(f\"Moyenne des occurrences sur YouTube pour les livres primés : {mean_nb_youtube_primed:.2f}\")\n"
   ]
  },
  {
   "cell_type": "code",
   "execution_count": 139,
   "metadata": {},
   "outputs": [
    {
     "data": {
      "image/png": "[encoded data removed]",
      "text/plain": [
       "<Figure size 800x500 with 1 Axes>"
      ]
     },
     "metadata": {},
     "output_type": "display_data"
    }
   ],
   "source": [
    "plt.figure(figsize=(8, 5))\n",
    "sns.boxplot(x='prix_19_23', y='nb_youtube', data=final_data_ytb, hue='prix_19_23', palette='pastel', dodge=False, legend=False)\n",
    "plt.xlabel('Livres primés (0=non, 1=oui)')\n",
    "plt.ylabel('Occurrences sur YouTube')\n",
    "plt.title('Distribution des occurrences YouTube pour les livres primés')\n",
    "plt.show()"
   ]
  },
  {
   "cell_type": "markdown",
   "metadata": {},
   "source": [
    "<div style=\"\n",
    "    font-family: 'Time', serif; \n",
    "    font-size: 1.2em; \n",
    "    line-height: 1.6; \n",
    "    padding: 15px; \n",
    "    background-color:rgb(224, 253, 253); \n",
    "    border-radius: 5px;\n",
    "    margin-left: 20px;\n",
    "    margin-right: 20px;\n",
    "    color: #333;\n",
    "    max-width: 900px;\n",
    "    text-align: justify;\n",
    "\">\n",
    "    On remarque que les livres primés semblent légèrement plus présents sur YouTube, avec une proportion et une moyenne d'occurence plus élevés. Néanmoins on peut nuancer ce résultat le nombre d'occurence moyen des livres primés est tiré vers le haut par des valeurs extrêmes.\n",
    "</div> "
   ]
  },
  {
   "cell_type": "markdown",
   "metadata": {},
   "source": [
    "<div style=\"\n",
    "    font-family: 'Arial', sans-serif; \n",
    "    line-height: 1.6; \n",
    "    color: #333; \n",
    "    border-left: 4px solid #007bff; \n",
    "    padding: 10px 15px; \n",
    "    background-color: #eef5ff; \n",
    "    border-radius: 5px;\n",
    "\">\n",
    "    <p> On regarde ensuite la proportion de livres dans chaque base et la moyenne d'occurence sur Youtube dans chaque base .</p>\n",
    "</div>"
   ]
  },
  {
   "cell_type": "code",
   "execution_count": 127,
   "metadata": {},
   "outputs": [
    {
     "name": "stdout",
     "output_type": "stream",
     "text": [
      "\n",
      "top_fnac_1:\n",
      "Proportion mentionnée sur YouTube : 8.70%\n",
      "Moyenne des occurrences sur YouTube : 0.32\n",
      "\n",
      "top_babelio:\n",
      "Proportion mentionnée sur YouTube : 16.67%\n",
      "Moyenne des occurrences sur YouTube : 0.75\n",
      "\n",
      "Top_bibliothèque:\n",
      "Proportion mentionnée sur YouTube : 11.63%\n",
      "Moyenne des occurrences sur YouTube : 1.35\n"
     ]
    }
   ],
   "source": [
    "tops = ['top_fnac_1', 'top_babelio', 'Top_bibliothèque']\n",
    "for top in tops:\n",
    "    top_books = final_data_ytb[final_data_ytb[top] == 1]\n",
    "    prop_top_on_youtube = top_books['in_youtube'].mean() * 100\n",
    "    mean_nb_youtube_top = top_books['nb_youtube'].mean()\n",
    "    print(f\"\\n{top}:\")\n",
    "    print(f\"Proportion mentionnée sur YouTube : {prop_top_on_youtube:.2f}%\")\n",
    "    print(f\"Moyenne des occurrences sur YouTube : {mean_nb_youtube_top:.2f}\")"
   ]
  },
  {
   "cell_type": "markdown",
   "metadata": {},
   "source": [
    "<div style=\"\n",
    "    font-family: 'Time', serif; \n",
    "    font-size: 1.2em; \n",
    "    line-height: 1.6; \n",
    "    padding: 15px; \n",
    "    background-color:rgb(224, 253, 253); \n",
    "    border-radius: 5px;\n",
    "    margin-left: 20px;\n",
    "    margin-right: 20px;\n",
    "    color: #333;\n",
    "    max-width: 900px;\n",
    "    text-align: justify;\n",
    "\">\n",
    "    On que a proportion de livres du top_babelio mentionnée sur youtube est de presque 17% mais il s'agit également de notre plus petite base de données. En revanche la proportion du top_bibliothèque est assez élevée (12%) compte tenue de la taille de la base bibliothèque. Ces livres ont aussi une moyenne d'occurence plus élevée que les autres.\n",
    "</div> "
   ]
  },
  {
   "cell_type": "markdown",
   "metadata": {},
   "source": [
    "<div style=\"\n",
    "    font-family: 'Arial', sans-serif; \n",
    "    line-height: 1.6; \n",
    "    color: #333; \n",
    "    border-left: 4px solid #007bff; \n",
    "    padding: 10px 15px; \n",
    "    background-color: #eef5ff; \n",
    "    border-radius: 5px;\n",
    "\">\n",
    "    <p> Représentons cela sous forme de graphique.</p>\n",
    "</div>"
   ]
  },
  {
   "cell_type": "code",
   "execution_count": 143,
   "metadata": {},
   "outputs": [
    {
     "data": {
      "image/png": "[encoded data removed]",
      "text/plain": [
       "<Figure size 640x480 with 1 Axes>"
      ]
     },
     "metadata": {},
     "output_type": "display_data"
    }
   ],
   "source": [
    "proportions = [\n",
    "    final_data_ytb[final_data_ytb[top] == 1]['in_youtube'].mean() * 100 for top in tops\n",
    "]\n",
    "\n",
    "plt.bar(tops, proportions, color=['blue', 'orange', 'green'])\n",
    "plt.xlabel('Base de popularité')\n",
    "plt.ylabel('Proportion (%)')\n",
    "plt.title('Proportion de livres mentionnés sur YouTube par Top')\n",
    "\n",
    "plt.savefig(\"prop_ytb_par_Top.png\", format=\"png\", dpi=300, bbox_inches=\"tight\")\n",
    "\n",
    "\n",
    "plt.show()"
   ]
  },
  {
   "cell_type": "markdown",
   "metadata": {},
   "source": [
    "<div style=\"\n",
    "    font-family: 'Arial', sans-serif; \n",
    "    line-height: 1.6; \n",
    "    color: #333; \n",
    "    border-left: 4px solid #007bff; \n",
    "    padding: 10px 15px; \n",
    "    background-color: #eef5ff; \n",
    "    border-radius: 5px;\n",
    "\">\n",
    "    <p> On regarde enfin, de manière globale le proportion de livres populaires (c'est-à-dire présents dans les top fnac, babelio et bibliothèque) présents sur Youtube et le nombre d'occurence moyennes.</p>\n",
    "</div>"
   ]
  },
  {
   "cell_type": "code",
   "execution_count": 140,
   "metadata": {},
   "outputs": [
    {
     "name": "stdout",
     "output_type": "stream",
     "text": [
      "\n",
      "Proportion de livres populaires mentionnés sur YouTube : 9.70%\n",
      "Moyenne des occurrences sur YouTube pour les livres populaires : 0.84\n"
     ]
    }
   ],
   "source": [
    "popular_books = final_data_ytb[(final_data_ytb['top_fnac_1'] == 1) |\n",
    "                                     (final_data_ytb['top_babelio'] == 1) |\n",
    "                                     (final_data_ytb['Top_bibliothèque'] == 1)]\n",
    "\n",
    "prop_popular_on_youtube = popular_books['in_youtube'].mean() * 100\n",
    "mean_nb_youtube_popular = popular_books['nb_youtube'].mean()\n",
    "\n",
    "print(f\"\\nProportion de livres populaires mentionnés sur YouTube : {prop_popular_on_youtube:.2f}%\")\n",
    "print(f\"Moyenne des occurrences sur YouTube pour les livres populaires : {mean_nb_youtube_popular:.2f}\")\n"
   ]
  },
  {
   "cell_type": "markdown",
   "metadata": {},
   "source": [
    "<div style=\"\n",
    "    font-family: 'Arial', sans-serif; \n",
    "    text-align: center; \n",
    "    padding: 10px; \n",
    "    background-color:rgb(210, 199, 255); \n",
    "    color: black; \n",
    "    border-radius: 5px; \n",
    "    font-size: 1.5em;\n",
    "\">\n",
    "    <strong> PARENTHÈSE SUR LES AUTEURS </strong>\n",
    "</div>"
   ]
  },
  {
   "cell_type": "markdown",
   "metadata": {},
   "source": [
    "##"
   ]
  },
  {
   "cell_type": "code",
   "execution_count": null,
   "metadata": {},
   "outputs": [
    {
     "name": "stdout",
     "output_type": "stream",
     "text": [
      "Nombre d'auteurs différents : 446\n",
      "Nombre de livres par auteur :\n",
      "Auteur\n",
      "Oda,  Eiichiro         7\n",
      "Kishimoto,  Masashi    5\n",
      "Shirai,  Kaiu          4\n",
      "Sarah Rivens           3\n",
      "Amélie Nothomb         3\n",
      "                      ..\n",
      "Benoît Sagaro          1\n",
      "John Gwynne            1\n",
      "Joe Todd-Stanton       1\n",
      "Hugo Micheron          1\n",
      "Ellie Midwood          1\n",
      "Name: count, Length: 446, dtype: int64\n"
     ]
    },
    {
     "data": {
      "image/png": "[encoded data removed]",
      "text/plain": [
       "<Figure size 640x480 with 1 Axes>"
      ]
     },
     "metadata": {},
     "output_type": "display_data"
    }
   ],
   "source": [
    "\n",
    "# Nombre d'auteurs différents\n",
    "auteurs_distincts = final_data['Auteur'].nunique()\n",
    "print(f\"Nombre d'auteurs différents : {auteurs_distincts}\")\n",
    "\n",
    "#Fréquence des auteurs\n",
    "auteur_counts = final_data['Auteur'].value_counts()\n",
    "\n",
    "print(\"Nombre de livres par auteur :\")\n",
    "print(auteur_counts)\n",
    "\n",
    "auteur_counts.head(10).plot(kind='bar', title='Top 10 des auteurs par nombre de livres', ylabel='Nombre de livres', xlabel='Auteur')\n",
    "plt.show()"
   ]
  },
  {
   "cell_type": "markdown",
   "metadata": {},
   "source": [
    "<div style=\"\n",
    "    font-family: 'Time', serif; \n",
    "    font-size: 1.2em; \n",
    "    line-height: 1.6; \n",
    "    padding: 15px; \n",
    "    background-color:rgb(224, 253, 253); \n",
    "    border-radius: 5px;\n",
    "    margin-left: 20px;\n",
    "    margin-right: 20px;\n",
    "    color: #333;\n",
    "    max-width: 900px;\n",
    "    text-align: justify;\n",
    "\">\n",
    "    Les auteurs Oda Eiichiro, Kishimoto Masachi et Shirai Kaiu se démarquent avec plus 4 livres chacun. Notons qu'il s'agit de trois mangaka. La majorité des 446 auteurs n'ont écrit qu'un seul livre, illustrant une forte diversité mais une faible répétition dans les contributions des auteurs.\n",
    "</div> "
   ]
  },
  {
   "cell_type": "markdown",
   "metadata": {},
   "source": [
    "<div style=\"\n",
    "    font-family: 'Arial', sans-serif; \n",
    "    text-align: center; \n",
    "    padding: 10px; \n",
    "    background-color:rgb(210, 199, 255); \n",
    "    color: black; \n",
    "    border-radius: 5px; \n",
    "    font-size: 1.5em;\n",
    "\">\n",
    "    <strong>PARTIE 2: Modélisation - Usage de régressions linéaires</strong>\n",
    "</div>"
   ]
  },
  {
   "cell_type": "markdown",
   "metadata": {},
   "source": [
    "#"
   ]
  },
  {
   "cell_type": "markdown",
   "metadata": {},
   "source": [
    "Dans cette partie, nous allons essayer d'expliquer la popularité des livres en régressant sur le fait d'avoir été reconnu institutionnellement (d'avoir eu un prix ou d'être dans la top Livraddict) mais aussi selon si le livre est mentionné dans des vidéos Youtube et selon le nombre de mentions."
   ]
  },
  {
   "cell_type": "code",
   "execution_count": 54,
   "metadata": {},
   "outputs": [],
   "source": [
    "data_model = pd.read_csv(\"Base_finale.csv\")"
   ]
  },
  {
   "cell_type": "markdown",
   "metadata": {},
   "source": [
    "Dans cette partie, on va considérer, comme la base des prix et le top de Livraddict sont complémentaires et disjoints, qu'il y a une variable \"reconnaissance\" qui est égale à 1 si"
   ]
  }
 ],
 "metadata": {
  "kernelspec": {
   "display_name": "base",
   "language": "python",
   "name": "python3"
  },
  "language_info": {
   "codemirror_mode": {
    "name": "ipython",
    "version": 3
   },
   "file_extension": ".py",
   "mimetype": "text/x-python",
   "name": "python",
   "nbconvert_exporter": "python",
   "pygments_lexer": "ipython3",
   "version": "3.12.7"
  }
 },
 "nbformat": 4,
 "nbformat_minor": 2
}
