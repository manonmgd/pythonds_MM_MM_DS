{
 "cells": [
  {
   "cell_type": "markdown",
   "metadata": {},
   "source": [
    "Imports"
   ]
  },
  {
   "cell_type": "code",
   "execution_count": 4,
   "metadata": {},
   "outputs": [],
   "source": [
    "import pandas as pd\n",
    "import matplotlib.pyplot as plt"
   ]
  },
  {
   "cell_type": "markdown",
   "metadata": {},
   "source": [
    "Pour analyser les données, afin de ne pas être obligés à chaque ouverture de run tout le code, on utilise directement le fichier csv créé."
   ]
  },
  {
   "cell_type": "code",
   "execution_count": 6,
   "metadata": {},
   "outputs": [],
   "source": [
    "final_data = pd.read_csv(\"Base finale.csv\")"
   ]
  },
  {
   "cell_type": "markdown",
   "metadata": {},
   "source": [
    "Partie 1: Statistiques descriptives"
   ]
  },
  {
   "cell_type": "markdown",
   "metadata": {},
   "source": [
    "A) Analyse des prix littéraires"
   ]
  },
  {
   "cell_type": "code",
   "execution_count": 8,
   "metadata": {},
   "outputs": [
    {
     "name": "stdout",
     "output_type": "stream",
     "text": [
      "Nombre de livres ayant reçu un prix littéraire :\n",
      "prix_19_23\n",
      "1.0    258\n",
      "0.0    233\n",
      "Name: count, dtype: int64\n",
      "\n",
      "Proportion de livres ayant reçu un prix littéraire (%):\n",
      "prix_19_23\n",
      "1.0    52.545825\n",
      "0.0    47.454175\n",
      "Name: proportion, dtype: float64\n"
     ]
    }
   ],
   "source": [
    "prix_counts = final_data['prix_19_23'].value_counts()\n",
    "prix_proportions = final_data['prix_19_23'].value_counts(normalize=True) * 100\n",
    "\n",
    "print(\"Nombre de livres ayant reçu un prix littéraire :\")\n",
    "print(prix_counts)\n",
    "print(\"\\nProportion de livres ayant reçu un prix littéraire (%):\")\n",
    "print(prix_proportions)"
   ]
  },
  {
   "cell_type": "markdown",
   "metadata": {},
   "source": [
    "Parmi tous les livres de la base, étant les livres les plus lus, les mieux notés, et les plus récompensés, on peut être surpris que les livres récompensés ne représentent qu'à peu près la moitié des livres de la base, surtout que c'est de la base Wikipedia que l'on a récupéré le plus de livres.\n",
    "Il est encore plus intéressant de regarder combien de livres étant aussi dans une autre base que wikipedia ont eu un prix. "
   ]
  },
  {
   "cell_type": "code",
   "execution_count": 9,
   "metadata": {},
   "outputs": [],
   "source": [
    "# on modifie la table pour créer une fonction qui renvoie 1 si le livre est dans la table wikipedia (ie a un prix)\n",
    "# ET dans une autre table\n",
    "\n",
    "def wiki_plus(row):\n",
    "    if row['prix_19_23'] == 1 and ((row['top_fnac_1'] == 1) or (row['top_babelio'] == 1) or (row['top_livraddict'] == 1) or (row['Top bibliothèque'] == 1)):\n",
    "        plus_wiki = 1\n",
    "    else:\n",
    "        plus_wiki = 0\n",
    "    return plus_wiki"
   ]
  },
  {
   "cell_type": "code",
   "execution_count": 10,
   "metadata": {},
   "outputs": [],
   "source": [
    "final_data['Prix_et_plus'] = final_data.apply(wiki_plus, axis=1)"
   ]
  },
  {
   "cell_type": "code",
   "execution_count": null,
   "metadata": {},
   "outputs": [],
   "source": [
    "# Visualisation des prix littéraires\n",
    "prix_counts.plot(kind='bar', title='Livres avec ou sans prix littéraire', ylabel='Nombre de livres', xlabel='Prix littéraire (1=oui, 0=non)')\n",
    "plt.show()\n",
    "\n",
    "# ------------ Analyse des tops -------------\n",
    "print(\"\\n--- Analyse des tops ---\")\n",
    "\n",
    "# Comptage et proportions pour chaque top\n",
    "tops = ['top_fnac_1', 'top_fnac_2_plus', 'top_babelio', 'top_livraddict', 'any_top_indicator']\n",
    "for top in tops:\n",
    "    print(f\"\\nAnalyse pour {top}:\")\n",
    "    counts = final_data[top].value_counts()\n",
    "    proportions = final_data[top].value_counts(normalize=True) * 100\n",
    "    print(f\"Nombre de livres :\\n{counts}\")\n",
    "    print(f\"Proportions (%):\\n{proportions}\")\n",
    "\n",
    "\"\"\"\n",
    "Sur les 229 livres\n",
    "78 des livres sont dans au moins un top fnac du mois\n",
    "28 sont dans 2 top fnac ou plus (on eté plusieurs mois d'affilé dans le top fnac)\n",
    "25 sont dans le top babelio 2023\n",
    "85 sont dans le top livraddict 2023\n",
    "\n",
    "59 sont dans au moins un des top fnac, babelio ou livraddict\n",
    "\"\"\"\n",
    "\n",
    "# Visualisation\n",
    "title = \"nombre de livres par top\"\n",
    "counts.plot(kind='bar', title=f'Présence dans {top}', ylabel='Nombre de livres', xlabel=f'{top} (1=oui, 0=non)')\n",
    "plt.show()\n",
    "\n",
    "# ------------ Prix et présence dans les tops -------------\n",
    "\"\"\"\n",
    "on croise prix_19_20 avec any_top_indicator \n",
    "pour afficher la proportion de livres primés présents ou non dans les tops\n",
    "\"\"\"\n",
    "\n",
    "print(\"\\n--- Prix et présence dans les tops ---\")\n",
    "\n",
    "prix_et_any_top = pd.crosstab(final_data['prix_19_20'], final_data['any_top_indicator'], normalize='index') * 100\n",
    "\n",
    "print(\"Proportion de livres primés présents ou non dans les tops (%):\")\n",
    "print(prix_et_any_top)\n",
    "\n",
    "prix_et_any_top.plot(kind='bar', stacked=True, title='Prix littéraire et présence dans les tops', ylabel='Proportion (%)', xlabel='Prix littéraire (1=oui, 0=non)')\n",
    "plt.show()\n",
    "\n",
    "\"\"\"\n",
    "Parmi les livres primés (prix_19_20 = 1), seulement 7.81% sont \n",
    "présents dans un top, tandis que 92.19% ne figurent dans aucun top. \n",
    "Cela suggère que les livres primés ne sont pas nécessairement plus représentés \n",
    "dans les tops par rapport aux livres non primés.\n",
    "\"\"\"\n",
    "\n",
    "# ------------ Fréquence des auteurs -------------\n",
    "print(\"\\n--- Fréquence des auteurs ---\")\n",
    "\n",
    "auteur_counts = final_data['Auteur'].value_counts()\n",
    "\n",
    "print(\"Nombre de livres par auteur :\")\n",
    "print(auteur_counts)\n",
    "\n",
    "auteur_counts.head(10).plot(kind='bar', title='Top 10 des auteurs par nombre de livres', ylabel='Nombre de livres', xlabel='Auteur')\n",
    "plt.show()\n",
    "\n",
    "\"\"\"\n",
    "Les auteurs Sarah Rivens et Mr Tan se démarquent avec 4 livres chacun, \n",
    "suivis par Sibylle Grimbert et Neige Sinno avec 3 livres. Cependant, la majorité des 204 auteurs \n",
    "n'ont écrit qu'un seul livre, illustrant une forte diversité mais une faible répétition dans \n",
    "les contributions des auteurs.\n",
    "\"\"\"\n",
    "\n",
    "# ------------ Livres présents dans plusieurs tops -------------\n",
    "print(\"\\n--- Livres présents dans plusieurs tops ---\")\n",
    "tops_columns = ['top_fnac_1', 'top_babelio', 'top_livraddict']\n",
    "final_data['multiple_tops'] = (final_data[tops_columns].sum(axis=1) >= 2).astype(int)\n",
    "multiple_tops_counts = final_data['multiple_tops'].value_counts()\n",
    "multiple_tops_proportions = final_data['multiple_tops'].value_counts(normalize=True) * 100\n",
    "\n",
    "print(\"Nombre de livres présents dans au moins deux tops :\")\n",
    "print(multiple_tops_counts)\n",
    "print(\"\\nProportion de livres présents dans au moins deux tops (%):\")\n",
    "print(multiple_tops_proportions)\n",
    "\n",
    "multiple_tops_counts.plot(kind='bar', title='Livres présents dans au moins deux tops', ylabel='Nombre de livres', xlabel='Présence dans plusieurs tops (1=oui, 0=non)')\n",
    "plt.show()\n",
    "\n",
    "\"\"\"\n",
    "Seulement 17 livres (7,42%) sont présents dans au moins deux tops, \n",
    "tandis que la grande majorité (212 livres, 92,58%) n’apparaissent que \n",
    "dans un seul top ou aucun. Cela montre que peu de livres réussissent à \n",
    "se démarquer de manière significative dans plusieurs classements.\n",
    "\"\"\""
   ]
  }
 ],
 "metadata": {
  "kernelspec": {
   "display_name": "base",
   "language": "python",
   "name": "python3"
  },
  "language_info": {
   "codemirror_mode": {
    "name": "ipython",
    "version": 3
   },
   "file_extension": ".py",
   "mimetype": "text/x-python",
   "name": "python",
   "nbconvert_exporter": "python",
   "pygments_lexer": "ipython3",
   "version": "3.12.7"
  }
 },
 "nbformat": 4,
 "nbformat_minor": 2
}
