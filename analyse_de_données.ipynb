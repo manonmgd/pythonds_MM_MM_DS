{
 "cells": [
  {
   "cell_type": "markdown",
   "metadata": {},
   "source": [
    "Imports"
   ]
  },
  {
   "cell_type": "code",
   "execution_count": 4,
   "metadata": {},
   "outputs": [],
   "source": [
    "import pandas as pd\n",
    "import matplotlib.pyplot as plt"
   ]
  },
  {
   "cell_type": "markdown",
   "metadata": {},
   "source": [
    "Pour analyser les données, afin de ne pas être obligés à chaque ouverture de run tout le code, on utilise directement le fichier csv créé."
   ]
  },
  {
   "cell_type": "code",
   "execution_count": 30,
   "metadata": {},
   "outputs": [],
   "source": [
    "final_data = pd.read_csv(\"Base finale.csv\")"
   ]
  },
  {
   "cell_type": "markdown",
   "metadata": {},
   "source": [
    "Partie 1: Statistiques descriptives"
   ]
  },
  {
   "cell_type": "markdown",
   "metadata": {},
   "source": [
    "Avant de commencer cette partie, il nous parait pertinent de distinguer les tops fnac, babelio et des bibliothèques de Paris des données récupérées sur Livraddict et sur Wikipedia sur les prix littéraires. En effet, les trois premières bases mentionnées présentent les livres les plus populaires, c'est-à-dire les plus lus. Sur les bases Livraddict et Wikipedia, la liste de livres correspond aux livres jugés de meilleure qualité, que ce soit par les internautes ou par les spécialistes."
   ]
  },
  {
   "cell_type": "markdown",
   "metadata": {},
   "source": [
    "A) Analyse des prix littéraires\n",
    "\n",
    "Plusieurs questions se posent à nous. Les livres populaires sont-ils aussi les livres les mieux notés ? Cela varie-t-il selon les plateformes considérées ? C'est-à-dire est-ce que les livres populaires sont-ils mieux représentés dans les listes de prix littéraires ou dans les classements de qualité faits par les internautes ? "
   ]
  },
  {
   "cell_type": "markdown",
   "metadata": {},
   "source": [
    "Tout d'abord, déterminons le nombre de livres populaires qui sont aussi dans les bases des prix littéraires et du classement des utilisateurs de Livraddict."
   ]
  },
  {
   "cell_type": "code",
   "execution_count": 37,
   "metadata": {},
   "outputs": [],
   "source": [
    "# on modifie la table pour créer une fonction qui renvoie quel type d'entité a reconnu la qualité du livre populaire \n",
    "# selon s'il est sur la base des prix, celle Livraddict, ou les deux\n",
    "\n",
    "def reconnu(row):\n",
    "    if row['prix_19_23'] == 1 and ((row['top_fnac_1'] == 1) or (row['top_babelio'] == 1) or (row['Top bibliothèque'] == 1)) and (row['top_livraddict'] == 0):\n",
    "        reconnu = 'Critique'\n",
    "    elif row['prix_19_23'] == 0 and ((row['top_fnac_1'] == 1) or (row['top_babelio'] == 1) or (row['Top bibliothèque'] == 1)) and (row['top_livraddict'] == 1):\n",
    "        reconnu = 'Internautes'\n",
    "    elif (row['prix_19_23'] == 1) and (row['top_livraddict'] == 1) and ((row['top_fnac_1'] == 1) or (row['top_babelio'] == 1) or (row['Top bibliothèque'] == 1)):\n",
    "        reconnu = 'Critique et internautes'\n",
    "    else:\n",
    "        reconnu = 'Aucun'\n",
    "    return reconnu"
   ]
  },
  {
   "cell_type": "code",
   "execution_count": 38,
   "metadata": {},
   "outputs": [],
   "source": [
    "final_data['Reconnu par'] = final_data.apply(reconnu, axis=1)"
   ]
  },
  {
   "cell_type": "code",
   "execution_count": 39,
   "metadata": {},
   "outputs": [
    {
     "name": "stdout",
     "output_type": "stream",
     "text": [
      "Nombre de livres dont la qualité est reconnue institutionnellement et par qui:\n",
      "Reconnu par\n",
      "Aucun          474\n",
      "Critique        11\n",
      "Internautes      6\n",
      "Name: count, dtype: int64\n",
      "\n",
      "Proportion de livres dont la qualité est reconnue institutionnellement et par qui (%):\n",
      "Reconnu par\n",
      "Aucun          96.537678\n",
      "Critique        2.240326\n",
      "Internautes     1.221996\n",
      "Name: proportion, dtype: float64\n"
     ]
    }
   ],
   "source": [
    "prix_counts = final_data['Reconnu par'].value_counts()\n",
    "prix_proportions = final_data['Reconnu par'].value_counts(normalize=True) * 100\n",
    "\n",
    "print(\"Nombre de livres dont la qualité est reconnue institutionnellement et par qui:\")\n",
    "print(prix_counts)\n",
    "print(\"\\nProportion de livres dont la qualité est reconnue institutionnellement et par qui (%):\")\n",
    "print(prix_proportions)"
   ]
  },
  {
   "cell_type": "code",
   "execution_count": 34,
   "metadata": {},
   "outputs": [
    {
     "data": {
      "image/png": "[encoded data removed]",
      "text/plain": [
       "<Figure size 640x480 with 1 Axes>"
      ]
     },
     "metadata": {},
     "output_type": "display_data"
    }
   ],
   "source": [
    "# Visualisation des prix littéraires\n",
    "categories = [\"Aucun\", \"Critique\", \"Internautes\"]\n",
    "plt.barh(categories, prix_proportions, color=['blue', 'orange', 'green'])\n",
    "#plt.xscale('log')  # On applique l'échelle logarithmique pour que les petites valeurs soient mieux représentées\n",
    "\n",
    "plt.xlabel('Proportions en %')\n",
    "plt.title('Proportions de livres reconnus ou non institutionnellement')\n",
    "plt.show()"
   ]
  },
  {
   "cell_type": "markdown",
   "metadata": {},
   "source": [
    "On observe  une proportion très petite de livres reconnus institutionnellement parmi les plus populaires.\n",
    "\n",
    "On pourrait ainsi penser qu'il y a une dissociation entre les livres les plus lus et les mieux notés sur les applications et ceux ayant un prix. L'intersection est presque vide. On peut alors postuler d'une part que les livres de type best-sellers ne sont pas ceux qui sont primés ( les livres les plus primés illustrant le mécanisme de distinction théorisé par Bourdieu des élites). D'autre part, pour les autres bases, l'échantillon des lecteurs consignant les livres qu'ils ont lu et les notant dans les applications dédiées à cela n'est peut-être pas du tout représentatif. Ils pourraient par exemple venir majoritairement de milieux sociaux plutôt extérieurs à la culture légitime et donc du fait de cette caractéristique ne pas s'intéresser aux livres primés et avoir des critères de notation différents.\n",
    "\n",
    "Nous pensions que la deuxième hypothèse était probable, sauf qu'étonnamment, il y a encore moins de livres populaires parmi les mieux notés sur Livraddict. Sauf que cela est peut-être du au fait qu'il y a bien plus de livres renseignés comme ayant un prix sur Livraddict. De plus, il n'y avait de classement tel disponible sur Livraddict que pour 2023 alors que nous avons pu prendre tous les prix littéraires entre 2019 et 2023 lors du scrapping wikipedia. La comparaison de ces deux bases n'est donc peut-être pas pertinente."
   ]
  },
  {
   "cell_type": "markdown",
   "metadata": {},
   "source": [
    "Avant de passer à une étape ultérieure, observons quand même s'il y a une intersection entre les livres jugés de qualités sur Livraddict et ceux jugés de qualités par les professionnels octroyant les prix littéraires. Gardons néanmoins à l'esprit le fait que la base de Livraddict ne comporte que des livres publiés en 2023. Ainsi pour comparer les deux bases, ne conservons que les prix octroyés en 2023."
   ]
  },
  {
   "cell_type": "code",
   "execution_count": null,
   "metadata": {},
   "outputs": [],
   "source": [
    "# on crée une base avec que les livres reconnus pour voir l'intersection sans s'occuper du reste\n",
    "df_reconnus = final_data[((final_data['prix_19_23'] == 1) & (final_data['Année'] == 2023)) | (final_data['top_livraddict'] == 1)]"
   ]
  },
  {
   "cell_type": "code",
   "execution_count": null,
   "metadata": {},
   "outputs": [],
   "source": [
    "def reconnu_bis(row):\n",
    "    if row['prix_19_23'] == 1 and (row['top_livraddict'] == 0):\n",
    "        reconnu = 'Critique'\n",
    "    elif row['prix_19_23'] == 0 and (row['top_livraddict'] == 1):\n",
    "        reconnu = 'Internautes'\n",
    "    elif (row['prix_19_23'] == 1) and (row['top_livraddict'] == 1):\n",
    "        reconnu = 'Critique et internautes'\n",
    "    else:\n",
    "        reconnu = 'Aucun'\n",
    "    return reconnu"
   ]
  },
  {
   "cell_type": "code",
   "execution_count": 42,
   "metadata": {},
   "outputs": [],
   "source": [
    "df_reconnus.loc[:, 'Reconnu par'] = df_reconnus.apply(reconnu_bis, axis=1)"
   ]
  },
  {
   "cell_type": "code",
   "execution_count": null,
   "metadata": {},
   "outputs": [
    {
     "name": "stdout",
     "output_type": "stream",
     "text": [
      "Nombre de livres parmi les reconnus ayant obtenu un prix ou des bonnes notes d'internautes:\n",
      "Reconnu par\n",
      "Internautes    85\n",
      "Critique       53\n",
      "Name: count, dtype: int64\n",
      "\n",
      "Proportion de livres parmi les reconnus ayant obtenu un prix ou des bonnes notes d'internautes (%):\n",
      "Reconnu par\n",
      "Internautes    61.594203\n",
      "Critique       38.405797\n",
      "Name: proportion, dtype: float64\n"
     ]
    }
   ],
   "source": [
    "commun = df_reconnus['Reconnu par'].value_counts()\n",
    "commun_proportions = df_reconnus['Reconnu par'].value_counts(normalize=True) * 100\n",
    "\n",
    "print(\"Nombre de livres en 2023 parmi les reconnus ayant obtenu un prix ou des bonnes notes d'internautes:\")\n",
    "print(commun)\n",
    "print(\"\\nProportion de livres en 2023 parmi les reconnus ayant obtenu un prix ou des bonnes notes d'internautes (%):\")\n",
    "print(commun_proportions)"
   ]
  },
  {
   "cell_type": "markdown",
   "metadata": {},
   "source": [
    "En 2023, il n'y a pas d'intersection entre les livres les mieux notés sur Livraddict et ceux ayant obtenus un prix. Cette observation est très intéressante. On pourrait penser que les livres ne se voient pas forcément accordés un prix l'année de leur parution, sauf que pour de nombreux livres de la base Wikipedia, l'année de parution coincide avec l'année à laquelle le livre a reçu son ou ses prix.\n",
    "\n",
    "In fine, on peut surtout en conclure que nos bases sur la reconnaissance institutionnelle des livre sont complémentaires. Elles permettent d'explorer deux formes de reconnaissance, et d'élargir notre analyse sur le lien entre note des livres et popularité.\n",
    "\n",
    "Ainsi, par la suite, nous allons surtout analyser une par une les bases de popularité, et les comparer entre elles. "
   ]
  },
  {
   "cell_type": "markdown",
   "metadata": {},
   "source": [
    "Tout d'abord, visualisons de manière générale la base. Tout d'abord, il est utile de savoir combien de livres proviennent de quelles bases, de voir quelle base fournit le plus de livres populaires, afin de pouvoir mieux interpréter les données."
   ]
  },
  {
   "cell_type": "code",
   "execution_count": 51,
   "metadata": {},
   "outputs": [],
   "source": [
    "df_popularity = final_data[\n",
    "    (final_data['top_fnac_1'] == 1) | \n",
    "    (final_data['top_fnac_2_plus'] == 1) | \n",
    "    (final_data['top_babelio'] == 1) | \n",
    "    (final_data['Top bibliothèque'] == 1)\n",
    "]"
   ]
  },
  {
   "cell_type": "code",
   "execution_count": 53,
   "metadata": {},
   "outputs": [
    {
     "name": "stdout",
     "output_type": "stream",
     "text": [
      "\n",
      "Analyse pour top_fnac_1:\n",
      "Nombre de livres :\n",
      "top_fnac_1\n",
      "0.0    96\n",
      "1.0    69\n",
      "Name: count, dtype: int64\n",
      "Proportions (%):\n",
      "top_fnac_1\n",
      "0.0    58.181818\n",
      "1.0    41.818182\n",
      "Name: proportion, dtype: float64\n",
      "\n",
      "Analyse pour top_babelio:\n",
      "Nombre de livres :\n",
      "top_babelio\n",
      "0.0    141\n",
      "1.0     24\n",
      "Name: count, dtype: int64\n",
      "Proportions (%):\n",
      "top_babelio\n",
      "0.0    85.454545\n",
      "1.0    14.545455\n",
      "Name: proportion, dtype: float64\n",
      "\n",
      "Analyse pour Top bibliothèque:\n",
      "Nombre de livres :\n",
      "Top bibliothèque\n",
      "1.0    86\n",
      "0.0    79\n",
      "Name: count, dtype: int64\n",
      "Proportions (%):\n",
      "Top bibliothèque\n",
      "1.0    52.121212\n",
      "0.0    47.878788\n",
      "Name: proportion, dtype: float64\n"
     ]
    }
   ],
   "source": [
    "# Comptage et proportions pour chaque top\n",
    "tops = ['top_fnac_1', 'top_babelio', 'Top bibliothèque']\n",
    "for top in tops:\n",
    "    print(f\"\\nAnalyse pour {top}:\")\n",
    "    counts = df_popularity[top].value_counts()\n",
    "    proportions = df_popularity[top].value_counts(normalize=True) * 100\n",
    "    print(f\"Nombre de livres :\\n{counts}\")\n",
    "    print(f\"Proportions (%):\\n{proportions}\")"
   ]
  },
  {
   "cell_type": "code",
   "execution_count": 54,
   "metadata": {},
   "outputs": [
    {
     "data": {
      "image/png": "[encoded data removed]",
      "text/plain": [
       "<Figure size 640x480 with 1 Axes>"
      ]
     },
     "metadata": {},
     "output_type": "display_data"
    }
   ],
   "source": [
    "# Visualisation\n",
    "title = \"nombre de livres par top\"\n",
    "counts.plot(kind='bar', title=f'Présence dans {top}', ylabel='Nombre de livres', xlabel=f'{top} (1=oui, 0=non)')\n",
    "plt.show()"
   ]
  },
  {
   "cell_type": "markdown",
   "metadata": {},
   "source": [
    "Sans surprise, il y a une claire sous-représentation des livres issus de Babelio. Les livres issus des bases de données des bibliothèques de Paris sont les plus nombreux."
   ]
  },
  {
   "cell_type": "code",
   "execution_count": null,
   "metadata": {},
   "outputs": [],
   "source": [
    "# Comptage et proportions pour chaque top\n",
    "tops = ['top_fnac_1', 'top_fnac_2_plus', 'top_babelio', 'top_livraddict', 'any_top_indicator']\n",
    "for top in tops:\n",
    "    print(f\"\\nAnalyse pour {top}:\")\n",
    "    counts = final_data[top].value_counts()\n",
    "    proportions = final_data[top].value_counts(normalize=True) * 100\n",
    "    print(f\"Nombre de livres :\\n{counts}\")\n",
    "    print(f\"Proportions (%):\\n{proportions}\")\n",
    "\n",
    "\"\"\"\n",
    "Sur les 229 livres\n",
    "78 des livres sont dans au moins un top fnac du mois\n",
    "28 sont dans 2 top fnac ou plus (on eté plusieurs mois d'affilé dans le top fnac)\n",
    "25 sont dans le top babelio 2023\n",
    "85 sont dans le top livraddict 2023\n",
    "\n",
    "59 sont dans au moins un des top fnac, babelio ou livraddict\n",
    "\"\"\"\n",
    "\n",
    "# Visualisation\n",
    "title = \"nombre de livres par top\"\n",
    "counts.plot(kind='bar', title=f'Présence dans {top}', ylabel='Nombre de livres', xlabel=f'{top} (1=oui, 0=non)')\n",
    "plt.show()\n",
    "\n",
    "# ------------ Prix et présence dans les tops -------------\n",
    "\"\"\"\n",
    "on croise prix_19_20 avec any_top_indicator \n",
    "pour afficher la proportion de livres primés présents ou non dans les tops\n",
    "\"\"\"\n",
    "\n",
    "print(\"\\n--- Prix et présence dans les tops ---\")\n",
    "\n",
    "prix_et_any_top = pd.crosstab(final_data['prix_19_20'], final_data['any_top_indicator'], normalize='index') * 100\n",
    "\n",
    "print(\"Proportion de livres primés présents ou non dans les tops (%):\")\n",
    "print(prix_et_any_top)\n",
    "\n",
    "prix_et_any_top.plot(kind='bar', stacked=True, title='Prix littéraire et présence dans les tops', ylabel='Proportion (%)', xlabel='Prix littéraire (1=oui, 0=non)')\n",
    "plt.show()\n",
    "\n",
    "\"\"\"\n",
    "Parmi les livres primés (prix_19_20 = 1), seulement 7.81% sont \n",
    "présents dans un top, tandis que 92.19% ne figurent dans aucun top. \n",
    "Cela suggère que les livres primés ne sont pas nécessairement plus représentés \n",
    "dans les tops par rapport aux livres non primés.\n",
    "\"\"\"\n",
    "\n",
    "# ------------ Fréquence des auteurs -------------\n",
    "print(\"\\n--- Fréquence des auteurs ---\")\n",
    "\n",
    "auteur_counts = final_data['Auteur'].value_counts()\n",
    "\n",
    "print(\"Nombre de livres par auteur :\")\n",
    "print(auteur_counts)\n",
    "\n",
    "auteur_counts.head(10).plot(kind='bar', title='Top 10 des auteurs par nombre de livres', ylabel='Nombre de livres', xlabel='Auteur')\n",
    "plt.show()\n",
    "\n",
    "\"\"\"\n",
    "Les auteurs Sarah Rivens et Mr Tan se démarquent avec 4 livres chacun, \n",
    "suivis par Sibylle Grimbert et Neige Sinno avec 3 livres. Cependant, la majorité des 204 auteurs \n",
    "n'ont écrit qu'un seul livre, illustrant une forte diversité mais une faible répétition dans \n",
    "les contributions des auteurs.\n",
    "\"\"\"\n",
    "\n",
    "# ------------ Livres présents dans plusieurs tops -------------\n",
    "print(\"\\n--- Livres présents dans plusieurs tops ---\")\n",
    "tops_columns = ['top_fnac_1', 'top_babelio', 'top_livraddict']\n",
    "final_data['multiple_tops'] = (final_data[tops_columns].sum(axis=1) >= 2).astype(int)\n",
    "multiple_tops_counts = final_data['multiple_tops'].value_counts()\n",
    "multiple_tops_proportions = final_data['multiple_tops'].value_counts(normalize=True) * 100\n",
    "\n",
    "print(\"Nombre de livres présents dans au moins deux tops :\")\n",
    "print(multiple_tops_counts)\n",
    "print(\"\\nProportion de livres présents dans au moins deux tops (%):\")\n",
    "print(multiple_tops_proportions)\n",
    "\n",
    "multiple_tops_counts.plot(kind='bar', title='Livres présents dans au moins deux tops', ylabel='Nombre de livres', xlabel='Présence dans plusieurs tops (1=oui, 0=non)')\n",
    "plt.show()\n",
    "\n",
    "\"\"\"\n",
    "Seulement 17 livres (7,42%) sont présents dans au moins deux tops, \n",
    "tandis que la grande majorité (212 livres, 92,58%) n’apparaissent que \n",
    "dans un seul top ou aucun. Cela montre que peu de livres réussissent à \n",
    "se démarquer de manière significative dans plusieurs classements.\n",
    "\"\"\""
   ]
  }
 ],
 "metadata": {
  "kernelspec": {
   "display_name": "base",
   "language": "python",
   "name": "python3"
  },
  "language_info": {
   "codemirror_mode": {
    "name": "ipython",
    "version": 3
   },
   "file_extension": ".py",
   "mimetype": "text/x-python",
   "name": "python",
   "nbconvert_exporter": "python",
   "pygments_lexer": "ipython3",
   "version": "3.12.7"
  }
 },
 "nbformat": 4,
 "nbformat_minor": 2
}
