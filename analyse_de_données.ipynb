{
 "cells": [
  {
   "cell_type": "markdown",
   "metadata": {},
   "source": [
    "Imports"
   ]
  },
  {
   "cell_type": "code",
   "execution_count": 1,
   "metadata": {},
   "outputs": [],
   "source": [
    "import pandas as pd\n",
    "import matplotlib.pyplot as plt"
   ]
  },
  {
   "cell_type": "markdown",
   "metadata": {},
   "source": [
    "Pour analyser les données, afin de ne pas être obligés à chaque ouverture de run tout le code, on utilise directement le fichier csv créé."
   ]
  },
  {
   "cell_type": "code",
   "execution_count": 2,
   "metadata": {},
   "outputs": [],
   "source": [
    "final_data = pd.read_csv(\"Base finale.csv\")"
   ]
  },
  {
   "cell_type": "markdown",
   "metadata": {},
   "source": [
    "#Partie 1: Statistiques descriptives"
   ]
  },
  {
   "cell_type": "markdown",
   "metadata": {},
   "source": [
    "Avant de commencer cette partie, il nous parait pertinent de distinguer les tops fnac, babelio et des bibliothèques de Paris des données récupérées sur Livraddict et sur Wikipedia sur les prix littéraires. En effet, les trois premières bases mentionnées présentent les livres les plus populaires, c'est-à-dire les plus lus. Sur les bases Livraddict et Wikipedia, la liste de livres correspond aux livres jugés de meilleure qualité, que ce soit par les internautes ou par les spécialistes."
   ]
  },
  {
   "cell_type": "markdown",
   "metadata": {},
   "source": [
    "##A) Analyse des prix littéraires\n",
    "\n",
    "Plusieurs questions se posent à nous. Les livres populaires sont-ils aussi les livres les mieux notés ? Cela varie-t-il selon les plateformes considérées ? C'est-à-dire est-ce que les livres populaires sont-ils mieux représentés dans les listes de prix littéraires ou dans les classements de qualité faits par les internautes ? "
   ]
  },
  {
   "cell_type": "markdown",
   "metadata": {},
   "source": [
    "Tout d'abord, déterminons le nombre de livres populaires qui sont aussi dans les bases des prix littéraires et du classement des utilisateurs de Livraddict."
   ]
  },
  {
   "cell_type": "code",
   "execution_count": 3,
   "metadata": {},
   "outputs": [],
   "source": [
    "# on modifie la table pour créer une fonction qui renvoie quel type d'entité a reconnu la qualité du livre populaire \n",
    "# selon s'il est sur la base des prix, celle Livraddict, ou les deux\n",
    "\n",
    "def reconnu(row):\n",
    "    if row['prix_19_23'] == 1 and ((row['top_fnac_1'] == 1) or (row['top_babelio'] == 1) or (row['Top bibliothèque'] == 1)) and (row['top_livraddict'] == 0):\n",
    "        reconnu = 'Critique'\n",
    "    elif row['prix_19_23'] == 0 and ((row['top_fnac_1'] == 1) or (row['top_babelio'] == 1) or (row['Top bibliothèque'] == 1)) and (row['top_livraddict'] == 1):\n",
    "        reconnu = 'Internautes'\n",
    "    elif (row['prix_19_23'] == 1) and (row['top_livraddict'] == 1) and ((row['top_fnac_1'] == 1) or (row['top_babelio'] == 1) or (row['Top bibliothèque'] == 1)):\n",
    "        reconnu = 'Critique et internautes'\n",
    "    else:\n",
    "        reconnu = 'Aucun'\n",
    "    return reconnu"
   ]
  },
  {
   "cell_type": "code",
   "execution_count": 4,
   "metadata": {},
   "outputs": [],
   "source": [
    "final_data['Reconnu par'] = final_data.apply(reconnu, axis=1)"
   ]
  },
  {
   "cell_type": "code",
   "execution_count": 5,
   "metadata": {},
   "outputs": [
    {
     "name": "stdout",
     "output_type": "stream",
     "text": [
      "Nombre de livres dont la qualité est reconnue institutionnellement et par qui:\n",
      "Reconnu par\n",
      "Aucun          474\n",
      "Critique        11\n",
      "Internautes      6\n",
      "Name: count, dtype: int64\n",
      "\n",
      "Proportion de livres dont la qualité est reconnue institutionnellement et par qui (%):\n",
      "Reconnu par\n",
      "Aucun          96.537678\n",
      "Critique        2.240326\n",
      "Internautes     1.221996\n",
      "Name: proportion, dtype: float64\n"
     ]
    }
   ],
   "source": [
    "prix_counts = final_data['Reconnu par'].value_counts()\n",
    "prix_proportions = final_data['Reconnu par'].value_counts(normalize=True) * 100\n",
    "\n",
    "print(\"Nombre de livres dont la qualité est reconnue institutionnellement et par qui:\")\n",
    "print(prix_counts)\n",
    "print(\"\\nProportion de livres dont la qualité est reconnue institutionnellement et par qui (%):\")\n",
    "print(prix_proportions)"
   ]
  },
  {
   "cell_type": "code",
   "execution_count": 26,
   "metadata": {},
   "outputs": [
    {
     "data": {
      "image/png": "[encoded data removed]",
      "text/plain": [
       "<Figure size 640x480 with 1 Axes>"
      ]
     },
     "metadata": {},
     "output_type": "display_data"
    },
    {
     "data": {
      "text/plain": [
       "<Figure size 640x480 with 0 Axes>"
      ]
     },
     "metadata": {},
     "output_type": "display_data"
    }
   ],
   "source": [
    "# Visualisation des prix littéraires\n",
    "categories = [\"Aucun\", \"Critique\", \"Internautes\"]\n",
    "plt.barh(categories, prix_proportions, color=['blue', 'orange', 'green'])\n",
    "#plt.xscale('log')  # On applique l'échelle logarithmique pour que les petites valeurs soient mieux représentées\n",
    "\n",
    "plt.xlabel('Proportions en %')\n",
    "plt.title('Proportions de livres reconnus ou non institutionnellement')\n",
    "plt.show()\n",
    "\n",
    "plt.savefig(\"reco_institutionnelle.png\")"
   ]
  },
  {
   "cell_type": "markdown",
   "metadata": {},
   "source": [
    "On observe  une proportion très petite de livres reconnus institutionnellement parmi les plus populaires.\n",
    "\n",
    "On pourrait ainsi penser qu'il y a une dissociation entre les livres les plus lus et les mieux notés sur les applications et ceux ayant un prix. L'intersection est presque vide. On peut alors postuler d'une part que les livres de type best-sellers ne sont pas ceux qui sont primés ( les livres les plus primés illustrant le mécanisme de distinction théorisé par Bourdieu des élites). D'autre part, pour les autres bases, l'échantillon des lecteurs consignant les livres qu'ils ont lu et les notant dans les applications dédiées à cela n'est peut-être pas du tout représentatif. Ils pourraient par exemple venir majoritairement de milieux sociaux plutôt extérieurs à la culture légitime et donc du fait de cette caractéristique ne pas s'intéresser aux livres primés et avoir des critères de notation différents.\n",
    "\n",
    "Nous pensions que la deuxième hypothèse était probable, sauf qu'étonnamment, il y a encore moins de livres populaires parmi les mieux notés sur Livraddict. Sauf que cela est peut-être du au fait qu'il y a bien plus de livres renseignés comme ayant un prix sur Livraddict. De plus, il n'y avait de classement tel disponible sur Livraddict que pour 2023 alors que nous avons pu prendre tous les prix littéraires entre 2019 et 2023 lors du scrapping wikipedia. La comparaison de ces deux bases n'est donc peut-être pas pertinente."
   ]
  },
  {
   "cell_type": "markdown",
   "metadata": {},
   "source": [
    "Avant de passer à une étape ultérieure, observons quand même s'il y a une intersection entre les livres jugés de qualités sur Livraddict et ceux jugés de qualités par les professionnels octroyant les prix littéraires. Gardons néanmoins à l'esprit le fait que la base de Livraddict ne comporte que des livres publiés en 2023. Ainsi pour comparer les deux bases, ne conservons que les prix octroyés en 2023."
   ]
  },
  {
   "cell_type": "code",
   "execution_count": 7,
   "metadata": {},
   "outputs": [],
   "source": [
    "# on crée une base avec que les livres reconnus pour voir l'intersection sans s'occuper du reste\n",
    "df_reconnus = final_data[((final_data['prix_19_23'] == 1) & (final_data['Année'] == 2023)) | (final_data['top_livraddict'] == 1)]"
   ]
  },
  {
   "cell_type": "code",
   "execution_count": 8,
   "metadata": {},
   "outputs": [],
   "source": [
    "def reconnu_bis(row):\n",
    "    if row['prix_19_23'] == 1 and (row['top_livraddict'] == 0):\n",
    "        reconnu = 'Critique'\n",
    "    elif row['prix_19_23'] == 0 and (row['top_livraddict'] == 1):\n",
    "        reconnu = 'Internautes'\n",
    "    elif (row['prix_19_23'] == 1) and (row['top_livraddict'] == 1):\n",
    "        reconnu = 'Critique et internautes'\n",
    "    else:\n",
    "        reconnu = 'Aucun'\n",
    "    return reconnu"
   ]
  },
  {
   "cell_type": "code",
   "execution_count": 9,
   "metadata": {},
   "outputs": [],
   "source": [
    "df_reconnus.loc[:, 'Reconnu par'] = df_reconnus.apply(reconnu_bis, axis=1)"
   ]
  },
  {
   "cell_type": "code",
   "execution_count": 10,
   "metadata": {},
   "outputs": [
    {
     "name": "stdout",
     "output_type": "stream",
     "text": [
      "Nombre de livres en 2023 parmi les reconnus ayant obtenu un prix ou des bonnes notes d'internautes:\n",
      "Reconnu par\n",
      "Internautes    85\n",
      "Critique       53\n",
      "Name: count, dtype: int64\n",
      "\n",
      "Proportion de livres en 2023 parmi les reconnus ayant obtenu un prix ou des bonnes notes d'internautes (%):\n",
      "Reconnu par\n",
      "Internautes    61.594203\n",
      "Critique       38.405797\n",
      "Name: proportion, dtype: float64\n"
     ]
    }
   ],
   "source": [
    "commun = df_reconnus['Reconnu par'].value_counts()\n",
    "commun_proportions = df_reconnus['Reconnu par'].value_counts(normalize=True) * 100\n",
    "\n",
    "print(\"Nombre de livres en 2023 parmi les reconnus ayant obtenu un prix ou des bonnes notes d'internautes:\")\n",
    "print(commun)\n",
    "print(\"\\nProportion de livres en 2023 parmi les reconnus ayant obtenu un prix ou des bonnes notes d'internautes (%):\")\n",
    "print(commun_proportions)"
   ]
  },
  {
   "cell_type": "markdown",
   "metadata": {},
   "source": [
    "En 2023, il n'y a pas d'intersection entre les livres les mieux notés sur Livraddict et ceux ayant obtenus un prix. Cette observation est très intéressante. On pourrait penser que les livres ne se voient pas forcément accordés un prix l'année de leur parution, sauf que pour de nombreux livres de la base Wikipedia, l'année de parution coincide avec l'année à laquelle le livre a reçu son ou ses prix.\n",
    "\n",
    "In fine, on peut surtout en conclure que nos bases sur la reconnaissance institutionnelle des livre sont complémentaires. Elles permettent d'explorer deux formes de reconnaissance, et d'élargir notre analyse sur le lien entre note des livres et popularité.\n",
    "\n",
    "Ainsi, par la suite, nous allons surtout analyser une par une les bases de popularité, et les comparer entre elles. "
   ]
  },
  {
   "cell_type": "markdown",
   "metadata": {},
   "source": [
    "Tout d'abord, visualisons de manière générale la base. Tout d'abord, il est utile de savoir combien de livres proviennent de quelles bases, de voir quelle base fournit le plus de livres populaires, afin de pouvoir mieux interpréter les données."
   ]
  },
  {
   "cell_type": "code",
   "execution_count": 11,
   "metadata": {},
   "outputs": [],
   "source": [
    "df_popularity = final_data[\n",
    "    (final_data['top_fnac_1'] == 1) | \n",
    "    (final_data['top_fnac_2_plus'] == 1) | \n",
    "    (final_data['top_babelio'] == 1) | \n",
    "    (final_data['Top bibliothèque'] == 1)\n",
    "]"
   ]
  },
  {
   "cell_type": "code",
   "execution_count": 12,
   "metadata": {},
   "outputs": [
    {
     "name": "stdout",
     "output_type": "stream",
     "text": [
      "\n",
      "Analyse pour top_fnac_1:\n",
      "Nombre de livres :\n",
      "top_fnac_1\n",
      "0.0    96\n",
      "1.0    69\n",
      "Name: count, dtype: int64\n",
      "Proportions (%):\n",
      "top_fnac_1\n",
      "0.0    58.181818\n",
      "1.0    41.818182\n",
      "Name: proportion, dtype: float64\n",
      "\n",
      "Analyse pour top_babelio:\n",
      "Nombre de livres :\n",
      "top_babelio\n",
      "0.0    141\n",
      "1.0     24\n",
      "Name: count, dtype: int64\n",
      "Proportions (%):\n",
      "top_babelio\n",
      "0.0    85.454545\n",
      "1.0    14.545455\n",
      "Name: proportion, dtype: float64\n",
      "\n",
      "Analyse pour Top bibliothèque:\n",
      "Nombre de livres :\n",
      "Top bibliothèque\n",
      "1.0    86\n",
      "0.0    79\n",
      "Name: count, dtype: int64\n",
      "Proportions (%):\n",
      "Top bibliothèque\n",
      "1.0    52.121212\n",
      "0.0    47.878788\n",
      "Name: proportion, dtype: float64\n"
     ]
    }
   ],
   "source": [
    "# Comptage et proportions pour chaque top\n",
    "tops = ['top_fnac_1', 'top_babelio', 'Top bibliothèque']\n",
    "for top in tops:\n",
    "    print(f\"\\nAnalyse pour {top}:\")\n",
    "    counts = df_popularity[top].value_counts()\n",
    "    proportions = df_popularity[top].value_counts(normalize=True) * 100\n",
    "    print(f\"Nombre de livres :\\n{counts}\")\n",
    "    print(f\"Proportions (%):\\n{proportions}\")"
   ]
  },
  {
   "cell_type": "code",
   "execution_count": 13,
   "metadata": {},
   "outputs": [
    {
     "data": {
      "image/png": "[encoded data removed]",
      "text/plain": [
       "<Figure size 640x480 with 1 Axes>"
      ]
     },
     "metadata": {},
     "output_type": "display_data"
    }
   ],
   "source": [
    "# Visualisation \n",
    "categories = [\"Top fnac\", \"Top Babellio\", \"Top Bibliothèques\"]\n",
    "values = [69, 24, 86]\n",
    "plt.barh(categories, values, color=['blue', 'orange', 'green'])\n",
    "\n",
    "plt.xlabel('Nombre de livres')\n",
    "plt.title('La répartition de la provenance des livres populaires dans chacun des tops')\n",
    "plt.show()"
   ]
  },
  {
   "cell_type": "markdown",
   "metadata": {},
   "source": [
    "On voit que la base des livres les plus empruntés en bibliothèque domine numériquement nos données, même si la différence avec de taille entre cette dernière et celle des bestsellers fnac n'est pas si grande."
   ]
  },
  {
   "cell_type": "markdown",
   "metadata": {},
   "source": [
    "Regardons encore une fois s'il y a des croisement, des livres dans plusieurs tops."
   ]
  },
  {
   "cell_type": "code",
   "execution_count": 14,
   "metadata": {},
   "outputs": [
    {
     "name": "stdout",
     "output_type": "stream",
     "text": [
      "Nombre de livres présents dans au moins deux tops :\n",
      "multiple_tops\n",
      "0    477\n",
      "1     14\n",
      "Name: count, dtype: int64\n",
      "\n",
      "Proportion de livres présents dans au moins deux tops (%):\n",
      "multiple_tops\n",
      "0    97.148676\n",
      "1     2.851324\n",
      "Name: proportion, dtype: float64\n"
     ]
    }
   ],
   "source": [
    "tops_columns = ['top_fnac_1', 'top_babelio', 'Top bibliothèque']\n",
    "final_data['multiple_tops'] = (final_data[tops_columns].sum(axis=1) >= 2).astype(int)\n",
    "multiple_tops_counts = final_data['multiple_tops'].value_counts()\n",
    "multiple_tops_proportions = final_data['multiple_tops'].value_counts(normalize=True) * 100\n",
    "\n",
    "print(\"Nombre de livres présents dans au moins deux tops :\")\n",
    "print(multiple_tops_counts)\n",
    "print(\"\\nProportion de livres présents dans au moins deux tops (%):\")\n",
    "print(multiple_tops_proportions)"
   ]
  },
  {
   "cell_type": "markdown",
   "metadata": {},
   "source": [
    "Il n'y a que 14 livres en commun entre les tops. Encore une fois, c'est peu, même si mieux qu'entre les bases Wikipedia et Livraddict. Ces classements de popularité sont donc plus complémentaires, ce qui peut-être très intéressant dans le cadre de notre analyse. En effet, on peut supposer qu'il y a une différence d'échantillonnage entre les individus dont les lectures sont représentées par les bestsellers, ceux qui empruntent le plus dans les bibliothèque et ceux qui notent leurs lectures sur Babelio. On peut d'une part supposer une différence d'âge, notamment avec éventuellement des clients de bibliothèque plus jeunes, mais aussi des différences de milieux sociaux et de rapport à la lecture et à la littérature en tant qu'art. En effet, les utilisateurs de Babelio nous paraissent intuitivement des lecteurs plus réguliers, qui cherchent sûrement à se démarquer en ayant des lectures peut-être plus originales, par un mécanisme de distinction de la masse. Bien sûr, cela reste des suppositions, que nous devrions, si nous poussions ce projet plus loin, vérifier.\n",
    "\n",
    "Toutefois, ces constats restent tout de même utiles puisqu'ils nous permettent de juger pertinent de regarder dans quel type de base de livres populaire il y a le plus de livres bien notés ou récompensés par un prix."
   ]
  },
  {
   "cell_type": "markdown",
   "metadata": {},
   "source": [
    "Avant cela, nous pensons qu'il est nécessaire de mettre en avant l'existence d'une variable dans la base fnac indiquant si le livre a été un bestseller pendant plus d'un mois. Observons donc la proportion de livre au sein de la base fnac qui restent longtemps des bestsellers."
   ]
  },
  {
   "cell_type": "markdown",
   "metadata": {},
   "source": [
    "Sans surprise, il y a une nette sous-représentation des livres issus de Babelio. Les livres issus des bases de données des bibliothèques de Paris sont les plus nombreux."
   ]
  },
  {
   "cell_type": "code",
   "execution_count": 15,
   "metadata": {},
   "outputs": [],
   "source": [
    "final_fnac = final_data[(final_data['top_fnac_1'] == 1) | (final_data['top_fnac_2_plus'] == 1)]"
   ]
  },
  {
   "cell_type": "code",
   "execution_count": 16,
   "metadata": {},
   "outputs": [
    {
     "name": "stdout",
     "output_type": "stream",
     "text": [
      "Nombre de livres ayant été plus d'1 mois bestsellers en 2023:\n",
      "top_fnac_2_plus\n",
      "0.0    39\n",
      "1.0    30\n",
      "Name: count, dtype: int64\n",
      "\n",
      "Proportion de livres ayant été plus d'1 mois bestsellers en 2023 parmi les bestsellers (%):\n",
      "top_fnac_2_plus\n",
      "0.0    56.521739\n",
      "1.0    43.478261\n",
      "Name: proportion, dtype: float64\n"
     ]
    }
   ],
   "source": [
    "bestbestsellers = final_fnac['top_fnac_2_plus'].value_counts()\n",
    "bestbestsellers_proportions = final_fnac['top_fnac_2_plus'].value_counts(normalize=True) * 100\n",
    "\n",
    "print(\"Nombre de livres ayant été plus d'1 mois bestsellers en 2023:\")\n",
    "print(bestbestsellers)\n",
    "print(\"\\nProportion de livres ayant été plus d'1 mois bestsellers en 2023 parmi les bestsellers (%):\")\n",
    "print(bestbestsellers_proportions)"
   ]
  },
  {
   "cell_type": "markdown",
   "metadata": {},
   "source": [
    "On voit donc que à peu près 43% des bestsellers le reste pendant plus d'un mois."
   ]
  },
  {
   "cell_type": "markdown",
   "metadata": {},
   "source": [
    "Répondons donc maintenant à notre question: dans quel type de base indiquant la popularité y-a-t-il le plus de livre considérés de qualité ?"
   ]
  },
  {
   "cell_type": "markdown",
   "metadata": {},
   "source": [
    "Tout d'abord, procédons à une analyse un peu plus globale."
   ]
  },
  {
   "cell_type": "code",
   "execution_count": 17,
   "metadata": {},
   "outputs": [],
   "source": [
    "df_popularity.loc[:, 'Reconnu par'] = df_popularity.apply(reconnu_bis, axis=1)"
   ]
  },
  {
   "cell_type": "code",
   "execution_count": 18,
   "metadata": {},
   "outputs": [
    {
     "name": "stdout",
     "output_type": "stream",
     "text": [
      "Nombre de livres en 2023 parmi les plus populaires ayant obtenu un prix ou des bonnes notes d'internautes:\n",
      "Reconnu par\n",
      "Aucun          148\n",
      "Critique        11\n",
      "Internautes      6\n",
      "Name: count, dtype: int64\n",
      "\n",
      "Proportion de livres en 2023 parmi les plus populaires ayant obtenu un prix ou des bonnes notes d'internautes (%):\n",
      "Reconnu par\n",
      "Aucun          89.696970\n",
      "Critique        6.666667\n",
      "Internautes     3.636364\n",
      "Name: proportion, dtype: float64\n"
     ]
    }
   ],
   "source": [
    "reconnus = df_popularity['Reconnu par'].value_counts()\n",
    "reconnus_proportions = df_popularity['Reconnu par'].value_counts(normalize=True) * 100\n",
    "\n",
    "print(\"Nombre de livres en 2023 parmi les plus populaires ayant obtenu un prix ou des bonnes notes d'internautes:\")\n",
    "print(reconnus)\n",
    "print(\"\\nProportion de livres en 2023 parmi les plus populaires ayant obtenu un prix ou des bonnes notes d'internautes (%):\")\n",
    "print(reconnus_proportions)"
   ]
  },
  {
   "cell_type": "markdown",
   "metadata": {},
   "source": [
    "Si le nombre de livres populaires ayant reçu un prix ou étant parmi les livres les plus notés sur Livraddict reste le même, faire l'analyse dans ce sens et non pas dans le sens inverse nous permet d'avoir une meilleure idée de la proportion de livres populaires salués de la critique. On trouve qu'il y a en proportion plus de livres populaires salués par la critique que de livres primés populaire. Toutefois, cela est peut-être dû au fait que nous disposons de plus de données sur les livres primés grâce à wikipedia que de données sur les livres populaires. Pour que l'analyse soit plus rigoureuse, il faudrait raisonner au moins à échantillon équivalent. De plus, nous n'avons pas distingué les \"prix nobles\" des prix moins considérés par l'élite littéraire. Il se pourrait que cette intersection ne s'explique que par l'existence de prix \"moins noble\" pour ce qui est de la base wikipedia. Essayons de vérifier cela."
   ]
  },
  {
   "cell_type": "markdown",
   "metadata": {},
   "source": [
    "AFFICHONS LES NOMs DES PRIX => je vais les remettre dans la base pour faire ça !!"
   ]
  },
  {
   "cell_type": "markdown",
   "metadata": {},
   "source": [
    "Les bestsellers fnac et leur reconnaissance:"
   ]
  },
  {
   "cell_type": "code",
   "execution_count": 19,
   "metadata": {},
   "outputs": [],
   "source": [
    "final_fnac.loc[:, 'Reconnu par'] = final_fnac.apply(reconnu_bis, axis=1)"
   ]
  },
  {
   "cell_type": "code",
   "execution_count": 20,
   "metadata": {},
   "outputs": [
    {
     "name": "stdout",
     "output_type": "stream",
     "text": [
      "Nombre de livres en 2023 parmi les bestsellers fnac ayant obtenu un prix ou des bonnes notes d'internautes:\n",
      "Reconnu par\n",
      "Aucun          60\n",
      "Internautes     5\n",
      "Critique        4\n",
      "Name: count, dtype: int64\n",
      "\n",
      "Proportion de livres en 2023 parmi les bestsellers fnac ayant obtenu un prix ou des bonnes notes d'internautes (%):\n",
      "Reconnu par\n",
      "Aucun          86.956522\n",
      "Internautes     7.246377\n",
      "Critique        5.797101\n",
      "Name: proportion, dtype: float64\n"
     ]
    }
   ],
   "source": [
    "reconnus = final_fnac['Reconnu par'].value_counts()\n",
    "reconnus_proportions = final_fnac['Reconnu par'].value_counts(normalize=True) * 100\n",
    "\n",
    "print(\"Nombre de livres en 2023 parmi les bestsellers fnac ayant obtenu un prix ou des bonnes notes d'internautes:\")\n",
    "print(reconnus)\n",
    "print(\"\\nProportion de livres en 2023 parmi les bestsellers fnac ayant obtenu un prix ou des bonnes notes d'internautes (%):\")\n",
    "print(reconnus_proportions)"
   ]
  },
  {
   "cell_type": "markdown",
   "metadata": {},
   "source": [
    "Regardons s'il y a une surreprésentation des livres reconnus institutionnellement parmi les bestsellers s'étant maintenus au sommet des ventes pendant plusieurs mois."
   ]
  },
  {
   "cell_type": "code",
   "execution_count": 21,
   "metadata": {},
   "outputs": [],
   "source": [
    "best_fnac = final_fnac[final_fnac['top_fnac_2_plus']==1]"
   ]
  },
  {
   "cell_type": "code",
   "execution_count": 22,
   "metadata": {},
   "outputs": [],
   "source": [
    "best_fnac.loc[:, 'Reconnu par'] = best_fnac.apply(reconnu_bis, axis=1)"
   ]
  },
  {
   "cell_type": "code",
   "execution_count": 23,
   "metadata": {},
   "outputs": [
    {
     "name": "stdout",
     "output_type": "stream",
     "text": [
      "Nombre de livres en 2023 parmi les bestsellers fnac les plus vendus ayant obtenu un prix ou des bonnes notes d'internautes:\n",
      "Reconnu par\n",
      "Aucun          24\n",
      "Critique        4\n",
      "Internautes     2\n",
      "Name: count, dtype: int64\n",
      "\n",
      "Proportion de livres en 2023 parmi les bestsellers fnac les plus vendus ayant obtenu un prix ou des bonnes notes d'internautes (%):\n",
      "Reconnu par\n",
      "Aucun          80.000000\n",
      "Critique       13.333333\n",
      "Internautes     6.666667\n",
      "Name: proportion, dtype: float64\n"
     ]
    }
   ],
   "source": [
    "reconnus = best_fnac['Reconnu par'].value_counts()\n",
    "reconnus_proportions = best_fnac['Reconnu par'].value_counts(normalize=True) * 100\n",
    "\n",
    "print(\"Nombre de livres en 2023 parmi les bestsellers fnac les plus vendus ayant obtenu un prix ou des bonnes notes d'internautes:\")\n",
    "print(reconnus)\n",
    "print(\"\\nProportion de livres en 2023 parmi les bestsellers fnac les plus vendus ayant obtenu un prix ou des bonnes notes d'internautes (%):\")\n",
    "print(reconnus_proportions)"
   ]
  },
  {
   "cell_type": "markdown",
   "metadata": {},
   "source": [
    "On voit en effet que parmi ces \"super bestsellers\", la proportion de livres salués par la critique ou par la communauté des internautes est plus importante. Représentons tout ça graphiquement."
   ]
  },
  {
   "cell_type": "code",
   "execution_count": 24,
   "metadata": {},
   "outputs": [
    {
     "data": {
      "image/png": "[encoded data removed]",
      "text/plain": [
       "<Figure size 640x480 with 1 Axes>"
      ]
     },
     "metadata": {},
     "output_type": "display_data"
    }
   ],
   "source": [
    "categories = [\"Bestsellers avec prix littéraire\",\"Bestsellers top Livraddict\", \"'Super' Bestsellers avec prix littéraire\", \"'Super' Bestsellers top Livraddict\" ]\n",
    "values = [5.797101, 7.246377, 13.333333, 6.666667 ]\n",
    "plt.barh(categories, values, color=['blue', 'orange', 'green', 'purple'])\n",
    "\n",
    "plt.xlabel('Proportion en %')\n",
    "plt.title('Proportion de bestsellers fnac à être salués par la critique')\n",
    "plt.show()"
   ]
  },
  {
   "cell_type": "markdown",
   "metadata": {},
   "source": [
    "Il n'y a pas de différence flagrante de proportion de livres faisant partie du top Livraddict entre l'ensemble des bestsellers et les \"super bestsellers\". Par contre, il y a une différence plus flagrante en terme de prix littéraire, d'environ sept points de pourcentages. Toutefois, cette différence est évidemment à nuancer étant donné la taille des échantillons. Il n'en reste qu'il est intéressant d'observer que les plus gros bestsellers ont une propension plus grande à avoir été primés que les autres bestsellers, même si la proportion de livres primés reste plutôt faible."
   ]
  },
  {
   "cell_type": "markdown",
   "metadata": {},
   "source": [
    "ANALYSES SIMILAIRES AVEC LES AUTRES BASES A CONTINUER"
   ]
  },
  {
   "cell_type": "markdown",
   "metadata": {},
   "source": [
    "A LA FIN: PARENTHESE SUR DES AUTRES CARACTERISTIQUES DES OUVRAGES"
   ]
  },
  {
   "cell_type": "code",
   "execution_count": 25,
   "metadata": {},
   "outputs": [
    {
     "name": "stdout",
     "output_type": "stream",
     "text": [
      "\n",
      "--- Fréquence des auteurs ---\n",
      "Nombre de livres par auteur :\n",
      "Auteur\n",
      "Oda,  Eiichiro         7\n",
      "Kishimoto,  Masashi    5\n",
      "Shirai,  Kaiu          4\n",
      "Sarah Rivens           3\n",
      "Amélie Nothomb         3\n",
      "                      ..\n",
      "Benoît Sagaro          1\n",
      "John Gwynne            1\n",
      "Joe Todd-Stanton       1\n",
      "Hugo Micheron          1\n",
      "Ellie Midwood          1\n",
      "Name: count, Length: 446, dtype: int64\n"
     ]
    },
    {
     "data": {
      "image/png": "[encoded data removed]",
      "text/plain": [
       "<Figure size 640x480 with 1 Axes>"
      ]
     },
     "metadata": {},
     "output_type": "display_data"
    },
    {
     "data": {
      "text/plain": [
       "\"\\nLes auteurs Sarah Rivens et Mr Tan se démarquent avec 4 livres chacun, \\nsuivis par Sibylle Grimbert et Neige Sinno avec 3 livres. Cependant, la majorité des 204 auteurs \\nn'ont écrit qu'un seul livre, illustrant une forte diversité mais une faible répétition dans \\nles contributions des auteurs.\\n\""
      ]
     },
     "execution_count": 25,
     "metadata": {},
     "output_type": "execute_result"
    }
   ],
   "source": [
    "# ------------ Fréquence des auteurs -------------\n",
    "print(\"\\n--- Fréquence des auteurs ---\")\n",
    "\n",
    "auteur_counts = final_data['Auteur'].value_counts()\n",
    "\n",
    "print(\"Nombre de livres par auteur :\")\n",
    "print(auteur_counts)\n",
    "\n",
    "auteur_counts.head(10).plot(kind='bar', title='Top 10 des auteurs par nombre de livres', ylabel='Nombre de livres', xlabel='Auteur')\n",
    "plt.show()\n",
    "\n",
    "\"\"\"\n",
    "Les auteurs Sarah Rivens et Mr Tan se démarquent avec 4 livres chacun, \n",
    "suivis par Sibylle Grimbert et Neige Sinno avec 3 livres. Cependant, la majorité des 204 auteurs \n",
    "n'ont écrit qu'un seul livre, illustrant une forte diversité mais une faible répétition dans \n",
    "les contributions des auteurs.\n",
    "\"\"\"\n"
   ]
  }
 ],
 "metadata": {
  "kernelspec": {
   "display_name": "base",
   "language": "python",
   "name": "python3"
  },
  "language_info": {
   "codemirror_mode": {
    "name": "ipython",
    "version": 3
   },
   "file_extension": ".py",
   "mimetype": "text/x-python",
   "name": "python",
   "nbconvert_exporter": "python",
   "pygments_lexer": "ipython3",
   "version": "3.12.7"
  }
 },
 "nbformat": 4,
 "nbformat_minor": 2
}
